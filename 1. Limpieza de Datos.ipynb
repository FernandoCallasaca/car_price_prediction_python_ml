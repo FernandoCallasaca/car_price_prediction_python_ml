{
 "cells": [
  {
   "cell_type": "markdown",
   "source": "# Preparamos nuestro entorno de trabajo",
   "metadata": {
    "cell_id": "c63e4fd0-7bc3-4596-ac19-27d6d998ba4f",
    "tags": [],
    "is_collapsed": false,
    "deepnote_cell_type": "text-cell-h1"
   }
  },
  {
   "cell_type": "code",
   "metadata": {
    "cell_id": "9731ab32-3301-4115-be55-0d84773e4e40",
    "tags": [],
    "deepnote_to_be_reexecuted": false,
    "source_hash": "9cf760dc",
    "execution_start": 1645722483629,
    "execution_millis": 3201,
    "deepnote_cell_type": "code"
   },
   "source": "import pandas as pd\nimport numpy as np\nimport matplotlib.pyplot as plt\n%matplotlib inline\nimport seaborn as sns\nfrom scipy import stats\npd.__version__",
   "execution_count": 1,
   "outputs": [
    {
     "output_type": "execute_result",
     "execution_count": 1,
     "data": {
      "text/plain": "'1.2.5'"
     },
     "metadata": {}
    }
   ]
  },
  {
   "cell_type": "markdown",
   "source": "## Leemos nuestro dataset",
   "metadata": {
    "cell_id": "70316d00-2f4c-446a-98ab-d65e5f3092d9",
    "tags": [],
    "is_collapsed": false,
    "deepnote_cell_type": "text-cell-h2"
   }
  },
  {
   "cell_type": "code",
   "metadata": {
    "cell_id": "4113af7a-2dac-4522-beae-0afe122a7bb8",
    "tags": [],
    "deepnote_to_be_reexecuted": false,
    "source_hash": "f0867366",
    "execution_start": 1645722554943,
    "execution_millis": 3,
    "deepnote_cell_type": "code"
   },
   "source": "path_file = 'auto.csv'",
   "execution_count": 2,
   "outputs": []
  },
  {
   "cell_type": "code",
   "source": "headers = [\"symboling\",\"normalized-losses\",\"make\",\"fuel-type\",\"aspiration\", \"num-of-doors\",\"body-style\",\n         \"drive-wheels\",\"engine-location\",\"wheel-base\", \"length\",\"width\",\"height\",\"curb-weight\",\"engine-type\",\n         \"num-of-cylinders\", \"engine-size\",\"fuel-system\",\"bore\",\"stroke\",\"compression-ratio\",\"horsepower\",\n         \"peak-rpm\",\"city-mpg\",\"highway-mpg\",\"price\"]",
   "metadata": {
    "cell_id": "fb85cb7b-adbc-4bc5-8be7-18060a8def23",
    "tags": [],
    "deepnote_to_be_reexecuted": false,
    "source_hash": "4d56e830",
    "execution_start": 1645723391771,
    "execution_millis": 3,
    "deepnote_cell_type": "code"
   },
   "outputs": [],
   "execution_count": 5
  },
  {
   "cell_type": "code",
   "metadata": {
    "cell_id": "0bca6d3b-1954-4a21-bbed-26355c361275",
    "tags": [],
    "deepnote_to_be_reexecuted": false,
    "source_hash": "73aed4a0",
    "execution_start": 1645723421063,
    "execution_millis": 136,
    "deepnote_cell_type": "code"
   },
   "source": "df_auto = pd.read_csv(path_file, names=headers)\ndf_auto",
   "execution_count": 6,
   "outputs": [
    {
     "output_type": "execute_result",
     "execution_count": 6,
     "data": {
      "application/vnd.deepnote.dataframe.v3+json": {
       "column_count": 26,
       "row_count": 205,
       "columns": [
        {
         "name": "symboling",
         "dtype": "int64",
         "stats": {
          "unique_count": 6,
          "nan_count": 0,
          "min": "-2",
          "max": "3",
          "histogram": [
           {
            "bin_start": -2,
            "bin_end": -1.5,
            "count": 3
           },
           {
            "bin_start": -1.5,
            "bin_end": -1,
            "count": 0
           },
           {
            "bin_start": -1,
            "bin_end": -0.5,
            "count": 22
           },
           {
            "bin_start": -0.5,
            "bin_end": 0,
            "count": 0
           },
           {
            "bin_start": 0,
            "bin_end": 0.5,
            "count": 67
           },
           {
            "bin_start": 0.5,
            "bin_end": 1,
            "count": 0
           },
           {
            "bin_start": 1,
            "bin_end": 1.5,
            "count": 54
           },
           {
            "bin_start": 1.5,
            "bin_end": 2,
            "count": 0
           },
           {
            "bin_start": 2,
            "bin_end": 2.5,
            "count": 32
           },
           {
            "bin_start": 2.5,
            "bin_end": 3,
            "count": 27
           }
          ]
         }
        },
        {
         "name": "normalized-losses",
         "dtype": "object",
         "stats": {
          "unique_count": 52,
          "nan_count": 0,
          "categories": [
           {
            "name": "?",
            "count": 41
           },
           {
            "name": "161",
            "count": 11
           },
           {
            "name": "50 others",
            "count": 153
           }
          ]
         }
        },
        {
         "name": "make",
         "dtype": "object",
         "stats": {
          "unique_count": 22,
          "nan_count": 0,
          "categories": [
           {
            "name": "toyota",
            "count": 32
           },
           {
            "name": "nissan",
            "count": 18
           },
           {
            "name": "20 others",
            "count": 155
           }
          ]
         }
        },
        {
         "name": "fuel-type",
         "dtype": "object",
         "stats": {
          "unique_count": 2,
          "nan_count": 0,
          "categories": [
           {
            "name": "gas",
            "count": 185
           },
           {
            "name": "diesel",
            "count": 20
           }
          ]
         }
        },
        {
         "name": "aspiration",
         "dtype": "object",
         "stats": {
          "unique_count": 2,
          "nan_count": 0,
          "categories": [
           {
            "name": "std",
            "count": 168
           },
           {
            "name": "turbo",
            "count": 37
           }
          ]
         }
        },
        {
         "name": "num-of-doors",
         "dtype": "object",
         "stats": {
          "unique_count": 3,
          "nan_count": 0,
          "categories": [
           {
            "name": "four",
            "count": 114
           },
           {
            "name": "two",
            "count": 89
           },
           {
            "name": "?",
            "count": 2
           }
          ]
         }
        },
        {
         "name": "body-style",
         "dtype": "object",
         "stats": {
          "unique_count": 5,
          "nan_count": 0,
          "categories": [
           {
            "name": "sedan",
            "count": 96
           },
           {
            "name": "hatchback",
            "count": 70
           },
           {
            "name": "3 others",
            "count": 39
           }
          ]
         }
        },
        {
         "name": "drive-wheels",
         "dtype": "object",
         "stats": {
          "unique_count": 3,
          "nan_count": 0,
          "categories": [
           {
            "name": "fwd",
            "count": 120
           },
           {
            "name": "rwd",
            "count": 76
           },
           {
            "name": "4wd",
            "count": 9
           }
          ]
         }
        },
        {
         "name": "engine-location",
         "dtype": "object",
         "stats": {
          "unique_count": 2,
          "nan_count": 0,
          "categories": [
           {
            "name": "front",
            "count": 202
           },
           {
            "name": "rear",
            "count": 3
           }
          ]
         }
        },
        {
         "name": "wheel-base",
         "dtype": "float64",
         "stats": {
          "unique_count": 53,
          "nan_count": 0,
          "min": "86.6",
          "max": "120.9",
          "histogram": [
           {
            "bin_start": 86.6,
            "bin_end": 90.03,
            "count": 8
           },
           {
            "bin_start": 90.03,
            "bin_end": 93.46,
            "count": 9
           },
           {
            "bin_start": 93.46,
            "bin_end": 96.89,
            "count": 83
           },
           {
            "bin_start": 96.89,
            "bin_end": 100.32,
            "count": 42
           },
           {
            "bin_start": 100.32,
            "bin_end": 103.75,
            "count": 24
           },
           {
            "bin_start": 103.75,
            "bin_end": 107.18,
            "count": 14
           },
           {
            "bin_start": 107.18,
            "bin_end": 110.61,
            "count": 15
           },
           {
            "bin_start": 110.61,
            "bin_end": 114.04,
            "count": 3
           },
           {
            "bin_start": 114.04,
            "bin_end": 117.47,
            "count": 6
           },
           {
            "bin_start": 117.47,
            "bin_end": 120.9,
            "count": 1
           }
          ]
         }
        },
        {
         "name": "length",
         "dtype": "float64",
         "stats": {
          "unique_count": 75,
          "nan_count": 0,
          "min": "141.1",
          "max": "208.1",
          "histogram": [
           {
            "bin_start": 141.1,
            "bin_end": 147.79999999999998,
            "count": 3
           },
           {
            "bin_start": 147.79999999999998,
            "bin_end": 154.5,
            "count": 3
           },
           {
            "bin_start": 154.5,
            "bin_end": 161.2,
            "count": 29
           },
           {
            "bin_start": 161.2,
            "bin_end": 167.9,
            "count": 23
           },
           {
            "bin_start": 167.9,
            "bin_end": 174.6,
            "count": 54
           },
           {
            "bin_start": 174.6,
            "bin_end": 181.3,
            "count": 39
           },
           {
            "bin_start": 181.3,
            "bin_end": 188,
            "count": 23
           },
           {
            "bin_start": 188,
            "bin_end": 194.7,
            "count": 20
           },
           {
            "bin_start": 194.7,
            "bin_end": 201.4,
            "count": 8
           },
           {
            "bin_start": 201.4,
            "bin_end": 208.1,
            "count": 3
           }
          ]
         }
        },
        {
         "name": "width",
         "dtype": "float64",
         "stats": {
          "unique_count": 44,
          "nan_count": 0,
          "min": "60.3",
          "max": "72.3",
          "histogram": [
           {
            "bin_start": 60.3,
            "bin_end": 61.5,
            "count": 1
           },
           {
            "bin_start": 61.5,
            "bin_end": 62.699999999999996,
            "count": 2
           },
           {
            "bin_start": 62.699999999999996,
            "bin_end": 63.9,
            "count": 36
           },
           {
            "bin_start": 63.9,
            "bin_end": 65.1,
            "count": 39
           },
           {
            "bin_start": 65.1,
            "bin_end": 66.3,
            "count": 44
           },
           {
            "bin_start": 66.3,
            "bin_end": 67.5,
            "count": 42
           },
           {
            "bin_start": 67.5,
            "bin_end": 68.7,
            "count": 20
           },
           {
            "bin_start": 68.7,
            "bin_end": 69.89999999999999,
            "count": 7
           },
           {
            "bin_start": 69.89999999999999,
            "bin_end": 71.1,
            "count": 6
           },
           {
            "bin_start": 71.1,
            "bin_end": 72.3,
            "count": 8
           }
          ]
         }
        },
        {
         "name": "height",
         "dtype": "float64",
         "stats": {
          "unique_count": 49,
          "nan_count": 0,
          "min": "47.8",
          "max": "59.8",
          "histogram": [
           {
            "bin_start": 47.8,
            "bin_end": 49,
            "count": 3
           },
           {
            "bin_start": 49,
            "bin_end": 50.199999999999996,
            "count": 9
           },
           {
            "bin_start": 50.199999999999996,
            "bin_end": 51.4,
            "count": 28
           },
           {
            "bin_start": 51.4,
            "bin_end": 52.599999999999994,
            "count": 25
           },
           {
            "bin_start": 52.599999999999994,
            "bin_end": 53.8,
            "count": 33
           },
           {
            "bin_start": 53.8,
            "bin_end": 55,
            "count": 41
           },
           {
            "bin_start": 55,
            "bin_end": 56.199999999999996,
            "count": 38
           },
           {
            "bin_start": 56.199999999999996,
            "bin_end": 57.4,
            "count": 15
           },
           {
            "bin_start": 57.4,
            "bin_end": 58.599999999999994,
            "count": 4
           },
           {
            "bin_start": 58.599999999999994,
            "bin_end": 59.8,
            "count": 9
           }
          ]
         }
        },
        {
         "name": "curb-weight",
         "dtype": "int64",
         "stats": {
          "unique_count": 171,
          "nan_count": 0,
          "min": "1488",
          "max": "4066",
          "histogram": [
           {
            "bin_start": 1488,
            "bin_end": 1745.8,
            "count": 2
           },
           {
            "bin_start": 1745.8,
            "bin_end": 2003.6,
            "count": 29
           },
           {
            "bin_start": 2003.6,
            "bin_end": 2261.4,
            "count": 33
           },
           {
            "bin_start": 2261.4,
            "bin_end": 2519.2,
            "count": 50
           },
           {
            "bin_start": 2519.2,
            "bin_end": 2777,
            "count": 25
           },
           {
            "bin_start": 2777,
            "bin_end": 3034.8,
            "count": 23
           },
           {
            "bin_start": 3034.8,
            "bin_end": 3292.6000000000004,
            "count": 26
           },
           {
            "bin_start": 3292.6000000000004,
            "bin_end": 3550.4,
            "count": 8
           },
           {
            "bin_start": 3550.4,
            "bin_end": 3808.2000000000003,
            "count": 5
           },
           {
            "bin_start": 3808.2000000000003,
            "bin_end": 4066,
            "count": 4
           }
          ]
         }
        },
        {
         "name": "engine-type",
         "dtype": "object",
         "stats": {
          "unique_count": 7,
          "nan_count": 0,
          "categories": [
           {
            "name": "ohc",
            "count": 148
           },
           {
            "name": "ohcf",
            "count": 15
           },
           {
            "name": "5 others",
            "count": 42
           }
          ]
         }
        },
        {
         "name": "num-of-cylinders",
         "dtype": "object",
         "stats": {
          "unique_count": 7,
          "nan_count": 0,
          "categories": [
           {
            "name": "four",
            "count": 159
           },
           {
            "name": "six",
            "count": 24
           },
           {
            "name": "5 others",
            "count": 22
           }
          ]
         }
        },
        {
         "name": "engine-size",
         "dtype": "int64",
         "stats": {
          "unique_count": 44,
          "nan_count": 0,
          "min": "61",
          "max": "326",
          "histogram": [
           {
            "bin_start": 61,
            "bin_end": 87.5,
            "count": 6
           },
           {
            "bin_start": 87.5,
            "bin_end": 114,
            "count": 95
           },
           {
            "bin_start": 114,
            "bin_end": 140.5,
            "count": 46
           },
           {
            "bin_start": 140.5,
            "bin_end": 167,
            "count": 30
           },
           {
            "bin_start": 167,
            "bin_end": 193.5,
            "count": 14
           },
           {
            "bin_start": 193.5,
            "bin_end": 220,
            "count": 7
           },
           {
            "bin_start": 220,
            "bin_end": 246.5,
            "count": 2
           },
           {
            "bin_start": 246.5,
            "bin_end": 273,
            "count": 2
           },
           {
            "bin_start": 273,
            "bin_end": 299.5,
            "count": 0
           },
           {
            "bin_start": 299.5,
            "bin_end": 326,
            "count": 3
           }
          ]
         }
        },
        {
         "name": "fuel-system",
         "dtype": "object",
         "stats": {
          "unique_count": 8,
          "nan_count": 0,
          "categories": [
           {
            "name": "mpfi",
            "count": 94
           },
           {
            "name": "2bbl",
            "count": 66
           },
           {
            "name": "6 others",
            "count": 45
           }
          ]
         }
        },
        {
         "name": "bore",
         "dtype": "object",
         "stats": {
          "unique_count": 39,
          "nan_count": 0,
          "categories": [
           {
            "name": "3.62",
            "count": 23
           },
           {
            "name": "3.19",
            "count": 20
           },
           {
            "name": "37 others",
            "count": 162
           }
          ]
         }
        },
        {
         "name": "stroke",
         "dtype": "object",
         "stats": {
          "unique_count": 37,
          "nan_count": 0,
          "categories": [
           {
            "name": "3.40",
            "count": 20
           },
           {
            "name": "3.03",
            "count": 14
           },
           {
            "name": "35 others",
            "count": 171
           }
          ]
         }
        },
        {
         "name": "compression-ratio",
         "dtype": "float64",
         "stats": {
          "unique_count": 32,
          "nan_count": 0,
          "min": "7.0",
          "max": "23.0",
          "histogram": [
           {
            "bin_start": 7,
            "bin_end": 8.6,
            "count": 51
           },
           {
            "bin_start": 8.6,
            "bin_end": 10.2,
            "count": 133
           },
           {
            "bin_start": 10.2,
            "bin_end": 11.8,
            "count": 1
           },
           {
            "bin_start": 11.8,
            "bin_end": 13.4,
            "count": 0
           },
           {
            "bin_start": 13.4,
            "bin_end": 15,
            "count": 0
           },
           {
            "bin_start": 15,
            "bin_end": 16.6,
            "count": 0
           },
           {
            "bin_start": 16.6,
            "bin_end": 18.200000000000003,
            "count": 0
           },
           {
            "bin_start": 18.200000000000003,
            "bin_end": 19.8,
            "count": 0
           },
           {
            "bin_start": 19.8,
            "bin_end": 21.4,
            "count": 5
           },
           {
            "bin_start": 21.4,
            "bin_end": 23,
            "count": 15
           }
          ]
         }
        },
        {
         "name": "horsepower",
         "dtype": "object",
         "stats": {
          "unique_count": 60,
          "nan_count": 0,
          "categories": [
           {
            "name": "68",
            "count": 19
           },
           {
            "name": "70",
            "count": 11
           },
           {
            "name": "58 others",
            "count": 175
           }
          ]
         }
        },
        {
         "name": "peak-rpm",
         "dtype": "object",
         "stats": {
          "unique_count": 24,
          "nan_count": 0,
          "categories": [
           {
            "name": "5500",
            "count": 37
           },
           {
            "name": "4800",
            "count": 36
           },
           {
            "name": "22 others",
            "count": 132
           }
          ]
         }
        },
        {
         "name": "city-mpg",
         "dtype": "int64",
         "stats": {
          "unique_count": 29,
          "nan_count": 0,
          "min": "13",
          "max": "49",
          "histogram": [
           {
            "bin_start": 13,
            "bin_end": 16.6,
            "count": 12
           },
           {
            "bin_start": 16.6,
            "bin_end": 20.2,
            "count": 46
           },
           {
            "bin_start": 20.2,
            "bin_end": 23.8,
            "count": 24
           },
           {
            "bin_start": 23.8,
            "bin_end": 27.4,
            "count": 56
           },
           {
            "bin_start": 27.4,
            "bin_end": 31,
            "count": 18
           },
           {
            "bin_start": 31,
            "bin_end": 34.6,
            "count": 31
           },
           {
            "bin_start": 34.6,
            "bin_end": 38.2,
            "count": 15
           },
           {
            "bin_start": 38.2,
            "bin_end": 41.8,
            "count": 0
           },
           {
            "bin_start": 41.8,
            "bin_end": 45.4,
            "count": 1
           },
           {
            "bin_start": 45.4,
            "bin_end": 49,
            "count": 2
           }
          ]
         }
        },
        {
         "name": "highway-mpg",
         "dtype": "int64",
         "stats": {
          "unique_count": 30,
          "nan_count": 0,
          "min": "16",
          "max": "54",
          "histogram": [
           {
            "bin_start": 16,
            "bin_end": 19.8,
            "count": 7
           },
           {
            "bin_start": 19.8,
            "bin_end": 23.6,
            "count": 17
           },
           {
            "bin_start": 23.6,
            "bin_end": 27.4,
            "count": 44
           },
           {
            "bin_start": 27.4,
            "bin_end": 31.2,
            "count": 47
           },
           {
            "bin_start": 31.2,
            "bin_end": 35,
            "count": 39
           },
           {
            "bin_start": 35,
            "bin_end": 38.8,
            "count": 32
           },
           {
            "bin_start": 38.8,
            "bin_end": 42.599999999999994,
            "count": 8
           },
           {
            "bin_start": 42.599999999999994,
            "bin_end": 46.4,
            "count": 6
           },
           {
            "bin_start": 46.4,
            "bin_end": 50.199999999999996,
            "count": 3
           },
           {
            "bin_start": 50.199999999999996,
            "bin_end": 54,
            "count": 2
           }
          ]
         }
        },
        {
         "name": "price",
         "dtype": "object",
         "stats": {
          "unique_count": 187,
          "nan_count": 0,
          "categories": [
           {
            "name": "?",
            "count": 4
           },
           {
            "name": "16500",
            "count": 2
           },
           {
            "name": "185 others",
            "count": 199
           }
          ]
         }
        },
        {
         "name": "_deepnote_index_column",
         "dtype": "int64"
        }
       ],
       "rows": [
        {
         "symboling": 3,
         "normalized-losses": "?",
         "make": "alfa-romero",
         "fuel-type": "gas",
         "aspiration": "std",
         "num-of-doors": "two",
         "body-style": "convertible",
         "drive-wheels": "rwd",
         "engine-location": "front",
         "wheel-base": 88.6,
         "length": 168.8,
         "width": 64.1,
         "height": 48.8,
         "curb-weight": 2548,
         "engine-type": "dohc",
         "num-of-cylinders": "four",
         "engine-size": 130,
         "fuel-system": "mpfi",
         "bore": "3.47",
         "stroke": "2.68",
         "compression-ratio": 9,
         "horsepower": "111",
         "peak-rpm": "5000",
         "city-mpg": 21,
         "highway-mpg": 27,
         "price": "13495",
         "_deepnote_index_column": 0
        },
        {
         "symboling": 3,
         "normalized-losses": "?",
         "make": "alfa-romero",
         "fuel-type": "gas",
         "aspiration": "std",
         "num-of-doors": "two",
         "body-style": "convertible",
         "drive-wheels": "rwd",
         "engine-location": "front",
         "wheel-base": 88.6,
         "length": 168.8,
         "width": 64.1,
         "height": 48.8,
         "curb-weight": 2548,
         "engine-type": "dohc",
         "num-of-cylinders": "four",
         "engine-size": 130,
         "fuel-system": "mpfi",
         "bore": "3.47",
         "stroke": "2.68",
         "compression-ratio": 9,
         "horsepower": "111",
         "peak-rpm": "5000",
         "city-mpg": 21,
         "highway-mpg": 27,
         "price": "16500",
         "_deepnote_index_column": 1
        },
        {
         "symboling": 1,
         "normalized-losses": "?",
         "make": "alfa-romero",
         "fuel-type": "gas",
         "aspiration": "std",
         "num-of-doors": "two",
         "body-style": "hatchback",
         "drive-wheels": "rwd",
         "engine-location": "front",
         "wheel-base": 94.5,
         "length": 171.2,
         "width": 65.5,
         "height": 52.4,
         "curb-weight": 2823,
         "engine-type": "ohcv",
         "num-of-cylinders": "six",
         "engine-size": 152,
         "fuel-system": "mpfi",
         "bore": "2.68",
         "stroke": "3.47",
         "compression-ratio": 9,
         "horsepower": "154",
         "peak-rpm": "5000",
         "city-mpg": 19,
         "highway-mpg": 26,
         "price": "16500",
         "_deepnote_index_column": 2
        },
        {
         "symboling": 2,
         "normalized-losses": "164",
         "make": "audi",
         "fuel-type": "gas",
         "aspiration": "std",
         "num-of-doors": "four",
         "body-style": "sedan",
         "drive-wheels": "fwd",
         "engine-location": "front",
         "wheel-base": 99.8,
         "length": 176.6,
         "width": 66.2,
         "height": 54.3,
         "curb-weight": 2337,
         "engine-type": "ohc",
         "num-of-cylinders": "four",
         "engine-size": 109,
         "fuel-system": "mpfi",
         "bore": "3.19",
         "stroke": "3.40",
         "compression-ratio": 10,
         "horsepower": "102",
         "peak-rpm": "5500",
         "city-mpg": 24,
         "highway-mpg": 30,
         "price": "13950",
         "_deepnote_index_column": 3
        },
        {
         "symboling": 2,
         "normalized-losses": "164",
         "make": "audi",
         "fuel-type": "gas",
         "aspiration": "std",
         "num-of-doors": "four",
         "body-style": "sedan",
         "drive-wheels": "4wd",
         "engine-location": "front",
         "wheel-base": 99.4,
         "length": 176.6,
         "width": 66.4,
         "height": 54.3,
         "curb-weight": 2824,
         "engine-type": "ohc",
         "num-of-cylinders": "five",
         "engine-size": 136,
         "fuel-system": "mpfi",
         "bore": "3.19",
         "stroke": "3.40",
         "compression-ratio": 8,
         "horsepower": "115",
         "peak-rpm": "5500",
         "city-mpg": 18,
         "highway-mpg": 22,
         "price": "17450",
         "_deepnote_index_column": 4
        },
        {
         "symboling": 2,
         "normalized-losses": "?",
         "make": "audi",
         "fuel-type": "gas",
         "aspiration": "std",
         "num-of-doors": "two",
         "body-style": "sedan",
         "drive-wheels": "fwd",
         "engine-location": "front",
         "wheel-base": 99.8,
         "length": 177.3,
         "width": 66.3,
         "height": 53.1,
         "curb-weight": 2507,
         "engine-type": "ohc",
         "num-of-cylinders": "five",
         "engine-size": 136,
         "fuel-system": "mpfi",
         "bore": "3.19",
         "stroke": "3.40",
         "compression-ratio": 8.5,
         "horsepower": "110",
         "peak-rpm": "5500",
         "city-mpg": 19,
         "highway-mpg": 25,
         "price": "15250",
         "_deepnote_index_column": 5
        },
        {
         "symboling": 1,
         "normalized-losses": "158",
         "make": "audi",
         "fuel-type": "gas",
         "aspiration": "std",
         "num-of-doors": "four",
         "body-style": "sedan",
         "drive-wheels": "fwd",
         "engine-location": "front",
         "wheel-base": 105.8,
         "length": 192.7,
         "width": 71.4,
         "height": 55.7,
         "curb-weight": 2844,
         "engine-type": "ohc",
         "num-of-cylinders": "five",
         "engine-size": 136,
         "fuel-system": "mpfi",
         "bore": "3.19",
         "stroke": "3.40",
         "compression-ratio": 8.5,
         "horsepower": "110",
         "peak-rpm": "5500",
         "city-mpg": 19,
         "highway-mpg": 25,
         "price": "17710",
         "_deepnote_index_column": 6
        },
        {
         "symboling": 1,
         "normalized-losses": "?",
         "make": "audi",
         "fuel-type": "gas",
         "aspiration": "std",
         "num-of-doors": "four",
         "body-style": "wagon",
         "drive-wheels": "fwd",
         "engine-location": "front",
         "wheel-base": 105.8,
         "length": 192.7,
         "width": 71.4,
         "height": 55.7,
         "curb-weight": 2954,
         "engine-type": "ohc",
         "num-of-cylinders": "five",
         "engine-size": 136,
         "fuel-system": "mpfi",
         "bore": "3.19",
         "stroke": "3.40",
         "compression-ratio": 8.5,
         "horsepower": "110",
         "peak-rpm": "5500",
         "city-mpg": 19,
         "highway-mpg": 25,
         "price": "18920",
         "_deepnote_index_column": 7
        },
        {
         "symboling": 1,
         "normalized-losses": "158",
         "make": "audi",
         "fuel-type": "gas",
         "aspiration": "turbo",
         "num-of-doors": "four",
         "body-style": "sedan",
         "drive-wheels": "fwd",
         "engine-location": "front",
         "wheel-base": 105.8,
         "length": 192.7,
         "width": 71.4,
         "height": 55.9,
         "curb-weight": 3086,
         "engine-type": "ohc",
         "num-of-cylinders": "five",
         "engine-size": 131,
         "fuel-system": "mpfi",
         "bore": "3.13",
         "stroke": "3.40",
         "compression-ratio": 8.3,
         "horsepower": "140",
         "peak-rpm": "5500",
         "city-mpg": 17,
         "highway-mpg": 20,
         "price": "23875",
         "_deepnote_index_column": 8
        },
        {
         "symboling": 0,
         "normalized-losses": "?",
         "make": "audi",
         "fuel-type": "gas",
         "aspiration": "turbo",
         "num-of-doors": "two",
         "body-style": "hatchback",
         "drive-wheels": "4wd",
         "engine-location": "front",
         "wheel-base": 99.5,
         "length": 178.2,
         "width": 67.9,
         "height": 52,
         "curb-weight": 3053,
         "engine-type": "ohc",
         "num-of-cylinders": "five",
         "engine-size": 131,
         "fuel-system": "mpfi",
         "bore": "3.13",
         "stroke": "3.40",
         "compression-ratio": 7,
         "horsepower": "160",
         "peak-rpm": "5500",
         "city-mpg": 16,
         "highway-mpg": 22,
         "price": "?",
         "_deepnote_index_column": 9
        }
       ]
      },
      "text/plain": "     symboling normalized-losses         make fuel-type aspiration  \\\n0            3                 ?  alfa-romero       gas        std   \n1            3                 ?  alfa-romero       gas        std   \n2            1                 ?  alfa-romero       gas        std   \n3            2               164         audi       gas        std   \n4            2               164         audi       gas        std   \n..         ...               ...          ...       ...        ...   \n200         -1                95        volvo       gas        std   \n201         -1                95        volvo       gas      turbo   \n202         -1                95        volvo       gas        std   \n203         -1                95        volvo    diesel      turbo   \n204         -1                95        volvo       gas      turbo   \n\n    num-of-doors   body-style drive-wheels engine-location  wheel-base  ...  \\\n0            two  convertible          rwd           front        88.6  ...   \n1            two  convertible          rwd           front        88.6  ...   \n2            two    hatchback          rwd           front        94.5  ...   \n3           four        sedan          fwd           front        99.8  ...   \n4           four        sedan          4wd           front        99.4  ...   \n..           ...          ...          ...             ...         ...  ...   \n200         four        sedan          rwd           front       109.1  ...   \n201         four        sedan          rwd           front       109.1  ...   \n202         four        sedan          rwd           front       109.1  ...   \n203         four        sedan          rwd           front       109.1  ...   \n204         four        sedan          rwd           front       109.1  ...   \n\n     engine-size  fuel-system  bore  stroke compression-ratio horsepower  \\\n0            130         mpfi  3.47    2.68               9.0        111   \n1            130         mpfi  3.47    2.68               9.0        111   \n2            152         mpfi  2.68    3.47               9.0        154   \n3            109         mpfi  3.19    3.40              10.0        102   \n4            136         mpfi  3.19    3.40               8.0        115   \n..           ...          ...   ...     ...               ...        ...   \n200          141         mpfi  3.78    3.15               9.5        114   \n201          141         mpfi  3.78    3.15               8.7        160   \n202          173         mpfi  3.58    2.87               8.8        134   \n203          145          idi  3.01    3.40              23.0        106   \n204          141         mpfi  3.78    3.15               9.5        114   \n\n     peak-rpm city-mpg highway-mpg  price  \n0        5000       21          27  13495  \n1        5000       21          27  16500  \n2        5000       19          26  16500  \n3        5500       24          30  13950  \n4        5500       18          22  17450  \n..        ...      ...         ...    ...  \n200      5400       23          28  16845  \n201      5300       19          25  19045  \n202      5500       18          23  21485  \n203      4800       26          27  22470  \n204      5400       19          25  22625  \n\n[205 rows x 26 columns]",
      "text/html": "<div>\n<style scoped>\n    .dataframe tbody tr th:only-of-type {\n        vertical-align: middle;\n    }\n\n    .dataframe tbody tr th {\n        vertical-align: top;\n    }\n\n    .dataframe thead th {\n        text-align: right;\n    }\n</style>\n<table border=\"1\" class=\"dataframe\">\n  <thead>\n    <tr style=\"text-align: right;\">\n      <th></th>\n      <th>symboling</th>\n      <th>normalized-losses</th>\n      <th>make</th>\n      <th>fuel-type</th>\n      <th>aspiration</th>\n      <th>num-of-doors</th>\n      <th>body-style</th>\n      <th>drive-wheels</th>\n      <th>engine-location</th>\n      <th>wheel-base</th>\n      <th>...</th>\n      <th>engine-size</th>\n      <th>fuel-system</th>\n      <th>bore</th>\n      <th>stroke</th>\n      <th>compression-ratio</th>\n      <th>horsepower</th>\n      <th>peak-rpm</th>\n      <th>city-mpg</th>\n      <th>highway-mpg</th>\n      <th>price</th>\n    </tr>\n  </thead>\n  <tbody>\n    <tr>\n      <th>0</th>\n      <td>3</td>\n      <td>?</td>\n      <td>alfa-romero</td>\n      <td>gas</td>\n      <td>std</td>\n      <td>two</td>\n      <td>convertible</td>\n      <td>rwd</td>\n      <td>front</td>\n      <td>88.6</td>\n      <td>...</td>\n      <td>130</td>\n      <td>mpfi</td>\n      <td>3.47</td>\n      <td>2.68</td>\n      <td>9.0</td>\n      <td>111</td>\n      <td>5000</td>\n      <td>21</td>\n      <td>27</td>\n      <td>13495</td>\n    </tr>\n    <tr>\n      <th>1</th>\n      <td>3</td>\n      <td>?</td>\n      <td>alfa-romero</td>\n      <td>gas</td>\n      <td>std</td>\n      <td>two</td>\n      <td>convertible</td>\n      <td>rwd</td>\n      <td>front</td>\n      <td>88.6</td>\n      <td>...</td>\n      <td>130</td>\n      <td>mpfi</td>\n      <td>3.47</td>\n      <td>2.68</td>\n      <td>9.0</td>\n      <td>111</td>\n      <td>5000</td>\n      <td>21</td>\n      <td>27</td>\n      <td>16500</td>\n    </tr>\n    <tr>\n      <th>2</th>\n      <td>1</td>\n      <td>?</td>\n      <td>alfa-romero</td>\n      <td>gas</td>\n      <td>std</td>\n      <td>two</td>\n      <td>hatchback</td>\n      <td>rwd</td>\n      <td>front</td>\n      <td>94.5</td>\n      <td>...</td>\n      <td>152</td>\n      <td>mpfi</td>\n      <td>2.68</td>\n      <td>3.47</td>\n      <td>9.0</td>\n      <td>154</td>\n      <td>5000</td>\n      <td>19</td>\n      <td>26</td>\n      <td>16500</td>\n    </tr>\n    <tr>\n      <th>3</th>\n      <td>2</td>\n      <td>164</td>\n      <td>audi</td>\n      <td>gas</td>\n      <td>std</td>\n      <td>four</td>\n      <td>sedan</td>\n      <td>fwd</td>\n      <td>front</td>\n      <td>99.8</td>\n      <td>...</td>\n      <td>109</td>\n      <td>mpfi</td>\n      <td>3.19</td>\n      <td>3.40</td>\n      <td>10.0</td>\n      <td>102</td>\n      <td>5500</td>\n      <td>24</td>\n      <td>30</td>\n      <td>13950</td>\n    </tr>\n    <tr>\n      <th>4</th>\n      <td>2</td>\n      <td>164</td>\n      <td>audi</td>\n      <td>gas</td>\n      <td>std</td>\n      <td>four</td>\n      <td>sedan</td>\n      <td>4wd</td>\n      <td>front</td>\n      <td>99.4</td>\n      <td>...</td>\n      <td>136</td>\n      <td>mpfi</td>\n      <td>3.19</td>\n      <td>3.40</td>\n      <td>8.0</td>\n      <td>115</td>\n      <td>5500</td>\n      <td>18</td>\n      <td>22</td>\n      <td>17450</td>\n    </tr>\n    <tr>\n      <th>...</th>\n      <td>...</td>\n      <td>...</td>\n      <td>...</td>\n      <td>...</td>\n      <td>...</td>\n      <td>...</td>\n      <td>...</td>\n      <td>...</td>\n      <td>...</td>\n      <td>...</td>\n      <td>...</td>\n      <td>...</td>\n      <td>...</td>\n      <td>...</td>\n      <td>...</td>\n      <td>...</td>\n      <td>...</td>\n      <td>...</td>\n      <td>...</td>\n      <td>...</td>\n      <td>...</td>\n    </tr>\n    <tr>\n      <th>200</th>\n      <td>-1</td>\n      <td>95</td>\n      <td>volvo</td>\n      <td>gas</td>\n      <td>std</td>\n      <td>four</td>\n      <td>sedan</td>\n      <td>rwd</td>\n      <td>front</td>\n      <td>109.1</td>\n      <td>...</td>\n      <td>141</td>\n      <td>mpfi</td>\n      <td>3.78</td>\n      <td>3.15</td>\n      <td>9.5</td>\n      <td>114</td>\n      <td>5400</td>\n      <td>23</td>\n      <td>28</td>\n      <td>16845</td>\n    </tr>\n    <tr>\n      <th>201</th>\n      <td>-1</td>\n      <td>95</td>\n      <td>volvo</td>\n      <td>gas</td>\n      <td>turbo</td>\n      <td>four</td>\n      <td>sedan</td>\n      <td>rwd</td>\n      <td>front</td>\n      <td>109.1</td>\n      <td>...</td>\n      <td>141</td>\n      <td>mpfi</td>\n      <td>3.78</td>\n      <td>3.15</td>\n      <td>8.7</td>\n      <td>160</td>\n      <td>5300</td>\n      <td>19</td>\n      <td>25</td>\n      <td>19045</td>\n    </tr>\n    <tr>\n      <th>202</th>\n      <td>-1</td>\n      <td>95</td>\n      <td>volvo</td>\n      <td>gas</td>\n      <td>std</td>\n      <td>four</td>\n      <td>sedan</td>\n      <td>rwd</td>\n      <td>front</td>\n      <td>109.1</td>\n      <td>...</td>\n      <td>173</td>\n      <td>mpfi</td>\n      <td>3.58</td>\n      <td>2.87</td>\n      <td>8.8</td>\n      <td>134</td>\n      <td>5500</td>\n      <td>18</td>\n      <td>23</td>\n      <td>21485</td>\n    </tr>\n    <tr>\n      <th>203</th>\n      <td>-1</td>\n      <td>95</td>\n      <td>volvo</td>\n      <td>diesel</td>\n      <td>turbo</td>\n      <td>four</td>\n      <td>sedan</td>\n      <td>rwd</td>\n      <td>front</td>\n      <td>109.1</td>\n      <td>...</td>\n      <td>145</td>\n      <td>idi</td>\n      <td>3.01</td>\n      <td>3.40</td>\n      <td>23.0</td>\n      <td>106</td>\n      <td>4800</td>\n      <td>26</td>\n      <td>27</td>\n      <td>22470</td>\n    </tr>\n    <tr>\n      <th>204</th>\n      <td>-1</td>\n      <td>95</td>\n      <td>volvo</td>\n      <td>gas</td>\n      <td>turbo</td>\n      <td>four</td>\n      <td>sedan</td>\n      <td>rwd</td>\n      <td>front</td>\n      <td>109.1</td>\n      <td>...</td>\n      <td>141</td>\n      <td>mpfi</td>\n      <td>3.78</td>\n      <td>3.15</td>\n      <td>9.5</td>\n      <td>114</td>\n      <td>5400</td>\n      <td>19</td>\n      <td>25</td>\n      <td>22625</td>\n    </tr>\n  </tbody>\n</table>\n<p>205 rows × 26 columns</p>\n</div>"
     },
     "metadata": {}
    }
   ]
  },
  {
   "cell_type": "code",
   "source": "df_auto.shape",
   "metadata": {
    "cell_id": "606fd015-cf0a-43ca-b6db-f6043dbcab33",
    "tags": [],
    "deepnote_to_be_reexecuted": false,
    "source_hash": "3a93b0ce",
    "execution_start": 1645723866444,
    "execution_millis": 7,
    "deepnote_cell_type": "code"
   },
   "outputs": [
    {
     "output_type": "execute_result",
     "execution_count": 14,
     "data": {
      "text/plain": "(205, 26)"
     },
     "metadata": {}
    }
   ],
   "execution_count": 14
  },
  {
   "cell_type": "code",
   "metadata": {
    "cell_id": "42856237-9a21-46c1-86f6-b4b708ae8c21",
    "tags": [],
    "deepnote_to_be_reexecuted": false,
    "source_hash": "be22fbc7",
    "execution_start": 1645723461223,
    "execution_millis": 13,
    "deepnote_cell_type": "code"
   },
   "source": "df_auto.dtypes",
   "execution_count": 7,
   "outputs": [
    {
     "output_type": "execute_result",
     "execution_count": 7,
     "data": {
      "text/plain": "symboling              int64\nnormalized-losses     object\nmake                  object\nfuel-type             object\naspiration            object\nnum-of-doors          object\nbody-style            object\ndrive-wheels          object\nengine-location       object\nwheel-base           float64\nlength               float64\nwidth                float64\nheight               float64\ncurb-weight            int64\nengine-type           object\nnum-of-cylinders      object\nengine-size            int64\nfuel-system           object\nbore                  object\nstroke                object\ncompression-ratio    float64\nhorsepower            object\npeak-rpm              object\ncity-mpg               int64\nhighway-mpg            int64\nprice                 object\ndtype: object"
     },
     "metadata": {}
    }
   ]
  },
  {
   "cell_type": "code",
   "source": "df_auto.describe(include = 'all')",
   "metadata": {
    "cell_id": "7c8aca4b-c58b-4abb-ab55-b497e2d6de69",
    "tags": [],
    "deepnote_to_be_reexecuted": false,
    "source_hash": "f7d931eb",
    "execution_start": 1645723610249,
    "execution_millis": 209,
    "deepnote_cell_type": "code"
   },
   "outputs": [
    {
     "output_type": "execute_result",
     "execution_count": 9,
     "data": {
      "application/vnd.deepnote.dataframe.v3+json": {
       "column_count": 26,
       "row_count": 11,
       "columns": [
        {
         "name": "symboling",
         "dtype": "float64",
         "stats": {
          "unique_count": 8,
          "nan_count": 3,
          "min": "-2.0",
          "max": "205.0",
          "histogram": [
           {
            "bin_start": -2,
            "bin_end": 18.7,
            "count": 7
           },
           {
            "bin_start": 18.7,
            "bin_end": 39.4,
            "count": 0
           },
           {
            "bin_start": 39.4,
            "bin_end": 60.099999999999994,
            "count": 0
           },
           {
            "bin_start": 60.099999999999994,
            "bin_end": 80.8,
            "count": 0
           },
           {
            "bin_start": 80.8,
            "bin_end": 101.5,
            "count": 0
           },
           {
            "bin_start": 101.5,
            "bin_end": 122.19999999999999,
            "count": 0
           },
           {
            "bin_start": 122.19999999999999,
            "bin_end": 142.9,
            "count": 0
           },
           {
            "bin_start": 142.9,
            "bin_end": 163.6,
            "count": 0
           },
           {
            "bin_start": 163.6,
            "bin_end": 184.29999999999998,
            "count": 0
           },
           {
            "bin_start": 184.29999999999998,
            "bin_end": 205,
            "count": 1
           }
          ]
         }
        },
        {
         "name": "normalized-losses",
         "dtype": "object",
         "stats": {
          "unique_count": 4,
          "nan_count": 7,
          "categories": [
           {
            "name": "205",
            "count": 1
           },
           {
            "name": "3 others",
            "count": 3
           },
           {
            "name": "Missing",
            "count": 7
           }
          ]
         }
        },
        {
         "name": "make",
         "dtype": "object",
         "stats": {
          "unique_count": 4,
          "nan_count": 7,
          "categories": [
           {
            "name": "205",
            "count": 1
           },
           {
            "name": "3 others",
            "count": 3
           },
           {
            "name": "Missing",
            "count": 7
           }
          ]
         }
        },
        {
         "name": "fuel-type",
         "dtype": "object",
         "stats": {
          "unique_count": 4,
          "nan_count": 7,
          "categories": [
           {
            "name": "205",
            "count": 1
           },
           {
            "name": "3 others",
            "count": 3
           },
           {
            "name": "Missing",
            "count": 7
           }
          ]
         }
        },
        {
         "name": "aspiration",
         "dtype": "object",
         "stats": {
          "unique_count": 4,
          "nan_count": 7,
          "categories": [
           {
            "name": "205",
            "count": 1
           },
           {
            "name": "3 others",
            "count": 3
           },
           {
            "name": "Missing",
            "count": 7
           }
          ]
         }
        },
        {
         "name": "num-of-doors",
         "dtype": "object",
         "stats": {
          "unique_count": 4,
          "nan_count": 7,
          "categories": [
           {
            "name": "205",
            "count": 1
           },
           {
            "name": "3 others",
            "count": 3
           },
           {
            "name": "Missing",
            "count": 7
           }
          ]
         }
        },
        {
         "name": "body-style",
         "dtype": "object",
         "stats": {
          "unique_count": 4,
          "nan_count": 7,
          "categories": [
           {
            "name": "205",
            "count": 1
           },
           {
            "name": "3 others",
            "count": 3
           },
           {
            "name": "Missing",
            "count": 7
           }
          ]
         }
        },
        {
         "name": "drive-wheels",
         "dtype": "object",
         "stats": {
          "unique_count": 4,
          "nan_count": 7,
          "categories": [
           {
            "name": "205",
            "count": 1
           },
           {
            "name": "3 others",
            "count": 3
           },
           {
            "name": "Missing",
            "count": 7
           }
          ]
         }
        },
        {
         "name": "engine-location",
         "dtype": "object",
         "stats": {
          "unique_count": 4,
          "nan_count": 7,
          "categories": [
           {
            "name": "205",
            "count": 1
           },
           {
            "name": "3 others",
            "count": 3
           },
           {
            "name": "Missing",
            "count": 7
           }
          ]
         }
        },
        {
         "name": "wheel-base",
         "dtype": "float64",
         "stats": {
          "unique_count": 8,
          "nan_count": 3,
          "min": "6.021775685025571",
          "max": "205.0",
          "histogram": [
           {
            "bin_start": 6.021775685025571,
            "bin_end": 25.919598116523012,
            "count": 1
           },
           {
            "bin_start": 25.919598116523012,
            "bin_end": 45.81742054802046,
            "count": 0
           },
           {
            "bin_start": 45.81742054802046,
            "bin_end": 65.7152429795179,
            "count": 0
           },
           {
            "bin_start": 65.7152429795179,
            "bin_end": 85.61306541101534,
            "count": 0
           },
           {
            "bin_start": 85.61306541101534,
            "bin_end": 105.51088784251279,
            "count": 5
           },
           {
            "bin_start": 105.51088784251279,
            "bin_end": 125.40871027401022,
            "count": 1
           },
           {
            "bin_start": 125.40871027401022,
            "bin_end": 145.30653270550766,
            "count": 0
           },
           {
            "bin_start": 145.30653270550766,
            "bin_end": 165.2043551370051,
            "count": 0
           },
           {
            "bin_start": 165.2043551370051,
            "bin_end": 185.10217756850255,
            "count": 0
           },
           {
            "bin_start": 185.10217756850255,
            "bin_end": 205,
            "count": 1
           }
          ]
         }
        },
        {
         "name": "length",
         "dtype": "float64",
         "stats": {
          "unique_count": 8,
          "nan_count": 3,
          "min": "12.33728852655518",
          "max": "208.1",
          "histogram": [
           {
            "bin_start": 12.33728852655518,
            "bin_end": 31.913559673899663,
            "count": 1
           },
           {
            "bin_start": 31.913559673899663,
            "bin_end": 51.48983082124414,
            "count": 0
           },
           {
            "bin_start": 51.48983082124414,
            "bin_end": 71.06610196858863,
            "count": 0
           },
           {
            "bin_start": 71.06610196858863,
            "bin_end": 90.64237311593311,
            "count": 0
           },
           {
            "bin_start": 90.64237311593311,
            "bin_end": 110.2186442632776,
            "count": 0
           },
           {
            "bin_start": 110.2186442632776,
            "bin_end": 129.79491541062205,
            "count": 0
           },
           {
            "bin_start": 129.79491541062205,
            "bin_end": 149.37118655796655,
            "count": 1
           },
           {
            "bin_start": 149.37118655796655,
            "bin_end": 168.94745770531102,
            "count": 1
           },
           {
            "bin_start": 168.94745770531102,
            "bin_end": 188.5237288526555,
            "count": 3
           },
           {
            "bin_start": 188.5237288526555,
            "bin_end": 208.1,
            "count": 2
           }
          ]
         }
        },
        {
         "name": "width",
         "dtype": "float64",
         "stats": {
          "unique_count": 8,
          "nan_count": 3,
          "min": "2.145203852687183",
          "max": "205.0",
          "histogram": [
           {
            "bin_start": 2.145203852687183,
            "bin_end": 22.43068346741846,
            "count": 1
           },
           {
            "bin_start": 22.43068346741846,
            "bin_end": 42.71616308214974,
            "count": 0
           },
           {
            "bin_start": 42.71616308214974,
            "bin_end": 63.00164269688102,
            "count": 1
           },
           {
            "bin_start": 63.00164269688102,
            "bin_end": 83.28712231161231,
            "count": 5
           },
           {
            "bin_start": 83.28712231161231,
            "bin_end": 103.5726019263436,
            "count": 0
           },
           {
            "bin_start": 103.5726019263436,
            "bin_end": 123.85808154107487,
            "count": 0
           },
           {
            "bin_start": 123.85808154107487,
            "bin_end": 144.14356115580614,
            "count": 0
           },
           {
            "bin_start": 144.14356115580614,
            "bin_end": 164.42904077053743,
            "count": 0
           },
           {
            "bin_start": 164.42904077053743,
            "bin_end": 184.7145203852687,
            "count": 0
           },
           {
            "bin_start": 184.7145203852687,
            "bin_end": 205,
            "count": 1
           }
          ]
         }
        },
        {
         "name": "height",
         "dtype": "float64",
         "stats": {
          "unique_count": 8,
          "nan_count": 3,
          "min": "2.4435219699049036",
          "max": "205.0",
          "histogram": [
           {
            "bin_start": 2.4435219699049036,
            "bin_end": 22.699169772914413,
            "count": 1
           },
           {
            "bin_start": 22.699169772914413,
            "bin_end": 42.954817575923926,
            "count": 0
           },
           {
            "bin_start": 42.954817575923926,
            "bin_end": 63.210465378933435,
            "count": 6
           },
           {
            "bin_start": 63.210465378933435,
            "bin_end": 83.46611318194294,
            "count": 0
           },
           {
            "bin_start": 83.46611318194294,
            "bin_end": 103.72176098495245,
            "count": 0
           },
           {
            "bin_start": 103.72176098495245,
            "bin_end": 123.97740878796196,
            "count": 0
           },
           {
            "bin_start": 123.97740878796196,
            "bin_end": 144.23305659097147,
            "count": 0
           },
           {
            "bin_start": 144.23305659097147,
            "bin_end": 164.48870439398098,
            "count": 0
           },
           {
            "bin_start": 164.48870439398098,
            "bin_end": 184.7443521969905,
            "count": 0
           },
           {
            "bin_start": 184.7443521969905,
            "bin_end": 205,
            "count": 1
           }
          ]
         }
        },
        {
         "name": "curb-weight",
         "dtype": "float64",
         "stats": {
          "unique_count": 8,
          "nan_count": 3,
          "min": "205.0",
          "max": "4066.0",
          "histogram": [
           {
            "bin_start": 205,
            "bin_end": 591.1,
            "count": 2
           },
           {
            "bin_start": 591.1,
            "bin_end": 977.2,
            "count": 0
           },
           {
            "bin_start": 977.2,
            "bin_end": 1363.3000000000002,
            "count": 0
           },
           {
            "bin_start": 1363.3000000000002,
            "bin_end": 1749.4,
            "count": 1
           },
           {
            "bin_start": 1749.4,
            "bin_end": 2135.5,
            "count": 0
           },
           {
            "bin_start": 2135.5,
            "bin_end": 2521.6000000000004,
            "count": 2
           },
           {
            "bin_start": 2521.6000000000004,
            "bin_end": 2907.7000000000003,
            "count": 1
           },
           {
            "bin_start": 2907.7000000000003,
            "bin_end": 3293.8,
            "count": 1
           },
           {
            "bin_start": 3293.8,
            "bin_end": 3679.9,
            "count": 0
           },
           {
            "bin_start": 3679.9,
            "bin_end": 4066,
            "count": 1
           }
          ]
         }
        },
        {
         "name": "engine-type",
         "dtype": "object",
         "stats": {
          "unique_count": 4,
          "nan_count": 7,
          "categories": [
           {
            "name": "205",
            "count": 1
           },
           {
            "name": "3 others",
            "count": 3
           },
           {
            "name": "Missing",
            "count": 7
           }
          ]
         }
        },
        {
         "name": "num-of-cylinders",
         "dtype": "object",
         "stats": {
          "unique_count": 4,
          "nan_count": 7,
          "categories": [
           {
            "name": "205",
            "count": 1
           },
           {
            "name": "3 others",
            "count": 3
           },
           {
            "name": "Missing",
            "count": 7
           }
          ]
         }
        },
        {
         "name": "engine-size",
         "dtype": "float64",
         "stats": {
          "unique_count": 8,
          "nan_count": 3,
          "min": "41.64269343817984",
          "max": "326.0",
          "histogram": [
           {
            "bin_start": 41.64269343817984,
            "bin_end": 70.07842409436185,
            "count": 2
           },
           {
            "bin_start": 70.07842409436185,
            "bin_end": 98.51415475054387,
            "count": 1
           },
           {
            "bin_start": 98.51415475054387,
            "bin_end": 126.94988540672588,
            "count": 2
           },
           {
            "bin_start": 126.94988540672588,
            "bin_end": 155.3856160629079,
            "count": 1
           },
           {
            "bin_start": 155.3856160629079,
            "bin_end": 183.82134671908992,
            "count": 0
           },
           {
            "bin_start": 183.82134671908992,
            "bin_end": 212.25707737527193,
            "count": 1
           },
           {
            "bin_start": 212.25707737527193,
            "bin_end": 240.69280803145395,
            "count": 0
           },
           {
            "bin_start": 240.69280803145395,
            "bin_end": 269.12853868763597,
            "count": 0
           },
           {
            "bin_start": 269.12853868763597,
            "bin_end": 297.564269343818,
            "count": 0
           },
           {
            "bin_start": 297.564269343818,
            "bin_end": 326,
            "count": 1
           }
          ]
         }
        },
        {
         "name": "fuel-system",
         "dtype": "object",
         "stats": {
          "unique_count": 4,
          "nan_count": 7,
          "categories": [
           {
            "name": "205",
            "count": 1
           },
           {
            "name": "3 others",
            "count": 3
           },
           {
            "name": "Missing",
            "count": 7
           }
          ]
         }
        },
        {
         "name": "bore",
         "dtype": "object",
         "stats": {
          "unique_count": 4,
          "nan_count": 7,
          "categories": [
           {
            "name": "205",
            "count": 1
           },
           {
            "name": "3 others",
            "count": 3
           },
           {
            "name": "Missing",
            "count": 7
           }
          ]
         }
        },
        {
         "name": "stroke",
         "dtype": "object",
         "stats": {
          "unique_count": 4,
          "nan_count": 7,
          "categories": [
           {
            "name": "205",
            "count": 1
           },
           {
            "name": "3 others",
            "count": 3
           },
           {
            "name": "Missing",
            "count": 7
           }
          ]
         }
        },
        {
         "name": "compression-ratio",
         "dtype": "float64",
         "stats": {
          "unique_count": 8,
          "nan_count": 3,
          "min": "3.972040321863298",
          "max": "205.0",
          "histogram": [
           {
            "bin_start": 3.972040321863298,
            "bin_end": 24.074836289676966,
            "count": 7
           },
           {
            "bin_start": 24.074836289676966,
            "bin_end": 44.177632257490636,
            "count": 0
           },
           {
            "bin_start": 44.177632257490636,
            "bin_end": 64.2804282253043,
            "count": 0
           },
           {
            "bin_start": 64.2804282253043,
            "bin_end": 84.38322419311798,
            "count": 0
           },
           {
            "bin_start": 84.38322419311798,
            "bin_end": 104.48602016093166,
            "count": 0
           },
           {
            "bin_start": 104.48602016093166,
            "bin_end": 124.58881612874532,
            "count": 0
           },
           {
            "bin_start": 124.58881612874532,
            "bin_end": 144.69161209655897,
            "count": 0
           },
           {
            "bin_start": 144.69161209655897,
            "bin_end": 164.79440806437265,
            "count": 0
           },
           {
            "bin_start": 164.79440806437265,
            "bin_end": 184.89720403218632,
            "count": 0
           },
           {
            "bin_start": 184.89720403218632,
            "bin_end": 205,
            "count": 1
           }
          ]
         }
        },
        {
         "name": "horsepower",
         "dtype": "object",
         "stats": {
          "unique_count": 4,
          "nan_count": 7,
          "categories": [
           {
            "name": "205",
            "count": 1
           },
           {
            "name": "3 others",
            "count": 3
           },
           {
            "name": "Missing",
            "count": 7
           }
          ]
         }
        },
        {
         "name": "peak-rpm",
         "dtype": "object",
         "stats": {
          "unique_count": 4,
          "nan_count": 7,
          "categories": [
           {
            "name": "205",
            "count": 1
           },
           {
            "name": "3 others",
            "count": 3
           },
           {
            "name": "Missing",
            "count": 7
           }
          ]
         }
        },
        {
         "name": "city-mpg",
         "dtype": "float64",
         "stats": {
          "unique_count": 8,
          "nan_count": 3,
          "min": "6.542141653001622",
          "max": "205.0",
          "histogram": [
           {
            "bin_start": 6.542141653001622,
            "bin_end": 26.387927487701457,
            "count": 5
           },
           {
            "bin_start": 26.387927487701457,
            "bin_end": 46.23371332240129,
            "count": 1
           },
           {
            "bin_start": 46.23371332240129,
            "bin_end": 66.07949915710113,
            "count": 1
           },
           {
            "bin_start": 66.07949915710113,
            "bin_end": 85.92528499180096,
            "count": 0
           },
           {
            "bin_start": 85.92528499180096,
            "bin_end": 105.7710708265008,
            "count": 0
           },
           {
            "bin_start": 105.7710708265008,
            "bin_end": 125.61685666120063,
            "count": 0
           },
           {
            "bin_start": 125.61685666120063,
            "bin_end": 145.46264249590047,
            "count": 0
           },
           {
            "bin_start": 145.46264249590047,
            "bin_end": 165.3084283306003,
            "count": 0
           },
           {
            "bin_start": 165.3084283306003,
            "bin_end": 185.15421416530012,
            "count": 0
           },
           {
            "bin_start": 185.15421416530012,
            "bin_end": 205,
            "count": 1
           }
          ]
         }
        },
        {
         "name": "highway-mpg",
         "dtype": "float64",
         "stats": {
          "unique_count": 8,
          "nan_count": 3,
          "min": "6.886443130941824",
          "max": "205.0",
          "histogram": [
           {
            "bin_start": 6.886443130941824,
            "bin_end": 26.697798817847644,
            "count": 3
           },
           {
            "bin_start": 26.697798817847644,
            "bin_end": 46.50915450475347,
            "count": 3
           },
           {
            "bin_start": 46.50915450475347,
            "bin_end": 66.32051019165928,
            "count": 1
           },
           {
            "bin_start": 66.32051019165928,
            "bin_end": 86.13186587856511,
            "count": 0
           },
           {
            "bin_start": 86.13186587856511,
            "bin_end": 105.94322156547092,
            "count": 0
           },
           {
            "bin_start": 105.94322156547092,
            "bin_end": 125.75457725237675,
            "count": 0
           },
           {
            "bin_start": 125.75457725237675,
            "bin_end": 145.56593293928256,
            "count": 0
           },
           {
            "bin_start": 145.56593293928256,
            "bin_end": 165.37728862618837,
            "count": 0
           },
           {
            "bin_start": 165.37728862618837,
            "bin_end": 185.1886443130942,
            "count": 0
           },
           {
            "bin_start": 185.1886443130942,
            "bin_end": 205,
            "count": 1
           }
          ]
         }
        },
        {
         "name": "price",
         "dtype": "object",
         "stats": {
          "unique_count": 4,
          "nan_count": 7,
          "categories": [
           {
            "name": "205",
            "count": 1
           },
           {
            "name": "3 others",
            "count": 3
           },
           {
            "name": "Missing",
            "count": 7
           }
          ]
         }
        },
        {
         "name": "_deepnote_index_column",
         "dtype": "object"
        }
       ],
       "rows": [
        {
         "symboling": 205,
         "normalized-losses": "205",
         "make": "205",
         "fuel-type": "205",
         "aspiration": "205",
         "num-of-doors": "205",
         "body-style": "205",
         "drive-wheels": "205",
         "engine-location": "205",
         "wheel-base": 205,
         "length": 205,
         "width": 205,
         "height": 205,
         "curb-weight": 205,
         "engine-type": "205",
         "num-of-cylinders": "205",
         "engine-size": 205,
         "fuel-system": "205",
         "bore": "205",
         "stroke": "205",
         "compression-ratio": 205,
         "horsepower": "205",
         "peak-rpm": "205",
         "city-mpg": 205,
         "highway-mpg": 205,
         "price": "205",
         "_deepnote_index_column": "count"
        },
        {
         "symboling": "nan",
         "normalized-losses": "52",
         "make": "22",
         "fuel-type": "2",
         "aspiration": "2",
         "num-of-doors": "3",
         "body-style": "5",
         "drive-wheels": "3",
         "engine-location": "2",
         "wheel-base": "nan",
         "length": "nan",
         "width": "nan",
         "height": "nan",
         "curb-weight": "nan",
         "engine-type": "7",
         "num-of-cylinders": "7",
         "engine-size": "nan",
         "fuel-system": "8",
         "bore": "39",
         "stroke": "37",
         "compression-ratio": "nan",
         "horsepower": "60",
         "peak-rpm": "24",
         "city-mpg": "nan",
         "highway-mpg": "nan",
         "price": "187",
         "_deepnote_index_column": "unique"
        },
        {
         "symboling": "nan",
         "normalized-losses": "?",
         "make": "toyota",
         "fuel-type": "gas",
         "aspiration": "std",
         "num-of-doors": "four",
         "body-style": "sedan",
         "drive-wheels": "fwd",
         "engine-location": "front",
         "wheel-base": "nan",
         "length": "nan",
         "width": "nan",
         "height": "nan",
         "curb-weight": "nan",
         "engine-type": "ohc",
         "num-of-cylinders": "four",
         "engine-size": "nan",
         "fuel-system": "mpfi",
         "bore": "3.62",
         "stroke": "3.40",
         "compression-ratio": "nan",
         "horsepower": "68",
         "peak-rpm": "5500",
         "city-mpg": "nan",
         "highway-mpg": "nan",
         "price": "?",
         "_deepnote_index_column": "top"
        },
        {
         "symboling": "nan",
         "normalized-losses": "41",
         "make": "32",
         "fuel-type": "185",
         "aspiration": "168",
         "num-of-doors": "114",
         "body-style": "96",
         "drive-wheels": "120",
         "engine-location": "202",
         "wheel-base": "nan",
         "length": "nan",
         "width": "nan",
         "height": "nan",
         "curb-weight": "nan",
         "engine-type": "148",
         "num-of-cylinders": "159",
         "engine-size": "nan",
         "fuel-system": "94",
         "bore": "23",
         "stroke": "20",
         "compression-ratio": "nan",
         "horsepower": "19",
         "peak-rpm": "37",
         "city-mpg": "nan",
         "highway-mpg": "nan",
         "price": "4",
         "_deepnote_index_column": "freq"
        },
        {
         "symboling": 0.8341463414634146,
         "normalized-losses": "nan",
         "make": "nan",
         "fuel-type": "nan",
         "aspiration": "nan",
         "num-of-doors": "nan",
         "body-style": "nan",
         "drive-wheels": "nan",
         "engine-location": "nan",
         "wheel-base": 98.75658536585367,
         "length": 174.04926829268288,
         "width": 65.90780487804878,
         "height": 53.72487804878049,
         "curb-weight": 2555.5658536585365,
         "engine-type": "nan",
         "num-of-cylinders": "nan",
         "engine-size": 126.90731707317073,
         "fuel-system": "nan",
         "bore": "nan",
         "stroke": "nan",
         "compression-ratio": 10.142536585365855,
         "horsepower": "nan",
         "peak-rpm": "nan",
         "city-mpg": 25.21951219512195,
         "highway-mpg": 30.75121951219512,
         "price": "nan",
         "_deepnote_index_column": "mean"
        },
        {
         "symboling": 1.2453068281055297,
         "normalized-losses": "nan",
         "make": "nan",
         "fuel-type": "nan",
         "aspiration": "nan",
         "num-of-doors": "nan",
         "body-style": "nan",
         "drive-wheels": "nan",
         "engine-location": "nan",
         "wheel-base": 6.021775685025571,
         "length": 12.33728852655518,
         "width": 2.145203852687183,
         "height": 2.4435219699049036,
         "curb-weight": 520.6802035016387,
         "engine-type": "nan",
         "num-of-cylinders": "nan",
         "engine-size": 41.64269343817984,
         "fuel-system": "nan",
         "bore": "nan",
         "stroke": "nan",
         "compression-ratio": 3.972040321863298,
         "horsepower": "nan",
         "peak-rpm": "nan",
         "city-mpg": 6.542141653001622,
         "highway-mpg": 6.886443130941824,
         "price": "nan",
         "_deepnote_index_column": "std"
        },
        {
         "symboling": -2,
         "normalized-losses": "nan",
         "make": "nan",
         "fuel-type": "nan",
         "aspiration": "nan",
         "num-of-doors": "nan",
         "body-style": "nan",
         "drive-wheels": "nan",
         "engine-location": "nan",
         "wheel-base": 86.6,
         "length": 141.1,
         "width": 60.3,
         "height": 47.8,
         "curb-weight": 1488,
         "engine-type": "nan",
         "num-of-cylinders": "nan",
         "engine-size": 61,
         "fuel-system": "nan",
         "bore": "nan",
         "stroke": "nan",
         "compression-ratio": 7,
         "horsepower": "nan",
         "peak-rpm": "nan",
         "city-mpg": 13,
         "highway-mpg": 16,
         "price": "nan",
         "_deepnote_index_column": "min"
        },
        {
         "symboling": 0,
         "normalized-losses": "nan",
         "make": "nan",
         "fuel-type": "nan",
         "aspiration": "nan",
         "num-of-doors": "nan",
         "body-style": "nan",
         "drive-wheels": "nan",
         "engine-location": "nan",
         "wheel-base": 94.5,
         "length": 166.3,
         "width": 64.1,
         "height": 52,
         "curb-weight": 2145,
         "engine-type": "nan",
         "num-of-cylinders": "nan",
         "engine-size": 97,
         "fuel-system": "nan",
         "bore": "nan",
         "stroke": "nan",
         "compression-ratio": 8.6,
         "horsepower": "nan",
         "peak-rpm": "nan",
         "city-mpg": 19,
         "highway-mpg": 25,
         "price": "nan",
         "_deepnote_index_column": "25%"
        },
        {
         "symboling": 1,
         "normalized-losses": "nan",
         "make": "nan",
         "fuel-type": "nan",
         "aspiration": "nan",
         "num-of-doors": "nan",
         "body-style": "nan",
         "drive-wheels": "nan",
         "engine-location": "nan",
         "wheel-base": 97,
         "length": 173.2,
         "width": 65.5,
         "height": 54.1,
         "curb-weight": 2414,
         "engine-type": "nan",
         "num-of-cylinders": "nan",
         "engine-size": 120,
         "fuel-system": "nan",
         "bore": "nan",
         "stroke": "nan",
         "compression-ratio": 9,
         "horsepower": "nan",
         "peak-rpm": "nan",
         "city-mpg": 24,
         "highway-mpg": 30,
         "price": "nan",
         "_deepnote_index_column": "50%"
        },
        {
         "symboling": 2,
         "normalized-losses": "nan",
         "make": "nan",
         "fuel-type": "nan",
         "aspiration": "nan",
         "num-of-doors": "nan",
         "body-style": "nan",
         "drive-wheels": "nan",
         "engine-location": "nan",
         "wheel-base": 102.4,
         "length": 183.1,
         "width": 66.9,
         "height": 55.5,
         "curb-weight": 2935,
         "engine-type": "nan",
         "num-of-cylinders": "nan",
         "engine-size": 141,
         "fuel-system": "nan",
         "bore": "nan",
         "stroke": "nan",
         "compression-ratio": 9.4,
         "horsepower": "nan",
         "peak-rpm": "nan",
         "city-mpg": 30,
         "highway-mpg": 34,
         "price": "nan",
         "_deepnote_index_column": "75%"
        }
       ]
      },
      "text/plain": "         symboling normalized-losses    make fuel-type aspiration  \\\ncount   205.000000               205     205       205        205   \nunique         NaN                52      22         2          2   \ntop            NaN                 ?  toyota       gas        std   \nfreq           NaN                41      32       185        168   \nmean      0.834146               NaN     NaN       NaN        NaN   \nstd       1.245307               NaN     NaN       NaN        NaN   \nmin      -2.000000               NaN     NaN       NaN        NaN   \n25%       0.000000               NaN     NaN       NaN        NaN   \n50%       1.000000               NaN     NaN       NaN        NaN   \n75%       2.000000               NaN     NaN       NaN        NaN   \nmax       3.000000               NaN     NaN       NaN        NaN   \n\n       num-of-doors body-style drive-wheels engine-location  wheel-base  ...  \\\ncount           205        205          205             205  205.000000  ...   \nunique            3          5            3               2         NaN  ...   \ntop            four      sedan          fwd           front         NaN  ...   \nfreq            114         96          120             202         NaN  ...   \nmean            NaN        NaN          NaN             NaN   98.756585  ...   \nstd             NaN        NaN          NaN             NaN    6.021776  ...   \nmin             NaN        NaN          NaN             NaN   86.600000  ...   \n25%             NaN        NaN          NaN             NaN   94.500000  ...   \n50%             NaN        NaN          NaN             NaN   97.000000  ...   \n75%             NaN        NaN          NaN             NaN  102.400000  ...   \nmax             NaN        NaN          NaN             NaN  120.900000  ...   \n\n        engine-size  fuel-system  bore  stroke compression-ratio horsepower  \\\ncount    205.000000          205   205     205        205.000000        205   \nunique          NaN            8    39      37               NaN         60   \ntop             NaN         mpfi  3.62    3.40               NaN         68   \nfreq            NaN           94    23      20               NaN         19   \nmean     126.907317          NaN   NaN     NaN         10.142537        NaN   \nstd       41.642693          NaN   NaN     NaN          3.972040        NaN   \nmin       61.000000          NaN   NaN     NaN          7.000000        NaN   \n25%       97.000000          NaN   NaN     NaN          8.600000        NaN   \n50%      120.000000          NaN   NaN     NaN          9.000000        NaN   \n75%      141.000000          NaN   NaN     NaN          9.400000        NaN   \nmax      326.000000          NaN   NaN     NaN         23.000000        NaN   \n\n        peak-rpm    city-mpg highway-mpg price  \ncount        205  205.000000  205.000000   205  \nunique        24         NaN         NaN   187  \ntop         5500         NaN         NaN     ?  \nfreq          37         NaN         NaN     4  \nmean         NaN   25.219512   30.751220   NaN  \nstd          NaN    6.542142    6.886443   NaN  \nmin          NaN   13.000000   16.000000   NaN  \n25%          NaN   19.000000   25.000000   NaN  \n50%          NaN   24.000000   30.000000   NaN  \n75%          NaN   30.000000   34.000000   NaN  \nmax          NaN   49.000000   54.000000   NaN  \n\n[11 rows x 26 columns]",
      "text/html": "<div>\n<style scoped>\n    .dataframe tbody tr th:only-of-type {\n        vertical-align: middle;\n    }\n\n    .dataframe tbody tr th {\n        vertical-align: top;\n    }\n\n    .dataframe thead th {\n        text-align: right;\n    }\n</style>\n<table border=\"1\" class=\"dataframe\">\n  <thead>\n    <tr style=\"text-align: right;\">\n      <th></th>\n      <th>symboling</th>\n      <th>normalized-losses</th>\n      <th>make</th>\n      <th>fuel-type</th>\n      <th>aspiration</th>\n      <th>num-of-doors</th>\n      <th>body-style</th>\n      <th>drive-wheels</th>\n      <th>engine-location</th>\n      <th>wheel-base</th>\n      <th>...</th>\n      <th>engine-size</th>\n      <th>fuel-system</th>\n      <th>bore</th>\n      <th>stroke</th>\n      <th>compression-ratio</th>\n      <th>horsepower</th>\n      <th>peak-rpm</th>\n      <th>city-mpg</th>\n      <th>highway-mpg</th>\n      <th>price</th>\n    </tr>\n  </thead>\n  <tbody>\n    <tr>\n      <th>count</th>\n      <td>205.000000</td>\n      <td>205</td>\n      <td>205</td>\n      <td>205</td>\n      <td>205</td>\n      <td>205</td>\n      <td>205</td>\n      <td>205</td>\n      <td>205</td>\n      <td>205.000000</td>\n      <td>...</td>\n      <td>205.000000</td>\n      <td>205</td>\n      <td>205</td>\n      <td>205</td>\n      <td>205.000000</td>\n      <td>205</td>\n      <td>205</td>\n      <td>205.000000</td>\n      <td>205.000000</td>\n      <td>205</td>\n    </tr>\n    <tr>\n      <th>unique</th>\n      <td>NaN</td>\n      <td>52</td>\n      <td>22</td>\n      <td>2</td>\n      <td>2</td>\n      <td>3</td>\n      <td>5</td>\n      <td>3</td>\n      <td>2</td>\n      <td>NaN</td>\n      <td>...</td>\n      <td>NaN</td>\n      <td>8</td>\n      <td>39</td>\n      <td>37</td>\n      <td>NaN</td>\n      <td>60</td>\n      <td>24</td>\n      <td>NaN</td>\n      <td>NaN</td>\n      <td>187</td>\n    </tr>\n    <tr>\n      <th>top</th>\n      <td>NaN</td>\n      <td>?</td>\n      <td>toyota</td>\n      <td>gas</td>\n      <td>std</td>\n      <td>four</td>\n      <td>sedan</td>\n      <td>fwd</td>\n      <td>front</td>\n      <td>NaN</td>\n      <td>...</td>\n      <td>NaN</td>\n      <td>mpfi</td>\n      <td>3.62</td>\n      <td>3.40</td>\n      <td>NaN</td>\n      <td>68</td>\n      <td>5500</td>\n      <td>NaN</td>\n      <td>NaN</td>\n      <td>?</td>\n    </tr>\n    <tr>\n      <th>freq</th>\n      <td>NaN</td>\n      <td>41</td>\n      <td>32</td>\n      <td>185</td>\n      <td>168</td>\n      <td>114</td>\n      <td>96</td>\n      <td>120</td>\n      <td>202</td>\n      <td>NaN</td>\n      <td>...</td>\n      <td>NaN</td>\n      <td>94</td>\n      <td>23</td>\n      <td>20</td>\n      <td>NaN</td>\n      <td>19</td>\n      <td>37</td>\n      <td>NaN</td>\n      <td>NaN</td>\n      <td>4</td>\n    </tr>\n    <tr>\n      <th>mean</th>\n      <td>0.834146</td>\n      <td>NaN</td>\n      <td>NaN</td>\n      <td>NaN</td>\n      <td>NaN</td>\n      <td>NaN</td>\n      <td>NaN</td>\n      <td>NaN</td>\n      <td>NaN</td>\n      <td>98.756585</td>\n      <td>...</td>\n      <td>126.907317</td>\n      <td>NaN</td>\n      <td>NaN</td>\n      <td>NaN</td>\n      <td>10.142537</td>\n      <td>NaN</td>\n      <td>NaN</td>\n      <td>25.219512</td>\n      <td>30.751220</td>\n      <td>NaN</td>\n    </tr>\n    <tr>\n      <th>std</th>\n      <td>1.245307</td>\n      <td>NaN</td>\n      <td>NaN</td>\n      <td>NaN</td>\n      <td>NaN</td>\n      <td>NaN</td>\n      <td>NaN</td>\n      <td>NaN</td>\n      <td>NaN</td>\n      <td>6.021776</td>\n      <td>...</td>\n      <td>41.642693</td>\n      <td>NaN</td>\n      <td>NaN</td>\n      <td>NaN</td>\n      <td>3.972040</td>\n      <td>NaN</td>\n      <td>NaN</td>\n      <td>6.542142</td>\n      <td>6.886443</td>\n      <td>NaN</td>\n    </tr>\n    <tr>\n      <th>min</th>\n      <td>-2.000000</td>\n      <td>NaN</td>\n      <td>NaN</td>\n      <td>NaN</td>\n      <td>NaN</td>\n      <td>NaN</td>\n      <td>NaN</td>\n      <td>NaN</td>\n      <td>NaN</td>\n      <td>86.600000</td>\n      <td>...</td>\n      <td>61.000000</td>\n      <td>NaN</td>\n      <td>NaN</td>\n      <td>NaN</td>\n      <td>7.000000</td>\n      <td>NaN</td>\n      <td>NaN</td>\n      <td>13.000000</td>\n      <td>16.000000</td>\n      <td>NaN</td>\n    </tr>\n    <tr>\n      <th>25%</th>\n      <td>0.000000</td>\n      <td>NaN</td>\n      <td>NaN</td>\n      <td>NaN</td>\n      <td>NaN</td>\n      <td>NaN</td>\n      <td>NaN</td>\n      <td>NaN</td>\n      <td>NaN</td>\n      <td>94.500000</td>\n      <td>...</td>\n      <td>97.000000</td>\n      <td>NaN</td>\n      <td>NaN</td>\n      <td>NaN</td>\n      <td>8.600000</td>\n      <td>NaN</td>\n      <td>NaN</td>\n      <td>19.000000</td>\n      <td>25.000000</td>\n      <td>NaN</td>\n    </tr>\n    <tr>\n      <th>50%</th>\n      <td>1.000000</td>\n      <td>NaN</td>\n      <td>NaN</td>\n      <td>NaN</td>\n      <td>NaN</td>\n      <td>NaN</td>\n      <td>NaN</td>\n      <td>NaN</td>\n      <td>NaN</td>\n      <td>97.000000</td>\n      <td>...</td>\n      <td>120.000000</td>\n      <td>NaN</td>\n      <td>NaN</td>\n      <td>NaN</td>\n      <td>9.000000</td>\n      <td>NaN</td>\n      <td>NaN</td>\n      <td>24.000000</td>\n      <td>30.000000</td>\n      <td>NaN</td>\n    </tr>\n    <tr>\n      <th>75%</th>\n      <td>2.000000</td>\n      <td>NaN</td>\n      <td>NaN</td>\n      <td>NaN</td>\n      <td>NaN</td>\n      <td>NaN</td>\n      <td>NaN</td>\n      <td>NaN</td>\n      <td>NaN</td>\n      <td>102.400000</td>\n      <td>...</td>\n      <td>141.000000</td>\n      <td>NaN</td>\n      <td>NaN</td>\n      <td>NaN</td>\n      <td>9.400000</td>\n      <td>NaN</td>\n      <td>NaN</td>\n      <td>30.000000</td>\n      <td>34.000000</td>\n      <td>NaN</td>\n    </tr>\n    <tr>\n      <th>max</th>\n      <td>3.000000</td>\n      <td>NaN</td>\n      <td>NaN</td>\n      <td>NaN</td>\n      <td>NaN</td>\n      <td>NaN</td>\n      <td>NaN</td>\n      <td>NaN</td>\n      <td>NaN</td>\n      <td>120.900000</td>\n      <td>...</td>\n      <td>326.000000</td>\n      <td>NaN</td>\n      <td>NaN</td>\n      <td>NaN</td>\n      <td>23.000000</td>\n      <td>NaN</td>\n      <td>NaN</td>\n      <td>49.000000</td>\n      <td>54.000000</td>\n      <td>NaN</td>\n    </tr>\n  </tbody>\n</table>\n<p>11 rows × 26 columns</p>\n</div>"
     },
     "metadata": {}
    }
   ],
   "execution_count": 9
  },
  {
   "cell_type": "markdown",
   "source": "Vamos a reemplazar todos los valores vacíos y interrogación con nan",
   "metadata": {
    "cell_id": "a8e80e4d-045f-49c1-9ae7-e85cf067c596",
    "tags": [],
    "is_collapsed": false,
    "deepnote_cell_type": "text-cell-p"
   }
  },
  {
   "cell_type": "code",
   "source": "df_auto.replace([' ','', '?'], np.nan, inplace = True)\ndf_auto",
   "metadata": {
    "cell_id": "45dcac23-fad6-4c1d-b068-6027a27ae745",
    "tags": [],
    "deepnote_to_be_reexecuted": false,
    "source_hash": "5eb7d7b8",
    "execution_start": 1645724019105,
    "execution_millis": 109,
    "deepnote_cell_type": "code"
   },
   "outputs": [
    {
     "output_type": "execute_result",
     "execution_count": 15,
     "data": {
      "application/vnd.deepnote.dataframe.v3+json": {
       "column_count": 26,
       "row_count": 205,
       "columns": [
        {
         "name": "symboling",
         "dtype": "int64",
         "stats": {
          "unique_count": 6,
          "nan_count": 0,
          "min": "-2",
          "max": "3",
          "histogram": [
           {
            "bin_start": -2,
            "bin_end": -1.5,
            "count": 3
           },
           {
            "bin_start": -1.5,
            "bin_end": -1,
            "count": 0
           },
           {
            "bin_start": -1,
            "bin_end": -0.5,
            "count": 22
           },
           {
            "bin_start": -0.5,
            "bin_end": 0,
            "count": 0
           },
           {
            "bin_start": 0,
            "bin_end": 0.5,
            "count": 67
           },
           {
            "bin_start": 0.5,
            "bin_end": 1,
            "count": 0
           },
           {
            "bin_start": 1,
            "bin_end": 1.5,
            "count": 54
           },
           {
            "bin_start": 1.5,
            "bin_end": 2,
            "count": 0
           },
           {
            "bin_start": 2,
            "bin_end": 2.5,
            "count": 32
           },
           {
            "bin_start": 2.5,
            "bin_end": 3,
            "count": 27
           }
          ]
         }
        },
        {
         "name": "normalized-losses",
         "dtype": "object",
         "stats": {
          "unique_count": 51,
          "nan_count": 41,
          "categories": [
           {
            "name": "161",
            "count": 11
           },
           {
            "name": "50 others",
            "count": 153
           },
           {
            "name": "Missing",
            "count": 41
           }
          ]
         }
        },
        {
         "name": "make",
         "dtype": "object",
         "stats": {
          "unique_count": 22,
          "nan_count": 0,
          "categories": [
           {
            "name": "toyota",
            "count": 32
           },
           {
            "name": "nissan",
            "count": 18
           },
           {
            "name": "20 others",
            "count": 155
           }
          ]
         }
        },
        {
         "name": "fuel-type",
         "dtype": "object",
         "stats": {
          "unique_count": 2,
          "nan_count": 0,
          "categories": [
           {
            "name": "gas",
            "count": 185
           },
           {
            "name": "diesel",
            "count": 20
           }
          ]
         }
        },
        {
         "name": "aspiration",
         "dtype": "object",
         "stats": {
          "unique_count": 2,
          "nan_count": 0,
          "categories": [
           {
            "name": "std",
            "count": 168
           },
           {
            "name": "turbo",
            "count": 37
           }
          ]
         }
        },
        {
         "name": "num-of-doors",
         "dtype": "object",
         "stats": {
          "unique_count": 2,
          "nan_count": 2,
          "categories": [
           {
            "name": "four",
            "count": 114
           },
           {
            "name": "two",
            "count": 89
           },
           {
            "name": "Missing",
            "count": 2
           }
          ]
         }
        },
        {
         "name": "body-style",
         "dtype": "object",
         "stats": {
          "unique_count": 5,
          "nan_count": 0,
          "categories": [
           {
            "name": "sedan",
            "count": 96
           },
           {
            "name": "hatchback",
            "count": 70
           },
           {
            "name": "3 others",
            "count": 39
           }
          ]
         }
        },
        {
         "name": "drive-wheels",
         "dtype": "object",
         "stats": {
          "unique_count": 3,
          "nan_count": 0,
          "categories": [
           {
            "name": "fwd",
            "count": 120
           },
           {
            "name": "rwd",
            "count": 76
           },
           {
            "name": "4wd",
            "count": 9
           }
          ]
         }
        },
        {
         "name": "engine-location",
         "dtype": "object",
         "stats": {
          "unique_count": 2,
          "nan_count": 0,
          "categories": [
           {
            "name": "front",
            "count": 202
           },
           {
            "name": "rear",
            "count": 3
           }
          ]
         }
        },
        {
         "name": "wheel-base",
         "dtype": "float64",
         "stats": {
          "unique_count": 53,
          "nan_count": 0,
          "min": "86.6",
          "max": "120.9",
          "histogram": [
           {
            "bin_start": 86.6,
            "bin_end": 90.03,
            "count": 8
           },
           {
            "bin_start": 90.03,
            "bin_end": 93.46,
            "count": 9
           },
           {
            "bin_start": 93.46,
            "bin_end": 96.89,
            "count": 83
           },
           {
            "bin_start": 96.89,
            "bin_end": 100.32,
            "count": 42
           },
           {
            "bin_start": 100.32,
            "bin_end": 103.75,
            "count": 24
           },
           {
            "bin_start": 103.75,
            "bin_end": 107.18,
            "count": 14
           },
           {
            "bin_start": 107.18,
            "bin_end": 110.61,
            "count": 15
           },
           {
            "bin_start": 110.61,
            "bin_end": 114.04,
            "count": 3
           },
           {
            "bin_start": 114.04,
            "bin_end": 117.47,
            "count": 6
           },
           {
            "bin_start": 117.47,
            "bin_end": 120.9,
            "count": 1
           }
          ]
         }
        },
        {
         "name": "length",
         "dtype": "float64",
         "stats": {
          "unique_count": 75,
          "nan_count": 0,
          "min": "141.1",
          "max": "208.1",
          "histogram": [
           {
            "bin_start": 141.1,
            "bin_end": 147.79999999999998,
            "count": 3
           },
           {
            "bin_start": 147.79999999999998,
            "bin_end": 154.5,
            "count": 3
           },
           {
            "bin_start": 154.5,
            "bin_end": 161.2,
            "count": 29
           },
           {
            "bin_start": 161.2,
            "bin_end": 167.9,
            "count": 23
           },
           {
            "bin_start": 167.9,
            "bin_end": 174.6,
            "count": 54
           },
           {
            "bin_start": 174.6,
            "bin_end": 181.3,
            "count": 39
           },
           {
            "bin_start": 181.3,
            "bin_end": 188,
            "count": 23
           },
           {
            "bin_start": 188,
            "bin_end": 194.7,
            "count": 20
           },
           {
            "bin_start": 194.7,
            "bin_end": 201.4,
            "count": 8
           },
           {
            "bin_start": 201.4,
            "bin_end": 208.1,
            "count": 3
           }
          ]
         }
        },
        {
         "name": "width",
         "dtype": "float64",
         "stats": {
          "unique_count": 44,
          "nan_count": 0,
          "min": "60.3",
          "max": "72.3",
          "histogram": [
           {
            "bin_start": 60.3,
            "bin_end": 61.5,
            "count": 1
           },
           {
            "bin_start": 61.5,
            "bin_end": 62.699999999999996,
            "count": 2
           },
           {
            "bin_start": 62.699999999999996,
            "bin_end": 63.9,
            "count": 36
           },
           {
            "bin_start": 63.9,
            "bin_end": 65.1,
            "count": 39
           },
           {
            "bin_start": 65.1,
            "bin_end": 66.3,
            "count": 44
           },
           {
            "bin_start": 66.3,
            "bin_end": 67.5,
            "count": 42
           },
           {
            "bin_start": 67.5,
            "bin_end": 68.7,
            "count": 20
           },
           {
            "bin_start": 68.7,
            "bin_end": 69.89999999999999,
            "count": 7
           },
           {
            "bin_start": 69.89999999999999,
            "bin_end": 71.1,
            "count": 6
           },
           {
            "bin_start": 71.1,
            "bin_end": 72.3,
            "count": 8
           }
          ]
         }
        },
        {
         "name": "height",
         "dtype": "float64",
         "stats": {
          "unique_count": 49,
          "nan_count": 0,
          "min": "47.8",
          "max": "59.8",
          "histogram": [
           {
            "bin_start": 47.8,
            "bin_end": 49,
            "count": 3
           },
           {
            "bin_start": 49,
            "bin_end": 50.199999999999996,
            "count": 9
           },
           {
            "bin_start": 50.199999999999996,
            "bin_end": 51.4,
            "count": 28
           },
           {
            "bin_start": 51.4,
            "bin_end": 52.599999999999994,
            "count": 25
           },
           {
            "bin_start": 52.599999999999994,
            "bin_end": 53.8,
            "count": 33
           },
           {
            "bin_start": 53.8,
            "bin_end": 55,
            "count": 41
           },
           {
            "bin_start": 55,
            "bin_end": 56.199999999999996,
            "count": 38
           },
           {
            "bin_start": 56.199999999999996,
            "bin_end": 57.4,
            "count": 15
           },
           {
            "bin_start": 57.4,
            "bin_end": 58.599999999999994,
            "count": 4
           },
           {
            "bin_start": 58.599999999999994,
            "bin_end": 59.8,
            "count": 9
           }
          ]
         }
        },
        {
         "name": "curb-weight",
         "dtype": "int64",
         "stats": {
          "unique_count": 171,
          "nan_count": 0,
          "min": "1488",
          "max": "4066",
          "histogram": [
           {
            "bin_start": 1488,
            "bin_end": 1745.8,
            "count": 2
           },
           {
            "bin_start": 1745.8,
            "bin_end": 2003.6,
            "count": 29
           },
           {
            "bin_start": 2003.6,
            "bin_end": 2261.4,
            "count": 33
           },
           {
            "bin_start": 2261.4,
            "bin_end": 2519.2,
            "count": 50
           },
           {
            "bin_start": 2519.2,
            "bin_end": 2777,
            "count": 25
           },
           {
            "bin_start": 2777,
            "bin_end": 3034.8,
            "count": 23
           },
           {
            "bin_start": 3034.8,
            "bin_end": 3292.6000000000004,
            "count": 26
           },
           {
            "bin_start": 3292.6000000000004,
            "bin_end": 3550.4,
            "count": 8
           },
           {
            "bin_start": 3550.4,
            "bin_end": 3808.2000000000003,
            "count": 5
           },
           {
            "bin_start": 3808.2000000000003,
            "bin_end": 4066,
            "count": 4
           }
          ]
         }
        },
        {
         "name": "engine-type",
         "dtype": "object",
         "stats": {
          "unique_count": 7,
          "nan_count": 0,
          "categories": [
           {
            "name": "ohc",
            "count": 148
           },
           {
            "name": "ohcf",
            "count": 15
           },
           {
            "name": "5 others",
            "count": 42
           }
          ]
         }
        },
        {
         "name": "num-of-cylinders",
         "dtype": "object",
         "stats": {
          "unique_count": 7,
          "nan_count": 0,
          "categories": [
           {
            "name": "four",
            "count": 159
           },
           {
            "name": "six",
            "count": 24
           },
           {
            "name": "5 others",
            "count": 22
           }
          ]
         }
        },
        {
         "name": "engine-size",
         "dtype": "int64",
         "stats": {
          "unique_count": 44,
          "nan_count": 0,
          "min": "61",
          "max": "326",
          "histogram": [
           {
            "bin_start": 61,
            "bin_end": 87.5,
            "count": 6
           },
           {
            "bin_start": 87.5,
            "bin_end": 114,
            "count": 95
           },
           {
            "bin_start": 114,
            "bin_end": 140.5,
            "count": 46
           },
           {
            "bin_start": 140.5,
            "bin_end": 167,
            "count": 30
           },
           {
            "bin_start": 167,
            "bin_end": 193.5,
            "count": 14
           },
           {
            "bin_start": 193.5,
            "bin_end": 220,
            "count": 7
           },
           {
            "bin_start": 220,
            "bin_end": 246.5,
            "count": 2
           },
           {
            "bin_start": 246.5,
            "bin_end": 273,
            "count": 2
           },
           {
            "bin_start": 273,
            "bin_end": 299.5,
            "count": 0
           },
           {
            "bin_start": 299.5,
            "bin_end": 326,
            "count": 3
           }
          ]
         }
        },
        {
         "name": "fuel-system",
         "dtype": "object",
         "stats": {
          "unique_count": 8,
          "nan_count": 0,
          "categories": [
           {
            "name": "mpfi",
            "count": 94
           },
           {
            "name": "2bbl",
            "count": 66
           },
           {
            "name": "6 others",
            "count": 45
           }
          ]
         }
        },
        {
         "name": "bore",
         "dtype": "object",
         "stats": {
          "unique_count": 38,
          "nan_count": 4,
          "categories": [
           {
            "name": "3.62",
            "count": 23
           },
           {
            "name": "37 others",
            "count": 178
           },
           {
            "name": "Missing",
            "count": 4
           }
          ]
         }
        },
        {
         "name": "stroke",
         "dtype": "object",
         "stats": {
          "unique_count": 36,
          "nan_count": 4,
          "categories": [
           {
            "name": "3.40",
            "count": 20
           },
           {
            "name": "35 others",
            "count": 181
           },
           {
            "name": "Missing",
            "count": 4
           }
          ]
         }
        },
        {
         "name": "compression-ratio",
         "dtype": "float64",
         "stats": {
          "unique_count": 32,
          "nan_count": 0,
          "min": "7.0",
          "max": "23.0",
          "histogram": [
           {
            "bin_start": 7,
            "bin_end": 8.6,
            "count": 51
           },
           {
            "bin_start": 8.6,
            "bin_end": 10.2,
            "count": 133
           },
           {
            "bin_start": 10.2,
            "bin_end": 11.8,
            "count": 1
           },
           {
            "bin_start": 11.8,
            "bin_end": 13.4,
            "count": 0
           },
           {
            "bin_start": 13.4,
            "bin_end": 15,
            "count": 0
           },
           {
            "bin_start": 15,
            "bin_end": 16.6,
            "count": 0
           },
           {
            "bin_start": 16.6,
            "bin_end": 18.200000000000003,
            "count": 0
           },
           {
            "bin_start": 18.200000000000003,
            "bin_end": 19.8,
            "count": 0
           },
           {
            "bin_start": 19.8,
            "bin_end": 21.4,
            "count": 5
           },
           {
            "bin_start": 21.4,
            "bin_end": 23,
            "count": 15
           }
          ]
         }
        },
        {
         "name": "horsepower",
         "dtype": "object",
         "stats": {
          "unique_count": 59,
          "nan_count": 2,
          "categories": [
           {
            "name": "68",
            "count": 19
           },
           {
            "name": "58 others",
            "count": 184
           },
           {
            "name": "Missing",
            "count": 2
           }
          ]
         }
        },
        {
         "name": "peak-rpm",
         "dtype": "object",
         "stats": {
          "unique_count": 23,
          "nan_count": 2,
          "categories": [
           {
            "name": "5500",
            "count": 37
           },
           {
            "name": "22 others",
            "count": 166
           },
           {
            "name": "Missing",
            "count": 2
           }
          ]
         }
        },
        {
         "name": "city-mpg",
         "dtype": "int64",
         "stats": {
          "unique_count": 29,
          "nan_count": 0,
          "min": "13",
          "max": "49",
          "histogram": [
           {
            "bin_start": 13,
            "bin_end": 16.6,
            "count": 12
           },
           {
            "bin_start": 16.6,
            "bin_end": 20.2,
            "count": 46
           },
           {
            "bin_start": 20.2,
            "bin_end": 23.8,
            "count": 24
           },
           {
            "bin_start": 23.8,
            "bin_end": 27.4,
            "count": 56
           },
           {
            "bin_start": 27.4,
            "bin_end": 31,
            "count": 18
           },
           {
            "bin_start": 31,
            "bin_end": 34.6,
            "count": 31
           },
           {
            "bin_start": 34.6,
            "bin_end": 38.2,
            "count": 15
           },
           {
            "bin_start": 38.2,
            "bin_end": 41.8,
            "count": 0
           },
           {
            "bin_start": 41.8,
            "bin_end": 45.4,
            "count": 1
           },
           {
            "bin_start": 45.4,
            "bin_end": 49,
            "count": 2
           }
          ]
         }
        },
        {
         "name": "highway-mpg",
         "dtype": "int64",
         "stats": {
          "unique_count": 30,
          "nan_count": 0,
          "min": "16",
          "max": "54",
          "histogram": [
           {
            "bin_start": 16,
            "bin_end": 19.8,
            "count": 7
           },
           {
            "bin_start": 19.8,
            "bin_end": 23.6,
            "count": 17
           },
           {
            "bin_start": 23.6,
            "bin_end": 27.4,
            "count": 44
           },
           {
            "bin_start": 27.4,
            "bin_end": 31.2,
            "count": 47
           },
           {
            "bin_start": 31.2,
            "bin_end": 35,
            "count": 39
           },
           {
            "bin_start": 35,
            "bin_end": 38.8,
            "count": 32
           },
           {
            "bin_start": 38.8,
            "bin_end": 42.599999999999994,
            "count": 8
           },
           {
            "bin_start": 42.599999999999994,
            "bin_end": 46.4,
            "count": 6
           },
           {
            "bin_start": 46.4,
            "bin_end": 50.199999999999996,
            "count": 3
           },
           {
            "bin_start": 50.199999999999996,
            "bin_end": 54,
            "count": 2
           }
          ]
         }
        },
        {
         "name": "price",
         "dtype": "object",
         "stats": {
          "unique_count": 186,
          "nan_count": 4,
          "categories": [
           {
            "name": "16500",
            "count": 2
           },
           {
            "name": "185 others",
            "count": 199
           },
           {
            "name": "Missing",
            "count": 4
           }
          ]
         }
        },
        {
         "name": "_deepnote_index_column",
         "dtype": "int64"
        }
       ],
       "rows": [
        {
         "symboling": 3,
         "normalized-losses": "nan",
         "make": "alfa-romero",
         "fuel-type": "gas",
         "aspiration": "std",
         "num-of-doors": "two",
         "body-style": "convertible",
         "drive-wheels": "rwd",
         "engine-location": "front",
         "wheel-base": 88.6,
         "length": 168.8,
         "width": 64.1,
         "height": 48.8,
         "curb-weight": 2548,
         "engine-type": "dohc",
         "num-of-cylinders": "four",
         "engine-size": 130,
         "fuel-system": "mpfi",
         "bore": "3.47",
         "stroke": "2.68",
         "compression-ratio": 9,
         "horsepower": "111",
         "peak-rpm": "5000",
         "city-mpg": 21,
         "highway-mpg": 27,
         "price": "13495",
         "_deepnote_index_column": 0
        },
        {
         "symboling": 3,
         "normalized-losses": "nan",
         "make": "alfa-romero",
         "fuel-type": "gas",
         "aspiration": "std",
         "num-of-doors": "two",
         "body-style": "convertible",
         "drive-wheels": "rwd",
         "engine-location": "front",
         "wheel-base": 88.6,
         "length": 168.8,
         "width": 64.1,
         "height": 48.8,
         "curb-weight": 2548,
         "engine-type": "dohc",
         "num-of-cylinders": "four",
         "engine-size": 130,
         "fuel-system": "mpfi",
         "bore": "3.47",
         "stroke": "2.68",
         "compression-ratio": 9,
         "horsepower": "111",
         "peak-rpm": "5000",
         "city-mpg": 21,
         "highway-mpg": 27,
         "price": "16500",
         "_deepnote_index_column": 1
        },
        {
         "symboling": 1,
         "normalized-losses": "nan",
         "make": "alfa-romero",
         "fuel-type": "gas",
         "aspiration": "std",
         "num-of-doors": "two",
         "body-style": "hatchback",
         "drive-wheels": "rwd",
         "engine-location": "front",
         "wheel-base": 94.5,
         "length": 171.2,
         "width": 65.5,
         "height": 52.4,
         "curb-weight": 2823,
         "engine-type": "ohcv",
         "num-of-cylinders": "six",
         "engine-size": 152,
         "fuel-system": "mpfi",
         "bore": "2.68",
         "stroke": "3.47",
         "compression-ratio": 9,
         "horsepower": "154",
         "peak-rpm": "5000",
         "city-mpg": 19,
         "highway-mpg": 26,
         "price": "16500",
         "_deepnote_index_column": 2
        },
        {
         "symboling": 2,
         "normalized-losses": "164",
         "make": "audi",
         "fuel-type": "gas",
         "aspiration": "std",
         "num-of-doors": "four",
         "body-style": "sedan",
         "drive-wheels": "fwd",
         "engine-location": "front",
         "wheel-base": 99.8,
         "length": 176.6,
         "width": 66.2,
         "height": 54.3,
         "curb-weight": 2337,
         "engine-type": "ohc",
         "num-of-cylinders": "four",
         "engine-size": 109,
         "fuel-system": "mpfi",
         "bore": "3.19",
         "stroke": "3.40",
         "compression-ratio": 10,
         "horsepower": "102",
         "peak-rpm": "5500",
         "city-mpg": 24,
         "highway-mpg": 30,
         "price": "13950",
         "_deepnote_index_column": 3
        },
        {
         "symboling": 2,
         "normalized-losses": "164",
         "make": "audi",
         "fuel-type": "gas",
         "aspiration": "std",
         "num-of-doors": "four",
         "body-style": "sedan",
         "drive-wheels": "4wd",
         "engine-location": "front",
         "wheel-base": 99.4,
         "length": 176.6,
         "width": 66.4,
         "height": 54.3,
         "curb-weight": 2824,
         "engine-type": "ohc",
         "num-of-cylinders": "five",
         "engine-size": 136,
         "fuel-system": "mpfi",
         "bore": "3.19",
         "stroke": "3.40",
         "compression-ratio": 8,
         "horsepower": "115",
         "peak-rpm": "5500",
         "city-mpg": 18,
         "highway-mpg": 22,
         "price": "17450",
         "_deepnote_index_column": 4
        },
        {
         "symboling": 2,
         "normalized-losses": "nan",
         "make": "audi",
         "fuel-type": "gas",
         "aspiration": "std",
         "num-of-doors": "two",
         "body-style": "sedan",
         "drive-wheels": "fwd",
         "engine-location": "front",
         "wheel-base": 99.8,
         "length": 177.3,
         "width": 66.3,
         "height": 53.1,
         "curb-weight": 2507,
         "engine-type": "ohc",
         "num-of-cylinders": "five",
         "engine-size": 136,
         "fuel-system": "mpfi",
         "bore": "3.19",
         "stroke": "3.40",
         "compression-ratio": 8.5,
         "horsepower": "110",
         "peak-rpm": "5500",
         "city-mpg": 19,
         "highway-mpg": 25,
         "price": "15250",
         "_deepnote_index_column": 5
        },
        {
         "symboling": 1,
         "normalized-losses": "158",
         "make": "audi",
         "fuel-type": "gas",
         "aspiration": "std",
         "num-of-doors": "four",
         "body-style": "sedan",
         "drive-wheels": "fwd",
         "engine-location": "front",
         "wheel-base": 105.8,
         "length": 192.7,
         "width": 71.4,
         "height": 55.7,
         "curb-weight": 2844,
         "engine-type": "ohc",
         "num-of-cylinders": "five",
         "engine-size": 136,
         "fuel-system": "mpfi",
         "bore": "3.19",
         "stroke": "3.40",
         "compression-ratio": 8.5,
         "horsepower": "110",
         "peak-rpm": "5500",
         "city-mpg": 19,
         "highway-mpg": 25,
         "price": "17710",
         "_deepnote_index_column": 6
        },
        {
         "symboling": 1,
         "normalized-losses": "nan",
         "make": "audi",
         "fuel-type": "gas",
         "aspiration": "std",
         "num-of-doors": "four",
         "body-style": "wagon",
         "drive-wheels": "fwd",
         "engine-location": "front",
         "wheel-base": 105.8,
         "length": 192.7,
         "width": 71.4,
         "height": 55.7,
         "curb-weight": 2954,
         "engine-type": "ohc",
         "num-of-cylinders": "five",
         "engine-size": 136,
         "fuel-system": "mpfi",
         "bore": "3.19",
         "stroke": "3.40",
         "compression-ratio": 8.5,
         "horsepower": "110",
         "peak-rpm": "5500",
         "city-mpg": 19,
         "highway-mpg": 25,
         "price": "18920",
         "_deepnote_index_column": 7
        },
        {
         "symboling": 1,
         "normalized-losses": "158",
         "make": "audi",
         "fuel-type": "gas",
         "aspiration": "turbo",
         "num-of-doors": "four",
         "body-style": "sedan",
         "drive-wheels": "fwd",
         "engine-location": "front",
         "wheel-base": 105.8,
         "length": 192.7,
         "width": 71.4,
         "height": 55.9,
         "curb-weight": 3086,
         "engine-type": "ohc",
         "num-of-cylinders": "five",
         "engine-size": 131,
         "fuel-system": "mpfi",
         "bore": "3.13",
         "stroke": "3.40",
         "compression-ratio": 8.3,
         "horsepower": "140",
         "peak-rpm": "5500",
         "city-mpg": 17,
         "highway-mpg": 20,
         "price": "23875",
         "_deepnote_index_column": 8
        },
        {
         "symboling": 0,
         "normalized-losses": "nan",
         "make": "audi",
         "fuel-type": "gas",
         "aspiration": "turbo",
         "num-of-doors": "two",
         "body-style": "hatchback",
         "drive-wheels": "4wd",
         "engine-location": "front",
         "wheel-base": 99.5,
         "length": 178.2,
         "width": 67.9,
         "height": 52,
         "curb-weight": 3053,
         "engine-type": "ohc",
         "num-of-cylinders": "five",
         "engine-size": 131,
         "fuel-system": "mpfi",
         "bore": "3.13",
         "stroke": "3.40",
         "compression-ratio": 7,
         "horsepower": "160",
         "peak-rpm": "5500",
         "city-mpg": 16,
         "highway-mpg": 22,
         "price": "nan",
         "_deepnote_index_column": 9
        }
       ]
      },
      "text/plain": "     symboling normalized-losses         make fuel-type aspiration  \\\n0            3               NaN  alfa-romero       gas        std   \n1            3               NaN  alfa-romero       gas        std   \n2            1               NaN  alfa-romero       gas        std   \n3            2               164         audi       gas        std   \n4            2               164         audi       gas        std   \n..         ...               ...          ...       ...        ...   \n200         -1                95        volvo       gas        std   \n201         -1                95        volvo       gas      turbo   \n202         -1                95        volvo       gas        std   \n203         -1                95        volvo    diesel      turbo   \n204         -1                95        volvo       gas      turbo   \n\n    num-of-doors   body-style drive-wheels engine-location  wheel-base  ...  \\\n0            two  convertible          rwd           front        88.6  ...   \n1            two  convertible          rwd           front        88.6  ...   \n2            two    hatchback          rwd           front        94.5  ...   \n3           four        sedan          fwd           front        99.8  ...   \n4           four        sedan          4wd           front        99.4  ...   \n..           ...          ...          ...             ...         ...  ...   \n200         four        sedan          rwd           front       109.1  ...   \n201         four        sedan          rwd           front       109.1  ...   \n202         four        sedan          rwd           front       109.1  ...   \n203         four        sedan          rwd           front       109.1  ...   \n204         four        sedan          rwd           front       109.1  ...   \n\n     engine-size  fuel-system  bore  stroke compression-ratio horsepower  \\\n0            130         mpfi  3.47    2.68               9.0        111   \n1            130         mpfi  3.47    2.68               9.0        111   \n2            152         mpfi  2.68    3.47               9.0        154   \n3            109         mpfi  3.19    3.40              10.0        102   \n4            136         mpfi  3.19    3.40               8.0        115   \n..           ...          ...   ...     ...               ...        ...   \n200          141         mpfi  3.78    3.15               9.5        114   \n201          141         mpfi  3.78    3.15               8.7        160   \n202          173         mpfi  3.58    2.87               8.8        134   \n203          145          idi  3.01    3.40              23.0        106   \n204          141         mpfi  3.78    3.15               9.5        114   \n\n     peak-rpm city-mpg highway-mpg  price  \n0        5000       21          27  13495  \n1        5000       21          27  16500  \n2        5000       19          26  16500  \n3        5500       24          30  13950  \n4        5500       18          22  17450  \n..        ...      ...         ...    ...  \n200      5400       23          28  16845  \n201      5300       19          25  19045  \n202      5500       18          23  21485  \n203      4800       26          27  22470  \n204      5400       19          25  22625  \n\n[205 rows x 26 columns]",
      "text/html": "<div>\n<style scoped>\n    .dataframe tbody tr th:only-of-type {\n        vertical-align: middle;\n    }\n\n    .dataframe tbody tr th {\n        vertical-align: top;\n    }\n\n    .dataframe thead th {\n        text-align: right;\n    }\n</style>\n<table border=\"1\" class=\"dataframe\">\n  <thead>\n    <tr style=\"text-align: right;\">\n      <th></th>\n      <th>symboling</th>\n      <th>normalized-losses</th>\n      <th>make</th>\n      <th>fuel-type</th>\n      <th>aspiration</th>\n      <th>num-of-doors</th>\n      <th>body-style</th>\n      <th>drive-wheels</th>\n      <th>engine-location</th>\n      <th>wheel-base</th>\n      <th>...</th>\n      <th>engine-size</th>\n      <th>fuel-system</th>\n      <th>bore</th>\n      <th>stroke</th>\n      <th>compression-ratio</th>\n      <th>horsepower</th>\n      <th>peak-rpm</th>\n      <th>city-mpg</th>\n      <th>highway-mpg</th>\n      <th>price</th>\n    </tr>\n  </thead>\n  <tbody>\n    <tr>\n      <th>0</th>\n      <td>3</td>\n      <td>NaN</td>\n      <td>alfa-romero</td>\n      <td>gas</td>\n      <td>std</td>\n      <td>two</td>\n      <td>convertible</td>\n      <td>rwd</td>\n      <td>front</td>\n      <td>88.6</td>\n      <td>...</td>\n      <td>130</td>\n      <td>mpfi</td>\n      <td>3.47</td>\n      <td>2.68</td>\n      <td>9.0</td>\n      <td>111</td>\n      <td>5000</td>\n      <td>21</td>\n      <td>27</td>\n      <td>13495</td>\n    </tr>\n    <tr>\n      <th>1</th>\n      <td>3</td>\n      <td>NaN</td>\n      <td>alfa-romero</td>\n      <td>gas</td>\n      <td>std</td>\n      <td>two</td>\n      <td>convertible</td>\n      <td>rwd</td>\n      <td>front</td>\n      <td>88.6</td>\n      <td>...</td>\n      <td>130</td>\n      <td>mpfi</td>\n      <td>3.47</td>\n      <td>2.68</td>\n      <td>9.0</td>\n      <td>111</td>\n      <td>5000</td>\n      <td>21</td>\n      <td>27</td>\n      <td>16500</td>\n    </tr>\n    <tr>\n      <th>2</th>\n      <td>1</td>\n      <td>NaN</td>\n      <td>alfa-romero</td>\n      <td>gas</td>\n      <td>std</td>\n      <td>two</td>\n      <td>hatchback</td>\n      <td>rwd</td>\n      <td>front</td>\n      <td>94.5</td>\n      <td>...</td>\n      <td>152</td>\n      <td>mpfi</td>\n      <td>2.68</td>\n      <td>3.47</td>\n      <td>9.0</td>\n      <td>154</td>\n      <td>5000</td>\n      <td>19</td>\n      <td>26</td>\n      <td>16500</td>\n    </tr>\n    <tr>\n      <th>3</th>\n      <td>2</td>\n      <td>164</td>\n      <td>audi</td>\n      <td>gas</td>\n      <td>std</td>\n      <td>four</td>\n      <td>sedan</td>\n      <td>fwd</td>\n      <td>front</td>\n      <td>99.8</td>\n      <td>...</td>\n      <td>109</td>\n      <td>mpfi</td>\n      <td>3.19</td>\n      <td>3.40</td>\n      <td>10.0</td>\n      <td>102</td>\n      <td>5500</td>\n      <td>24</td>\n      <td>30</td>\n      <td>13950</td>\n    </tr>\n    <tr>\n      <th>4</th>\n      <td>2</td>\n      <td>164</td>\n      <td>audi</td>\n      <td>gas</td>\n      <td>std</td>\n      <td>four</td>\n      <td>sedan</td>\n      <td>4wd</td>\n      <td>front</td>\n      <td>99.4</td>\n      <td>...</td>\n      <td>136</td>\n      <td>mpfi</td>\n      <td>3.19</td>\n      <td>3.40</td>\n      <td>8.0</td>\n      <td>115</td>\n      <td>5500</td>\n      <td>18</td>\n      <td>22</td>\n      <td>17450</td>\n    </tr>\n    <tr>\n      <th>...</th>\n      <td>...</td>\n      <td>...</td>\n      <td>...</td>\n      <td>...</td>\n      <td>...</td>\n      <td>...</td>\n      <td>...</td>\n      <td>...</td>\n      <td>...</td>\n      <td>...</td>\n      <td>...</td>\n      <td>...</td>\n      <td>...</td>\n      <td>...</td>\n      <td>...</td>\n      <td>...</td>\n      <td>...</td>\n      <td>...</td>\n      <td>...</td>\n      <td>...</td>\n      <td>...</td>\n    </tr>\n    <tr>\n      <th>200</th>\n      <td>-1</td>\n      <td>95</td>\n      <td>volvo</td>\n      <td>gas</td>\n      <td>std</td>\n      <td>four</td>\n      <td>sedan</td>\n      <td>rwd</td>\n      <td>front</td>\n      <td>109.1</td>\n      <td>...</td>\n      <td>141</td>\n      <td>mpfi</td>\n      <td>3.78</td>\n      <td>3.15</td>\n      <td>9.5</td>\n      <td>114</td>\n      <td>5400</td>\n      <td>23</td>\n      <td>28</td>\n      <td>16845</td>\n    </tr>\n    <tr>\n      <th>201</th>\n      <td>-1</td>\n      <td>95</td>\n      <td>volvo</td>\n      <td>gas</td>\n      <td>turbo</td>\n      <td>four</td>\n      <td>sedan</td>\n      <td>rwd</td>\n      <td>front</td>\n      <td>109.1</td>\n      <td>...</td>\n      <td>141</td>\n      <td>mpfi</td>\n      <td>3.78</td>\n      <td>3.15</td>\n      <td>8.7</td>\n      <td>160</td>\n      <td>5300</td>\n      <td>19</td>\n      <td>25</td>\n      <td>19045</td>\n    </tr>\n    <tr>\n      <th>202</th>\n      <td>-1</td>\n      <td>95</td>\n      <td>volvo</td>\n      <td>gas</td>\n      <td>std</td>\n      <td>four</td>\n      <td>sedan</td>\n      <td>rwd</td>\n      <td>front</td>\n      <td>109.1</td>\n      <td>...</td>\n      <td>173</td>\n      <td>mpfi</td>\n      <td>3.58</td>\n      <td>2.87</td>\n      <td>8.8</td>\n      <td>134</td>\n      <td>5500</td>\n      <td>18</td>\n      <td>23</td>\n      <td>21485</td>\n    </tr>\n    <tr>\n      <th>203</th>\n      <td>-1</td>\n      <td>95</td>\n      <td>volvo</td>\n      <td>diesel</td>\n      <td>turbo</td>\n      <td>four</td>\n      <td>sedan</td>\n      <td>rwd</td>\n      <td>front</td>\n      <td>109.1</td>\n      <td>...</td>\n      <td>145</td>\n      <td>idi</td>\n      <td>3.01</td>\n      <td>3.40</td>\n      <td>23.0</td>\n      <td>106</td>\n      <td>4800</td>\n      <td>26</td>\n      <td>27</td>\n      <td>22470</td>\n    </tr>\n    <tr>\n      <th>204</th>\n      <td>-1</td>\n      <td>95</td>\n      <td>volvo</td>\n      <td>gas</td>\n      <td>turbo</td>\n      <td>four</td>\n      <td>sedan</td>\n      <td>rwd</td>\n      <td>front</td>\n      <td>109.1</td>\n      <td>...</td>\n      <td>141</td>\n      <td>mpfi</td>\n      <td>3.78</td>\n      <td>3.15</td>\n      <td>9.5</td>\n      <td>114</td>\n      <td>5400</td>\n      <td>19</td>\n      <td>25</td>\n      <td>22625</td>\n    </tr>\n  </tbody>\n</table>\n<p>205 rows × 26 columns</p>\n</div>"
     },
     "metadata": {}
    }
   ],
   "execution_count": 15
  },
  {
   "cell_type": "markdown",
   "source": "### Veremos si hay valores nulos",
   "metadata": {
    "cell_id": "c8658cb9-c879-478d-a941-2f88a9c443ae",
    "tags": [],
    "is_collapsed": false,
    "deepnote_cell_type": "text-cell-h3"
   }
  },
  {
   "cell_type": "code",
   "source": "df_auto_null = df_auto.isnull()\ndf_auto_null.head()",
   "metadata": {
    "cell_id": "c8aae48d-561a-4e38-bfdc-31039cc4ae22",
    "tags": [],
    "deepnote_to_be_reexecuted": false,
    "source_hash": "75e8b26e",
    "execution_start": 1645725180561,
    "execution_millis": 29,
    "deepnote_cell_type": "code"
   },
   "outputs": [
    {
     "output_type": "execute_result",
     "execution_count": 39,
     "data": {
      "application/vnd.deepnote.dataframe.v3+json": {
       "column_count": 26,
       "row_count": 5,
       "columns": [
        {
         "name": "symboling",
         "dtype": "bool",
         "stats": {
          "unique_count": 1,
          "nan_count": 0,
          "categories": [
           {
            "name": "False",
            "count": 5
           }
          ]
         }
        },
        {
         "name": "normalized-losses",
         "dtype": "bool",
         "stats": {
          "unique_count": 2,
          "nan_count": 0,
          "categories": [
           {
            "name": "True",
            "count": 3
           },
           {
            "name": "False",
            "count": 2
           }
          ]
         }
        },
        {
         "name": "make",
         "dtype": "bool",
         "stats": {
          "unique_count": 1,
          "nan_count": 0,
          "categories": [
           {
            "name": "False",
            "count": 5
           }
          ]
         }
        },
        {
         "name": "fuel-type",
         "dtype": "bool",
         "stats": {
          "unique_count": 1,
          "nan_count": 0,
          "categories": [
           {
            "name": "False",
            "count": 5
           }
          ]
         }
        },
        {
         "name": "aspiration",
         "dtype": "bool",
         "stats": {
          "unique_count": 1,
          "nan_count": 0,
          "categories": [
           {
            "name": "False",
            "count": 5
           }
          ]
         }
        },
        {
         "name": "num-of-doors",
         "dtype": "bool",
         "stats": {
          "unique_count": 1,
          "nan_count": 0,
          "categories": [
           {
            "name": "False",
            "count": 5
           }
          ]
         }
        },
        {
         "name": "body-style",
         "dtype": "bool",
         "stats": {
          "unique_count": 1,
          "nan_count": 0,
          "categories": [
           {
            "name": "False",
            "count": 5
           }
          ]
         }
        },
        {
         "name": "drive-wheels",
         "dtype": "bool",
         "stats": {
          "unique_count": 1,
          "nan_count": 0,
          "categories": [
           {
            "name": "False",
            "count": 5
           }
          ]
         }
        },
        {
         "name": "engine-location",
         "dtype": "bool",
         "stats": {
          "unique_count": 1,
          "nan_count": 0,
          "categories": [
           {
            "name": "False",
            "count": 5
           }
          ]
         }
        },
        {
         "name": "wheel-base",
         "dtype": "bool",
         "stats": {
          "unique_count": 1,
          "nan_count": 0,
          "categories": [
           {
            "name": "False",
            "count": 5
           }
          ]
         }
        },
        {
         "name": "length",
         "dtype": "bool",
         "stats": {
          "unique_count": 1,
          "nan_count": 0,
          "categories": [
           {
            "name": "False",
            "count": 5
           }
          ]
         }
        },
        {
         "name": "width",
         "dtype": "bool",
         "stats": {
          "unique_count": 1,
          "nan_count": 0,
          "categories": [
           {
            "name": "False",
            "count": 5
           }
          ]
         }
        },
        {
         "name": "height",
         "dtype": "bool",
         "stats": {
          "unique_count": 1,
          "nan_count": 0,
          "categories": [
           {
            "name": "False",
            "count": 5
           }
          ]
         }
        },
        {
         "name": "curb-weight",
         "dtype": "bool",
         "stats": {
          "unique_count": 1,
          "nan_count": 0,
          "categories": [
           {
            "name": "False",
            "count": 5
           }
          ]
         }
        },
        {
         "name": "engine-type",
         "dtype": "bool",
         "stats": {
          "unique_count": 1,
          "nan_count": 0,
          "categories": [
           {
            "name": "False",
            "count": 5
           }
          ]
         }
        },
        {
         "name": "num-of-cylinders",
         "dtype": "bool",
         "stats": {
          "unique_count": 1,
          "nan_count": 0,
          "categories": [
           {
            "name": "False",
            "count": 5
           }
          ]
         }
        },
        {
         "name": "engine-size",
         "dtype": "bool",
         "stats": {
          "unique_count": 1,
          "nan_count": 0,
          "categories": [
           {
            "name": "False",
            "count": 5
           }
          ]
         }
        },
        {
         "name": "fuel-system",
         "dtype": "bool",
         "stats": {
          "unique_count": 1,
          "nan_count": 0,
          "categories": [
           {
            "name": "False",
            "count": 5
           }
          ]
         }
        },
        {
         "name": "bore",
         "dtype": "bool",
         "stats": {
          "unique_count": 1,
          "nan_count": 0,
          "categories": [
           {
            "name": "False",
            "count": 5
           }
          ]
         }
        },
        {
         "name": "stroke",
         "dtype": "bool",
         "stats": {
          "unique_count": 1,
          "nan_count": 0,
          "categories": [
           {
            "name": "False",
            "count": 5
           }
          ]
         }
        },
        {
         "name": "compression-ratio",
         "dtype": "bool",
         "stats": {
          "unique_count": 1,
          "nan_count": 0,
          "categories": [
           {
            "name": "False",
            "count": 5
           }
          ]
         }
        },
        {
         "name": "horsepower",
         "dtype": "bool",
         "stats": {
          "unique_count": 1,
          "nan_count": 0,
          "categories": [
           {
            "name": "False",
            "count": 5
           }
          ]
         }
        },
        {
         "name": "peak-rpm",
         "dtype": "bool",
         "stats": {
          "unique_count": 1,
          "nan_count": 0,
          "categories": [
           {
            "name": "False",
            "count": 5
           }
          ]
         }
        },
        {
         "name": "city-mpg",
         "dtype": "bool",
         "stats": {
          "unique_count": 1,
          "nan_count": 0,
          "categories": [
           {
            "name": "False",
            "count": 5
           }
          ]
         }
        },
        {
         "name": "highway-mpg",
         "dtype": "bool",
         "stats": {
          "unique_count": 1,
          "nan_count": 0,
          "categories": [
           {
            "name": "False",
            "count": 5
           }
          ]
         }
        },
        {
         "name": "price",
         "dtype": "bool",
         "stats": {
          "unique_count": 1,
          "nan_count": 0,
          "categories": [
           {
            "name": "False",
            "count": 5
           }
          ]
         }
        },
        {
         "name": "_deepnote_index_column",
         "dtype": "int64"
        }
       ],
       "rows": [
        {
         "symboling": false,
         "normalized-losses": true,
         "make": false,
         "fuel-type": false,
         "aspiration": false,
         "num-of-doors": false,
         "body-style": false,
         "drive-wheels": false,
         "engine-location": false,
         "wheel-base": false,
         "length": false,
         "width": false,
         "height": false,
         "curb-weight": false,
         "engine-type": false,
         "num-of-cylinders": false,
         "engine-size": false,
         "fuel-system": false,
         "bore": false,
         "stroke": false,
         "compression-ratio": false,
         "horsepower": false,
         "peak-rpm": false,
         "city-mpg": false,
         "highway-mpg": false,
         "price": false,
         "_deepnote_index_column": 0
        },
        {
         "symboling": false,
         "normalized-losses": true,
         "make": false,
         "fuel-type": false,
         "aspiration": false,
         "num-of-doors": false,
         "body-style": false,
         "drive-wheels": false,
         "engine-location": false,
         "wheel-base": false,
         "length": false,
         "width": false,
         "height": false,
         "curb-weight": false,
         "engine-type": false,
         "num-of-cylinders": false,
         "engine-size": false,
         "fuel-system": false,
         "bore": false,
         "stroke": false,
         "compression-ratio": false,
         "horsepower": false,
         "peak-rpm": false,
         "city-mpg": false,
         "highway-mpg": false,
         "price": false,
         "_deepnote_index_column": 1
        },
        {
         "symboling": false,
         "normalized-losses": true,
         "make": false,
         "fuel-type": false,
         "aspiration": false,
         "num-of-doors": false,
         "body-style": false,
         "drive-wheels": false,
         "engine-location": false,
         "wheel-base": false,
         "length": false,
         "width": false,
         "height": false,
         "curb-weight": false,
         "engine-type": false,
         "num-of-cylinders": false,
         "engine-size": false,
         "fuel-system": false,
         "bore": false,
         "stroke": false,
         "compression-ratio": false,
         "horsepower": false,
         "peak-rpm": false,
         "city-mpg": false,
         "highway-mpg": false,
         "price": false,
         "_deepnote_index_column": 2
        },
        {
         "symboling": false,
         "normalized-losses": false,
         "make": false,
         "fuel-type": false,
         "aspiration": false,
         "num-of-doors": false,
         "body-style": false,
         "drive-wheels": false,
         "engine-location": false,
         "wheel-base": false,
         "length": false,
         "width": false,
         "height": false,
         "curb-weight": false,
         "engine-type": false,
         "num-of-cylinders": false,
         "engine-size": false,
         "fuel-system": false,
         "bore": false,
         "stroke": false,
         "compression-ratio": false,
         "horsepower": false,
         "peak-rpm": false,
         "city-mpg": false,
         "highway-mpg": false,
         "price": false,
         "_deepnote_index_column": 3
        },
        {
         "symboling": false,
         "normalized-losses": false,
         "make": false,
         "fuel-type": false,
         "aspiration": false,
         "num-of-doors": false,
         "body-style": false,
         "drive-wheels": false,
         "engine-location": false,
         "wheel-base": false,
         "length": false,
         "width": false,
         "height": false,
         "curb-weight": false,
         "engine-type": false,
         "num-of-cylinders": false,
         "engine-size": false,
         "fuel-system": false,
         "bore": false,
         "stroke": false,
         "compression-ratio": false,
         "horsepower": false,
         "peak-rpm": false,
         "city-mpg": false,
         "highway-mpg": false,
         "price": false,
         "_deepnote_index_column": 4
        }
       ]
      },
      "text/plain": "   symboling  normalized-losses   make  fuel-type  aspiration  num-of-doors  \\\n0      False               True  False      False       False         False   \n1      False               True  False      False       False         False   \n2      False               True  False      False       False         False   \n3      False              False  False      False       False         False   \n4      False              False  False      False       False         False   \n\n   body-style  drive-wheels  engine-location  wheel-base  ...  engine-size  \\\n0       False         False            False       False  ...        False   \n1       False         False            False       False  ...        False   \n2       False         False            False       False  ...        False   \n3       False         False            False       False  ...        False   \n4       False         False            False       False  ...        False   \n\n   fuel-system   bore  stroke  compression-ratio  horsepower  peak-rpm  \\\n0        False  False   False              False       False     False   \n1        False  False   False              False       False     False   \n2        False  False   False              False       False     False   \n3        False  False   False              False       False     False   \n4        False  False   False              False       False     False   \n\n   city-mpg  highway-mpg  price  \n0     False        False  False  \n1     False        False  False  \n2     False        False  False  \n3     False        False  False  \n4     False        False  False  \n\n[5 rows x 26 columns]",
      "text/html": "<div>\n<style scoped>\n    .dataframe tbody tr th:only-of-type {\n        vertical-align: middle;\n    }\n\n    .dataframe tbody tr th {\n        vertical-align: top;\n    }\n\n    .dataframe thead th {\n        text-align: right;\n    }\n</style>\n<table border=\"1\" class=\"dataframe\">\n  <thead>\n    <tr style=\"text-align: right;\">\n      <th></th>\n      <th>symboling</th>\n      <th>normalized-losses</th>\n      <th>make</th>\n      <th>fuel-type</th>\n      <th>aspiration</th>\n      <th>num-of-doors</th>\n      <th>body-style</th>\n      <th>drive-wheels</th>\n      <th>engine-location</th>\n      <th>wheel-base</th>\n      <th>...</th>\n      <th>engine-size</th>\n      <th>fuel-system</th>\n      <th>bore</th>\n      <th>stroke</th>\n      <th>compression-ratio</th>\n      <th>horsepower</th>\n      <th>peak-rpm</th>\n      <th>city-mpg</th>\n      <th>highway-mpg</th>\n      <th>price</th>\n    </tr>\n  </thead>\n  <tbody>\n    <tr>\n      <th>0</th>\n      <td>False</td>\n      <td>True</td>\n      <td>False</td>\n      <td>False</td>\n      <td>False</td>\n      <td>False</td>\n      <td>False</td>\n      <td>False</td>\n      <td>False</td>\n      <td>False</td>\n      <td>...</td>\n      <td>False</td>\n      <td>False</td>\n      <td>False</td>\n      <td>False</td>\n      <td>False</td>\n      <td>False</td>\n      <td>False</td>\n      <td>False</td>\n      <td>False</td>\n      <td>False</td>\n    </tr>\n    <tr>\n      <th>1</th>\n      <td>False</td>\n      <td>True</td>\n      <td>False</td>\n      <td>False</td>\n      <td>False</td>\n      <td>False</td>\n      <td>False</td>\n      <td>False</td>\n      <td>False</td>\n      <td>False</td>\n      <td>...</td>\n      <td>False</td>\n      <td>False</td>\n      <td>False</td>\n      <td>False</td>\n      <td>False</td>\n      <td>False</td>\n      <td>False</td>\n      <td>False</td>\n      <td>False</td>\n      <td>False</td>\n    </tr>\n    <tr>\n      <th>2</th>\n      <td>False</td>\n      <td>True</td>\n      <td>False</td>\n      <td>False</td>\n      <td>False</td>\n      <td>False</td>\n      <td>False</td>\n      <td>False</td>\n      <td>False</td>\n      <td>False</td>\n      <td>...</td>\n      <td>False</td>\n      <td>False</td>\n      <td>False</td>\n      <td>False</td>\n      <td>False</td>\n      <td>False</td>\n      <td>False</td>\n      <td>False</td>\n      <td>False</td>\n      <td>False</td>\n    </tr>\n    <tr>\n      <th>3</th>\n      <td>False</td>\n      <td>False</td>\n      <td>False</td>\n      <td>False</td>\n      <td>False</td>\n      <td>False</td>\n      <td>False</td>\n      <td>False</td>\n      <td>False</td>\n      <td>False</td>\n      <td>...</td>\n      <td>False</td>\n      <td>False</td>\n      <td>False</td>\n      <td>False</td>\n      <td>False</td>\n      <td>False</td>\n      <td>False</td>\n      <td>False</td>\n      <td>False</td>\n      <td>False</td>\n    </tr>\n    <tr>\n      <th>4</th>\n      <td>False</td>\n      <td>False</td>\n      <td>False</td>\n      <td>False</td>\n      <td>False</td>\n      <td>False</td>\n      <td>False</td>\n      <td>False</td>\n      <td>False</td>\n      <td>False</td>\n      <td>...</td>\n      <td>False</td>\n      <td>False</td>\n      <td>False</td>\n      <td>False</td>\n      <td>False</td>\n      <td>False</td>\n      <td>False</td>\n      <td>False</td>\n      <td>False</td>\n      <td>False</td>\n    </tr>\n  </tbody>\n</table>\n<p>5 rows × 26 columns</p>\n</div>"
     },
     "metadata": {}
    }
   ],
   "execution_count": 39
  },
  {
   "cell_type": "code",
   "source": "columnas_con_nulos = df_auto_null.T.sum(axis = 1).to_frame(name = 'valores_nulos')\ncolumnas_con_nulos = columnas_con_nulos[columnas_con_nulos['valores_nulos'] != 0]\ncolumnas_con_nulos",
   "metadata": {
    "cell_id": "2febb5b9-92cc-4c1c-ba93-baf1eb92327d",
    "tags": [],
    "deepnote_to_be_reexecuted": false,
    "source_hash": "e03bcd27",
    "execution_start": 1645725259029,
    "execution_millis": 171,
    "deepnote_table_state": {
     "pageSize": 10,
     "pageIndex": 0,
     "filters": [],
     "sortBy": []
    },
    "deepnote_table_loading": false,
    "deepnote_cell_type": "code"
   },
   "outputs": [
    {
     "output_type": "execute_result",
     "execution_count": 42,
     "data": {
      "application/vnd.deepnote.dataframe.v3+json": {
       "column_count": 1,
       "row_count": 7,
       "columns": [
        {
         "name": "valores_nulos",
         "dtype": "int64",
         "stats": {
          "unique_count": 3,
          "nan_count": 0,
          "min": "2",
          "max": "41",
          "histogram": [
           {
            "bin_start": 2,
            "bin_end": 5.9,
            "count": 6
           },
           {
            "bin_start": 5.9,
            "bin_end": 9.8,
            "count": 0
           },
           {
            "bin_start": 9.8,
            "bin_end": 13.7,
            "count": 0
           },
           {
            "bin_start": 13.7,
            "bin_end": 17.6,
            "count": 0
           },
           {
            "bin_start": 17.6,
            "bin_end": 21.5,
            "count": 0
           },
           {
            "bin_start": 21.5,
            "bin_end": 25.4,
            "count": 0
           },
           {
            "bin_start": 25.4,
            "bin_end": 29.3,
            "count": 0
           },
           {
            "bin_start": 29.3,
            "bin_end": 33.2,
            "count": 0
           },
           {
            "bin_start": 33.2,
            "bin_end": 37.1,
            "count": 0
           },
           {
            "bin_start": 37.1,
            "bin_end": 41,
            "count": 1
           }
          ]
         }
        },
        {
         "name": "_deepnote_index_column",
         "dtype": "object"
        }
       ],
       "rows": [
        {
         "valores_nulos": 41,
         "_deepnote_index_column": "normalized-losses"
        },
        {
         "valores_nulos": 2,
         "_deepnote_index_column": "num-of-doors"
        },
        {
         "valores_nulos": 4,
         "_deepnote_index_column": "bore"
        },
        {
         "valores_nulos": 4,
         "_deepnote_index_column": "stroke"
        },
        {
         "valores_nulos": 2,
         "_deepnote_index_column": "horsepower"
        },
        {
         "valores_nulos": 2,
         "_deepnote_index_column": "peak-rpm"
        },
        {
         "valores_nulos": 4,
         "_deepnote_index_column": "price"
        }
       ]
      },
      "text/plain": "                   valores_nulos\nnormalized-losses             41\nnum-of-doors                   2\nbore                           4\nstroke                         4\nhorsepower                     2\npeak-rpm                       2\nprice                          4",
      "text/html": "<div>\n<style scoped>\n    .dataframe tbody tr th:only-of-type {\n        vertical-align: middle;\n    }\n\n    .dataframe tbody tr th {\n        vertical-align: top;\n    }\n\n    .dataframe thead th {\n        text-align: right;\n    }\n</style>\n<table border=\"1\" class=\"dataframe\">\n  <thead>\n    <tr style=\"text-align: right;\">\n      <th></th>\n      <th>valores_nulos</th>\n    </tr>\n  </thead>\n  <tbody>\n    <tr>\n      <th>normalized-losses</th>\n      <td>41</td>\n    </tr>\n    <tr>\n      <th>num-of-doors</th>\n      <td>2</td>\n    </tr>\n    <tr>\n      <th>bore</th>\n      <td>4</td>\n    </tr>\n    <tr>\n      <th>stroke</th>\n      <td>4</td>\n    </tr>\n    <tr>\n      <th>horsepower</th>\n      <td>2</td>\n    </tr>\n    <tr>\n      <th>peak-rpm</th>\n      <td>2</td>\n    </tr>\n    <tr>\n      <th>price</th>\n      <td>4</td>\n    </tr>\n  </tbody>\n</table>\n</div>"
     },
     "metadata": {}
    }
   ],
   "execution_count": 42
  },
  {
   "cell_type": "code",
   "source": "df_auto[columnas_con_nulos.index].sample(3)",
   "metadata": {
    "cell_id": "0a73a164-109c-4843-9316-4d122db69f6c",
    "tags": [],
    "deepnote_to_be_reexecuted": false,
    "source_hash": "672c41bd",
    "execution_start": 1645725688788,
    "execution_millis": 5,
    "deepnote_cell_type": "code"
   },
   "outputs": [
    {
     "output_type": "execute_result",
     "execution_count": 49,
     "data": {
      "application/vnd.deepnote.dataframe.v3+json": {
       "column_count": 7,
       "row_count": 3,
       "columns": [
        {
         "name": "normalized-losses",
         "dtype": "object",
         "stats": {
          "unique_count": 1,
          "nan_count": 2,
          "categories": [
           {
            "name": "85",
            "count": 1
           },
           {
            "name": "Missing",
            "count": 2
           }
          ]
         }
        },
        {
         "name": "num-of-doors",
         "dtype": "object",
         "stats": {
          "unique_count": 2,
          "nan_count": 1,
          "categories": [
           {
            "name": "four",
            "count": 1
           },
           {
            "name": "two",
            "count": 1
           },
           {
            "name": "Missing",
            "count": 1
           }
          ]
         }
        },
        {
         "name": "bore",
         "dtype": "object",
         "stats": {
          "unique_count": 2,
          "nan_count": 0,
          "categories": [
           {
            "name": "3.62",
            "count": 2
           },
           {
            "name": "3.39",
            "count": 1
           }
          ]
         }
        },
        {
         "name": "stroke",
         "dtype": "object",
         "stats": {
          "unique_count": 2,
          "nan_count": 0,
          "categories": [
           {
            "name": "3.39",
            "count": 2
           },
           {
            "name": "2.64",
            "count": 1
           }
          ]
         }
        },
        {
         "name": "horsepower",
         "dtype": "object",
         "stats": {
          "unique_count": 3,
          "nan_count": 0,
          "categories": [
           {
            "name": "82",
            "count": 1
           },
           {
            "name": "182",
            "count": 1
           },
           {
            "name": "64",
            "count": 1
           }
          ]
         }
        },
        {
         "name": "peak-rpm",
         "dtype": "object",
         "stats": {
          "unique_count": 3,
          "nan_count": 0,
          "categories": [
           {
            "name": "4800",
            "count": 1
           },
           {
            "name": "5400",
            "count": 1
           },
           {
            "name": "4650",
            "count": 1
           }
          ]
         }
        },
        {
         "name": "price",
         "dtype": "object",
         "stats": {
          "unique_count": 3,
          "nan_count": 0,
          "categories": [
           {
            "name": "8013",
            "count": 1
           },
           {
            "name": "41315",
            "count": 1
           },
           {
            "name": "10795",
            "count": 1
           }
          ]
         }
        },
        {
         "name": "_deepnote_index_column",
         "dtype": "int64"
        }
       ],
       "rows": [
        {
         "normalized-losses": "85",
         "num-of-doors": "four",
         "bore": "3.62",
         "stroke": "2.64",
         "horsepower": "82",
         "peak-rpm": "4800",
         "price": "8013",
         "_deepnote_index_column": 148
        },
        {
         "normalized-losses": "nan",
         "num-of-doors": "two",
         "bore": "3.62",
         "stroke": "3.39",
         "horsepower": "182",
         "peak-rpm": "5400",
         "price": "41315",
         "_deepnote_index_column": 16
        },
        {
         "normalized-losses": "nan",
         "num-of-doors": "nan",
         "bore": "3.39",
         "stroke": "3.39",
         "horsepower": "64",
         "peak-rpm": "4650",
         "price": "10795",
         "_deepnote_index_column": 63
        }
       ]
      },
      "text/plain": "    normalized-losses num-of-doors  bore stroke horsepower peak-rpm  price\n148                85         four  3.62   2.64         82     4800   8013\n16                NaN          two  3.62   3.39        182     5400  41315\n63                NaN          NaN  3.39   3.39         64     4650  10795",
      "text/html": "<div>\n<style scoped>\n    .dataframe tbody tr th:only-of-type {\n        vertical-align: middle;\n    }\n\n    .dataframe tbody tr th {\n        vertical-align: top;\n    }\n\n    .dataframe thead th {\n        text-align: right;\n    }\n</style>\n<table border=\"1\" class=\"dataframe\">\n  <thead>\n    <tr style=\"text-align: right;\">\n      <th></th>\n      <th>normalized-losses</th>\n      <th>num-of-doors</th>\n      <th>bore</th>\n      <th>stroke</th>\n      <th>horsepower</th>\n      <th>peak-rpm</th>\n      <th>price</th>\n    </tr>\n  </thead>\n  <tbody>\n    <tr>\n      <th>148</th>\n      <td>85</td>\n      <td>four</td>\n      <td>3.62</td>\n      <td>2.64</td>\n      <td>82</td>\n      <td>4800</td>\n      <td>8013</td>\n    </tr>\n    <tr>\n      <th>16</th>\n      <td>NaN</td>\n      <td>two</td>\n      <td>3.62</td>\n      <td>3.39</td>\n      <td>182</td>\n      <td>5400</td>\n      <td>41315</td>\n    </tr>\n    <tr>\n      <th>63</th>\n      <td>NaN</td>\n      <td>NaN</td>\n      <td>3.39</td>\n      <td>3.39</td>\n      <td>64</td>\n      <td>4650</td>\n      <td>10795</td>\n    </tr>\n  </tbody>\n</table>\n</div>"
     },
     "metadata": {}
    }
   ],
   "execution_count": 49
  },
  {
   "cell_type": "markdown",
   "source": "Resumen de valores nulos y qué hacer con cada uno de ellos\n\nMedia(mean):\n\n    - normalized-losses\n    - bore\n    - stroke\n    - horsepower\n    - peak-rpm\n\nFrecuencia:\n\n    - num-of-doors\n\nEliminación(Drop) Filas:\n\n    - price",
   "metadata": {
    "cell_id": "d7eba59b-8477-4450-bb00-502a58d36898",
    "tags": [],
    "deepnote_cell_type": "markdown"
   }
  },
  {
   "cell_type": "markdown",
   "source": "### Lidiamos con los valores nulos",
   "metadata": {
    "cell_id": "6e937136-25e8-4202-84db-19e247a062db",
    "tags": [],
    "is_collapsed": false,
    "deepnote_cell_type": "text-cell-h3"
   }
  },
  {
   "cell_type": "markdown",
   "source": "Primero los valores numéricos",
   "metadata": {
    "cell_id": "234bb42f-8243-41e1-9123-67873590990e",
    "tags": [],
    "is_collapsed": false,
    "deepnote_cell_type": "text-cell-p"
   }
  },
  {
   "cell_type": "code",
   "source": "normalized_losses_mean = df_auto['normalized-losses'].astype(float).mean(axis = 0)\ndf_auto['normalized-losses'].replace(np.nan, normalized_losses_mean, inplace = True)\n\nbore_mean = df_auto['bore'].astype(float).mean(axis = 0)\ndf_auto['bore'].replace(np.nan, bore_mean, inplace = True)\n\nstroke_mean = df_auto['stroke'].astype(float).mean(axis = 0)\ndf_auto['stroke'].replace(np.nan, stroke_mean, inplace = True)\n\nhorsepower_mean = df_auto['horsepower'].astype(float).mean(axis = 0)\ndf_auto['horsepower'].replace(np.nan, horsepower_mean, inplace = True)\n\npeak_rpm_mean = df_auto['peak-rpm'].astype(float).mean(axis = 0)\ndf_auto['peak-rpm'].replace(np.nan, peak_rpm_mean, inplace = True)",
   "metadata": {
    "cell_id": "552e87cd-85c7-4da6-939b-773a0ad055f2",
    "tags": [],
    "deepnote_to_be_reexecuted": false,
    "source_hash": "76a4b562",
    "execution_start": 1645726203056,
    "execution_millis": 25,
    "deepnote_cell_type": "code"
   },
   "outputs": [],
   "execution_count": 58
  },
  {
   "cell_type": "markdown",
   "source": "Ahora los valores categóricos",
   "metadata": {
    "cell_id": "c7f31b0c-6164-44e8-b17c-72724c708832",
    "tags": [],
    "is_collapsed": false,
    "deepnote_cell_type": "text-cell-p"
   }
  },
  {
   "cell_type": "code",
   "source": "# reemplazamos por el que más se repite con el que tiene mayor frecuencia\ndf_auto['num-of-doors'].value_counts()",
   "metadata": {
    "cell_id": "537fa4d3-3231-48ac-ab72-4845ee8052bf",
    "tags": [],
    "deepnote_to_be_reexecuted": false,
    "source_hash": "54b23fe0",
    "execution_start": 1645726275054,
    "execution_millis": 10,
    "deepnote_cell_type": "code"
   },
   "outputs": [
    {
     "output_type": "execute_result",
     "execution_count": 59,
     "data": {
      "text/plain": "four    114\ntwo      89\nName: num-of-doors, dtype: int64"
     },
     "metadata": {}
    }
   ],
   "execution_count": 59
  },
  {
   "cell_type": "code",
   "source": "df_auto['num-of-doors'].value_counts().idxmax()",
   "metadata": {
    "cell_id": "22a2130e-1546-499c-9c84-1cac89517fa6",
    "tags": [],
    "deepnote_to_be_reexecuted": false,
    "source_hash": "4f99ec08",
    "execution_start": 1645726334458,
    "execution_millis": 13,
    "deepnote_cell_type": "code"
   },
   "outputs": [
    {
     "output_type": "execute_result",
     "execution_count": 62,
     "data": {
      "text/plain": "'four'"
     },
     "metadata": {}
    }
   ],
   "execution_count": 62
  },
  {
   "cell_type": "code",
   "source": "df_auto['num-of-doors'].replace(np.nan, 'four', inplace = True)",
   "metadata": {
    "cell_id": "175ee85c-8833-4fe9-9867-43dedf3c7651",
    "tags": [],
    "deepnote_to_be_reexecuted": false,
    "source_hash": "2288e60e",
    "execution_start": 1645726367596,
    "execution_millis": 2,
    "deepnote_cell_type": "code"
   },
   "outputs": [],
   "execution_count": 63
  },
  {
   "cell_type": "markdown",
   "source": "Ahora eliminamos los valores nulos de la columna 'price' ya que no nos sirven",
   "metadata": {
    "cell_id": "73f94b99-3786-4235-a954-54385fee5a13",
    "tags": [],
    "is_collapsed": false,
    "deepnote_cell_type": "text-cell-p"
   }
  },
  {
   "cell_type": "code",
   "source": "df_auto.dropna(subset = ['price'], axis = 0, inplace = True)",
   "metadata": {
    "cell_id": "596b73ed-2653-43dc-abd5-d9db83f8d79a",
    "tags": [],
    "deepnote_to_be_reexecuted": false,
    "source_hash": "bf9a2bb6",
    "execution_start": 1645726734671,
    "execution_millis": 4,
    "deepnote_cell_type": "code"
   },
   "outputs": [],
   "execution_count": 64
  },
  {
   "cell_type": "code",
   "source": "df_auto.reset_index(drop = True, inplace = True)",
   "metadata": {
    "cell_id": "398d6445-5a66-47c5-bbdb-3fd2cff3f480",
    "tags": [],
    "deepnote_to_be_reexecuted": false,
    "source_hash": "9a2f7b9d",
    "execution_start": 1645726759443,
    "execution_millis": 4,
    "deepnote_cell_type": "code"
   },
   "outputs": [],
   "execution_count": 67
  },
  {
   "cell_type": "markdown",
   "source": "### Verificamos que no haya ningun valor nulo",
   "metadata": {
    "cell_id": "063ec18e-0f63-41a4-8dcb-e42584f67d15",
    "tags": [],
    "is_collapsed": false,
    "deepnote_cell_type": "text-cell-h3"
   }
  },
  {
   "cell_type": "code",
   "source": "df_null = df_auto.isnull()\ncol_nul = df_null.T.sum(axis = 1).to_frame(name = 'valores_nulos')\ncol_nul = col_nul[col_nul['valores_nulos']!=0]\ncol_nul.shape[0]",
   "metadata": {
    "cell_id": "7fb6082a-5e44-4f4e-90fc-e8cfd1ac2f3b",
    "tags": [],
    "deepnote_to_be_reexecuted": false,
    "source_hash": "828fdfc9",
    "execution_start": 1645726976687,
    "execution_millis": 15,
    "deepnote_table_state": {
     "pageSize": 50,
     "pageIndex": 0,
     "filters": [],
     "sortBy": []
    },
    "deepnote_table_loading": false,
    "deepnote_cell_type": "code"
   },
   "outputs": [
    {
     "output_type": "execute_result",
     "execution_count": 71,
     "data": {
      "text/plain": "0"
     },
     "metadata": {}
    }
   ],
   "execution_count": 71
  },
  {
   "cell_type": "markdown",
   "source": "### Cambiamos al tipo de datos correctos que son las variables",
   "metadata": {
    "cell_id": "cc6833ac-2d72-4aa3-a700-faaf68f85ab5",
    "tags": [],
    "is_collapsed": false,
    "deepnote_cell_type": "text-cell-h3"
   }
  },
  {
   "cell_type": "code",
   "source": "",
   "metadata": {
    "cell_id": "403744e8-8d4f-48c2-bfae-d9018ff911d9",
    "tags": [],
    "deepnote_cell_type": "code"
   },
   "outputs": [],
   "execution_count": null
  },
  {
   "cell_type": "markdown",
   "source": "<a style='text-decoration:none;line-height:16px;display:flex;color:#5B5B62;padding:10px;justify-content:end;' href='https://deepnote.com?utm_source=created-in-deepnote-cell&projectId=fabb4e41-fcd2-4421-bbfb-772986975631' target=\"_blank\">\n<img alt='Created in deepnote.com' style='display:inline;max-height:16px;margin:0px;margin-right:7.5px;' src='data:image/svg+xml;base64,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' > </img>\nCreated in <span style='font-weight:600;margin-left:4px;'>Deepnote</span></a>",
   "metadata": {
    "tags": [],
    "created_in_deepnote_cell": true,
    "deepnote_cell_type": "markdown"
   }
  }
 ],
 "nbformat": 4,
 "nbformat_minor": 2,
 "metadata": {
  "orig_nbformat": 2,
  "deepnote": {
   "is_reactive": false
  },
  "deepnote_notebook_id": "00a9236b-b49b-4937-9626-b2a188cfcc04",
  "deepnote_execution_queue": []
 }
}