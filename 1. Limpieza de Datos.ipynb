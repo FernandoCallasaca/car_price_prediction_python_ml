{
 "cells": [
  {
   "cell_type": "markdown",
   "source": "# Preparamos nuestro entorno de trabajo",
   "metadata": {
    "cell_id": "c63e4fd0-7bc3-4596-ac19-27d6d998ba4f",
    "tags": [],
    "is_collapsed": false,
    "deepnote_cell_type": "text-cell-h1"
   }
  },
  {
   "cell_type": "code",
   "metadata": {
    "cell_id": "9731ab32-3301-4115-be55-0d84773e4e40",
    "tags": [],
    "deepnote_to_be_reexecuted": false,
    "source_hash": "9cf760dc",
    "execution_start": 1645722483629,
    "execution_millis": 3201,
    "deepnote_cell_type": "code"
   },
   "source": "import pandas as pd\nimport numpy as np\nimport matplotlib.pyplot as plt\n%matplotlib inline\nimport seaborn as sns\nfrom scipy import stats\npd.__version__",
   "execution_count": 1,
   "outputs": [
    {
     "output_type": "execute_result",
     "execution_count": 1,
     "data": {
      "text/plain": "'1.2.5'"
     },
     "metadata": {}
    }
   ]
  },
  {
   "cell_type": "markdown",
   "source": "## Leemos nuestro dataset",
   "metadata": {
    "cell_id": "70316d00-2f4c-446a-98ab-d65e5f3092d9",
    "tags": [],
    "is_collapsed": false,
    "deepnote_cell_type": "text-cell-h2"
   }
  },
  {
   "cell_type": "code",
   "metadata": {
    "cell_id": "4113af7a-2dac-4522-beae-0afe122a7bb8",
    "tags": [],
    "deepnote_to_be_reexecuted": false,
    "source_hash": "f0867366",
    "execution_start": 1645722554943,
    "execution_millis": 3,
    "deepnote_cell_type": "code"
   },
   "source": "path_file = 'auto.csv'",
   "execution_count": 2,
   "outputs": []
  },
  {
   "cell_type": "code",
   "metadata": {
    "cell_id": "0bca6d3b-1954-4a21-bbed-26355c361275",
    "tags": [],
    "deepnote_to_be_reexecuted": false,
    "source_hash": "135363f2",
    "execution_start": 1645722561225,
    "execution_millis": 153,
    "deepnote_cell_type": "code"
   },
   "source": "df_auto = pd.read_csv(path_file)\ndf_auto",
   "execution_count": 3,
   "outputs": [
    {
     "output_type": "execute_result",
     "execution_count": 3,
     "data": {
      "application/vnd.deepnote.dataframe.v3+json": {
       "column_count": 26,
       "row_count": 204,
       "columns": [
        {
         "name": "3",
         "dtype": "int64",
         "stats": {
          "unique_count": 6,
          "nan_count": 0,
          "min": "-2",
          "max": "3",
          "histogram": [
           {
            "bin_start": -2,
            "bin_end": -1.5,
            "count": 3
           },
           {
            "bin_start": -1.5,
            "bin_end": -1,
            "count": 0
           },
           {
            "bin_start": -1,
            "bin_end": -0.5,
            "count": 22
           },
           {
            "bin_start": -0.5,
            "bin_end": 0,
            "count": 0
           },
           {
            "bin_start": 0,
            "bin_end": 0.5,
            "count": 67
           },
           {
            "bin_start": 0.5,
            "bin_end": 1,
            "count": 0
           },
           {
            "bin_start": 1,
            "bin_end": 1.5,
            "count": 54
           },
           {
            "bin_start": 1.5,
            "bin_end": 2,
            "count": 0
           },
           {
            "bin_start": 2,
            "bin_end": 2.5,
            "count": 32
           },
           {
            "bin_start": 2.5,
            "bin_end": 3,
            "count": 26
           }
          ]
         }
        },
        {
         "name": "?",
         "dtype": "object",
         "stats": {
          "unique_count": 52,
          "nan_count": 0,
          "categories": [
           {
            "name": "?",
            "count": 40
           },
           {
            "name": "161",
            "count": 11
           },
           {
            "name": "50 others",
            "count": 153
           }
          ]
         }
        },
        {
         "name": "alfa-romero",
         "dtype": "object",
         "stats": {
          "unique_count": 22,
          "nan_count": 0,
          "categories": [
           {
            "name": "toyota",
            "count": 32
           },
           {
            "name": "nissan",
            "count": 18
           },
           {
            "name": "20 others",
            "count": 154
           }
          ]
         }
        },
        {
         "name": "gas",
         "dtype": "object",
         "stats": {
          "unique_count": 2,
          "nan_count": 0,
          "categories": [
           {
            "name": "gas",
            "count": 184
           },
           {
            "name": "diesel",
            "count": 20
           }
          ]
         }
        },
        {
         "name": "std",
         "dtype": "object",
         "stats": {
          "unique_count": 2,
          "nan_count": 0,
          "categories": [
           {
            "name": "std",
            "count": 167
           },
           {
            "name": "turbo",
            "count": 37
           }
          ]
         }
        },
        {
         "name": "two",
         "dtype": "object",
         "stats": {
          "unique_count": 3,
          "nan_count": 0,
          "categories": [
           {
            "name": "four",
            "count": 114
           },
           {
            "name": "two",
            "count": 88
           },
           {
            "name": "?",
            "count": 2
           }
          ]
         }
        },
        {
         "name": "convertible",
         "dtype": "object",
         "stats": {
          "unique_count": 5,
          "nan_count": 0,
          "categories": [
           {
            "name": "sedan",
            "count": 96
           },
           {
            "name": "hatchback",
            "count": 70
           },
           {
            "name": "3 others",
            "count": 38
           }
          ]
         }
        },
        {
         "name": "rwd",
         "dtype": "object",
         "stats": {
          "unique_count": 3,
          "nan_count": 0,
          "categories": [
           {
            "name": "fwd",
            "count": 120
           },
           {
            "name": "rwd",
            "count": 75
           },
           {
            "name": "4wd",
            "count": 9
           }
          ]
         }
        },
        {
         "name": "front",
         "dtype": "object",
         "stats": {
          "unique_count": 2,
          "nan_count": 0,
          "categories": [
           {
            "name": "front",
            "count": 201
           },
           {
            "name": "rear",
            "count": 3
           }
          ]
         }
        },
        {
         "name": "88.6",
         "dtype": "float64",
         "stats": {
          "unique_count": 53,
          "nan_count": 0,
          "min": "86.6",
          "max": "120.9",
          "histogram": [
           {
            "bin_start": 86.6,
            "bin_end": 90.03,
            "count": 7
           },
           {
            "bin_start": 90.03,
            "bin_end": 93.46,
            "count": 9
           },
           {
            "bin_start": 93.46,
            "bin_end": 96.89,
            "count": 83
           },
           {
            "bin_start": 96.89,
            "bin_end": 100.32,
            "count": 42
           },
           {
            "bin_start": 100.32,
            "bin_end": 103.75,
            "count": 24
           },
           {
            "bin_start": 103.75,
            "bin_end": 107.18,
            "count": 14
           },
           {
            "bin_start": 107.18,
            "bin_end": 110.61,
            "count": 15
           },
           {
            "bin_start": 110.61,
            "bin_end": 114.04,
            "count": 3
           },
           {
            "bin_start": 114.04,
            "bin_end": 117.47,
            "count": 6
           },
           {
            "bin_start": 117.47,
            "bin_end": 120.9,
            "count": 1
           }
          ]
         }
        },
        {
         "name": "168.8",
         "dtype": "float64",
         "stats": {
          "unique_count": 75,
          "nan_count": 0,
          "min": "141.1",
          "max": "208.1",
          "histogram": [
           {
            "bin_start": 141.1,
            "bin_end": 147.79999999999998,
            "count": 3
           },
           {
            "bin_start": 147.79999999999998,
            "bin_end": 154.5,
            "count": 3
           },
           {
            "bin_start": 154.5,
            "bin_end": 161.2,
            "count": 29
           },
           {
            "bin_start": 161.2,
            "bin_end": 167.9,
            "count": 23
           },
           {
            "bin_start": 167.9,
            "bin_end": 174.6,
            "count": 53
           },
           {
            "bin_start": 174.6,
            "bin_end": 181.3,
            "count": 39
           },
           {
            "bin_start": 181.3,
            "bin_end": 188,
            "count": 23
           },
           {
            "bin_start": 188,
            "bin_end": 194.7,
            "count": 20
           },
           {
            "bin_start": 194.7,
            "bin_end": 201.4,
            "count": 8
           },
           {
            "bin_start": 201.4,
            "bin_end": 208.1,
            "count": 3
           }
          ]
         }
        },
        {
         "name": "64.1",
         "dtype": "float64",
         "stats": {
          "unique_count": 44,
          "nan_count": 0,
          "min": "60.3",
          "max": "72.3",
          "histogram": [
           {
            "bin_start": 60.3,
            "bin_end": 61.5,
            "count": 1
           },
           {
            "bin_start": 61.5,
            "bin_end": 62.699999999999996,
            "count": 2
           },
           {
            "bin_start": 62.699999999999996,
            "bin_end": 63.9,
            "count": 36
           },
           {
            "bin_start": 63.9,
            "bin_end": 65.1,
            "count": 38
           },
           {
            "bin_start": 65.1,
            "bin_end": 66.3,
            "count": 44
           },
           {
            "bin_start": 66.3,
            "bin_end": 67.5,
            "count": 42
           },
           {
            "bin_start": 67.5,
            "bin_end": 68.7,
            "count": 20
           },
           {
            "bin_start": 68.7,
            "bin_end": 69.89999999999999,
            "count": 7
           },
           {
            "bin_start": 69.89999999999999,
            "bin_end": 71.1,
            "count": 6
           },
           {
            "bin_start": 71.1,
            "bin_end": 72.3,
            "count": 8
           }
          ]
         }
        },
        {
         "name": "48.8",
         "dtype": "float64",
         "stats": {
          "unique_count": 49,
          "nan_count": 0,
          "min": "47.8",
          "max": "59.8",
          "histogram": [
           {
            "bin_start": 47.8,
            "bin_end": 49,
            "count": 2
           },
           {
            "bin_start": 49,
            "bin_end": 50.199999999999996,
            "count": 9
           },
           {
            "bin_start": 50.199999999999996,
            "bin_end": 51.4,
            "count": 28
           },
           {
            "bin_start": 51.4,
            "bin_end": 52.599999999999994,
            "count": 25
           },
           {
            "bin_start": 52.599999999999994,
            "bin_end": 53.8,
            "count": 33
           },
           {
            "bin_start": 53.8,
            "bin_end": 55,
            "count": 41
           },
           {
            "bin_start": 55,
            "bin_end": 56.199999999999996,
            "count": 38
           },
           {
            "bin_start": 56.199999999999996,
            "bin_end": 57.4,
            "count": 15
           },
           {
            "bin_start": 57.4,
            "bin_end": 58.599999999999994,
            "count": 4
           },
           {
            "bin_start": 58.599999999999994,
            "bin_end": 59.8,
            "count": 9
           }
          ]
         }
        },
        {
         "name": "2548",
         "dtype": "int64",
         "stats": {
          "unique_count": 171,
          "nan_count": 0,
          "min": "1488",
          "max": "4066",
          "histogram": [
           {
            "bin_start": 1488,
            "bin_end": 1745.8,
            "count": 2
           },
           {
            "bin_start": 1745.8,
            "bin_end": 2003.6,
            "count": 29
           },
           {
            "bin_start": 2003.6,
            "bin_end": 2261.4,
            "count": 33
           },
           {
            "bin_start": 2261.4,
            "bin_end": 2519.2,
            "count": 50
           },
           {
            "bin_start": 2519.2,
            "bin_end": 2777,
            "count": 24
           },
           {
            "bin_start": 2777,
            "bin_end": 3034.8,
            "count": 23
           },
           {
            "bin_start": 3034.8,
            "bin_end": 3292.6000000000004,
            "count": 26
           },
           {
            "bin_start": 3292.6000000000004,
            "bin_end": 3550.4,
            "count": 8
           },
           {
            "bin_start": 3550.4,
            "bin_end": 3808.2000000000003,
            "count": 5
           },
           {
            "bin_start": 3808.2000000000003,
            "bin_end": 4066,
            "count": 4
           }
          ]
         }
        },
        {
         "name": "dohc",
         "dtype": "object",
         "stats": {
          "unique_count": 7,
          "nan_count": 0,
          "categories": [
           {
            "name": "ohc",
            "count": 148
           },
           {
            "name": "ohcf",
            "count": 15
           },
           {
            "name": "5 others",
            "count": 41
           }
          ]
         }
        },
        {
         "name": "four",
         "dtype": "object",
         "stats": {
          "unique_count": 7,
          "nan_count": 0,
          "categories": [
           {
            "name": "four",
            "count": 158
           },
           {
            "name": "six",
            "count": 24
           },
           {
            "name": "5 others",
            "count": 22
           }
          ]
         }
        },
        {
         "name": "130",
         "dtype": "int64",
         "stats": {
          "unique_count": 44,
          "nan_count": 0,
          "min": "61",
          "max": "326",
          "histogram": [
           {
            "bin_start": 61,
            "bin_end": 87.5,
            "count": 6
           },
           {
            "bin_start": 87.5,
            "bin_end": 114,
            "count": 95
           },
           {
            "bin_start": 114,
            "bin_end": 140.5,
            "count": 45
           },
           {
            "bin_start": 140.5,
            "bin_end": 167,
            "count": 30
           },
           {
            "bin_start": 167,
            "bin_end": 193.5,
            "count": 14
           },
           {
            "bin_start": 193.5,
            "bin_end": 220,
            "count": 7
           },
           {
            "bin_start": 220,
            "bin_end": 246.5,
            "count": 2
           },
           {
            "bin_start": 246.5,
            "bin_end": 273,
            "count": 2
           },
           {
            "bin_start": 273,
            "bin_end": 299.5,
            "count": 0
           },
           {
            "bin_start": 299.5,
            "bin_end": 326,
            "count": 3
           }
          ]
         }
        },
        {
         "name": "mpfi",
         "dtype": "object",
         "stats": {
          "unique_count": 8,
          "nan_count": 0,
          "categories": [
           {
            "name": "mpfi",
            "count": 93
           },
           {
            "name": "2bbl",
            "count": 66
           },
           {
            "name": "6 others",
            "count": 45
           }
          ]
         }
        },
        {
         "name": "3.47",
         "dtype": "object",
         "stats": {
          "unique_count": 39,
          "nan_count": 0,
          "categories": [
           {
            "name": "3.62",
            "count": 23
           },
           {
            "name": "3.19",
            "count": 20
           },
           {
            "name": "37 others",
            "count": 161
           }
          ]
         }
        },
        {
         "name": "2.68",
         "dtype": "object",
         "stats": {
          "unique_count": 37,
          "nan_count": 0,
          "categories": [
           {
            "name": "3.40",
            "count": 20
           },
           {
            "name": "3.03",
            "count": 14
           },
           {
            "name": "35 others",
            "count": 170
           }
          ]
         }
        },
        {
         "name": "9.0",
         "dtype": "float64",
         "stats": {
          "unique_count": 32,
          "nan_count": 0,
          "min": "7.0",
          "max": "23.0",
          "histogram": [
           {
            "bin_start": 7,
            "bin_end": 8.6,
            "count": 51
           },
           {
            "bin_start": 8.6,
            "bin_end": 10.2,
            "count": 132
           },
           {
            "bin_start": 10.2,
            "bin_end": 11.8,
            "count": 1
           },
           {
            "bin_start": 11.8,
            "bin_end": 13.4,
            "count": 0
           },
           {
            "bin_start": 13.4,
            "bin_end": 15,
            "count": 0
           },
           {
            "bin_start": 15,
            "bin_end": 16.6,
            "count": 0
           },
           {
            "bin_start": 16.6,
            "bin_end": 18.200000000000003,
            "count": 0
           },
           {
            "bin_start": 18.200000000000003,
            "bin_end": 19.8,
            "count": 0
           },
           {
            "bin_start": 19.8,
            "bin_end": 21.4,
            "count": 5
           },
           {
            "bin_start": 21.4,
            "bin_end": 23,
            "count": 15
           }
          ]
         }
        },
        {
         "name": "111",
         "dtype": "object",
         "stats": {
          "unique_count": 60,
          "nan_count": 0,
          "categories": [
           {
            "name": "68",
            "count": 19
           },
           {
            "name": "70",
            "count": 11
           },
           {
            "name": "58 others",
            "count": 174
           }
          ]
         }
        },
        {
         "name": "5000",
         "dtype": "object",
         "stats": {
          "unique_count": 24,
          "nan_count": 0,
          "categories": [
           {
            "name": "5500",
            "count": 37
           },
           {
            "name": "4800",
            "count": 36
           },
           {
            "name": "22 others",
            "count": 131
           }
          ]
         }
        },
        {
         "name": "21",
         "dtype": "int64",
         "stats": {
          "unique_count": 29,
          "nan_count": 0,
          "min": "13",
          "max": "49",
          "histogram": [
           {
            "bin_start": 13,
            "bin_end": 16.6,
            "count": 12
           },
           {
            "bin_start": 16.6,
            "bin_end": 20.2,
            "count": 46
           },
           {
            "bin_start": 20.2,
            "bin_end": 23.8,
            "count": 23
           },
           {
            "bin_start": 23.8,
            "bin_end": 27.4,
            "count": 56
           },
           {
            "bin_start": 27.4,
            "bin_end": 31,
            "count": 18
           },
           {
            "bin_start": 31,
            "bin_end": 34.6,
            "count": 31
           },
           {
            "bin_start": 34.6,
            "bin_end": 38.2,
            "count": 15
           },
           {
            "bin_start": 38.2,
            "bin_end": 41.8,
            "count": 0
           },
           {
            "bin_start": 41.8,
            "bin_end": 45.4,
            "count": 1
           },
           {
            "bin_start": 45.4,
            "bin_end": 49,
            "count": 2
           }
          ]
         }
        },
        {
         "name": "27",
         "dtype": "int64",
         "stats": {
          "unique_count": 30,
          "nan_count": 0,
          "min": "16",
          "max": "54",
          "histogram": [
           {
            "bin_start": 16,
            "bin_end": 19.8,
            "count": 7
           },
           {
            "bin_start": 19.8,
            "bin_end": 23.6,
            "count": 17
           },
           {
            "bin_start": 23.6,
            "bin_end": 27.4,
            "count": 43
           },
           {
            "bin_start": 27.4,
            "bin_end": 31.2,
            "count": 47
           },
           {
            "bin_start": 31.2,
            "bin_end": 35,
            "count": 39
           },
           {
            "bin_start": 35,
            "bin_end": 38.8,
            "count": 32
           },
           {
            "bin_start": 38.8,
            "bin_end": 42.599999999999994,
            "count": 8
           },
           {
            "bin_start": 42.599999999999994,
            "bin_end": 46.4,
            "count": 6
           },
           {
            "bin_start": 46.4,
            "bin_end": 50.199999999999996,
            "count": 3
           },
           {
            "bin_start": 50.199999999999996,
            "bin_end": 54,
            "count": 2
           }
          ]
         }
        },
        {
         "name": "13495",
         "dtype": "object",
         "stats": {
          "unique_count": 186,
          "nan_count": 0,
          "categories": [
           {
            "name": "?",
            "count": 4
           },
           {
            "name": "16500",
            "count": 2
           },
           {
            "name": "184 others",
            "count": 198
           }
          ]
         }
        },
        {
         "name": "_deepnote_index_column",
         "dtype": "int64"
        }
       ],
       "rows": [
        {
         "3": 3,
         "21": 21,
         "27": 27,
         "111": "111",
         "130": 130,
         "2548": 2548,
         "5000": "5000",
         "13495": "16500",
         "?": "?",
         "alfa-romero": "alfa-romero",
         "gas": "gas",
         "std": "std",
         "two": "two",
         "convertible": "convertible",
         "rwd": "rwd",
         "front": "front",
         "88.6": 88.6,
         "168.8": 168.8,
         "64.1": 64.1,
         "48.8": 48.8,
         "dohc": "dohc",
         "four": "four",
         "mpfi": "mpfi",
         "3.47": "3.47",
         "2.68": "2.68",
         "9.0": 9,
         "_deepnote_index_column": 0
        },
        {
         "3": 1,
         "21": 19,
         "27": 26,
         "111": "154",
         "130": 152,
         "2548": 2823,
         "5000": "5000",
         "13495": "16500",
         "?": "?",
         "alfa-romero": "alfa-romero",
         "gas": "gas",
         "std": "std",
         "two": "two",
         "convertible": "hatchback",
         "rwd": "rwd",
         "front": "front",
         "88.6": 94.5,
         "168.8": 171.2,
         "64.1": 65.5,
         "48.8": 52.4,
         "dohc": "ohcv",
         "four": "six",
         "mpfi": "mpfi",
         "3.47": "2.68",
         "2.68": "3.47",
         "9.0": 9,
         "_deepnote_index_column": 1
        },
        {
         "3": 2,
         "21": 24,
         "27": 30,
         "111": "102",
         "130": 109,
         "2548": 2337,
         "5000": "5500",
         "13495": "13950",
         "?": "164",
         "alfa-romero": "audi",
         "gas": "gas",
         "std": "std",
         "two": "four",
         "convertible": "sedan",
         "rwd": "fwd",
         "front": "front",
         "88.6": 99.8,
         "168.8": 176.6,
         "64.1": 66.2,
         "48.8": 54.3,
         "dohc": "ohc",
         "four": "four",
         "mpfi": "mpfi",
         "3.47": "3.19",
         "2.68": "3.40",
         "9.0": 10,
         "_deepnote_index_column": 2
        },
        {
         "3": 2,
         "21": 18,
         "27": 22,
         "111": "115",
         "130": 136,
         "2548": 2824,
         "5000": "5500",
         "13495": "17450",
         "?": "164",
         "alfa-romero": "audi",
         "gas": "gas",
         "std": "std",
         "two": "four",
         "convertible": "sedan",
         "rwd": "4wd",
         "front": "front",
         "88.6": 99.4,
         "168.8": 176.6,
         "64.1": 66.4,
         "48.8": 54.3,
         "dohc": "ohc",
         "four": "five",
         "mpfi": "mpfi",
         "3.47": "3.19",
         "2.68": "3.40",
         "9.0": 8,
         "_deepnote_index_column": 3
        },
        {
         "3": 2,
         "21": 19,
         "27": 25,
         "111": "110",
         "130": 136,
         "2548": 2507,
         "5000": "5500",
         "13495": "15250",
         "?": "?",
         "alfa-romero": "audi",
         "gas": "gas",
         "std": "std",
         "two": "two",
         "convertible": "sedan",
         "rwd": "fwd",
         "front": "front",
         "88.6": 99.8,
         "168.8": 177.3,
         "64.1": 66.3,
         "48.8": 53.1,
         "dohc": "ohc",
         "four": "five",
         "mpfi": "mpfi",
         "3.47": "3.19",
         "2.68": "3.40",
         "9.0": 8.5,
         "_deepnote_index_column": 4
        },
        {
         "3": 1,
         "21": 19,
         "27": 25,
         "111": "110",
         "130": 136,
         "2548": 2844,
         "5000": "5500",
         "13495": "17710",
         "?": "158",
         "alfa-romero": "audi",
         "gas": "gas",
         "std": "std",
         "two": "four",
         "convertible": "sedan",
         "rwd": "fwd",
         "front": "front",
         "88.6": 105.8,
         "168.8": 192.7,
         "64.1": 71.4,
         "48.8": 55.7,
         "dohc": "ohc",
         "four": "five",
         "mpfi": "mpfi",
         "3.47": "3.19",
         "2.68": "3.40",
         "9.0": 8.5,
         "_deepnote_index_column": 5
        },
        {
         "3": 1,
         "21": 19,
         "27": 25,
         "111": "110",
         "130": 136,
         "2548": 2954,
         "5000": "5500",
         "13495": "18920",
         "?": "?",
         "alfa-romero": "audi",
         "gas": "gas",
         "std": "std",
         "two": "four",
         "convertible": "wagon",
         "rwd": "fwd",
         "front": "front",
         "88.6": 105.8,
         "168.8": 192.7,
         "64.1": 71.4,
         "48.8": 55.7,
         "dohc": "ohc",
         "four": "five",
         "mpfi": "mpfi",
         "3.47": "3.19",
         "2.68": "3.40",
         "9.0": 8.5,
         "_deepnote_index_column": 6
        },
        {
         "3": 1,
         "21": 17,
         "27": 20,
         "111": "140",
         "130": 131,
         "2548": 3086,
         "5000": "5500",
         "13495": "23875",
         "?": "158",
         "alfa-romero": "audi",
         "gas": "gas",
         "std": "turbo",
         "two": "four",
         "convertible": "sedan",
         "rwd": "fwd",
         "front": "front",
         "88.6": 105.8,
         "168.8": 192.7,
         "64.1": 71.4,
         "48.8": 55.9,
         "dohc": "ohc",
         "four": "five",
         "mpfi": "mpfi",
         "3.47": "3.13",
         "2.68": "3.40",
         "9.0": 8.3,
         "_deepnote_index_column": 7
        },
        {
         "3": 0,
         "21": 16,
         "27": 22,
         "111": "160",
         "130": 131,
         "2548": 3053,
         "5000": "5500",
         "13495": "?",
         "?": "?",
         "alfa-romero": "audi",
         "gas": "gas",
         "std": "turbo",
         "two": "two",
         "convertible": "hatchback",
         "rwd": "4wd",
         "front": "front",
         "88.6": 99.5,
         "168.8": 178.2,
         "64.1": 67.9,
         "48.8": 52,
         "dohc": "ohc",
         "four": "five",
         "mpfi": "mpfi",
         "3.47": "3.13",
         "2.68": "3.40",
         "9.0": 7,
         "_deepnote_index_column": 8
        },
        {
         "3": 2,
         "21": 23,
         "27": 29,
         "111": "101",
         "130": 108,
         "2548": 2395,
         "5000": "5800",
         "13495": "16430",
         "?": "192",
         "alfa-romero": "bmw",
         "gas": "gas",
         "std": "std",
         "two": "two",
         "convertible": "sedan",
         "rwd": "rwd",
         "front": "front",
         "88.6": 101.2,
         "168.8": 176.8,
         "64.1": 64.8,
         "48.8": 54.3,
         "dohc": "ohc",
         "four": "four",
         "mpfi": "mpfi",
         "3.47": "3.50",
         "2.68": "2.80",
         "9.0": 8.8,
         "_deepnote_index_column": 9
        }
       ]
      },
      "text/plain": "     3    ?  alfa-romero     gas    std   two  convertible  rwd  front   88.6  \\\n0    3    ?  alfa-romero     gas    std   two  convertible  rwd  front   88.6   \n1    1    ?  alfa-romero     gas    std   two    hatchback  rwd  front   94.5   \n2    2  164         audi     gas    std  four        sedan  fwd  front   99.8   \n3    2  164         audi     gas    std  four        sedan  4wd  front   99.4   \n4    2    ?         audi     gas    std   two        sedan  fwd  front   99.8   \n..  ..  ...          ...     ...    ...   ...          ...  ...    ...    ...   \n199 -1   95        volvo     gas    std  four        sedan  rwd  front  109.1   \n200 -1   95        volvo     gas  turbo  four        sedan  rwd  front  109.1   \n201 -1   95        volvo     gas    std  four        sedan  rwd  front  109.1   \n202 -1   95        volvo  diesel  turbo  four        sedan  rwd  front  109.1   \n203 -1   95        volvo     gas  turbo  four        sedan  rwd  front  109.1   \n\n     ...  130  mpfi  3.47  2.68   9.0  111  5000  21  27  13495  \n0    ...  130  mpfi  3.47  2.68   9.0  111  5000  21  27  16500  \n1    ...  152  mpfi  2.68  3.47   9.0  154  5000  19  26  16500  \n2    ...  109  mpfi  3.19  3.40  10.0  102  5500  24  30  13950  \n3    ...  136  mpfi  3.19  3.40   8.0  115  5500  18  22  17450  \n4    ...  136  mpfi  3.19  3.40   8.5  110  5500  19  25  15250  \n..   ...  ...   ...   ...   ...   ...  ...   ...  ..  ..    ...  \n199  ...  141  mpfi  3.78  3.15   9.5  114  5400  23  28  16845  \n200  ...  141  mpfi  3.78  3.15   8.7  160  5300  19  25  19045  \n201  ...  173  mpfi  3.58  2.87   8.8  134  5500  18  23  21485  \n202  ...  145   idi  3.01  3.40  23.0  106  4800  26  27  22470  \n203  ...  141  mpfi  3.78  3.15   9.5  114  5400  19  25  22625  \n\n[204 rows x 26 columns]",
      "text/html": "<div>\n<style scoped>\n    .dataframe tbody tr th:only-of-type {\n        vertical-align: middle;\n    }\n\n    .dataframe tbody tr th {\n        vertical-align: top;\n    }\n\n    .dataframe thead th {\n        text-align: right;\n    }\n</style>\n<table border=\"1\" class=\"dataframe\">\n  <thead>\n    <tr style=\"text-align: right;\">\n      <th></th>\n      <th>3</th>\n      <th>?</th>\n      <th>alfa-romero</th>\n      <th>gas</th>\n      <th>std</th>\n      <th>two</th>\n      <th>convertible</th>\n      <th>rwd</th>\n      <th>front</th>\n      <th>88.6</th>\n      <th>...</th>\n      <th>130</th>\n      <th>mpfi</th>\n      <th>3.47</th>\n      <th>2.68</th>\n      <th>9.0</th>\n      <th>111</th>\n      <th>5000</th>\n      <th>21</th>\n      <th>27</th>\n      <th>13495</th>\n    </tr>\n  </thead>\n  <tbody>\n    <tr>\n      <th>0</th>\n      <td>3</td>\n      <td>?</td>\n      <td>alfa-romero</td>\n      <td>gas</td>\n      <td>std</td>\n      <td>two</td>\n      <td>convertible</td>\n      <td>rwd</td>\n      <td>front</td>\n      <td>88.6</td>\n      <td>...</td>\n      <td>130</td>\n      <td>mpfi</td>\n      <td>3.47</td>\n      <td>2.68</td>\n      <td>9.0</td>\n      <td>111</td>\n      <td>5000</td>\n      <td>21</td>\n      <td>27</td>\n      <td>16500</td>\n    </tr>\n    <tr>\n      <th>1</th>\n      <td>1</td>\n      <td>?</td>\n      <td>alfa-romero</td>\n      <td>gas</td>\n      <td>std</td>\n      <td>two</td>\n      <td>hatchback</td>\n      <td>rwd</td>\n      <td>front</td>\n      <td>94.5</td>\n      <td>...</td>\n      <td>152</td>\n      <td>mpfi</td>\n      <td>2.68</td>\n      <td>3.47</td>\n      <td>9.0</td>\n      <td>154</td>\n      <td>5000</td>\n      <td>19</td>\n      <td>26</td>\n      <td>16500</td>\n    </tr>\n    <tr>\n      <th>2</th>\n      <td>2</td>\n      <td>164</td>\n      <td>audi</td>\n      <td>gas</td>\n      <td>std</td>\n      <td>four</td>\n      <td>sedan</td>\n      <td>fwd</td>\n      <td>front</td>\n      <td>99.8</td>\n      <td>...</td>\n      <td>109</td>\n      <td>mpfi</td>\n      <td>3.19</td>\n      <td>3.40</td>\n      <td>10.0</td>\n      <td>102</td>\n      <td>5500</td>\n      <td>24</td>\n      <td>30</td>\n      <td>13950</td>\n    </tr>\n    <tr>\n      <th>3</th>\n      <td>2</td>\n      <td>164</td>\n      <td>audi</td>\n      <td>gas</td>\n      <td>std</td>\n      <td>four</td>\n      <td>sedan</td>\n      <td>4wd</td>\n      <td>front</td>\n      <td>99.4</td>\n      <td>...</td>\n      <td>136</td>\n      <td>mpfi</td>\n      <td>3.19</td>\n      <td>3.40</td>\n      <td>8.0</td>\n      <td>115</td>\n      <td>5500</td>\n      <td>18</td>\n      <td>22</td>\n      <td>17450</td>\n    </tr>\n    <tr>\n      <th>4</th>\n      <td>2</td>\n      <td>?</td>\n      <td>audi</td>\n      <td>gas</td>\n      <td>std</td>\n      <td>two</td>\n      <td>sedan</td>\n      <td>fwd</td>\n      <td>front</td>\n      <td>99.8</td>\n      <td>...</td>\n      <td>136</td>\n      <td>mpfi</td>\n      <td>3.19</td>\n      <td>3.40</td>\n      <td>8.5</td>\n      <td>110</td>\n      <td>5500</td>\n      <td>19</td>\n      <td>25</td>\n      <td>15250</td>\n    </tr>\n    <tr>\n      <th>...</th>\n      <td>...</td>\n      <td>...</td>\n      <td>...</td>\n      <td>...</td>\n      <td>...</td>\n      <td>...</td>\n      <td>...</td>\n      <td>...</td>\n      <td>...</td>\n      <td>...</td>\n      <td>...</td>\n      <td>...</td>\n      <td>...</td>\n      <td>...</td>\n      <td>...</td>\n      <td>...</td>\n      <td>...</td>\n      <td>...</td>\n      <td>...</td>\n      <td>...</td>\n      <td>...</td>\n    </tr>\n    <tr>\n      <th>199</th>\n      <td>-1</td>\n      <td>95</td>\n      <td>volvo</td>\n      <td>gas</td>\n      <td>std</td>\n      <td>four</td>\n      <td>sedan</td>\n      <td>rwd</td>\n      <td>front</td>\n      <td>109.1</td>\n      <td>...</td>\n      <td>141</td>\n      <td>mpfi</td>\n      <td>3.78</td>\n      <td>3.15</td>\n      <td>9.5</td>\n      <td>114</td>\n      <td>5400</td>\n      <td>23</td>\n      <td>28</td>\n      <td>16845</td>\n    </tr>\n    <tr>\n      <th>200</th>\n      <td>-1</td>\n      <td>95</td>\n      <td>volvo</td>\n      <td>gas</td>\n      <td>turbo</td>\n      <td>four</td>\n      <td>sedan</td>\n      <td>rwd</td>\n      <td>front</td>\n      <td>109.1</td>\n      <td>...</td>\n      <td>141</td>\n      <td>mpfi</td>\n      <td>3.78</td>\n      <td>3.15</td>\n      <td>8.7</td>\n      <td>160</td>\n      <td>5300</td>\n      <td>19</td>\n      <td>25</td>\n      <td>19045</td>\n    </tr>\n    <tr>\n      <th>201</th>\n      <td>-1</td>\n      <td>95</td>\n      <td>volvo</td>\n      <td>gas</td>\n      <td>std</td>\n      <td>four</td>\n      <td>sedan</td>\n      <td>rwd</td>\n      <td>front</td>\n      <td>109.1</td>\n      <td>...</td>\n      <td>173</td>\n      <td>mpfi</td>\n      <td>3.58</td>\n      <td>2.87</td>\n      <td>8.8</td>\n      <td>134</td>\n      <td>5500</td>\n      <td>18</td>\n      <td>23</td>\n      <td>21485</td>\n    </tr>\n    <tr>\n      <th>202</th>\n      <td>-1</td>\n      <td>95</td>\n      <td>volvo</td>\n      <td>diesel</td>\n      <td>turbo</td>\n      <td>four</td>\n      <td>sedan</td>\n      <td>rwd</td>\n      <td>front</td>\n      <td>109.1</td>\n      <td>...</td>\n      <td>145</td>\n      <td>idi</td>\n      <td>3.01</td>\n      <td>3.40</td>\n      <td>23.0</td>\n      <td>106</td>\n      <td>4800</td>\n      <td>26</td>\n      <td>27</td>\n      <td>22470</td>\n    </tr>\n    <tr>\n      <th>203</th>\n      <td>-1</td>\n      <td>95</td>\n      <td>volvo</td>\n      <td>gas</td>\n      <td>turbo</td>\n      <td>four</td>\n      <td>sedan</td>\n      <td>rwd</td>\n      <td>front</td>\n      <td>109.1</td>\n      <td>...</td>\n      <td>141</td>\n      <td>mpfi</td>\n      <td>3.78</td>\n      <td>3.15</td>\n      <td>9.5</td>\n      <td>114</td>\n      <td>5400</td>\n      <td>19</td>\n      <td>25</td>\n      <td>22625</td>\n    </tr>\n  </tbody>\n</table>\n<p>204 rows × 26 columns</p>\n</div>"
     },
     "metadata": {}
    }
   ]
  },
  {
   "cell_type": "code",
   "metadata": {
    "cell_id": "42856237-9a21-46c1-86f6-b4b708ae8c21",
    "tags": [],
    "deepnote_cell_type": "code"
   },
   "source": "",
   "execution_count": null,
   "outputs": []
  },
  {
   "cell_type": "markdown",
   "source": "<a style='text-decoration:none;line-height:16px;display:flex;color:#5B5B62;padding:10px;justify-content:end;' href='https://deepnote.com?utm_source=created-in-deepnote-cell&projectId=fabb4e41-fcd2-4421-bbfb-772986975631' target=\"_blank\">\n<img alt='Created in deepnote.com' style='display:inline;max-height:16px;margin:0px;margin-right:7.5px;' src='data:image/svg+xml;base64,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' > </img>\nCreated in <span style='font-weight:600;margin-left:4px;'>Deepnote</span></a>",
   "metadata": {
    "tags": [],
    "created_in_deepnote_cell": true,
    "deepnote_cell_type": "markdown"
   }
  }
 ],
 "nbformat": 4,
 "nbformat_minor": 2,
 "metadata": {
  "orig_nbformat": 2,
  "deepnote": {
   "is_reactive": false
  },
  "deepnote_notebook_id": "00a9236b-b49b-4937-9626-b2a188cfcc04",
  "deepnote_execution_queue": []
 }
}