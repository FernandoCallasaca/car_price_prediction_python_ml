{
 "cells": [
  {
   "cell_type": "markdown",
   "source": "# Prepare our work environment",
   "metadata": {
    "cell_id": "c63e4fd0-7bc3-4596-ac19-27d6d998ba4f",
    "tags": [],
    "is_collapsed": false,
    "deepnote_cell_type": "text-cell-h1"
   }
  },
  {
   "cell_type": "code",
   "metadata": {
    "cell_id": "9731ab32-3301-4115-be55-0d84773e4e40",
    "tags": [],
    "deepnote_to_be_reexecuted": false,
    "source_hash": "9cf760dc",
    "execution_start": 1645738114470,
    "execution_millis": 2628,
    "deepnote_cell_type": "code"
   },
   "source": "import pandas as pd\nimport numpy as np\nimport matplotlib.pyplot as plt\n%matplotlib inline\nimport seaborn as sns\nfrom scipy import stats\npd.__version__",
   "execution_count": 1,
   "outputs": [
    {
     "output_type": "execute_result",
     "execution_count": 1,
     "data": {
      "text/plain": "'1.2.5'"
     },
     "metadata": {}
    }
   ]
  },
  {
   "cell_type": "code",
   "metadata": {
    "cell_id": "f80df3ed-63e9-458c-ac4f-63371e22da4e",
    "tags": [],
    "deepnote_to_be_reexecuted": false,
    "source_hash": "4603e43",
    "execution_start": 1645738117108,
    "execution_millis": 3,
    "deepnote_cell_type": "code"
   },
   "source": "pd.options.display.float_format = '{:,.3f}'.format",
   "execution_count": 2,
   "outputs": []
  },
  {
   "cell_type": "code",
   "metadata": {
    "cell_id": "d0d0584e-fdbc-46b3-8d75-d0e177bf32ca",
    "tags": [],
    "deepnote_to_be_reexecuted": false,
    "source_hash": "83db5782",
    "execution_start": 1645738117121,
    "execution_millis": 2,
    "deepnote_cell_type": "code"
   },
   "source": "np.set_printoptions(precision=3)",
   "execution_count": 3,
   "outputs": []
  },
  {
   "cell_type": "markdown",
   "source": "## Load Dataset",
   "metadata": {
    "cell_id": "70316d00-2f4c-446a-98ab-d65e5f3092d9",
    "tags": [],
    "is_collapsed": false,
    "deepnote_cell_type": "text-cell-h2"
   }
  },
  {
   "cell_type": "code",
   "metadata": {
    "cell_id": "4113af7a-2dac-4522-beae-0afe122a7bb8",
    "tags": [],
    "deepnote_to_be_reexecuted": false,
    "source_hash": "f0867366",
    "execution_start": 1645738117173,
    "execution_millis": 372030,
    "deepnote_cell_type": "code"
   },
   "source": "path_file = 'auto.csv'",
   "execution_count": 4,
   "outputs": []
  },
  {
   "cell_type": "code",
   "metadata": {
    "cell_id": "fb85cb7b-adbc-4bc5-8be7-18060a8def23",
    "tags": [],
    "deepnote_to_be_reexecuted": false,
    "source_hash": "4d56e830",
    "execution_start": 1645738117174,
    "execution_millis": 370027,
    "deepnote_cell_type": "code"
   },
   "source": "headers = [\"symboling\",\"normalized-losses\",\"make\",\"fuel-type\",\"aspiration\", \"num-of-doors\",\"body-style\",\n         \"drive-wheels\",\"engine-location\",\"wheel-base\", \"length\",\"width\",\"height\",\"curb-weight\",\"engine-type\",\n         \"num-of-cylinders\", \"engine-size\",\"fuel-system\",\"bore\",\"stroke\",\"compression-ratio\",\"horsepower\",\n         \"peak-rpm\",\"city-mpg\",\"highway-mpg\",\"price\"]",
   "execution_count": 5,
   "outputs": []
  },
  {
   "cell_type": "code",
   "metadata": {
    "cell_id": "0bca6d3b-1954-4a21-bbed-26355c361275",
    "tags": [],
    "deepnote_to_be_reexecuted": false,
    "source_hash": "73aed4a0",
    "execution_start": 1645738117175,
    "execution_millis": 188,
    "deepnote_cell_type": "code"
   },
   "source": "df_auto = pd.read_csv(path_file, names=headers)\ndf_auto",
   "execution_count": 6,
   "outputs": [
    {
     "output_type": "execute_result",
     "execution_count": 6,
     "data": {
      "application/vnd.deepnote.dataframe.v3+json": {
       "column_count": 26,
       "row_count": 205,
       "columns": [
        {
         "name": "symboling",
         "dtype": "int64",
         "stats": {
          "unique_count": 6,
          "nan_count": 0,
          "min": "-2",
          "max": "3",
          "histogram": [
           {
            "bin_start": -2,
            "bin_end": -1.5,
            "count": 3
           },
           {
            "bin_start": -1.5,
            "bin_end": -1,
            "count": 0
           },
           {
            "bin_start": -1,
            "bin_end": -0.5,
            "count": 22
           },
           {
            "bin_start": -0.5,
            "bin_end": 0,
            "count": 0
           },
           {
            "bin_start": 0,
            "bin_end": 0.5,
            "count": 67
           },
           {
            "bin_start": 0.5,
            "bin_end": 1,
            "count": 0
           },
           {
            "bin_start": 1,
            "bin_end": 1.5,
            "count": 54
           },
           {
            "bin_start": 1.5,
            "bin_end": 2,
            "count": 0
           },
           {
            "bin_start": 2,
            "bin_end": 2.5,
            "count": 32
           },
           {
            "bin_start": 2.5,
            "bin_end": 3,
            "count": 27
           }
          ]
         }
        },
        {
         "name": "normalized-losses",
         "dtype": "object",
         "stats": {
          "unique_count": 52,
          "nan_count": 0,
          "categories": [
           {
            "name": "?",
            "count": 41
           },
           {
            "name": "161",
            "count": 11
           },
           {
            "name": "50 others",
            "count": 153
           }
          ]
         }
        },
        {
         "name": "make",
         "dtype": "object",
         "stats": {
          "unique_count": 22,
          "nan_count": 0,
          "categories": [
           {
            "name": "toyota",
            "count": 32
           },
           {
            "name": "nissan",
            "count": 18
           },
           {
            "name": "20 others",
            "count": 155
           }
          ]
         }
        },
        {
         "name": "fuel-type",
         "dtype": "object",
         "stats": {
          "unique_count": 2,
          "nan_count": 0,
          "categories": [
           {
            "name": "gas",
            "count": 185
           },
           {
            "name": "diesel",
            "count": 20
           }
          ]
         }
        },
        {
         "name": "aspiration",
         "dtype": "object",
         "stats": {
          "unique_count": 2,
          "nan_count": 0,
          "categories": [
           {
            "name": "std",
            "count": 168
           },
           {
            "name": "turbo",
            "count": 37
           }
          ]
         }
        },
        {
         "name": "num-of-doors",
         "dtype": "object",
         "stats": {
          "unique_count": 3,
          "nan_count": 0,
          "categories": [
           {
            "name": "four",
            "count": 114
           },
           {
            "name": "two",
            "count": 89
           },
           {
            "name": "?",
            "count": 2
           }
          ]
         }
        },
        {
         "name": "body-style",
         "dtype": "object",
         "stats": {
          "unique_count": 5,
          "nan_count": 0,
          "categories": [
           {
            "name": "sedan",
            "count": 96
           },
           {
            "name": "hatchback",
            "count": 70
           },
           {
            "name": "3 others",
            "count": 39
           }
          ]
         }
        },
        {
         "name": "drive-wheels",
         "dtype": "object",
         "stats": {
          "unique_count": 3,
          "nan_count": 0,
          "categories": [
           {
            "name": "fwd",
            "count": 120
           },
           {
            "name": "rwd",
            "count": 76
           },
           {
            "name": "4wd",
            "count": 9
           }
          ]
         }
        },
        {
         "name": "engine-location",
         "dtype": "object",
         "stats": {
          "unique_count": 2,
          "nan_count": 0,
          "categories": [
           {
            "name": "front",
            "count": 202
           },
           {
            "name": "rear",
            "count": 3
           }
          ]
         }
        },
        {
         "name": "wheel-base",
         "dtype": "float64",
         "stats": {
          "unique_count": 53,
          "nan_count": 0,
          "min": "86.6",
          "max": "120.9",
          "histogram": [
           {
            "bin_start": 86.6,
            "bin_end": 90.03,
            "count": 8
           },
           {
            "bin_start": 90.03,
            "bin_end": 93.46,
            "count": 9
           },
           {
            "bin_start": 93.46,
            "bin_end": 96.89,
            "count": 83
           },
           {
            "bin_start": 96.89,
            "bin_end": 100.32,
            "count": 42
           },
           {
            "bin_start": 100.32,
            "bin_end": 103.75,
            "count": 24
           },
           {
            "bin_start": 103.75,
            "bin_end": 107.18,
            "count": 14
           },
           {
            "bin_start": 107.18,
            "bin_end": 110.61,
            "count": 15
           },
           {
            "bin_start": 110.61,
            "bin_end": 114.04,
            "count": 3
           },
           {
            "bin_start": 114.04,
            "bin_end": 117.47,
            "count": 6
           },
           {
            "bin_start": 117.47,
            "bin_end": 120.9,
            "count": 1
           }
          ]
         }
        },
        {
         "name": "length",
         "dtype": "float64",
         "stats": {
          "unique_count": 75,
          "nan_count": 0,
          "min": "141.1",
          "max": "208.1",
          "histogram": [
           {
            "bin_start": 141.1,
            "bin_end": 147.79999999999998,
            "count": 3
           },
           {
            "bin_start": 147.79999999999998,
            "bin_end": 154.5,
            "count": 3
           },
           {
            "bin_start": 154.5,
            "bin_end": 161.2,
            "count": 29
           },
           {
            "bin_start": 161.2,
            "bin_end": 167.9,
            "count": 23
           },
           {
            "bin_start": 167.9,
            "bin_end": 174.6,
            "count": 54
           },
           {
            "bin_start": 174.6,
            "bin_end": 181.3,
            "count": 39
           },
           {
            "bin_start": 181.3,
            "bin_end": 188,
            "count": 23
           },
           {
            "bin_start": 188,
            "bin_end": 194.7,
            "count": 20
           },
           {
            "bin_start": 194.7,
            "bin_end": 201.4,
            "count": 8
           },
           {
            "bin_start": 201.4,
            "bin_end": 208.1,
            "count": 3
           }
          ]
         }
        },
        {
         "name": "width",
         "dtype": "float64",
         "stats": {
          "unique_count": 44,
          "nan_count": 0,
          "min": "60.3",
          "max": "72.3",
          "histogram": [
           {
            "bin_start": 60.3,
            "bin_end": 61.5,
            "count": 1
           },
           {
            "bin_start": 61.5,
            "bin_end": 62.699999999999996,
            "count": 2
           },
           {
            "bin_start": 62.699999999999996,
            "bin_end": 63.9,
            "count": 36
           },
           {
            "bin_start": 63.9,
            "bin_end": 65.1,
            "count": 39
           },
           {
            "bin_start": 65.1,
            "bin_end": 66.3,
            "count": 44
           },
           {
            "bin_start": 66.3,
            "bin_end": 67.5,
            "count": 42
           },
           {
            "bin_start": 67.5,
            "bin_end": 68.7,
            "count": 20
           },
           {
            "bin_start": 68.7,
            "bin_end": 69.89999999999999,
            "count": 7
           },
           {
            "bin_start": 69.89999999999999,
            "bin_end": 71.1,
            "count": 6
           },
           {
            "bin_start": 71.1,
            "bin_end": 72.3,
            "count": 8
           }
          ]
         }
        },
        {
         "name": "height",
         "dtype": "float64",
         "stats": {
          "unique_count": 49,
          "nan_count": 0,
          "min": "47.8",
          "max": "59.8",
          "histogram": [
           {
            "bin_start": 47.8,
            "bin_end": 49,
            "count": 3
           },
           {
            "bin_start": 49,
            "bin_end": 50.199999999999996,
            "count": 9
           },
           {
            "bin_start": 50.199999999999996,
            "bin_end": 51.4,
            "count": 28
           },
           {
            "bin_start": 51.4,
            "bin_end": 52.599999999999994,
            "count": 25
           },
           {
            "bin_start": 52.599999999999994,
            "bin_end": 53.8,
            "count": 33
           },
           {
            "bin_start": 53.8,
            "bin_end": 55,
            "count": 41
           },
           {
            "bin_start": 55,
            "bin_end": 56.199999999999996,
            "count": 38
           },
           {
            "bin_start": 56.199999999999996,
            "bin_end": 57.4,
            "count": 15
           },
           {
            "bin_start": 57.4,
            "bin_end": 58.599999999999994,
            "count": 4
           },
           {
            "bin_start": 58.599999999999994,
            "bin_end": 59.8,
            "count": 9
           }
          ]
         }
        },
        {
         "name": "curb-weight",
         "dtype": "int64",
         "stats": {
          "unique_count": 171,
          "nan_count": 0,
          "min": "1488",
          "max": "4066",
          "histogram": [
           {
            "bin_start": 1488,
            "bin_end": 1745.8,
            "count": 2
           },
           {
            "bin_start": 1745.8,
            "bin_end": 2003.6,
            "count": 29
           },
           {
            "bin_start": 2003.6,
            "bin_end": 2261.4,
            "count": 33
           },
           {
            "bin_start": 2261.4,
            "bin_end": 2519.2,
            "count": 50
           },
           {
            "bin_start": 2519.2,
            "bin_end": 2777,
            "count": 25
           },
           {
            "bin_start": 2777,
            "bin_end": 3034.8,
            "count": 23
           },
           {
            "bin_start": 3034.8,
            "bin_end": 3292.6000000000004,
            "count": 26
           },
           {
            "bin_start": 3292.6000000000004,
            "bin_end": 3550.4,
            "count": 8
           },
           {
            "bin_start": 3550.4,
            "bin_end": 3808.2000000000003,
            "count": 5
           },
           {
            "bin_start": 3808.2000000000003,
            "bin_end": 4066,
            "count": 4
           }
          ]
         }
        },
        {
         "name": "engine-type",
         "dtype": "object",
         "stats": {
          "unique_count": 7,
          "nan_count": 0,
          "categories": [
           {
            "name": "ohc",
            "count": 148
           },
           {
            "name": "ohcf",
            "count": 15
           },
           {
            "name": "5 others",
            "count": 42
           }
          ]
         }
        },
        {
         "name": "num-of-cylinders",
         "dtype": "object",
         "stats": {
          "unique_count": 7,
          "nan_count": 0,
          "categories": [
           {
            "name": "four",
            "count": 159
           },
           {
            "name": "six",
            "count": 24
           },
           {
            "name": "5 others",
            "count": 22
           }
          ]
         }
        },
        {
         "name": "engine-size",
         "dtype": "int64",
         "stats": {
          "unique_count": 44,
          "nan_count": 0,
          "min": "61",
          "max": "326",
          "histogram": [
           {
            "bin_start": 61,
            "bin_end": 87.5,
            "count": 6
           },
           {
            "bin_start": 87.5,
            "bin_end": 114,
            "count": 95
           },
           {
            "bin_start": 114,
            "bin_end": 140.5,
            "count": 46
           },
           {
            "bin_start": 140.5,
            "bin_end": 167,
            "count": 30
           },
           {
            "bin_start": 167,
            "bin_end": 193.5,
            "count": 14
           },
           {
            "bin_start": 193.5,
            "bin_end": 220,
            "count": 7
           },
           {
            "bin_start": 220,
            "bin_end": 246.5,
            "count": 2
           },
           {
            "bin_start": 246.5,
            "bin_end": 273,
            "count": 2
           },
           {
            "bin_start": 273,
            "bin_end": 299.5,
            "count": 0
           },
           {
            "bin_start": 299.5,
            "bin_end": 326,
            "count": 3
           }
          ]
         }
        },
        {
         "name": "fuel-system",
         "dtype": "object",
         "stats": {
          "unique_count": 8,
          "nan_count": 0,
          "categories": [
           {
            "name": "mpfi",
            "count": 94
           },
           {
            "name": "2bbl",
            "count": 66
           },
           {
            "name": "6 others",
            "count": 45
           }
          ]
         }
        },
        {
         "name": "bore",
         "dtype": "object",
         "stats": {
          "unique_count": 39,
          "nan_count": 0,
          "categories": [
           {
            "name": "3.62",
            "count": 23
           },
           {
            "name": "3.19",
            "count": 20
           },
           {
            "name": "37 others",
            "count": 162
           }
          ]
         }
        },
        {
         "name": "stroke",
         "dtype": "object",
         "stats": {
          "unique_count": 37,
          "nan_count": 0,
          "categories": [
           {
            "name": "3.40",
            "count": 20
           },
           {
            "name": "3.03",
            "count": 14
           },
           {
            "name": "35 others",
            "count": 171
           }
          ]
         }
        },
        {
         "name": "compression-ratio",
         "dtype": "float64",
         "stats": {
          "unique_count": 32,
          "nan_count": 0,
          "min": "7.0",
          "max": "23.0",
          "histogram": [
           {
            "bin_start": 7,
            "bin_end": 8.6,
            "count": 51
           },
           {
            "bin_start": 8.6,
            "bin_end": 10.2,
            "count": 133
           },
           {
            "bin_start": 10.2,
            "bin_end": 11.8,
            "count": 1
           },
           {
            "bin_start": 11.8,
            "bin_end": 13.4,
            "count": 0
           },
           {
            "bin_start": 13.4,
            "bin_end": 15,
            "count": 0
           },
           {
            "bin_start": 15,
            "bin_end": 16.6,
            "count": 0
           },
           {
            "bin_start": 16.6,
            "bin_end": 18.200000000000003,
            "count": 0
           },
           {
            "bin_start": 18.200000000000003,
            "bin_end": 19.8,
            "count": 0
           },
           {
            "bin_start": 19.8,
            "bin_end": 21.4,
            "count": 5
           },
           {
            "bin_start": 21.4,
            "bin_end": 23,
            "count": 15
           }
          ]
         }
        },
        {
         "name": "horsepower",
         "dtype": "object",
         "stats": {
          "unique_count": 60,
          "nan_count": 0,
          "categories": [
           {
            "name": "68",
            "count": 19
           },
           {
            "name": "70",
            "count": 11
           },
           {
            "name": "58 others",
            "count": 175
           }
          ]
         }
        },
        {
         "name": "peak-rpm",
         "dtype": "object",
         "stats": {
          "unique_count": 24,
          "nan_count": 0,
          "categories": [
           {
            "name": "5500",
            "count": 37
           },
           {
            "name": "4800",
            "count": 36
           },
           {
            "name": "22 others",
            "count": 132
           }
          ]
         }
        },
        {
         "name": "city-mpg",
         "dtype": "int64",
         "stats": {
          "unique_count": 29,
          "nan_count": 0,
          "min": "13",
          "max": "49",
          "histogram": [
           {
            "bin_start": 13,
            "bin_end": 16.6,
            "count": 12
           },
           {
            "bin_start": 16.6,
            "bin_end": 20.2,
            "count": 46
           },
           {
            "bin_start": 20.2,
            "bin_end": 23.8,
            "count": 24
           },
           {
            "bin_start": 23.8,
            "bin_end": 27.4,
            "count": 56
           },
           {
            "bin_start": 27.4,
            "bin_end": 31,
            "count": 18
           },
           {
            "bin_start": 31,
            "bin_end": 34.6,
            "count": 31
           },
           {
            "bin_start": 34.6,
            "bin_end": 38.2,
            "count": 15
           },
           {
            "bin_start": 38.2,
            "bin_end": 41.8,
            "count": 0
           },
           {
            "bin_start": 41.8,
            "bin_end": 45.4,
            "count": 1
           },
           {
            "bin_start": 45.4,
            "bin_end": 49,
            "count": 2
           }
          ]
         }
        },
        {
         "name": "highway-mpg",
         "dtype": "int64",
         "stats": {
          "unique_count": 30,
          "nan_count": 0,
          "min": "16",
          "max": "54",
          "histogram": [
           {
            "bin_start": 16,
            "bin_end": 19.8,
            "count": 7
           },
           {
            "bin_start": 19.8,
            "bin_end": 23.6,
            "count": 17
           },
           {
            "bin_start": 23.6,
            "bin_end": 27.4,
            "count": 44
           },
           {
            "bin_start": 27.4,
            "bin_end": 31.2,
            "count": 47
           },
           {
            "bin_start": 31.2,
            "bin_end": 35,
            "count": 39
           },
           {
            "bin_start": 35,
            "bin_end": 38.8,
            "count": 32
           },
           {
            "bin_start": 38.8,
            "bin_end": 42.599999999999994,
            "count": 8
           },
           {
            "bin_start": 42.599999999999994,
            "bin_end": 46.4,
            "count": 6
           },
           {
            "bin_start": 46.4,
            "bin_end": 50.199999999999996,
            "count": 3
           },
           {
            "bin_start": 50.199999999999996,
            "bin_end": 54,
            "count": 2
           }
          ]
         }
        },
        {
         "name": "price",
         "dtype": "object",
         "stats": {
          "unique_count": 187,
          "nan_count": 0,
          "categories": [
           {
            "name": "?",
            "count": 4
           },
           {
            "name": "16500",
            "count": 2
           },
           {
            "name": "185 others",
            "count": 199
           }
          ]
         }
        },
        {
         "name": "_deepnote_index_column",
         "dtype": "int64"
        }
       ],
       "rows": [
        {
         "symboling": 3,
         "normalized-losses": "?",
         "make": "alfa-romero",
         "fuel-type": "gas",
         "aspiration": "std",
         "num-of-doors": "two",
         "body-style": "convertible",
         "drive-wheels": "rwd",
         "engine-location": "front",
         "wheel-base": 88.6,
         "length": 168.8,
         "width": 64.1,
         "height": 48.8,
         "curb-weight": 2548,
         "engine-type": "dohc",
         "num-of-cylinders": "four",
         "engine-size": 130,
         "fuel-system": "mpfi",
         "bore": "3.47",
         "stroke": "2.68",
         "compression-ratio": 9,
         "horsepower": "111",
         "peak-rpm": "5000",
         "city-mpg": 21,
         "highway-mpg": 27,
         "price": "13495",
         "_deepnote_index_column": 0
        },
        {
         "symboling": 3,
         "normalized-losses": "?",
         "make": "alfa-romero",
         "fuel-type": "gas",
         "aspiration": "std",
         "num-of-doors": "two",
         "body-style": "convertible",
         "drive-wheels": "rwd",
         "engine-location": "front",
         "wheel-base": 88.6,
         "length": 168.8,
         "width": 64.1,
         "height": 48.8,
         "curb-weight": 2548,
         "engine-type": "dohc",
         "num-of-cylinders": "four",
         "engine-size": 130,
         "fuel-system": "mpfi",
         "bore": "3.47",
         "stroke": "2.68",
         "compression-ratio": 9,
         "horsepower": "111",
         "peak-rpm": "5000",
         "city-mpg": 21,
         "highway-mpg": 27,
         "price": "16500",
         "_deepnote_index_column": 1
        },
        {
         "symboling": 1,
         "normalized-losses": "?",
         "make": "alfa-romero",
         "fuel-type": "gas",
         "aspiration": "std",
         "num-of-doors": "two",
         "body-style": "hatchback",
         "drive-wheels": "rwd",
         "engine-location": "front",
         "wheel-base": 94.5,
         "length": 171.2,
         "width": 65.5,
         "height": 52.4,
         "curb-weight": 2823,
         "engine-type": "ohcv",
         "num-of-cylinders": "six",
         "engine-size": 152,
         "fuel-system": "mpfi",
         "bore": "2.68",
         "stroke": "3.47",
         "compression-ratio": 9,
         "horsepower": "154",
         "peak-rpm": "5000",
         "city-mpg": 19,
         "highway-mpg": 26,
         "price": "16500",
         "_deepnote_index_column": 2
        },
        {
         "symboling": 2,
         "normalized-losses": "164",
         "make": "audi",
         "fuel-type": "gas",
         "aspiration": "std",
         "num-of-doors": "four",
         "body-style": "sedan",
         "drive-wheels": "fwd",
         "engine-location": "front",
         "wheel-base": 99.8,
         "length": 176.6,
         "width": 66.2,
         "height": 54.3,
         "curb-weight": 2337,
         "engine-type": "ohc",
         "num-of-cylinders": "four",
         "engine-size": 109,
         "fuel-system": "mpfi",
         "bore": "3.19",
         "stroke": "3.40",
         "compression-ratio": 10,
         "horsepower": "102",
         "peak-rpm": "5500",
         "city-mpg": 24,
         "highway-mpg": 30,
         "price": "13950",
         "_deepnote_index_column": 3
        },
        {
         "symboling": 2,
         "normalized-losses": "164",
         "make": "audi",
         "fuel-type": "gas",
         "aspiration": "std",
         "num-of-doors": "four",
         "body-style": "sedan",
         "drive-wheels": "4wd",
         "engine-location": "front",
         "wheel-base": 99.4,
         "length": 176.6,
         "width": 66.4,
         "height": 54.3,
         "curb-weight": 2824,
         "engine-type": "ohc",
         "num-of-cylinders": "five",
         "engine-size": 136,
         "fuel-system": "mpfi",
         "bore": "3.19",
         "stroke": "3.40",
         "compression-ratio": 8,
         "horsepower": "115",
         "peak-rpm": "5500",
         "city-mpg": 18,
         "highway-mpg": 22,
         "price": "17450",
         "_deepnote_index_column": 4
        },
        {
         "symboling": 2,
         "normalized-losses": "?",
         "make": "audi",
         "fuel-type": "gas",
         "aspiration": "std",
         "num-of-doors": "two",
         "body-style": "sedan",
         "drive-wheels": "fwd",
         "engine-location": "front",
         "wheel-base": 99.8,
         "length": 177.3,
         "width": 66.3,
         "height": 53.1,
         "curb-weight": 2507,
         "engine-type": "ohc",
         "num-of-cylinders": "five",
         "engine-size": 136,
         "fuel-system": "mpfi",
         "bore": "3.19",
         "stroke": "3.40",
         "compression-ratio": 8.5,
         "horsepower": "110",
         "peak-rpm": "5500",
         "city-mpg": 19,
         "highway-mpg": 25,
         "price": "15250",
         "_deepnote_index_column": 5
        },
        {
         "symboling": 1,
         "normalized-losses": "158",
         "make": "audi",
         "fuel-type": "gas",
         "aspiration": "std",
         "num-of-doors": "four",
         "body-style": "sedan",
         "drive-wheels": "fwd",
         "engine-location": "front",
         "wheel-base": 105.8,
         "length": 192.7,
         "width": 71.4,
         "height": 55.7,
         "curb-weight": 2844,
         "engine-type": "ohc",
         "num-of-cylinders": "five",
         "engine-size": 136,
         "fuel-system": "mpfi",
         "bore": "3.19",
         "stroke": "3.40",
         "compression-ratio": 8.5,
         "horsepower": "110",
         "peak-rpm": "5500",
         "city-mpg": 19,
         "highway-mpg": 25,
         "price": "17710",
         "_deepnote_index_column": 6
        },
        {
         "symboling": 1,
         "normalized-losses": "?",
         "make": "audi",
         "fuel-type": "gas",
         "aspiration": "std",
         "num-of-doors": "four",
         "body-style": "wagon",
         "drive-wheels": "fwd",
         "engine-location": "front",
         "wheel-base": 105.8,
         "length": 192.7,
         "width": 71.4,
         "height": 55.7,
         "curb-weight": 2954,
         "engine-type": "ohc",
         "num-of-cylinders": "five",
         "engine-size": 136,
         "fuel-system": "mpfi",
         "bore": "3.19",
         "stroke": "3.40",
         "compression-ratio": 8.5,
         "horsepower": "110",
         "peak-rpm": "5500",
         "city-mpg": 19,
         "highway-mpg": 25,
         "price": "18920",
         "_deepnote_index_column": 7
        },
        {
         "symboling": 1,
         "normalized-losses": "158",
         "make": "audi",
         "fuel-type": "gas",
         "aspiration": "turbo",
         "num-of-doors": "four",
         "body-style": "sedan",
         "drive-wheels": "fwd",
         "engine-location": "front",
         "wheel-base": 105.8,
         "length": 192.7,
         "width": 71.4,
         "height": 55.9,
         "curb-weight": 3086,
         "engine-type": "ohc",
         "num-of-cylinders": "five",
         "engine-size": 131,
         "fuel-system": "mpfi",
         "bore": "3.13",
         "stroke": "3.40",
         "compression-ratio": 8.3,
         "horsepower": "140",
         "peak-rpm": "5500",
         "city-mpg": 17,
         "highway-mpg": 20,
         "price": "23875",
         "_deepnote_index_column": 8
        },
        {
         "symboling": 0,
         "normalized-losses": "?",
         "make": "audi",
         "fuel-type": "gas",
         "aspiration": "turbo",
         "num-of-doors": "two",
         "body-style": "hatchback",
         "drive-wheels": "4wd",
         "engine-location": "front",
         "wheel-base": 99.5,
         "length": 178.2,
         "width": 67.9,
         "height": 52,
         "curb-weight": 3053,
         "engine-type": "ohc",
         "num-of-cylinders": "five",
         "engine-size": 131,
         "fuel-system": "mpfi",
         "bore": "3.13",
         "stroke": "3.40",
         "compression-ratio": 7,
         "horsepower": "160",
         "peak-rpm": "5500",
         "city-mpg": 16,
         "highway-mpg": 22,
         "price": "?",
         "_deepnote_index_column": 9
        }
       ]
      },
      "text/plain": "     symboling normalized-losses         make fuel-type aspiration  \\\n0            3                 ?  alfa-romero       gas        std   \n1            3                 ?  alfa-romero       gas        std   \n2            1                 ?  alfa-romero       gas        std   \n3            2               164         audi       gas        std   \n4            2               164         audi       gas        std   \n..         ...               ...          ...       ...        ...   \n200         -1                95        volvo       gas        std   \n201         -1                95        volvo       gas      turbo   \n202         -1                95        volvo       gas        std   \n203         -1                95        volvo    diesel      turbo   \n204         -1                95        volvo       gas      turbo   \n\n    num-of-doors   body-style drive-wheels engine-location  wheel-base  ...  \\\n0            two  convertible          rwd           front      88.600  ...   \n1            two  convertible          rwd           front      88.600  ...   \n2            two    hatchback          rwd           front      94.500  ...   \n3           four        sedan          fwd           front      99.800  ...   \n4           four        sedan          4wd           front      99.400  ...   \n..           ...          ...          ...             ...         ...  ...   \n200         four        sedan          rwd           front     109.100  ...   \n201         four        sedan          rwd           front     109.100  ...   \n202         four        sedan          rwd           front     109.100  ...   \n203         four        sedan          rwd           front     109.100  ...   \n204         four        sedan          rwd           front     109.100  ...   \n\n     engine-size  fuel-system  bore  stroke compression-ratio horsepower  \\\n0            130         mpfi  3.47    2.68             9.000        111   \n1            130         mpfi  3.47    2.68             9.000        111   \n2            152         mpfi  2.68    3.47             9.000        154   \n3            109         mpfi  3.19    3.40            10.000        102   \n4            136         mpfi  3.19    3.40             8.000        115   \n..           ...          ...   ...     ...               ...        ...   \n200          141         mpfi  3.78    3.15             9.500        114   \n201          141         mpfi  3.78    3.15             8.700        160   \n202          173         mpfi  3.58    2.87             8.800        134   \n203          145          idi  3.01    3.40            23.000        106   \n204          141         mpfi  3.78    3.15             9.500        114   \n\n     peak-rpm city-mpg highway-mpg  price  \n0        5000       21          27  13495  \n1        5000       21          27  16500  \n2        5000       19          26  16500  \n3        5500       24          30  13950  \n4        5500       18          22  17450  \n..        ...      ...         ...    ...  \n200      5400       23          28  16845  \n201      5300       19          25  19045  \n202      5500       18          23  21485  \n203      4800       26          27  22470  \n204      5400       19          25  22625  \n\n[205 rows x 26 columns]",
      "text/html": "<div>\n<style scoped>\n    .dataframe tbody tr th:only-of-type {\n        vertical-align: middle;\n    }\n\n    .dataframe tbody tr th {\n        vertical-align: top;\n    }\n\n    .dataframe thead th {\n        text-align: right;\n    }\n</style>\n<table border=\"1\" class=\"dataframe\">\n  <thead>\n    <tr style=\"text-align: right;\">\n      <th></th>\n      <th>symboling</th>\n      <th>normalized-losses</th>\n      <th>make</th>\n      <th>fuel-type</th>\n      <th>aspiration</th>\n      <th>num-of-doors</th>\n      <th>body-style</th>\n      <th>drive-wheels</th>\n      <th>engine-location</th>\n      <th>wheel-base</th>\n      <th>...</th>\n      <th>engine-size</th>\n      <th>fuel-system</th>\n      <th>bore</th>\n      <th>stroke</th>\n      <th>compression-ratio</th>\n      <th>horsepower</th>\n      <th>peak-rpm</th>\n      <th>city-mpg</th>\n      <th>highway-mpg</th>\n      <th>price</th>\n    </tr>\n  </thead>\n  <tbody>\n    <tr>\n      <th>0</th>\n      <td>3</td>\n      <td>?</td>\n      <td>alfa-romero</td>\n      <td>gas</td>\n      <td>std</td>\n      <td>two</td>\n      <td>convertible</td>\n      <td>rwd</td>\n      <td>front</td>\n      <td>88.600</td>\n      <td>...</td>\n      <td>130</td>\n      <td>mpfi</td>\n      <td>3.47</td>\n      <td>2.68</td>\n      <td>9.000</td>\n      <td>111</td>\n      <td>5000</td>\n      <td>21</td>\n      <td>27</td>\n      <td>13495</td>\n    </tr>\n    <tr>\n      <th>1</th>\n      <td>3</td>\n      <td>?</td>\n      <td>alfa-romero</td>\n      <td>gas</td>\n      <td>std</td>\n      <td>two</td>\n      <td>convertible</td>\n      <td>rwd</td>\n      <td>front</td>\n      <td>88.600</td>\n      <td>...</td>\n      <td>130</td>\n      <td>mpfi</td>\n      <td>3.47</td>\n      <td>2.68</td>\n      <td>9.000</td>\n      <td>111</td>\n      <td>5000</td>\n      <td>21</td>\n      <td>27</td>\n      <td>16500</td>\n    </tr>\n    <tr>\n      <th>2</th>\n      <td>1</td>\n      <td>?</td>\n      <td>alfa-romero</td>\n      <td>gas</td>\n      <td>std</td>\n      <td>two</td>\n      <td>hatchback</td>\n      <td>rwd</td>\n      <td>front</td>\n      <td>94.500</td>\n      <td>...</td>\n      <td>152</td>\n      <td>mpfi</td>\n      <td>2.68</td>\n      <td>3.47</td>\n      <td>9.000</td>\n      <td>154</td>\n      <td>5000</td>\n      <td>19</td>\n      <td>26</td>\n      <td>16500</td>\n    </tr>\n    <tr>\n      <th>3</th>\n      <td>2</td>\n      <td>164</td>\n      <td>audi</td>\n      <td>gas</td>\n      <td>std</td>\n      <td>four</td>\n      <td>sedan</td>\n      <td>fwd</td>\n      <td>front</td>\n      <td>99.800</td>\n      <td>...</td>\n      <td>109</td>\n      <td>mpfi</td>\n      <td>3.19</td>\n      <td>3.40</td>\n      <td>10.000</td>\n      <td>102</td>\n      <td>5500</td>\n      <td>24</td>\n      <td>30</td>\n      <td>13950</td>\n    </tr>\n    <tr>\n      <th>4</th>\n      <td>2</td>\n      <td>164</td>\n      <td>audi</td>\n      <td>gas</td>\n      <td>std</td>\n      <td>four</td>\n      <td>sedan</td>\n      <td>4wd</td>\n      <td>front</td>\n      <td>99.400</td>\n      <td>...</td>\n      <td>136</td>\n      <td>mpfi</td>\n      <td>3.19</td>\n      <td>3.40</td>\n      <td>8.000</td>\n      <td>115</td>\n      <td>5500</td>\n      <td>18</td>\n      <td>22</td>\n      <td>17450</td>\n    </tr>\n    <tr>\n      <th>...</th>\n      <td>...</td>\n      <td>...</td>\n      <td>...</td>\n      <td>...</td>\n      <td>...</td>\n      <td>...</td>\n      <td>...</td>\n      <td>...</td>\n      <td>...</td>\n      <td>...</td>\n      <td>...</td>\n      <td>...</td>\n      <td>...</td>\n      <td>...</td>\n      <td>...</td>\n      <td>...</td>\n      <td>...</td>\n      <td>...</td>\n      <td>...</td>\n      <td>...</td>\n      <td>...</td>\n    </tr>\n    <tr>\n      <th>200</th>\n      <td>-1</td>\n      <td>95</td>\n      <td>volvo</td>\n      <td>gas</td>\n      <td>std</td>\n      <td>four</td>\n      <td>sedan</td>\n      <td>rwd</td>\n      <td>front</td>\n      <td>109.100</td>\n      <td>...</td>\n      <td>141</td>\n      <td>mpfi</td>\n      <td>3.78</td>\n      <td>3.15</td>\n      <td>9.500</td>\n      <td>114</td>\n      <td>5400</td>\n      <td>23</td>\n      <td>28</td>\n      <td>16845</td>\n    </tr>\n    <tr>\n      <th>201</th>\n      <td>-1</td>\n      <td>95</td>\n      <td>volvo</td>\n      <td>gas</td>\n      <td>turbo</td>\n      <td>four</td>\n      <td>sedan</td>\n      <td>rwd</td>\n      <td>front</td>\n      <td>109.100</td>\n      <td>...</td>\n      <td>141</td>\n      <td>mpfi</td>\n      <td>3.78</td>\n      <td>3.15</td>\n      <td>8.700</td>\n      <td>160</td>\n      <td>5300</td>\n      <td>19</td>\n      <td>25</td>\n      <td>19045</td>\n    </tr>\n    <tr>\n      <th>202</th>\n      <td>-1</td>\n      <td>95</td>\n      <td>volvo</td>\n      <td>gas</td>\n      <td>std</td>\n      <td>four</td>\n      <td>sedan</td>\n      <td>rwd</td>\n      <td>front</td>\n      <td>109.100</td>\n      <td>...</td>\n      <td>173</td>\n      <td>mpfi</td>\n      <td>3.58</td>\n      <td>2.87</td>\n      <td>8.800</td>\n      <td>134</td>\n      <td>5500</td>\n      <td>18</td>\n      <td>23</td>\n      <td>21485</td>\n    </tr>\n    <tr>\n      <th>203</th>\n      <td>-1</td>\n      <td>95</td>\n      <td>volvo</td>\n      <td>diesel</td>\n      <td>turbo</td>\n      <td>four</td>\n      <td>sedan</td>\n      <td>rwd</td>\n      <td>front</td>\n      <td>109.100</td>\n      <td>...</td>\n      <td>145</td>\n      <td>idi</td>\n      <td>3.01</td>\n      <td>3.40</td>\n      <td>23.000</td>\n      <td>106</td>\n      <td>4800</td>\n      <td>26</td>\n      <td>27</td>\n      <td>22470</td>\n    </tr>\n    <tr>\n      <th>204</th>\n      <td>-1</td>\n      <td>95</td>\n      <td>volvo</td>\n      <td>gas</td>\n      <td>turbo</td>\n      <td>four</td>\n      <td>sedan</td>\n      <td>rwd</td>\n      <td>front</td>\n      <td>109.100</td>\n      <td>...</td>\n      <td>141</td>\n      <td>mpfi</td>\n      <td>3.78</td>\n      <td>3.15</td>\n      <td>9.500</td>\n      <td>114</td>\n      <td>5400</td>\n      <td>19</td>\n      <td>25</td>\n      <td>22625</td>\n    </tr>\n  </tbody>\n</table>\n<p>205 rows × 26 columns</p>\n</div>"
     },
     "metadata": {}
    }
   ]
  },
  {
   "cell_type": "code",
   "metadata": {
    "cell_id": "606fd015-cf0a-43ca-b6db-f6043dbcab33",
    "tags": [],
    "deepnote_to_be_reexecuted": false,
    "source_hash": "3a93b0ce",
    "execution_start": 1645738117428,
    "execution_millis": 3,
    "deepnote_cell_type": "code"
   },
   "source": "df_auto.shape",
   "execution_count": 7,
   "outputs": [
    {
     "output_type": "execute_result",
     "execution_count": 7,
     "data": {
      "text/plain": "(205, 26)"
     },
     "metadata": {}
    }
   ]
  },
  {
   "cell_type": "code",
   "metadata": {
    "cell_id": "42856237-9a21-46c1-86f6-b4b708ae8c21",
    "tags": [],
    "deepnote_to_be_reexecuted": false,
    "source_hash": "be22fbc7",
    "execution_start": 1645738117473,
    "execution_millis": 358086,
    "deepnote_cell_type": "code"
   },
   "source": "df_auto.dtypes",
   "execution_count": 8,
   "outputs": [
    {
     "output_type": "execute_result",
     "execution_count": 8,
     "data": {
      "text/plain": "symboling              int64\nnormalized-losses     object\nmake                  object\nfuel-type             object\naspiration            object\nnum-of-doors          object\nbody-style            object\ndrive-wheels          object\nengine-location       object\nwheel-base           float64\nlength               float64\nwidth                float64\nheight               float64\ncurb-weight            int64\nengine-type           object\nnum-of-cylinders      object\nengine-size            int64\nfuel-system           object\nbore                  object\nstroke                object\ncompression-ratio    float64\nhorsepower            object\npeak-rpm              object\ncity-mpg               int64\nhighway-mpg            int64\nprice                 object\ndtype: object"
     },
     "metadata": {}
    }
   ]
  },
  {
   "cell_type": "code",
   "metadata": {
    "cell_id": "7c8aca4b-c58b-4abb-ab55-b497e2d6de69",
    "tags": [],
    "deepnote_to_be_reexecuted": false,
    "source_hash": "f7d931eb",
    "execution_start": 1645738117473,
    "execution_millis": 207,
    "deepnote_cell_type": "code"
   },
   "source": "df_auto.describe(include = 'all')",
   "execution_count": 9,
   "outputs": [
    {
     "output_type": "execute_result",
     "execution_count": 9,
     "data": {
      "application/vnd.deepnote.dataframe.v3+json": {
       "column_count": 26,
       "row_count": 11,
       "columns": [
        {
         "name": "symboling",
         "dtype": "float64",
         "stats": {
          "unique_count": 8,
          "nan_count": 3,
          "min": "-2.0",
          "max": "205.0",
          "histogram": [
           {
            "bin_start": -2,
            "bin_end": 18.7,
            "count": 7
           },
           {
            "bin_start": 18.7,
            "bin_end": 39.4,
            "count": 0
           },
           {
            "bin_start": 39.4,
            "bin_end": 60.099999999999994,
            "count": 0
           },
           {
            "bin_start": 60.099999999999994,
            "bin_end": 80.8,
            "count": 0
           },
           {
            "bin_start": 80.8,
            "bin_end": 101.5,
            "count": 0
           },
           {
            "bin_start": 101.5,
            "bin_end": 122.19999999999999,
            "count": 0
           },
           {
            "bin_start": 122.19999999999999,
            "bin_end": 142.9,
            "count": 0
           },
           {
            "bin_start": 142.9,
            "bin_end": 163.6,
            "count": 0
           },
           {
            "bin_start": 163.6,
            "bin_end": 184.29999999999998,
            "count": 0
           },
           {
            "bin_start": 184.29999999999998,
            "bin_end": 205,
            "count": 1
           }
          ]
         }
        },
        {
         "name": "normalized-losses",
         "dtype": "object",
         "stats": {
          "unique_count": 4,
          "nan_count": 7,
          "categories": [
           {
            "name": "205",
            "count": 1
           },
           {
            "name": "3 others",
            "count": 3
           },
           {
            "name": "Missing",
            "count": 7
           }
          ]
         }
        },
        {
         "name": "make",
         "dtype": "object",
         "stats": {
          "unique_count": 4,
          "nan_count": 7,
          "categories": [
           {
            "name": "205",
            "count": 1
           },
           {
            "name": "3 others",
            "count": 3
           },
           {
            "name": "Missing",
            "count": 7
           }
          ]
         }
        },
        {
         "name": "fuel-type",
         "dtype": "object",
         "stats": {
          "unique_count": 4,
          "nan_count": 7,
          "categories": [
           {
            "name": "205",
            "count": 1
           },
           {
            "name": "3 others",
            "count": 3
           },
           {
            "name": "Missing",
            "count": 7
           }
          ]
         }
        },
        {
         "name": "aspiration",
         "dtype": "object",
         "stats": {
          "unique_count": 4,
          "nan_count": 7,
          "categories": [
           {
            "name": "205",
            "count": 1
           },
           {
            "name": "3 others",
            "count": 3
           },
           {
            "name": "Missing",
            "count": 7
           }
          ]
         }
        },
        {
         "name": "num-of-doors",
         "dtype": "object",
         "stats": {
          "unique_count": 4,
          "nan_count": 7,
          "categories": [
           {
            "name": "205",
            "count": 1
           },
           {
            "name": "3 others",
            "count": 3
           },
           {
            "name": "Missing",
            "count": 7
           }
          ]
         }
        },
        {
         "name": "body-style",
         "dtype": "object",
         "stats": {
          "unique_count": 4,
          "nan_count": 7,
          "categories": [
           {
            "name": "205",
            "count": 1
           },
           {
            "name": "3 others",
            "count": 3
           },
           {
            "name": "Missing",
            "count": 7
           }
          ]
         }
        },
        {
         "name": "drive-wheels",
         "dtype": "object",
         "stats": {
          "unique_count": 4,
          "nan_count": 7,
          "categories": [
           {
            "name": "205",
            "count": 1
           },
           {
            "name": "3 others",
            "count": 3
           },
           {
            "name": "Missing",
            "count": 7
           }
          ]
         }
        },
        {
         "name": "engine-location",
         "dtype": "object",
         "stats": {
          "unique_count": 4,
          "nan_count": 7,
          "categories": [
           {
            "name": "205",
            "count": 1
           },
           {
            "name": "3 others",
            "count": 3
           },
           {
            "name": "Missing",
            "count": 7
           }
          ]
         }
        },
        {
         "name": "wheel-base",
         "dtype": "float64",
         "stats": {
          "unique_count": 8,
          "nan_count": 3,
          "min": "6.021775685025571",
          "max": "205.0",
          "histogram": [
           {
            "bin_start": 6.021775685025571,
            "bin_end": 25.919598116523012,
            "count": 1
           },
           {
            "bin_start": 25.919598116523012,
            "bin_end": 45.81742054802046,
            "count": 0
           },
           {
            "bin_start": 45.81742054802046,
            "bin_end": 65.7152429795179,
            "count": 0
           },
           {
            "bin_start": 65.7152429795179,
            "bin_end": 85.61306541101534,
            "count": 0
           },
           {
            "bin_start": 85.61306541101534,
            "bin_end": 105.51088784251279,
            "count": 5
           },
           {
            "bin_start": 105.51088784251279,
            "bin_end": 125.40871027401022,
            "count": 1
           },
           {
            "bin_start": 125.40871027401022,
            "bin_end": 145.30653270550766,
            "count": 0
           },
           {
            "bin_start": 145.30653270550766,
            "bin_end": 165.2043551370051,
            "count": 0
           },
           {
            "bin_start": 165.2043551370051,
            "bin_end": 185.10217756850255,
            "count": 0
           },
           {
            "bin_start": 185.10217756850255,
            "bin_end": 205,
            "count": 1
           }
          ]
         }
        },
        {
         "name": "length",
         "dtype": "float64",
         "stats": {
          "unique_count": 8,
          "nan_count": 3,
          "min": "12.33728852655518",
          "max": "208.1",
          "histogram": [
           {
            "bin_start": 12.33728852655518,
            "bin_end": 31.913559673899663,
            "count": 1
           },
           {
            "bin_start": 31.913559673899663,
            "bin_end": 51.48983082124414,
            "count": 0
           },
           {
            "bin_start": 51.48983082124414,
            "bin_end": 71.06610196858863,
            "count": 0
           },
           {
            "bin_start": 71.06610196858863,
            "bin_end": 90.64237311593311,
            "count": 0
           },
           {
            "bin_start": 90.64237311593311,
            "bin_end": 110.2186442632776,
            "count": 0
           },
           {
            "bin_start": 110.2186442632776,
            "bin_end": 129.79491541062205,
            "count": 0
           },
           {
            "bin_start": 129.79491541062205,
            "bin_end": 149.37118655796655,
            "count": 1
           },
           {
            "bin_start": 149.37118655796655,
            "bin_end": 168.94745770531102,
            "count": 1
           },
           {
            "bin_start": 168.94745770531102,
            "bin_end": 188.5237288526555,
            "count": 3
           },
           {
            "bin_start": 188.5237288526555,
            "bin_end": 208.1,
            "count": 2
           }
          ]
         }
        },
        {
         "name": "width",
         "dtype": "float64",
         "stats": {
          "unique_count": 8,
          "nan_count": 3,
          "min": "2.145203852687183",
          "max": "205.0",
          "histogram": [
           {
            "bin_start": 2.145203852687183,
            "bin_end": 22.43068346741846,
            "count": 1
           },
           {
            "bin_start": 22.43068346741846,
            "bin_end": 42.71616308214974,
            "count": 0
           },
           {
            "bin_start": 42.71616308214974,
            "bin_end": 63.00164269688102,
            "count": 1
           },
           {
            "bin_start": 63.00164269688102,
            "bin_end": 83.28712231161231,
            "count": 5
           },
           {
            "bin_start": 83.28712231161231,
            "bin_end": 103.5726019263436,
            "count": 0
           },
           {
            "bin_start": 103.5726019263436,
            "bin_end": 123.85808154107487,
            "count": 0
           },
           {
            "bin_start": 123.85808154107487,
            "bin_end": 144.14356115580614,
            "count": 0
           },
           {
            "bin_start": 144.14356115580614,
            "bin_end": 164.42904077053743,
            "count": 0
           },
           {
            "bin_start": 164.42904077053743,
            "bin_end": 184.7145203852687,
            "count": 0
           },
           {
            "bin_start": 184.7145203852687,
            "bin_end": 205,
            "count": 1
           }
          ]
         }
        },
        {
         "name": "height",
         "dtype": "float64",
         "stats": {
          "unique_count": 8,
          "nan_count": 3,
          "min": "2.4435219699049036",
          "max": "205.0",
          "histogram": [
           {
            "bin_start": 2.4435219699049036,
            "bin_end": 22.699169772914413,
            "count": 1
           },
           {
            "bin_start": 22.699169772914413,
            "bin_end": 42.954817575923926,
            "count": 0
           },
           {
            "bin_start": 42.954817575923926,
            "bin_end": 63.210465378933435,
            "count": 6
           },
           {
            "bin_start": 63.210465378933435,
            "bin_end": 83.46611318194294,
            "count": 0
           },
           {
            "bin_start": 83.46611318194294,
            "bin_end": 103.72176098495245,
            "count": 0
           },
           {
            "bin_start": 103.72176098495245,
            "bin_end": 123.97740878796196,
            "count": 0
           },
           {
            "bin_start": 123.97740878796196,
            "bin_end": 144.23305659097147,
            "count": 0
           },
           {
            "bin_start": 144.23305659097147,
            "bin_end": 164.48870439398098,
            "count": 0
           },
           {
            "bin_start": 164.48870439398098,
            "bin_end": 184.7443521969905,
            "count": 0
           },
           {
            "bin_start": 184.7443521969905,
            "bin_end": 205,
            "count": 1
           }
          ]
         }
        },
        {
         "name": "curb-weight",
         "dtype": "float64",
         "stats": {
          "unique_count": 8,
          "nan_count": 3,
          "min": "205.0",
          "max": "4066.0",
          "histogram": [
           {
            "bin_start": 205,
            "bin_end": 591.1,
            "count": 2
           },
           {
            "bin_start": 591.1,
            "bin_end": 977.2,
            "count": 0
           },
           {
            "bin_start": 977.2,
            "bin_end": 1363.3000000000002,
            "count": 0
           },
           {
            "bin_start": 1363.3000000000002,
            "bin_end": 1749.4,
            "count": 1
           },
           {
            "bin_start": 1749.4,
            "bin_end": 2135.5,
            "count": 0
           },
           {
            "bin_start": 2135.5,
            "bin_end": 2521.6000000000004,
            "count": 2
           },
           {
            "bin_start": 2521.6000000000004,
            "bin_end": 2907.7000000000003,
            "count": 1
           },
           {
            "bin_start": 2907.7000000000003,
            "bin_end": 3293.8,
            "count": 1
           },
           {
            "bin_start": 3293.8,
            "bin_end": 3679.9,
            "count": 0
           },
           {
            "bin_start": 3679.9,
            "bin_end": 4066,
            "count": 1
           }
          ]
         }
        },
        {
         "name": "engine-type",
         "dtype": "object",
         "stats": {
          "unique_count": 4,
          "nan_count": 7,
          "categories": [
           {
            "name": "205",
            "count": 1
           },
           {
            "name": "3 others",
            "count": 3
           },
           {
            "name": "Missing",
            "count": 7
           }
          ]
         }
        },
        {
         "name": "num-of-cylinders",
         "dtype": "object",
         "stats": {
          "unique_count": 4,
          "nan_count": 7,
          "categories": [
           {
            "name": "205",
            "count": 1
           },
           {
            "name": "3 others",
            "count": 3
           },
           {
            "name": "Missing",
            "count": 7
           }
          ]
         }
        },
        {
         "name": "engine-size",
         "dtype": "float64",
         "stats": {
          "unique_count": 8,
          "nan_count": 3,
          "min": "41.64269343817984",
          "max": "326.0",
          "histogram": [
           {
            "bin_start": 41.64269343817984,
            "bin_end": 70.07842409436185,
            "count": 2
           },
           {
            "bin_start": 70.07842409436185,
            "bin_end": 98.51415475054387,
            "count": 1
           },
           {
            "bin_start": 98.51415475054387,
            "bin_end": 126.94988540672588,
            "count": 2
           },
           {
            "bin_start": 126.94988540672588,
            "bin_end": 155.3856160629079,
            "count": 1
           },
           {
            "bin_start": 155.3856160629079,
            "bin_end": 183.82134671908992,
            "count": 0
           },
           {
            "bin_start": 183.82134671908992,
            "bin_end": 212.25707737527193,
            "count": 1
           },
           {
            "bin_start": 212.25707737527193,
            "bin_end": 240.69280803145395,
            "count": 0
           },
           {
            "bin_start": 240.69280803145395,
            "bin_end": 269.12853868763597,
            "count": 0
           },
           {
            "bin_start": 269.12853868763597,
            "bin_end": 297.564269343818,
            "count": 0
           },
           {
            "bin_start": 297.564269343818,
            "bin_end": 326,
            "count": 1
           }
          ]
         }
        },
        {
         "name": "fuel-system",
         "dtype": "object",
         "stats": {
          "unique_count": 4,
          "nan_count": 7,
          "categories": [
           {
            "name": "205",
            "count": 1
           },
           {
            "name": "3 others",
            "count": 3
           },
           {
            "name": "Missing",
            "count": 7
           }
          ]
         }
        },
        {
         "name": "bore",
         "dtype": "object",
         "stats": {
          "unique_count": 4,
          "nan_count": 7,
          "categories": [
           {
            "name": "205",
            "count": 1
           },
           {
            "name": "3 others",
            "count": 3
           },
           {
            "name": "Missing",
            "count": 7
           }
          ]
         }
        },
        {
         "name": "stroke",
         "dtype": "object",
         "stats": {
          "unique_count": 4,
          "nan_count": 7,
          "categories": [
           {
            "name": "205",
            "count": 1
           },
           {
            "name": "3 others",
            "count": 3
           },
           {
            "name": "Missing",
            "count": 7
           }
          ]
         }
        },
        {
         "name": "compression-ratio",
         "dtype": "float64",
         "stats": {
          "unique_count": 8,
          "nan_count": 3,
          "min": "3.972040321863298",
          "max": "205.0",
          "histogram": [
           {
            "bin_start": 3.972040321863298,
            "bin_end": 24.074836289676966,
            "count": 7
           },
           {
            "bin_start": 24.074836289676966,
            "bin_end": 44.177632257490636,
            "count": 0
           },
           {
            "bin_start": 44.177632257490636,
            "bin_end": 64.2804282253043,
            "count": 0
           },
           {
            "bin_start": 64.2804282253043,
            "bin_end": 84.38322419311798,
            "count": 0
           },
           {
            "bin_start": 84.38322419311798,
            "bin_end": 104.48602016093166,
            "count": 0
           },
           {
            "bin_start": 104.48602016093166,
            "bin_end": 124.58881612874532,
            "count": 0
           },
           {
            "bin_start": 124.58881612874532,
            "bin_end": 144.69161209655897,
            "count": 0
           },
           {
            "bin_start": 144.69161209655897,
            "bin_end": 164.79440806437265,
            "count": 0
           },
           {
            "bin_start": 164.79440806437265,
            "bin_end": 184.89720403218632,
            "count": 0
           },
           {
            "bin_start": 184.89720403218632,
            "bin_end": 205,
            "count": 1
           }
          ]
         }
        },
        {
         "name": "horsepower",
         "dtype": "object",
         "stats": {
          "unique_count": 4,
          "nan_count": 7,
          "categories": [
           {
            "name": "205",
            "count": 1
           },
           {
            "name": "3 others",
            "count": 3
           },
           {
            "name": "Missing",
            "count": 7
           }
          ]
         }
        },
        {
         "name": "peak-rpm",
         "dtype": "object",
         "stats": {
          "unique_count": 4,
          "nan_count": 7,
          "categories": [
           {
            "name": "205",
            "count": 1
           },
           {
            "name": "3 others",
            "count": 3
           },
           {
            "name": "Missing",
            "count": 7
           }
          ]
         }
        },
        {
         "name": "city-mpg",
         "dtype": "float64",
         "stats": {
          "unique_count": 8,
          "nan_count": 3,
          "min": "6.542141653001622",
          "max": "205.0",
          "histogram": [
           {
            "bin_start": 6.542141653001622,
            "bin_end": 26.387927487701457,
            "count": 5
           },
           {
            "bin_start": 26.387927487701457,
            "bin_end": 46.23371332240129,
            "count": 1
           },
           {
            "bin_start": 46.23371332240129,
            "bin_end": 66.07949915710113,
            "count": 1
           },
           {
            "bin_start": 66.07949915710113,
            "bin_end": 85.92528499180096,
            "count": 0
           },
           {
            "bin_start": 85.92528499180096,
            "bin_end": 105.7710708265008,
            "count": 0
           },
           {
            "bin_start": 105.7710708265008,
            "bin_end": 125.61685666120063,
            "count": 0
           },
           {
            "bin_start": 125.61685666120063,
            "bin_end": 145.46264249590047,
            "count": 0
           },
           {
            "bin_start": 145.46264249590047,
            "bin_end": 165.3084283306003,
            "count": 0
           },
           {
            "bin_start": 165.3084283306003,
            "bin_end": 185.15421416530012,
            "count": 0
           },
           {
            "bin_start": 185.15421416530012,
            "bin_end": 205,
            "count": 1
           }
          ]
         }
        },
        {
         "name": "highway-mpg",
         "dtype": "float64",
         "stats": {
          "unique_count": 8,
          "nan_count": 3,
          "min": "6.886443130941824",
          "max": "205.0",
          "histogram": [
           {
            "bin_start": 6.886443130941824,
            "bin_end": 26.697798817847644,
            "count": 3
           },
           {
            "bin_start": 26.697798817847644,
            "bin_end": 46.50915450475347,
            "count": 3
           },
           {
            "bin_start": 46.50915450475347,
            "bin_end": 66.32051019165928,
            "count": 1
           },
           {
            "bin_start": 66.32051019165928,
            "bin_end": 86.13186587856511,
            "count": 0
           },
           {
            "bin_start": 86.13186587856511,
            "bin_end": 105.94322156547092,
            "count": 0
           },
           {
            "bin_start": 105.94322156547092,
            "bin_end": 125.75457725237675,
            "count": 0
           },
           {
            "bin_start": 125.75457725237675,
            "bin_end": 145.56593293928256,
            "count": 0
           },
           {
            "bin_start": 145.56593293928256,
            "bin_end": 165.37728862618837,
            "count": 0
           },
           {
            "bin_start": 165.37728862618837,
            "bin_end": 185.1886443130942,
            "count": 0
           },
           {
            "bin_start": 185.1886443130942,
            "bin_end": 205,
            "count": 1
           }
          ]
         }
        },
        {
         "name": "price",
         "dtype": "object",
         "stats": {
          "unique_count": 4,
          "nan_count": 7,
          "categories": [
           {
            "name": "205",
            "count": 1
           },
           {
            "name": "3 others",
            "count": 3
           },
           {
            "name": "Missing",
            "count": 7
           }
          ]
         }
        },
        {
         "name": "_deepnote_index_column",
         "dtype": "object"
        }
       ],
       "rows": [
        {
         "symboling": 205,
         "normalized-losses": "205",
         "make": "205",
         "fuel-type": "205",
         "aspiration": "205",
         "num-of-doors": "205",
         "body-style": "205",
         "drive-wheels": "205",
         "engine-location": "205",
         "wheel-base": 205,
         "length": 205,
         "width": 205,
         "height": 205,
         "curb-weight": 205,
         "engine-type": "205",
         "num-of-cylinders": "205",
         "engine-size": 205,
         "fuel-system": "205",
         "bore": "205",
         "stroke": "205",
         "compression-ratio": 205,
         "horsepower": "205",
         "peak-rpm": "205",
         "city-mpg": 205,
         "highway-mpg": 205,
         "price": "205",
         "_deepnote_index_column": "count"
        },
        {
         "symboling": "nan",
         "normalized-losses": "52",
         "make": "22",
         "fuel-type": "2",
         "aspiration": "2",
         "num-of-doors": "3",
         "body-style": "5",
         "drive-wheels": "3",
         "engine-location": "2",
         "wheel-base": "nan",
         "length": "nan",
         "width": "nan",
         "height": "nan",
         "curb-weight": "nan",
         "engine-type": "7",
         "num-of-cylinders": "7",
         "engine-size": "nan",
         "fuel-system": "8",
         "bore": "39",
         "stroke": "37",
         "compression-ratio": "nan",
         "horsepower": "60",
         "peak-rpm": "24",
         "city-mpg": "nan",
         "highway-mpg": "nan",
         "price": "187",
         "_deepnote_index_column": "unique"
        },
        {
         "symboling": "nan",
         "normalized-losses": "?",
         "make": "toyota",
         "fuel-type": "gas",
         "aspiration": "std",
         "num-of-doors": "four",
         "body-style": "sedan",
         "drive-wheels": "fwd",
         "engine-location": "front",
         "wheel-base": "nan",
         "length": "nan",
         "width": "nan",
         "height": "nan",
         "curb-weight": "nan",
         "engine-type": "ohc",
         "num-of-cylinders": "four",
         "engine-size": "nan",
         "fuel-system": "mpfi",
         "bore": "3.62",
         "stroke": "3.40",
         "compression-ratio": "nan",
         "horsepower": "68",
         "peak-rpm": "5500",
         "city-mpg": "nan",
         "highway-mpg": "nan",
         "price": "?",
         "_deepnote_index_column": "top"
        },
        {
         "symboling": "nan",
         "normalized-losses": "41",
         "make": "32",
         "fuel-type": "185",
         "aspiration": "168",
         "num-of-doors": "114",
         "body-style": "96",
         "drive-wheels": "120",
         "engine-location": "202",
         "wheel-base": "nan",
         "length": "nan",
         "width": "nan",
         "height": "nan",
         "curb-weight": "nan",
         "engine-type": "148",
         "num-of-cylinders": "159",
         "engine-size": "nan",
         "fuel-system": "94",
         "bore": "23",
         "stroke": "20",
         "compression-ratio": "nan",
         "horsepower": "19",
         "peak-rpm": "37",
         "city-mpg": "nan",
         "highway-mpg": "nan",
         "price": "4",
         "_deepnote_index_column": "freq"
        },
        {
         "symboling": 0.8341463414634146,
         "normalized-losses": "nan",
         "make": "nan",
         "fuel-type": "nan",
         "aspiration": "nan",
         "num-of-doors": "nan",
         "body-style": "nan",
         "drive-wheels": "nan",
         "engine-location": "nan",
         "wheel-base": 98.75658536585367,
         "length": 174.04926829268288,
         "width": 65.90780487804878,
         "height": 53.72487804878049,
         "curb-weight": 2555.5658536585365,
         "engine-type": "nan",
         "num-of-cylinders": "nan",
         "engine-size": 126.90731707317073,
         "fuel-system": "nan",
         "bore": "nan",
         "stroke": "nan",
         "compression-ratio": 10.142536585365855,
         "horsepower": "nan",
         "peak-rpm": "nan",
         "city-mpg": 25.21951219512195,
         "highway-mpg": 30.75121951219512,
         "price": "nan",
         "_deepnote_index_column": "mean"
        },
        {
         "symboling": 1.2453068281055297,
         "normalized-losses": "nan",
         "make": "nan",
         "fuel-type": "nan",
         "aspiration": "nan",
         "num-of-doors": "nan",
         "body-style": "nan",
         "drive-wheels": "nan",
         "engine-location": "nan",
         "wheel-base": 6.021775685025571,
         "length": 12.33728852655518,
         "width": 2.145203852687183,
         "height": 2.4435219699049036,
         "curb-weight": 520.6802035016387,
         "engine-type": "nan",
         "num-of-cylinders": "nan",
         "engine-size": 41.64269343817984,
         "fuel-system": "nan",
         "bore": "nan",
         "stroke": "nan",
         "compression-ratio": 3.972040321863298,
         "horsepower": "nan",
         "peak-rpm": "nan",
         "city-mpg": 6.542141653001622,
         "highway-mpg": 6.886443130941824,
         "price": "nan",
         "_deepnote_index_column": "std"
        },
        {
         "symboling": -2,
         "normalized-losses": "nan",
         "make": "nan",
         "fuel-type": "nan",
         "aspiration": "nan",
         "num-of-doors": "nan",
         "body-style": "nan",
         "drive-wheels": "nan",
         "engine-location": "nan",
         "wheel-base": 86.6,
         "length": 141.1,
         "width": 60.3,
         "height": 47.8,
         "curb-weight": 1488,
         "engine-type": "nan",
         "num-of-cylinders": "nan",
         "engine-size": 61,
         "fuel-system": "nan",
         "bore": "nan",
         "stroke": "nan",
         "compression-ratio": 7,
         "horsepower": "nan",
         "peak-rpm": "nan",
         "city-mpg": 13,
         "highway-mpg": 16,
         "price": "nan",
         "_deepnote_index_column": "min"
        },
        {
         "symboling": 0,
         "normalized-losses": "nan",
         "make": "nan",
         "fuel-type": "nan",
         "aspiration": "nan",
         "num-of-doors": "nan",
         "body-style": "nan",
         "drive-wheels": "nan",
         "engine-location": "nan",
         "wheel-base": 94.5,
         "length": 166.3,
         "width": 64.1,
         "height": 52,
         "curb-weight": 2145,
         "engine-type": "nan",
         "num-of-cylinders": "nan",
         "engine-size": 97,
         "fuel-system": "nan",
         "bore": "nan",
         "stroke": "nan",
         "compression-ratio": 8.6,
         "horsepower": "nan",
         "peak-rpm": "nan",
         "city-mpg": 19,
         "highway-mpg": 25,
         "price": "nan",
         "_deepnote_index_column": "25%"
        },
        {
         "symboling": 1,
         "normalized-losses": "nan",
         "make": "nan",
         "fuel-type": "nan",
         "aspiration": "nan",
         "num-of-doors": "nan",
         "body-style": "nan",
         "drive-wheels": "nan",
         "engine-location": "nan",
         "wheel-base": 97,
         "length": 173.2,
         "width": 65.5,
         "height": 54.1,
         "curb-weight": 2414,
         "engine-type": "nan",
         "num-of-cylinders": "nan",
         "engine-size": 120,
         "fuel-system": "nan",
         "bore": "nan",
         "stroke": "nan",
         "compression-ratio": 9,
         "horsepower": "nan",
         "peak-rpm": "nan",
         "city-mpg": 24,
         "highway-mpg": 30,
         "price": "nan",
         "_deepnote_index_column": "50%"
        },
        {
         "symboling": 2,
         "normalized-losses": "nan",
         "make": "nan",
         "fuel-type": "nan",
         "aspiration": "nan",
         "num-of-doors": "nan",
         "body-style": "nan",
         "drive-wheels": "nan",
         "engine-location": "nan",
         "wheel-base": 102.4,
         "length": 183.1,
         "width": 66.9,
         "height": 55.5,
         "curb-weight": 2935,
         "engine-type": "nan",
         "num-of-cylinders": "nan",
         "engine-size": 141,
         "fuel-system": "nan",
         "bore": "nan",
         "stroke": "nan",
         "compression-ratio": 9.4,
         "horsepower": "nan",
         "peak-rpm": "nan",
         "city-mpg": 30,
         "highway-mpg": 34,
         "price": "nan",
         "_deepnote_index_column": "75%"
        }
       ]
      },
      "text/plain": "        symboling normalized-losses    make fuel-type aspiration num-of-doors  \\\ncount     205.000               205     205       205        205          205   \nunique        NaN                52      22         2          2            3   \ntop           NaN                 ?  toyota       gas        std         four   \nfreq          NaN                41      32       185        168          114   \nmean        0.834               NaN     NaN       NaN        NaN          NaN   \nstd         1.245               NaN     NaN       NaN        NaN          NaN   \nmin        -2.000               NaN     NaN       NaN        NaN          NaN   \n25%         0.000               NaN     NaN       NaN        NaN          NaN   \n50%         1.000               NaN     NaN       NaN        NaN          NaN   \n75%         2.000               NaN     NaN       NaN        NaN          NaN   \nmax         3.000               NaN     NaN       NaN        NaN          NaN   \n\n       body-style drive-wheels engine-location  wheel-base  ...  engine-size  \\\ncount         205          205             205     205.000  ...      205.000   \nunique          5            3               2         NaN  ...          NaN   \ntop         sedan          fwd           front         NaN  ...          NaN   \nfreq           96          120             202         NaN  ...          NaN   \nmean          NaN          NaN             NaN      98.757  ...      126.907   \nstd           NaN          NaN             NaN       6.022  ...       41.643   \nmin           NaN          NaN             NaN      86.600  ...       61.000   \n25%           NaN          NaN             NaN      94.500  ...       97.000   \n50%           NaN          NaN             NaN      97.000  ...      120.000   \n75%           NaN          NaN             NaN     102.400  ...      141.000   \nmax           NaN          NaN             NaN     120.900  ...      326.000   \n\n        fuel-system  bore  stroke compression-ratio horsepower  peak-rpm  \\\ncount           205   205     205           205.000        205       205   \nunique            8    39      37               NaN         60        24   \ntop            mpfi  3.62    3.40               NaN         68      5500   \nfreq             94    23      20               NaN         19        37   \nmean            NaN   NaN     NaN            10.143        NaN       NaN   \nstd             NaN   NaN     NaN             3.972        NaN       NaN   \nmin             NaN   NaN     NaN             7.000        NaN       NaN   \n25%             NaN   NaN     NaN             8.600        NaN       NaN   \n50%             NaN   NaN     NaN             9.000        NaN       NaN   \n75%             NaN   NaN     NaN             9.400        NaN       NaN   \nmax             NaN   NaN     NaN            23.000        NaN       NaN   \n\n       city-mpg highway-mpg price  \ncount   205.000     205.000   205  \nunique      NaN         NaN   187  \ntop         NaN         NaN     ?  \nfreq        NaN         NaN     4  \nmean     25.220      30.751   NaN  \nstd       6.542       6.886   NaN  \nmin      13.000      16.000   NaN  \n25%      19.000      25.000   NaN  \n50%      24.000      30.000   NaN  \n75%      30.000      34.000   NaN  \nmax      49.000      54.000   NaN  \n\n[11 rows x 26 columns]",
      "text/html": "<div>\n<style scoped>\n    .dataframe tbody tr th:only-of-type {\n        vertical-align: middle;\n    }\n\n    .dataframe tbody tr th {\n        vertical-align: top;\n    }\n\n    .dataframe thead th {\n        text-align: right;\n    }\n</style>\n<table border=\"1\" class=\"dataframe\">\n  <thead>\n    <tr style=\"text-align: right;\">\n      <th></th>\n      <th>symboling</th>\n      <th>normalized-losses</th>\n      <th>make</th>\n      <th>fuel-type</th>\n      <th>aspiration</th>\n      <th>num-of-doors</th>\n      <th>body-style</th>\n      <th>drive-wheels</th>\n      <th>engine-location</th>\n      <th>wheel-base</th>\n      <th>...</th>\n      <th>engine-size</th>\n      <th>fuel-system</th>\n      <th>bore</th>\n      <th>stroke</th>\n      <th>compression-ratio</th>\n      <th>horsepower</th>\n      <th>peak-rpm</th>\n      <th>city-mpg</th>\n      <th>highway-mpg</th>\n      <th>price</th>\n    </tr>\n  </thead>\n  <tbody>\n    <tr>\n      <th>count</th>\n      <td>205.000</td>\n      <td>205</td>\n      <td>205</td>\n      <td>205</td>\n      <td>205</td>\n      <td>205</td>\n      <td>205</td>\n      <td>205</td>\n      <td>205</td>\n      <td>205.000</td>\n      <td>...</td>\n      <td>205.000</td>\n      <td>205</td>\n      <td>205</td>\n      <td>205</td>\n      <td>205.000</td>\n      <td>205</td>\n      <td>205</td>\n      <td>205.000</td>\n      <td>205.000</td>\n      <td>205</td>\n    </tr>\n    <tr>\n      <th>unique</th>\n      <td>NaN</td>\n      <td>52</td>\n      <td>22</td>\n      <td>2</td>\n      <td>2</td>\n      <td>3</td>\n      <td>5</td>\n      <td>3</td>\n      <td>2</td>\n      <td>NaN</td>\n      <td>...</td>\n      <td>NaN</td>\n      <td>8</td>\n      <td>39</td>\n      <td>37</td>\n      <td>NaN</td>\n      <td>60</td>\n      <td>24</td>\n      <td>NaN</td>\n      <td>NaN</td>\n      <td>187</td>\n    </tr>\n    <tr>\n      <th>top</th>\n      <td>NaN</td>\n      <td>?</td>\n      <td>toyota</td>\n      <td>gas</td>\n      <td>std</td>\n      <td>four</td>\n      <td>sedan</td>\n      <td>fwd</td>\n      <td>front</td>\n      <td>NaN</td>\n      <td>...</td>\n      <td>NaN</td>\n      <td>mpfi</td>\n      <td>3.62</td>\n      <td>3.40</td>\n      <td>NaN</td>\n      <td>68</td>\n      <td>5500</td>\n      <td>NaN</td>\n      <td>NaN</td>\n      <td>?</td>\n    </tr>\n    <tr>\n      <th>freq</th>\n      <td>NaN</td>\n      <td>41</td>\n      <td>32</td>\n      <td>185</td>\n      <td>168</td>\n      <td>114</td>\n      <td>96</td>\n      <td>120</td>\n      <td>202</td>\n      <td>NaN</td>\n      <td>...</td>\n      <td>NaN</td>\n      <td>94</td>\n      <td>23</td>\n      <td>20</td>\n      <td>NaN</td>\n      <td>19</td>\n      <td>37</td>\n      <td>NaN</td>\n      <td>NaN</td>\n      <td>4</td>\n    </tr>\n    <tr>\n      <th>mean</th>\n      <td>0.834</td>\n      <td>NaN</td>\n      <td>NaN</td>\n      <td>NaN</td>\n      <td>NaN</td>\n      <td>NaN</td>\n      <td>NaN</td>\n      <td>NaN</td>\n      <td>NaN</td>\n      <td>98.757</td>\n      <td>...</td>\n      <td>126.907</td>\n      <td>NaN</td>\n      <td>NaN</td>\n      <td>NaN</td>\n      <td>10.143</td>\n      <td>NaN</td>\n      <td>NaN</td>\n      <td>25.220</td>\n      <td>30.751</td>\n      <td>NaN</td>\n    </tr>\n    <tr>\n      <th>std</th>\n      <td>1.245</td>\n      <td>NaN</td>\n      <td>NaN</td>\n      <td>NaN</td>\n      <td>NaN</td>\n      <td>NaN</td>\n      <td>NaN</td>\n      <td>NaN</td>\n      <td>NaN</td>\n      <td>6.022</td>\n      <td>...</td>\n      <td>41.643</td>\n      <td>NaN</td>\n      <td>NaN</td>\n      <td>NaN</td>\n      <td>3.972</td>\n      <td>NaN</td>\n      <td>NaN</td>\n      <td>6.542</td>\n      <td>6.886</td>\n      <td>NaN</td>\n    </tr>\n    <tr>\n      <th>min</th>\n      <td>-2.000</td>\n      <td>NaN</td>\n      <td>NaN</td>\n      <td>NaN</td>\n      <td>NaN</td>\n      <td>NaN</td>\n      <td>NaN</td>\n      <td>NaN</td>\n      <td>NaN</td>\n      <td>86.600</td>\n      <td>...</td>\n      <td>61.000</td>\n      <td>NaN</td>\n      <td>NaN</td>\n      <td>NaN</td>\n      <td>7.000</td>\n      <td>NaN</td>\n      <td>NaN</td>\n      <td>13.000</td>\n      <td>16.000</td>\n      <td>NaN</td>\n    </tr>\n    <tr>\n      <th>25%</th>\n      <td>0.000</td>\n      <td>NaN</td>\n      <td>NaN</td>\n      <td>NaN</td>\n      <td>NaN</td>\n      <td>NaN</td>\n      <td>NaN</td>\n      <td>NaN</td>\n      <td>NaN</td>\n      <td>94.500</td>\n      <td>...</td>\n      <td>97.000</td>\n      <td>NaN</td>\n      <td>NaN</td>\n      <td>NaN</td>\n      <td>8.600</td>\n      <td>NaN</td>\n      <td>NaN</td>\n      <td>19.000</td>\n      <td>25.000</td>\n      <td>NaN</td>\n    </tr>\n    <tr>\n      <th>50%</th>\n      <td>1.000</td>\n      <td>NaN</td>\n      <td>NaN</td>\n      <td>NaN</td>\n      <td>NaN</td>\n      <td>NaN</td>\n      <td>NaN</td>\n      <td>NaN</td>\n      <td>NaN</td>\n      <td>97.000</td>\n      <td>...</td>\n      <td>120.000</td>\n      <td>NaN</td>\n      <td>NaN</td>\n      <td>NaN</td>\n      <td>9.000</td>\n      <td>NaN</td>\n      <td>NaN</td>\n      <td>24.000</td>\n      <td>30.000</td>\n      <td>NaN</td>\n    </tr>\n    <tr>\n      <th>75%</th>\n      <td>2.000</td>\n      <td>NaN</td>\n      <td>NaN</td>\n      <td>NaN</td>\n      <td>NaN</td>\n      <td>NaN</td>\n      <td>NaN</td>\n      <td>NaN</td>\n      <td>NaN</td>\n      <td>102.400</td>\n      <td>...</td>\n      <td>141.000</td>\n      <td>NaN</td>\n      <td>NaN</td>\n      <td>NaN</td>\n      <td>9.400</td>\n      <td>NaN</td>\n      <td>NaN</td>\n      <td>30.000</td>\n      <td>34.000</td>\n      <td>NaN</td>\n    </tr>\n    <tr>\n      <th>max</th>\n      <td>3.000</td>\n      <td>NaN</td>\n      <td>NaN</td>\n      <td>NaN</td>\n      <td>NaN</td>\n      <td>NaN</td>\n      <td>NaN</td>\n      <td>NaN</td>\n      <td>NaN</td>\n      <td>120.900</td>\n      <td>...</td>\n      <td>326.000</td>\n      <td>NaN</td>\n      <td>NaN</td>\n      <td>NaN</td>\n      <td>23.000</td>\n      <td>NaN</td>\n      <td>NaN</td>\n      <td>49.000</td>\n      <td>54.000</td>\n      <td>NaN</td>\n    </tr>\n  </tbody>\n</table>\n<p>11 rows × 26 columns</p>\n</div>"
     },
     "metadata": {}
    }
   ]
  },
  {
   "cell_type": "markdown",
   "source": "Replace ? and empty values with nan",
   "metadata": {
    "cell_id": "a8e80e4d-045f-49c1-9ae7-e85cf067c596",
    "tags": [],
    "is_collapsed": false,
    "deepnote_cell_type": "text-cell-p"
   }
  },
  {
   "cell_type": "code",
   "metadata": {
    "cell_id": "45dcac23-fad6-4c1d-b068-6027a27ae745",
    "tags": [],
    "deepnote_to_be_reexecuted": false,
    "source_hash": "5eb7d7b8",
    "execution_start": 1645738117710,
    "execution_millis": 89,
    "deepnote_cell_type": "code"
   },
   "source": "df_auto.replace([' ','', '?'], np.nan, inplace = True)\ndf_auto",
   "execution_count": 10,
   "outputs": [
    {
     "output_type": "execute_result",
     "execution_count": 10,
     "data": {
      "application/vnd.deepnote.dataframe.v3+json": {
       "column_count": 26,
       "row_count": 205,
       "columns": [
        {
         "name": "symboling",
         "dtype": "int64",
         "stats": {
          "unique_count": 6,
          "nan_count": 0,
          "min": "-2",
          "max": "3",
          "histogram": [
           {
            "bin_start": -2,
            "bin_end": -1.5,
            "count": 3
           },
           {
            "bin_start": -1.5,
            "bin_end": -1,
            "count": 0
           },
           {
            "bin_start": -1,
            "bin_end": -0.5,
            "count": 22
           },
           {
            "bin_start": -0.5,
            "bin_end": 0,
            "count": 0
           },
           {
            "bin_start": 0,
            "bin_end": 0.5,
            "count": 67
           },
           {
            "bin_start": 0.5,
            "bin_end": 1,
            "count": 0
           },
           {
            "bin_start": 1,
            "bin_end": 1.5,
            "count": 54
           },
           {
            "bin_start": 1.5,
            "bin_end": 2,
            "count": 0
           },
           {
            "bin_start": 2,
            "bin_end": 2.5,
            "count": 32
           },
           {
            "bin_start": 2.5,
            "bin_end": 3,
            "count": 27
           }
          ]
         }
        },
        {
         "name": "normalized-losses",
         "dtype": "object",
         "stats": {
          "unique_count": 51,
          "nan_count": 41,
          "categories": [
           {
            "name": "161",
            "count": 11
           },
           {
            "name": "50 others",
            "count": 153
           },
           {
            "name": "Missing",
            "count": 41
           }
          ]
         }
        },
        {
         "name": "make",
         "dtype": "object",
         "stats": {
          "unique_count": 22,
          "nan_count": 0,
          "categories": [
           {
            "name": "toyota",
            "count": 32
           },
           {
            "name": "nissan",
            "count": 18
           },
           {
            "name": "20 others",
            "count": 155
           }
          ]
         }
        },
        {
         "name": "fuel-type",
         "dtype": "object",
         "stats": {
          "unique_count": 2,
          "nan_count": 0,
          "categories": [
           {
            "name": "gas",
            "count": 185
           },
           {
            "name": "diesel",
            "count": 20
           }
          ]
         }
        },
        {
         "name": "aspiration",
         "dtype": "object",
         "stats": {
          "unique_count": 2,
          "nan_count": 0,
          "categories": [
           {
            "name": "std",
            "count": 168
           },
           {
            "name": "turbo",
            "count": 37
           }
          ]
         }
        },
        {
         "name": "num-of-doors",
         "dtype": "object",
         "stats": {
          "unique_count": 2,
          "nan_count": 2,
          "categories": [
           {
            "name": "four",
            "count": 114
           },
           {
            "name": "two",
            "count": 89
           },
           {
            "name": "Missing",
            "count": 2
           }
          ]
         }
        },
        {
         "name": "body-style",
         "dtype": "object",
         "stats": {
          "unique_count": 5,
          "nan_count": 0,
          "categories": [
           {
            "name": "sedan",
            "count": 96
           },
           {
            "name": "hatchback",
            "count": 70
           },
           {
            "name": "3 others",
            "count": 39
           }
          ]
         }
        },
        {
         "name": "drive-wheels",
         "dtype": "object",
         "stats": {
          "unique_count": 3,
          "nan_count": 0,
          "categories": [
           {
            "name": "fwd",
            "count": 120
           },
           {
            "name": "rwd",
            "count": 76
           },
           {
            "name": "4wd",
            "count": 9
           }
          ]
         }
        },
        {
         "name": "engine-location",
         "dtype": "object",
         "stats": {
          "unique_count": 2,
          "nan_count": 0,
          "categories": [
           {
            "name": "front",
            "count": 202
           },
           {
            "name": "rear",
            "count": 3
           }
          ]
         }
        },
        {
         "name": "wheel-base",
         "dtype": "float64",
         "stats": {
          "unique_count": 53,
          "nan_count": 0,
          "min": "86.6",
          "max": "120.9",
          "histogram": [
           {
            "bin_start": 86.6,
            "bin_end": 90.03,
            "count": 8
           },
           {
            "bin_start": 90.03,
            "bin_end": 93.46,
            "count": 9
           },
           {
            "bin_start": 93.46,
            "bin_end": 96.89,
            "count": 83
           },
           {
            "bin_start": 96.89,
            "bin_end": 100.32,
            "count": 42
           },
           {
            "bin_start": 100.32,
            "bin_end": 103.75,
            "count": 24
           },
           {
            "bin_start": 103.75,
            "bin_end": 107.18,
            "count": 14
           },
           {
            "bin_start": 107.18,
            "bin_end": 110.61,
            "count": 15
           },
           {
            "bin_start": 110.61,
            "bin_end": 114.04,
            "count": 3
           },
           {
            "bin_start": 114.04,
            "bin_end": 117.47,
            "count": 6
           },
           {
            "bin_start": 117.47,
            "bin_end": 120.9,
            "count": 1
           }
          ]
         }
        },
        {
         "name": "length",
         "dtype": "float64",
         "stats": {
          "unique_count": 75,
          "nan_count": 0,
          "min": "141.1",
          "max": "208.1",
          "histogram": [
           {
            "bin_start": 141.1,
            "bin_end": 147.79999999999998,
            "count": 3
           },
           {
            "bin_start": 147.79999999999998,
            "bin_end": 154.5,
            "count": 3
           },
           {
            "bin_start": 154.5,
            "bin_end": 161.2,
            "count": 29
           },
           {
            "bin_start": 161.2,
            "bin_end": 167.9,
            "count": 23
           },
           {
            "bin_start": 167.9,
            "bin_end": 174.6,
            "count": 54
           },
           {
            "bin_start": 174.6,
            "bin_end": 181.3,
            "count": 39
           },
           {
            "bin_start": 181.3,
            "bin_end": 188,
            "count": 23
           },
           {
            "bin_start": 188,
            "bin_end": 194.7,
            "count": 20
           },
           {
            "bin_start": 194.7,
            "bin_end": 201.4,
            "count": 8
           },
           {
            "bin_start": 201.4,
            "bin_end": 208.1,
            "count": 3
           }
          ]
         }
        },
        {
         "name": "width",
         "dtype": "float64",
         "stats": {
          "unique_count": 44,
          "nan_count": 0,
          "min": "60.3",
          "max": "72.3",
          "histogram": [
           {
            "bin_start": 60.3,
            "bin_end": 61.5,
            "count": 1
           },
           {
            "bin_start": 61.5,
            "bin_end": 62.699999999999996,
            "count": 2
           },
           {
            "bin_start": 62.699999999999996,
            "bin_end": 63.9,
            "count": 36
           },
           {
            "bin_start": 63.9,
            "bin_end": 65.1,
            "count": 39
           },
           {
            "bin_start": 65.1,
            "bin_end": 66.3,
            "count": 44
           },
           {
            "bin_start": 66.3,
            "bin_end": 67.5,
            "count": 42
           },
           {
            "bin_start": 67.5,
            "bin_end": 68.7,
            "count": 20
           },
           {
            "bin_start": 68.7,
            "bin_end": 69.89999999999999,
            "count": 7
           },
           {
            "bin_start": 69.89999999999999,
            "bin_end": 71.1,
            "count": 6
           },
           {
            "bin_start": 71.1,
            "bin_end": 72.3,
            "count": 8
           }
          ]
         }
        },
        {
         "name": "height",
         "dtype": "float64",
         "stats": {
          "unique_count": 49,
          "nan_count": 0,
          "min": "47.8",
          "max": "59.8",
          "histogram": [
           {
            "bin_start": 47.8,
            "bin_end": 49,
            "count": 3
           },
           {
            "bin_start": 49,
            "bin_end": 50.199999999999996,
            "count": 9
           },
           {
            "bin_start": 50.199999999999996,
            "bin_end": 51.4,
            "count": 28
           },
           {
            "bin_start": 51.4,
            "bin_end": 52.599999999999994,
            "count": 25
           },
           {
            "bin_start": 52.599999999999994,
            "bin_end": 53.8,
            "count": 33
           },
           {
            "bin_start": 53.8,
            "bin_end": 55,
            "count": 41
           },
           {
            "bin_start": 55,
            "bin_end": 56.199999999999996,
            "count": 38
           },
           {
            "bin_start": 56.199999999999996,
            "bin_end": 57.4,
            "count": 15
           },
           {
            "bin_start": 57.4,
            "bin_end": 58.599999999999994,
            "count": 4
           },
           {
            "bin_start": 58.599999999999994,
            "bin_end": 59.8,
            "count": 9
           }
          ]
         }
        },
        {
         "name": "curb-weight",
         "dtype": "int64",
         "stats": {
          "unique_count": 171,
          "nan_count": 0,
          "min": "1488",
          "max": "4066",
          "histogram": [
           {
            "bin_start": 1488,
            "bin_end": 1745.8,
            "count": 2
           },
           {
            "bin_start": 1745.8,
            "bin_end": 2003.6,
            "count": 29
           },
           {
            "bin_start": 2003.6,
            "bin_end": 2261.4,
            "count": 33
           },
           {
            "bin_start": 2261.4,
            "bin_end": 2519.2,
            "count": 50
           },
           {
            "bin_start": 2519.2,
            "bin_end": 2777,
            "count": 25
           },
           {
            "bin_start": 2777,
            "bin_end": 3034.8,
            "count": 23
           },
           {
            "bin_start": 3034.8,
            "bin_end": 3292.6000000000004,
            "count": 26
           },
           {
            "bin_start": 3292.6000000000004,
            "bin_end": 3550.4,
            "count": 8
           },
           {
            "bin_start": 3550.4,
            "bin_end": 3808.2000000000003,
            "count": 5
           },
           {
            "bin_start": 3808.2000000000003,
            "bin_end": 4066,
            "count": 4
           }
          ]
         }
        },
        {
         "name": "engine-type",
         "dtype": "object",
         "stats": {
          "unique_count": 7,
          "nan_count": 0,
          "categories": [
           {
            "name": "ohc",
            "count": 148
           },
           {
            "name": "ohcf",
            "count": 15
           },
           {
            "name": "5 others",
            "count": 42
           }
          ]
         }
        },
        {
         "name": "num-of-cylinders",
         "dtype": "object",
         "stats": {
          "unique_count": 7,
          "nan_count": 0,
          "categories": [
           {
            "name": "four",
            "count": 159
           },
           {
            "name": "six",
            "count": 24
           },
           {
            "name": "5 others",
            "count": 22
           }
          ]
         }
        },
        {
         "name": "engine-size",
         "dtype": "int64",
         "stats": {
          "unique_count": 44,
          "nan_count": 0,
          "min": "61",
          "max": "326",
          "histogram": [
           {
            "bin_start": 61,
            "bin_end": 87.5,
            "count": 6
           },
           {
            "bin_start": 87.5,
            "bin_end": 114,
            "count": 95
           },
           {
            "bin_start": 114,
            "bin_end": 140.5,
            "count": 46
           },
           {
            "bin_start": 140.5,
            "bin_end": 167,
            "count": 30
           },
           {
            "bin_start": 167,
            "bin_end": 193.5,
            "count": 14
           },
           {
            "bin_start": 193.5,
            "bin_end": 220,
            "count": 7
           },
           {
            "bin_start": 220,
            "bin_end": 246.5,
            "count": 2
           },
           {
            "bin_start": 246.5,
            "bin_end": 273,
            "count": 2
           },
           {
            "bin_start": 273,
            "bin_end": 299.5,
            "count": 0
           },
           {
            "bin_start": 299.5,
            "bin_end": 326,
            "count": 3
           }
          ]
         }
        },
        {
         "name": "fuel-system",
         "dtype": "object",
         "stats": {
          "unique_count": 8,
          "nan_count": 0,
          "categories": [
           {
            "name": "mpfi",
            "count": 94
           },
           {
            "name": "2bbl",
            "count": 66
           },
           {
            "name": "6 others",
            "count": 45
           }
          ]
         }
        },
        {
         "name": "bore",
         "dtype": "object",
         "stats": {
          "unique_count": 38,
          "nan_count": 4,
          "categories": [
           {
            "name": "3.62",
            "count": 23
           },
           {
            "name": "37 others",
            "count": 178
           },
           {
            "name": "Missing",
            "count": 4
           }
          ]
         }
        },
        {
         "name": "stroke",
         "dtype": "object",
         "stats": {
          "unique_count": 36,
          "nan_count": 4,
          "categories": [
           {
            "name": "3.40",
            "count": 20
           },
           {
            "name": "35 others",
            "count": 181
           },
           {
            "name": "Missing",
            "count": 4
           }
          ]
         }
        },
        {
         "name": "compression-ratio",
         "dtype": "float64",
         "stats": {
          "unique_count": 32,
          "nan_count": 0,
          "min": "7.0",
          "max": "23.0",
          "histogram": [
           {
            "bin_start": 7,
            "bin_end": 8.6,
            "count": 51
           },
           {
            "bin_start": 8.6,
            "bin_end": 10.2,
            "count": 133
           },
           {
            "bin_start": 10.2,
            "bin_end": 11.8,
            "count": 1
           },
           {
            "bin_start": 11.8,
            "bin_end": 13.4,
            "count": 0
           },
           {
            "bin_start": 13.4,
            "bin_end": 15,
            "count": 0
           },
           {
            "bin_start": 15,
            "bin_end": 16.6,
            "count": 0
           },
           {
            "bin_start": 16.6,
            "bin_end": 18.200000000000003,
            "count": 0
           },
           {
            "bin_start": 18.200000000000003,
            "bin_end": 19.8,
            "count": 0
           },
           {
            "bin_start": 19.8,
            "bin_end": 21.4,
            "count": 5
           },
           {
            "bin_start": 21.4,
            "bin_end": 23,
            "count": 15
           }
          ]
         }
        },
        {
         "name": "horsepower",
         "dtype": "object",
         "stats": {
          "unique_count": 59,
          "nan_count": 2,
          "categories": [
           {
            "name": "68",
            "count": 19
           },
           {
            "name": "58 others",
            "count": 184
           },
           {
            "name": "Missing",
            "count": 2
           }
          ]
         }
        },
        {
         "name": "peak-rpm",
         "dtype": "object",
         "stats": {
          "unique_count": 23,
          "nan_count": 2,
          "categories": [
           {
            "name": "5500",
            "count": 37
           },
           {
            "name": "22 others",
            "count": 166
           },
           {
            "name": "Missing",
            "count": 2
           }
          ]
         }
        },
        {
         "name": "city-mpg",
         "dtype": "int64",
         "stats": {
          "unique_count": 29,
          "nan_count": 0,
          "min": "13",
          "max": "49",
          "histogram": [
           {
            "bin_start": 13,
            "bin_end": 16.6,
            "count": 12
           },
           {
            "bin_start": 16.6,
            "bin_end": 20.2,
            "count": 46
           },
           {
            "bin_start": 20.2,
            "bin_end": 23.8,
            "count": 24
           },
           {
            "bin_start": 23.8,
            "bin_end": 27.4,
            "count": 56
           },
           {
            "bin_start": 27.4,
            "bin_end": 31,
            "count": 18
           },
           {
            "bin_start": 31,
            "bin_end": 34.6,
            "count": 31
           },
           {
            "bin_start": 34.6,
            "bin_end": 38.2,
            "count": 15
           },
           {
            "bin_start": 38.2,
            "bin_end": 41.8,
            "count": 0
           },
           {
            "bin_start": 41.8,
            "bin_end": 45.4,
            "count": 1
           },
           {
            "bin_start": 45.4,
            "bin_end": 49,
            "count": 2
           }
          ]
         }
        },
        {
         "name": "highway-mpg",
         "dtype": "int64",
         "stats": {
          "unique_count": 30,
          "nan_count": 0,
          "min": "16",
          "max": "54",
          "histogram": [
           {
            "bin_start": 16,
            "bin_end": 19.8,
            "count": 7
           },
           {
            "bin_start": 19.8,
            "bin_end": 23.6,
            "count": 17
           },
           {
            "bin_start": 23.6,
            "bin_end": 27.4,
            "count": 44
           },
           {
            "bin_start": 27.4,
            "bin_end": 31.2,
            "count": 47
           },
           {
            "bin_start": 31.2,
            "bin_end": 35,
            "count": 39
           },
           {
            "bin_start": 35,
            "bin_end": 38.8,
            "count": 32
           },
           {
            "bin_start": 38.8,
            "bin_end": 42.599999999999994,
            "count": 8
           },
           {
            "bin_start": 42.599999999999994,
            "bin_end": 46.4,
            "count": 6
           },
           {
            "bin_start": 46.4,
            "bin_end": 50.199999999999996,
            "count": 3
           },
           {
            "bin_start": 50.199999999999996,
            "bin_end": 54,
            "count": 2
           }
          ]
         }
        },
        {
         "name": "price",
         "dtype": "object",
         "stats": {
          "unique_count": 186,
          "nan_count": 4,
          "categories": [
           {
            "name": "16500",
            "count": 2
           },
           {
            "name": "185 others",
            "count": 199
           },
           {
            "name": "Missing",
            "count": 4
           }
          ]
         }
        },
        {
         "name": "_deepnote_index_column",
         "dtype": "int64"
        }
       ],
       "rows": [
        {
         "symboling": 3,
         "normalized-losses": "nan",
         "make": "alfa-romero",
         "fuel-type": "gas",
         "aspiration": "std",
         "num-of-doors": "two",
         "body-style": "convertible",
         "drive-wheels": "rwd",
         "engine-location": "front",
         "wheel-base": 88.6,
         "length": 168.8,
         "width": 64.1,
         "height": 48.8,
         "curb-weight": 2548,
         "engine-type": "dohc",
         "num-of-cylinders": "four",
         "engine-size": 130,
         "fuel-system": "mpfi",
         "bore": "3.47",
         "stroke": "2.68",
         "compression-ratio": 9,
         "horsepower": "111",
         "peak-rpm": "5000",
         "city-mpg": 21,
         "highway-mpg": 27,
         "price": "13495",
         "_deepnote_index_column": 0
        },
        {
         "symboling": 3,
         "normalized-losses": "nan",
         "make": "alfa-romero",
         "fuel-type": "gas",
         "aspiration": "std",
         "num-of-doors": "two",
         "body-style": "convertible",
         "drive-wheels": "rwd",
         "engine-location": "front",
         "wheel-base": 88.6,
         "length": 168.8,
         "width": 64.1,
         "height": 48.8,
         "curb-weight": 2548,
         "engine-type": "dohc",
         "num-of-cylinders": "four",
         "engine-size": 130,
         "fuel-system": "mpfi",
         "bore": "3.47",
         "stroke": "2.68",
         "compression-ratio": 9,
         "horsepower": "111",
         "peak-rpm": "5000",
         "city-mpg": 21,
         "highway-mpg": 27,
         "price": "16500",
         "_deepnote_index_column": 1
        },
        {
         "symboling": 1,
         "normalized-losses": "nan",
         "make": "alfa-romero",
         "fuel-type": "gas",
         "aspiration": "std",
         "num-of-doors": "two",
         "body-style": "hatchback",
         "drive-wheels": "rwd",
         "engine-location": "front",
         "wheel-base": 94.5,
         "length": 171.2,
         "width": 65.5,
         "height": 52.4,
         "curb-weight": 2823,
         "engine-type": "ohcv",
         "num-of-cylinders": "six",
         "engine-size": 152,
         "fuel-system": "mpfi",
         "bore": "2.68",
         "stroke": "3.47",
         "compression-ratio": 9,
         "horsepower": "154",
         "peak-rpm": "5000",
         "city-mpg": 19,
         "highway-mpg": 26,
         "price": "16500",
         "_deepnote_index_column": 2
        },
        {
         "symboling": 2,
         "normalized-losses": "164",
         "make": "audi",
         "fuel-type": "gas",
         "aspiration": "std",
         "num-of-doors": "four",
         "body-style": "sedan",
         "drive-wheels": "fwd",
         "engine-location": "front",
         "wheel-base": 99.8,
         "length": 176.6,
         "width": 66.2,
         "height": 54.3,
         "curb-weight": 2337,
         "engine-type": "ohc",
         "num-of-cylinders": "four",
         "engine-size": 109,
         "fuel-system": "mpfi",
         "bore": "3.19",
         "stroke": "3.40",
         "compression-ratio": 10,
         "horsepower": "102",
         "peak-rpm": "5500",
         "city-mpg": 24,
         "highway-mpg": 30,
         "price": "13950",
         "_deepnote_index_column": 3
        },
        {
         "symboling": 2,
         "normalized-losses": "164",
         "make": "audi",
         "fuel-type": "gas",
         "aspiration": "std",
         "num-of-doors": "four",
         "body-style": "sedan",
         "drive-wheels": "4wd",
         "engine-location": "front",
         "wheel-base": 99.4,
         "length": 176.6,
         "width": 66.4,
         "height": 54.3,
         "curb-weight": 2824,
         "engine-type": "ohc",
         "num-of-cylinders": "five",
         "engine-size": 136,
         "fuel-system": "mpfi",
         "bore": "3.19",
         "stroke": "3.40",
         "compression-ratio": 8,
         "horsepower": "115",
         "peak-rpm": "5500",
         "city-mpg": 18,
         "highway-mpg": 22,
         "price": "17450",
         "_deepnote_index_column": 4
        },
        {
         "symboling": 2,
         "normalized-losses": "nan",
         "make": "audi",
         "fuel-type": "gas",
         "aspiration": "std",
         "num-of-doors": "two",
         "body-style": "sedan",
         "drive-wheels": "fwd",
         "engine-location": "front",
         "wheel-base": 99.8,
         "length": 177.3,
         "width": 66.3,
         "height": 53.1,
         "curb-weight": 2507,
         "engine-type": "ohc",
         "num-of-cylinders": "five",
         "engine-size": 136,
         "fuel-system": "mpfi",
         "bore": "3.19",
         "stroke": "3.40",
         "compression-ratio": 8.5,
         "horsepower": "110",
         "peak-rpm": "5500",
         "city-mpg": 19,
         "highway-mpg": 25,
         "price": "15250",
         "_deepnote_index_column": 5
        },
        {
         "symboling": 1,
         "normalized-losses": "158",
         "make": "audi",
         "fuel-type": "gas",
         "aspiration": "std",
         "num-of-doors": "four",
         "body-style": "sedan",
         "drive-wheels": "fwd",
         "engine-location": "front",
         "wheel-base": 105.8,
         "length": 192.7,
         "width": 71.4,
         "height": 55.7,
         "curb-weight": 2844,
         "engine-type": "ohc",
         "num-of-cylinders": "five",
         "engine-size": 136,
         "fuel-system": "mpfi",
         "bore": "3.19",
         "stroke": "3.40",
         "compression-ratio": 8.5,
         "horsepower": "110",
         "peak-rpm": "5500",
         "city-mpg": 19,
         "highway-mpg": 25,
         "price": "17710",
         "_deepnote_index_column": 6
        },
        {
         "symboling": 1,
         "normalized-losses": "nan",
         "make": "audi",
         "fuel-type": "gas",
         "aspiration": "std",
         "num-of-doors": "four",
         "body-style": "wagon",
         "drive-wheels": "fwd",
         "engine-location": "front",
         "wheel-base": 105.8,
         "length": 192.7,
         "width": 71.4,
         "height": 55.7,
         "curb-weight": 2954,
         "engine-type": "ohc",
         "num-of-cylinders": "five",
         "engine-size": 136,
         "fuel-system": "mpfi",
         "bore": "3.19",
         "stroke": "3.40",
         "compression-ratio": 8.5,
         "horsepower": "110",
         "peak-rpm": "5500",
         "city-mpg": 19,
         "highway-mpg": 25,
         "price": "18920",
         "_deepnote_index_column": 7
        },
        {
         "symboling": 1,
         "normalized-losses": "158",
         "make": "audi",
         "fuel-type": "gas",
         "aspiration": "turbo",
         "num-of-doors": "four",
         "body-style": "sedan",
         "drive-wheels": "fwd",
         "engine-location": "front",
         "wheel-base": 105.8,
         "length": 192.7,
         "width": 71.4,
         "height": 55.9,
         "curb-weight": 3086,
         "engine-type": "ohc",
         "num-of-cylinders": "five",
         "engine-size": 131,
         "fuel-system": "mpfi",
         "bore": "3.13",
         "stroke": "3.40",
         "compression-ratio": 8.3,
         "horsepower": "140",
         "peak-rpm": "5500",
         "city-mpg": 17,
         "highway-mpg": 20,
         "price": "23875",
         "_deepnote_index_column": 8
        },
        {
         "symboling": 0,
         "normalized-losses": "nan",
         "make": "audi",
         "fuel-type": "gas",
         "aspiration": "turbo",
         "num-of-doors": "two",
         "body-style": "hatchback",
         "drive-wheels": "4wd",
         "engine-location": "front",
         "wheel-base": 99.5,
         "length": 178.2,
         "width": 67.9,
         "height": 52,
         "curb-weight": 3053,
         "engine-type": "ohc",
         "num-of-cylinders": "five",
         "engine-size": 131,
         "fuel-system": "mpfi",
         "bore": "3.13",
         "stroke": "3.40",
         "compression-ratio": 7,
         "horsepower": "160",
         "peak-rpm": "5500",
         "city-mpg": 16,
         "highway-mpg": 22,
         "price": "nan",
         "_deepnote_index_column": 9
        }
       ]
      },
      "text/plain": "     symboling normalized-losses         make fuel-type aspiration  \\\n0            3               NaN  alfa-romero       gas        std   \n1            3               NaN  alfa-romero       gas        std   \n2            1               NaN  alfa-romero       gas        std   \n3            2               164         audi       gas        std   \n4            2               164         audi       gas        std   \n..         ...               ...          ...       ...        ...   \n200         -1                95        volvo       gas        std   \n201         -1                95        volvo       gas      turbo   \n202         -1                95        volvo       gas        std   \n203         -1                95        volvo    diesel      turbo   \n204         -1                95        volvo       gas      turbo   \n\n    num-of-doors   body-style drive-wheels engine-location  wheel-base  ...  \\\n0            two  convertible          rwd           front      88.600  ...   \n1            two  convertible          rwd           front      88.600  ...   \n2            two    hatchback          rwd           front      94.500  ...   \n3           four        sedan          fwd           front      99.800  ...   \n4           four        sedan          4wd           front      99.400  ...   \n..           ...          ...          ...             ...         ...  ...   \n200         four        sedan          rwd           front     109.100  ...   \n201         four        sedan          rwd           front     109.100  ...   \n202         four        sedan          rwd           front     109.100  ...   \n203         four        sedan          rwd           front     109.100  ...   \n204         four        sedan          rwd           front     109.100  ...   \n\n     engine-size  fuel-system  bore  stroke compression-ratio horsepower  \\\n0            130         mpfi  3.47    2.68             9.000        111   \n1            130         mpfi  3.47    2.68             9.000        111   \n2            152         mpfi  2.68    3.47             9.000        154   \n3            109         mpfi  3.19    3.40            10.000        102   \n4            136         mpfi  3.19    3.40             8.000        115   \n..           ...          ...   ...     ...               ...        ...   \n200          141         mpfi  3.78    3.15             9.500        114   \n201          141         mpfi  3.78    3.15             8.700        160   \n202          173         mpfi  3.58    2.87             8.800        134   \n203          145          idi  3.01    3.40            23.000        106   \n204          141         mpfi  3.78    3.15             9.500        114   \n\n     peak-rpm city-mpg highway-mpg  price  \n0        5000       21          27  13495  \n1        5000       21          27  16500  \n2        5000       19          26  16500  \n3        5500       24          30  13950  \n4        5500       18          22  17450  \n..        ...      ...         ...    ...  \n200      5400       23          28  16845  \n201      5300       19          25  19045  \n202      5500       18          23  21485  \n203      4800       26          27  22470  \n204      5400       19          25  22625  \n\n[205 rows x 26 columns]",
      "text/html": "<div>\n<style scoped>\n    .dataframe tbody tr th:only-of-type {\n        vertical-align: middle;\n    }\n\n    .dataframe tbody tr th {\n        vertical-align: top;\n    }\n\n    .dataframe thead th {\n        text-align: right;\n    }\n</style>\n<table border=\"1\" class=\"dataframe\">\n  <thead>\n    <tr style=\"text-align: right;\">\n      <th></th>\n      <th>symboling</th>\n      <th>normalized-losses</th>\n      <th>make</th>\n      <th>fuel-type</th>\n      <th>aspiration</th>\n      <th>num-of-doors</th>\n      <th>body-style</th>\n      <th>drive-wheels</th>\n      <th>engine-location</th>\n      <th>wheel-base</th>\n      <th>...</th>\n      <th>engine-size</th>\n      <th>fuel-system</th>\n      <th>bore</th>\n      <th>stroke</th>\n      <th>compression-ratio</th>\n      <th>horsepower</th>\n      <th>peak-rpm</th>\n      <th>city-mpg</th>\n      <th>highway-mpg</th>\n      <th>price</th>\n    </tr>\n  </thead>\n  <tbody>\n    <tr>\n      <th>0</th>\n      <td>3</td>\n      <td>NaN</td>\n      <td>alfa-romero</td>\n      <td>gas</td>\n      <td>std</td>\n      <td>two</td>\n      <td>convertible</td>\n      <td>rwd</td>\n      <td>front</td>\n      <td>88.600</td>\n      <td>...</td>\n      <td>130</td>\n      <td>mpfi</td>\n      <td>3.47</td>\n      <td>2.68</td>\n      <td>9.000</td>\n      <td>111</td>\n      <td>5000</td>\n      <td>21</td>\n      <td>27</td>\n      <td>13495</td>\n    </tr>\n    <tr>\n      <th>1</th>\n      <td>3</td>\n      <td>NaN</td>\n      <td>alfa-romero</td>\n      <td>gas</td>\n      <td>std</td>\n      <td>two</td>\n      <td>convertible</td>\n      <td>rwd</td>\n      <td>front</td>\n      <td>88.600</td>\n      <td>...</td>\n      <td>130</td>\n      <td>mpfi</td>\n      <td>3.47</td>\n      <td>2.68</td>\n      <td>9.000</td>\n      <td>111</td>\n      <td>5000</td>\n      <td>21</td>\n      <td>27</td>\n      <td>16500</td>\n    </tr>\n    <tr>\n      <th>2</th>\n      <td>1</td>\n      <td>NaN</td>\n      <td>alfa-romero</td>\n      <td>gas</td>\n      <td>std</td>\n      <td>two</td>\n      <td>hatchback</td>\n      <td>rwd</td>\n      <td>front</td>\n      <td>94.500</td>\n      <td>...</td>\n      <td>152</td>\n      <td>mpfi</td>\n      <td>2.68</td>\n      <td>3.47</td>\n      <td>9.000</td>\n      <td>154</td>\n      <td>5000</td>\n      <td>19</td>\n      <td>26</td>\n      <td>16500</td>\n    </tr>\n    <tr>\n      <th>3</th>\n      <td>2</td>\n      <td>164</td>\n      <td>audi</td>\n      <td>gas</td>\n      <td>std</td>\n      <td>four</td>\n      <td>sedan</td>\n      <td>fwd</td>\n      <td>front</td>\n      <td>99.800</td>\n      <td>...</td>\n      <td>109</td>\n      <td>mpfi</td>\n      <td>3.19</td>\n      <td>3.40</td>\n      <td>10.000</td>\n      <td>102</td>\n      <td>5500</td>\n      <td>24</td>\n      <td>30</td>\n      <td>13950</td>\n    </tr>\n    <tr>\n      <th>4</th>\n      <td>2</td>\n      <td>164</td>\n      <td>audi</td>\n      <td>gas</td>\n      <td>std</td>\n      <td>four</td>\n      <td>sedan</td>\n      <td>4wd</td>\n      <td>front</td>\n      <td>99.400</td>\n      <td>...</td>\n      <td>136</td>\n      <td>mpfi</td>\n      <td>3.19</td>\n      <td>3.40</td>\n      <td>8.000</td>\n      <td>115</td>\n      <td>5500</td>\n      <td>18</td>\n      <td>22</td>\n      <td>17450</td>\n    </tr>\n    <tr>\n      <th>...</th>\n      <td>...</td>\n      <td>...</td>\n      <td>...</td>\n      <td>...</td>\n      <td>...</td>\n      <td>...</td>\n      <td>...</td>\n      <td>...</td>\n      <td>...</td>\n      <td>...</td>\n      <td>...</td>\n      <td>...</td>\n      <td>...</td>\n      <td>...</td>\n      <td>...</td>\n      <td>...</td>\n      <td>...</td>\n      <td>...</td>\n      <td>...</td>\n      <td>...</td>\n      <td>...</td>\n    </tr>\n    <tr>\n      <th>200</th>\n      <td>-1</td>\n      <td>95</td>\n      <td>volvo</td>\n      <td>gas</td>\n      <td>std</td>\n      <td>four</td>\n      <td>sedan</td>\n      <td>rwd</td>\n      <td>front</td>\n      <td>109.100</td>\n      <td>...</td>\n      <td>141</td>\n      <td>mpfi</td>\n      <td>3.78</td>\n      <td>3.15</td>\n      <td>9.500</td>\n      <td>114</td>\n      <td>5400</td>\n      <td>23</td>\n      <td>28</td>\n      <td>16845</td>\n    </tr>\n    <tr>\n      <th>201</th>\n      <td>-1</td>\n      <td>95</td>\n      <td>volvo</td>\n      <td>gas</td>\n      <td>turbo</td>\n      <td>four</td>\n      <td>sedan</td>\n      <td>rwd</td>\n      <td>front</td>\n      <td>109.100</td>\n      <td>...</td>\n      <td>141</td>\n      <td>mpfi</td>\n      <td>3.78</td>\n      <td>3.15</td>\n      <td>8.700</td>\n      <td>160</td>\n      <td>5300</td>\n      <td>19</td>\n      <td>25</td>\n      <td>19045</td>\n    </tr>\n    <tr>\n      <th>202</th>\n      <td>-1</td>\n      <td>95</td>\n      <td>volvo</td>\n      <td>gas</td>\n      <td>std</td>\n      <td>four</td>\n      <td>sedan</td>\n      <td>rwd</td>\n      <td>front</td>\n      <td>109.100</td>\n      <td>...</td>\n      <td>173</td>\n      <td>mpfi</td>\n      <td>3.58</td>\n      <td>2.87</td>\n      <td>8.800</td>\n      <td>134</td>\n      <td>5500</td>\n      <td>18</td>\n      <td>23</td>\n      <td>21485</td>\n    </tr>\n    <tr>\n      <th>203</th>\n      <td>-1</td>\n      <td>95</td>\n      <td>volvo</td>\n      <td>diesel</td>\n      <td>turbo</td>\n      <td>four</td>\n      <td>sedan</td>\n      <td>rwd</td>\n      <td>front</td>\n      <td>109.100</td>\n      <td>...</td>\n      <td>145</td>\n      <td>idi</td>\n      <td>3.01</td>\n      <td>3.40</td>\n      <td>23.000</td>\n      <td>106</td>\n      <td>4800</td>\n      <td>26</td>\n      <td>27</td>\n      <td>22470</td>\n    </tr>\n    <tr>\n      <th>204</th>\n      <td>-1</td>\n      <td>95</td>\n      <td>volvo</td>\n      <td>gas</td>\n      <td>turbo</td>\n      <td>four</td>\n      <td>sedan</td>\n      <td>rwd</td>\n      <td>front</td>\n      <td>109.100</td>\n      <td>...</td>\n      <td>141</td>\n      <td>mpfi</td>\n      <td>3.78</td>\n      <td>3.15</td>\n      <td>9.500</td>\n      <td>114</td>\n      <td>5400</td>\n      <td>19</td>\n      <td>25</td>\n      <td>22625</td>\n    </tr>\n  </tbody>\n</table>\n<p>205 rows × 26 columns</p>\n</div>"
     },
     "metadata": {}
    }
   ]
  },
  {
   "cell_type": "markdown",
   "source": "### Null or nan values",
   "metadata": {
    "cell_id": "c8658cb9-c879-478d-a941-2f88a9c443ae",
    "tags": [],
    "is_collapsed": false,
    "deepnote_cell_type": "text-cell-h3"
   }
  },
  {
   "cell_type": "code",
   "metadata": {
    "cell_id": "c8aae48d-561a-4e38-bfdc-31039cc4ae22",
    "tags": [],
    "deepnote_to_be_reexecuted": false,
    "source_hash": "75e8b26e",
    "execution_start": 1645738117850,
    "execution_millis": 34,
    "deepnote_cell_type": "code"
   },
   "source": "df_auto_null = df_auto.isnull()\ndf_auto_null.head()",
   "execution_count": 11,
   "outputs": [
    {
     "output_type": "execute_result",
     "execution_count": 11,
     "data": {
      "application/vnd.deepnote.dataframe.v3+json": {
       "column_count": 26,
       "row_count": 5,
       "columns": [
        {
         "name": "symboling",
         "dtype": "bool",
         "stats": {
          "unique_count": 1,
          "nan_count": 0,
          "categories": [
           {
            "name": "False",
            "count": 5
           }
          ]
         }
        },
        {
         "name": "normalized-losses",
         "dtype": "bool",
         "stats": {
          "unique_count": 2,
          "nan_count": 0,
          "categories": [
           {
            "name": "True",
            "count": 3
           },
           {
            "name": "False",
            "count": 2
           }
          ]
         }
        },
        {
         "name": "make",
         "dtype": "bool",
         "stats": {
          "unique_count": 1,
          "nan_count": 0,
          "categories": [
           {
            "name": "False",
            "count": 5
           }
          ]
         }
        },
        {
         "name": "fuel-type",
         "dtype": "bool",
         "stats": {
          "unique_count": 1,
          "nan_count": 0,
          "categories": [
           {
            "name": "False",
            "count": 5
           }
          ]
         }
        },
        {
         "name": "aspiration",
         "dtype": "bool",
         "stats": {
          "unique_count": 1,
          "nan_count": 0,
          "categories": [
           {
            "name": "False",
            "count": 5
           }
          ]
         }
        },
        {
         "name": "num-of-doors",
         "dtype": "bool",
         "stats": {
          "unique_count": 1,
          "nan_count": 0,
          "categories": [
           {
            "name": "False",
            "count": 5
           }
          ]
         }
        },
        {
         "name": "body-style",
         "dtype": "bool",
         "stats": {
          "unique_count": 1,
          "nan_count": 0,
          "categories": [
           {
            "name": "False",
            "count": 5
           }
          ]
         }
        },
        {
         "name": "drive-wheels",
         "dtype": "bool",
         "stats": {
          "unique_count": 1,
          "nan_count": 0,
          "categories": [
           {
            "name": "False",
            "count": 5
           }
          ]
         }
        },
        {
         "name": "engine-location",
         "dtype": "bool",
         "stats": {
          "unique_count": 1,
          "nan_count": 0,
          "categories": [
           {
            "name": "False",
            "count": 5
           }
          ]
         }
        },
        {
         "name": "wheel-base",
         "dtype": "bool",
         "stats": {
          "unique_count": 1,
          "nan_count": 0,
          "categories": [
           {
            "name": "False",
            "count": 5
           }
          ]
         }
        },
        {
         "name": "length",
         "dtype": "bool",
         "stats": {
          "unique_count": 1,
          "nan_count": 0,
          "categories": [
           {
            "name": "False",
            "count": 5
           }
          ]
         }
        },
        {
         "name": "width",
         "dtype": "bool",
         "stats": {
          "unique_count": 1,
          "nan_count": 0,
          "categories": [
           {
            "name": "False",
            "count": 5
           }
          ]
         }
        },
        {
         "name": "height",
         "dtype": "bool",
         "stats": {
          "unique_count": 1,
          "nan_count": 0,
          "categories": [
           {
            "name": "False",
            "count": 5
           }
          ]
         }
        },
        {
         "name": "curb-weight",
         "dtype": "bool",
         "stats": {
          "unique_count": 1,
          "nan_count": 0,
          "categories": [
           {
            "name": "False",
            "count": 5
           }
          ]
         }
        },
        {
         "name": "engine-type",
         "dtype": "bool",
         "stats": {
          "unique_count": 1,
          "nan_count": 0,
          "categories": [
           {
            "name": "False",
            "count": 5
           }
          ]
         }
        },
        {
         "name": "num-of-cylinders",
         "dtype": "bool",
         "stats": {
          "unique_count": 1,
          "nan_count": 0,
          "categories": [
           {
            "name": "False",
            "count": 5
           }
          ]
         }
        },
        {
         "name": "engine-size",
         "dtype": "bool",
         "stats": {
          "unique_count": 1,
          "nan_count": 0,
          "categories": [
           {
            "name": "False",
            "count": 5
           }
          ]
         }
        },
        {
         "name": "fuel-system",
         "dtype": "bool",
         "stats": {
          "unique_count": 1,
          "nan_count": 0,
          "categories": [
           {
            "name": "False",
            "count": 5
           }
          ]
         }
        },
        {
         "name": "bore",
         "dtype": "bool",
         "stats": {
          "unique_count": 1,
          "nan_count": 0,
          "categories": [
           {
            "name": "False",
            "count": 5
           }
          ]
         }
        },
        {
         "name": "stroke",
         "dtype": "bool",
         "stats": {
          "unique_count": 1,
          "nan_count": 0,
          "categories": [
           {
            "name": "False",
            "count": 5
           }
          ]
         }
        },
        {
         "name": "compression-ratio",
         "dtype": "bool",
         "stats": {
          "unique_count": 1,
          "nan_count": 0,
          "categories": [
           {
            "name": "False",
            "count": 5
           }
          ]
         }
        },
        {
         "name": "horsepower",
         "dtype": "bool",
         "stats": {
          "unique_count": 1,
          "nan_count": 0,
          "categories": [
           {
            "name": "False",
            "count": 5
           }
          ]
         }
        },
        {
         "name": "peak-rpm",
         "dtype": "bool",
         "stats": {
          "unique_count": 1,
          "nan_count": 0,
          "categories": [
           {
            "name": "False",
            "count": 5
           }
          ]
         }
        },
        {
         "name": "city-mpg",
         "dtype": "bool",
         "stats": {
          "unique_count": 1,
          "nan_count": 0,
          "categories": [
           {
            "name": "False",
            "count": 5
           }
          ]
         }
        },
        {
         "name": "highway-mpg",
         "dtype": "bool",
         "stats": {
          "unique_count": 1,
          "nan_count": 0,
          "categories": [
           {
            "name": "False",
            "count": 5
           }
          ]
         }
        },
        {
         "name": "price",
         "dtype": "bool",
         "stats": {
          "unique_count": 1,
          "nan_count": 0,
          "categories": [
           {
            "name": "False",
            "count": 5
           }
          ]
         }
        },
        {
         "name": "_deepnote_index_column",
         "dtype": "int64"
        }
       ],
       "rows": [
        {
         "symboling": false,
         "normalized-losses": true,
         "make": false,
         "fuel-type": false,
         "aspiration": false,
         "num-of-doors": false,
         "body-style": false,
         "drive-wheels": false,
         "engine-location": false,
         "wheel-base": false,
         "length": false,
         "width": false,
         "height": false,
         "curb-weight": false,
         "engine-type": false,
         "num-of-cylinders": false,
         "engine-size": false,
         "fuel-system": false,
         "bore": false,
         "stroke": false,
         "compression-ratio": false,
         "horsepower": false,
         "peak-rpm": false,
         "city-mpg": false,
         "highway-mpg": false,
         "price": false,
         "_deepnote_index_column": 0
        },
        {
         "symboling": false,
         "normalized-losses": true,
         "make": false,
         "fuel-type": false,
         "aspiration": false,
         "num-of-doors": false,
         "body-style": false,
         "drive-wheels": false,
         "engine-location": false,
         "wheel-base": false,
         "length": false,
         "width": false,
         "height": false,
         "curb-weight": false,
         "engine-type": false,
         "num-of-cylinders": false,
         "engine-size": false,
         "fuel-system": false,
         "bore": false,
         "stroke": false,
         "compression-ratio": false,
         "horsepower": false,
         "peak-rpm": false,
         "city-mpg": false,
         "highway-mpg": false,
         "price": false,
         "_deepnote_index_column": 1
        },
        {
         "symboling": false,
         "normalized-losses": true,
         "make": false,
         "fuel-type": false,
         "aspiration": false,
         "num-of-doors": false,
         "body-style": false,
         "drive-wheels": false,
         "engine-location": false,
         "wheel-base": false,
         "length": false,
         "width": false,
         "height": false,
         "curb-weight": false,
         "engine-type": false,
         "num-of-cylinders": false,
         "engine-size": false,
         "fuel-system": false,
         "bore": false,
         "stroke": false,
         "compression-ratio": false,
         "horsepower": false,
         "peak-rpm": false,
         "city-mpg": false,
         "highway-mpg": false,
         "price": false,
         "_deepnote_index_column": 2
        },
        {
         "symboling": false,
         "normalized-losses": false,
         "make": false,
         "fuel-type": false,
         "aspiration": false,
         "num-of-doors": false,
         "body-style": false,
         "drive-wheels": false,
         "engine-location": false,
         "wheel-base": false,
         "length": false,
         "width": false,
         "height": false,
         "curb-weight": false,
         "engine-type": false,
         "num-of-cylinders": false,
         "engine-size": false,
         "fuel-system": false,
         "bore": false,
         "stroke": false,
         "compression-ratio": false,
         "horsepower": false,
         "peak-rpm": false,
         "city-mpg": false,
         "highway-mpg": false,
         "price": false,
         "_deepnote_index_column": 3
        },
        {
         "symboling": false,
         "normalized-losses": false,
         "make": false,
         "fuel-type": false,
         "aspiration": false,
         "num-of-doors": false,
         "body-style": false,
         "drive-wheels": false,
         "engine-location": false,
         "wheel-base": false,
         "length": false,
         "width": false,
         "height": false,
         "curb-weight": false,
         "engine-type": false,
         "num-of-cylinders": false,
         "engine-size": false,
         "fuel-system": false,
         "bore": false,
         "stroke": false,
         "compression-ratio": false,
         "horsepower": false,
         "peak-rpm": false,
         "city-mpg": false,
         "highway-mpg": false,
         "price": false,
         "_deepnote_index_column": 4
        }
       ]
      },
      "text/plain": "   symboling  normalized-losses   make  fuel-type  aspiration  num-of-doors  \\\n0      False               True  False      False       False         False   \n1      False               True  False      False       False         False   \n2      False               True  False      False       False         False   \n3      False              False  False      False       False         False   \n4      False              False  False      False       False         False   \n\n   body-style  drive-wheels  engine-location  wheel-base  ...  engine-size  \\\n0       False         False            False       False  ...        False   \n1       False         False            False       False  ...        False   \n2       False         False            False       False  ...        False   \n3       False         False            False       False  ...        False   \n4       False         False            False       False  ...        False   \n\n   fuel-system   bore  stroke  compression-ratio  horsepower  peak-rpm  \\\n0        False  False   False              False       False     False   \n1        False  False   False              False       False     False   \n2        False  False   False              False       False     False   \n3        False  False   False              False       False     False   \n4        False  False   False              False       False     False   \n\n   city-mpg  highway-mpg  price  \n0     False        False  False  \n1     False        False  False  \n2     False        False  False  \n3     False        False  False  \n4     False        False  False  \n\n[5 rows x 26 columns]",
      "text/html": "<div>\n<style scoped>\n    .dataframe tbody tr th:only-of-type {\n        vertical-align: middle;\n    }\n\n    .dataframe tbody tr th {\n        vertical-align: top;\n    }\n\n    .dataframe thead th {\n        text-align: right;\n    }\n</style>\n<table border=\"1\" class=\"dataframe\">\n  <thead>\n    <tr style=\"text-align: right;\">\n      <th></th>\n      <th>symboling</th>\n      <th>normalized-losses</th>\n      <th>make</th>\n      <th>fuel-type</th>\n      <th>aspiration</th>\n      <th>num-of-doors</th>\n      <th>body-style</th>\n      <th>drive-wheels</th>\n      <th>engine-location</th>\n      <th>wheel-base</th>\n      <th>...</th>\n      <th>engine-size</th>\n      <th>fuel-system</th>\n      <th>bore</th>\n      <th>stroke</th>\n      <th>compression-ratio</th>\n      <th>horsepower</th>\n      <th>peak-rpm</th>\n      <th>city-mpg</th>\n      <th>highway-mpg</th>\n      <th>price</th>\n    </tr>\n  </thead>\n  <tbody>\n    <tr>\n      <th>0</th>\n      <td>False</td>\n      <td>True</td>\n      <td>False</td>\n      <td>False</td>\n      <td>False</td>\n      <td>False</td>\n      <td>False</td>\n      <td>False</td>\n      <td>False</td>\n      <td>False</td>\n      <td>...</td>\n      <td>False</td>\n      <td>False</td>\n      <td>False</td>\n      <td>False</td>\n      <td>False</td>\n      <td>False</td>\n      <td>False</td>\n      <td>False</td>\n      <td>False</td>\n      <td>False</td>\n    </tr>\n    <tr>\n      <th>1</th>\n      <td>False</td>\n      <td>True</td>\n      <td>False</td>\n      <td>False</td>\n      <td>False</td>\n      <td>False</td>\n      <td>False</td>\n      <td>False</td>\n      <td>False</td>\n      <td>False</td>\n      <td>...</td>\n      <td>False</td>\n      <td>False</td>\n      <td>False</td>\n      <td>False</td>\n      <td>False</td>\n      <td>False</td>\n      <td>False</td>\n      <td>False</td>\n      <td>False</td>\n      <td>False</td>\n    </tr>\n    <tr>\n      <th>2</th>\n      <td>False</td>\n      <td>True</td>\n      <td>False</td>\n      <td>False</td>\n      <td>False</td>\n      <td>False</td>\n      <td>False</td>\n      <td>False</td>\n      <td>False</td>\n      <td>False</td>\n      <td>...</td>\n      <td>False</td>\n      <td>False</td>\n      <td>False</td>\n      <td>False</td>\n      <td>False</td>\n      <td>False</td>\n      <td>False</td>\n      <td>False</td>\n      <td>False</td>\n      <td>False</td>\n    </tr>\n    <tr>\n      <th>3</th>\n      <td>False</td>\n      <td>False</td>\n      <td>False</td>\n      <td>False</td>\n      <td>False</td>\n      <td>False</td>\n      <td>False</td>\n      <td>False</td>\n      <td>False</td>\n      <td>False</td>\n      <td>...</td>\n      <td>False</td>\n      <td>False</td>\n      <td>False</td>\n      <td>False</td>\n      <td>False</td>\n      <td>False</td>\n      <td>False</td>\n      <td>False</td>\n      <td>False</td>\n      <td>False</td>\n    </tr>\n    <tr>\n      <th>4</th>\n      <td>False</td>\n      <td>False</td>\n      <td>False</td>\n      <td>False</td>\n      <td>False</td>\n      <td>False</td>\n      <td>False</td>\n      <td>False</td>\n      <td>False</td>\n      <td>False</td>\n      <td>...</td>\n      <td>False</td>\n      <td>False</td>\n      <td>False</td>\n      <td>False</td>\n      <td>False</td>\n      <td>False</td>\n      <td>False</td>\n      <td>False</td>\n      <td>False</td>\n      <td>False</td>\n    </tr>\n  </tbody>\n</table>\n<p>5 rows × 26 columns</p>\n</div>"
     },
     "metadata": {}
    }
   ]
  },
  {
   "cell_type": "code",
   "metadata": {
    "cell_id": "2febb5b9-92cc-4c1c-ba93-baf1eb92327d",
    "tags": [],
    "deepnote_to_be_reexecuted": false,
    "source_hash": "e03bcd27",
    "execution_start": 1645738117905,
    "execution_millis": 6,
    "deepnote_table_state": {
     "pageSize": 10,
     "pageIndex": 0,
     "filters": [],
     "sortBy": []
    },
    "deepnote_table_loading": false,
    "deepnote_cell_type": "code"
   },
   "source": "columnas_con_nulos = df_auto_null.T.sum(axis = 1).to_frame(name = 'valores_nulos')\ncolumnas_con_nulos = columnas_con_nulos[columnas_con_nulos['valores_nulos'] != 0]\ncolumnas_con_nulos",
   "execution_count": 12,
   "outputs": [
    {
     "output_type": "execute_result",
     "execution_count": 12,
     "data": {
      "application/vnd.deepnote.dataframe.v3+json": {
       "column_count": 1,
       "row_count": 7,
       "columns": [
        {
         "name": "valores_nulos",
         "dtype": "int64",
         "stats": {
          "unique_count": 3,
          "nan_count": 0,
          "min": "2",
          "max": "41",
          "histogram": [
           {
            "bin_start": 2,
            "bin_end": 5.9,
            "count": 6
           },
           {
            "bin_start": 5.9,
            "bin_end": 9.8,
            "count": 0
           },
           {
            "bin_start": 9.8,
            "bin_end": 13.7,
            "count": 0
           },
           {
            "bin_start": 13.7,
            "bin_end": 17.6,
            "count": 0
           },
           {
            "bin_start": 17.6,
            "bin_end": 21.5,
            "count": 0
           },
           {
            "bin_start": 21.5,
            "bin_end": 25.4,
            "count": 0
           },
           {
            "bin_start": 25.4,
            "bin_end": 29.3,
            "count": 0
           },
           {
            "bin_start": 29.3,
            "bin_end": 33.2,
            "count": 0
           },
           {
            "bin_start": 33.2,
            "bin_end": 37.1,
            "count": 0
           },
           {
            "bin_start": 37.1,
            "bin_end": 41,
            "count": 1
           }
          ]
         }
        },
        {
         "name": "_deepnote_index_column",
         "dtype": "object"
        }
       ],
       "rows": [
        {
         "valores_nulos": 41,
         "_deepnote_index_column": "normalized-losses"
        },
        {
         "valores_nulos": 2,
         "_deepnote_index_column": "num-of-doors"
        },
        {
         "valores_nulos": 4,
         "_deepnote_index_column": "bore"
        },
        {
         "valores_nulos": 4,
         "_deepnote_index_column": "stroke"
        },
        {
         "valores_nulos": 2,
         "_deepnote_index_column": "horsepower"
        },
        {
         "valores_nulos": 2,
         "_deepnote_index_column": "peak-rpm"
        },
        {
         "valores_nulos": 4,
         "_deepnote_index_column": "price"
        }
       ]
      },
      "text/plain": "                   valores_nulos\nnormalized-losses             41\nnum-of-doors                   2\nbore                           4\nstroke                         4\nhorsepower                     2\npeak-rpm                       2\nprice                          4",
      "text/html": "<div>\n<style scoped>\n    .dataframe tbody tr th:only-of-type {\n        vertical-align: middle;\n    }\n\n    .dataframe tbody tr th {\n        vertical-align: top;\n    }\n\n    .dataframe thead th {\n        text-align: right;\n    }\n</style>\n<table border=\"1\" class=\"dataframe\">\n  <thead>\n    <tr style=\"text-align: right;\">\n      <th></th>\n      <th>valores_nulos</th>\n    </tr>\n  </thead>\n  <tbody>\n    <tr>\n      <th>normalized-losses</th>\n      <td>41</td>\n    </tr>\n    <tr>\n      <th>num-of-doors</th>\n      <td>2</td>\n    </tr>\n    <tr>\n      <th>bore</th>\n      <td>4</td>\n    </tr>\n    <tr>\n      <th>stroke</th>\n      <td>4</td>\n    </tr>\n    <tr>\n      <th>horsepower</th>\n      <td>2</td>\n    </tr>\n    <tr>\n      <th>peak-rpm</th>\n      <td>2</td>\n    </tr>\n    <tr>\n      <th>price</th>\n      <td>4</td>\n    </tr>\n  </tbody>\n</table>\n</div>"
     },
     "metadata": {}
    }
   ]
  },
  {
   "cell_type": "code",
   "metadata": {
    "cell_id": "0a73a164-109c-4843-9316-4d122db69f6c",
    "tags": [],
    "deepnote_to_be_reexecuted": false,
    "source_hash": "672c41bd",
    "execution_start": 1645738117958,
    "execution_millis": 3,
    "deepnote_cell_type": "code"
   },
   "source": "df_auto[columnas_con_nulos.index].sample(3)",
   "execution_count": 13,
   "outputs": [
    {
     "output_type": "execute_result",
     "execution_count": 13,
     "data": {
      "application/vnd.deepnote.dataframe.v3+json": {
       "column_count": 7,
       "row_count": 3,
       "columns": [
        {
         "name": "normalized-losses",
         "dtype": "object",
         "stats": {
          "unique_count": 3,
          "nan_count": 0,
          "categories": [
           {
            "name": "91",
            "count": 1
           },
           {
            "name": "153",
            "count": 1
           },
           {
            "name": "125",
            "count": 1
           }
          ]
         }
        },
        {
         "name": "num-of-doors",
         "dtype": "object",
         "stats": {
          "unique_count": 2,
          "nan_count": 0,
          "categories": [
           {
            "name": "four",
            "count": 2
           },
           {
            "name": "two",
            "count": 1
           }
          ]
         }
        },
        {
         "name": "bore",
         "dtype": "object",
         "stats": {
          "unique_count": 2,
          "nan_count": 0,
          "categories": [
           {
            "name": "3.17",
            "count": 2
           },
           {
            "name": "3.19",
            "count": 1
           }
          ]
         }
        },
        {
         "name": "stroke",
         "dtype": "object",
         "stats": {
          "unique_count": 2,
          "nan_count": 0,
          "categories": [
           {
            "name": "3.46",
            "count": 2
           },
           {
            "name": "3.03",
            "count": 1
           }
          ]
         }
        },
        {
         "name": "horsepower",
         "dtype": "object",
         "stats": {
          "unique_count": 2,
          "nan_count": 0,
          "categories": [
           {
            "name": "116",
            "count": 2
           },
           {
            "name": "70",
            "count": 1
           }
          ]
         }
        },
        {
         "name": "peak-rpm",
         "dtype": "object",
         "stats": {
          "unique_count": 2,
          "nan_count": 0,
          "categories": [
           {
            "name": "5500",
            "count": 2
           },
           {
            "name": "4800",
            "count": 1
           }
          ]
         }
        },
        {
         "name": "price",
         "dtype": "object",
         "stats": {
          "unique_count": 3,
          "nan_count": 0,
          "categories": [
           {
            "name": "7738",
            "count": 1
           },
           {
            "name": "9959",
            "count": 1
           },
           {
            "name": "9279",
            "count": 1
           }
          ]
         }
        },
        {
         "name": "_deepnote_index_column",
         "dtype": "int64"
        }
       ],
       "rows": [
        {
         "normalized-losses": "91",
         "num-of-doors": "four",
         "bore": "3.19",
         "stroke": "3.03",
         "horsepower": "70",
         "peak-rpm": "4800",
         "price": "7738",
         "_deepnote_index_column": 160
        },
        {
         "normalized-losses": "153",
         "num-of-doors": "two",
         "bore": "3.17",
         "stroke": "3.46",
         "horsepower": "116",
         "peak-rpm": "5500",
         "price": "9959",
         "_deepnote_index_column": 80
        },
        {
         "normalized-losses": "125",
         "num-of-doors": "four",
         "bore": "3.17",
         "stroke": "3.46",
         "horsepower": "116",
         "peak-rpm": "5500",
         "price": "9279",
         "_deepnote_index_column": 87
        }
       ]
      },
      "text/plain": "    normalized-losses num-of-doors  bore stroke horsepower peak-rpm price\n160                91         four  3.19   3.03         70     4800  7738\n80                153          two  3.17   3.46        116     5500  9959\n87                125         four  3.17   3.46        116     5500  9279",
      "text/html": "<div>\n<style scoped>\n    .dataframe tbody tr th:only-of-type {\n        vertical-align: middle;\n    }\n\n    .dataframe tbody tr th {\n        vertical-align: top;\n    }\n\n    .dataframe thead th {\n        text-align: right;\n    }\n</style>\n<table border=\"1\" class=\"dataframe\">\n  <thead>\n    <tr style=\"text-align: right;\">\n      <th></th>\n      <th>normalized-losses</th>\n      <th>num-of-doors</th>\n      <th>bore</th>\n      <th>stroke</th>\n      <th>horsepower</th>\n      <th>peak-rpm</th>\n      <th>price</th>\n    </tr>\n  </thead>\n  <tbody>\n    <tr>\n      <th>160</th>\n      <td>91</td>\n      <td>four</td>\n      <td>3.19</td>\n      <td>3.03</td>\n      <td>70</td>\n      <td>4800</td>\n      <td>7738</td>\n    </tr>\n    <tr>\n      <th>80</th>\n      <td>153</td>\n      <td>two</td>\n      <td>3.17</td>\n      <td>3.46</td>\n      <td>116</td>\n      <td>5500</td>\n      <td>9959</td>\n    </tr>\n    <tr>\n      <th>87</th>\n      <td>125</td>\n      <td>four</td>\n      <td>3.17</td>\n      <td>3.46</td>\n      <td>116</td>\n      <td>5500</td>\n      <td>9279</td>\n    </tr>\n  </tbody>\n</table>\n</div>"
     },
     "metadata": {}
    }
   ]
  },
  {
   "cell_type": "markdown",
   "source": "Summary null values\n\nMean:\n\n    - normalized-losses\n    - bore\n    - stroke\n    - horsepower\n    - peak-rpm\n\nFrecuency:\n\n    - num-of-doors\n\nDrop Rows:\n\n    - price",
   "metadata": {
    "cell_id": "d7eba59b-8477-4450-bb00-502a58d36898",
    "tags": [],
    "deepnote_cell_type": "markdown"
   }
  },
  {
   "cell_type": "markdown",
   "source": "### Work in null values",
   "metadata": {
    "cell_id": "6e937136-25e8-4202-84db-19e247a062db",
    "tags": [],
    "is_collapsed": false,
    "deepnote_cell_type": "text-cell-h3"
   }
  },
  {
   "cell_type": "markdown",
   "source": "First numeric values",
   "metadata": {
    "cell_id": "234bb42f-8243-41e1-9123-67873590990e",
    "tags": [],
    "is_collapsed": false,
    "deepnote_cell_type": "text-cell-p"
   }
  },
  {
   "cell_type": "code",
   "metadata": {
    "cell_id": "552e87cd-85c7-4da6-939b-773a0ad055f2",
    "tags": [],
    "deepnote_to_be_reexecuted": false,
    "source_hash": "76a4b562",
    "execution_start": 1645738118003,
    "execution_millis": 0,
    "deepnote_cell_type": "code"
   },
   "source": "normalized_losses_mean = df_auto['normalized-losses'].astype(float).mean(axis = 0)\ndf_auto['normalized-losses'].replace(np.nan, normalized_losses_mean, inplace = True)\n\nbore_mean = df_auto['bore'].astype(float).mean(axis = 0)\ndf_auto['bore'].replace(np.nan, bore_mean, inplace = True)\n\nstroke_mean = df_auto['stroke'].astype(float).mean(axis = 0)\ndf_auto['stroke'].replace(np.nan, stroke_mean, inplace = True)\n\nhorsepower_mean = df_auto['horsepower'].astype(float).mean(axis = 0)\ndf_auto['horsepower'].replace(np.nan, horsepower_mean, inplace = True)\n\npeak_rpm_mean = df_auto['peak-rpm'].astype(float).mean(axis = 0)\ndf_auto['peak-rpm'].replace(np.nan, peak_rpm_mean, inplace = True)",
   "execution_count": 14,
   "outputs": []
  },
  {
   "cell_type": "markdown",
   "source": "Categorical Values",
   "metadata": {
    "cell_id": "c7f31b0c-6164-44e8-b17c-72724c708832",
    "tags": [],
    "is_collapsed": false,
    "deepnote_cell_type": "text-cell-p"
   }
  },
  {
   "cell_type": "code",
   "metadata": {
    "cell_id": "537fa4d3-3231-48ac-ab72-4845ee8052bf",
    "tags": [],
    "deepnote_to_be_reexecuted": false,
    "source_hash": "bb955fe5",
    "execution_start": 1645738118004,
    "execution_millis": 0,
    "deepnote_cell_type": "code"
   },
   "source": "# reemplazamos por el que más se repite con el que tiene mayor frecuencia\ndf_auto['num-of-doors'].value_counts()",
   "execution_count": 15,
   "outputs": [
    {
     "output_type": "execute_result",
     "execution_count": 15,
     "data": {
      "text/plain": "four    114\ntwo      89\nName: num-of-doors, dtype: int64"
     },
     "metadata": {}
    }
   ]
  },
  {
   "cell_type": "code",
   "metadata": {
    "cell_id": "22a2130e-1546-499c-9c84-1cac89517fa6",
    "tags": [],
    "deepnote_to_be_reexecuted": false,
    "source_hash": "4f99ec08",
    "execution_start": 1645738118004,
    "execution_millis": 4,
    "deepnote_cell_type": "code"
   },
   "source": "df_auto['num-of-doors'].value_counts().idxmax()",
   "execution_count": 16,
   "outputs": [
    {
     "output_type": "execute_result",
     "execution_count": 16,
     "data": {
      "text/plain": "'four'"
     },
     "metadata": {}
    }
   ]
  },
  {
   "cell_type": "code",
   "metadata": {
    "cell_id": "175ee85c-8833-4fe9-9867-43dedf3c7651",
    "tags": [],
    "deepnote_to_be_reexecuted": false,
    "source_hash": "2288e60e",
    "execution_start": 1645738118007,
    "execution_millis": 3,
    "deepnote_cell_type": "code"
   },
   "source": "df_auto['num-of-doors'].replace(np.nan, 'four', inplace = True)",
   "execution_count": 17,
   "outputs": []
  },
  {
   "cell_type": "markdown",
   "source": "Drop rows from the column 'price' because we'll never use",
   "metadata": {
    "cell_id": "73f94b99-3786-4235-a954-54385fee5a13",
    "tags": [],
    "is_collapsed": false,
    "deepnote_cell_type": "text-cell-p"
   }
  },
  {
   "cell_type": "code",
   "metadata": {
    "cell_id": "596b73ed-2653-43dc-abd5-d9db83f8d79a",
    "tags": [],
    "deepnote_to_be_reexecuted": false,
    "source_hash": "bf9a2bb6",
    "execution_start": 1645738118055,
    "execution_millis": 1,
    "deepnote_cell_type": "code"
   },
   "source": "df_auto.dropna(subset = ['price'], axis = 0, inplace = True)",
   "execution_count": 18,
   "outputs": []
  },
  {
   "cell_type": "code",
   "metadata": {
    "cell_id": "398d6445-5a66-47c5-bbdb-3fd2cff3f480",
    "tags": [],
    "deepnote_to_be_reexecuted": false,
    "source_hash": "9a2f7b9d",
    "execution_start": 1645738118057,
    "execution_millis": 0,
    "deepnote_cell_type": "code"
   },
   "source": "df_auto.reset_index(drop = True, inplace = True)",
   "execution_count": 19,
   "outputs": []
  },
  {
   "cell_type": "markdown",
   "source": "### Verify if there are null values",
   "metadata": {
    "cell_id": "063ec18e-0f63-41a4-8dcb-e42584f67d15",
    "tags": [],
    "is_collapsed": false,
    "deepnote_cell_type": "text-cell-h3"
   }
  },
  {
   "cell_type": "code",
   "metadata": {
    "cell_id": "7fb6082a-5e44-4f4e-90fc-e8cfd1ac2f3b",
    "tags": [],
    "deepnote_to_be_reexecuted": false,
    "source_hash": "828fdfc9",
    "execution_start": 1645738118058,
    "execution_millis": 9,
    "deepnote_table_state": {
     "pageSize": 50,
     "pageIndex": 0,
     "filters": [],
     "sortBy": []
    },
    "deepnote_table_loading": false,
    "deepnote_cell_type": "code"
   },
   "source": "df_null = df_auto.isnull()\ncol_nul = df_null.T.sum(axis = 1).to_frame(name = 'valores_nulos')\ncol_nul = col_nul[col_nul['valores_nulos']!=0]\ncol_nul.shape[0]",
   "execution_count": 20,
   "outputs": [
    {
     "output_type": "execute_result",
     "execution_count": 20,
     "data": {
      "text/plain": "0"
     },
     "metadata": {}
    }
   ]
  },
  {
   "cell_type": "markdown",
   "source": "### Change to correct type of the variables",
   "metadata": {
    "cell_id": "cc6833ac-2d72-4aa3-a700-faaf68f85ab5",
    "tags": [],
    "is_collapsed": false,
    "deepnote_cell_type": "text-cell-h3"
   }
  },
  {
   "cell_type": "code",
   "metadata": {
    "cell_id": "403744e8-8d4f-48c2-bfae-d9018ff911d9",
    "tags": [],
    "deepnote_to_be_reexecuted": false,
    "source_hash": "be22fbc7",
    "execution_start": 1645738118060,
    "execution_millis": 12,
    "deepnote_cell_type": "code"
   },
   "source": "df_auto.dtypes",
   "execution_count": 21,
   "outputs": [
    {
     "output_type": "execute_result",
     "execution_count": 21,
     "data": {
      "text/plain": "symboling              int64\nnormalized-losses     object\nmake                  object\nfuel-type             object\naspiration            object\nnum-of-doors          object\nbody-style            object\ndrive-wheels          object\nengine-location       object\nwheel-base           float64\nlength               float64\nwidth                float64\nheight               float64\ncurb-weight            int64\nengine-type           object\nnum-of-cylinders      object\nengine-size            int64\nfuel-system           object\nbore                  object\nstroke                object\ncompression-ratio    float64\nhorsepower            object\npeak-rpm              object\ncity-mpg               int64\nhighway-mpg            int64\nprice                 object\ndtype: object"
     },
     "metadata": {}
    }
   ]
  },
  {
   "cell_type": "code",
   "metadata": {
    "cell_id": "ff22964c-2c00-4940-9fd5-ce343181400e",
    "tags": [],
    "deepnote_to_be_reexecuted": false,
    "source_hash": "86f7ebb8",
    "execution_start": 1645738118081,
    "execution_millis": 11,
    "deepnote_cell_type": "code"
   },
   "source": "# para verificar unos ejemplos de cada campo\ndf_auto['price'].sample(3)",
   "execution_count": 22,
   "outputs": [
    {
     "output_type": "execute_result",
     "execution_count": 22,
     "data": {
      "text/plain": "125    37028\n75      6669\n136     7603\nName: price, dtype: object"
     },
     "metadata": {}
    }
   ]
  },
  {
   "cell_type": "code",
   "metadata": {
    "cell_id": "1ad74916-a4ec-4df0-a06d-10d765af04c0",
    "tags": [],
    "deepnote_to_be_reexecuted": false,
    "source_hash": "465b4cdf",
    "execution_start": 1645738118137,
    "execution_millis": 3,
    "deepnote_cell_type": "code"
   },
   "source": "# para verificar que las variables categóricas cumplen o no el cambio\ndf_auto['fuel-system'].value_counts()",
   "execution_count": 23,
   "outputs": [
    {
     "output_type": "execute_result",
     "execution_count": 23,
     "data": {
      "text/plain": "mpfi    92\n2bbl    64\nidi     20\n1bbl    11\nspdi     9\n4bbl     3\nspfi     1\nmfi      1\nName: fuel-system, dtype: int64"
     },
     "metadata": {}
    }
   ]
  },
  {
   "cell_type": "markdown",
   "source": "int\n\n    normalized-losses\n    horsepower\n\nfloat\n\n    bore\n    stroke\n    peak-rpm\n    price\n\ncategory\n\n    fuel-type\n    aspiration\n    num-of-doors\n    body-style\n    drive-wheels\n    engine-location\n    engine-type\n    num-of-cylinders\n",
   "metadata": {
    "cell_id": "ac9875bc-225a-45ad-a484-3606e9ca98f8",
    "tags": [],
    "deepnote_cell_type": "markdown"
   }
  },
  {
   "cell_type": "code",
   "metadata": {
    "cell_id": "9db1412e-c8f1-44a4-ac9f-9f8ca584858d",
    "tags": [],
    "deepnote_to_be_reexecuted": false,
    "source_hash": "2f24b0cc",
    "execution_start": 1645738118138,
    "execution_millis": 0,
    "deepnote_cell_type": "code"
   },
   "source": "df_auto[['normalized-losses', 'horsepower']] = df_auto[['normalized-losses', 'horsepower']].astype(int)\ndf_auto[['bore', 'stroke', 'peak-rpm', 'price']] = df_auto[['bore', 'stroke', 'peak-rpm', 'price']].astype(float)\ndf_auto[['fuel-type', 'aspiration', 'num-of-doors', 'body-style', 'drive-wheels', 'engine-location', 'engine-type', 'num-of-cylinders']] = df_auto[['fuel-type', 'aspiration', 'num-of-doors', 'body-style', 'drive-wheels', 'engine-location', 'engine-type', 'num-of-cylinders']].astype('category')",
   "execution_count": 24,
   "outputs": []
  },
  {
   "cell_type": "code",
   "metadata": {
    "cell_id": "9c71fb5f-fc5e-45b6-89cc-0c5ec7ca26eb",
    "tags": [],
    "deepnote_to_be_reexecuted": false,
    "source_hash": "d36b0077",
    "execution_start": 1645738118181,
    "execution_millis": 2,
    "deepnote_cell_type": "code"
   },
   "source": "# verificamos si el cambio se realizó satisfactoriamente\ndf_auto.dtypes",
   "execution_count": 25,
   "outputs": [
    {
     "output_type": "execute_result",
     "execution_count": 25,
     "data": {
      "text/plain": "symboling               int64\nnormalized-losses       int64\nmake                   object\nfuel-type            category\naspiration           category\nnum-of-doors         category\nbody-style           category\ndrive-wheels         category\nengine-location      category\nwheel-base            float64\nlength                float64\nwidth                 float64\nheight                float64\ncurb-weight             int64\nengine-type          category\nnum-of-cylinders     category\nengine-size             int64\nfuel-system            object\nbore                  float64\nstroke                float64\ncompression-ratio     float64\nhorsepower              int64\npeak-rpm              float64\ncity-mpg                int64\nhighway-mpg             int64\nprice                 float64\ndtype: object"
     },
     "metadata": {}
    }
   ]
  },
  {
   "cell_type": "markdown",
   "source": "## Standardize mpg-city and mpg-highway",
   "metadata": {
    "cell_id": "c88a7db8-3ed1-4164-ae43-08f5b990bd27",
    "tags": [],
    "is_collapsed": false,
    "deepnote_cell_type": "text-cell-h2"
   }
  },
  {
   "cell_type": "code",
   "metadata": {
    "cell_id": "bfbb9a14-c57e-4270-8729-5ca1fc432e30",
    "tags": [],
    "deepnote_to_be_reexecuted": false,
    "source_hash": "61103088",
    "execution_start": 1645738118183,
    "execution_millis": 102,
    "deepnote_cell_type": "code"
   },
   "source": "df_auto.sample(3)",
   "execution_count": 26,
   "outputs": [
    {
     "output_type": "execute_result",
     "execution_count": 26,
     "data": {
      "application/vnd.deepnote.dataframe.v3+json": {
       "column_count": 26,
       "row_count": 3,
       "columns": [
        {
         "name": "symboling",
         "dtype": "int64",
         "stats": {
          "unique_count": 3,
          "nan_count": 0,
          "min": "0",
          "max": "3",
          "histogram": [
           {
            "bin_start": 0,
            "bin_end": 0.3,
            "count": 1
           },
           {
            "bin_start": 0.3,
            "bin_end": 0.6,
            "count": 0
           },
           {
            "bin_start": 0.6,
            "bin_end": 0.8999999999999999,
            "count": 0
           },
           {
            "bin_start": 0.8999999999999999,
            "bin_end": 1.2,
            "count": 1
           },
           {
            "bin_start": 1.2,
            "bin_end": 1.5,
            "count": 0
           },
           {
            "bin_start": 1.5,
            "bin_end": 1.7999999999999998,
            "count": 0
           },
           {
            "bin_start": 1.7999999999999998,
            "bin_end": 2.1,
            "count": 0
           },
           {
            "bin_start": 2.1,
            "bin_end": 2.4,
            "count": 0
           },
           {
            "bin_start": 2.4,
            "bin_end": 2.6999999999999997,
            "count": 0
           },
           {
            "bin_start": 2.6999999999999997,
            "bin_end": 3,
            "count": 1
           }
          ]
         }
        },
        {
         "name": "normalized-losses",
         "dtype": "int64",
         "stats": {
          "unique_count": 2,
          "nan_count": 0,
          "min": "98",
          "max": "122",
          "histogram": [
           {
            "bin_start": 98,
            "bin_end": 100.4,
            "count": 1
           },
           {
            "bin_start": 100.4,
            "bin_end": 102.8,
            "count": 0
           },
           {
            "bin_start": 102.8,
            "bin_end": 105.2,
            "count": 0
           },
           {
            "bin_start": 105.2,
            "bin_end": 107.6,
            "count": 0
           },
           {
            "bin_start": 107.6,
            "bin_end": 110,
            "count": 0
           },
           {
            "bin_start": 110,
            "bin_end": 112.4,
            "count": 0
           },
           {
            "bin_start": 112.4,
            "bin_end": 114.8,
            "count": 0
           },
           {
            "bin_start": 114.8,
            "bin_end": 117.2,
            "count": 0
           },
           {
            "bin_start": 117.2,
            "bin_end": 119.6,
            "count": 0
           },
           {
            "bin_start": 119.6,
            "bin_end": 122,
            "count": 2
           }
          ]
         }
        },
        {
         "name": "make",
         "dtype": "object",
         "stats": {
          "unique_count": 3,
          "nan_count": 0,
          "categories": [
           {
            "name": "jaguar",
            "count": 1
           },
           {
            "name": "chevrolet",
            "count": 1
           },
           {
            "name": "porsche",
            "count": 1
           }
          ]
         }
        },
        {
         "name": "fuel-type",
         "dtype": "category",
         "stats": {
          "unique_count": 1,
          "nan_count": 0,
          "categories": [
           {
            "name": "gas",
            "count": 3
           }
          ]
         }
        },
        {
         "name": "aspiration",
         "dtype": "category",
         "stats": {
          "unique_count": 1,
          "nan_count": 0,
          "categories": [
           {
            "name": "std",
            "count": 3
           }
          ]
         }
        },
        {
         "name": "num-of-doors",
         "dtype": "category",
         "stats": {
          "unique_count": 1,
          "nan_count": 0,
          "categories": [
           {
            "name": "two",
            "count": 3
           }
          ]
         }
        },
        {
         "name": "body-style",
         "dtype": "category",
         "stats": {
          "unique_count": 3,
          "nan_count": 0,
          "categories": [
           {
            "name": "sedan",
            "count": 1
           },
           {
            "name": "hatchback",
            "count": 1
           },
           {
            "name": "hardtop",
            "count": 1
           }
          ]
         }
        },
        {
         "name": "drive-wheels",
         "dtype": "category",
         "stats": {
          "unique_count": 2,
          "nan_count": 0,
          "categories": [
           {
            "name": "rwd",
            "count": 2
           },
           {
            "name": "fwd",
            "count": 1
           }
          ]
         }
        },
        {
         "name": "engine-location",
         "dtype": "category",
         "stats": {
          "unique_count": 2,
          "nan_count": 0,
          "categories": [
           {
            "name": "front",
            "count": 2
           },
           {
            "name": "rear",
            "count": 1
           }
          ]
         }
        },
        {
         "name": "wheel-base",
         "dtype": "float64",
         "stats": {
          "unique_count": 3,
          "nan_count": 0,
          "min": "89.5",
          "max": "102.0",
          "histogram": [
           {
            "bin_start": 89.5,
            "bin_end": 90.75,
            "count": 1
           },
           {
            "bin_start": 90.75,
            "bin_end": 92,
            "count": 0
           },
           {
            "bin_start": 92,
            "bin_end": 93.25,
            "count": 0
           },
           {
            "bin_start": 93.25,
            "bin_end": 94.5,
            "count": 0
           },
           {
            "bin_start": 94.5,
            "bin_end": 95.75,
            "count": 1
           },
           {
            "bin_start": 95.75,
            "bin_end": 97,
            "count": 0
           },
           {
            "bin_start": 97,
            "bin_end": 98.25,
            "count": 0
           },
           {
            "bin_start": 98.25,
            "bin_end": 99.5,
            "count": 0
           },
           {
            "bin_start": 99.5,
            "bin_end": 100.75,
            "count": 0
           },
           {
            "bin_start": 100.75,
            "bin_end": 102,
            "count": 1
           }
          ]
         }
        },
        {
         "name": "length",
         "dtype": "float64",
         "stats": {
          "unique_count": 3,
          "nan_count": 0,
          "min": "155.9",
          "max": "191.7",
          "histogram": [
           {
            "bin_start": 155.9,
            "bin_end": 159.48000000000002,
            "count": 1
           },
           {
            "bin_start": 159.48000000000002,
            "bin_end": 163.06,
            "count": 0
           },
           {
            "bin_start": 163.06,
            "bin_end": 166.64,
            "count": 0
           },
           {
            "bin_start": 166.64,
            "bin_end": 170.22,
            "count": 1
           },
           {
            "bin_start": 170.22,
            "bin_end": 173.8,
            "count": 0
           },
           {
            "bin_start": 173.8,
            "bin_end": 177.38,
            "count": 0
           },
           {
            "bin_start": 177.38,
            "bin_end": 180.95999999999998,
            "count": 0
           },
           {
            "bin_start": 180.95999999999998,
            "bin_end": 184.54,
            "count": 0
           },
           {
            "bin_start": 184.54,
            "bin_end": 188.12,
            "count": 0
           },
           {
            "bin_start": 188.12,
            "bin_end": 191.7,
            "count": 1
           }
          ]
         }
        },
        {
         "name": "width",
         "dtype": "float64",
         "stats": {
          "unique_count": 3,
          "nan_count": 0,
          "min": "63.6",
          "max": "70.6",
          "histogram": [
           {
            "bin_start": 63.6,
            "bin_end": 64.3,
            "count": 1
           },
           {
            "bin_start": 64.3,
            "bin_end": 65,
            "count": 0
           },
           {
            "bin_start": 65,
            "bin_end": 65.7,
            "count": 1
           },
           {
            "bin_start": 65.7,
            "bin_end": 66.4,
            "count": 0
           },
           {
            "bin_start": 66.4,
            "bin_end": 67.1,
            "count": 0
           },
           {
            "bin_start": 67.1,
            "bin_end": 67.8,
            "count": 0
           },
           {
            "bin_start": 67.8,
            "bin_end": 68.5,
            "count": 0
           },
           {
            "bin_start": 68.5,
            "bin_end": 69.19999999999999,
            "count": 0
           },
           {
            "bin_start": 69.19999999999999,
            "bin_end": 69.89999999999999,
            "count": 0
           },
           {
            "bin_start": 69.89999999999999,
            "bin_end": 70.6,
            "count": 1
           }
          ]
         }
        },
        {
         "name": "height",
         "dtype": "float64",
         "stats": {
          "unique_count": 3,
          "nan_count": 0,
          "min": "47.8",
          "max": "52.0",
          "histogram": [
           {
            "bin_start": 47.8,
            "bin_end": 48.22,
            "count": 1
           },
           {
            "bin_start": 48.22,
            "bin_end": 48.64,
            "count": 0
           },
           {
            "bin_start": 48.64,
            "bin_end": 49.059999999999995,
            "count": 0
           },
           {
            "bin_start": 49.059999999999995,
            "bin_end": 49.48,
            "count": 0
           },
           {
            "bin_start": 49.48,
            "bin_end": 49.9,
            "count": 0
           },
           {
            "bin_start": 49.9,
            "bin_end": 50.32,
            "count": 0
           },
           {
            "bin_start": 50.32,
            "bin_end": 50.74,
            "count": 0
           },
           {
            "bin_start": 50.74,
            "bin_end": 51.16,
            "count": 0
           },
           {
            "bin_start": 51.16,
            "bin_end": 51.58,
            "count": 0
           },
           {
            "bin_start": 51.58,
            "bin_end": 52,
            "count": 2
           }
          ]
         }
        },
        {
         "name": "curb-weight",
         "dtype": "int64",
         "stats": {
          "unique_count": 3,
          "nan_count": 0,
          "min": "1874",
          "max": "3950",
          "histogram": [
           {
            "bin_start": 1874,
            "bin_end": 2081.6,
            "count": 1
           },
           {
            "bin_start": 2081.6,
            "bin_end": 2289.2,
            "count": 0
           },
           {
            "bin_start": 2289.2,
            "bin_end": 2496.8,
            "count": 0
           },
           {
            "bin_start": 2496.8,
            "bin_end": 2704.4,
            "count": 0
           },
           {
            "bin_start": 2704.4,
            "bin_end": 2912,
            "count": 1
           },
           {
            "bin_start": 2912,
            "bin_end": 3119.6,
            "count": 0
           },
           {
            "bin_start": 3119.6,
            "bin_end": 3327.2,
            "count": 0
           },
           {
            "bin_start": 3327.2,
            "bin_end": 3534.8,
            "count": 0
           },
           {
            "bin_start": 3534.8,
            "bin_end": 3742.3999999999996,
            "count": 0
           },
           {
            "bin_start": 3742.3999999999996,
            "bin_end": 3950,
            "count": 1
           }
          ]
         }
        },
        {
         "name": "engine-type",
         "dtype": "category",
         "stats": {
          "unique_count": 3,
          "nan_count": 0,
          "categories": [
           {
            "name": "ohcv",
            "count": 1
           },
           {
            "name": "ohc",
            "count": 1
           },
           {
            "name": "ohcf",
            "count": 1
           }
          ]
         }
        },
        {
         "name": "num-of-cylinders",
         "dtype": "category",
         "stats": {
          "unique_count": 3,
          "nan_count": 0,
          "categories": [
           {
            "name": "twelve",
            "count": 1
           },
           {
            "name": "four",
            "count": 1
           },
           {
            "name": "six",
            "count": 1
           }
          ]
         }
        },
        {
         "name": "engine-size",
         "dtype": "int64",
         "stats": {
          "unique_count": 3,
          "nan_count": 0,
          "min": "90",
          "max": "326",
          "histogram": [
           {
            "bin_start": 90,
            "bin_end": 113.6,
            "count": 1
           },
           {
            "bin_start": 113.6,
            "bin_end": 137.2,
            "count": 0
           },
           {
            "bin_start": 137.2,
            "bin_end": 160.8,
            "count": 0
           },
           {
            "bin_start": 160.8,
            "bin_end": 184.4,
            "count": 0
           },
           {
            "bin_start": 184.4,
            "bin_end": 208,
            "count": 1
           },
           {
            "bin_start": 208,
            "bin_end": 231.60000000000002,
            "count": 0
           },
           {
            "bin_start": 231.60000000000002,
            "bin_end": 255.20000000000002,
            "count": 0
           },
           {
            "bin_start": 255.20000000000002,
            "bin_end": 278.8,
            "count": 0
           },
           {
            "bin_start": 278.8,
            "bin_end": 302.4,
            "count": 0
           },
           {
            "bin_start": 302.4,
            "bin_end": 326,
            "count": 1
           }
          ]
         }
        },
        {
         "name": "fuel-system",
         "dtype": "object",
         "stats": {
          "unique_count": 2,
          "nan_count": 0,
          "categories": [
           {
            "name": "mpfi",
            "count": 2
           },
           {
            "name": "2bbl",
            "count": 1
           }
          ]
         }
        },
        {
         "name": "bore",
         "dtype": "float64",
         "stats": {
          "unique_count": 3,
          "nan_count": 0,
          "min": "3.03",
          "max": "3.74",
          "histogram": [
           {
            "bin_start": 3.03,
            "bin_end": 3.101,
            "count": 1
           },
           {
            "bin_start": 3.101,
            "bin_end": 3.1719999999999997,
            "count": 0
           },
           {
            "bin_start": 3.1719999999999997,
            "bin_end": 3.243,
            "count": 0
           },
           {
            "bin_start": 3.243,
            "bin_end": 3.314,
            "count": 0
           },
           {
            "bin_start": 3.314,
            "bin_end": 3.385,
            "count": 0
           },
           {
            "bin_start": 3.385,
            "bin_end": 3.456,
            "count": 0
           },
           {
            "bin_start": 3.456,
            "bin_end": 3.527,
            "count": 0
           },
           {
            "bin_start": 3.527,
            "bin_end": 3.598,
            "count": 1
           },
           {
            "bin_start": 3.598,
            "bin_end": 3.669,
            "count": 0
           },
           {
            "bin_start": 3.669,
            "bin_end": 3.74,
            "count": 1
           }
          ]
         }
        },
        {
         "name": "stroke",
         "dtype": "float64",
         "stats": {
          "unique_count": 3,
          "nan_count": 0,
          "min": "2.76",
          "max": "3.11",
          "histogram": [
           {
            "bin_start": 2.76,
            "bin_end": 2.795,
            "count": 1
           },
           {
            "bin_start": 2.795,
            "bin_end": 2.8299999999999996,
            "count": 0
           },
           {
            "bin_start": 2.8299999999999996,
            "bin_end": 2.8649999999999998,
            "count": 0
           },
           {
            "bin_start": 2.8649999999999998,
            "bin_end": 2.9,
            "count": 0
           },
           {
            "bin_start": 2.9,
            "bin_end": 2.9349999999999996,
            "count": 1
           },
           {
            "bin_start": 2.9349999999999996,
            "bin_end": 2.9699999999999998,
            "count": 0
           },
           {
            "bin_start": 2.9699999999999998,
            "bin_end": 3.005,
            "count": 0
           },
           {
            "bin_start": 3.005,
            "bin_end": 3.04,
            "count": 0
           },
           {
            "bin_start": 3.04,
            "bin_end": 3.0749999999999997,
            "count": 0
           },
           {
            "bin_start": 3.0749999999999997,
            "bin_end": 3.11,
            "count": 1
           }
          ]
         }
        },
        {
         "name": "compression-ratio",
         "dtype": "float64",
         "stats": {
          "unique_count": 3,
          "nan_count": 0,
          "min": "9.5",
          "max": "11.5",
          "histogram": [
           {
            "bin_start": 9.5,
            "bin_end": 9.7,
            "count": 2
           },
           {
            "bin_start": 9.7,
            "bin_end": 9.9,
            "count": 0
           },
           {
            "bin_start": 9.9,
            "bin_end": 10.1,
            "count": 0
           },
           {
            "bin_start": 10.1,
            "bin_end": 10.3,
            "count": 0
           },
           {
            "bin_start": 10.3,
            "bin_end": 10.5,
            "count": 0
           },
           {
            "bin_start": 10.5,
            "bin_end": 10.7,
            "count": 0
           },
           {
            "bin_start": 10.7,
            "bin_end": 10.9,
            "count": 0
           },
           {
            "bin_start": 10.9,
            "bin_end": 11.1,
            "count": 0
           },
           {
            "bin_start": 11.1,
            "bin_end": 11.3,
            "count": 0
           },
           {
            "bin_start": 11.3,
            "bin_end": 11.5,
            "count": 1
           }
          ]
         }
        },
        {
         "name": "horsepower",
         "dtype": "int64",
         "stats": {
          "unique_count": 3,
          "nan_count": 0,
          "min": "70",
          "max": "262",
          "histogram": [
           {
            "bin_start": 70,
            "bin_end": 89.2,
            "count": 1
           },
           {
            "bin_start": 89.2,
            "bin_end": 108.4,
            "count": 0
           },
           {
            "bin_start": 108.4,
            "bin_end": 127.6,
            "count": 0
           },
           {
            "bin_start": 127.6,
            "bin_end": 146.8,
            "count": 0
           },
           {
            "bin_start": 146.8,
            "bin_end": 166,
            "count": 0
           },
           {
            "bin_start": 166,
            "bin_end": 185.2,
            "count": 0
           },
           {
            "bin_start": 185.2,
            "bin_end": 204.4,
            "count": 0
           },
           {
            "bin_start": 204.4,
            "bin_end": 223.6,
            "count": 1
           },
           {
            "bin_start": 223.6,
            "bin_end": 242.79999999999998,
            "count": 0
           },
           {
            "bin_start": 242.79999999999998,
            "bin_end": 262,
            "count": 1
           }
          ]
         }
        },
        {
         "name": "peak-rpm",
         "dtype": "float64",
         "stats": {
          "unique_count": 3,
          "nan_count": 0,
          "min": "5000.0",
          "max": "5900.0",
          "histogram": [
           {
            "bin_start": 5000,
            "bin_end": 5090,
            "count": 1
           },
           {
            "bin_start": 5090,
            "bin_end": 5180,
            "count": 0
           },
           {
            "bin_start": 5180,
            "bin_end": 5270,
            "count": 0
           },
           {
            "bin_start": 5270,
            "bin_end": 5360,
            "count": 0
           },
           {
            "bin_start": 5360,
            "bin_end": 5450,
            "count": 1
           },
           {
            "bin_start": 5450,
            "bin_end": 5540,
            "count": 0
           },
           {
            "bin_start": 5540,
            "bin_end": 5630,
            "count": 0
           },
           {
            "bin_start": 5630,
            "bin_end": 5720,
            "count": 0
           },
           {
            "bin_start": 5720,
            "bin_end": 5810,
            "count": 0
           },
           {
            "bin_start": 5810,
            "bin_end": 5900,
            "count": 1
           }
          ]
         }
        },
        {
         "name": "city-mpg",
         "dtype": "int64",
         "stats": {
          "unique_count": 3,
          "nan_count": 0,
          "min": "13",
          "max": "38",
          "histogram": [
           {
            "bin_start": 13,
            "bin_end": 15.5,
            "count": 1
           },
           {
            "bin_start": 15.5,
            "bin_end": 18,
            "count": 1
           },
           {
            "bin_start": 18,
            "bin_end": 20.5,
            "count": 0
           },
           {
            "bin_start": 20.5,
            "bin_end": 23,
            "count": 0
           },
           {
            "bin_start": 23,
            "bin_end": 25.5,
            "count": 0
           },
           {
            "bin_start": 25.5,
            "bin_end": 28,
            "count": 0
           },
           {
            "bin_start": 28,
            "bin_end": 30.5,
            "count": 0
           },
           {
            "bin_start": 30.5,
            "bin_end": 33,
            "count": 0
           },
           {
            "bin_start": 33,
            "bin_end": 35.5,
            "count": 0
           },
           {
            "bin_start": 35.5,
            "bin_end": 38,
            "count": 1
           }
          ]
         }
        },
        {
         "name": "highway-mpg",
         "dtype": "int64",
         "stats": {
          "unique_count": 3,
          "nan_count": 0,
          "min": "17",
          "max": "43",
          "histogram": [
           {
            "bin_start": 17,
            "bin_end": 19.6,
            "count": 1
           },
           {
            "bin_start": 19.6,
            "bin_end": 22.2,
            "count": 0
           },
           {
            "bin_start": 22.2,
            "bin_end": 24.8,
            "count": 0
           },
           {
            "bin_start": 24.8,
            "bin_end": 27.4,
            "count": 1
           },
           {
            "bin_start": 27.4,
            "bin_end": 30,
            "count": 0
           },
           {
            "bin_start": 30,
            "bin_end": 32.6,
            "count": 0
           },
           {
            "bin_start": 32.6,
            "bin_end": 35.2,
            "count": 0
           },
           {
            "bin_start": 35.2,
            "bin_end": 37.8,
            "count": 0
           },
           {
            "bin_start": 37.8,
            "bin_end": 40.400000000000006,
            "count": 0
           },
           {
            "bin_start": 40.400000000000006,
            "bin_end": 43,
            "count": 1
           }
          ]
         }
        },
        {
         "name": "price",
         "dtype": "float64",
         "stats": {
          "unique_count": 3,
          "nan_count": 0,
          "min": "6295.0",
          "max": "36000.0",
          "histogram": [
           {
            "bin_start": 6295,
            "bin_end": 9265.5,
            "count": 1
           },
           {
            "bin_start": 9265.5,
            "bin_end": 12236,
            "count": 0
           },
           {
            "bin_start": 12236,
            "bin_end": 15206.5,
            "count": 0
           },
           {
            "bin_start": 15206.5,
            "bin_end": 18177,
            "count": 0
           },
           {
            "bin_start": 18177,
            "bin_end": 21147.5,
            "count": 0
           },
           {
            "bin_start": 21147.5,
            "bin_end": 24118,
            "count": 0
           },
           {
            "bin_start": 24118,
            "bin_end": 27088.5,
            "count": 0
           },
           {
            "bin_start": 27088.5,
            "bin_end": 30059,
            "count": 0
           },
           {
            "bin_start": 30059,
            "bin_end": 33029.5,
            "count": 1
           },
           {
            "bin_start": 33029.5,
            "bin_end": 36000,
            "count": 1
           }
          ]
         }
        },
        {
         "name": "_deepnote_index_column",
         "dtype": "int64"
        }
       ],
       "rows": [
        {
         "symboling": 0,
         "normalized-losses": 122,
         "make": "jaguar",
         "fuel-type": "gas",
         "aspiration": "std",
         "num-of-doors": "two",
         "body-style": "sedan",
         "drive-wheels": "rwd",
         "engine-location": "front",
         "wheel-base": 102,
         "length": 191.7,
         "width": 70.6,
         "height": 47.8,
         "curb-weight": 3950,
         "engine-type": "ohcv",
         "num-of-cylinders": "twelve",
         "engine-size": 326,
         "fuel-system": "mpfi",
         "bore": 3.54,
         "stroke": 2.76,
         "compression-ratio": 11.5,
         "horsepower": 262,
         "peak-rpm": 5000,
         "city-mpg": 13,
         "highway-mpg": 17,
         "price": 36000,
         "_deepnote_index_column": 46
        },
        {
         "symboling": 1,
         "normalized-losses": 98,
         "make": "chevrolet",
         "fuel-type": "gas",
         "aspiration": "std",
         "num-of-doors": "two",
         "body-style": "hatchback",
         "drive-wheels": "fwd",
         "engine-location": "front",
         "wheel-base": 94.5,
         "length": 155.9,
         "width": 63.6,
         "height": 52,
         "curb-weight": 1874,
         "engine-type": "ohc",
         "num-of-cylinders": "four",
         "engine-size": 90,
         "fuel-system": "2bbl",
         "bore": 3.03,
         "stroke": 3.11,
         "compression-ratio": 9.6,
         "horsepower": 70,
         "peak-rpm": 5400,
         "city-mpg": 38,
         "highway-mpg": 43,
         "price": 6295,
         "_deepnote_index_column": 18
        },
        {
         "symboling": 3,
         "normalized-losses": 122,
         "make": "porsche",
         "fuel-type": "gas",
         "aspiration": "std",
         "num-of-doors": "two",
         "body-style": "hardtop",
         "drive-wheels": "rwd",
         "engine-location": "rear",
         "wheel-base": 89.5,
         "length": 168.9,
         "width": 65,
         "height": 51.6,
         "curb-weight": 2756,
         "engine-type": "ohcf",
         "num-of-cylinders": "six",
         "engine-size": 194,
         "fuel-system": "mpfi",
         "bore": 3.74,
         "stroke": 2.9,
         "compression-ratio": 9.5,
         "horsepower": 207,
         "peak-rpm": 5900,
         "city-mpg": 17,
         "highway-mpg": 25,
         "price": 32528,
         "_deepnote_index_column": 123
        }
       ]
      },
      "text/plain": "     symboling  normalized-losses       make fuel-type aspiration  \\\n46           0                122     jaguar       gas        std   \n18           1                 98  chevrolet       gas        std   \n123          3                122    porsche       gas        std   \n\n    num-of-doors body-style drive-wheels engine-location  wheel-base  ...  \\\n46           two      sedan          rwd           front     102.000  ...   \n18           two  hatchback          fwd           front      94.500  ...   \n123          two    hardtop          rwd            rear      89.500  ...   \n\n     engine-size  fuel-system  bore  stroke compression-ratio horsepower  \\\n46           326         mpfi 3.540   2.760            11.500        262   \n18            90         2bbl 3.030   3.110             9.600         70   \n123          194         mpfi 3.740   2.900             9.500        207   \n\n     peak-rpm city-mpg  highway-mpg      price  \n46  5,000.000       13           17 36,000.000  \n18  5,400.000       38           43  6,295.000  \n123 5,900.000       17           25 32,528.000  \n\n[3 rows x 26 columns]",
      "text/html": "<div>\n<style scoped>\n    .dataframe tbody tr th:only-of-type {\n        vertical-align: middle;\n    }\n\n    .dataframe tbody tr th {\n        vertical-align: top;\n    }\n\n    .dataframe thead th {\n        text-align: right;\n    }\n</style>\n<table border=\"1\" class=\"dataframe\">\n  <thead>\n    <tr style=\"text-align: right;\">\n      <th></th>\n      <th>symboling</th>\n      <th>normalized-losses</th>\n      <th>make</th>\n      <th>fuel-type</th>\n      <th>aspiration</th>\n      <th>num-of-doors</th>\n      <th>body-style</th>\n      <th>drive-wheels</th>\n      <th>engine-location</th>\n      <th>wheel-base</th>\n      <th>...</th>\n      <th>engine-size</th>\n      <th>fuel-system</th>\n      <th>bore</th>\n      <th>stroke</th>\n      <th>compression-ratio</th>\n      <th>horsepower</th>\n      <th>peak-rpm</th>\n      <th>city-mpg</th>\n      <th>highway-mpg</th>\n      <th>price</th>\n    </tr>\n  </thead>\n  <tbody>\n    <tr>\n      <th>46</th>\n      <td>0</td>\n      <td>122</td>\n      <td>jaguar</td>\n      <td>gas</td>\n      <td>std</td>\n      <td>two</td>\n      <td>sedan</td>\n      <td>rwd</td>\n      <td>front</td>\n      <td>102.000</td>\n      <td>...</td>\n      <td>326</td>\n      <td>mpfi</td>\n      <td>3.540</td>\n      <td>2.760</td>\n      <td>11.500</td>\n      <td>262</td>\n      <td>5,000.000</td>\n      <td>13</td>\n      <td>17</td>\n      <td>36,000.000</td>\n    </tr>\n    <tr>\n      <th>18</th>\n      <td>1</td>\n      <td>98</td>\n      <td>chevrolet</td>\n      <td>gas</td>\n      <td>std</td>\n      <td>two</td>\n      <td>hatchback</td>\n      <td>fwd</td>\n      <td>front</td>\n      <td>94.500</td>\n      <td>...</td>\n      <td>90</td>\n      <td>2bbl</td>\n      <td>3.030</td>\n      <td>3.110</td>\n      <td>9.600</td>\n      <td>70</td>\n      <td>5,400.000</td>\n      <td>38</td>\n      <td>43</td>\n      <td>6,295.000</td>\n    </tr>\n    <tr>\n      <th>123</th>\n      <td>3</td>\n      <td>122</td>\n      <td>porsche</td>\n      <td>gas</td>\n      <td>std</td>\n      <td>two</td>\n      <td>hardtop</td>\n      <td>rwd</td>\n      <td>rear</td>\n      <td>89.500</td>\n      <td>...</td>\n      <td>194</td>\n      <td>mpfi</td>\n      <td>3.740</td>\n      <td>2.900</td>\n      <td>9.500</td>\n      <td>207</td>\n      <td>5,900.000</td>\n      <td>17</td>\n      <td>25</td>\n      <td>32,528.000</td>\n    </tr>\n  </tbody>\n</table>\n<p>3 rows × 26 columns</p>\n</div>"
     },
     "metadata": {}
    }
   ]
  },
  {
   "cell_type": "markdown",
   "source": "#### **Transformar mpg to L/100km:**\n\nEn nuestro conjunto de datos, las columnas de consumo de combustible ***mpg en ciudad(city-mpg)*** y ***mpg en carretera(highway-mpg)*** están representadas por unidades de mpg (millas por galón). En nuestro proyecto trabajaremos el consumo de combustible con el estándar L / 100km.\n\nTendremos que aplicar la transformación de datos para transformar mpg en L / 100km.\n\nLa fórmula para la conversión de unidades es:\n\n    L/100km = 235 / mpg",
   "metadata": {
    "cell_id": "1bc1800c-8ad4-410e-b671-7debb1920b7f",
    "tags": [],
    "deepnote_cell_type": "markdown"
   }
  },
  {
   "cell_type": "code",
   "metadata": {
    "cell_id": "b5831856-0868-4139-9de4-0bc6cb6ab203",
    "tags": [],
    "deepnote_to_be_reexecuted": false,
    "source_hash": "3b7e5c27",
    "execution_start": 1645738118289,
    "execution_millis": 26,
    "deepnote_cell_type": "code"
   },
   "source": "# cambiamos el formato\ndf_auto['city-mpg'] = 235 / df_auto['city-mpg']\ndf_auto['highway-mpg'] = 235 / df_auto['highway-mpg']\n# cambiamos el nombre de las columnas\ndf_auto.rename(columns = {'city-mpg': 'city-l/100km', 'highway-mpg': 'highway-l/100km'}, inplace = True)\ndf_auto[['city-l/100km', 'highway-l/100km']].head()",
   "execution_count": 27,
   "outputs": [
    {
     "output_type": "execute_result",
     "execution_count": 27,
     "data": {
      "application/vnd.deepnote.dataframe.v3+json": {
       "column_count": 2,
       "row_count": 5,
       "columns": [
        {
         "name": "city-l/100km",
         "dtype": "float64",
         "stats": {
          "unique_count": 4,
          "nan_count": 0,
          "min": "9.791666666666666",
          "max": "13.055555555555555",
          "histogram": [
           {
            "bin_start": 9.791666666666666,
            "bin_end": 10.118055555555555,
            "count": 1
           },
           {
            "bin_start": 10.118055555555555,
            "bin_end": 10.444444444444445,
            "count": 0
           },
           {
            "bin_start": 10.444444444444445,
            "bin_end": 10.770833333333332,
            "count": 0
           },
           {
            "bin_start": 10.770833333333332,
            "bin_end": 11.097222222222221,
            "count": 0
           },
           {
            "bin_start": 11.097222222222221,
            "bin_end": 11.42361111111111,
            "count": 2
           },
           {
            "bin_start": 11.42361111111111,
            "bin_end": 11.75,
            "count": 0
           },
           {
            "bin_start": 11.75,
            "bin_end": 12.07638888888889,
            "count": 0
           },
           {
            "bin_start": 12.07638888888889,
            "bin_end": 12.402777777777779,
            "count": 1
           },
           {
            "bin_start": 12.402777777777779,
            "bin_end": 12.729166666666666,
            "count": 0
           },
           {
            "bin_start": 12.729166666666666,
            "bin_end": 13.055555555555555,
            "count": 1
           }
          ]
         }
        },
        {
         "name": "highway-l/100km",
         "dtype": "float64",
         "stats": {
          "unique_count": 4,
          "nan_count": 0,
          "min": "7.833333333333333",
          "max": "10.681818181818182",
          "histogram": [
           {
            "bin_start": 7.833333333333333,
            "bin_end": 8.118181818181817,
            "count": 1
           },
           {
            "bin_start": 8.118181818181817,
            "bin_end": 8.403030303030302,
            "count": 0
           },
           {
            "bin_start": 8.403030303030302,
            "bin_end": 8.687878787878788,
            "count": 0
           },
           {
            "bin_start": 8.687878787878788,
            "bin_end": 8.972727272727273,
            "count": 2
           },
           {
            "bin_start": 8.972727272727273,
            "bin_end": 9.257575757575758,
            "count": 1
           },
           {
            "bin_start": 9.257575757575758,
            "bin_end": 9.542424242424243,
            "count": 0
           },
           {
            "bin_start": 9.542424242424243,
            "bin_end": 9.827272727272726,
            "count": 0
           },
           {
            "bin_start": 9.827272727272726,
            "bin_end": 10.112121212121211,
            "count": 0
           },
           {
            "bin_start": 10.112121212121211,
            "bin_end": 10.396969696969697,
            "count": 0
           },
           {
            "bin_start": 10.396969696969697,
            "bin_end": 10.681818181818182,
            "count": 1
           }
          ]
         }
        },
        {
         "name": "_deepnote_index_column",
         "dtype": "int64"
        }
       ],
       "rows": [
        {
         "city-l/100km": 11.19047619047619,
         "highway-l/100km": 8.703703703703704,
         "_deepnote_index_column": 0
        },
        {
         "city-l/100km": 11.19047619047619,
         "highway-l/100km": 8.703703703703704,
         "_deepnote_index_column": 1
        },
        {
         "city-l/100km": 12.368421052631579,
         "highway-l/100km": 9.038461538461538,
         "_deepnote_index_column": 2
        },
        {
         "city-l/100km": 9.791666666666666,
         "highway-l/100km": 7.833333333333333,
         "_deepnote_index_column": 3
        },
        {
         "city-l/100km": 13.055555555555555,
         "highway-l/100km": 10.681818181818182,
         "_deepnote_index_column": 4
        }
       ]
      },
      "text/plain": "   city-l/100km  highway-l/100km\n0        11.190            8.704\n1        11.190            8.704\n2        12.368            9.038\n3         9.792            7.833\n4        13.056           10.682",
      "text/html": "<div>\n<style scoped>\n    .dataframe tbody tr th:only-of-type {\n        vertical-align: middle;\n    }\n\n    .dataframe tbody tr th {\n        vertical-align: top;\n    }\n\n    .dataframe thead th {\n        text-align: right;\n    }\n</style>\n<table border=\"1\" class=\"dataframe\">\n  <thead>\n    <tr style=\"text-align: right;\">\n      <th></th>\n      <th>city-l/100km</th>\n      <th>highway-l/100km</th>\n    </tr>\n  </thead>\n  <tbody>\n    <tr>\n      <th>0</th>\n      <td>11.190</td>\n      <td>8.704</td>\n    </tr>\n    <tr>\n      <th>1</th>\n      <td>11.190</td>\n      <td>8.704</td>\n    </tr>\n    <tr>\n      <th>2</th>\n      <td>12.368</td>\n      <td>9.038</td>\n    </tr>\n    <tr>\n      <th>3</th>\n      <td>9.792</td>\n      <td>7.833</td>\n    </tr>\n    <tr>\n      <th>4</th>\n      <td>13.056</td>\n      <td>10.682</td>\n    </tr>\n  </tbody>\n</table>\n</div>"
     },
     "metadata": {}
    }
   ]
  },
  {
   "cell_type": "markdown",
   "source": "## Normalize length, width, hight",
   "metadata": {
    "cell_id": "ecf4a89e-5f28-4c78-8783-5aff3ad337d0",
    "tags": [],
    "is_collapsed": false,
    "deepnote_cell_type": "text-cell-h2"
   }
  },
  {
   "cell_type": "code",
   "metadata": {
    "cell_id": "84edcdb9-4c92-43a6-80d6-f1bdf1be08e2",
    "tags": [],
    "deepnote_to_be_reexecuted": false,
    "source_hash": "763f511c",
    "execution_start": 1645738118346,
    "execution_millis": 107,
    "deepnote_cell_type": "code"
   },
   "source": "df_auto.head()",
   "execution_count": 28,
   "outputs": [
    {
     "output_type": "execute_result",
     "execution_count": 28,
     "data": {
      "application/vnd.deepnote.dataframe.v3+json": {
       "column_count": 26,
       "row_count": 5,
       "columns": [
        {
         "name": "symboling",
         "dtype": "int64",
         "stats": {
          "unique_count": 3,
          "nan_count": 0,
          "min": "1",
          "max": "3",
          "histogram": [
           {
            "bin_start": 1,
            "bin_end": 1.2,
            "count": 1
           },
           {
            "bin_start": 1.2,
            "bin_end": 1.4,
            "count": 0
           },
           {
            "bin_start": 1.4,
            "bin_end": 1.6,
            "count": 0
           },
           {
            "bin_start": 1.6,
            "bin_end": 1.8,
            "count": 0
           },
           {
            "bin_start": 1.8,
            "bin_end": 2,
            "count": 0
           },
           {
            "bin_start": 2,
            "bin_end": 2.2,
            "count": 2
           },
           {
            "bin_start": 2.2,
            "bin_end": 2.4000000000000004,
            "count": 0
           },
           {
            "bin_start": 2.4000000000000004,
            "bin_end": 2.6,
            "count": 0
           },
           {
            "bin_start": 2.6,
            "bin_end": 2.8,
            "count": 0
           },
           {
            "bin_start": 2.8,
            "bin_end": 3,
            "count": 2
           }
          ]
         }
        },
        {
         "name": "normalized-losses",
         "dtype": "int64",
         "stats": {
          "unique_count": 2,
          "nan_count": 0,
          "min": "122",
          "max": "164",
          "histogram": [
           {
            "bin_start": 122,
            "bin_end": 126.2,
            "count": 3
           },
           {
            "bin_start": 126.2,
            "bin_end": 130.4,
            "count": 0
           },
           {
            "bin_start": 130.4,
            "bin_end": 134.6,
            "count": 0
           },
           {
            "bin_start": 134.6,
            "bin_end": 138.8,
            "count": 0
           },
           {
            "bin_start": 138.8,
            "bin_end": 143,
            "count": 0
           },
           {
            "bin_start": 143,
            "bin_end": 147.2,
            "count": 0
           },
           {
            "bin_start": 147.2,
            "bin_end": 151.4,
            "count": 0
           },
           {
            "bin_start": 151.4,
            "bin_end": 155.6,
            "count": 0
           },
           {
            "bin_start": 155.6,
            "bin_end": 159.8,
            "count": 0
           },
           {
            "bin_start": 159.8,
            "bin_end": 164,
            "count": 2
           }
          ]
         }
        },
        {
         "name": "make",
         "dtype": "object",
         "stats": {
          "unique_count": 2,
          "nan_count": 0,
          "categories": [
           {
            "name": "alfa-romero",
            "count": 3
           },
           {
            "name": "audi",
            "count": 2
           }
          ]
         }
        },
        {
         "name": "fuel-type",
         "dtype": "category",
         "stats": {
          "unique_count": 1,
          "nan_count": 0,
          "categories": [
           {
            "name": "gas",
            "count": 5
           }
          ]
         }
        },
        {
         "name": "aspiration",
         "dtype": "category",
         "stats": {
          "unique_count": 1,
          "nan_count": 0,
          "categories": [
           {
            "name": "std",
            "count": 5
           }
          ]
         }
        },
        {
         "name": "num-of-doors",
         "dtype": "category",
         "stats": {
          "unique_count": 2,
          "nan_count": 0,
          "categories": [
           {
            "name": "two",
            "count": 3
           },
           {
            "name": "four",
            "count": 2
           }
          ]
         }
        },
        {
         "name": "body-style",
         "dtype": "category",
         "stats": {
          "unique_count": 3,
          "nan_count": 0,
          "categories": [
           {
            "name": "convertible",
            "count": 2
           },
           {
            "name": "sedan",
            "count": 2
           },
           {
            "name": "hatchback",
            "count": 1
           }
          ]
         }
        },
        {
         "name": "drive-wheels",
         "dtype": "category",
         "stats": {
          "unique_count": 3,
          "nan_count": 0,
          "categories": [
           {
            "name": "rwd",
            "count": 3
           },
           {
            "name": "fwd",
            "count": 1
           },
           {
            "name": "4wd",
            "count": 1
           }
          ]
         }
        },
        {
         "name": "engine-location",
         "dtype": "category",
         "stats": {
          "unique_count": 1,
          "nan_count": 0,
          "categories": [
           {
            "name": "front",
            "count": 5
           }
          ]
         }
        },
        {
         "name": "wheel-base",
         "dtype": "float64",
         "stats": {
          "unique_count": 4,
          "nan_count": 0,
          "min": "88.6",
          "max": "99.8",
          "histogram": [
           {
            "bin_start": 88.6,
            "bin_end": 89.72,
            "count": 2
           },
           {
            "bin_start": 89.72,
            "bin_end": 90.83999999999999,
            "count": 0
           },
           {
            "bin_start": 90.83999999999999,
            "bin_end": 91.96,
            "count": 0
           },
           {
            "bin_start": 91.96,
            "bin_end": 93.08,
            "count": 0
           },
           {
            "bin_start": 93.08,
            "bin_end": 94.19999999999999,
            "count": 0
           },
           {
            "bin_start": 94.19999999999999,
            "bin_end": 95.32,
            "count": 1
           },
           {
            "bin_start": 95.32,
            "bin_end": 96.44,
            "count": 0
           },
           {
            "bin_start": 96.44,
            "bin_end": 97.56,
            "count": 0
           },
           {
            "bin_start": 97.56,
            "bin_end": 98.67999999999999,
            "count": 0
           },
           {
            "bin_start": 98.67999999999999,
            "bin_end": 99.8,
            "count": 2
           }
          ]
         }
        },
        {
         "name": "length",
         "dtype": "float64",
         "stats": {
          "unique_count": 3,
          "nan_count": 0,
          "min": "168.8",
          "max": "176.6",
          "histogram": [
           {
            "bin_start": 168.8,
            "bin_end": 169.58,
            "count": 2
           },
           {
            "bin_start": 169.58,
            "bin_end": 170.36,
            "count": 0
           },
           {
            "bin_start": 170.36,
            "bin_end": 171.14000000000001,
            "count": 0
           },
           {
            "bin_start": 171.14000000000001,
            "bin_end": 171.92000000000002,
            "count": 1
           },
           {
            "bin_start": 171.92000000000002,
            "bin_end": 172.7,
            "count": 0
           },
           {
            "bin_start": 172.7,
            "bin_end": 173.48,
            "count": 0
           },
           {
            "bin_start": 173.48,
            "bin_end": 174.26,
            "count": 0
           },
           {
            "bin_start": 174.26,
            "bin_end": 175.04,
            "count": 0
           },
           {
            "bin_start": 175.04,
            "bin_end": 175.82,
            "count": 0
           },
           {
            "bin_start": 175.82,
            "bin_end": 176.6,
            "count": 2
           }
          ]
         }
        },
        {
         "name": "width",
         "dtype": "float64",
         "stats": {
          "unique_count": 4,
          "nan_count": 0,
          "min": "64.1",
          "max": "66.4",
          "histogram": [
           {
            "bin_start": 64.1,
            "bin_end": 64.33,
            "count": 2
           },
           {
            "bin_start": 64.33,
            "bin_end": 64.56,
            "count": 0
           },
           {
            "bin_start": 64.56,
            "bin_end": 64.78999999999999,
            "count": 0
           },
           {
            "bin_start": 64.78999999999999,
            "bin_end": 65.02,
            "count": 0
           },
           {
            "bin_start": 65.02,
            "bin_end": 65.25,
            "count": 0
           },
           {
            "bin_start": 65.25,
            "bin_end": 65.48,
            "count": 0
           },
           {
            "bin_start": 65.48,
            "bin_end": 65.71000000000001,
            "count": 1
           },
           {
            "bin_start": 65.71000000000001,
            "bin_end": 65.94,
            "count": 0
           },
           {
            "bin_start": 65.94,
            "bin_end": 66.17,
            "count": 0
           },
           {
            "bin_start": 66.17,
            "bin_end": 66.4,
            "count": 2
           }
          ]
         }
        },
        {
         "name": "height",
         "dtype": "float64",
         "stats": {
          "unique_count": 3,
          "nan_count": 0,
          "min": "48.8",
          "max": "54.3",
          "histogram": [
           {
            "bin_start": 48.8,
            "bin_end": 49.349999999999994,
            "count": 2
           },
           {
            "bin_start": 49.349999999999994,
            "bin_end": 49.9,
            "count": 0
           },
           {
            "bin_start": 49.9,
            "bin_end": 50.449999999999996,
            "count": 0
           },
           {
            "bin_start": 50.449999999999996,
            "bin_end": 51,
            "count": 0
           },
           {
            "bin_start": 51,
            "bin_end": 51.55,
            "count": 0
           },
           {
            "bin_start": 51.55,
            "bin_end": 52.099999999999994,
            "count": 0
           },
           {
            "bin_start": 52.099999999999994,
            "bin_end": 52.65,
            "count": 1
           },
           {
            "bin_start": 52.65,
            "bin_end": 53.199999999999996,
            "count": 0
           },
           {
            "bin_start": 53.199999999999996,
            "bin_end": 53.75,
            "count": 0
           },
           {
            "bin_start": 53.75,
            "bin_end": 54.3,
            "count": 2
           }
          ]
         }
        },
        {
         "name": "curb-weight",
         "dtype": "int64",
         "stats": {
          "unique_count": 4,
          "nan_count": 0,
          "min": "2337",
          "max": "2824",
          "histogram": [
           {
            "bin_start": 2337,
            "bin_end": 2385.7,
            "count": 1
           },
           {
            "bin_start": 2385.7,
            "bin_end": 2434.4,
            "count": 0
           },
           {
            "bin_start": 2434.4,
            "bin_end": 2483.1,
            "count": 0
           },
           {
            "bin_start": 2483.1,
            "bin_end": 2531.8,
            "count": 0
           },
           {
            "bin_start": 2531.8,
            "bin_end": 2580.5,
            "count": 2
           },
           {
            "bin_start": 2580.5,
            "bin_end": 2629.2,
            "count": 0
           },
           {
            "bin_start": 2629.2,
            "bin_end": 2677.9,
            "count": 0
           },
           {
            "bin_start": 2677.9,
            "bin_end": 2726.6,
            "count": 0
           },
           {
            "bin_start": 2726.6,
            "bin_end": 2775.3,
            "count": 0
           },
           {
            "bin_start": 2775.3,
            "bin_end": 2824,
            "count": 2
           }
          ]
         }
        },
        {
         "name": "engine-type",
         "dtype": "category",
         "stats": {
          "unique_count": 3,
          "nan_count": 0,
          "categories": [
           {
            "name": "dohc",
            "count": 2
           },
           {
            "name": "ohc",
            "count": 2
           },
           {
            "name": "ohcv",
            "count": 1
           }
          ]
         }
        },
        {
         "name": "num-of-cylinders",
         "dtype": "category",
         "stats": {
          "unique_count": 3,
          "nan_count": 0,
          "categories": [
           {
            "name": "four",
            "count": 3
           },
           {
            "name": "six",
            "count": 1
           },
           {
            "name": "five",
            "count": 1
           }
          ]
         }
        },
        {
         "name": "engine-size",
         "dtype": "int64",
         "stats": {
          "unique_count": 4,
          "nan_count": 0,
          "min": "109",
          "max": "152",
          "histogram": [
           {
            "bin_start": 109,
            "bin_end": 113.3,
            "count": 1
           },
           {
            "bin_start": 113.3,
            "bin_end": 117.6,
            "count": 0
           },
           {
            "bin_start": 117.6,
            "bin_end": 121.9,
            "count": 0
           },
           {
            "bin_start": 121.9,
            "bin_end": 126.2,
            "count": 0
           },
           {
            "bin_start": 126.2,
            "bin_end": 130.5,
            "count": 2
           },
           {
            "bin_start": 130.5,
            "bin_end": 134.8,
            "count": 0
           },
           {
            "bin_start": 134.8,
            "bin_end": 139.1,
            "count": 1
           },
           {
            "bin_start": 139.1,
            "bin_end": 143.4,
            "count": 0
           },
           {
            "bin_start": 143.4,
            "bin_end": 147.7,
            "count": 0
           },
           {
            "bin_start": 147.7,
            "bin_end": 152,
            "count": 1
           }
          ]
         }
        },
        {
         "name": "fuel-system",
         "dtype": "object",
         "stats": {
          "unique_count": 1,
          "nan_count": 0,
          "categories": [
           {
            "name": "mpfi",
            "count": 5
           }
          ]
         }
        },
        {
         "name": "bore",
         "dtype": "float64",
         "stats": {
          "unique_count": 3,
          "nan_count": 0,
          "min": "2.68",
          "max": "3.47",
          "histogram": [
           {
            "bin_start": 2.68,
            "bin_end": 2.7590000000000003,
            "count": 1
           },
           {
            "bin_start": 2.7590000000000003,
            "bin_end": 2.838,
            "count": 0
           },
           {
            "bin_start": 2.838,
            "bin_end": 2.9170000000000003,
            "count": 0
           },
           {
            "bin_start": 2.9170000000000003,
            "bin_end": 2.996,
            "count": 0
           },
           {
            "bin_start": 2.996,
            "bin_end": 3.075,
            "count": 0
           },
           {
            "bin_start": 3.075,
            "bin_end": 3.154,
            "count": 0
           },
           {
            "bin_start": 3.154,
            "bin_end": 3.233,
            "count": 2
           },
           {
            "bin_start": 3.233,
            "bin_end": 3.3120000000000003,
            "count": 0
           },
           {
            "bin_start": 3.3120000000000003,
            "bin_end": 3.391,
            "count": 0
           },
           {
            "bin_start": 3.391,
            "bin_end": 3.47,
            "count": 2
           }
          ]
         }
        },
        {
         "name": "stroke",
         "dtype": "float64",
         "stats": {
          "unique_count": 3,
          "nan_count": 0,
          "min": "2.68",
          "max": "3.47",
          "histogram": [
           {
            "bin_start": 2.68,
            "bin_end": 2.7590000000000003,
            "count": 2
           },
           {
            "bin_start": 2.7590000000000003,
            "bin_end": 2.838,
            "count": 0
           },
           {
            "bin_start": 2.838,
            "bin_end": 2.9170000000000003,
            "count": 0
           },
           {
            "bin_start": 2.9170000000000003,
            "bin_end": 2.996,
            "count": 0
           },
           {
            "bin_start": 2.996,
            "bin_end": 3.075,
            "count": 0
           },
           {
            "bin_start": 3.075,
            "bin_end": 3.154,
            "count": 0
           },
           {
            "bin_start": 3.154,
            "bin_end": 3.233,
            "count": 0
           },
           {
            "bin_start": 3.233,
            "bin_end": 3.3120000000000003,
            "count": 0
           },
           {
            "bin_start": 3.3120000000000003,
            "bin_end": 3.391,
            "count": 0
           },
           {
            "bin_start": 3.391,
            "bin_end": 3.47,
            "count": 3
           }
          ]
         }
        },
        {
         "name": "compression-ratio",
         "dtype": "float64",
         "stats": {
          "unique_count": 3,
          "nan_count": 0,
          "min": "8.0",
          "max": "10.0",
          "histogram": [
           {
            "bin_start": 8,
            "bin_end": 8.2,
            "count": 1
           },
           {
            "bin_start": 8.2,
            "bin_end": 8.4,
            "count": 0
           },
           {
            "bin_start": 8.4,
            "bin_end": 8.6,
            "count": 0
           },
           {
            "bin_start": 8.6,
            "bin_end": 8.8,
            "count": 0
           },
           {
            "bin_start": 8.8,
            "bin_end": 9,
            "count": 0
           },
           {
            "bin_start": 9,
            "bin_end": 9.2,
            "count": 3
           },
           {
            "bin_start": 9.2,
            "bin_end": 9.4,
            "count": 0
           },
           {
            "bin_start": 9.4,
            "bin_end": 9.6,
            "count": 0
           },
           {
            "bin_start": 9.6,
            "bin_end": 9.8,
            "count": 0
           },
           {
            "bin_start": 9.8,
            "bin_end": 10,
            "count": 1
           }
          ]
         }
        },
        {
         "name": "horsepower",
         "dtype": "int64",
         "stats": {
          "unique_count": 4,
          "nan_count": 0,
          "min": "102",
          "max": "154",
          "histogram": [
           {
            "bin_start": 102,
            "bin_end": 107.2,
            "count": 1
           },
           {
            "bin_start": 107.2,
            "bin_end": 112.4,
            "count": 2
           },
           {
            "bin_start": 112.4,
            "bin_end": 117.6,
            "count": 1
           },
           {
            "bin_start": 117.6,
            "bin_end": 122.8,
            "count": 0
           },
           {
            "bin_start": 122.8,
            "bin_end": 128,
            "count": 0
           },
           {
            "bin_start": 128,
            "bin_end": 133.2,
            "count": 0
           },
           {
            "bin_start": 133.2,
            "bin_end": 138.4,
            "count": 0
           },
           {
            "bin_start": 138.4,
            "bin_end": 143.6,
            "count": 0
           },
           {
            "bin_start": 143.6,
            "bin_end": 148.8,
            "count": 0
           },
           {
            "bin_start": 148.8,
            "bin_end": 154,
            "count": 1
           }
          ]
         }
        },
        {
         "name": "peak-rpm",
         "dtype": "float64",
         "stats": {
          "unique_count": 2,
          "nan_count": 0,
          "min": "5000.0",
          "max": "5500.0",
          "histogram": [
           {
            "bin_start": 5000,
            "bin_end": 5050,
            "count": 3
           },
           {
            "bin_start": 5050,
            "bin_end": 5100,
            "count": 0
           },
           {
            "bin_start": 5100,
            "bin_end": 5150,
            "count": 0
           },
           {
            "bin_start": 5150,
            "bin_end": 5200,
            "count": 0
           },
           {
            "bin_start": 5200,
            "bin_end": 5250,
            "count": 0
           },
           {
            "bin_start": 5250,
            "bin_end": 5300,
            "count": 0
           },
           {
            "bin_start": 5300,
            "bin_end": 5350,
            "count": 0
           },
           {
            "bin_start": 5350,
            "bin_end": 5400,
            "count": 0
           },
           {
            "bin_start": 5400,
            "bin_end": 5450,
            "count": 0
           },
           {
            "bin_start": 5450,
            "bin_end": 5500,
            "count": 2
           }
          ]
         }
        },
        {
         "name": "city-l/100km",
         "dtype": "float64",
         "stats": {
          "unique_count": 4,
          "nan_count": 0,
          "min": "9.791666666666666",
          "max": "13.055555555555555",
          "histogram": [
           {
            "bin_start": 9.791666666666666,
            "bin_end": 10.118055555555555,
            "count": 1
           },
           {
            "bin_start": 10.118055555555555,
            "bin_end": 10.444444444444445,
            "count": 0
           },
           {
            "bin_start": 10.444444444444445,
            "bin_end": 10.770833333333332,
            "count": 0
           },
           {
            "bin_start": 10.770833333333332,
            "bin_end": 11.097222222222221,
            "count": 0
           },
           {
            "bin_start": 11.097222222222221,
            "bin_end": 11.42361111111111,
            "count": 2
           },
           {
            "bin_start": 11.42361111111111,
            "bin_end": 11.75,
            "count": 0
           },
           {
            "bin_start": 11.75,
            "bin_end": 12.07638888888889,
            "count": 0
           },
           {
            "bin_start": 12.07638888888889,
            "bin_end": 12.402777777777779,
            "count": 1
           },
           {
            "bin_start": 12.402777777777779,
            "bin_end": 12.729166666666666,
            "count": 0
           },
           {
            "bin_start": 12.729166666666666,
            "bin_end": 13.055555555555555,
            "count": 1
           }
          ]
         }
        },
        {
         "name": "highway-l/100km",
         "dtype": "float64",
         "stats": {
          "unique_count": 4,
          "nan_count": 0,
          "min": "7.833333333333333",
          "max": "10.681818181818182",
          "histogram": [
           {
            "bin_start": 7.833333333333333,
            "bin_end": 8.118181818181817,
            "count": 1
           },
           {
            "bin_start": 8.118181818181817,
            "bin_end": 8.403030303030302,
            "count": 0
           },
           {
            "bin_start": 8.403030303030302,
            "bin_end": 8.687878787878788,
            "count": 0
           },
           {
            "bin_start": 8.687878787878788,
            "bin_end": 8.972727272727273,
            "count": 2
           },
           {
            "bin_start": 8.972727272727273,
            "bin_end": 9.257575757575758,
            "count": 1
           },
           {
            "bin_start": 9.257575757575758,
            "bin_end": 9.542424242424243,
            "count": 0
           },
           {
            "bin_start": 9.542424242424243,
            "bin_end": 9.827272727272726,
            "count": 0
           },
           {
            "bin_start": 9.827272727272726,
            "bin_end": 10.112121212121211,
            "count": 0
           },
           {
            "bin_start": 10.112121212121211,
            "bin_end": 10.396969696969697,
            "count": 0
           },
           {
            "bin_start": 10.396969696969697,
            "bin_end": 10.681818181818182,
            "count": 1
           }
          ]
         }
        },
        {
         "name": "price",
         "dtype": "float64",
         "stats": {
          "unique_count": 4,
          "nan_count": 0,
          "min": "13495.0",
          "max": "17450.0",
          "histogram": [
           {
            "bin_start": 13495,
            "bin_end": 13890.5,
            "count": 1
           },
           {
            "bin_start": 13890.5,
            "bin_end": 14286,
            "count": 1
           },
           {
            "bin_start": 14286,
            "bin_end": 14681.5,
            "count": 0
           },
           {
            "bin_start": 14681.5,
            "bin_end": 15077,
            "count": 0
           },
           {
            "bin_start": 15077,
            "bin_end": 15472.5,
            "count": 0
           },
           {
            "bin_start": 15472.5,
            "bin_end": 15868,
            "count": 0
           },
           {
            "bin_start": 15868,
            "bin_end": 16263.5,
            "count": 0
           },
           {
            "bin_start": 16263.5,
            "bin_end": 16659,
            "count": 2
           },
           {
            "bin_start": 16659,
            "bin_end": 17054.5,
            "count": 0
           },
           {
            "bin_start": 17054.5,
            "bin_end": 17450,
            "count": 1
           }
          ]
         }
        },
        {
         "name": "_deepnote_index_column",
         "dtype": "int64"
        }
       ],
       "rows": [
        {
         "symboling": 3,
         "normalized-losses": 122,
         "make": "alfa-romero",
         "fuel-type": "gas",
         "aspiration": "std",
         "num-of-doors": "two",
         "body-style": "convertible",
         "drive-wheels": "rwd",
         "engine-location": "front",
         "wheel-base": 88.6,
         "length": 168.8,
         "width": 64.1,
         "height": 48.8,
         "curb-weight": 2548,
         "engine-type": "dohc",
         "num-of-cylinders": "four",
         "engine-size": 130,
         "fuel-system": "mpfi",
         "bore": 3.47,
         "stroke": 2.68,
         "compression-ratio": 9,
         "horsepower": 111,
         "peak-rpm": 5000,
         "city-l/100km": 11.19047619047619,
         "highway-l/100km": 8.703703703703704,
         "price": 13495,
         "_deepnote_index_column": 0
        },
        {
         "symboling": 3,
         "normalized-losses": 122,
         "make": "alfa-romero",
         "fuel-type": "gas",
         "aspiration": "std",
         "num-of-doors": "two",
         "body-style": "convertible",
         "drive-wheels": "rwd",
         "engine-location": "front",
         "wheel-base": 88.6,
         "length": 168.8,
         "width": 64.1,
         "height": 48.8,
         "curb-weight": 2548,
         "engine-type": "dohc",
         "num-of-cylinders": "four",
         "engine-size": 130,
         "fuel-system": "mpfi",
         "bore": 3.47,
         "stroke": 2.68,
         "compression-ratio": 9,
         "horsepower": 111,
         "peak-rpm": 5000,
         "city-l/100km": 11.19047619047619,
         "highway-l/100km": 8.703703703703704,
         "price": 16500,
         "_deepnote_index_column": 1
        },
        {
         "symboling": 1,
         "normalized-losses": 122,
         "make": "alfa-romero",
         "fuel-type": "gas",
         "aspiration": "std",
         "num-of-doors": "two",
         "body-style": "hatchback",
         "drive-wheels": "rwd",
         "engine-location": "front",
         "wheel-base": 94.5,
         "length": 171.2,
         "width": 65.5,
         "height": 52.4,
         "curb-weight": 2823,
         "engine-type": "ohcv",
         "num-of-cylinders": "six",
         "engine-size": 152,
         "fuel-system": "mpfi",
         "bore": 2.68,
         "stroke": 3.47,
         "compression-ratio": 9,
         "horsepower": 154,
         "peak-rpm": 5000,
         "city-l/100km": 12.368421052631579,
         "highway-l/100km": 9.038461538461538,
         "price": 16500,
         "_deepnote_index_column": 2
        },
        {
         "symboling": 2,
         "normalized-losses": 164,
         "make": "audi",
         "fuel-type": "gas",
         "aspiration": "std",
         "num-of-doors": "four",
         "body-style": "sedan",
         "drive-wheels": "fwd",
         "engine-location": "front",
         "wheel-base": 99.8,
         "length": 176.6,
         "width": 66.2,
         "height": 54.3,
         "curb-weight": 2337,
         "engine-type": "ohc",
         "num-of-cylinders": "four",
         "engine-size": 109,
         "fuel-system": "mpfi",
         "bore": 3.19,
         "stroke": 3.4,
         "compression-ratio": 10,
         "horsepower": 102,
         "peak-rpm": 5500,
         "city-l/100km": 9.791666666666666,
         "highway-l/100km": 7.833333333333333,
         "price": 13950,
         "_deepnote_index_column": 3
        },
        {
         "symboling": 2,
         "normalized-losses": 164,
         "make": "audi",
         "fuel-type": "gas",
         "aspiration": "std",
         "num-of-doors": "four",
         "body-style": "sedan",
         "drive-wheels": "4wd",
         "engine-location": "front",
         "wheel-base": 99.4,
         "length": 176.6,
         "width": 66.4,
         "height": 54.3,
         "curb-weight": 2824,
         "engine-type": "ohc",
         "num-of-cylinders": "five",
         "engine-size": 136,
         "fuel-system": "mpfi",
         "bore": 3.19,
         "stroke": 3.4,
         "compression-ratio": 8,
         "horsepower": 115,
         "peak-rpm": 5500,
         "city-l/100km": 13.055555555555555,
         "highway-l/100km": 10.681818181818182,
         "price": 17450,
         "_deepnote_index_column": 4
        }
       ]
      },
      "text/plain": "   symboling  normalized-losses         make fuel-type aspiration  \\\n0          3                122  alfa-romero       gas        std   \n1          3                122  alfa-romero       gas        std   \n2          1                122  alfa-romero       gas        std   \n3          2                164         audi       gas        std   \n4          2                164         audi       gas        std   \n\n  num-of-doors   body-style drive-wheels engine-location  wheel-base  ...  \\\n0          two  convertible          rwd           front      88.600  ...   \n1          two  convertible          rwd           front      88.600  ...   \n2          two    hatchback          rwd           front      94.500  ...   \n3         four        sedan          fwd           front      99.800  ...   \n4         four        sedan          4wd           front      99.400  ...   \n\n   engine-size  fuel-system  bore  stroke compression-ratio horsepower  \\\n0          130         mpfi 3.470   2.680             9.000        111   \n1          130         mpfi 3.470   2.680             9.000        111   \n2          152         mpfi 2.680   3.470             9.000        154   \n3          109         mpfi 3.190   3.400            10.000        102   \n4          136         mpfi 3.190   3.400             8.000        115   \n\n   peak-rpm city-l/100km  highway-l/100km      price  \n0 5,000.000       11.190            8.704 13,495.000  \n1 5,000.000       11.190            8.704 16,500.000  \n2 5,000.000       12.368            9.038 16,500.000  \n3 5,500.000        9.792            7.833 13,950.000  \n4 5,500.000       13.056           10.682 17,450.000  \n\n[5 rows x 26 columns]",
      "text/html": "<div>\n<style scoped>\n    .dataframe tbody tr th:only-of-type {\n        vertical-align: middle;\n    }\n\n    .dataframe tbody tr th {\n        vertical-align: top;\n    }\n\n    .dataframe thead th {\n        text-align: right;\n    }\n</style>\n<table border=\"1\" class=\"dataframe\">\n  <thead>\n    <tr style=\"text-align: right;\">\n      <th></th>\n      <th>symboling</th>\n      <th>normalized-losses</th>\n      <th>make</th>\n      <th>fuel-type</th>\n      <th>aspiration</th>\n      <th>num-of-doors</th>\n      <th>body-style</th>\n      <th>drive-wheels</th>\n      <th>engine-location</th>\n      <th>wheel-base</th>\n      <th>...</th>\n      <th>engine-size</th>\n      <th>fuel-system</th>\n      <th>bore</th>\n      <th>stroke</th>\n      <th>compression-ratio</th>\n      <th>horsepower</th>\n      <th>peak-rpm</th>\n      <th>city-l/100km</th>\n      <th>highway-l/100km</th>\n      <th>price</th>\n    </tr>\n  </thead>\n  <tbody>\n    <tr>\n      <th>0</th>\n      <td>3</td>\n      <td>122</td>\n      <td>alfa-romero</td>\n      <td>gas</td>\n      <td>std</td>\n      <td>two</td>\n      <td>convertible</td>\n      <td>rwd</td>\n      <td>front</td>\n      <td>88.600</td>\n      <td>...</td>\n      <td>130</td>\n      <td>mpfi</td>\n      <td>3.470</td>\n      <td>2.680</td>\n      <td>9.000</td>\n      <td>111</td>\n      <td>5,000.000</td>\n      <td>11.190</td>\n      <td>8.704</td>\n      <td>13,495.000</td>\n    </tr>\n    <tr>\n      <th>1</th>\n      <td>3</td>\n      <td>122</td>\n      <td>alfa-romero</td>\n      <td>gas</td>\n      <td>std</td>\n      <td>two</td>\n      <td>convertible</td>\n      <td>rwd</td>\n      <td>front</td>\n      <td>88.600</td>\n      <td>...</td>\n      <td>130</td>\n      <td>mpfi</td>\n      <td>3.470</td>\n      <td>2.680</td>\n      <td>9.000</td>\n      <td>111</td>\n      <td>5,000.000</td>\n      <td>11.190</td>\n      <td>8.704</td>\n      <td>16,500.000</td>\n    </tr>\n    <tr>\n      <th>2</th>\n      <td>1</td>\n      <td>122</td>\n      <td>alfa-romero</td>\n      <td>gas</td>\n      <td>std</td>\n      <td>two</td>\n      <td>hatchback</td>\n      <td>rwd</td>\n      <td>front</td>\n      <td>94.500</td>\n      <td>...</td>\n      <td>152</td>\n      <td>mpfi</td>\n      <td>2.680</td>\n      <td>3.470</td>\n      <td>9.000</td>\n      <td>154</td>\n      <td>5,000.000</td>\n      <td>12.368</td>\n      <td>9.038</td>\n      <td>16,500.000</td>\n    </tr>\n    <tr>\n      <th>3</th>\n      <td>2</td>\n      <td>164</td>\n      <td>audi</td>\n      <td>gas</td>\n      <td>std</td>\n      <td>four</td>\n      <td>sedan</td>\n      <td>fwd</td>\n      <td>front</td>\n      <td>99.800</td>\n      <td>...</td>\n      <td>109</td>\n      <td>mpfi</td>\n      <td>3.190</td>\n      <td>3.400</td>\n      <td>10.000</td>\n      <td>102</td>\n      <td>5,500.000</td>\n      <td>9.792</td>\n      <td>7.833</td>\n      <td>13,950.000</td>\n    </tr>\n    <tr>\n      <th>4</th>\n      <td>2</td>\n      <td>164</td>\n      <td>audi</td>\n      <td>gas</td>\n      <td>std</td>\n      <td>four</td>\n      <td>sedan</td>\n      <td>4wd</td>\n      <td>front</td>\n      <td>99.400</td>\n      <td>...</td>\n      <td>136</td>\n      <td>mpfi</td>\n      <td>3.190</td>\n      <td>3.400</td>\n      <td>8.000</td>\n      <td>115</td>\n      <td>5,500.000</td>\n      <td>13.056</td>\n      <td>10.682</td>\n      <td>17,450.000</td>\n    </tr>\n  </tbody>\n</table>\n<p>5 rows × 26 columns</p>\n</div>"
     },
     "metadata": {}
    }
   ]
  },
  {
   "cell_type": "markdown",
   "source": "Vamos a normalizar las columnas \"length\", \"width\" y \"height\" en el rango [0,1].",
   "metadata": {
    "cell_id": "6c78085e-c7be-4ce9-8593-3182837ba520",
    "tags": [],
    "deepnote_cell_type": "markdown"
   }
  },
  {
   "cell_type": "code",
   "metadata": {
    "cell_id": "da25d5d9-6449-412b-8eb9-d37902ef8dbf",
    "tags": [],
    "deepnote_to_be_reexecuted": false,
    "source_hash": "f78a9e9c",
    "execution_start": 1645738118457,
    "execution_millis": 3,
    "deepnote_cell_type": "code"
   },
   "source": "df_auto['length'] = df_auto['length']/df_auto['length'].max()\ndf_auto['width'] = df_auto['width']/df_auto['width'].max()\ndf_auto['height'] = df_auto['height']/df_auto['height'].max()",
   "execution_count": 29,
   "outputs": []
  },
  {
   "cell_type": "code",
   "metadata": {
    "cell_id": "a646be06-87da-454b-9208-4bcdcab79afc",
    "tags": [],
    "deepnote_to_be_reexecuted": false,
    "source_hash": "d721c8be",
    "execution_start": 1645738118470,
    "execution_millis": 33,
    "deepnote_cell_type": "code"
   },
   "source": "df_auto[['length', 'width', 'height']].head()",
   "execution_count": 30,
   "outputs": [
    {
     "output_type": "execute_result",
     "execution_count": 30,
     "data": {
      "application/vnd.deepnote.dataframe.v3+json": {
       "column_count": 3,
       "row_count": 5,
       "columns": [
        {
         "name": "length",
         "dtype": "float64",
         "stats": {
          "unique_count": 3,
          "nan_count": 0,
          "min": "0.8111484863046613",
          "max": "0.8486304661220567",
          "histogram": [
           {
            "bin_start": 0.8111484863046613,
            "bin_end": 0.8148966842864008,
            "count": 2
           },
           {
            "bin_start": 0.8148966842864008,
            "bin_end": 0.8186448822681404,
            "count": 0
           },
           {
            "bin_start": 0.8186448822681404,
            "bin_end": 0.8223930802498799,
            "count": 0
           },
           {
            "bin_start": 0.8223930802498799,
            "bin_end": 0.8261412782316194,
            "count": 1
           },
           {
            "bin_start": 0.8261412782316194,
            "bin_end": 0.8298894762133591,
            "count": 0
           },
           {
            "bin_start": 0.8298894762133591,
            "bin_end": 0.8336376741950986,
            "count": 0
           },
           {
            "bin_start": 0.8336376741950986,
            "bin_end": 0.8373858721768381,
            "count": 0
           },
           {
            "bin_start": 0.8373858721768381,
            "bin_end": 0.8411340701585777,
            "count": 0
           },
           {
            "bin_start": 0.8411340701585777,
            "bin_end": 0.8448822681403172,
            "count": 0
           },
           {
            "bin_start": 0.8448822681403172,
            "bin_end": 0.8486304661220567,
            "count": 2
           }
          ]
         }
        },
        {
         "name": "width",
         "dtype": "float64",
         "stats": {
          "unique_count": 4,
          "nan_count": 0,
          "min": "0.8902777777777777",
          "max": "0.9222222222222223",
          "histogram": [
           {
            "bin_start": 0.8902777777777777,
            "bin_end": 0.8934722222222222,
            "count": 2
           },
           {
            "bin_start": 0.8934722222222222,
            "bin_end": 0.8966666666666666,
            "count": 0
           },
           {
            "bin_start": 0.8966666666666666,
            "bin_end": 0.8998611111111111,
            "count": 0
           },
           {
            "bin_start": 0.8998611111111111,
            "bin_end": 0.9030555555555555,
            "count": 0
           },
           {
            "bin_start": 0.9030555555555555,
            "bin_end": 0.90625,
            "count": 0
           },
           {
            "bin_start": 0.90625,
            "bin_end": 0.9094444444444445,
            "count": 0
           },
           {
            "bin_start": 0.9094444444444445,
            "bin_end": 0.9126388888888889,
            "count": 1
           },
           {
            "bin_start": 0.9126388888888889,
            "bin_end": 0.9158333333333334,
            "count": 0
           },
           {
            "bin_start": 0.9158333333333334,
            "bin_end": 0.9190277777777778,
            "count": 0
           },
           {
            "bin_start": 0.9190277777777778,
            "bin_end": 0.9222222222222223,
            "count": 2
           }
          ]
         }
        },
        {
         "name": "height",
         "dtype": "float64",
         "stats": {
          "unique_count": 3,
          "nan_count": 0,
          "min": "0.8160535117056856",
          "max": "0.9080267558528428",
          "histogram": [
           {
            "bin_start": 0.8160535117056856,
            "bin_end": 0.8252508361204014,
            "count": 2
           },
           {
            "bin_start": 0.8252508361204014,
            "bin_end": 0.8344481605351171,
            "count": 0
           },
           {
            "bin_start": 0.8344481605351171,
            "bin_end": 0.8436454849498327,
            "count": 0
           },
           {
            "bin_start": 0.8436454849498327,
            "bin_end": 0.8528428093645485,
            "count": 0
           },
           {
            "bin_start": 0.8528428093645485,
            "bin_end": 0.8620401337792643,
            "count": 0
           },
           {
            "bin_start": 0.8620401337792643,
            "bin_end": 0.8712374581939799,
            "count": 0
           },
           {
            "bin_start": 0.8712374581939799,
            "bin_end": 0.8804347826086956,
            "count": 1
           },
           {
            "bin_start": 0.8804347826086956,
            "bin_end": 0.8896321070234113,
            "count": 0
           },
           {
            "bin_start": 0.8896321070234113,
            "bin_end": 0.8988294314381271,
            "count": 0
           },
           {
            "bin_start": 0.8988294314381271,
            "bin_end": 0.9080267558528428,
            "count": 2
           }
          ]
         }
        },
        {
         "name": "_deepnote_index_column",
         "dtype": "int64"
        }
       ],
       "rows": [
        {
         "length": 0.8111484863046613,
         "width": 0.8902777777777777,
         "height": 0.8160535117056856,
         "_deepnote_index_column": 0
        },
        {
         "length": 0.8111484863046613,
         "width": 0.8902777777777777,
         "height": 0.8160535117056856,
         "_deepnote_index_column": 1
        },
        {
         "length": 0.8226814031715521,
         "width": 0.9097222222222222,
         "height": 0.8762541806020067,
         "_deepnote_index_column": 2
        },
        {
         "length": 0.8486304661220567,
         "width": 0.9194444444444445,
         "height": 0.9080267558528428,
         "_deepnote_index_column": 3
        },
        {
         "length": 0.8486304661220567,
         "width": 0.9222222222222223,
         "height": 0.9080267558528428,
         "_deepnote_index_column": 4
        }
       ]
      },
      "text/plain": "   length  width  height\n0   0.811  0.890   0.816\n1   0.811  0.890   0.816\n2   0.823  0.910   0.876\n3   0.849  0.919   0.908\n4   0.849  0.922   0.908",
      "text/html": "<div>\n<style scoped>\n    .dataframe tbody tr th:only-of-type {\n        vertical-align: middle;\n    }\n\n    .dataframe tbody tr th {\n        vertical-align: top;\n    }\n\n    .dataframe thead th {\n        text-align: right;\n    }\n</style>\n<table border=\"1\" class=\"dataframe\">\n  <thead>\n    <tr style=\"text-align: right;\">\n      <th></th>\n      <th>length</th>\n      <th>width</th>\n      <th>height</th>\n    </tr>\n  </thead>\n  <tbody>\n    <tr>\n      <th>0</th>\n      <td>0.811</td>\n      <td>0.890</td>\n      <td>0.816</td>\n    </tr>\n    <tr>\n      <th>1</th>\n      <td>0.811</td>\n      <td>0.890</td>\n      <td>0.816</td>\n    </tr>\n    <tr>\n      <th>2</th>\n      <td>0.823</td>\n      <td>0.910</td>\n      <td>0.876</td>\n    </tr>\n    <tr>\n      <th>3</th>\n      <td>0.849</td>\n      <td>0.919</td>\n      <td>0.908</td>\n    </tr>\n    <tr>\n      <th>4</th>\n      <td>0.849</td>\n      <td>0.922</td>\n      <td>0.908</td>\n    </tr>\n  </tbody>\n</table>\n</div>"
     },
     "metadata": {}
    }
   ]
  },
  {
   "cell_type": "markdown",
   "source": "## Binning Horsepower",
   "metadata": {
    "cell_id": "d9dbff8c-06d5-4080-8c0c-d54c7a47113a",
    "tags": [],
    "is_collapsed": false,
    "deepnote_cell_type": "text-cell-h2"
   }
  },
  {
   "cell_type": "code",
   "metadata": {
    "cell_id": "63fd82b9-adc1-456d-b5e2-027f22543cbd",
    "tags": [],
    "deepnote_to_be_reexecuted": false,
    "source_hash": "763f511c",
    "execution_start": 1645738118507,
    "execution_millis": 152,
    "deepnote_cell_type": "code"
   },
   "source": "df_auto.head()",
   "execution_count": 31,
   "outputs": [
    {
     "output_type": "execute_result",
     "execution_count": 31,
     "data": {
      "application/vnd.deepnote.dataframe.v3+json": {
       "column_count": 26,
       "row_count": 5,
       "columns": [
        {
         "name": "symboling",
         "dtype": "int64",
         "stats": {
          "unique_count": 3,
          "nan_count": 0,
          "min": "1",
          "max": "3",
          "histogram": [
           {
            "bin_start": 1,
            "bin_end": 1.2,
            "count": 1
           },
           {
            "bin_start": 1.2,
            "bin_end": 1.4,
            "count": 0
           },
           {
            "bin_start": 1.4,
            "bin_end": 1.6,
            "count": 0
           },
           {
            "bin_start": 1.6,
            "bin_end": 1.8,
            "count": 0
           },
           {
            "bin_start": 1.8,
            "bin_end": 2,
            "count": 0
           },
           {
            "bin_start": 2,
            "bin_end": 2.2,
            "count": 2
           },
           {
            "bin_start": 2.2,
            "bin_end": 2.4000000000000004,
            "count": 0
           },
           {
            "bin_start": 2.4000000000000004,
            "bin_end": 2.6,
            "count": 0
           },
           {
            "bin_start": 2.6,
            "bin_end": 2.8,
            "count": 0
           },
           {
            "bin_start": 2.8,
            "bin_end": 3,
            "count": 2
           }
          ]
         }
        },
        {
         "name": "normalized-losses",
         "dtype": "int64",
         "stats": {
          "unique_count": 2,
          "nan_count": 0,
          "min": "122",
          "max": "164",
          "histogram": [
           {
            "bin_start": 122,
            "bin_end": 126.2,
            "count": 3
           },
           {
            "bin_start": 126.2,
            "bin_end": 130.4,
            "count": 0
           },
           {
            "bin_start": 130.4,
            "bin_end": 134.6,
            "count": 0
           },
           {
            "bin_start": 134.6,
            "bin_end": 138.8,
            "count": 0
           },
           {
            "bin_start": 138.8,
            "bin_end": 143,
            "count": 0
           },
           {
            "bin_start": 143,
            "bin_end": 147.2,
            "count": 0
           },
           {
            "bin_start": 147.2,
            "bin_end": 151.4,
            "count": 0
           },
           {
            "bin_start": 151.4,
            "bin_end": 155.6,
            "count": 0
           },
           {
            "bin_start": 155.6,
            "bin_end": 159.8,
            "count": 0
           },
           {
            "bin_start": 159.8,
            "bin_end": 164,
            "count": 2
           }
          ]
         }
        },
        {
         "name": "make",
         "dtype": "object",
         "stats": {
          "unique_count": 2,
          "nan_count": 0,
          "categories": [
           {
            "name": "alfa-romero",
            "count": 3
           },
           {
            "name": "audi",
            "count": 2
           }
          ]
         }
        },
        {
         "name": "fuel-type",
         "dtype": "category",
         "stats": {
          "unique_count": 1,
          "nan_count": 0,
          "categories": [
           {
            "name": "gas",
            "count": 5
           }
          ]
         }
        },
        {
         "name": "aspiration",
         "dtype": "category",
         "stats": {
          "unique_count": 1,
          "nan_count": 0,
          "categories": [
           {
            "name": "std",
            "count": 5
           }
          ]
         }
        },
        {
         "name": "num-of-doors",
         "dtype": "category",
         "stats": {
          "unique_count": 2,
          "nan_count": 0,
          "categories": [
           {
            "name": "two",
            "count": 3
           },
           {
            "name": "four",
            "count": 2
           }
          ]
         }
        },
        {
         "name": "body-style",
         "dtype": "category",
         "stats": {
          "unique_count": 3,
          "nan_count": 0,
          "categories": [
           {
            "name": "convertible",
            "count": 2
           },
           {
            "name": "sedan",
            "count": 2
           },
           {
            "name": "hatchback",
            "count": 1
           }
          ]
         }
        },
        {
         "name": "drive-wheels",
         "dtype": "category",
         "stats": {
          "unique_count": 3,
          "nan_count": 0,
          "categories": [
           {
            "name": "rwd",
            "count": 3
           },
           {
            "name": "fwd",
            "count": 1
           },
           {
            "name": "4wd",
            "count": 1
           }
          ]
         }
        },
        {
         "name": "engine-location",
         "dtype": "category",
         "stats": {
          "unique_count": 1,
          "nan_count": 0,
          "categories": [
           {
            "name": "front",
            "count": 5
           }
          ]
         }
        },
        {
         "name": "wheel-base",
         "dtype": "float64",
         "stats": {
          "unique_count": 4,
          "nan_count": 0,
          "min": "88.6",
          "max": "99.8",
          "histogram": [
           {
            "bin_start": 88.6,
            "bin_end": 89.72,
            "count": 2
           },
           {
            "bin_start": 89.72,
            "bin_end": 90.83999999999999,
            "count": 0
           },
           {
            "bin_start": 90.83999999999999,
            "bin_end": 91.96,
            "count": 0
           },
           {
            "bin_start": 91.96,
            "bin_end": 93.08,
            "count": 0
           },
           {
            "bin_start": 93.08,
            "bin_end": 94.19999999999999,
            "count": 0
           },
           {
            "bin_start": 94.19999999999999,
            "bin_end": 95.32,
            "count": 1
           },
           {
            "bin_start": 95.32,
            "bin_end": 96.44,
            "count": 0
           },
           {
            "bin_start": 96.44,
            "bin_end": 97.56,
            "count": 0
           },
           {
            "bin_start": 97.56,
            "bin_end": 98.67999999999999,
            "count": 0
           },
           {
            "bin_start": 98.67999999999999,
            "bin_end": 99.8,
            "count": 2
           }
          ]
         }
        },
        {
         "name": "length",
         "dtype": "float64",
         "stats": {
          "unique_count": 3,
          "nan_count": 0,
          "min": "0.8111484863046613",
          "max": "0.8486304661220567",
          "histogram": [
           {
            "bin_start": 0.8111484863046613,
            "bin_end": 0.8148966842864008,
            "count": 2
           },
           {
            "bin_start": 0.8148966842864008,
            "bin_end": 0.8186448822681404,
            "count": 0
           },
           {
            "bin_start": 0.8186448822681404,
            "bin_end": 0.8223930802498799,
            "count": 0
           },
           {
            "bin_start": 0.8223930802498799,
            "bin_end": 0.8261412782316194,
            "count": 1
           },
           {
            "bin_start": 0.8261412782316194,
            "bin_end": 0.8298894762133591,
            "count": 0
           },
           {
            "bin_start": 0.8298894762133591,
            "bin_end": 0.8336376741950986,
            "count": 0
           },
           {
            "bin_start": 0.8336376741950986,
            "bin_end": 0.8373858721768381,
            "count": 0
           },
           {
            "bin_start": 0.8373858721768381,
            "bin_end": 0.8411340701585777,
            "count": 0
           },
           {
            "bin_start": 0.8411340701585777,
            "bin_end": 0.8448822681403172,
            "count": 0
           },
           {
            "bin_start": 0.8448822681403172,
            "bin_end": 0.8486304661220567,
            "count": 2
           }
          ]
         }
        },
        {
         "name": "width",
         "dtype": "float64",
         "stats": {
          "unique_count": 4,
          "nan_count": 0,
          "min": "0.8902777777777777",
          "max": "0.9222222222222223",
          "histogram": [
           {
            "bin_start": 0.8902777777777777,
            "bin_end": 0.8934722222222222,
            "count": 2
           },
           {
            "bin_start": 0.8934722222222222,
            "bin_end": 0.8966666666666666,
            "count": 0
           },
           {
            "bin_start": 0.8966666666666666,
            "bin_end": 0.8998611111111111,
            "count": 0
           },
           {
            "bin_start": 0.8998611111111111,
            "bin_end": 0.9030555555555555,
            "count": 0
           },
           {
            "bin_start": 0.9030555555555555,
            "bin_end": 0.90625,
            "count": 0
           },
           {
            "bin_start": 0.90625,
            "bin_end": 0.9094444444444445,
            "count": 0
           },
           {
            "bin_start": 0.9094444444444445,
            "bin_end": 0.9126388888888889,
            "count": 1
           },
           {
            "bin_start": 0.9126388888888889,
            "bin_end": 0.9158333333333334,
            "count": 0
           },
           {
            "bin_start": 0.9158333333333334,
            "bin_end": 0.9190277777777778,
            "count": 0
           },
           {
            "bin_start": 0.9190277777777778,
            "bin_end": 0.9222222222222223,
            "count": 2
           }
          ]
         }
        },
        {
         "name": "height",
         "dtype": "float64",
         "stats": {
          "unique_count": 3,
          "nan_count": 0,
          "min": "0.8160535117056856",
          "max": "0.9080267558528428",
          "histogram": [
           {
            "bin_start": 0.8160535117056856,
            "bin_end": 0.8252508361204014,
            "count": 2
           },
           {
            "bin_start": 0.8252508361204014,
            "bin_end": 0.8344481605351171,
            "count": 0
           },
           {
            "bin_start": 0.8344481605351171,
            "bin_end": 0.8436454849498327,
            "count": 0
           },
           {
            "bin_start": 0.8436454849498327,
            "bin_end": 0.8528428093645485,
            "count": 0
           },
           {
            "bin_start": 0.8528428093645485,
            "bin_end": 0.8620401337792643,
            "count": 0
           },
           {
            "bin_start": 0.8620401337792643,
            "bin_end": 0.8712374581939799,
            "count": 0
           },
           {
            "bin_start": 0.8712374581939799,
            "bin_end": 0.8804347826086956,
            "count": 1
           },
           {
            "bin_start": 0.8804347826086956,
            "bin_end": 0.8896321070234113,
            "count": 0
           },
           {
            "bin_start": 0.8896321070234113,
            "bin_end": 0.8988294314381271,
            "count": 0
           },
           {
            "bin_start": 0.8988294314381271,
            "bin_end": 0.9080267558528428,
            "count": 2
           }
          ]
         }
        },
        {
         "name": "curb-weight",
         "dtype": "int64",
         "stats": {
          "unique_count": 4,
          "nan_count": 0,
          "min": "2337",
          "max": "2824",
          "histogram": [
           {
            "bin_start": 2337,
            "bin_end": 2385.7,
            "count": 1
           },
           {
            "bin_start": 2385.7,
            "bin_end": 2434.4,
            "count": 0
           },
           {
            "bin_start": 2434.4,
            "bin_end": 2483.1,
            "count": 0
           },
           {
            "bin_start": 2483.1,
            "bin_end": 2531.8,
            "count": 0
           },
           {
            "bin_start": 2531.8,
            "bin_end": 2580.5,
            "count": 2
           },
           {
            "bin_start": 2580.5,
            "bin_end": 2629.2,
            "count": 0
           },
           {
            "bin_start": 2629.2,
            "bin_end": 2677.9,
            "count": 0
           },
           {
            "bin_start": 2677.9,
            "bin_end": 2726.6,
            "count": 0
           },
           {
            "bin_start": 2726.6,
            "bin_end": 2775.3,
            "count": 0
           },
           {
            "bin_start": 2775.3,
            "bin_end": 2824,
            "count": 2
           }
          ]
         }
        },
        {
         "name": "engine-type",
         "dtype": "category",
         "stats": {
          "unique_count": 3,
          "nan_count": 0,
          "categories": [
           {
            "name": "dohc",
            "count": 2
           },
           {
            "name": "ohc",
            "count": 2
           },
           {
            "name": "ohcv",
            "count": 1
           }
          ]
         }
        },
        {
         "name": "num-of-cylinders",
         "dtype": "category",
         "stats": {
          "unique_count": 3,
          "nan_count": 0,
          "categories": [
           {
            "name": "four",
            "count": 3
           },
           {
            "name": "six",
            "count": 1
           },
           {
            "name": "five",
            "count": 1
           }
          ]
         }
        },
        {
         "name": "engine-size",
         "dtype": "int64",
         "stats": {
          "unique_count": 4,
          "nan_count": 0,
          "min": "109",
          "max": "152",
          "histogram": [
           {
            "bin_start": 109,
            "bin_end": 113.3,
            "count": 1
           },
           {
            "bin_start": 113.3,
            "bin_end": 117.6,
            "count": 0
           },
           {
            "bin_start": 117.6,
            "bin_end": 121.9,
            "count": 0
           },
           {
            "bin_start": 121.9,
            "bin_end": 126.2,
            "count": 0
           },
           {
            "bin_start": 126.2,
            "bin_end": 130.5,
            "count": 2
           },
           {
            "bin_start": 130.5,
            "bin_end": 134.8,
            "count": 0
           },
           {
            "bin_start": 134.8,
            "bin_end": 139.1,
            "count": 1
           },
           {
            "bin_start": 139.1,
            "bin_end": 143.4,
            "count": 0
           },
           {
            "bin_start": 143.4,
            "bin_end": 147.7,
            "count": 0
           },
           {
            "bin_start": 147.7,
            "bin_end": 152,
            "count": 1
           }
          ]
         }
        },
        {
         "name": "fuel-system",
         "dtype": "object",
         "stats": {
          "unique_count": 1,
          "nan_count": 0,
          "categories": [
           {
            "name": "mpfi",
            "count": 5
           }
          ]
         }
        },
        {
         "name": "bore",
         "dtype": "float64",
         "stats": {
          "unique_count": 3,
          "nan_count": 0,
          "min": "2.68",
          "max": "3.47",
          "histogram": [
           {
            "bin_start": 2.68,
            "bin_end": 2.7590000000000003,
            "count": 1
           },
           {
            "bin_start": 2.7590000000000003,
            "bin_end": 2.838,
            "count": 0
           },
           {
            "bin_start": 2.838,
            "bin_end": 2.9170000000000003,
            "count": 0
           },
           {
            "bin_start": 2.9170000000000003,
            "bin_end": 2.996,
            "count": 0
           },
           {
            "bin_start": 2.996,
            "bin_end": 3.075,
            "count": 0
           },
           {
            "bin_start": 3.075,
            "bin_end": 3.154,
            "count": 0
           },
           {
            "bin_start": 3.154,
            "bin_end": 3.233,
            "count": 2
           },
           {
            "bin_start": 3.233,
            "bin_end": 3.3120000000000003,
            "count": 0
           },
           {
            "bin_start": 3.3120000000000003,
            "bin_end": 3.391,
            "count": 0
           },
           {
            "bin_start": 3.391,
            "bin_end": 3.47,
            "count": 2
           }
          ]
         }
        },
        {
         "name": "stroke",
         "dtype": "float64",
         "stats": {
          "unique_count": 3,
          "nan_count": 0,
          "min": "2.68",
          "max": "3.47",
          "histogram": [
           {
            "bin_start": 2.68,
            "bin_end": 2.7590000000000003,
            "count": 2
           },
           {
            "bin_start": 2.7590000000000003,
            "bin_end": 2.838,
            "count": 0
           },
           {
            "bin_start": 2.838,
            "bin_end": 2.9170000000000003,
            "count": 0
           },
           {
            "bin_start": 2.9170000000000003,
            "bin_end": 2.996,
            "count": 0
           },
           {
            "bin_start": 2.996,
            "bin_end": 3.075,
            "count": 0
           },
           {
            "bin_start": 3.075,
            "bin_end": 3.154,
            "count": 0
           },
           {
            "bin_start": 3.154,
            "bin_end": 3.233,
            "count": 0
           },
           {
            "bin_start": 3.233,
            "bin_end": 3.3120000000000003,
            "count": 0
           },
           {
            "bin_start": 3.3120000000000003,
            "bin_end": 3.391,
            "count": 0
           },
           {
            "bin_start": 3.391,
            "bin_end": 3.47,
            "count": 3
           }
          ]
         }
        },
        {
         "name": "compression-ratio",
         "dtype": "float64",
         "stats": {
          "unique_count": 3,
          "nan_count": 0,
          "min": "8.0",
          "max": "10.0",
          "histogram": [
           {
            "bin_start": 8,
            "bin_end": 8.2,
            "count": 1
           },
           {
            "bin_start": 8.2,
            "bin_end": 8.4,
            "count": 0
           },
           {
            "bin_start": 8.4,
            "bin_end": 8.6,
            "count": 0
           },
           {
            "bin_start": 8.6,
            "bin_end": 8.8,
            "count": 0
           },
           {
            "bin_start": 8.8,
            "bin_end": 9,
            "count": 0
           },
           {
            "bin_start": 9,
            "bin_end": 9.2,
            "count": 3
           },
           {
            "bin_start": 9.2,
            "bin_end": 9.4,
            "count": 0
           },
           {
            "bin_start": 9.4,
            "bin_end": 9.6,
            "count": 0
           },
           {
            "bin_start": 9.6,
            "bin_end": 9.8,
            "count": 0
           },
           {
            "bin_start": 9.8,
            "bin_end": 10,
            "count": 1
           }
          ]
         }
        },
        {
         "name": "horsepower",
         "dtype": "int64",
         "stats": {
          "unique_count": 4,
          "nan_count": 0,
          "min": "102",
          "max": "154",
          "histogram": [
           {
            "bin_start": 102,
            "bin_end": 107.2,
            "count": 1
           },
           {
            "bin_start": 107.2,
            "bin_end": 112.4,
            "count": 2
           },
           {
            "bin_start": 112.4,
            "bin_end": 117.6,
            "count": 1
           },
           {
            "bin_start": 117.6,
            "bin_end": 122.8,
            "count": 0
           },
           {
            "bin_start": 122.8,
            "bin_end": 128,
            "count": 0
           },
           {
            "bin_start": 128,
            "bin_end": 133.2,
            "count": 0
           },
           {
            "bin_start": 133.2,
            "bin_end": 138.4,
            "count": 0
           },
           {
            "bin_start": 138.4,
            "bin_end": 143.6,
            "count": 0
           },
           {
            "bin_start": 143.6,
            "bin_end": 148.8,
            "count": 0
           },
           {
            "bin_start": 148.8,
            "bin_end": 154,
            "count": 1
           }
          ]
         }
        },
        {
         "name": "peak-rpm",
         "dtype": "float64",
         "stats": {
          "unique_count": 2,
          "nan_count": 0,
          "min": "5000.0",
          "max": "5500.0",
          "histogram": [
           {
            "bin_start": 5000,
            "bin_end": 5050,
            "count": 3
           },
           {
            "bin_start": 5050,
            "bin_end": 5100,
            "count": 0
           },
           {
            "bin_start": 5100,
            "bin_end": 5150,
            "count": 0
           },
           {
            "bin_start": 5150,
            "bin_end": 5200,
            "count": 0
           },
           {
            "bin_start": 5200,
            "bin_end": 5250,
            "count": 0
           },
           {
            "bin_start": 5250,
            "bin_end": 5300,
            "count": 0
           },
           {
            "bin_start": 5300,
            "bin_end": 5350,
            "count": 0
           },
           {
            "bin_start": 5350,
            "bin_end": 5400,
            "count": 0
           },
           {
            "bin_start": 5400,
            "bin_end": 5450,
            "count": 0
           },
           {
            "bin_start": 5450,
            "bin_end": 5500,
            "count": 2
           }
          ]
         }
        },
        {
         "name": "city-l/100km",
         "dtype": "float64",
         "stats": {
          "unique_count": 4,
          "nan_count": 0,
          "min": "9.791666666666666",
          "max": "13.055555555555555",
          "histogram": [
           {
            "bin_start": 9.791666666666666,
            "bin_end": 10.118055555555555,
            "count": 1
           },
           {
            "bin_start": 10.118055555555555,
            "bin_end": 10.444444444444445,
            "count": 0
           },
           {
            "bin_start": 10.444444444444445,
            "bin_end": 10.770833333333332,
            "count": 0
           },
           {
            "bin_start": 10.770833333333332,
            "bin_end": 11.097222222222221,
            "count": 0
           },
           {
            "bin_start": 11.097222222222221,
            "bin_end": 11.42361111111111,
            "count": 2
           },
           {
            "bin_start": 11.42361111111111,
            "bin_end": 11.75,
            "count": 0
           },
           {
            "bin_start": 11.75,
            "bin_end": 12.07638888888889,
            "count": 0
           },
           {
            "bin_start": 12.07638888888889,
            "bin_end": 12.402777777777779,
            "count": 1
           },
           {
            "bin_start": 12.402777777777779,
            "bin_end": 12.729166666666666,
            "count": 0
           },
           {
            "bin_start": 12.729166666666666,
            "bin_end": 13.055555555555555,
            "count": 1
           }
          ]
         }
        },
        {
         "name": "highway-l/100km",
         "dtype": "float64",
         "stats": {
          "unique_count": 4,
          "nan_count": 0,
          "min": "7.833333333333333",
          "max": "10.681818181818182",
          "histogram": [
           {
            "bin_start": 7.833333333333333,
            "bin_end": 8.118181818181817,
            "count": 1
           },
           {
            "bin_start": 8.118181818181817,
            "bin_end": 8.403030303030302,
            "count": 0
           },
           {
            "bin_start": 8.403030303030302,
            "bin_end": 8.687878787878788,
            "count": 0
           },
           {
            "bin_start": 8.687878787878788,
            "bin_end": 8.972727272727273,
            "count": 2
           },
           {
            "bin_start": 8.972727272727273,
            "bin_end": 9.257575757575758,
            "count": 1
           },
           {
            "bin_start": 9.257575757575758,
            "bin_end": 9.542424242424243,
            "count": 0
           },
           {
            "bin_start": 9.542424242424243,
            "bin_end": 9.827272727272726,
            "count": 0
           },
           {
            "bin_start": 9.827272727272726,
            "bin_end": 10.112121212121211,
            "count": 0
           },
           {
            "bin_start": 10.112121212121211,
            "bin_end": 10.396969696969697,
            "count": 0
           },
           {
            "bin_start": 10.396969696969697,
            "bin_end": 10.681818181818182,
            "count": 1
           }
          ]
         }
        },
        {
         "name": "price",
         "dtype": "float64",
         "stats": {
          "unique_count": 4,
          "nan_count": 0,
          "min": "13495.0",
          "max": "17450.0",
          "histogram": [
           {
            "bin_start": 13495,
            "bin_end": 13890.5,
            "count": 1
           },
           {
            "bin_start": 13890.5,
            "bin_end": 14286,
            "count": 1
           },
           {
            "bin_start": 14286,
            "bin_end": 14681.5,
            "count": 0
           },
           {
            "bin_start": 14681.5,
            "bin_end": 15077,
            "count": 0
           },
           {
            "bin_start": 15077,
            "bin_end": 15472.5,
            "count": 0
           },
           {
            "bin_start": 15472.5,
            "bin_end": 15868,
            "count": 0
           },
           {
            "bin_start": 15868,
            "bin_end": 16263.5,
            "count": 0
           },
           {
            "bin_start": 16263.5,
            "bin_end": 16659,
            "count": 2
           },
           {
            "bin_start": 16659,
            "bin_end": 17054.5,
            "count": 0
           },
           {
            "bin_start": 17054.5,
            "bin_end": 17450,
            "count": 1
           }
          ]
         }
        },
        {
         "name": "_deepnote_index_column",
         "dtype": "int64"
        }
       ],
       "rows": [
        {
         "symboling": 3,
         "normalized-losses": 122,
         "make": "alfa-romero",
         "fuel-type": "gas",
         "aspiration": "std",
         "num-of-doors": "two",
         "body-style": "convertible",
         "drive-wheels": "rwd",
         "engine-location": "front",
         "wheel-base": 88.6,
         "length": 0.8111484863046613,
         "width": 0.8902777777777777,
         "height": 0.8160535117056856,
         "curb-weight": 2548,
         "engine-type": "dohc",
         "num-of-cylinders": "four",
         "engine-size": 130,
         "fuel-system": "mpfi",
         "bore": 3.47,
         "stroke": 2.68,
         "compression-ratio": 9,
         "horsepower": 111,
         "peak-rpm": 5000,
         "city-l/100km": 11.19047619047619,
         "highway-l/100km": 8.703703703703704,
         "price": 13495,
         "_deepnote_index_column": 0
        },
        {
         "symboling": 3,
         "normalized-losses": 122,
         "make": "alfa-romero",
         "fuel-type": "gas",
         "aspiration": "std",
         "num-of-doors": "two",
         "body-style": "convertible",
         "drive-wheels": "rwd",
         "engine-location": "front",
         "wheel-base": 88.6,
         "length": 0.8111484863046613,
         "width": 0.8902777777777777,
         "height": 0.8160535117056856,
         "curb-weight": 2548,
         "engine-type": "dohc",
         "num-of-cylinders": "four",
         "engine-size": 130,
         "fuel-system": "mpfi",
         "bore": 3.47,
         "stroke": 2.68,
         "compression-ratio": 9,
         "horsepower": 111,
         "peak-rpm": 5000,
         "city-l/100km": 11.19047619047619,
         "highway-l/100km": 8.703703703703704,
         "price": 16500,
         "_deepnote_index_column": 1
        },
        {
         "symboling": 1,
         "normalized-losses": 122,
         "make": "alfa-romero",
         "fuel-type": "gas",
         "aspiration": "std",
         "num-of-doors": "two",
         "body-style": "hatchback",
         "drive-wheels": "rwd",
         "engine-location": "front",
         "wheel-base": 94.5,
         "length": 0.8226814031715521,
         "width": 0.9097222222222222,
         "height": 0.8762541806020067,
         "curb-weight": 2823,
         "engine-type": "ohcv",
         "num-of-cylinders": "six",
         "engine-size": 152,
         "fuel-system": "mpfi",
         "bore": 2.68,
         "stroke": 3.47,
         "compression-ratio": 9,
         "horsepower": 154,
         "peak-rpm": 5000,
         "city-l/100km": 12.368421052631579,
         "highway-l/100km": 9.038461538461538,
         "price": 16500,
         "_deepnote_index_column": 2
        },
        {
         "symboling": 2,
         "normalized-losses": 164,
         "make": "audi",
         "fuel-type": "gas",
         "aspiration": "std",
         "num-of-doors": "four",
         "body-style": "sedan",
         "drive-wheels": "fwd",
         "engine-location": "front",
         "wheel-base": 99.8,
         "length": 0.8486304661220567,
         "width": 0.9194444444444445,
         "height": 0.9080267558528428,
         "curb-weight": 2337,
         "engine-type": "ohc",
         "num-of-cylinders": "four",
         "engine-size": 109,
         "fuel-system": "mpfi",
         "bore": 3.19,
         "stroke": 3.4,
         "compression-ratio": 10,
         "horsepower": 102,
         "peak-rpm": 5500,
         "city-l/100km": 9.791666666666666,
         "highway-l/100km": 7.833333333333333,
         "price": 13950,
         "_deepnote_index_column": 3
        },
        {
         "symboling": 2,
         "normalized-losses": 164,
         "make": "audi",
         "fuel-type": "gas",
         "aspiration": "std",
         "num-of-doors": "four",
         "body-style": "sedan",
         "drive-wheels": "4wd",
         "engine-location": "front",
         "wheel-base": 99.4,
         "length": 0.8486304661220567,
         "width": 0.9222222222222223,
         "height": 0.9080267558528428,
         "curb-weight": 2824,
         "engine-type": "ohc",
         "num-of-cylinders": "five",
         "engine-size": 136,
         "fuel-system": "mpfi",
         "bore": 3.19,
         "stroke": 3.4,
         "compression-ratio": 8,
         "horsepower": 115,
         "peak-rpm": 5500,
         "city-l/100km": 13.055555555555555,
         "highway-l/100km": 10.681818181818182,
         "price": 17450,
         "_deepnote_index_column": 4
        }
       ]
      },
      "text/plain": "   symboling  normalized-losses         make fuel-type aspiration  \\\n0          3                122  alfa-romero       gas        std   \n1          3                122  alfa-romero       gas        std   \n2          1                122  alfa-romero       gas        std   \n3          2                164         audi       gas        std   \n4          2                164         audi       gas        std   \n\n  num-of-doors   body-style drive-wheels engine-location  wheel-base  ...  \\\n0          two  convertible          rwd           front      88.600  ...   \n1          two  convertible          rwd           front      88.600  ...   \n2          two    hatchback          rwd           front      94.500  ...   \n3         four        sedan          fwd           front      99.800  ...   \n4         four        sedan          4wd           front      99.400  ...   \n\n   engine-size  fuel-system  bore  stroke compression-ratio horsepower  \\\n0          130         mpfi 3.470   2.680             9.000        111   \n1          130         mpfi 3.470   2.680             9.000        111   \n2          152         mpfi 2.680   3.470             9.000        154   \n3          109         mpfi 3.190   3.400            10.000        102   \n4          136         mpfi 3.190   3.400             8.000        115   \n\n   peak-rpm city-l/100km  highway-l/100km      price  \n0 5,000.000       11.190            8.704 13,495.000  \n1 5,000.000       11.190            8.704 16,500.000  \n2 5,000.000       12.368            9.038 16,500.000  \n3 5,500.000        9.792            7.833 13,950.000  \n4 5,500.000       13.056           10.682 17,450.000  \n\n[5 rows x 26 columns]",
      "text/html": "<div>\n<style scoped>\n    .dataframe tbody tr th:only-of-type {\n        vertical-align: middle;\n    }\n\n    .dataframe tbody tr th {\n        vertical-align: top;\n    }\n\n    .dataframe thead th {\n        text-align: right;\n    }\n</style>\n<table border=\"1\" class=\"dataframe\">\n  <thead>\n    <tr style=\"text-align: right;\">\n      <th></th>\n      <th>symboling</th>\n      <th>normalized-losses</th>\n      <th>make</th>\n      <th>fuel-type</th>\n      <th>aspiration</th>\n      <th>num-of-doors</th>\n      <th>body-style</th>\n      <th>drive-wheels</th>\n      <th>engine-location</th>\n      <th>wheel-base</th>\n      <th>...</th>\n      <th>engine-size</th>\n      <th>fuel-system</th>\n      <th>bore</th>\n      <th>stroke</th>\n      <th>compression-ratio</th>\n      <th>horsepower</th>\n      <th>peak-rpm</th>\n      <th>city-l/100km</th>\n      <th>highway-l/100km</th>\n      <th>price</th>\n    </tr>\n  </thead>\n  <tbody>\n    <tr>\n      <th>0</th>\n      <td>3</td>\n      <td>122</td>\n      <td>alfa-romero</td>\n      <td>gas</td>\n      <td>std</td>\n      <td>two</td>\n      <td>convertible</td>\n      <td>rwd</td>\n      <td>front</td>\n      <td>88.600</td>\n      <td>...</td>\n      <td>130</td>\n      <td>mpfi</td>\n      <td>3.470</td>\n      <td>2.680</td>\n      <td>9.000</td>\n      <td>111</td>\n      <td>5,000.000</td>\n      <td>11.190</td>\n      <td>8.704</td>\n      <td>13,495.000</td>\n    </tr>\n    <tr>\n      <th>1</th>\n      <td>3</td>\n      <td>122</td>\n      <td>alfa-romero</td>\n      <td>gas</td>\n      <td>std</td>\n      <td>two</td>\n      <td>convertible</td>\n      <td>rwd</td>\n      <td>front</td>\n      <td>88.600</td>\n      <td>...</td>\n      <td>130</td>\n      <td>mpfi</td>\n      <td>3.470</td>\n      <td>2.680</td>\n      <td>9.000</td>\n      <td>111</td>\n      <td>5,000.000</td>\n      <td>11.190</td>\n      <td>8.704</td>\n      <td>16,500.000</td>\n    </tr>\n    <tr>\n      <th>2</th>\n      <td>1</td>\n      <td>122</td>\n      <td>alfa-romero</td>\n      <td>gas</td>\n      <td>std</td>\n      <td>two</td>\n      <td>hatchback</td>\n      <td>rwd</td>\n      <td>front</td>\n      <td>94.500</td>\n      <td>...</td>\n      <td>152</td>\n      <td>mpfi</td>\n      <td>2.680</td>\n      <td>3.470</td>\n      <td>9.000</td>\n      <td>154</td>\n      <td>5,000.000</td>\n      <td>12.368</td>\n      <td>9.038</td>\n      <td>16,500.000</td>\n    </tr>\n    <tr>\n      <th>3</th>\n      <td>2</td>\n      <td>164</td>\n      <td>audi</td>\n      <td>gas</td>\n      <td>std</td>\n      <td>four</td>\n      <td>sedan</td>\n      <td>fwd</td>\n      <td>front</td>\n      <td>99.800</td>\n      <td>...</td>\n      <td>109</td>\n      <td>mpfi</td>\n      <td>3.190</td>\n      <td>3.400</td>\n      <td>10.000</td>\n      <td>102</td>\n      <td>5,500.000</td>\n      <td>9.792</td>\n      <td>7.833</td>\n      <td>13,950.000</td>\n    </tr>\n    <tr>\n      <th>4</th>\n      <td>2</td>\n      <td>164</td>\n      <td>audi</td>\n      <td>gas</td>\n      <td>std</td>\n      <td>four</td>\n      <td>sedan</td>\n      <td>4wd</td>\n      <td>front</td>\n      <td>99.400</td>\n      <td>...</td>\n      <td>136</td>\n      <td>mpfi</td>\n      <td>3.190</td>\n      <td>3.400</td>\n      <td>8.000</td>\n      <td>115</td>\n      <td>5,500.000</td>\n      <td>13.056</td>\n      <td>10.682</td>\n      <td>17,450.000</td>\n    </tr>\n  </tbody>\n</table>\n<p>5 rows × 26 columns</p>\n</div>"
     },
     "metadata": {}
    }
   ]
  },
  {
   "cell_type": "code",
   "metadata": {
    "cell_id": "a5f1ec3e-52c1-4e74-ad7a-0fc54f467473",
    "tags": [],
    "deepnote_to_be_reexecuted": false,
    "source_hash": "97295019",
    "execution_start": 1645738118661,
    "execution_millis": 8,
    "deepnote_cell_type": "code"
   },
   "source": "bins_array = np.linspace(df_auto['horsepower'].min(), df_auto['horsepower'].max(), 4)\nbins_array",
   "execution_count": 32,
   "outputs": [
    {
     "output_type": "execute_result",
     "execution_count": 32,
     "data": {
      "text/plain": "array([ 48.   , 119.333, 190.667, 262.   ])"
     },
     "metadata": {}
    }
   ]
  },
  {
   "cell_type": "code",
   "metadata": {
    "cell_id": "90ac6e2e-f076-4237-8639-5e9818630636",
    "tags": [],
    "deepnote_to_be_reexecuted": false,
    "source_hash": "b685318",
    "execution_start": 1645738118666,
    "execution_millis": 21,
    "deepnote_cell_type": "code"
   },
   "source": "labels_name = ['Low', 'Medium', 'High']\nlabels_name",
   "execution_count": 33,
   "outputs": [
    {
     "output_type": "execute_result",
     "execution_count": 33,
     "data": {
      "text/plain": "['Low', 'Medium', 'High']"
     },
     "metadata": {}
    }
   ]
  },
  {
   "cell_type": "code",
   "metadata": {
    "cell_id": "f44c1d05-b66d-42b2-ad16-cbefa0ab376c",
    "tags": [],
    "deepnote_to_be_reexecuted": false,
    "source_hash": "1abc8c33",
    "execution_start": 1645738118671,
    "execution_millis": 482,
    "deepnote_cell_type": "code"
   },
   "source": "df_auto['horsepower_binned'] = pd.cut(df_auto['horsepower'], bins = bins_array, labels = labels_name, include_lowest=True)\ndf_auto.head()",
   "execution_count": 34,
   "outputs": [
    {
     "output_type": "execute_result",
     "execution_count": 34,
     "data": {
      "application/vnd.deepnote.dataframe.v3+json": {
       "column_count": 27,
       "row_count": 5,
       "columns": [
        {
         "name": "symboling",
         "dtype": "int64",
         "stats": {
          "unique_count": 3,
          "nan_count": 0,
          "min": "1",
          "max": "3",
          "histogram": [
           {
            "bin_start": 1,
            "bin_end": 1.2,
            "count": 1
           },
           {
            "bin_start": 1.2,
            "bin_end": 1.4,
            "count": 0
           },
           {
            "bin_start": 1.4,
            "bin_end": 1.6,
            "count": 0
           },
           {
            "bin_start": 1.6,
            "bin_end": 1.8,
            "count": 0
           },
           {
            "bin_start": 1.8,
            "bin_end": 2,
            "count": 0
           },
           {
            "bin_start": 2,
            "bin_end": 2.2,
            "count": 2
           },
           {
            "bin_start": 2.2,
            "bin_end": 2.4000000000000004,
            "count": 0
           },
           {
            "bin_start": 2.4000000000000004,
            "bin_end": 2.6,
            "count": 0
           },
           {
            "bin_start": 2.6,
            "bin_end": 2.8,
            "count": 0
           },
           {
            "bin_start": 2.8,
            "bin_end": 3,
            "count": 2
           }
          ]
         }
        },
        {
         "name": "normalized-losses",
         "dtype": "int64",
         "stats": {
          "unique_count": 2,
          "nan_count": 0,
          "min": "122",
          "max": "164",
          "histogram": [
           {
            "bin_start": 122,
            "bin_end": 126.2,
            "count": 3
           },
           {
            "bin_start": 126.2,
            "bin_end": 130.4,
            "count": 0
           },
           {
            "bin_start": 130.4,
            "bin_end": 134.6,
            "count": 0
           },
           {
            "bin_start": 134.6,
            "bin_end": 138.8,
            "count": 0
           },
           {
            "bin_start": 138.8,
            "bin_end": 143,
            "count": 0
           },
           {
            "bin_start": 143,
            "bin_end": 147.2,
            "count": 0
           },
           {
            "bin_start": 147.2,
            "bin_end": 151.4,
            "count": 0
           },
           {
            "bin_start": 151.4,
            "bin_end": 155.6,
            "count": 0
           },
           {
            "bin_start": 155.6,
            "bin_end": 159.8,
            "count": 0
           },
           {
            "bin_start": 159.8,
            "bin_end": 164,
            "count": 2
           }
          ]
         }
        },
        {
         "name": "make",
         "dtype": "object",
         "stats": {
          "unique_count": 2,
          "nan_count": 0,
          "categories": [
           {
            "name": "alfa-romero",
            "count": 3
           },
           {
            "name": "audi",
            "count": 2
           }
          ]
         }
        },
        {
         "name": "fuel-type",
         "dtype": "category",
         "stats": {
          "unique_count": 1,
          "nan_count": 0,
          "categories": [
           {
            "name": "gas",
            "count": 5
           }
          ]
         }
        },
        {
         "name": "aspiration",
         "dtype": "category",
         "stats": {
          "unique_count": 1,
          "nan_count": 0,
          "categories": [
           {
            "name": "std",
            "count": 5
           }
          ]
         }
        },
        {
         "name": "num-of-doors",
         "dtype": "category",
         "stats": {
          "unique_count": 2,
          "nan_count": 0,
          "categories": [
           {
            "name": "two",
            "count": 3
           },
           {
            "name": "four",
            "count": 2
           }
          ]
         }
        },
        {
         "name": "body-style",
         "dtype": "category",
         "stats": {
          "unique_count": 3,
          "nan_count": 0,
          "categories": [
           {
            "name": "convertible",
            "count": 2
           },
           {
            "name": "sedan",
            "count": 2
           },
           {
            "name": "hatchback",
            "count": 1
           }
          ]
         }
        },
        {
         "name": "drive-wheels",
         "dtype": "category",
         "stats": {
          "unique_count": 3,
          "nan_count": 0,
          "categories": [
           {
            "name": "rwd",
            "count": 3
           },
           {
            "name": "fwd",
            "count": 1
           },
           {
            "name": "4wd",
            "count": 1
           }
          ]
         }
        },
        {
         "name": "engine-location",
         "dtype": "category",
         "stats": {
          "unique_count": 1,
          "nan_count": 0,
          "categories": [
           {
            "name": "front",
            "count": 5
           }
          ]
         }
        },
        {
         "name": "wheel-base",
         "dtype": "float64",
         "stats": {
          "unique_count": 4,
          "nan_count": 0,
          "min": "88.6",
          "max": "99.8",
          "histogram": [
           {
            "bin_start": 88.6,
            "bin_end": 89.72,
            "count": 2
           },
           {
            "bin_start": 89.72,
            "bin_end": 90.83999999999999,
            "count": 0
           },
           {
            "bin_start": 90.83999999999999,
            "bin_end": 91.96,
            "count": 0
           },
           {
            "bin_start": 91.96,
            "bin_end": 93.08,
            "count": 0
           },
           {
            "bin_start": 93.08,
            "bin_end": 94.19999999999999,
            "count": 0
           },
           {
            "bin_start": 94.19999999999999,
            "bin_end": 95.32,
            "count": 1
           },
           {
            "bin_start": 95.32,
            "bin_end": 96.44,
            "count": 0
           },
           {
            "bin_start": 96.44,
            "bin_end": 97.56,
            "count": 0
           },
           {
            "bin_start": 97.56,
            "bin_end": 98.67999999999999,
            "count": 0
           },
           {
            "bin_start": 98.67999999999999,
            "bin_end": 99.8,
            "count": 2
           }
          ]
         }
        },
        {
         "name": "length",
         "dtype": "float64",
         "stats": {
          "unique_count": 3,
          "nan_count": 0,
          "min": "0.8111484863046613",
          "max": "0.8486304661220567",
          "histogram": [
           {
            "bin_start": 0.8111484863046613,
            "bin_end": 0.8148966842864008,
            "count": 2
           },
           {
            "bin_start": 0.8148966842864008,
            "bin_end": 0.8186448822681404,
            "count": 0
           },
           {
            "bin_start": 0.8186448822681404,
            "bin_end": 0.8223930802498799,
            "count": 0
           },
           {
            "bin_start": 0.8223930802498799,
            "bin_end": 0.8261412782316194,
            "count": 1
           },
           {
            "bin_start": 0.8261412782316194,
            "bin_end": 0.8298894762133591,
            "count": 0
           },
           {
            "bin_start": 0.8298894762133591,
            "bin_end": 0.8336376741950986,
            "count": 0
           },
           {
            "bin_start": 0.8336376741950986,
            "bin_end": 0.8373858721768381,
            "count": 0
           },
           {
            "bin_start": 0.8373858721768381,
            "bin_end": 0.8411340701585777,
            "count": 0
           },
           {
            "bin_start": 0.8411340701585777,
            "bin_end": 0.8448822681403172,
            "count": 0
           },
           {
            "bin_start": 0.8448822681403172,
            "bin_end": 0.8486304661220567,
            "count": 2
           }
          ]
         }
        },
        {
         "name": "width",
         "dtype": "float64",
         "stats": {
          "unique_count": 4,
          "nan_count": 0,
          "min": "0.8902777777777777",
          "max": "0.9222222222222223",
          "histogram": [
           {
            "bin_start": 0.8902777777777777,
            "bin_end": 0.8934722222222222,
            "count": 2
           },
           {
            "bin_start": 0.8934722222222222,
            "bin_end": 0.8966666666666666,
            "count": 0
           },
           {
            "bin_start": 0.8966666666666666,
            "bin_end": 0.8998611111111111,
            "count": 0
           },
           {
            "bin_start": 0.8998611111111111,
            "bin_end": 0.9030555555555555,
            "count": 0
           },
           {
            "bin_start": 0.9030555555555555,
            "bin_end": 0.90625,
            "count": 0
           },
           {
            "bin_start": 0.90625,
            "bin_end": 0.9094444444444445,
            "count": 0
           },
           {
            "bin_start": 0.9094444444444445,
            "bin_end": 0.9126388888888889,
            "count": 1
           },
           {
            "bin_start": 0.9126388888888889,
            "bin_end": 0.9158333333333334,
            "count": 0
           },
           {
            "bin_start": 0.9158333333333334,
            "bin_end": 0.9190277777777778,
            "count": 0
           },
           {
            "bin_start": 0.9190277777777778,
            "bin_end": 0.9222222222222223,
            "count": 2
           }
          ]
         }
        },
        {
         "name": "height",
         "dtype": "float64",
         "stats": {
          "unique_count": 3,
          "nan_count": 0,
          "min": "0.8160535117056856",
          "max": "0.9080267558528428",
          "histogram": [
           {
            "bin_start": 0.8160535117056856,
            "bin_end": 0.8252508361204014,
            "count": 2
           },
           {
            "bin_start": 0.8252508361204014,
            "bin_end": 0.8344481605351171,
            "count": 0
           },
           {
            "bin_start": 0.8344481605351171,
            "bin_end": 0.8436454849498327,
            "count": 0
           },
           {
            "bin_start": 0.8436454849498327,
            "bin_end": 0.8528428093645485,
            "count": 0
           },
           {
            "bin_start": 0.8528428093645485,
            "bin_end": 0.8620401337792643,
            "count": 0
           },
           {
            "bin_start": 0.8620401337792643,
            "bin_end": 0.8712374581939799,
            "count": 0
           },
           {
            "bin_start": 0.8712374581939799,
            "bin_end": 0.8804347826086956,
            "count": 1
           },
           {
            "bin_start": 0.8804347826086956,
            "bin_end": 0.8896321070234113,
            "count": 0
           },
           {
            "bin_start": 0.8896321070234113,
            "bin_end": 0.8988294314381271,
            "count": 0
           },
           {
            "bin_start": 0.8988294314381271,
            "bin_end": 0.9080267558528428,
            "count": 2
           }
          ]
         }
        },
        {
         "name": "curb-weight",
         "dtype": "int64",
         "stats": {
          "unique_count": 4,
          "nan_count": 0,
          "min": "2337",
          "max": "2824",
          "histogram": [
           {
            "bin_start": 2337,
            "bin_end": 2385.7,
            "count": 1
           },
           {
            "bin_start": 2385.7,
            "bin_end": 2434.4,
            "count": 0
           },
           {
            "bin_start": 2434.4,
            "bin_end": 2483.1,
            "count": 0
           },
           {
            "bin_start": 2483.1,
            "bin_end": 2531.8,
            "count": 0
           },
           {
            "bin_start": 2531.8,
            "bin_end": 2580.5,
            "count": 2
           },
           {
            "bin_start": 2580.5,
            "bin_end": 2629.2,
            "count": 0
           },
           {
            "bin_start": 2629.2,
            "bin_end": 2677.9,
            "count": 0
           },
           {
            "bin_start": 2677.9,
            "bin_end": 2726.6,
            "count": 0
           },
           {
            "bin_start": 2726.6,
            "bin_end": 2775.3,
            "count": 0
           },
           {
            "bin_start": 2775.3,
            "bin_end": 2824,
            "count": 2
           }
          ]
         }
        },
        {
         "name": "engine-type",
         "dtype": "category",
         "stats": {
          "unique_count": 3,
          "nan_count": 0,
          "categories": [
           {
            "name": "dohc",
            "count": 2
           },
           {
            "name": "ohc",
            "count": 2
           },
           {
            "name": "ohcv",
            "count": 1
           }
          ]
         }
        },
        {
         "name": "num-of-cylinders",
         "dtype": "category",
         "stats": {
          "unique_count": 3,
          "nan_count": 0,
          "categories": [
           {
            "name": "four",
            "count": 3
           },
           {
            "name": "six",
            "count": 1
           },
           {
            "name": "five",
            "count": 1
           }
          ]
         }
        },
        {
         "name": "engine-size",
         "dtype": "int64",
         "stats": {
          "unique_count": 4,
          "nan_count": 0,
          "min": "109",
          "max": "152",
          "histogram": [
           {
            "bin_start": 109,
            "bin_end": 113.3,
            "count": 1
           },
           {
            "bin_start": 113.3,
            "bin_end": 117.6,
            "count": 0
           },
           {
            "bin_start": 117.6,
            "bin_end": 121.9,
            "count": 0
           },
           {
            "bin_start": 121.9,
            "bin_end": 126.2,
            "count": 0
           },
           {
            "bin_start": 126.2,
            "bin_end": 130.5,
            "count": 2
           },
           {
            "bin_start": 130.5,
            "bin_end": 134.8,
            "count": 0
           },
           {
            "bin_start": 134.8,
            "bin_end": 139.1,
            "count": 1
           },
           {
            "bin_start": 139.1,
            "bin_end": 143.4,
            "count": 0
           },
           {
            "bin_start": 143.4,
            "bin_end": 147.7,
            "count": 0
           },
           {
            "bin_start": 147.7,
            "bin_end": 152,
            "count": 1
           }
          ]
         }
        },
        {
         "name": "fuel-system",
         "dtype": "object",
         "stats": {
          "unique_count": 1,
          "nan_count": 0,
          "categories": [
           {
            "name": "mpfi",
            "count": 5
           }
          ]
         }
        },
        {
         "name": "bore",
         "dtype": "float64",
         "stats": {
          "unique_count": 3,
          "nan_count": 0,
          "min": "2.68",
          "max": "3.47",
          "histogram": [
           {
            "bin_start": 2.68,
            "bin_end": 2.7590000000000003,
            "count": 1
           },
           {
            "bin_start": 2.7590000000000003,
            "bin_end": 2.838,
            "count": 0
           },
           {
            "bin_start": 2.838,
            "bin_end": 2.9170000000000003,
            "count": 0
           },
           {
            "bin_start": 2.9170000000000003,
            "bin_end": 2.996,
            "count": 0
           },
           {
            "bin_start": 2.996,
            "bin_end": 3.075,
            "count": 0
           },
           {
            "bin_start": 3.075,
            "bin_end": 3.154,
            "count": 0
           },
           {
            "bin_start": 3.154,
            "bin_end": 3.233,
            "count": 2
           },
           {
            "bin_start": 3.233,
            "bin_end": 3.3120000000000003,
            "count": 0
           },
           {
            "bin_start": 3.3120000000000003,
            "bin_end": 3.391,
            "count": 0
           },
           {
            "bin_start": 3.391,
            "bin_end": 3.47,
            "count": 2
           }
          ]
         }
        },
        {
         "name": "stroke",
         "dtype": "float64",
         "stats": {
          "unique_count": 3,
          "nan_count": 0,
          "min": "2.68",
          "max": "3.47",
          "histogram": [
           {
            "bin_start": 2.68,
            "bin_end": 2.7590000000000003,
            "count": 2
           },
           {
            "bin_start": 2.7590000000000003,
            "bin_end": 2.838,
            "count": 0
           },
           {
            "bin_start": 2.838,
            "bin_end": 2.9170000000000003,
            "count": 0
           },
           {
            "bin_start": 2.9170000000000003,
            "bin_end": 2.996,
            "count": 0
           },
           {
            "bin_start": 2.996,
            "bin_end": 3.075,
            "count": 0
           },
           {
            "bin_start": 3.075,
            "bin_end": 3.154,
            "count": 0
           },
           {
            "bin_start": 3.154,
            "bin_end": 3.233,
            "count": 0
           },
           {
            "bin_start": 3.233,
            "bin_end": 3.3120000000000003,
            "count": 0
           },
           {
            "bin_start": 3.3120000000000003,
            "bin_end": 3.391,
            "count": 0
           },
           {
            "bin_start": 3.391,
            "bin_end": 3.47,
            "count": 3
           }
          ]
         }
        },
        {
         "name": "compression-ratio",
         "dtype": "float64",
         "stats": {
          "unique_count": 3,
          "nan_count": 0,
          "min": "8.0",
          "max": "10.0",
          "histogram": [
           {
            "bin_start": 8,
            "bin_end": 8.2,
            "count": 1
           },
           {
            "bin_start": 8.2,
            "bin_end": 8.4,
            "count": 0
           },
           {
            "bin_start": 8.4,
            "bin_end": 8.6,
            "count": 0
           },
           {
            "bin_start": 8.6,
            "bin_end": 8.8,
            "count": 0
           },
           {
            "bin_start": 8.8,
            "bin_end": 9,
            "count": 0
           },
           {
            "bin_start": 9,
            "bin_end": 9.2,
            "count": 3
           },
           {
            "bin_start": 9.2,
            "bin_end": 9.4,
            "count": 0
           },
           {
            "bin_start": 9.4,
            "bin_end": 9.6,
            "count": 0
           },
           {
            "bin_start": 9.6,
            "bin_end": 9.8,
            "count": 0
           },
           {
            "bin_start": 9.8,
            "bin_end": 10,
            "count": 1
           }
          ]
         }
        },
        {
         "name": "horsepower",
         "dtype": "int64",
         "stats": {
          "unique_count": 4,
          "nan_count": 0,
          "min": "102",
          "max": "154",
          "histogram": [
           {
            "bin_start": 102,
            "bin_end": 107.2,
            "count": 1
           },
           {
            "bin_start": 107.2,
            "bin_end": 112.4,
            "count": 2
           },
           {
            "bin_start": 112.4,
            "bin_end": 117.6,
            "count": 1
           },
           {
            "bin_start": 117.6,
            "bin_end": 122.8,
            "count": 0
           },
           {
            "bin_start": 122.8,
            "bin_end": 128,
            "count": 0
           },
           {
            "bin_start": 128,
            "bin_end": 133.2,
            "count": 0
           },
           {
            "bin_start": 133.2,
            "bin_end": 138.4,
            "count": 0
           },
           {
            "bin_start": 138.4,
            "bin_end": 143.6,
            "count": 0
           },
           {
            "bin_start": 143.6,
            "bin_end": 148.8,
            "count": 0
           },
           {
            "bin_start": 148.8,
            "bin_end": 154,
            "count": 1
           }
          ]
         }
        },
        {
         "name": "peak-rpm",
         "dtype": "float64",
         "stats": {
          "unique_count": 2,
          "nan_count": 0,
          "min": "5000.0",
          "max": "5500.0",
          "histogram": [
           {
            "bin_start": 5000,
            "bin_end": 5050,
            "count": 3
           },
           {
            "bin_start": 5050,
            "bin_end": 5100,
            "count": 0
           },
           {
            "bin_start": 5100,
            "bin_end": 5150,
            "count": 0
           },
           {
            "bin_start": 5150,
            "bin_end": 5200,
            "count": 0
           },
           {
            "bin_start": 5200,
            "bin_end": 5250,
            "count": 0
           },
           {
            "bin_start": 5250,
            "bin_end": 5300,
            "count": 0
           },
           {
            "bin_start": 5300,
            "bin_end": 5350,
            "count": 0
           },
           {
            "bin_start": 5350,
            "bin_end": 5400,
            "count": 0
           },
           {
            "bin_start": 5400,
            "bin_end": 5450,
            "count": 0
           },
           {
            "bin_start": 5450,
            "bin_end": 5500,
            "count": 2
           }
          ]
         }
        },
        {
         "name": "city-l/100km",
         "dtype": "float64",
         "stats": {
          "unique_count": 4,
          "nan_count": 0,
          "min": "9.791666666666666",
          "max": "13.055555555555555",
          "histogram": [
           {
            "bin_start": 9.791666666666666,
            "bin_end": 10.118055555555555,
            "count": 1
           },
           {
            "bin_start": 10.118055555555555,
            "bin_end": 10.444444444444445,
            "count": 0
           },
           {
            "bin_start": 10.444444444444445,
            "bin_end": 10.770833333333332,
            "count": 0
           },
           {
            "bin_start": 10.770833333333332,
            "bin_end": 11.097222222222221,
            "count": 0
           },
           {
            "bin_start": 11.097222222222221,
            "bin_end": 11.42361111111111,
            "count": 2
           },
           {
            "bin_start": 11.42361111111111,
            "bin_end": 11.75,
            "count": 0
           },
           {
            "bin_start": 11.75,
            "bin_end": 12.07638888888889,
            "count": 0
           },
           {
            "bin_start": 12.07638888888889,
            "bin_end": 12.402777777777779,
            "count": 1
           },
           {
            "bin_start": 12.402777777777779,
            "bin_end": 12.729166666666666,
            "count": 0
           },
           {
            "bin_start": 12.729166666666666,
            "bin_end": 13.055555555555555,
            "count": 1
           }
          ]
         }
        },
        {
         "name": "highway-l/100km",
         "dtype": "float64",
         "stats": {
          "unique_count": 4,
          "nan_count": 0,
          "min": "7.833333333333333",
          "max": "10.681818181818182",
          "histogram": [
           {
            "bin_start": 7.833333333333333,
            "bin_end": 8.118181818181817,
            "count": 1
           },
           {
            "bin_start": 8.118181818181817,
            "bin_end": 8.403030303030302,
            "count": 0
           },
           {
            "bin_start": 8.403030303030302,
            "bin_end": 8.687878787878788,
            "count": 0
           },
           {
            "bin_start": 8.687878787878788,
            "bin_end": 8.972727272727273,
            "count": 2
           },
           {
            "bin_start": 8.972727272727273,
            "bin_end": 9.257575757575758,
            "count": 1
           },
           {
            "bin_start": 9.257575757575758,
            "bin_end": 9.542424242424243,
            "count": 0
           },
           {
            "bin_start": 9.542424242424243,
            "bin_end": 9.827272727272726,
            "count": 0
           },
           {
            "bin_start": 9.827272727272726,
            "bin_end": 10.112121212121211,
            "count": 0
           },
           {
            "bin_start": 10.112121212121211,
            "bin_end": 10.396969696969697,
            "count": 0
           },
           {
            "bin_start": 10.396969696969697,
            "bin_end": 10.681818181818182,
            "count": 1
           }
          ]
         }
        },
        {
         "name": "price",
         "dtype": "float64",
         "stats": {
          "unique_count": 4,
          "nan_count": 0,
          "min": "13495.0",
          "max": "17450.0",
          "histogram": [
           {
            "bin_start": 13495,
            "bin_end": 13890.5,
            "count": 1
           },
           {
            "bin_start": 13890.5,
            "bin_end": 14286,
            "count": 1
           },
           {
            "bin_start": 14286,
            "bin_end": 14681.5,
            "count": 0
           },
           {
            "bin_start": 14681.5,
            "bin_end": 15077,
            "count": 0
           },
           {
            "bin_start": 15077,
            "bin_end": 15472.5,
            "count": 0
           },
           {
            "bin_start": 15472.5,
            "bin_end": 15868,
            "count": 0
           },
           {
            "bin_start": 15868,
            "bin_end": 16263.5,
            "count": 0
           },
           {
            "bin_start": 16263.5,
            "bin_end": 16659,
            "count": 2
           },
           {
            "bin_start": 16659,
            "bin_end": 17054.5,
            "count": 0
           },
           {
            "bin_start": 17054.5,
            "bin_end": 17450,
            "count": 1
           }
          ]
         }
        },
        {
         "name": "horsepower_binned",
         "dtype": "category",
         "stats": {
          "unique_count": 2,
          "nan_count": 0,
          "categories": [
           {
            "name": "Low",
            "count": 4
           },
           {
            "name": "Medium",
            "count": 1
           }
          ]
         }
        },
        {
         "name": "_deepnote_index_column",
         "dtype": "int64"
        }
       ],
       "rows": [
        {
         "symboling": 3,
         "normalized-losses": 122,
         "make": "alfa-romero",
         "fuel-type": "gas",
         "aspiration": "std",
         "num-of-doors": "two",
         "body-style": "convertible",
         "drive-wheels": "rwd",
         "engine-location": "front",
         "wheel-base": 88.6,
         "length": 0.8111484863046613,
         "width": 0.8902777777777777,
         "height": 0.8160535117056856,
         "curb-weight": 2548,
         "engine-type": "dohc",
         "num-of-cylinders": "four",
         "engine-size": 130,
         "fuel-system": "mpfi",
         "bore": 3.47,
         "stroke": 2.68,
         "compression-ratio": 9,
         "horsepower": 111,
         "peak-rpm": 5000,
         "city-l/100km": 11.19047619047619,
         "highway-l/100km": 8.703703703703704,
         "price": 13495,
         "horsepower_binned": "Low",
         "_deepnote_index_column": 0
        },
        {
         "symboling": 3,
         "normalized-losses": 122,
         "make": "alfa-romero",
         "fuel-type": "gas",
         "aspiration": "std",
         "num-of-doors": "two",
         "body-style": "convertible",
         "drive-wheels": "rwd",
         "engine-location": "front",
         "wheel-base": 88.6,
         "length": 0.8111484863046613,
         "width": 0.8902777777777777,
         "height": 0.8160535117056856,
         "curb-weight": 2548,
         "engine-type": "dohc",
         "num-of-cylinders": "four",
         "engine-size": 130,
         "fuel-system": "mpfi",
         "bore": 3.47,
         "stroke": 2.68,
         "compression-ratio": 9,
         "horsepower": 111,
         "peak-rpm": 5000,
         "city-l/100km": 11.19047619047619,
         "highway-l/100km": 8.703703703703704,
         "price": 16500,
         "horsepower_binned": "Low",
         "_deepnote_index_column": 1
        },
        {
         "symboling": 1,
         "normalized-losses": 122,
         "make": "alfa-romero",
         "fuel-type": "gas",
         "aspiration": "std",
         "num-of-doors": "two",
         "body-style": "hatchback",
         "drive-wheels": "rwd",
         "engine-location": "front",
         "wheel-base": 94.5,
         "length": 0.8226814031715521,
         "width": 0.9097222222222222,
         "height": 0.8762541806020067,
         "curb-weight": 2823,
         "engine-type": "ohcv",
         "num-of-cylinders": "six",
         "engine-size": 152,
         "fuel-system": "mpfi",
         "bore": 2.68,
         "stroke": 3.47,
         "compression-ratio": 9,
         "horsepower": 154,
         "peak-rpm": 5000,
         "city-l/100km": 12.368421052631579,
         "highway-l/100km": 9.038461538461538,
         "price": 16500,
         "horsepower_binned": "Medium",
         "_deepnote_index_column": 2
        },
        {
         "symboling": 2,
         "normalized-losses": 164,
         "make": "audi",
         "fuel-type": "gas",
         "aspiration": "std",
         "num-of-doors": "four",
         "body-style": "sedan",
         "drive-wheels": "fwd",
         "engine-location": "front",
         "wheel-base": 99.8,
         "length": 0.8486304661220567,
         "width": 0.9194444444444445,
         "height": 0.9080267558528428,
         "curb-weight": 2337,
         "engine-type": "ohc",
         "num-of-cylinders": "four",
         "engine-size": 109,
         "fuel-system": "mpfi",
         "bore": 3.19,
         "stroke": 3.4,
         "compression-ratio": 10,
         "horsepower": 102,
         "peak-rpm": 5500,
         "city-l/100km": 9.791666666666666,
         "highway-l/100km": 7.833333333333333,
         "price": 13950,
         "horsepower_binned": "Low",
         "_deepnote_index_column": 3
        },
        {
         "symboling": 2,
         "normalized-losses": 164,
         "make": "audi",
         "fuel-type": "gas",
         "aspiration": "std",
         "num-of-doors": "four",
         "body-style": "sedan",
         "drive-wheels": "4wd",
         "engine-location": "front",
         "wheel-base": 99.4,
         "length": 0.8486304661220567,
         "width": 0.9222222222222223,
         "height": 0.9080267558528428,
         "curb-weight": 2824,
         "engine-type": "ohc",
         "num-of-cylinders": "five",
         "engine-size": 136,
         "fuel-system": "mpfi",
         "bore": 3.19,
         "stroke": 3.4,
         "compression-ratio": 8,
         "horsepower": 115,
         "peak-rpm": 5500,
         "city-l/100km": 13.055555555555555,
         "highway-l/100km": 10.681818181818182,
         "price": 17450,
         "horsepower_binned": "Low",
         "_deepnote_index_column": 4
        }
       ]
      },
      "text/plain": "   symboling  normalized-losses         make fuel-type aspiration  \\\n0          3                122  alfa-romero       gas        std   \n1          3                122  alfa-romero       gas        std   \n2          1                122  alfa-romero       gas        std   \n3          2                164         audi       gas        std   \n4          2                164         audi       gas        std   \n\n  num-of-doors   body-style drive-wheels engine-location  wheel-base  ...  \\\n0          two  convertible          rwd           front      88.600  ...   \n1          two  convertible          rwd           front      88.600  ...   \n2          two    hatchback          rwd           front      94.500  ...   \n3         four        sedan          fwd           front      99.800  ...   \n4         four        sedan          4wd           front      99.400  ...   \n\n   fuel-system  bore  stroke  compression-ratio horsepower  peak-rpm  \\\n0         mpfi 3.470   2.680              9.000        111 5,000.000   \n1         mpfi 3.470   2.680              9.000        111 5,000.000   \n2         mpfi 2.680   3.470              9.000        154 5,000.000   \n3         mpfi 3.190   3.400             10.000        102 5,500.000   \n4         mpfi 3.190   3.400              8.000        115 5,500.000   \n\n   city-l/100km highway-l/100km      price  horsepower_binned  \n0        11.190           8.704 13,495.000                Low  \n1        11.190           8.704 16,500.000                Low  \n2        12.368           9.038 16,500.000             Medium  \n3         9.792           7.833 13,950.000                Low  \n4        13.056          10.682 17,450.000                Low  \n\n[5 rows x 27 columns]",
      "text/html": "<div>\n<style scoped>\n    .dataframe tbody tr th:only-of-type {\n        vertical-align: middle;\n    }\n\n    .dataframe tbody tr th {\n        vertical-align: top;\n    }\n\n    .dataframe thead th {\n        text-align: right;\n    }\n</style>\n<table border=\"1\" class=\"dataframe\">\n  <thead>\n    <tr style=\"text-align: right;\">\n      <th></th>\n      <th>symboling</th>\n      <th>normalized-losses</th>\n      <th>make</th>\n      <th>fuel-type</th>\n      <th>aspiration</th>\n      <th>num-of-doors</th>\n      <th>body-style</th>\n      <th>drive-wheels</th>\n      <th>engine-location</th>\n      <th>wheel-base</th>\n      <th>...</th>\n      <th>fuel-system</th>\n      <th>bore</th>\n      <th>stroke</th>\n      <th>compression-ratio</th>\n      <th>horsepower</th>\n      <th>peak-rpm</th>\n      <th>city-l/100km</th>\n      <th>highway-l/100km</th>\n      <th>price</th>\n      <th>horsepower_binned</th>\n    </tr>\n  </thead>\n  <tbody>\n    <tr>\n      <th>0</th>\n      <td>3</td>\n      <td>122</td>\n      <td>alfa-romero</td>\n      <td>gas</td>\n      <td>std</td>\n      <td>two</td>\n      <td>convertible</td>\n      <td>rwd</td>\n      <td>front</td>\n      <td>88.600</td>\n      <td>...</td>\n      <td>mpfi</td>\n      <td>3.470</td>\n      <td>2.680</td>\n      <td>9.000</td>\n      <td>111</td>\n      <td>5,000.000</td>\n      <td>11.190</td>\n      <td>8.704</td>\n      <td>13,495.000</td>\n      <td>Low</td>\n    </tr>\n    <tr>\n      <th>1</th>\n      <td>3</td>\n      <td>122</td>\n      <td>alfa-romero</td>\n      <td>gas</td>\n      <td>std</td>\n      <td>two</td>\n      <td>convertible</td>\n      <td>rwd</td>\n      <td>front</td>\n      <td>88.600</td>\n      <td>...</td>\n      <td>mpfi</td>\n      <td>3.470</td>\n      <td>2.680</td>\n      <td>9.000</td>\n      <td>111</td>\n      <td>5,000.000</td>\n      <td>11.190</td>\n      <td>8.704</td>\n      <td>16,500.000</td>\n      <td>Low</td>\n    </tr>\n    <tr>\n      <th>2</th>\n      <td>1</td>\n      <td>122</td>\n      <td>alfa-romero</td>\n      <td>gas</td>\n      <td>std</td>\n      <td>two</td>\n      <td>hatchback</td>\n      <td>rwd</td>\n      <td>front</td>\n      <td>94.500</td>\n      <td>...</td>\n      <td>mpfi</td>\n      <td>2.680</td>\n      <td>3.470</td>\n      <td>9.000</td>\n      <td>154</td>\n      <td>5,000.000</td>\n      <td>12.368</td>\n      <td>9.038</td>\n      <td>16,500.000</td>\n      <td>Medium</td>\n    </tr>\n    <tr>\n      <th>3</th>\n      <td>2</td>\n      <td>164</td>\n      <td>audi</td>\n      <td>gas</td>\n      <td>std</td>\n      <td>four</td>\n      <td>sedan</td>\n      <td>fwd</td>\n      <td>front</td>\n      <td>99.800</td>\n      <td>...</td>\n      <td>mpfi</td>\n      <td>3.190</td>\n      <td>3.400</td>\n      <td>10.000</td>\n      <td>102</td>\n      <td>5,500.000</td>\n      <td>9.792</td>\n      <td>7.833</td>\n      <td>13,950.000</td>\n      <td>Low</td>\n    </tr>\n    <tr>\n      <th>4</th>\n      <td>2</td>\n      <td>164</td>\n      <td>audi</td>\n      <td>gas</td>\n      <td>std</td>\n      <td>four</td>\n      <td>sedan</td>\n      <td>4wd</td>\n      <td>front</td>\n      <td>99.400</td>\n      <td>...</td>\n      <td>mpfi</td>\n      <td>3.190</td>\n      <td>3.400</td>\n      <td>8.000</td>\n      <td>115</td>\n      <td>5,500.000</td>\n      <td>13.056</td>\n      <td>10.682</td>\n      <td>17,450.000</td>\n      <td>Low</td>\n    </tr>\n  </tbody>\n</table>\n<p>5 rows × 27 columns</p>\n</div>"
     },
     "metadata": {}
    }
   ]
  },
  {
   "cell_type": "markdown",
   "source": "## Change categorical variable to numerical variable - Dummies\n",
   "metadata": {
    "cell_id": "455aac53-bd4b-4279-9223-84eefa0f7467",
    "tags": [],
    "deepnote_cell_type": "markdown"
   }
  },
  {
   "cell_type": "code",
   "metadata": {
    "cell_id": "d69c9233-d71e-4514-b17d-a498c3f718a8",
    "tags": [],
    "deepnote_to_be_reexecuted": false,
    "source_hash": "4bf52475",
    "execution_start": 1645738118799,
    "execution_millis": 354,
    "deepnote_cell_type": "code"
   },
   "source": "df_auto['fuel-type'].value_counts()",
   "execution_count": 35,
   "outputs": [
    {
     "output_type": "execute_result",
     "execution_count": 35,
     "data": {
      "text/plain": "gas       181\ndiesel     20\nName: fuel-type, dtype: int64"
     },
     "metadata": {}
    }
   ]
  },
  {
   "cell_type": "code",
   "metadata": {
    "cell_id": "5bda7aa4-ed0f-41f8-892c-f04256217e62",
    "tags": [],
    "deepnote_to_be_reexecuted": false,
    "source_hash": "d70c7312",
    "execution_start": 1645738118852,
    "execution_millis": 302,
    "deepnote_cell_type": "code"
   },
   "source": "df_fuel_type_dummies = pd.get_dummies(df_auto['fuel-type'])\ndf_fuel_type_dummies.head()",
   "execution_count": 36,
   "outputs": [
    {
     "output_type": "execute_result",
     "execution_count": 36,
     "data": {
      "application/vnd.deepnote.dataframe.v3+json": {
       "column_count": 2,
       "row_count": 5,
       "columns": [
        {
         "name": "diesel",
         "dtype": "uint8",
         "stats": {
          "unique_count": 1,
          "nan_count": 0,
          "min": "0",
          "max": "0",
          "histogram": [
           {
            "bin_start": -0.5,
            "bin_end": -0.4,
            "count": 0
           },
           {
            "bin_start": -0.4,
            "bin_end": -0.3,
            "count": 0
           },
           {
            "bin_start": -0.3,
            "bin_end": -0.19999999999999996,
            "count": 0
           },
           {
            "bin_start": -0.19999999999999996,
            "bin_end": -0.09999999999999998,
            "count": 0
           },
           {
            "bin_start": -0.09999999999999998,
            "bin_end": 0,
            "count": 0
           },
           {
            "bin_start": 0,
            "bin_end": 0.10000000000000009,
            "count": 5
           },
           {
            "bin_start": 0.10000000000000009,
            "bin_end": 0.20000000000000007,
            "count": 0
           },
           {
            "bin_start": 0.20000000000000007,
            "bin_end": 0.30000000000000004,
            "count": 0
           },
           {
            "bin_start": 0.30000000000000004,
            "bin_end": 0.4,
            "count": 0
           },
           {
            "bin_start": 0.4,
            "bin_end": 0.5,
            "count": 0
           }
          ]
         }
        },
        {
         "name": "gas",
         "dtype": "uint8",
         "stats": {
          "unique_count": 1,
          "nan_count": 0,
          "min": "1",
          "max": "1",
          "histogram": [
           {
            "bin_start": 0.5,
            "bin_end": 0.6,
            "count": 0
           },
           {
            "bin_start": 0.6,
            "bin_end": 0.7,
            "count": 0
           },
           {
            "bin_start": 0.7,
            "bin_end": 0.8,
            "count": 0
           },
           {
            "bin_start": 0.8,
            "bin_end": 0.9,
            "count": 0
           },
           {
            "bin_start": 0.9,
            "bin_end": 1,
            "count": 0
           },
           {
            "bin_start": 1,
            "bin_end": 1.1,
            "count": 5
           },
           {
            "bin_start": 1.1,
            "bin_end": 1.2000000000000002,
            "count": 0
           },
           {
            "bin_start": 1.2000000000000002,
            "bin_end": 1.3,
            "count": 0
           },
           {
            "bin_start": 1.3,
            "bin_end": 1.4,
            "count": 0
           },
           {
            "bin_start": 1.4,
            "bin_end": 1.5,
            "count": 0
           }
          ]
         }
        },
        {
         "name": "_deepnote_index_column",
         "dtype": "int64"
        }
       ],
       "rows": [
        {
         "diesel": 0,
         "gas": 1,
         "_deepnote_index_column": 0
        },
        {
         "diesel": 0,
         "gas": 1,
         "_deepnote_index_column": 1
        },
        {
         "diesel": 0,
         "gas": 1,
         "_deepnote_index_column": 2
        },
        {
         "diesel": 0,
         "gas": 1,
         "_deepnote_index_column": 3
        },
        {
         "diesel": 0,
         "gas": 1,
         "_deepnote_index_column": 4
        }
       ]
      },
      "text/plain": "   diesel  gas\n0       0    1\n1       0    1\n2       0    1\n3       0    1\n4       0    1",
      "text/html": "<div>\n<style scoped>\n    .dataframe tbody tr th:only-of-type {\n        vertical-align: middle;\n    }\n\n    .dataframe tbody tr th {\n        vertical-align: top;\n    }\n\n    .dataframe thead th {\n        text-align: right;\n    }\n</style>\n<table border=\"1\" class=\"dataframe\">\n  <thead>\n    <tr style=\"text-align: right;\">\n      <th></th>\n      <th>diesel</th>\n      <th>gas</th>\n    </tr>\n  </thead>\n  <tbody>\n    <tr>\n      <th>0</th>\n      <td>0</td>\n      <td>1</td>\n    </tr>\n    <tr>\n      <th>1</th>\n      <td>0</td>\n      <td>1</td>\n    </tr>\n    <tr>\n      <th>2</th>\n      <td>0</td>\n      <td>1</td>\n    </tr>\n    <tr>\n      <th>3</th>\n      <td>0</td>\n      <td>1</td>\n    </tr>\n    <tr>\n      <th>4</th>\n      <td>0</td>\n      <td>1</td>\n    </tr>\n  </tbody>\n</table>\n</div>"
     },
     "metadata": {}
    }
   ]
  },
  {
   "cell_type": "code",
   "metadata": {
    "cell_id": "83f3bb0b-d1b1-4682-8a17-f628c6f77a05",
    "tags": [],
    "deepnote_to_be_reexecuted": false,
    "source_hash": "dea14ceb",
    "execution_start": 1645738118853,
    "execution_millis": 302,
    "deepnote_cell_type": "code"
   },
   "source": "df_fuel_type_dummies.rename(columns = {'diesel': 'fuel_type_diesel', 'gas': 'fuel_type_gas'}, inplace = True)\ndf_fuel_type_dummies.head()",
   "execution_count": 37,
   "outputs": [
    {
     "output_type": "execute_result",
     "execution_count": 37,
     "data": {
      "application/vnd.deepnote.dataframe.v3+json": {
       "column_count": 2,
       "row_count": 5,
       "columns": [
        {
         "name": "fuel_type_diesel",
         "dtype": "uint8",
         "stats": {
          "unique_count": 1,
          "nan_count": 0,
          "min": "0",
          "max": "0",
          "histogram": [
           {
            "bin_start": -0.5,
            "bin_end": -0.4,
            "count": 0
           },
           {
            "bin_start": -0.4,
            "bin_end": -0.3,
            "count": 0
           },
           {
            "bin_start": -0.3,
            "bin_end": -0.19999999999999996,
            "count": 0
           },
           {
            "bin_start": -0.19999999999999996,
            "bin_end": -0.09999999999999998,
            "count": 0
           },
           {
            "bin_start": -0.09999999999999998,
            "bin_end": 0,
            "count": 0
           },
           {
            "bin_start": 0,
            "bin_end": 0.10000000000000009,
            "count": 5
           },
           {
            "bin_start": 0.10000000000000009,
            "bin_end": 0.20000000000000007,
            "count": 0
           },
           {
            "bin_start": 0.20000000000000007,
            "bin_end": 0.30000000000000004,
            "count": 0
           },
           {
            "bin_start": 0.30000000000000004,
            "bin_end": 0.4,
            "count": 0
           },
           {
            "bin_start": 0.4,
            "bin_end": 0.5,
            "count": 0
           }
          ]
         }
        },
        {
         "name": "fuel_type_gas",
         "dtype": "uint8",
         "stats": {
          "unique_count": 1,
          "nan_count": 0,
          "min": "1",
          "max": "1",
          "histogram": [
           {
            "bin_start": 0.5,
            "bin_end": 0.6,
            "count": 0
           },
           {
            "bin_start": 0.6,
            "bin_end": 0.7,
            "count": 0
           },
           {
            "bin_start": 0.7,
            "bin_end": 0.8,
            "count": 0
           },
           {
            "bin_start": 0.8,
            "bin_end": 0.9,
            "count": 0
           },
           {
            "bin_start": 0.9,
            "bin_end": 1,
            "count": 0
           },
           {
            "bin_start": 1,
            "bin_end": 1.1,
            "count": 5
           },
           {
            "bin_start": 1.1,
            "bin_end": 1.2000000000000002,
            "count": 0
           },
           {
            "bin_start": 1.2000000000000002,
            "bin_end": 1.3,
            "count": 0
           },
           {
            "bin_start": 1.3,
            "bin_end": 1.4,
            "count": 0
           },
           {
            "bin_start": 1.4,
            "bin_end": 1.5,
            "count": 0
           }
          ]
         }
        },
        {
         "name": "_deepnote_index_column",
         "dtype": "int64"
        }
       ],
       "rows": [
        {
         "fuel_type_diesel": 0,
         "fuel_type_gas": 1,
         "_deepnote_index_column": 0
        },
        {
         "fuel_type_diesel": 0,
         "fuel_type_gas": 1,
         "_deepnote_index_column": 1
        },
        {
         "fuel_type_diesel": 0,
         "fuel_type_gas": 1,
         "_deepnote_index_column": 2
        },
        {
         "fuel_type_diesel": 0,
         "fuel_type_gas": 1,
         "_deepnote_index_column": 3
        },
        {
         "fuel_type_diesel": 0,
         "fuel_type_gas": 1,
         "_deepnote_index_column": 4
        }
       ]
      },
      "text/plain": "   fuel_type_diesel  fuel_type_gas\n0                 0              1\n1                 0              1\n2                 0              1\n3                 0              1\n4                 0              1",
      "text/html": "<div>\n<style scoped>\n    .dataframe tbody tr th:only-of-type {\n        vertical-align: middle;\n    }\n\n    .dataframe tbody tr th {\n        vertical-align: top;\n    }\n\n    .dataframe thead th {\n        text-align: right;\n    }\n</style>\n<table border=\"1\" class=\"dataframe\">\n  <thead>\n    <tr style=\"text-align: right;\">\n      <th></th>\n      <th>fuel_type_diesel</th>\n      <th>fuel_type_gas</th>\n    </tr>\n  </thead>\n  <tbody>\n    <tr>\n      <th>0</th>\n      <td>0</td>\n      <td>1</td>\n    </tr>\n    <tr>\n      <th>1</th>\n      <td>0</td>\n      <td>1</td>\n    </tr>\n    <tr>\n      <th>2</th>\n      <td>0</td>\n      <td>1</td>\n    </tr>\n    <tr>\n      <th>3</th>\n      <td>0</td>\n      <td>1</td>\n    </tr>\n    <tr>\n      <th>4</th>\n      <td>0</td>\n      <td>1</td>\n    </tr>\n  </tbody>\n</table>\n</div>"
     },
     "metadata": {}
    }
   ]
  },
  {
   "cell_type": "code",
   "metadata": {
    "cell_id": "14cf16cd-6f84-4cbb-80d1-68b01dda0cee",
    "tags": [],
    "deepnote_to_be_reexecuted": false,
    "source_hash": "3a93b0ce",
    "execution_start": 1645738309411,
    "execution_millis": 197,
    "deepnote_cell_type": "code"
   },
   "source": "df_auto.shape",
   "execution_count": 40,
   "outputs": [
    {
     "output_type": "execute_result",
     "execution_count": 40,
     "data": {
      "text/plain": "(201, 27)"
     },
     "metadata": {}
    }
   ]
  },
  {
   "cell_type": "code",
   "metadata": {
    "cell_id": "0b95288e-8419-4fcc-bd06-9efa8d9cb158",
    "tags": [],
    "deepnote_to_be_reexecuted": false,
    "source_hash": "87098cec",
    "execution_start": 1645738318688,
    "execution_millis": 4,
    "deepnote_cell_type": "code"
   },
   "source": "df_fuel_type_dummies.shape",
   "execution_count": 41,
   "outputs": [
    {
     "output_type": "execute_result",
     "execution_count": 41,
     "data": {
      "text/plain": "(201, 2)"
     },
     "metadata": {}
    }
   ]
  },
  {
   "cell_type": "code",
   "metadata": {
    "cell_id": "9e8efb22-9df2-4e5e-a71d-bdb214b00c5c",
    "tags": [],
    "deepnote_to_be_reexecuted": false,
    "source_hash": "bff5bcf3",
    "execution_start": 1645738619332,
    "execution_millis": 357,
    "deepnote_cell_type": "code"
   },
   "source": "df_auto = pd.concat([df_auto, df_fuel_type_dummies], axis = 1, ignore_index = True)\ndf_auto.sample(3)",
   "execution_count": 42,
   "outputs": [
    {
     "output_type": "execute_result",
     "execution_count": 42,
     "data": {
      "application/vnd.deepnote.dataframe.v3+json": {
       "column_count": 29,
       "row_count": 3,
       "columns": [
        {
         "name": 0,
         "dtype": "int64",
         "stats": {
          "unique_count": 2,
          "nan_count": 0,
          "min": "1",
          "max": "3",
          "histogram": [
           {
            "bin_start": 1,
            "bin_end": 1.2,
            "count": 1
           },
           {
            "bin_start": 1.2,
            "bin_end": 1.4,
            "count": 0
           },
           {
            "bin_start": 1.4,
            "bin_end": 1.6,
            "count": 0
           },
           {
            "bin_start": 1.6,
            "bin_end": 1.8,
            "count": 0
           },
           {
            "bin_start": 1.8,
            "bin_end": 2,
            "count": 0
           },
           {
            "bin_start": 2,
            "bin_end": 2.2,
            "count": 0
           },
           {
            "bin_start": 2.2,
            "bin_end": 2.4000000000000004,
            "count": 0
           },
           {
            "bin_start": 2.4000000000000004,
            "bin_end": 2.6,
            "count": 0
           },
           {
            "bin_start": 2.6,
            "bin_end": 2.8,
            "count": 0
           },
           {
            "bin_start": 2.8,
            "bin_end": 3,
            "count": 2
           }
          ]
         }
        },
        {
         "name": 1,
         "dtype": "int64",
         "stats": {
          "unique_count": 3,
          "nan_count": 0,
          "min": "148",
          "max": "153",
          "histogram": [
           {
            "bin_start": 148,
            "bin_end": 148.5,
            "count": 1
           },
           {
            "bin_start": 148.5,
            "bin_end": 149,
            "count": 0
           },
           {
            "bin_start": 149,
            "bin_end": 149.5,
            "count": 0
           },
           {
            "bin_start": 149.5,
            "bin_end": 150,
            "count": 0
           },
           {
            "bin_start": 150,
            "bin_end": 150.5,
            "count": 1
           },
           {
            "bin_start": 150.5,
            "bin_end": 151,
            "count": 0
           },
           {
            "bin_start": 151,
            "bin_end": 151.5,
            "count": 0
           },
           {
            "bin_start": 151.5,
            "bin_end": 152,
            "count": 0
           },
           {
            "bin_start": 152,
            "bin_end": 152.5,
            "count": 0
           },
           {
            "bin_start": 152.5,
            "bin_end": 153,
            "count": 1
           }
          ]
         }
        },
        {
         "name": 2,
         "dtype": "object",
         "stats": {
          "unique_count": 3,
          "nan_count": 0,
          "categories": [
           {
            "name": "dodge",
            "count": 1
           },
           {
            "name": "mitsubishi",
            "count": 1
           },
           {
            "name": "saab",
            "count": 1
           }
          ]
         }
        },
        {
         "name": 3,
         "dtype": "category",
         "stats": {
          "unique_count": 1,
          "nan_count": 0,
          "categories": [
           {
            "name": "gas",
            "count": 3
           }
          ]
         }
        },
        {
         "name": 4,
         "dtype": "category",
         "stats": {
          "unique_count": 2,
          "nan_count": 0,
          "categories": [
           {
            "name": "std",
            "count": 2
           },
           {
            "name": "turbo",
            "count": 1
           }
          ]
         }
        },
        {
         "name": 5,
         "dtype": "category",
         "stats": {
          "unique_count": 2,
          "nan_count": 0,
          "categories": [
           {
            "name": "two",
            "count": 2
           },
           {
            "name": "four",
            "count": 1
           }
          ]
         }
        },
        {
         "name": 6,
         "dtype": "category",
         "stats": {
          "unique_count": 2,
          "nan_count": 0,
          "categories": [
           {
            "name": "hatchback",
            "count": 2
           },
           {
            "name": "sedan",
            "count": 1
           }
          ]
         }
        },
        {
         "name": 7,
         "dtype": "category",
         "stats": {
          "unique_count": 1,
          "nan_count": 0,
          "categories": [
           {
            "name": "fwd",
            "count": 3
           }
          ]
         }
        },
        {
         "name": 8,
         "dtype": "category",
         "stats": {
          "unique_count": 1,
          "nan_count": 0,
          "categories": [
           {
            "name": "front",
            "count": 3
           }
          ]
         }
        },
        {
         "name": 9,
         "dtype": "float64",
         "stats": {
          "unique_count": 3,
          "nan_count": 0,
          "min": "93.7",
          "max": "99.1",
          "histogram": [
           {
            "bin_start": 93.7,
            "bin_end": 94.24000000000001,
            "count": 1
           },
           {
            "bin_start": 94.24000000000001,
            "bin_end": 94.78,
            "count": 0
           },
           {
            "bin_start": 94.78,
            "bin_end": 95.32,
            "count": 0
           },
           {
            "bin_start": 95.32,
            "bin_end": 95.86,
            "count": 0
           },
           {
            "bin_start": 95.86,
            "bin_end": 96.4,
            "count": 1
           },
           {
            "bin_start": 96.4,
            "bin_end": 96.94,
            "count": 0
           },
           {
            "bin_start": 96.94,
            "bin_end": 97.47999999999999,
            "count": 0
           },
           {
            "bin_start": 97.47999999999999,
            "bin_end": 98.02,
            "count": 0
           },
           {
            "bin_start": 98.02,
            "bin_end": 98.56,
            "count": 0
           },
           {
            "bin_start": 98.56,
            "bin_end": 99.1,
            "count": 1
           }
          ]
         }
        },
        {
         "name": 10,
         "dtype": "float64",
         "stats": {
          "unique_count": 3,
          "nan_count": 0,
          "min": "0.7558865929841423",
          "max": "0.8966842864007688",
          "histogram": [
           {
            "bin_start": 0.7558865929841423,
            "bin_end": 0.769966362325805,
            "count": 1
           },
           {
            "bin_start": 0.769966362325805,
            "bin_end": 0.7840461316674676,
            "count": 0
           },
           {
            "bin_start": 0.7840461316674676,
            "bin_end": 0.7981259010091303,
            "count": 0
           },
           {
            "bin_start": 0.7981259010091303,
            "bin_end": 0.8122056703507929,
            "count": 0
           },
           {
            "bin_start": 0.8122056703507929,
            "bin_end": 0.8262854396924555,
            "count": 0
           },
           {
            "bin_start": 0.8262854396924555,
            "bin_end": 0.8403652090341183,
            "count": 1
           },
           {
            "bin_start": 0.8403652090341183,
            "bin_end": 0.8544449783757808,
            "count": 0
           },
           {
            "bin_start": 0.8544449783757808,
            "bin_end": 0.8685247477174435,
            "count": 0
           },
           {
            "bin_start": 0.8685247477174435,
            "bin_end": 0.8826045170591061,
            "count": 0
           },
           {
            "bin_start": 0.8826045170591061,
            "bin_end": 0.8966842864007688,
            "count": 1
           }
          ]
         }
        },
        {
         "name": 11,
         "dtype": "float64",
         "stats": {
          "unique_count": 3,
          "nan_count": 0,
          "min": "0.8861111111111111",
          "max": "0.9236111111111112",
          "histogram": [
           {
            "bin_start": 0.8861111111111111,
            "bin_end": 0.8898611111111111,
            "count": 1
           },
           {
            "bin_start": 0.8898611111111111,
            "bin_end": 0.8936111111111111,
            "count": 0
           },
           {
            "bin_start": 0.8936111111111111,
            "bin_end": 0.897361111111111,
            "count": 0
           },
           {
            "bin_start": 0.897361111111111,
            "bin_end": 0.9011111111111111,
            "count": 0
           },
           {
            "bin_start": 0.9011111111111111,
            "bin_end": 0.9048611111111111,
            "count": 0
           },
           {
            "bin_start": 0.9048611111111111,
            "bin_end": 0.9086111111111111,
            "count": 1
           },
           {
            "bin_start": 0.9086111111111111,
            "bin_end": 0.9123611111111112,
            "count": 0
           },
           {
            "bin_start": 0.9123611111111112,
            "bin_end": 0.9161111111111111,
            "count": 0
           },
           {
            "bin_start": 0.9161111111111111,
            "bin_end": 0.9198611111111111,
            "count": 0
           },
           {
            "bin_start": 0.9198611111111111,
            "bin_end": 0.9236111111111112,
            "count": 1
           }
          ]
         }
        },
        {
         "name": 12,
         "dtype": "float64",
         "stats": {
          "unique_count": 3,
          "nan_count": 0,
          "min": "0.8260869565217391",
          "max": "0.9381270903010034",
          "histogram": [
           {
            "bin_start": 0.8260869565217391,
            "bin_end": 0.8372909698996656,
            "count": 1
           },
           {
            "bin_start": 0.8372909698996656,
            "bin_end": 0.848494983277592,
            "count": 1
           },
           {
            "bin_start": 0.848494983277592,
            "bin_end": 0.8596989966555184,
            "count": 0
           },
           {
            "bin_start": 0.8596989966555184,
            "bin_end": 0.8709030100334448,
            "count": 0
           },
           {
            "bin_start": 0.8709030100334448,
            "bin_end": 0.8821070234113713,
            "count": 0
           },
           {
            "bin_start": 0.8821070234113713,
            "bin_end": 0.8933110367892977,
            "count": 0
           },
           {
            "bin_start": 0.8933110367892977,
            "bin_end": 0.9045150501672241,
            "count": 0
           },
           {
            "bin_start": 0.9045150501672241,
            "bin_end": 0.9157190635451505,
            "count": 0
           },
           {
            "bin_start": 0.9157190635451505,
            "bin_end": 0.926923076923077,
            "count": 0
           },
           {
            "bin_start": 0.926923076923077,
            "bin_end": 0.9381270903010034,
            "count": 1
           }
          ]
         }
        },
        {
         "name": 13,
         "dtype": "int64",
         "stats": {
          "unique_count": 3,
          "nan_count": 0,
          "min": "1989",
          "max": "2808",
          "histogram": [
           {
            "bin_start": 1989,
            "bin_end": 2070.9,
            "count": 1
           },
           {
            "bin_start": 2070.9,
            "bin_end": 2152.8,
            "count": 0
           },
           {
            "bin_start": 2152.8,
            "bin_end": 2234.7,
            "count": 0
           },
           {
            "bin_start": 2234.7,
            "bin_end": 2316.6,
            "count": 0
           },
           {
            "bin_start": 2316.6,
            "bin_end": 2398.5,
            "count": 1
           },
           {
            "bin_start": 2398.5,
            "bin_end": 2480.4,
            "count": 0
           },
           {
            "bin_start": 2480.4,
            "bin_end": 2562.3,
            "count": 0
           },
           {
            "bin_start": 2562.3,
            "bin_end": 2644.2,
            "count": 0
           },
           {
            "bin_start": 2644.2,
            "bin_end": 2726.1,
            "count": 0
           },
           {
            "bin_start": 2726.1,
            "bin_end": 2808,
            "count": 1
           }
          ]
         }
        },
        {
         "name": 14,
         "dtype": "category",
         "stats": {
          "unique_count": 2,
          "nan_count": 0,
          "categories": [
           {
            "name": "ohc",
            "count": 2
           },
           {
            "name": "dohc",
            "count": 1
           }
          ]
         }
        },
        {
         "name": 15,
         "dtype": "category",
         "stats": {
          "unique_count": 1,
          "nan_count": 0,
          "categories": [
           {
            "name": "four",
            "count": 3
           }
          ]
         }
        },
        {
         "name": 16,
         "dtype": "int64",
         "stats": {
          "unique_count": 3,
          "nan_count": 0,
          "min": "90",
          "max": "122",
          "histogram": [
           {
            "bin_start": 90,
            "bin_end": 93.2,
            "count": 1
           },
           {
            "bin_start": 93.2,
            "bin_end": 96.4,
            "count": 0
           },
           {
            "bin_start": 96.4,
            "bin_end": 99.6,
            "count": 0
           },
           {
            "bin_start": 99.6,
            "bin_end": 102.8,
            "count": 0
           },
           {
            "bin_start": 102.8,
            "bin_end": 106,
            "count": 0
           },
           {
            "bin_start": 106,
            "bin_end": 109.2,
            "count": 0
           },
           {
            "bin_start": 109.2,
            "bin_end": 112.4,
            "count": 0
           },
           {
            "bin_start": 112.4,
            "bin_end": 115.6,
            "count": 0
           },
           {
            "bin_start": 115.6,
            "bin_end": 118.8,
            "count": 0
           },
           {
            "bin_start": 118.8,
            "bin_end": 122,
            "count": 2
           }
          ]
         }
        },
        {
         "name": 17,
         "dtype": "object",
         "stats": {
          "unique_count": 2,
          "nan_count": 0,
          "categories": [
           {
            "name": "2bbl",
            "count": 2
           },
           {
            "name": "mpfi",
            "count": 1
           }
          ]
         }
        },
        {
         "name": 18,
         "dtype": "float64",
         "stats": {
          "unique_count": 3,
          "nan_count": 0,
          "min": "2.97",
          "max": "3.54",
          "histogram": [
           {
            "bin_start": 2.97,
            "bin_end": 3.027,
            "count": 1
           },
           {
            "bin_start": 3.027,
            "bin_end": 3.084,
            "count": 0
           },
           {
            "bin_start": 3.084,
            "bin_end": 3.141,
            "count": 0
           },
           {
            "bin_start": 3.141,
            "bin_end": 3.198,
            "count": 0
           },
           {
            "bin_start": 3.198,
            "bin_end": 3.255,
            "count": 0
           },
           {
            "bin_start": 3.255,
            "bin_end": 3.3120000000000003,
            "count": 0
           },
           {
            "bin_start": 3.3120000000000003,
            "bin_end": 3.369,
            "count": 1
           },
           {
            "bin_start": 3.369,
            "bin_end": 3.426,
            "count": 0
           },
           {
            "bin_start": 3.426,
            "bin_end": 3.483,
            "count": 0
           },
           {
            "bin_start": 3.483,
            "bin_end": 3.54,
            "count": 1
           }
          ]
         }
        },
        {
         "name": 19,
         "dtype": "float64",
         "stats": {
          "unique_count": 3,
          "nan_count": 0,
          "min": "3.07",
          "max": "3.46",
          "histogram": [
           {
            "bin_start": 3.07,
            "bin_end": 3.109,
            "count": 1
           },
           {
            "bin_start": 3.109,
            "bin_end": 3.1479999999999997,
            "count": 0
           },
           {
            "bin_start": 3.1479999999999997,
            "bin_end": 3.187,
            "count": 0
           },
           {
            "bin_start": 3.187,
            "bin_end": 3.226,
            "count": 0
           },
           {
            "bin_start": 3.226,
            "bin_end": 3.2649999999999997,
            "count": 1
           },
           {
            "bin_start": 3.2649999999999997,
            "bin_end": 3.304,
            "count": 0
           },
           {
            "bin_start": 3.304,
            "bin_end": 3.343,
            "count": 0
           },
           {
            "bin_start": 3.343,
            "bin_end": 3.382,
            "count": 0
           },
           {
            "bin_start": 3.382,
            "bin_end": 3.421,
            "count": 0
           },
           {
            "bin_start": 3.421,
            "bin_end": 3.46,
            "count": 1
           }
          ]
         }
        },
        {
         "name": 20,
         "dtype": "float64",
         "stats": {
          "unique_count": 3,
          "nan_count": 0,
          "min": "8.5",
          "max": "9.4",
          "histogram": [
           {
            "bin_start": 8.5,
            "bin_end": 8.59,
            "count": 1
           },
           {
            "bin_start": 8.59,
            "bin_end": 8.68,
            "count": 0
           },
           {
            "bin_start": 8.68,
            "bin_end": 8.77,
            "count": 0
           },
           {
            "bin_start": 8.77,
            "bin_end": 8.86,
            "count": 0
           },
           {
            "bin_start": 8.86,
            "bin_end": 8.95,
            "count": 0
           },
           {
            "bin_start": 8.95,
            "bin_end": 9.040000000000001,
            "count": 1
           },
           {
            "bin_start": 9.040000000000001,
            "bin_end": 9.13,
            "count": 0
           },
           {
            "bin_start": 9.13,
            "bin_end": 9.22,
            "count": 0
           },
           {
            "bin_start": 9.22,
            "bin_end": 9.31,
            "count": 0
           },
           {
            "bin_start": 9.31,
            "bin_end": 9.4,
            "count": 1
           }
          ]
         }
        },
        {
         "name": 21,
         "dtype": "int64",
         "stats": {
          "unique_count": 3,
          "nan_count": 0,
          "min": "68",
          "max": "160",
          "histogram": [
           {
            "bin_start": 68,
            "bin_end": 77.2,
            "count": 1
           },
           {
            "bin_start": 77.2,
            "bin_end": 86.4,
            "count": 0
           },
           {
            "bin_start": 86.4,
            "bin_end": 95.6,
            "count": 1
           },
           {
            "bin_start": 95.6,
            "bin_end": 104.8,
            "count": 0
           },
           {
            "bin_start": 104.8,
            "bin_end": 114,
            "count": 0
           },
           {
            "bin_start": 114,
            "bin_end": 123.19999999999999,
            "count": 0
           },
           {
            "bin_start": 123.19999999999999,
            "bin_end": 132.39999999999998,
            "count": 0
           },
           {
            "bin_start": 132.39999999999998,
            "bin_end": 141.6,
            "count": 0
           },
           {
            "bin_start": 141.6,
            "bin_end": 150.8,
            "count": 0
           },
           {
            "bin_start": 150.8,
            "bin_end": 160,
            "count": 1
           }
          ]
         }
        },
        {
         "name": 22,
         "dtype": "float64",
         "stats": {
          "unique_count": 2,
          "nan_count": 0,
          "min": "5000.0",
          "max": "5500.0",
          "histogram": [
           {
            "bin_start": 5000,
            "bin_end": 5050,
            "count": 1
           },
           {
            "bin_start": 5050,
            "bin_end": 5100,
            "count": 0
           },
           {
            "bin_start": 5100,
            "bin_end": 5150,
            "count": 0
           },
           {
            "bin_start": 5150,
            "bin_end": 5200,
            "count": 0
           },
           {
            "bin_start": 5200,
            "bin_end": 5250,
            "count": 0
           },
           {
            "bin_start": 5250,
            "bin_end": 5300,
            "count": 0
           },
           {
            "bin_start": 5300,
            "bin_end": 5350,
            "count": 0
           },
           {
            "bin_start": 5350,
            "bin_end": 5400,
            "count": 0
           },
           {
            "bin_start": 5400,
            "bin_end": 5450,
            "count": 0
           },
           {
            "bin_start": 5450,
            "bin_end": 5500,
            "count": 2
           }
          ]
         }
        },
        {
         "name": 23,
         "dtype": "float64",
         "stats": {
          "unique_count": 3,
          "nan_count": 0,
          "min": "7.580645161290323",
          "max": "12.368421052631579",
          "histogram": [
           {
            "bin_start": 7.580645161290323,
            "bin_end": 8.05942275042445,
            "count": 1
           },
           {
            "bin_start": 8.05942275042445,
            "bin_end": 8.538200339558575,
            "count": 0
           },
           {
            "bin_start": 8.538200339558575,
            "bin_end": 9.0169779286927,
            "count": 0
           },
           {
            "bin_start": 9.0169779286927,
            "bin_end": 9.495755517826826,
            "count": 1
           },
           {
            "bin_start": 9.495755517826826,
            "bin_end": 9.974533106960951,
            "count": 0
           },
           {
            "bin_start": 9.974533106960951,
            "bin_end": 10.453310696095077,
            "count": 0
           },
           {
            "bin_start": 10.453310696095077,
            "bin_end": 10.932088285229202,
            "count": 0
           },
           {
            "bin_start": 10.932088285229202,
            "bin_end": 11.410865874363328,
            "count": 0
           },
           {
            "bin_start": 11.410865874363328,
            "bin_end": 11.889643463497453,
            "count": 0
           },
           {
            "bin_start": 11.889643463497453,
            "bin_end": 12.368421052631579,
            "count": 1
           }
          ]
         }
        },
        {
         "name": 24,
         "dtype": "float64",
         "stats": {
          "unique_count": 3,
          "nan_count": 0,
          "min": "6.184210526315789",
          "max": "9.038461538461538",
          "histogram": [
           {
            "bin_start": 6.184210526315789,
            "bin_end": 6.469635627530364,
            "count": 1
           },
           {
            "bin_start": 6.469635627530364,
            "bin_end": 6.755060728744939,
            "count": 0
           },
           {
            "bin_start": 6.755060728744939,
            "bin_end": 7.040485829959514,
            "count": 0
           },
           {
            "bin_start": 7.040485829959514,
            "bin_end": 7.325910931174089,
            "count": 0
           },
           {
            "bin_start": 7.325910931174089,
            "bin_end": 7.611336032388664,
            "count": 1
           },
           {
            "bin_start": 7.611336032388664,
            "bin_end": 7.896761133603238,
            "count": 0
           },
           {
            "bin_start": 7.896761133603238,
            "bin_end": 8.182186234817813,
            "count": 0
           },
           {
            "bin_start": 8.182186234817813,
            "bin_end": 8.467611336032387,
            "count": 0
           },
           {
            "bin_start": 8.467611336032387,
            "bin_end": 8.753036437246964,
            "count": 0
           },
           {
            "bin_start": 8.753036437246964,
            "bin_end": 9.038461538461538,
            "count": 1
           }
          ]
         }
        },
        {
         "name": 25,
         "dtype": "float64",
         "stats": {
          "unique_count": 3,
          "nan_count": 0,
          "min": "6692.0",
          "max": "18150.0",
          "histogram": [
           {
            "bin_start": 6692,
            "bin_end": 7837.8,
            "count": 1
           },
           {
            "bin_start": 7837.8,
            "bin_end": 8983.6,
            "count": 1
           },
           {
            "bin_start": 8983.6,
            "bin_end": 10129.4,
            "count": 0
           },
           {
            "bin_start": 10129.4,
            "bin_end": 11275.2,
            "count": 0
           },
           {
            "bin_start": 11275.2,
            "bin_end": 12421,
            "count": 0
           },
           {
            "bin_start": 12421,
            "bin_end": 13566.8,
            "count": 0
           },
           {
            "bin_start": 13566.8,
            "bin_end": 14712.599999999999,
            "count": 0
           },
           {
            "bin_start": 14712.599999999999,
            "bin_end": 15858.4,
            "count": 0
           },
           {
            "bin_start": 15858.4,
            "bin_end": 17004.199999999997,
            "count": 0
           },
           {
            "bin_start": 17004.199999999997,
            "bin_end": 18150,
            "count": 1
           }
          ]
         }
        },
        {
         "name": 26,
         "dtype": "category",
         "stats": {
          "unique_count": 2,
          "nan_count": 0,
          "categories": [
           {
            "name": "Low",
            "count": 2
           },
           {
            "name": "Medium",
            "count": 1
           }
          ]
         }
        },
        {
         "name": 27,
         "dtype": "uint8",
         "stats": {
          "unique_count": 1,
          "nan_count": 0,
          "min": "0",
          "max": "0",
          "histogram": [
           {
            "bin_start": -0.5,
            "bin_end": -0.4,
            "count": 0
           },
           {
            "bin_start": -0.4,
            "bin_end": -0.3,
            "count": 0
           },
           {
            "bin_start": -0.3,
            "bin_end": -0.19999999999999996,
            "count": 0
           },
           {
            "bin_start": -0.19999999999999996,
            "bin_end": -0.09999999999999998,
            "count": 0
           },
           {
            "bin_start": -0.09999999999999998,
            "bin_end": 0,
            "count": 0
           },
           {
            "bin_start": 0,
            "bin_end": 0.10000000000000009,
            "count": 3
           },
           {
            "bin_start": 0.10000000000000009,
            "bin_end": 0.20000000000000007,
            "count": 0
           },
           {
            "bin_start": 0.20000000000000007,
            "bin_end": 0.30000000000000004,
            "count": 0
           },
           {
            "bin_start": 0.30000000000000004,
            "bin_end": 0.4,
            "count": 0
           },
           {
            "bin_start": 0.4,
            "bin_end": 0.5,
            "count": 0
           }
          ]
         }
        },
        {
         "name": 28,
         "dtype": "uint8",
         "stats": {
          "unique_count": 1,
          "nan_count": 0,
          "min": "1",
          "max": "1",
          "histogram": [
           {
            "bin_start": 0.5,
            "bin_end": 0.6,
            "count": 0
           },
           {
            "bin_start": 0.6,
            "bin_end": 0.7,
            "count": 0
           },
           {
            "bin_start": 0.7,
            "bin_end": 0.8,
            "count": 0
           },
           {
            "bin_start": 0.8,
            "bin_end": 0.9,
            "count": 0
           },
           {
            "bin_start": 0.9,
            "bin_end": 1,
            "count": 0
           },
           {
            "bin_start": 1,
            "bin_end": 1.1,
            "count": 3
           },
           {
            "bin_start": 1.1,
            "bin_end": 1.2000000000000002,
            "count": 0
           },
           {
            "bin_start": 1.2000000000000002,
            "bin_end": 1.3,
            "count": 0
           },
           {
            "bin_start": 1.3,
            "bin_end": 1.4,
            "count": 0
           },
           {
            "bin_start": 1.4,
            "bin_end": 1.5,
            "count": 0
           }
          ]
         }
        },
        {
         "name": "_deepnote_index_column",
         "dtype": "int64"
        }
       ],
       "rows": [
        {
         "0": 1,
         "1": 148,
         "2": "dodge",
         "3": "gas",
         "4": "std",
         "5": "four",
         "6": "sedan",
         "7": "fwd",
         "8": "front",
         "9": 93.7,
         "10": 0.7558865929841423,
         "11": 0.8861111111111111,
         "12": 0.8461538461538463,
         "13": 1989,
         "14": "ohc",
         "15": "four",
         "16": 90,
         "17": "2bbl",
         "18": 2.97,
         "19": 3.23,
         "20": 9.4,
         "21": 68,
         "22": 5500,
         "23": 7.580645161290323,
         "24": 6.184210526315789,
         "25": 6692,
         "26": "Low",
         "27": 0,
         "28": 1,
         "_deepnote_index_column": 24
        },
        {
         "0": 3,
         "1": 153,
         "2": "mitsubishi",
         "3": "gas",
         "4": "std",
         "5": "two",
         "6": "hatchback",
         "7": "fwd",
         "8": "front",
         "9": 96.3,
         "10": 0.8313310908217203,
         "11": 0.9083333333333334,
         "12": 0.8260869565217391,
         "13": 2328,
         "14": "ohc",
         "15": "four",
         "16": 122,
         "17": "2bbl",
         "18": 3.35,
         "19": 3.46,
         "20": 8.5,
         "21": 88,
         "22": 5000,
         "23": 9.4,
         "24": 7.34375,
         "25": 8499,
         "26": "Low",
         "27": 0,
         "28": 1,
         "_deepnote_index_column": 78
        },
        {
         "0": 3,
         "1": 150,
         "2": "saab",
         "3": "gas",
         "4": "turbo",
         "5": "two",
         "6": "hatchback",
         "7": "fwd",
         "8": "front",
         "9": 99.1,
         "10": 0.8966842864007688,
         "11": 0.9236111111111112,
         "12": 0.9381270903010034,
         "13": 2808,
         "14": "dohc",
         "15": "four",
         "16": 121,
         "17": "mpfi",
         "18": 3.54,
         "19": 3.07,
         "20": 9,
         "21": 160,
         "22": 5500,
         "23": 12.368421052631579,
         "24": 9.038461538461538,
         "25": 18150,
         "26": "Medium",
         "27": 0,
         "28": 1,
         "_deepnote_index_column": 132
        }
       ]
      },
      "text/plain": "     0    1           2    3      4     5          6    7      8      9   ...  \\\n24    1  148       dodge  gas    std  four      sedan  fwd  front 93.700  ...   \n78    3  153  mitsubishi  gas    std   two  hatchback  fwd  front 96.300  ...   \n132   3  150        saab  gas  turbo   two  hatchback  fwd  front 99.100  ...   \n\n       19    20   21        22     23    24         25      26  27  28  \n24  3.230 9.400   68 5,500.000  7.581 6.184  6,692.000     Low   0   1  \n78  3.460 8.500   88 5,000.000  9.400 7.344  8,499.000     Low   0   1  \n132 3.070 9.000  160 5,500.000 12.368 9.038 18,150.000  Medium   0   1  \n\n[3 rows x 29 columns]",
      "text/html": "<div>\n<style scoped>\n    .dataframe tbody tr th:only-of-type {\n        vertical-align: middle;\n    }\n\n    .dataframe tbody tr th {\n        vertical-align: top;\n    }\n\n    .dataframe thead th {\n        text-align: right;\n    }\n</style>\n<table border=\"1\" class=\"dataframe\">\n  <thead>\n    <tr style=\"text-align: right;\">\n      <th></th>\n      <th>0</th>\n      <th>1</th>\n      <th>2</th>\n      <th>3</th>\n      <th>4</th>\n      <th>5</th>\n      <th>6</th>\n      <th>7</th>\n      <th>8</th>\n      <th>9</th>\n      <th>...</th>\n      <th>19</th>\n      <th>20</th>\n      <th>21</th>\n      <th>22</th>\n      <th>23</th>\n      <th>24</th>\n      <th>25</th>\n      <th>26</th>\n      <th>27</th>\n      <th>28</th>\n    </tr>\n  </thead>\n  <tbody>\n    <tr>\n      <th>24</th>\n      <td>1</td>\n      <td>148</td>\n      <td>dodge</td>\n      <td>gas</td>\n      <td>std</td>\n      <td>four</td>\n      <td>sedan</td>\n      <td>fwd</td>\n      <td>front</td>\n      <td>93.700</td>\n      <td>...</td>\n      <td>3.230</td>\n      <td>9.400</td>\n      <td>68</td>\n      <td>5,500.000</td>\n      <td>7.581</td>\n      <td>6.184</td>\n      <td>6,692.000</td>\n      <td>Low</td>\n      <td>0</td>\n      <td>1</td>\n    </tr>\n    <tr>\n      <th>78</th>\n      <td>3</td>\n      <td>153</td>\n      <td>mitsubishi</td>\n      <td>gas</td>\n      <td>std</td>\n      <td>two</td>\n      <td>hatchback</td>\n      <td>fwd</td>\n      <td>front</td>\n      <td>96.300</td>\n      <td>...</td>\n      <td>3.460</td>\n      <td>8.500</td>\n      <td>88</td>\n      <td>5,000.000</td>\n      <td>9.400</td>\n      <td>7.344</td>\n      <td>8,499.000</td>\n      <td>Low</td>\n      <td>0</td>\n      <td>1</td>\n    </tr>\n    <tr>\n      <th>132</th>\n      <td>3</td>\n      <td>150</td>\n      <td>saab</td>\n      <td>gas</td>\n      <td>turbo</td>\n      <td>two</td>\n      <td>hatchback</td>\n      <td>fwd</td>\n      <td>front</td>\n      <td>99.100</td>\n      <td>...</td>\n      <td>3.070</td>\n      <td>9.000</td>\n      <td>160</td>\n      <td>5,500.000</td>\n      <td>12.368</td>\n      <td>9.038</td>\n      <td>18,150.000</td>\n      <td>Medium</td>\n      <td>0</td>\n      <td>1</td>\n    </tr>\n  </tbody>\n</table>\n<p>3 rows × 29 columns</p>\n</div>"
     },
     "metadata": {}
    }
   ]
  },
  {
   "cell_type": "code",
   "metadata": {
    "cell_id": "6fecd575-17a9-4da1-81ba-04fd8adf9f25",
    "tags": [],
    "deepnote_to_be_reexecuted": false,
    "source_hash": "6944da2b",
    "execution_start": 1645738837256,
    "execution_millis": 2,
    "deepnote_cell_type": "code"
   },
   "source": "headers = [\"symboling\",\"normalized-losses\",\"make\",\"fuel-type\",\"aspiration\", \"num-of-doors\",\"body-style\",\n         \"drive-wheels\",\"engine-location\",\"wheel-base\", \"length\",\"width\",\"height\",\"curb-weight\",\"engine-type\",\n         \"num-of-cylinders\", \"engine-size\",\"fuel-system\",\"bore\",\"stroke\",\"compression-ratio\",\"horsepower\",\n         \"peak-rpm\",\"city-l/100km\",\"highway-l/100km\",\"price\", 'horsepower_binned', 'fuel_type_diesel', 'fuel_type_gas']",
   "execution_count": 46,
   "outputs": []
  },
  {
   "cell_type": "code",
   "metadata": {
    "cell_id": "803fecbf-a63c-4037-8f00-bc7fc31c8f01",
    "tags": [],
    "deepnote_to_be_reexecuted": false,
    "source_hash": "ee8bacfa",
    "execution_start": 1645738839262,
    "execution_millis": 3,
    "deepnote_cell_type": "code"
   },
   "source": "df_auto.columns = headers",
   "execution_count": 47,
   "outputs": []
  },
  {
   "cell_type": "code",
   "metadata": {
    "cell_id": "f3745150-ddff-4cad-af37-362274bc2b36",
    "tags": [],
    "deepnote_to_be_reexecuted": false,
    "source_hash": "2658c17e",
    "execution_start": 1645738848773,
    "execution_millis": 461,
    "deepnote_cell_type": "code"
   },
   "source": "df_auto.drop(columns = 'fuel-type', axis = 1, inplace = True)\ndf_auto.head()",
   "execution_count": 48,
   "outputs": [
    {
     "output_type": "execute_result",
     "execution_count": 48,
     "data": {
      "application/vnd.deepnote.dataframe.v3+json": {
       "column_count": 28,
       "row_count": 5,
       "columns": [
        {
         "name": "symboling",
         "dtype": "int64",
         "stats": {
          "unique_count": 3,
          "nan_count": 0,
          "min": "1",
          "max": "3",
          "histogram": [
           {
            "bin_start": 1,
            "bin_end": 1.2,
            "count": 1
           },
           {
            "bin_start": 1.2,
            "bin_end": 1.4,
            "count": 0
           },
           {
            "bin_start": 1.4,
            "bin_end": 1.6,
            "count": 0
           },
           {
            "bin_start": 1.6,
            "bin_end": 1.8,
            "count": 0
           },
           {
            "bin_start": 1.8,
            "bin_end": 2,
            "count": 0
           },
           {
            "bin_start": 2,
            "bin_end": 2.2,
            "count": 2
           },
           {
            "bin_start": 2.2,
            "bin_end": 2.4000000000000004,
            "count": 0
           },
           {
            "bin_start": 2.4000000000000004,
            "bin_end": 2.6,
            "count": 0
           },
           {
            "bin_start": 2.6,
            "bin_end": 2.8,
            "count": 0
           },
           {
            "bin_start": 2.8,
            "bin_end": 3,
            "count": 2
           }
          ]
         }
        },
        {
         "name": "normalized-losses",
         "dtype": "int64",
         "stats": {
          "unique_count": 2,
          "nan_count": 0,
          "min": "122",
          "max": "164",
          "histogram": [
           {
            "bin_start": 122,
            "bin_end": 126.2,
            "count": 3
           },
           {
            "bin_start": 126.2,
            "bin_end": 130.4,
            "count": 0
           },
           {
            "bin_start": 130.4,
            "bin_end": 134.6,
            "count": 0
           },
           {
            "bin_start": 134.6,
            "bin_end": 138.8,
            "count": 0
           },
           {
            "bin_start": 138.8,
            "bin_end": 143,
            "count": 0
           },
           {
            "bin_start": 143,
            "bin_end": 147.2,
            "count": 0
           },
           {
            "bin_start": 147.2,
            "bin_end": 151.4,
            "count": 0
           },
           {
            "bin_start": 151.4,
            "bin_end": 155.6,
            "count": 0
           },
           {
            "bin_start": 155.6,
            "bin_end": 159.8,
            "count": 0
           },
           {
            "bin_start": 159.8,
            "bin_end": 164,
            "count": 2
           }
          ]
         }
        },
        {
         "name": "make",
         "dtype": "object",
         "stats": {
          "unique_count": 2,
          "nan_count": 0,
          "categories": [
           {
            "name": "alfa-romero",
            "count": 3
           },
           {
            "name": "audi",
            "count": 2
           }
          ]
         }
        },
        {
         "name": "aspiration",
         "dtype": "category",
         "stats": {
          "unique_count": 1,
          "nan_count": 0,
          "categories": [
           {
            "name": "std",
            "count": 5
           }
          ]
         }
        },
        {
         "name": "num-of-doors",
         "dtype": "category",
         "stats": {
          "unique_count": 2,
          "nan_count": 0,
          "categories": [
           {
            "name": "two",
            "count": 3
           },
           {
            "name": "four",
            "count": 2
           }
          ]
         }
        },
        {
         "name": "body-style",
         "dtype": "category",
         "stats": {
          "unique_count": 3,
          "nan_count": 0,
          "categories": [
           {
            "name": "convertible",
            "count": 2
           },
           {
            "name": "sedan",
            "count": 2
           },
           {
            "name": "hatchback",
            "count": 1
           }
          ]
         }
        },
        {
         "name": "drive-wheels",
         "dtype": "category",
         "stats": {
          "unique_count": 3,
          "nan_count": 0,
          "categories": [
           {
            "name": "rwd",
            "count": 3
           },
           {
            "name": "fwd",
            "count": 1
           },
           {
            "name": "4wd",
            "count": 1
           }
          ]
         }
        },
        {
         "name": "engine-location",
         "dtype": "category",
         "stats": {
          "unique_count": 1,
          "nan_count": 0,
          "categories": [
           {
            "name": "front",
            "count": 5
           }
          ]
         }
        },
        {
         "name": "wheel-base",
         "dtype": "float64",
         "stats": {
          "unique_count": 4,
          "nan_count": 0,
          "min": "88.6",
          "max": "99.8",
          "histogram": [
           {
            "bin_start": 88.6,
            "bin_end": 89.72,
            "count": 2
           },
           {
            "bin_start": 89.72,
            "bin_end": 90.83999999999999,
            "count": 0
           },
           {
            "bin_start": 90.83999999999999,
            "bin_end": 91.96,
            "count": 0
           },
           {
            "bin_start": 91.96,
            "bin_end": 93.08,
            "count": 0
           },
           {
            "bin_start": 93.08,
            "bin_end": 94.19999999999999,
            "count": 0
           },
           {
            "bin_start": 94.19999999999999,
            "bin_end": 95.32,
            "count": 1
           },
           {
            "bin_start": 95.32,
            "bin_end": 96.44,
            "count": 0
           },
           {
            "bin_start": 96.44,
            "bin_end": 97.56,
            "count": 0
           },
           {
            "bin_start": 97.56,
            "bin_end": 98.67999999999999,
            "count": 0
           },
           {
            "bin_start": 98.67999999999999,
            "bin_end": 99.8,
            "count": 2
           }
          ]
         }
        },
        {
         "name": "length",
         "dtype": "float64",
         "stats": {
          "unique_count": 3,
          "nan_count": 0,
          "min": "0.8111484863046613",
          "max": "0.8486304661220567",
          "histogram": [
           {
            "bin_start": 0.8111484863046613,
            "bin_end": 0.8148966842864008,
            "count": 2
           },
           {
            "bin_start": 0.8148966842864008,
            "bin_end": 0.8186448822681404,
            "count": 0
           },
           {
            "bin_start": 0.8186448822681404,
            "bin_end": 0.8223930802498799,
            "count": 0
           },
           {
            "bin_start": 0.8223930802498799,
            "bin_end": 0.8261412782316194,
            "count": 1
           },
           {
            "bin_start": 0.8261412782316194,
            "bin_end": 0.8298894762133591,
            "count": 0
           },
           {
            "bin_start": 0.8298894762133591,
            "bin_end": 0.8336376741950986,
            "count": 0
           },
           {
            "bin_start": 0.8336376741950986,
            "bin_end": 0.8373858721768381,
            "count": 0
           },
           {
            "bin_start": 0.8373858721768381,
            "bin_end": 0.8411340701585777,
            "count": 0
           },
           {
            "bin_start": 0.8411340701585777,
            "bin_end": 0.8448822681403172,
            "count": 0
           },
           {
            "bin_start": 0.8448822681403172,
            "bin_end": 0.8486304661220567,
            "count": 2
           }
          ]
         }
        },
        {
         "name": "width",
         "dtype": "float64",
         "stats": {
          "unique_count": 4,
          "nan_count": 0,
          "min": "0.8902777777777777",
          "max": "0.9222222222222223",
          "histogram": [
           {
            "bin_start": 0.8902777777777777,
            "bin_end": 0.8934722222222222,
            "count": 2
           },
           {
            "bin_start": 0.8934722222222222,
            "bin_end": 0.8966666666666666,
            "count": 0
           },
           {
            "bin_start": 0.8966666666666666,
            "bin_end": 0.8998611111111111,
            "count": 0
           },
           {
            "bin_start": 0.8998611111111111,
            "bin_end": 0.9030555555555555,
            "count": 0
           },
           {
            "bin_start": 0.9030555555555555,
            "bin_end": 0.90625,
            "count": 0
           },
           {
            "bin_start": 0.90625,
            "bin_end": 0.9094444444444445,
            "count": 0
           },
           {
            "bin_start": 0.9094444444444445,
            "bin_end": 0.9126388888888889,
            "count": 1
           },
           {
            "bin_start": 0.9126388888888889,
            "bin_end": 0.9158333333333334,
            "count": 0
           },
           {
            "bin_start": 0.9158333333333334,
            "bin_end": 0.9190277777777778,
            "count": 0
           },
           {
            "bin_start": 0.9190277777777778,
            "bin_end": 0.9222222222222223,
            "count": 2
           }
          ]
         }
        },
        {
         "name": "height",
         "dtype": "float64",
         "stats": {
          "unique_count": 3,
          "nan_count": 0,
          "min": "0.8160535117056856",
          "max": "0.9080267558528428",
          "histogram": [
           {
            "bin_start": 0.8160535117056856,
            "bin_end": 0.8252508361204014,
            "count": 2
           },
           {
            "bin_start": 0.8252508361204014,
            "bin_end": 0.8344481605351171,
            "count": 0
           },
           {
            "bin_start": 0.8344481605351171,
            "bin_end": 0.8436454849498327,
            "count": 0
           },
           {
            "bin_start": 0.8436454849498327,
            "bin_end": 0.8528428093645485,
            "count": 0
           },
           {
            "bin_start": 0.8528428093645485,
            "bin_end": 0.8620401337792643,
            "count": 0
           },
           {
            "bin_start": 0.8620401337792643,
            "bin_end": 0.8712374581939799,
            "count": 0
           },
           {
            "bin_start": 0.8712374581939799,
            "bin_end": 0.8804347826086956,
            "count": 1
           },
           {
            "bin_start": 0.8804347826086956,
            "bin_end": 0.8896321070234113,
            "count": 0
           },
           {
            "bin_start": 0.8896321070234113,
            "bin_end": 0.8988294314381271,
            "count": 0
           },
           {
            "bin_start": 0.8988294314381271,
            "bin_end": 0.9080267558528428,
            "count": 2
           }
          ]
         }
        },
        {
         "name": "curb-weight",
         "dtype": "int64",
         "stats": {
          "unique_count": 4,
          "nan_count": 0,
          "min": "2337",
          "max": "2824",
          "histogram": [
           {
            "bin_start": 2337,
            "bin_end": 2385.7,
            "count": 1
           },
           {
            "bin_start": 2385.7,
            "bin_end": 2434.4,
            "count": 0
           },
           {
            "bin_start": 2434.4,
            "bin_end": 2483.1,
            "count": 0
           },
           {
            "bin_start": 2483.1,
            "bin_end": 2531.8,
            "count": 0
           },
           {
            "bin_start": 2531.8,
            "bin_end": 2580.5,
            "count": 2
           },
           {
            "bin_start": 2580.5,
            "bin_end": 2629.2,
            "count": 0
           },
           {
            "bin_start": 2629.2,
            "bin_end": 2677.9,
            "count": 0
           },
           {
            "bin_start": 2677.9,
            "bin_end": 2726.6,
            "count": 0
           },
           {
            "bin_start": 2726.6,
            "bin_end": 2775.3,
            "count": 0
           },
           {
            "bin_start": 2775.3,
            "bin_end": 2824,
            "count": 2
           }
          ]
         }
        },
        {
         "name": "engine-type",
         "dtype": "category",
         "stats": {
          "unique_count": 3,
          "nan_count": 0,
          "categories": [
           {
            "name": "dohc",
            "count": 2
           },
           {
            "name": "ohc",
            "count": 2
           },
           {
            "name": "ohcv",
            "count": 1
           }
          ]
         }
        },
        {
         "name": "num-of-cylinders",
         "dtype": "category",
         "stats": {
          "unique_count": 3,
          "nan_count": 0,
          "categories": [
           {
            "name": "four",
            "count": 3
           },
           {
            "name": "six",
            "count": 1
           },
           {
            "name": "five",
            "count": 1
           }
          ]
         }
        },
        {
         "name": "engine-size",
         "dtype": "int64",
         "stats": {
          "unique_count": 4,
          "nan_count": 0,
          "min": "109",
          "max": "152",
          "histogram": [
           {
            "bin_start": 109,
            "bin_end": 113.3,
            "count": 1
           },
           {
            "bin_start": 113.3,
            "bin_end": 117.6,
            "count": 0
           },
           {
            "bin_start": 117.6,
            "bin_end": 121.9,
            "count": 0
           },
           {
            "bin_start": 121.9,
            "bin_end": 126.2,
            "count": 0
           },
           {
            "bin_start": 126.2,
            "bin_end": 130.5,
            "count": 2
           },
           {
            "bin_start": 130.5,
            "bin_end": 134.8,
            "count": 0
           },
           {
            "bin_start": 134.8,
            "bin_end": 139.1,
            "count": 1
           },
           {
            "bin_start": 139.1,
            "bin_end": 143.4,
            "count": 0
           },
           {
            "bin_start": 143.4,
            "bin_end": 147.7,
            "count": 0
           },
           {
            "bin_start": 147.7,
            "bin_end": 152,
            "count": 1
           }
          ]
         }
        },
        {
         "name": "fuel-system",
         "dtype": "object",
         "stats": {
          "unique_count": 1,
          "nan_count": 0,
          "categories": [
           {
            "name": "mpfi",
            "count": 5
           }
          ]
         }
        },
        {
         "name": "bore",
         "dtype": "float64",
         "stats": {
          "unique_count": 3,
          "nan_count": 0,
          "min": "2.68",
          "max": "3.47",
          "histogram": [
           {
            "bin_start": 2.68,
            "bin_end": 2.7590000000000003,
            "count": 1
           },
           {
            "bin_start": 2.7590000000000003,
            "bin_end": 2.838,
            "count": 0
           },
           {
            "bin_start": 2.838,
            "bin_end": 2.9170000000000003,
            "count": 0
           },
           {
            "bin_start": 2.9170000000000003,
            "bin_end": 2.996,
            "count": 0
           },
           {
            "bin_start": 2.996,
            "bin_end": 3.075,
            "count": 0
           },
           {
            "bin_start": 3.075,
            "bin_end": 3.154,
            "count": 0
           },
           {
            "bin_start": 3.154,
            "bin_end": 3.233,
            "count": 2
           },
           {
            "bin_start": 3.233,
            "bin_end": 3.3120000000000003,
            "count": 0
           },
           {
            "bin_start": 3.3120000000000003,
            "bin_end": 3.391,
            "count": 0
           },
           {
            "bin_start": 3.391,
            "bin_end": 3.47,
            "count": 2
           }
          ]
         }
        },
        {
         "name": "stroke",
         "dtype": "float64",
         "stats": {
          "unique_count": 3,
          "nan_count": 0,
          "min": "2.68",
          "max": "3.47",
          "histogram": [
           {
            "bin_start": 2.68,
            "bin_end": 2.7590000000000003,
            "count": 2
           },
           {
            "bin_start": 2.7590000000000003,
            "bin_end": 2.838,
            "count": 0
           },
           {
            "bin_start": 2.838,
            "bin_end": 2.9170000000000003,
            "count": 0
           },
           {
            "bin_start": 2.9170000000000003,
            "bin_end": 2.996,
            "count": 0
           },
           {
            "bin_start": 2.996,
            "bin_end": 3.075,
            "count": 0
           },
           {
            "bin_start": 3.075,
            "bin_end": 3.154,
            "count": 0
           },
           {
            "bin_start": 3.154,
            "bin_end": 3.233,
            "count": 0
           },
           {
            "bin_start": 3.233,
            "bin_end": 3.3120000000000003,
            "count": 0
           },
           {
            "bin_start": 3.3120000000000003,
            "bin_end": 3.391,
            "count": 0
           },
           {
            "bin_start": 3.391,
            "bin_end": 3.47,
            "count": 3
           }
          ]
         }
        },
        {
         "name": "compression-ratio",
         "dtype": "float64",
         "stats": {
          "unique_count": 3,
          "nan_count": 0,
          "min": "8.0",
          "max": "10.0",
          "histogram": [
           {
            "bin_start": 8,
            "bin_end": 8.2,
            "count": 1
           },
           {
            "bin_start": 8.2,
            "bin_end": 8.4,
            "count": 0
           },
           {
            "bin_start": 8.4,
            "bin_end": 8.6,
            "count": 0
           },
           {
            "bin_start": 8.6,
            "bin_end": 8.8,
            "count": 0
           },
           {
            "bin_start": 8.8,
            "bin_end": 9,
            "count": 0
           },
           {
            "bin_start": 9,
            "bin_end": 9.2,
            "count": 3
           },
           {
            "bin_start": 9.2,
            "bin_end": 9.4,
            "count": 0
           },
           {
            "bin_start": 9.4,
            "bin_end": 9.6,
            "count": 0
           },
           {
            "bin_start": 9.6,
            "bin_end": 9.8,
            "count": 0
           },
           {
            "bin_start": 9.8,
            "bin_end": 10,
            "count": 1
           }
          ]
         }
        },
        {
         "name": "horsepower",
         "dtype": "int64",
         "stats": {
          "unique_count": 4,
          "nan_count": 0,
          "min": "102",
          "max": "154",
          "histogram": [
           {
            "bin_start": 102,
            "bin_end": 107.2,
            "count": 1
           },
           {
            "bin_start": 107.2,
            "bin_end": 112.4,
            "count": 2
           },
           {
            "bin_start": 112.4,
            "bin_end": 117.6,
            "count": 1
           },
           {
            "bin_start": 117.6,
            "bin_end": 122.8,
            "count": 0
           },
           {
            "bin_start": 122.8,
            "bin_end": 128,
            "count": 0
           },
           {
            "bin_start": 128,
            "bin_end": 133.2,
            "count": 0
           },
           {
            "bin_start": 133.2,
            "bin_end": 138.4,
            "count": 0
           },
           {
            "bin_start": 138.4,
            "bin_end": 143.6,
            "count": 0
           },
           {
            "bin_start": 143.6,
            "bin_end": 148.8,
            "count": 0
           },
           {
            "bin_start": 148.8,
            "bin_end": 154,
            "count": 1
           }
          ]
         }
        },
        {
         "name": "peak-rpm",
         "dtype": "float64",
         "stats": {
          "unique_count": 2,
          "nan_count": 0,
          "min": "5000.0",
          "max": "5500.0",
          "histogram": [
           {
            "bin_start": 5000,
            "bin_end": 5050,
            "count": 3
           },
           {
            "bin_start": 5050,
            "bin_end": 5100,
            "count": 0
           },
           {
            "bin_start": 5100,
            "bin_end": 5150,
            "count": 0
           },
           {
            "bin_start": 5150,
            "bin_end": 5200,
            "count": 0
           },
           {
            "bin_start": 5200,
            "bin_end": 5250,
            "count": 0
           },
           {
            "bin_start": 5250,
            "bin_end": 5300,
            "count": 0
           },
           {
            "bin_start": 5300,
            "bin_end": 5350,
            "count": 0
           },
           {
            "bin_start": 5350,
            "bin_end": 5400,
            "count": 0
           },
           {
            "bin_start": 5400,
            "bin_end": 5450,
            "count": 0
           },
           {
            "bin_start": 5450,
            "bin_end": 5500,
            "count": 2
           }
          ]
         }
        },
        {
         "name": "city-l/100km",
         "dtype": "float64",
         "stats": {
          "unique_count": 4,
          "nan_count": 0,
          "min": "9.791666666666666",
          "max": "13.055555555555555",
          "histogram": [
           {
            "bin_start": 9.791666666666666,
            "bin_end": 10.118055555555555,
            "count": 1
           },
           {
            "bin_start": 10.118055555555555,
            "bin_end": 10.444444444444445,
            "count": 0
           },
           {
            "bin_start": 10.444444444444445,
            "bin_end": 10.770833333333332,
            "count": 0
           },
           {
            "bin_start": 10.770833333333332,
            "bin_end": 11.097222222222221,
            "count": 0
           },
           {
            "bin_start": 11.097222222222221,
            "bin_end": 11.42361111111111,
            "count": 2
           },
           {
            "bin_start": 11.42361111111111,
            "bin_end": 11.75,
            "count": 0
           },
           {
            "bin_start": 11.75,
            "bin_end": 12.07638888888889,
            "count": 0
           },
           {
            "bin_start": 12.07638888888889,
            "bin_end": 12.402777777777779,
            "count": 1
           },
           {
            "bin_start": 12.402777777777779,
            "bin_end": 12.729166666666666,
            "count": 0
           },
           {
            "bin_start": 12.729166666666666,
            "bin_end": 13.055555555555555,
            "count": 1
           }
          ]
         }
        },
        {
         "name": "highway-l/100km",
         "dtype": "float64",
         "stats": {
          "unique_count": 4,
          "nan_count": 0,
          "min": "7.833333333333333",
          "max": "10.681818181818182",
          "histogram": [
           {
            "bin_start": 7.833333333333333,
            "bin_end": 8.118181818181817,
            "count": 1
           },
           {
            "bin_start": 8.118181818181817,
            "bin_end": 8.403030303030302,
            "count": 0
           },
           {
            "bin_start": 8.403030303030302,
            "bin_end": 8.687878787878788,
            "count": 0
           },
           {
            "bin_start": 8.687878787878788,
            "bin_end": 8.972727272727273,
            "count": 2
           },
           {
            "bin_start": 8.972727272727273,
            "bin_end": 9.257575757575758,
            "count": 1
           },
           {
            "bin_start": 9.257575757575758,
            "bin_end": 9.542424242424243,
            "count": 0
           },
           {
            "bin_start": 9.542424242424243,
            "bin_end": 9.827272727272726,
            "count": 0
           },
           {
            "bin_start": 9.827272727272726,
            "bin_end": 10.112121212121211,
            "count": 0
           },
           {
            "bin_start": 10.112121212121211,
            "bin_end": 10.396969696969697,
            "count": 0
           },
           {
            "bin_start": 10.396969696969697,
            "bin_end": 10.681818181818182,
            "count": 1
           }
          ]
         }
        },
        {
         "name": "price",
         "dtype": "float64",
         "stats": {
          "unique_count": 4,
          "nan_count": 0,
          "min": "13495.0",
          "max": "17450.0",
          "histogram": [
           {
            "bin_start": 13495,
            "bin_end": 13890.5,
            "count": 1
           },
           {
            "bin_start": 13890.5,
            "bin_end": 14286,
            "count": 1
           },
           {
            "bin_start": 14286,
            "bin_end": 14681.5,
            "count": 0
           },
           {
            "bin_start": 14681.5,
            "bin_end": 15077,
            "count": 0
           },
           {
            "bin_start": 15077,
            "bin_end": 15472.5,
            "count": 0
           },
           {
            "bin_start": 15472.5,
            "bin_end": 15868,
            "count": 0
           },
           {
            "bin_start": 15868,
            "bin_end": 16263.5,
            "count": 0
           },
           {
            "bin_start": 16263.5,
            "bin_end": 16659,
            "count": 2
           },
           {
            "bin_start": 16659,
            "bin_end": 17054.5,
            "count": 0
           },
           {
            "bin_start": 17054.5,
            "bin_end": 17450,
            "count": 1
           }
          ]
         }
        },
        {
         "name": "horsepower_binned",
         "dtype": "category",
         "stats": {
          "unique_count": 2,
          "nan_count": 0,
          "categories": [
           {
            "name": "Low",
            "count": 4
           },
           {
            "name": "Medium",
            "count": 1
           }
          ]
         }
        },
        {
         "name": "fuel_type_diesel",
         "dtype": "uint8",
         "stats": {
          "unique_count": 1,
          "nan_count": 0,
          "min": "0",
          "max": "0",
          "histogram": [
           {
            "bin_start": -0.5,
            "bin_end": -0.4,
            "count": 0
           },
           {
            "bin_start": -0.4,
            "bin_end": -0.3,
            "count": 0
           },
           {
            "bin_start": -0.3,
            "bin_end": -0.19999999999999996,
            "count": 0
           },
           {
            "bin_start": -0.19999999999999996,
            "bin_end": -0.09999999999999998,
            "count": 0
           },
           {
            "bin_start": -0.09999999999999998,
            "bin_end": 0,
            "count": 0
           },
           {
            "bin_start": 0,
            "bin_end": 0.10000000000000009,
            "count": 5
           },
           {
            "bin_start": 0.10000000000000009,
            "bin_end": 0.20000000000000007,
            "count": 0
           },
           {
            "bin_start": 0.20000000000000007,
            "bin_end": 0.30000000000000004,
            "count": 0
           },
           {
            "bin_start": 0.30000000000000004,
            "bin_end": 0.4,
            "count": 0
           },
           {
            "bin_start": 0.4,
            "bin_end": 0.5,
            "count": 0
           }
          ]
         }
        },
        {
         "name": "fuel_type_gas",
         "dtype": "uint8",
         "stats": {
          "unique_count": 1,
          "nan_count": 0,
          "min": "1",
          "max": "1",
          "histogram": [
           {
            "bin_start": 0.5,
            "bin_end": 0.6,
            "count": 0
           },
           {
            "bin_start": 0.6,
            "bin_end": 0.7,
            "count": 0
           },
           {
            "bin_start": 0.7,
            "bin_end": 0.8,
            "count": 0
           },
           {
            "bin_start": 0.8,
            "bin_end": 0.9,
            "count": 0
           },
           {
            "bin_start": 0.9,
            "bin_end": 1,
            "count": 0
           },
           {
            "bin_start": 1,
            "bin_end": 1.1,
            "count": 5
           },
           {
            "bin_start": 1.1,
            "bin_end": 1.2000000000000002,
            "count": 0
           },
           {
            "bin_start": 1.2000000000000002,
            "bin_end": 1.3,
            "count": 0
           },
           {
            "bin_start": 1.3,
            "bin_end": 1.4,
            "count": 0
           },
           {
            "bin_start": 1.4,
            "bin_end": 1.5,
            "count": 0
           }
          ]
         }
        },
        {
         "name": "_deepnote_index_column",
         "dtype": "int64"
        }
       ],
       "rows": [
        {
         "symboling": 3,
         "normalized-losses": 122,
         "make": "alfa-romero",
         "aspiration": "std",
         "num-of-doors": "two",
         "body-style": "convertible",
         "drive-wheels": "rwd",
         "engine-location": "front",
         "wheel-base": 88.6,
         "length": 0.8111484863046613,
         "width": 0.8902777777777777,
         "height": 0.8160535117056856,
         "curb-weight": 2548,
         "engine-type": "dohc",
         "num-of-cylinders": "four",
         "engine-size": 130,
         "fuel-system": "mpfi",
         "bore": 3.47,
         "stroke": 2.68,
         "compression-ratio": 9,
         "horsepower": 111,
         "peak-rpm": 5000,
         "city-l/100km": 11.19047619047619,
         "highway-l/100km": 8.703703703703704,
         "price": 13495,
         "horsepower_binned": "Low",
         "fuel_type_diesel": 0,
         "fuel_type_gas": 1,
         "_deepnote_index_column": 0
        },
        {
         "symboling": 3,
         "normalized-losses": 122,
         "make": "alfa-romero",
         "aspiration": "std",
         "num-of-doors": "two",
         "body-style": "convertible",
         "drive-wheels": "rwd",
         "engine-location": "front",
         "wheel-base": 88.6,
         "length": 0.8111484863046613,
         "width": 0.8902777777777777,
         "height": 0.8160535117056856,
         "curb-weight": 2548,
         "engine-type": "dohc",
         "num-of-cylinders": "four",
         "engine-size": 130,
         "fuel-system": "mpfi",
         "bore": 3.47,
         "stroke": 2.68,
         "compression-ratio": 9,
         "horsepower": 111,
         "peak-rpm": 5000,
         "city-l/100km": 11.19047619047619,
         "highway-l/100km": 8.703703703703704,
         "price": 16500,
         "horsepower_binned": "Low",
         "fuel_type_diesel": 0,
         "fuel_type_gas": 1,
         "_deepnote_index_column": 1
        },
        {
         "symboling": 1,
         "normalized-losses": 122,
         "make": "alfa-romero",
         "aspiration": "std",
         "num-of-doors": "two",
         "body-style": "hatchback",
         "drive-wheels": "rwd",
         "engine-location": "front",
         "wheel-base": 94.5,
         "length": 0.8226814031715521,
         "width": 0.9097222222222222,
         "height": 0.8762541806020067,
         "curb-weight": 2823,
         "engine-type": "ohcv",
         "num-of-cylinders": "six",
         "engine-size": 152,
         "fuel-system": "mpfi",
         "bore": 2.68,
         "stroke": 3.47,
         "compression-ratio": 9,
         "horsepower": 154,
         "peak-rpm": 5000,
         "city-l/100km": 12.368421052631579,
         "highway-l/100km": 9.038461538461538,
         "price": 16500,
         "horsepower_binned": "Medium",
         "fuel_type_diesel": 0,
         "fuel_type_gas": 1,
         "_deepnote_index_column": 2
        },
        {
         "symboling": 2,
         "normalized-losses": 164,
         "make": "audi",
         "aspiration": "std",
         "num-of-doors": "four",
         "body-style": "sedan",
         "drive-wheels": "fwd",
         "engine-location": "front",
         "wheel-base": 99.8,
         "length": 0.8486304661220567,
         "width": 0.9194444444444445,
         "height": 0.9080267558528428,
         "curb-weight": 2337,
         "engine-type": "ohc",
         "num-of-cylinders": "four",
         "engine-size": 109,
         "fuel-system": "mpfi",
         "bore": 3.19,
         "stroke": 3.4,
         "compression-ratio": 10,
         "horsepower": 102,
         "peak-rpm": 5500,
         "city-l/100km": 9.791666666666666,
         "highway-l/100km": 7.833333333333333,
         "price": 13950,
         "horsepower_binned": "Low",
         "fuel_type_diesel": 0,
         "fuel_type_gas": 1,
         "_deepnote_index_column": 3
        },
        {
         "symboling": 2,
         "normalized-losses": 164,
         "make": "audi",
         "aspiration": "std",
         "num-of-doors": "four",
         "body-style": "sedan",
         "drive-wheels": "4wd",
         "engine-location": "front",
         "wheel-base": 99.4,
         "length": 0.8486304661220567,
         "width": 0.9222222222222223,
         "height": 0.9080267558528428,
         "curb-weight": 2824,
         "engine-type": "ohc",
         "num-of-cylinders": "five",
         "engine-size": 136,
         "fuel-system": "mpfi",
         "bore": 3.19,
         "stroke": 3.4,
         "compression-ratio": 8,
         "horsepower": 115,
         "peak-rpm": 5500,
         "city-l/100km": 13.055555555555555,
         "highway-l/100km": 10.681818181818182,
         "price": 17450,
         "horsepower_binned": "Low",
         "fuel_type_diesel": 0,
         "fuel_type_gas": 1,
         "_deepnote_index_column": 4
        }
       ]
      },
      "text/plain": "   symboling  normalized-losses         make aspiration num-of-doors  \\\n0          3                122  alfa-romero        std          two   \n1          3                122  alfa-romero        std          two   \n2          1                122  alfa-romero        std          two   \n3          2                164         audi        std         four   \n4          2                164         audi        std         four   \n\n    body-style drive-wheels engine-location  wheel-base  length  ...  stroke  \\\n0  convertible          rwd           front      88.600   0.811  ...   2.680   \n1  convertible          rwd           front      88.600   0.811  ...   2.680   \n2    hatchback          rwd           front      94.500   0.823  ...   3.470   \n3        sedan          fwd           front      99.800   0.849  ...   3.400   \n4        sedan          4wd           front      99.400   0.849  ...   3.400   \n\n   compression-ratio  horsepower  peak-rpm city-l/100km  highway-l/100km  \\\n0              9.000         111 5,000.000       11.190            8.704   \n1              9.000         111 5,000.000       11.190            8.704   \n2              9.000         154 5,000.000       12.368            9.038   \n3             10.000         102 5,500.000        9.792            7.833   \n4              8.000         115 5,500.000       13.056           10.682   \n\n       price  horsepower_binned  fuel_type_diesel  fuel_type_gas  \n0 13,495.000                Low                 0              1  \n1 16,500.000                Low                 0              1  \n2 16,500.000             Medium                 0              1  \n3 13,950.000                Low                 0              1  \n4 17,450.000                Low                 0              1  \n\n[5 rows x 28 columns]",
      "text/html": "<div>\n<style scoped>\n    .dataframe tbody tr th:only-of-type {\n        vertical-align: middle;\n    }\n\n    .dataframe tbody tr th {\n        vertical-align: top;\n    }\n\n    .dataframe thead th {\n        text-align: right;\n    }\n</style>\n<table border=\"1\" class=\"dataframe\">\n  <thead>\n    <tr style=\"text-align: right;\">\n      <th></th>\n      <th>symboling</th>\n      <th>normalized-losses</th>\n      <th>make</th>\n      <th>aspiration</th>\n      <th>num-of-doors</th>\n      <th>body-style</th>\n      <th>drive-wheels</th>\n      <th>engine-location</th>\n      <th>wheel-base</th>\n      <th>length</th>\n      <th>...</th>\n      <th>stroke</th>\n      <th>compression-ratio</th>\n      <th>horsepower</th>\n      <th>peak-rpm</th>\n      <th>city-l/100km</th>\n      <th>highway-l/100km</th>\n      <th>price</th>\n      <th>horsepower_binned</th>\n      <th>fuel_type_diesel</th>\n      <th>fuel_type_gas</th>\n    </tr>\n  </thead>\n  <tbody>\n    <tr>\n      <th>0</th>\n      <td>3</td>\n      <td>122</td>\n      <td>alfa-romero</td>\n      <td>std</td>\n      <td>two</td>\n      <td>convertible</td>\n      <td>rwd</td>\n      <td>front</td>\n      <td>88.600</td>\n      <td>0.811</td>\n      <td>...</td>\n      <td>2.680</td>\n      <td>9.000</td>\n      <td>111</td>\n      <td>5,000.000</td>\n      <td>11.190</td>\n      <td>8.704</td>\n      <td>13,495.000</td>\n      <td>Low</td>\n      <td>0</td>\n      <td>1</td>\n    </tr>\n    <tr>\n      <th>1</th>\n      <td>3</td>\n      <td>122</td>\n      <td>alfa-romero</td>\n      <td>std</td>\n      <td>two</td>\n      <td>convertible</td>\n      <td>rwd</td>\n      <td>front</td>\n      <td>88.600</td>\n      <td>0.811</td>\n      <td>...</td>\n      <td>2.680</td>\n      <td>9.000</td>\n      <td>111</td>\n      <td>5,000.000</td>\n      <td>11.190</td>\n      <td>8.704</td>\n      <td>16,500.000</td>\n      <td>Low</td>\n      <td>0</td>\n      <td>1</td>\n    </tr>\n    <tr>\n      <th>2</th>\n      <td>1</td>\n      <td>122</td>\n      <td>alfa-romero</td>\n      <td>std</td>\n      <td>two</td>\n      <td>hatchback</td>\n      <td>rwd</td>\n      <td>front</td>\n      <td>94.500</td>\n      <td>0.823</td>\n      <td>...</td>\n      <td>3.470</td>\n      <td>9.000</td>\n      <td>154</td>\n      <td>5,000.000</td>\n      <td>12.368</td>\n      <td>9.038</td>\n      <td>16,500.000</td>\n      <td>Medium</td>\n      <td>0</td>\n      <td>1</td>\n    </tr>\n    <tr>\n      <th>3</th>\n      <td>2</td>\n      <td>164</td>\n      <td>audi</td>\n      <td>std</td>\n      <td>four</td>\n      <td>sedan</td>\n      <td>fwd</td>\n      <td>front</td>\n      <td>99.800</td>\n      <td>0.849</td>\n      <td>...</td>\n      <td>3.400</td>\n      <td>10.000</td>\n      <td>102</td>\n      <td>5,500.000</td>\n      <td>9.792</td>\n      <td>7.833</td>\n      <td>13,950.000</td>\n      <td>Low</td>\n      <td>0</td>\n      <td>1</td>\n    </tr>\n    <tr>\n      <th>4</th>\n      <td>2</td>\n      <td>164</td>\n      <td>audi</td>\n      <td>std</td>\n      <td>four</td>\n      <td>sedan</td>\n      <td>4wd</td>\n      <td>front</td>\n      <td>99.400</td>\n      <td>0.849</td>\n      <td>...</td>\n      <td>3.400</td>\n      <td>8.000</td>\n      <td>115</td>\n      <td>5,500.000</td>\n      <td>13.056</td>\n      <td>10.682</td>\n      <td>17,450.000</td>\n      <td>Low</td>\n      <td>0</td>\n      <td>1</td>\n    </tr>\n  </tbody>\n</table>\n<p>5 rows × 28 columns</p>\n</div>"
     },
     "metadata": {}
    }
   ]
  },
  {
   "cell_type": "markdown",
   "source": "<a style='text-decoration:none;line-height:16px;display:flex;color:#5B5B62;padding:10px;justify-content:end;' href='https://deepnote.com?utm_source=created-in-deepnote-cell&projectId=fabb4e41-fcd2-4421-bbfb-772986975631' target=\"_blank\">\n<img alt='Created in deepnote.com' style='display:inline;max-height:16px;margin:0px;margin-right:7.5px;' src='data:image/svg+xml;base64,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' > </img>\nCreated in <span style='font-weight:600;margin-left:4px;'>Deepnote</span></a>",
   "metadata": {
    "tags": [],
    "created_in_deepnote_cell": true,
    "deepnote_cell_type": "markdown"
   }
  }
 ],
 "nbformat": 4,
 "nbformat_minor": 2,
 "metadata": {
  "orig_nbformat": 2,
  "deepnote": {
   "is_reactive": false
  },
  "deepnote_notebook_id": "00a9236b-b49b-4937-9626-b2a188cfcc04",
  "deepnote_execution_queue": []
 }
}