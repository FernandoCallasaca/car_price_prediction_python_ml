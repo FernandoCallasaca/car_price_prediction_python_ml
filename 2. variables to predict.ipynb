{
 "cells": [
  {
   "cell_type": "markdown",
   "source": "# Prepare our environment",
   "metadata": {
    "cell_id": "c1d69239-ffe6-475d-a9d3-8d58392e1d1a",
    "tags": [],
    "deepnote_cell_type": "markdown"
   }
  },
  {
   "cell_type": "code",
   "metadata": {
    "tags": [],
    "cell_id": "278c5334-702c-493e-9e6f-969d50305d21",
    "deepnote_to_be_reexecuted": false,
    "source_hash": "cf4ba56c",
    "execution_start": 1646234575055,
    "execution_millis": 1670,
    "deepnote_cell_type": "code"
   },
   "source": "import pandas as pd\nimport numpy as np\nimport matplotlib.pyplot as plt\nimport seaborn as sns\nfrom scipy import stats\n%matplotlib inline\npd.__version__",
   "execution_count": 1,
   "outputs": [
    {
     "output_type": "execute_result",
     "execution_count": 1,
     "data": {
      "text/plain": "'1.2.5'"
     },
     "metadata": {}
    }
   ]
  },
  {
   "cell_type": "code",
   "metadata": {
    "cell_id": "3aa23ea4-4a72-4b32-b064-f2da7f49dda9",
    "tags": [],
    "deepnote_to_be_reexecuted": false,
    "source_hash": "f26deeaa",
    "execution_start": 1646234576722,
    "execution_millis": 1,
    "deepnote_cell_type": "code"
   },
   "source": "pd.options.display.float_format = '{:,.3f}'.format\nnp.set_printoptions(precision=3)",
   "execution_count": 2,
   "outputs": []
  },
  {
   "cell_type": "markdown",
   "source": "# Load our clean dataset",
   "metadata": {
    "cell_id": "af53c0c1-2164-4f45-a2a7-7af86c164526",
    "tags": [],
    "deepnote_cell_type": "markdown"
   }
  },
  {
   "cell_type": "code",
   "metadata": {
    "cell_id": "a0a4b58d-f8e9-4cfc-a2d7-65ed7c1d26cc",
    "tags": [],
    "deepnote_to_be_reexecuted": false,
    "source_hash": "7df9a638",
    "execution_start": 1646234576724,
    "execution_millis": 7,
    "deepnote_cell_type": "code"
   },
   "source": "path_file = 'clean_data_car.csv'\npath_file",
   "execution_count": 3,
   "outputs": [
    {
     "output_type": "execute_result",
     "execution_count": 3,
     "data": {
      "text/plain": "'clean_data_car.csv'"
     },
     "metadata": {}
    }
   ]
  },
  {
   "cell_type": "code",
   "metadata": {
    "cell_id": "84c09505-7371-409b-aedf-b2d9ccb6fcdf",
    "tags": [],
    "deepnote_to_be_reexecuted": false,
    "source_hash": "de9ddbad",
    "execution_start": 1646234576730,
    "execution_millis": 140,
    "deepnote_cell_type": "code"
   },
   "source": "df_cars = pd.read_csv(path_file)\ndf_cars.head()",
   "execution_count": 4,
   "outputs": [
    {
     "output_type": "execute_result",
     "execution_count": 4,
     "data": {
      "application/vnd.deepnote.dataframe.v3+json": {
       "column_count": 28,
       "row_count": 5,
       "columns": [
        {
         "name": "symboling",
         "dtype": "int64",
         "stats": {
          "unique_count": 3,
          "nan_count": 0,
          "min": "1",
          "max": "3",
          "histogram": [
           {
            "bin_start": 1,
            "bin_end": 1.2,
            "count": 1
           },
           {
            "bin_start": 1.2,
            "bin_end": 1.4,
            "count": 0
           },
           {
            "bin_start": 1.4,
            "bin_end": 1.6,
            "count": 0
           },
           {
            "bin_start": 1.6,
            "bin_end": 1.8,
            "count": 0
           },
           {
            "bin_start": 1.8,
            "bin_end": 2,
            "count": 0
           },
           {
            "bin_start": 2,
            "bin_end": 2.2,
            "count": 2
           },
           {
            "bin_start": 2.2,
            "bin_end": 2.4000000000000004,
            "count": 0
           },
           {
            "bin_start": 2.4000000000000004,
            "bin_end": 2.6,
            "count": 0
           },
           {
            "bin_start": 2.6,
            "bin_end": 2.8,
            "count": 0
           },
           {
            "bin_start": 2.8,
            "bin_end": 3,
            "count": 2
           }
          ]
         }
        },
        {
         "name": "normalized-losses",
         "dtype": "int64",
         "stats": {
          "unique_count": 2,
          "nan_count": 0,
          "min": "122",
          "max": "164",
          "histogram": [
           {
            "bin_start": 122,
            "bin_end": 126.2,
            "count": 3
           },
           {
            "bin_start": 126.2,
            "bin_end": 130.4,
            "count": 0
           },
           {
            "bin_start": 130.4,
            "bin_end": 134.6,
            "count": 0
           },
           {
            "bin_start": 134.6,
            "bin_end": 138.8,
            "count": 0
           },
           {
            "bin_start": 138.8,
            "bin_end": 143,
            "count": 0
           },
           {
            "bin_start": 143,
            "bin_end": 147.2,
            "count": 0
           },
           {
            "bin_start": 147.2,
            "bin_end": 151.4,
            "count": 0
           },
           {
            "bin_start": 151.4,
            "bin_end": 155.6,
            "count": 0
           },
           {
            "bin_start": 155.6,
            "bin_end": 159.8,
            "count": 0
           },
           {
            "bin_start": 159.8,
            "bin_end": 164,
            "count": 2
           }
          ]
         }
        },
        {
         "name": "make",
         "dtype": "object",
         "stats": {
          "unique_count": 2,
          "nan_count": 0,
          "categories": [
           {
            "name": "alfa-romero",
            "count": 3
           },
           {
            "name": "audi",
            "count": 2
           }
          ]
         }
        },
        {
         "name": "aspiration",
         "dtype": "object",
         "stats": {
          "unique_count": 1,
          "nan_count": 0,
          "categories": [
           {
            "name": "std",
            "count": 5
           }
          ]
         }
        },
        {
         "name": "num-of-doors",
         "dtype": "object",
         "stats": {
          "unique_count": 2,
          "nan_count": 0,
          "categories": [
           {
            "name": "two",
            "count": 3
           },
           {
            "name": "four",
            "count": 2
           }
          ]
         }
        },
        {
         "name": "body-style",
         "dtype": "object",
         "stats": {
          "unique_count": 3,
          "nan_count": 0,
          "categories": [
           {
            "name": "convertible",
            "count": 2
           },
           {
            "name": "sedan",
            "count": 2
           },
           {
            "name": "hatchback",
            "count": 1
           }
          ]
         }
        },
        {
         "name": "drive-wheels",
         "dtype": "object",
         "stats": {
          "unique_count": 3,
          "nan_count": 0,
          "categories": [
           {
            "name": "rwd",
            "count": 3
           },
           {
            "name": "fwd",
            "count": 1
           },
           {
            "name": "4wd",
            "count": 1
           }
          ]
         }
        },
        {
         "name": "engine-location",
         "dtype": "object",
         "stats": {
          "unique_count": 1,
          "nan_count": 0,
          "categories": [
           {
            "name": "front",
            "count": 5
           }
          ]
         }
        },
        {
         "name": "wheel-base",
         "dtype": "float64",
         "stats": {
          "unique_count": 4,
          "nan_count": 0,
          "min": "88.6",
          "max": "99.8",
          "histogram": [
           {
            "bin_start": 88.6,
            "bin_end": 89.72,
            "count": 2
           },
           {
            "bin_start": 89.72,
            "bin_end": 90.83999999999999,
            "count": 0
           },
           {
            "bin_start": 90.83999999999999,
            "bin_end": 91.96,
            "count": 0
           },
           {
            "bin_start": 91.96,
            "bin_end": 93.08,
            "count": 0
           },
           {
            "bin_start": 93.08,
            "bin_end": 94.19999999999999,
            "count": 0
           },
           {
            "bin_start": 94.19999999999999,
            "bin_end": 95.32,
            "count": 1
           },
           {
            "bin_start": 95.32,
            "bin_end": 96.44,
            "count": 0
           },
           {
            "bin_start": 96.44,
            "bin_end": 97.56,
            "count": 0
           },
           {
            "bin_start": 97.56,
            "bin_end": 98.67999999999999,
            "count": 0
           },
           {
            "bin_start": 98.67999999999999,
            "bin_end": 99.8,
            "count": 2
           }
          ]
         }
        },
        {
         "name": "length",
         "dtype": "float64",
         "stats": {
          "unique_count": 3,
          "nan_count": 0,
          "min": "0.8111484863046613",
          "max": "0.8486304661220567",
          "histogram": [
           {
            "bin_start": 0.8111484863046613,
            "bin_end": 0.8148966842864008,
            "count": 2
           },
           {
            "bin_start": 0.8148966842864008,
            "bin_end": 0.8186448822681404,
            "count": 0
           },
           {
            "bin_start": 0.8186448822681404,
            "bin_end": 0.8223930802498799,
            "count": 0
           },
           {
            "bin_start": 0.8223930802498799,
            "bin_end": 0.8261412782316194,
            "count": 1
           },
           {
            "bin_start": 0.8261412782316194,
            "bin_end": 0.8298894762133591,
            "count": 0
           },
           {
            "bin_start": 0.8298894762133591,
            "bin_end": 0.8336376741950986,
            "count": 0
           },
           {
            "bin_start": 0.8336376741950986,
            "bin_end": 0.8373858721768381,
            "count": 0
           },
           {
            "bin_start": 0.8373858721768381,
            "bin_end": 0.8411340701585777,
            "count": 0
           },
           {
            "bin_start": 0.8411340701585777,
            "bin_end": 0.8448822681403172,
            "count": 0
           },
           {
            "bin_start": 0.8448822681403172,
            "bin_end": 0.8486304661220567,
            "count": 2
           }
          ]
         }
        },
        {
         "name": "width",
         "dtype": "float64",
         "stats": {
          "unique_count": 4,
          "nan_count": 0,
          "min": "0.8902777777777777",
          "max": "0.9222222222222224",
          "histogram": [
           {
            "bin_start": 0.8902777777777777,
            "bin_end": 0.8934722222222222,
            "count": 2
           },
           {
            "bin_start": 0.8934722222222222,
            "bin_end": 0.8966666666666666,
            "count": 0
           },
           {
            "bin_start": 0.8966666666666666,
            "bin_end": 0.8998611111111111,
            "count": 0
           },
           {
            "bin_start": 0.8998611111111111,
            "bin_end": 0.9030555555555556,
            "count": 0
           },
           {
            "bin_start": 0.9030555555555556,
            "bin_end": 0.90625,
            "count": 0
           },
           {
            "bin_start": 0.90625,
            "bin_end": 0.9094444444444445,
            "count": 0
           },
           {
            "bin_start": 0.9094444444444445,
            "bin_end": 0.912638888888889,
            "count": 1
           },
           {
            "bin_start": 0.912638888888889,
            "bin_end": 0.9158333333333335,
            "count": 0
           },
           {
            "bin_start": 0.9158333333333335,
            "bin_end": 0.9190277777777779,
            "count": 0
           },
           {
            "bin_start": 0.9190277777777779,
            "bin_end": 0.9222222222222224,
            "count": 2
           }
          ]
         }
        },
        {
         "name": "height",
         "dtype": "float64",
         "stats": {
          "unique_count": 3,
          "nan_count": 0,
          "min": "0.8160535117056856",
          "max": "0.9080267558528428",
          "histogram": [
           {
            "bin_start": 0.8160535117056856,
            "bin_end": 0.8252508361204014,
            "count": 2
           },
           {
            "bin_start": 0.8252508361204014,
            "bin_end": 0.8344481605351171,
            "count": 0
           },
           {
            "bin_start": 0.8344481605351171,
            "bin_end": 0.8436454849498327,
            "count": 0
           },
           {
            "bin_start": 0.8436454849498327,
            "bin_end": 0.8528428093645485,
            "count": 0
           },
           {
            "bin_start": 0.8528428093645485,
            "bin_end": 0.8620401337792643,
            "count": 0
           },
           {
            "bin_start": 0.8620401337792643,
            "bin_end": 0.8712374581939799,
            "count": 0
           },
           {
            "bin_start": 0.8712374581939799,
            "bin_end": 0.8804347826086956,
            "count": 1
           },
           {
            "bin_start": 0.8804347826086956,
            "bin_end": 0.8896321070234113,
            "count": 0
           },
           {
            "bin_start": 0.8896321070234113,
            "bin_end": 0.8988294314381271,
            "count": 0
           },
           {
            "bin_start": 0.8988294314381271,
            "bin_end": 0.9080267558528428,
            "count": 2
           }
          ]
         }
        },
        {
         "name": "curb-weight",
         "dtype": "int64",
         "stats": {
          "unique_count": 4,
          "nan_count": 0,
          "min": "2337",
          "max": "2824",
          "histogram": [
           {
            "bin_start": 2337,
            "bin_end": 2385.7,
            "count": 1
           },
           {
            "bin_start": 2385.7,
            "bin_end": 2434.4,
            "count": 0
           },
           {
            "bin_start": 2434.4,
            "bin_end": 2483.1,
            "count": 0
           },
           {
            "bin_start": 2483.1,
            "bin_end": 2531.8,
            "count": 0
           },
           {
            "bin_start": 2531.8,
            "bin_end": 2580.5,
            "count": 2
           },
           {
            "bin_start": 2580.5,
            "bin_end": 2629.2,
            "count": 0
           },
           {
            "bin_start": 2629.2,
            "bin_end": 2677.9,
            "count": 0
           },
           {
            "bin_start": 2677.9,
            "bin_end": 2726.6,
            "count": 0
           },
           {
            "bin_start": 2726.6,
            "bin_end": 2775.3,
            "count": 0
           },
           {
            "bin_start": 2775.3,
            "bin_end": 2824,
            "count": 2
           }
          ]
         }
        },
        {
         "name": "engine-type",
         "dtype": "object",
         "stats": {
          "unique_count": 3,
          "nan_count": 0,
          "categories": [
           {
            "name": "dohc",
            "count": 2
           },
           {
            "name": "ohc",
            "count": 2
           },
           {
            "name": "ohcv",
            "count": 1
           }
          ]
         }
        },
        {
         "name": "num-of-cylinders",
         "dtype": "object",
         "stats": {
          "unique_count": 3,
          "nan_count": 0,
          "categories": [
           {
            "name": "four",
            "count": 3
           },
           {
            "name": "six",
            "count": 1
           },
           {
            "name": "five",
            "count": 1
           }
          ]
         }
        },
        {
         "name": "engine-size",
         "dtype": "int64",
         "stats": {
          "unique_count": 4,
          "nan_count": 0,
          "min": "109",
          "max": "152",
          "histogram": [
           {
            "bin_start": 109,
            "bin_end": 113.3,
            "count": 1
           },
           {
            "bin_start": 113.3,
            "bin_end": 117.6,
            "count": 0
           },
           {
            "bin_start": 117.6,
            "bin_end": 121.9,
            "count": 0
           },
           {
            "bin_start": 121.9,
            "bin_end": 126.2,
            "count": 0
           },
           {
            "bin_start": 126.2,
            "bin_end": 130.5,
            "count": 2
           },
           {
            "bin_start": 130.5,
            "bin_end": 134.8,
            "count": 0
           },
           {
            "bin_start": 134.8,
            "bin_end": 139.1,
            "count": 1
           },
           {
            "bin_start": 139.1,
            "bin_end": 143.4,
            "count": 0
           },
           {
            "bin_start": 143.4,
            "bin_end": 147.7,
            "count": 0
           },
           {
            "bin_start": 147.7,
            "bin_end": 152,
            "count": 1
           }
          ]
         }
        },
        {
         "name": "fuel-system",
         "dtype": "object",
         "stats": {
          "unique_count": 1,
          "nan_count": 0,
          "categories": [
           {
            "name": "mpfi",
            "count": 5
           }
          ]
         }
        },
        {
         "name": "bore",
         "dtype": "float64",
         "stats": {
          "unique_count": 3,
          "nan_count": 0,
          "min": "2.68",
          "max": "3.47",
          "histogram": [
           {
            "bin_start": 2.68,
            "bin_end": 2.7590000000000003,
            "count": 1
           },
           {
            "bin_start": 2.7590000000000003,
            "bin_end": 2.838,
            "count": 0
           },
           {
            "bin_start": 2.838,
            "bin_end": 2.9170000000000003,
            "count": 0
           },
           {
            "bin_start": 2.9170000000000003,
            "bin_end": 2.996,
            "count": 0
           },
           {
            "bin_start": 2.996,
            "bin_end": 3.075,
            "count": 0
           },
           {
            "bin_start": 3.075,
            "bin_end": 3.154,
            "count": 0
           },
           {
            "bin_start": 3.154,
            "bin_end": 3.233,
            "count": 2
           },
           {
            "bin_start": 3.233,
            "bin_end": 3.3120000000000003,
            "count": 0
           },
           {
            "bin_start": 3.3120000000000003,
            "bin_end": 3.391,
            "count": 0
           },
           {
            "bin_start": 3.391,
            "bin_end": 3.47,
            "count": 2
           }
          ]
         }
        },
        {
         "name": "stroke",
         "dtype": "float64",
         "stats": {
          "unique_count": 3,
          "nan_count": 0,
          "min": "2.68",
          "max": "3.47",
          "histogram": [
           {
            "bin_start": 2.68,
            "bin_end": 2.7590000000000003,
            "count": 2
           },
           {
            "bin_start": 2.7590000000000003,
            "bin_end": 2.838,
            "count": 0
           },
           {
            "bin_start": 2.838,
            "bin_end": 2.9170000000000003,
            "count": 0
           },
           {
            "bin_start": 2.9170000000000003,
            "bin_end": 2.996,
            "count": 0
           },
           {
            "bin_start": 2.996,
            "bin_end": 3.075,
            "count": 0
           },
           {
            "bin_start": 3.075,
            "bin_end": 3.154,
            "count": 0
           },
           {
            "bin_start": 3.154,
            "bin_end": 3.233,
            "count": 0
           },
           {
            "bin_start": 3.233,
            "bin_end": 3.3120000000000003,
            "count": 0
           },
           {
            "bin_start": 3.3120000000000003,
            "bin_end": 3.391,
            "count": 0
           },
           {
            "bin_start": 3.391,
            "bin_end": 3.47,
            "count": 3
           }
          ]
         }
        },
        {
         "name": "compression-ratio",
         "dtype": "float64",
         "stats": {
          "unique_count": 3,
          "nan_count": 0,
          "min": "8.0",
          "max": "10.0",
          "histogram": [
           {
            "bin_start": 8,
            "bin_end": 8.2,
            "count": 1
           },
           {
            "bin_start": 8.2,
            "bin_end": 8.4,
            "count": 0
           },
           {
            "bin_start": 8.4,
            "bin_end": 8.6,
            "count": 0
           },
           {
            "bin_start": 8.6,
            "bin_end": 8.8,
            "count": 0
           },
           {
            "bin_start": 8.8,
            "bin_end": 9,
            "count": 0
           },
           {
            "bin_start": 9,
            "bin_end": 9.2,
            "count": 3
           },
           {
            "bin_start": 9.2,
            "bin_end": 9.4,
            "count": 0
           },
           {
            "bin_start": 9.4,
            "bin_end": 9.6,
            "count": 0
           },
           {
            "bin_start": 9.6,
            "bin_end": 9.8,
            "count": 0
           },
           {
            "bin_start": 9.8,
            "bin_end": 10,
            "count": 1
           }
          ]
         }
        },
        {
         "name": "horsepower",
         "dtype": "int64",
         "stats": {
          "unique_count": 4,
          "nan_count": 0,
          "min": "102",
          "max": "154",
          "histogram": [
           {
            "bin_start": 102,
            "bin_end": 107.2,
            "count": 1
           },
           {
            "bin_start": 107.2,
            "bin_end": 112.4,
            "count": 2
           },
           {
            "bin_start": 112.4,
            "bin_end": 117.6,
            "count": 1
           },
           {
            "bin_start": 117.6,
            "bin_end": 122.8,
            "count": 0
           },
           {
            "bin_start": 122.8,
            "bin_end": 128,
            "count": 0
           },
           {
            "bin_start": 128,
            "bin_end": 133.2,
            "count": 0
           },
           {
            "bin_start": 133.2,
            "bin_end": 138.4,
            "count": 0
           },
           {
            "bin_start": 138.4,
            "bin_end": 143.6,
            "count": 0
           },
           {
            "bin_start": 143.6,
            "bin_end": 148.8,
            "count": 0
           },
           {
            "bin_start": 148.8,
            "bin_end": 154,
            "count": 1
           }
          ]
         }
        },
        {
         "name": "peak-rpm",
         "dtype": "float64",
         "stats": {
          "unique_count": 2,
          "nan_count": 0,
          "min": "5000.0",
          "max": "5500.0",
          "histogram": [
           {
            "bin_start": 5000,
            "bin_end": 5050,
            "count": 3
           },
           {
            "bin_start": 5050,
            "bin_end": 5100,
            "count": 0
           },
           {
            "bin_start": 5100,
            "bin_end": 5150,
            "count": 0
           },
           {
            "bin_start": 5150,
            "bin_end": 5200,
            "count": 0
           },
           {
            "bin_start": 5200,
            "bin_end": 5250,
            "count": 0
           },
           {
            "bin_start": 5250,
            "bin_end": 5300,
            "count": 0
           },
           {
            "bin_start": 5300,
            "bin_end": 5350,
            "count": 0
           },
           {
            "bin_start": 5350,
            "bin_end": 5400,
            "count": 0
           },
           {
            "bin_start": 5400,
            "bin_end": 5450,
            "count": 0
           },
           {
            "bin_start": 5450,
            "bin_end": 5500,
            "count": 2
           }
          ]
         }
        },
        {
         "name": "city-l/100km",
         "dtype": "float64",
         "stats": {
          "unique_count": 4,
          "nan_count": 0,
          "min": "9.791666666666666",
          "max": "13.055555555555555",
          "histogram": [
           {
            "bin_start": 9.791666666666666,
            "bin_end": 10.118055555555555,
            "count": 1
           },
           {
            "bin_start": 10.118055555555555,
            "bin_end": 10.444444444444445,
            "count": 0
           },
           {
            "bin_start": 10.444444444444445,
            "bin_end": 10.770833333333332,
            "count": 0
           },
           {
            "bin_start": 10.770833333333332,
            "bin_end": 11.097222222222221,
            "count": 0
           },
           {
            "bin_start": 11.097222222222221,
            "bin_end": 11.42361111111111,
            "count": 2
           },
           {
            "bin_start": 11.42361111111111,
            "bin_end": 11.75,
            "count": 0
           },
           {
            "bin_start": 11.75,
            "bin_end": 12.07638888888889,
            "count": 0
           },
           {
            "bin_start": 12.07638888888889,
            "bin_end": 12.402777777777779,
            "count": 1
           },
           {
            "bin_start": 12.402777777777779,
            "bin_end": 12.729166666666666,
            "count": 0
           },
           {
            "bin_start": 12.729166666666666,
            "bin_end": 13.055555555555555,
            "count": 1
           }
          ]
         }
        },
        {
         "name": "highway-l/100km",
         "dtype": "float64",
         "stats": {
          "unique_count": 4,
          "nan_count": 0,
          "min": "7.833333333333333",
          "max": "10.681818181818182",
          "histogram": [
           {
            "bin_start": 7.833333333333333,
            "bin_end": 8.118181818181817,
            "count": 1
           },
           {
            "bin_start": 8.118181818181817,
            "bin_end": 8.403030303030302,
            "count": 0
           },
           {
            "bin_start": 8.403030303030302,
            "bin_end": 8.687878787878788,
            "count": 0
           },
           {
            "bin_start": 8.687878787878788,
            "bin_end": 8.972727272727273,
            "count": 2
           },
           {
            "bin_start": 8.972727272727273,
            "bin_end": 9.257575757575758,
            "count": 1
           },
           {
            "bin_start": 9.257575757575758,
            "bin_end": 9.542424242424243,
            "count": 0
           },
           {
            "bin_start": 9.542424242424243,
            "bin_end": 9.827272727272726,
            "count": 0
           },
           {
            "bin_start": 9.827272727272726,
            "bin_end": 10.112121212121211,
            "count": 0
           },
           {
            "bin_start": 10.112121212121211,
            "bin_end": 10.396969696969697,
            "count": 0
           },
           {
            "bin_start": 10.396969696969697,
            "bin_end": 10.681818181818182,
            "count": 1
           }
          ]
         }
        },
        {
         "name": "price",
         "dtype": "float64",
         "stats": {
          "unique_count": 4,
          "nan_count": 0,
          "min": "13495.0",
          "max": "17450.0",
          "histogram": [
           {
            "bin_start": 13495,
            "bin_end": 13890.5,
            "count": 1
           },
           {
            "bin_start": 13890.5,
            "bin_end": 14286,
            "count": 1
           },
           {
            "bin_start": 14286,
            "bin_end": 14681.5,
            "count": 0
           },
           {
            "bin_start": 14681.5,
            "bin_end": 15077,
            "count": 0
           },
           {
            "bin_start": 15077,
            "bin_end": 15472.5,
            "count": 0
           },
           {
            "bin_start": 15472.5,
            "bin_end": 15868,
            "count": 0
           },
           {
            "bin_start": 15868,
            "bin_end": 16263.5,
            "count": 0
           },
           {
            "bin_start": 16263.5,
            "bin_end": 16659,
            "count": 2
           },
           {
            "bin_start": 16659,
            "bin_end": 17054.5,
            "count": 0
           },
           {
            "bin_start": 17054.5,
            "bin_end": 17450,
            "count": 1
           }
          ]
         }
        },
        {
         "name": "horsepower_binned",
         "dtype": "object",
         "stats": {
          "unique_count": 2,
          "nan_count": 0,
          "categories": [
           {
            "name": "Low",
            "count": 4
           },
           {
            "name": "Medium",
            "count": 1
           }
          ]
         }
        },
        {
         "name": "fuel_type_diesel",
         "dtype": "int64",
         "stats": {
          "unique_count": 1,
          "nan_count": 0,
          "min": "0",
          "max": "0",
          "histogram": [
           {
            "bin_start": -0.5,
            "bin_end": -0.4,
            "count": 0
           },
           {
            "bin_start": -0.4,
            "bin_end": -0.3,
            "count": 0
           },
           {
            "bin_start": -0.3,
            "bin_end": -0.19999999999999996,
            "count": 0
           },
           {
            "bin_start": -0.19999999999999996,
            "bin_end": -0.09999999999999998,
            "count": 0
           },
           {
            "bin_start": -0.09999999999999998,
            "bin_end": 0,
            "count": 0
           },
           {
            "bin_start": 0,
            "bin_end": 0.10000000000000009,
            "count": 5
           },
           {
            "bin_start": 0.10000000000000009,
            "bin_end": 0.20000000000000007,
            "count": 0
           },
           {
            "bin_start": 0.20000000000000007,
            "bin_end": 0.30000000000000004,
            "count": 0
           },
           {
            "bin_start": 0.30000000000000004,
            "bin_end": 0.4,
            "count": 0
           },
           {
            "bin_start": 0.4,
            "bin_end": 0.5,
            "count": 0
           }
          ]
         }
        },
        {
         "name": "fuel_type_gas",
         "dtype": "int64",
         "stats": {
          "unique_count": 1,
          "nan_count": 0,
          "min": "1",
          "max": "1",
          "histogram": [
           {
            "bin_start": 0.5,
            "bin_end": 0.6,
            "count": 0
           },
           {
            "bin_start": 0.6,
            "bin_end": 0.7,
            "count": 0
           },
           {
            "bin_start": 0.7,
            "bin_end": 0.8,
            "count": 0
           },
           {
            "bin_start": 0.8,
            "bin_end": 0.9,
            "count": 0
           },
           {
            "bin_start": 0.9,
            "bin_end": 1,
            "count": 0
           },
           {
            "bin_start": 1,
            "bin_end": 1.1,
            "count": 5
           },
           {
            "bin_start": 1.1,
            "bin_end": 1.2000000000000002,
            "count": 0
           },
           {
            "bin_start": 1.2000000000000002,
            "bin_end": 1.3,
            "count": 0
           },
           {
            "bin_start": 1.3,
            "bin_end": 1.4,
            "count": 0
           },
           {
            "bin_start": 1.4,
            "bin_end": 1.5,
            "count": 0
           }
          ]
         }
        },
        {
         "name": "_deepnote_index_column",
         "dtype": "int64"
        }
       ],
       "rows": [
        {
         "symboling": 3,
         "normalized-losses": 122,
         "make": "alfa-romero",
         "aspiration": "std",
         "num-of-doors": "two",
         "body-style": "convertible",
         "drive-wheels": "rwd",
         "engine-location": "front",
         "wheel-base": 88.6,
         "length": 0.8111484863046613,
         "width": 0.8902777777777777,
         "height": 0.8160535117056856,
         "curb-weight": 2548,
         "engine-type": "dohc",
         "num-of-cylinders": "four",
         "engine-size": 130,
         "fuel-system": "mpfi",
         "bore": 3.47,
         "stroke": 2.68,
         "compression-ratio": 9,
         "horsepower": 111,
         "peak-rpm": 5000,
         "city-l/100km": 11.19047619047619,
         "highway-l/100km": 8.703703703703704,
         "price": 13495,
         "horsepower_binned": "Low",
         "fuel_type_diesel": 0,
         "fuel_type_gas": 1,
         "_deepnote_index_column": 0
        },
        {
         "symboling": 3,
         "normalized-losses": 122,
         "make": "alfa-romero",
         "aspiration": "std",
         "num-of-doors": "two",
         "body-style": "convertible",
         "drive-wheels": "rwd",
         "engine-location": "front",
         "wheel-base": 88.6,
         "length": 0.8111484863046613,
         "width": 0.8902777777777777,
         "height": 0.8160535117056856,
         "curb-weight": 2548,
         "engine-type": "dohc",
         "num-of-cylinders": "four",
         "engine-size": 130,
         "fuel-system": "mpfi",
         "bore": 3.47,
         "stroke": 2.68,
         "compression-ratio": 9,
         "horsepower": 111,
         "peak-rpm": 5000,
         "city-l/100km": 11.19047619047619,
         "highway-l/100km": 8.703703703703704,
         "price": 16500,
         "horsepower_binned": "Low",
         "fuel_type_diesel": 0,
         "fuel_type_gas": 1,
         "_deepnote_index_column": 1
        },
        {
         "symboling": 1,
         "normalized-losses": 122,
         "make": "alfa-romero",
         "aspiration": "std",
         "num-of-doors": "two",
         "body-style": "hatchback",
         "drive-wheels": "rwd",
         "engine-location": "front",
         "wheel-base": 94.5,
         "length": 0.8226814031715521,
         "width": 0.9097222222222222,
         "height": 0.8762541806020067,
         "curb-weight": 2823,
         "engine-type": "ohcv",
         "num-of-cylinders": "six",
         "engine-size": 152,
         "fuel-system": "mpfi",
         "bore": 2.68,
         "stroke": 3.47,
         "compression-ratio": 9,
         "horsepower": 154,
         "peak-rpm": 5000,
         "city-l/100km": 12.36842105263158,
         "highway-l/100km": 9.038461538461538,
         "price": 16500,
         "horsepower_binned": "Medium",
         "fuel_type_diesel": 0,
         "fuel_type_gas": 1,
         "_deepnote_index_column": 2
        },
        {
         "symboling": 2,
         "normalized-losses": 164,
         "make": "audi",
         "aspiration": "std",
         "num-of-doors": "four",
         "body-style": "sedan",
         "drive-wheels": "fwd",
         "engine-location": "front",
         "wheel-base": 99.8,
         "length": 0.8486304661220567,
         "width": 0.9194444444444444,
         "height": 0.9080267558528428,
         "curb-weight": 2337,
         "engine-type": "ohc",
         "num-of-cylinders": "four",
         "engine-size": 109,
         "fuel-system": "mpfi",
         "bore": 3.19,
         "stroke": 3.4,
         "compression-ratio": 10,
         "horsepower": 102,
         "peak-rpm": 5500,
         "city-l/100km": 9.791666666666666,
         "highway-l/100km": 7.833333333333333,
         "price": 13950,
         "horsepower_binned": "Low",
         "fuel_type_diesel": 0,
         "fuel_type_gas": 1,
         "_deepnote_index_column": 3
        },
        {
         "symboling": 2,
         "normalized-losses": 164,
         "make": "audi",
         "aspiration": "std",
         "num-of-doors": "four",
         "body-style": "sedan",
         "drive-wheels": "4wd",
         "engine-location": "front",
         "wheel-base": 99.4,
         "length": 0.8486304661220567,
         "width": 0.9222222222222224,
         "height": 0.9080267558528428,
         "curb-weight": 2824,
         "engine-type": "ohc",
         "num-of-cylinders": "five",
         "engine-size": 136,
         "fuel-system": "mpfi",
         "bore": 3.19,
         "stroke": 3.4,
         "compression-ratio": 8,
         "horsepower": 115,
         "peak-rpm": 5500,
         "city-l/100km": 13.055555555555555,
         "highway-l/100km": 10.681818181818182,
         "price": 17450,
         "horsepower_binned": "Low",
         "fuel_type_diesel": 0,
         "fuel_type_gas": 1,
         "_deepnote_index_column": 4
        }
       ]
      },
      "text/plain": "   symboling  normalized-losses         make aspiration num-of-doors  \\\n0          3                122  alfa-romero        std          two   \n1          3                122  alfa-romero        std          two   \n2          1                122  alfa-romero        std          two   \n3          2                164         audi        std         four   \n4          2                164         audi        std         four   \n\n    body-style drive-wheels engine-location  wheel-base  length  ...  stroke  \\\n0  convertible          rwd           front      88.600   0.811  ...   2.680   \n1  convertible          rwd           front      88.600   0.811  ...   2.680   \n2    hatchback          rwd           front      94.500   0.823  ...   3.470   \n3        sedan          fwd           front      99.800   0.849  ...   3.400   \n4        sedan          4wd           front      99.400   0.849  ...   3.400   \n\n   compression-ratio  horsepower  peak-rpm city-l/100km  highway-l/100km  \\\n0              9.000         111 5,000.000       11.190            8.704   \n1              9.000         111 5,000.000       11.190            8.704   \n2              9.000         154 5,000.000       12.368            9.038   \n3             10.000         102 5,500.000        9.792            7.833   \n4              8.000         115 5,500.000       13.056           10.682   \n\n       price  horsepower_binned  fuel_type_diesel  fuel_type_gas  \n0 13,495.000                Low                 0              1  \n1 16,500.000                Low                 0              1  \n2 16,500.000             Medium                 0              1  \n3 13,950.000                Low                 0              1  \n4 17,450.000                Low                 0              1  \n\n[5 rows x 28 columns]",
      "text/html": "<div>\n<style scoped>\n    .dataframe tbody tr th:only-of-type {\n        vertical-align: middle;\n    }\n\n    .dataframe tbody tr th {\n        vertical-align: top;\n    }\n\n    .dataframe thead th {\n        text-align: right;\n    }\n</style>\n<table border=\"1\" class=\"dataframe\">\n  <thead>\n    <tr style=\"text-align: right;\">\n      <th></th>\n      <th>symboling</th>\n      <th>normalized-losses</th>\n      <th>make</th>\n      <th>aspiration</th>\n      <th>num-of-doors</th>\n      <th>body-style</th>\n      <th>drive-wheels</th>\n      <th>engine-location</th>\n      <th>wheel-base</th>\n      <th>length</th>\n      <th>...</th>\n      <th>stroke</th>\n      <th>compression-ratio</th>\n      <th>horsepower</th>\n      <th>peak-rpm</th>\n      <th>city-l/100km</th>\n      <th>highway-l/100km</th>\n      <th>price</th>\n      <th>horsepower_binned</th>\n      <th>fuel_type_diesel</th>\n      <th>fuel_type_gas</th>\n    </tr>\n  </thead>\n  <tbody>\n    <tr>\n      <th>0</th>\n      <td>3</td>\n      <td>122</td>\n      <td>alfa-romero</td>\n      <td>std</td>\n      <td>two</td>\n      <td>convertible</td>\n      <td>rwd</td>\n      <td>front</td>\n      <td>88.600</td>\n      <td>0.811</td>\n      <td>...</td>\n      <td>2.680</td>\n      <td>9.000</td>\n      <td>111</td>\n      <td>5,000.000</td>\n      <td>11.190</td>\n      <td>8.704</td>\n      <td>13,495.000</td>\n      <td>Low</td>\n      <td>0</td>\n      <td>1</td>\n    </tr>\n    <tr>\n      <th>1</th>\n      <td>3</td>\n      <td>122</td>\n      <td>alfa-romero</td>\n      <td>std</td>\n      <td>two</td>\n      <td>convertible</td>\n      <td>rwd</td>\n      <td>front</td>\n      <td>88.600</td>\n      <td>0.811</td>\n      <td>...</td>\n      <td>2.680</td>\n      <td>9.000</td>\n      <td>111</td>\n      <td>5,000.000</td>\n      <td>11.190</td>\n      <td>8.704</td>\n      <td>16,500.000</td>\n      <td>Low</td>\n      <td>0</td>\n      <td>1</td>\n    </tr>\n    <tr>\n      <th>2</th>\n      <td>1</td>\n      <td>122</td>\n      <td>alfa-romero</td>\n      <td>std</td>\n      <td>two</td>\n      <td>hatchback</td>\n      <td>rwd</td>\n      <td>front</td>\n      <td>94.500</td>\n      <td>0.823</td>\n      <td>...</td>\n      <td>3.470</td>\n      <td>9.000</td>\n      <td>154</td>\n      <td>5,000.000</td>\n      <td>12.368</td>\n      <td>9.038</td>\n      <td>16,500.000</td>\n      <td>Medium</td>\n      <td>0</td>\n      <td>1</td>\n    </tr>\n    <tr>\n      <th>3</th>\n      <td>2</td>\n      <td>164</td>\n      <td>audi</td>\n      <td>std</td>\n      <td>four</td>\n      <td>sedan</td>\n      <td>fwd</td>\n      <td>front</td>\n      <td>99.800</td>\n      <td>0.849</td>\n      <td>...</td>\n      <td>3.400</td>\n      <td>10.000</td>\n      <td>102</td>\n      <td>5,500.000</td>\n      <td>9.792</td>\n      <td>7.833</td>\n      <td>13,950.000</td>\n      <td>Low</td>\n      <td>0</td>\n      <td>1</td>\n    </tr>\n    <tr>\n      <th>4</th>\n      <td>2</td>\n      <td>164</td>\n      <td>audi</td>\n      <td>std</td>\n      <td>four</td>\n      <td>sedan</td>\n      <td>4wd</td>\n      <td>front</td>\n      <td>99.400</td>\n      <td>0.849</td>\n      <td>...</td>\n      <td>3.400</td>\n      <td>8.000</td>\n      <td>115</td>\n      <td>5,500.000</td>\n      <td>13.056</td>\n      <td>10.682</td>\n      <td>17,450.000</td>\n      <td>Low</td>\n      <td>0</td>\n      <td>1</td>\n    </tr>\n  </tbody>\n</table>\n<p>5 rows × 28 columns</p>\n</div>"
     },
     "metadata": {}
    }
   ]
  },
  {
   "cell_type": "code",
   "metadata": {
    "cell_id": "5bf6a3f2-176d-4d73-a8dc-4748b4ccab27",
    "tags": [],
    "deepnote_to_be_reexecuted": false,
    "source_hash": "2a0bc6d7",
    "execution_start": 1646234576937,
    "execution_millis": 27,
    "deepnote_cell_type": "code"
   },
   "source": "df_cars.describe()",
   "execution_count": 5,
   "outputs": [
    {
     "output_type": "execute_result",
     "execution_count": 5,
     "data": {
      "application/vnd.deepnote.dataframe.v3+json": {
       "column_count": 18,
       "row_count": 8,
       "columns": [
        {
         "name": "symboling",
         "dtype": "float64",
         "stats": {
          "unique_count": 8,
          "nan_count": 0,
          "min": "-2.0",
          "max": "201.0",
          "histogram": [
           {
            "bin_start": -2,
            "bin_end": 18.3,
            "count": 7
           },
           {
            "bin_start": 18.3,
            "bin_end": 38.6,
            "count": 0
           },
           {
            "bin_start": 38.6,
            "bin_end": 58.900000000000006,
            "count": 0
           },
           {
            "bin_start": 58.900000000000006,
            "bin_end": 79.2,
            "count": 0
           },
           {
            "bin_start": 79.2,
            "bin_end": 99.5,
            "count": 0
           },
           {
            "bin_start": 99.5,
            "bin_end": 119.80000000000001,
            "count": 0
           },
           {
            "bin_start": 119.80000000000001,
            "bin_end": 140.1,
            "count": 0
           },
           {
            "bin_start": 140.1,
            "bin_end": 160.4,
            "count": 0
           },
           {
            "bin_start": 160.4,
            "bin_end": 180.70000000000002,
            "count": 0
           },
           {
            "bin_start": 180.70000000000002,
            "bin_end": 201,
            "count": 1
           }
          ]
         }
        },
        {
         "name": "normalized-losses",
         "dtype": "float64",
         "stats": {
          "unique_count": 7,
          "nan_count": 0,
          "min": "31.996249780247684",
          "max": "256.0",
          "histogram": [
           {
            "bin_start": 31.996249780247684,
            "bin_end": 54.39662480222292,
            "count": 1
           },
           {
            "bin_start": 54.39662480222292,
            "bin_end": 76.79699982419814,
            "count": 1
           },
           {
            "bin_start": 76.79699982419814,
            "bin_end": 99.19737484617336,
            "count": 0
           },
           {
            "bin_start": 99.19737484617336,
            "bin_end": 121.5977498681486,
            "count": 1
           },
           {
            "bin_start": 121.5977498681486,
            "bin_end": 143.99812489012385,
            "count": 3
           },
           {
            "bin_start": 143.99812489012385,
            "bin_end": 166.39849991209906,
            "count": 0
           },
           {
            "bin_start": 166.39849991209906,
            "bin_end": 188.7988749340743,
            "count": 0
           },
           {
            "bin_start": 188.7988749340743,
            "bin_end": 211.19924995604953,
            "count": 1
           },
           {
            "bin_start": 211.19924995604953,
            "bin_end": 233.59962497802476,
            "count": 0
           },
           {
            "bin_start": 233.59962497802476,
            "bin_end": 256,
            "count": 1
           }
          ]
         }
        },
        {
         "name": "wheel-base",
         "dtype": "float64",
         "stats": {
          "unique_count": 8,
          "nan_count": 0,
          "min": "6.066365554825733",
          "max": "201.0",
          "histogram": [
           {
            "bin_start": 6.066365554825733,
            "bin_end": 25.55972899934316,
            "count": 1
           },
           {
            "bin_start": 25.55972899934316,
            "bin_end": 45.05309244386059,
            "count": 0
           },
           {
            "bin_start": 45.05309244386059,
            "bin_end": 64.54645588837802,
            "count": 0
           },
           {
            "bin_start": 64.54645588837802,
            "bin_end": 84.03981933289545,
            "count": 0
           },
           {
            "bin_start": 84.03981933289545,
            "bin_end": 103.53318277741288,
            "count": 5
           },
           {
            "bin_start": 103.53318277741288,
            "bin_end": 123.0265462219303,
            "count": 1
           },
           {
            "bin_start": 123.0265462219303,
            "bin_end": 142.51990966644772,
            "count": 0
           },
           {
            "bin_start": 142.51990966644772,
            "bin_end": 162.01327311096514,
            "count": 0
           },
           {
            "bin_start": 162.01327311096514,
            "bin_end": 181.50663655548257,
            "count": 0
           },
           {
            "bin_start": 181.50663655548257,
            "bin_end": 201,
            "count": 1
           }
          ]
         }
        },
        {
         "name": "length",
         "dtype": "float64",
         "stats": {
          "unique_count": 8,
          "nan_count": 0,
          "min": "0.059212758732757685",
          "max": "201.0",
          "histogram": [
           {
            "bin_start": 0.059212758732757685,
            "bin_end": 20.153291482859483,
            "count": 7
           },
           {
            "bin_start": 20.153291482859483,
            "bin_end": 40.247370206986204,
            "count": 0
           },
           {
            "bin_start": 40.247370206986204,
            "bin_end": 60.34144893111293,
            "count": 0
           },
           {
            "bin_start": 60.34144893111293,
            "bin_end": 80.43552765523965,
            "count": 0
           },
           {
            "bin_start": 80.43552765523965,
            "bin_end": 100.52960637936637,
            "count": 0
           },
           {
            "bin_start": 100.52960637936637,
            "bin_end": 120.6236851034931,
            "count": 0
           },
           {
            "bin_start": 120.6236851034931,
            "bin_end": 140.71776382761985,
            "count": 0
           },
           {
            "bin_start": 140.71776382761985,
            "bin_end": 160.81184255174657,
            "count": 0
           },
           {
            "bin_start": 160.81184255174657,
            "bin_end": 180.90592127587328,
            "count": 0
           },
           {
            "bin_start": 180.90592127587328,
            "bin_end": 201,
            "count": 1
           }
          ]
         }
        },
        {
         "name": "width",
         "dtype": "float64",
         "stats": {
          "unique_count": 8,
          "nan_count": 0,
          "min": "0.029187094704637245",
          "max": "201.0",
          "histogram": [
           {
            "bin_start": 0.029187094704637245,
            "bin_end": 20.126268385234173,
            "count": 7
           },
           {
            "bin_start": 20.126268385234173,
            "bin_end": 40.223349675763714,
            "count": 0
           },
           {
            "bin_start": 40.223349675763714,
            "bin_end": 60.32043096629325,
            "count": 0
           },
           {
            "bin_start": 60.32043096629325,
            "bin_end": 80.41751225682279,
            "count": 0
           },
           {
            "bin_start": 80.41751225682279,
            "bin_end": 100.51459354735232,
            "count": 0
           },
           {
            "bin_start": 100.51459354735232,
            "bin_end": 120.61167483788186,
            "count": 0
           },
           {
            "bin_start": 120.61167483788186,
            "bin_end": 140.7087561284114,
            "count": 0
           },
           {
            "bin_start": 140.7087561284114,
            "bin_end": 160.80583741894094,
            "count": 0
           },
           {
            "bin_start": 160.80583741894094,
            "bin_end": 180.90291870947047,
            "count": 0
           },
           {
            "bin_start": 180.90291870947047,
            "bin_end": 201,
            "count": 1
           }
          ]
         }
        },
        {
         "name": "height",
         "dtype": "float64",
         "stats": {
          "unique_count": 8,
          "nan_count": 0,
          "min": "0.04093348095813227",
          "max": "201.0",
          "histogram": [
           {
            "bin_start": 0.04093348095813227,
            "bin_end": 20.136840132862318,
            "count": 7
           },
           {
            "bin_start": 20.136840132862318,
            "bin_end": 40.232746784766505,
            "count": 0
           },
           {
            "bin_start": 40.232746784766505,
            "bin_end": 60.32865343667069,
            "count": 0
           },
           {
            "bin_start": 60.32865343667069,
            "bin_end": 80.42456008857488,
            "count": 0
           },
           {
            "bin_start": 80.42456008857488,
            "bin_end": 100.52046674047907,
            "count": 0
           },
           {
            "bin_start": 100.52046674047907,
            "bin_end": 120.61637339238325,
            "count": 0
           },
           {
            "bin_start": 120.61637339238325,
            "bin_end": 140.71228004428744,
            "count": 0
           },
           {
            "bin_start": 140.71228004428744,
            "bin_end": 160.80818669619163,
            "count": 0
           },
           {
            "bin_start": 160.80818669619163,
            "bin_end": 180.9040933480958,
            "count": 0
           },
           {
            "bin_start": 180.9040933480958,
            "bin_end": 201,
            "count": 1
           }
          ]
         }
        },
        {
         "name": "curb-weight",
         "dtype": "float64",
         "stats": {
          "unique_count": 8,
          "nan_count": 0,
          "min": "201.0",
          "max": "4066.0",
          "histogram": [
           {
            "bin_start": 201,
            "bin_end": 587.5,
            "count": 2
           },
           {
            "bin_start": 587.5,
            "bin_end": 974,
            "count": 0
           },
           {
            "bin_start": 974,
            "bin_end": 1360.5,
            "count": 0
           },
           {
            "bin_start": 1360.5,
            "bin_end": 1747,
            "count": 1
           },
           {
            "bin_start": 1747,
            "bin_end": 2133.5,
            "count": 0
           },
           {
            "bin_start": 2133.5,
            "bin_end": 2520,
            "count": 2
           },
           {
            "bin_start": 2520,
            "bin_end": 2906.5,
            "count": 1
           },
           {
            "bin_start": 2906.5,
            "bin_end": 3293,
            "count": 1
           },
           {
            "bin_start": 3293,
            "bin_end": 3679.5,
            "count": 0
           },
           {
            "bin_start": 3679.5,
            "bin_end": 4066,
            "count": 1
           }
          ]
         }
        },
        {
         "name": "engine-size",
         "dtype": "float64",
         "stats": {
          "unique_count": 8,
          "nan_count": 0,
          "min": "41.54683444904459",
          "max": "326.0",
          "histogram": [
           {
            "bin_start": 41.54683444904459,
            "bin_end": 69.99215100414013,
            "count": 2
           },
           {
            "bin_start": 69.99215100414013,
            "bin_end": 98.43746755923567,
            "count": 1
           },
           {
            "bin_start": 98.43746755923567,
            "bin_end": 126.8827841143312,
            "count": 2
           },
           {
            "bin_start": 126.8827841143312,
            "bin_end": 155.32810066942676,
            "count": 1
           },
           {
            "bin_start": 155.32810066942676,
            "bin_end": 183.7734172245223,
            "count": 0
           },
           {
            "bin_start": 183.7734172245223,
            "bin_end": 212.21873377961782,
            "count": 1
           },
           {
            "bin_start": 212.21873377961782,
            "bin_end": 240.66405033471338,
            "count": 0
           },
           {
            "bin_start": 240.66405033471338,
            "bin_end": 269.10936688980894,
            "count": 0
           },
           {
            "bin_start": 269.10936688980894,
            "bin_end": 297.55468344490447,
            "count": 0
           },
           {
            "bin_start": 297.55468344490447,
            "bin_end": 326,
            "count": 1
           }
          ]
         }
        },
        {
         "name": "bore",
         "dtype": "float64",
         "stats": {
          "unique_count": 8,
          "nan_count": 0,
          "min": "0.2680718571228559",
          "max": "201.0",
          "histogram": [
           {
            "bin_start": 0.2680718571228559,
            "bin_end": 20.34126467141057,
            "count": 7
           },
           {
            "bin_start": 20.34126467141057,
            "bin_end": 40.414457485698286,
            "count": 0
           },
           {
            "bin_start": 40.414457485698286,
            "bin_end": 60.487650299986,
            "count": 0
           },
           {
            "bin_start": 60.487650299986,
            "bin_end": 80.56084311427372,
            "count": 0
           },
           {
            "bin_start": 80.56084311427372,
            "bin_end": 100.63403592856145,
            "count": 0
           },
           {
            "bin_start": 100.63403592856145,
            "bin_end": 120.70722874284915,
            "count": 0
           },
           {
            "bin_start": 120.70722874284915,
            "bin_end": 140.78042155713686,
            "count": 0
           },
           {
            "bin_start": 140.78042155713686,
            "bin_end": 160.85361437142458,
            "count": 0
           },
           {
            "bin_start": 160.85361437142458,
            "bin_end": 180.9268071857123,
            "count": 0
           },
           {
            "bin_start": 180.9268071857123,
            "bin_end": 201,
            "count": 1
           }
          ]
         }
        },
        {
         "name": "stroke",
         "dtype": "float64",
         "stats": {
          "unique_count": 8,
          "nan_count": 0,
          "min": "0.3160476211151004",
          "max": "201.0",
          "histogram": [
           {
            "bin_start": 0.3160476211151004,
            "bin_end": 20.384442859003588,
            "count": 7
           },
           {
            "bin_start": 20.384442859003588,
            "bin_end": 40.45283809689208,
            "count": 0
           },
           {
            "bin_start": 40.45283809689208,
            "bin_end": 60.52123333478057,
            "count": 0
           },
           {
            "bin_start": 60.52123333478057,
            "bin_end": 80.58962857266906,
            "count": 0
           },
           {
            "bin_start": 80.58962857266906,
            "bin_end": 100.65802381055755,
            "count": 0
           },
           {
            "bin_start": 100.65802381055755,
            "bin_end": 120.72641904844603,
            "count": 0
           },
           {
            "bin_start": 120.72641904844603,
            "bin_end": 140.7948142863345,
            "count": 0
           },
           {
            "bin_start": 140.7948142863345,
            "bin_end": 160.863209524223,
            "count": 0
           },
           {
            "bin_start": 160.863209524223,
            "bin_end": 180.9316047621115,
            "count": 0
           },
           {
            "bin_start": 180.9316047621115,
            "bin_end": 201,
            "count": 1
           }
          ]
         }
        },
        {
         "name": "compression-ratio",
         "dtype": "float64",
         "stats": {
          "unique_count": 8,
          "nan_count": 0,
          "min": "4.0049654932333745",
          "max": "201.0",
          "histogram": [
           {
            "bin_start": 4.0049654932333745,
            "bin_end": 23.704468943910037,
            "count": 7
           },
           {
            "bin_start": 23.704468943910037,
            "bin_end": 43.4039723945867,
            "count": 0
           },
           {
            "bin_start": 43.4039723945867,
            "bin_end": 63.10347584526336,
            "count": 0
           },
           {
            "bin_start": 63.10347584526336,
            "bin_end": 82.80297929594002,
            "count": 0
           },
           {
            "bin_start": 82.80297929594002,
            "bin_end": 102.50248274661668,
            "count": 0
           },
           {
            "bin_start": 102.50248274661668,
            "bin_end": 122.20198619729335,
            "count": 0
           },
           {
            "bin_start": 122.20198619729335,
            "bin_end": 141.90148964797,
            "count": 0
           },
           {
            "bin_start": 141.90148964797,
            "bin_end": 161.60099309864668,
            "count": 0
           },
           {
            "bin_start": 161.60099309864668,
            "bin_end": 181.30049654932336,
            "count": 0
           },
           {
            "bin_start": 181.30049654932336,
            "bin_end": 201,
            "count": 1
           }
          ]
         }
        },
        {
         "name": "horsepower",
         "dtype": "float64",
         "stats": {
          "unique_count": 8,
          "nan_count": 0,
          "min": "37.365649881204746",
          "max": "262.0",
          "histogram": [
           {
            "bin_start": 37.365649881204746,
            "bin_end": 59.82908489308427,
            "count": 2
           },
           {
            "bin_start": 59.82908489308427,
            "bin_end": 82.2925199049638,
            "count": 1
           },
           {
            "bin_start": 82.2925199049638,
            "bin_end": 104.75595491684332,
            "count": 2
           },
           {
            "bin_start": 104.75595491684332,
            "bin_end": 127.21938992872285,
            "count": 1
           },
           {
            "bin_start": 127.21938992872285,
            "bin_end": 149.68282494060236,
            "count": 0
           },
           {
            "bin_start": 149.68282494060236,
            "bin_end": 172.1462599524819,
            "count": 0
           },
           {
            "bin_start": 172.1462599524819,
            "bin_end": 194.6096949643614,
            "count": 0
           },
           {
            "bin_start": 194.6096949643614,
            "bin_end": 217.07312997624095,
            "count": 1
           },
           {
            "bin_start": 217.07312997624095,
            "bin_end": 239.5365649881205,
            "count": 0
           },
           {
            "bin_start": 239.5365649881205,
            "bin_end": 262,
            "count": 1
           }
          ]
         }
        },
        {
         "name": "peak-rpm",
         "dtype": "float64",
         "stats": {
          "unique_count": 8,
          "nan_count": 0,
          "min": "201.0",
          "max": "6600.0",
          "histogram": [
           {
            "bin_start": 201,
            "bin_end": 840.9,
            "count": 2
           },
           {
            "bin_start": 840.9,
            "bin_end": 1480.8,
            "count": 0
           },
           {
            "bin_start": 1480.8,
            "bin_end": 2120.7,
            "count": 0
           },
           {
            "bin_start": 2120.7,
            "bin_end": 2760.6,
            "count": 0
           },
           {
            "bin_start": 2760.6,
            "bin_end": 3400.5,
            "count": 0
           },
           {
            "bin_start": 3400.5,
            "bin_end": 4040.3999999999996,
            "count": 0
           },
           {
            "bin_start": 4040.3999999999996,
            "bin_end": 4680.3,
            "count": 1
           },
           {
            "bin_start": 4680.3,
            "bin_end": 5320.2,
            "count": 3
           },
           {
            "bin_start": 5320.2,
            "bin_end": 5960.099999999999,
            "count": 1
           },
           {
            "bin_start": 5960.099999999999,
            "bin_end": 6600,
            "count": 1
           }
          ]
         }
        },
        {
         "name": "city-l/100km",
         "dtype": "float64",
         "stats": {
          "unique_count": 8,
          "nan_count": 0,
          "min": "2.5345992612400026",
          "max": "201.0",
          "histogram": [
           {
            "bin_start": 2.5345992612400026,
            "bin_end": 22.381139335116004,
            "count": 7
           },
           {
            "bin_start": 22.381139335116004,
            "bin_end": 42.227679408992,
            "count": 0
           },
           {
            "bin_start": 42.227679408992,
            "bin_end": 62.074219482868,
            "count": 0
           },
           {
            "bin_start": 62.074219482868,
            "bin_end": 81.920759556744,
            "count": 0
           },
           {
            "bin_start": 81.920759556744,
            "bin_end": 101.76729963062,
            "count": 0
           },
           {
            "bin_start": 101.76729963062,
            "bin_end": 121.613839704496,
            "count": 0
           },
           {
            "bin_start": 121.613839704496,
            "bin_end": 141.46037977837202,
            "count": 0
           },
           {
            "bin_start": 141.46037977837202,
            "bin_end": 161.306919852248,
            "count": 0
           },
           {
            "bin_start": 161.306919852248,
            "bin_end": 181.153459926124,
            "count": 0
           },
           {
            "bin_start": 181.153459926124,
            "bin_end": 201,
            "count": 1
           }
          ]
         }
        },
        {
         "name": "highway-l/100km",
         "dtype": "float64",
         "stats": {
          "unique_count": 8,
          "nan_count": 0,
          "min": "1.8407385224197115",
          "max": "201.0",
          "histogram": [
           {
            "bin_start": 1.8407385224197115,
            "bin_end": 21.75666467017774,
            "count": 7
           },
           {
            "bin_start": 21.75666467017774,
            "bin_end": 41.67259081793577,
            "count": 0
           },
           {
            "bin_start": 41.67259081793577,
            "bin_end": 61.5885169656938,
            "count": 0
           },
           {
            "bin_start": 61.5885169656938,
            "bin_end": 81.50444311345183,
            "count": 0
           },
           {
            "bin_start": 81.50444311345183,
            "bin_end": 101.42036926120986,
            "count": 0
           },
           {
            "bin_start": 101.42036926120986,
            "bin_end": 121.33629540896789,
            "count": 0
           },
           {
            "bin_start": 121.33629540896789,
            "bin_end": 141.2522215567259,
            "count": 0
           },
           {
            "bin_start": 141.2522215567259,
            "bin_end": 161.16814770448394,
            "count": 0
           },
           {
            "bin_start": 161.16814770448394,
            "bin_end": 181.08407385224197,
            "count": 0
           },
           {
            "bin_start": 181.08407385224197,
            "bin_end": 201,
            "count": 1
           }
          ]
         }
        },
        {
         "name": "price",
         "dtype": "float64",
         "stats": {
          "unique_count": 8,
          "nan_count": 0,
          "min": "201.0",
          "max": "45400.0",
          "histogram": [
           {
            "bin_start": 201,
            "bin_end": 4720.9,
            "count": 1
           },
           {
            "bin_start": 4720.9,
            "bin_end": 9240.8,
            "count": 3
           },
           {
            "bin_start": 9240.8,
            "bin_end": 13760.699999999999,
            "count": 2
           },
           {
            "bin_start": 13760.699999999999,
            "bin_end": 18280.6,
            "count": 1
           },
           {
            "bin_start": 18280.6,
            "bin_end": 22800.5,
            "count": 0
           },
           {
            "bin_start": 22800.5,
            "bin_end": 27320.399999999998,
            "count": 0
           },
           {
            "bin_start": 27320.399999999998,
            "bin_end": 31840.299999999996,
            "count": 0
           },
           {
            "bin_start": 31840.299999999996,
            "bin_end": 36360.2,
            "count": 0
           },
           {
            "bin_start": 36360.2,
            "bin_end": 40880.1,
            "count": 0
           },
           {
            "bin_start": 40880.1,
            "bin_end": 45400,
            "count": 1
           }
          ]
         }
        },
        {
         "name": "fuel_type_diesel",
         "dtype": "float64",
         "stats": {
          "unique_count": 5,
          "nan_count": 0,
          "min": "0.0",
          "max": "201.0",
          "histogram": [
           {
            "bin_start": 0,
            "bin_end": 20.1,
            "count": 7
           },
           {
            "bin_start": 20.1,
            "bin_end": 40.2,
            "count": 0
           },
           {
            "bin_start": 40.2,
            "bin_end": 60.300000000000004,
            "count": 0
           },
           {
            "bin_start": 60.300000000000004,
            "bin_end": 80.4,
            "count": 0
           },
           {
            "bin_start": 80.4,
            "bin_end": 100.5,
            "count": 0
           },
           {
            "bin_start": 100.5,
            "bin_end": 120.60000000000001,
            "count": 0
           },
           {
            "bin_start": 120.60000000000001,
            "bin_end": 140.70000000000002,
            "count": 0
           },
           {
            "bin_start": 140.70000000000002,
            "bin_end": 160.8,
            "count": 0
           },
           {
            "bin_start": 160.8,
            "bin_end": 180.9,
            "count": 0
           },
           {
            "bin_start": 180.9,
            "bin_end": 201,
            "count": 1
           }
          ]
         }
        },
        {
         "name": "fuel_type_gas",
         "dtype": "float64",
         "stats": {
          "unique_count": 5,
          "nan_count": 0,
          "min": "0.0",
          "max": "201.0",
          "histogram": [
           {
            "bin_start": 0,
            "bin_end": 20.1,
            "count": 7
           },
           {
            "bin_start": 20.1,
            "bin_end": 40.2,
            "count": 0
           },
           {
            "bin_start": 40.2,
            "bin_end": 60.300000000000004,
            "count": 0
           },
           {
            "bin_start": 60.300000000000004,
            "bin_end": 80.4,
            "count": 0
           },
           {
            "bin_start": 80.4,
            "bin_end": 100.5,
            "count": 0
           },
           {
            "bin_start": 100.5,
            "bin_end": 120.60000000000001,
            "count": 0
           },
           {
            "bin_start": 120.60000000000001,
            "bin_end": 140.70000000000002,
            "count": 0
           },
           {
            "bin_start": 140.70000000000002,
            "bin_end": 160.8,
            "count": 0
           },
           {
            "bin_start": 160.8,
            "bin_end": 180.9,
            "count": 0
           },
           {
            "bin_start": 180.9,
            "bin_end": 201,
            "count": 1
           }
          ]
         }
        },
        {
         "name": "_deepnote_index_column",
         "dtype": "object"
        }
       ],
       "rows": [
        {
         "symboling": 201,
         "normalized-losses": 201,
         "wheel-base": 201,
         "length": 201,
         "width": 201,
         "height": 201,
         "curb-weight": 201,
         "engine-size": 201,
         "bore": 201,
         "stroke": 201,
         "compression-ratio": 201,
         "horsepower": 201,
         "peak-rpm": 201,
         "city-l/100km": 201,
         "highway-l/100km": 201,
         "price": 201,
         "fuel_type_diesel": 201,
         "fuel_type_gas": 201,
         "_deepnote_index_column": "count"
        },
        {
         "symboling": 0.8407960199004975,
         "normalized-losses": 122,
         "wheel-base": 98.79701492537313,
         "length": 0.8371023307298204,
         "width": 0.9151257600884466,
         "height": 0.8991081382385732,
         "curb-weight": 2555.6666666666665,
         "engine-size": 126.87562189054727,
         "bore": 3.33069156704042,
         "stroke": 3.2568740872750674,
         "compression-ratio": 10.164278606965174,
         "horsepower": 103.40298507462687,
         "peak-rpm": 5117.665367742568,
         "city-l/100km": 9.944145483678392,
         "highway-l/100km": 8.044956825400792,
         "price": 13207.129353233831,
         "fuel_type_diesel": 0.09950248756218906,
         "fuel_type_gas": 0.900497512437811,
         "_deepnote_index_column": "mean"
        },
        {
         "symboling": 1.2548017226574404,
         "normalized-losses": 31.996249780247684,
         "wheel-base": 6.066365554825733,
         "length": 0.059212758732757685,
         "width": 0.029187094704637245,
         "height": 0.04093348095813227,
         "curb-weight": 517.2967265828513,
         "engine-size": 41.54683444904459,
         "bore": 0.2680718571228559,
         "stroke": 0.3160476211151004,
         "compression-ratio": 4.0049654932333745,
         "horsepower": 37.365649881204746,
         "peak-rpm": 478.11380501977726,
         "city-l/100km": 2.5345992612400026,
         "highway-l/100km": 1.8407385224197115,
         "price": 7947.066341939274,
         "fuel_type_diesel": 0.30008290728360576,
         "fuel_type_gas": 0.30008290728360576,
         "_deepnote_index_column": "std"
        },
        {
         "symboling": -2,
         "normalized-losses": 65,
         "wheel-base": 86.6,
         "length": 0.6780394041326285,
         "width": 0.8374999999999999,
         "height": 0.7993311036789298,
         "curb-weight": 1488,
         "engine-size": 61,
         "bore": 2.54,
         "stroke": 2.07,
         "compression-ratio": 7,
         "horsepower": 48,
         "peak-rpm": 4150,
         "city-l/100km": 4.795918367346939,
         "highway-l/100km": 4.351851851851852,
         "price": 5118,
         "fuel_type_diesel": 0,
         "fuel_type_gas": 0,
         "_deepnote_index_column": "min"
        },
        {
         "symboling": 0,
         "normalized-losses": 101,
         "wheel-base": 94.5,
         "length": 0.8015377222489188,
         "width": 0.8902777777777777,
         "height": 0.8695652173913044,
         "curb-weight": 2169,
         "engine-size": 98,
         "bore": 3.15,
         "stroke": 3.11,
         "compression-ratio": 8.6,
         "horsepower": 70,
         "peak-rpm": 4800,
         "city-l/100km": 7.833333333333333,
         "highway-l/100km": 6.911764705882353,
         "price": 7775,
         "fuel_type_diesel": 0,
         "fuel_type_gas": 1,
         "_deepnote_index_column": "25%"
        },
        {
         "symboling": 1,
         "normalized-losses": 122,
         "wheel-base": 97,
         "length": 0.8322921672272945,
         "width": 0.9097222222222222,
         "height": 0.9046822742474916,
         "curb-weight": 2414,
         "engine-size": 120,
         "bore": 3.31,
         "stroke": 3.29,
         "compression-ratio": 9,
         "horsepower": 95,
         "peak-rpm": 5125.369458128079,
         "city-l/100km": 9.791666666666666,
         "highway-l/100km": 7.833333333333333,
         "price": 10295,
         "fuel_type_diesel": 0,
         "fuel_type_gas": 1,
         "_deepnote_index_column": "50%"
        },
        {
         "symboling": 2,
         "normalized-losses": 137,
         "wheel-base": 102.4,
         "length": 0.8817876021143681,
         "width": 0.925,
         "height": 0.92809364548495,
         "curb-weight": 2926,
         "engine-size": 141,
         "bore": 3.58,
         "stroke": 3.41,
         "compression-ratio": 9.4,
         "horsepower": 116,
         "peak-rpm": 5500,
         "city-l/100km": 12.36842105263158,
         "highway-l/100km": 9.4,
         "price": 16500,
         "fuel_type_diesel": 0,
         "fuel_type_gas": 1,
         "_deepnote_index_column": "75%"
        },
        {
         "symboling": 3,
         "normalized-losses": 256,
         "wheel-base": 120.9,
         "length": 1,
         "width": 1,
         "height": 1,
         "curb-weight": 4066,
         "engine-size": 326,
         "bore": 3.94,
         "stroke": 4.17,
         "compression-ratio": 23,
         "horsepower": 262,
         "peak-rpm": 6600,
         "city-l/100km": 18.07692307692308,
         "highway-l/100km": 14.6875,
         "price": 45400,
         "fuel_type_diesel": 1,
         "fuel_type_gas": 1,
         "_deepnote_index_column": "max"
        }
       ]
      },
      "text/plain": "       symboling  normalized-losses  wheel-base  length   width  height  \\\ncount    201.000            201.000     201.000 201.000 201.000 201.000   \nmean       0.841            122.000      98.797   0.837   0.915   0.899   \nstd        1.255             31.996       6.066   0.059   0.029   0.041   \nmin       -2.000             65.000      86.600   0.678   0.837   0.799   \n25%        0.000            101.000      94.500   0.802   0.890   0.870   \n50%        1.000            122.000      97.000   0.832   0.910   0.905   \n75%        2.000            137.000     102.400   0.882   0.925   0.928   \nmax        3.000            256.000     120.900   1.000   1.000   1.000   \n\n       curb-weight  engine-size    bore  stroke  compression-ratio  \\\ncount      201.000      201.000 201.000 201.000            201.000   \nmean     2,555.667      126.876   3.331   3.257             10.164   \nstd        517.297       41.547   0.268   0.316              4.005   \nmin      1,488.000       61.000   2.540   2.070              7.000   \n25%      2,169.000       98.000   3.150   3.110              8.600   \n50%      2,414.000      120.000   3.310   3.290              9.000   \n75%      2,926.000      141.000   3.580   3.410              9.400   \nmax      4,066.000      326.000   3.940   4.170             23.000   \n\n       horsepower  peak-rpm  city-l/100km  highway-l/100km      price  \\\ncount     201.000   201.000       201.000          201.000    201.000   \nmean      103.403 5,117.665         9.944            8.045 13,207.129   \nstd        37.366   478.114         2.535            1.841  7,947.066   \nmin        48.000 4,150.000         4.796            4.352  5,118.000   \n25%        70.000 4,800.000         7.833            6.912  7,775.000   \n50%        95.000 5,125.369         9.792            7.833 10,295.000   \n75%       116.000 5,500.000        12.368            9.400 16,500.000   \nmax       262.000 6,600.000        18.077           14.688 45,400.000   \n\n       fuel_type_diesel  fuel_type_gas  \ncount           201.000        201.000  \nmean              0.100          0.900  \nstd               0.300          0.300  \nmin               0.000          0.000  \n25%               0.000          1.000  \n50%               0.000          1.000  \n75%               0.000          1.000  \nmax               1.000          1.000  ",
      "text/html": "<div>\n<style scoped>\n    .dataframe tbody tr th:only-of-type {\n        vertical-align: middle;\n    }\n\n    .dataframe tbody tr th {\n        vertical-align: top;\n    }\n\n    .dataframe thead th {\n        text-align: right;\n    }\n</style>\n<table border=\"1\" class=\"dataframe\">\n  <thead>\n    <tr style=\"text-align: right;\">\n      <th></th>\n      <th>symboling</th>\n      <th>normalized-losses</th>\n      <th>wheel-base</th>\n      <th>length</th>\n      <th>width</th>\n      <th>height</th>\n      <th>curb-weight</th>\n      <th>engine-size</th>\n      <th>bore</th>\n      <th>stroke</th>\n      <th>compression-ratio</th>\n      <th>horsepower</th>\n      <th>peak-rpm</th>\n      <th>city-l/100km</th>\n      <th>highway-l/100km</th>\n      <th>price</th>\n      <th>fuel_type_diesel</th>\n      <th>fuel_type_gas</th>\n    </tr>\n  </thead>\n  <tbody>\n    <tr>\n      <th>count</th>\n      <td>201.000</td>\n      <td>201.000</td>\n      <td>201.000</td>\n      <td>201.000</td>\n      <td>201.000</td>\n      <td>201.000</td>\n      <td>201.000</td>\n      <td>201.000</td>\n      <td>201.000</td>\n      <td>201.000</td>\n      <td>201.000</td>\n      <td>201.000</td>\n      <td>201.000</td>\n      <td>201.000</td>\n      <td>201.000</td>\n      <td>201.000</td>\n      <td>201.000</td>\n      <td>201.000</td>\n    </tr>\n    <tr>\n      <th>mean</th>\n      <td>0.841</td>\n      <td>122.000</td>\n      <td>98.797</td>\n      <td>0.837</td>\n      <td>0.915</td>\n      <td>0.899</td>\n      <td>2,555.667</td>\n      <td>126.876</td>\n      <td>3.331</td>\n      <td>3.257</td>\n      <td>10.164</td>\n      <td>103.403</td>\n      <td>5,117.665</td>\n      <td>9.944</td>\n      <td>8.045</td>\n      <td>13,207.129</td>\n      <td>0.100</td>\n      <td>0.900</td>\n    </tr>\n    <tr>\n      <th>std</th>\n      <td>1.255</td>\n      <td>31.996</td>\n      <td>6.066</td>\n      <td>0.059</td>\n      <td>0.029</td>\n      <td>0.041</td>\n      <td>517.297</td>\n      <td>41.547</td>\n      <td>0.268</td>\n      <td>0.316</td>\n      <td>4.005</td>\n      <td>37.366</td>\n      <td>478.114</td>\n      <td>2.535</td>\n      <td>1.841</td>\n      <td>7,947.066</td>\n      <td>0.300</td>\n      <td>0.300</td>\n    </tr>\n    <tr>\n      <th>min</th>\n      <td>-2.000</td>\n      <td>65.000</td>\n      <td>86.600</td>\n      <td>0.678</td>\n      <td>0.837</td>\n      <td>0.799</td>\n      <td>1,488.000</td>\n      <td>61.000</td>\n      <td>2.540</td>\n      <td>2.070</td>\n      <td>7.000</td>\n      <td>48.000</td>\n      <td>4,150.000</td>\n      <td>4.796</td>\n      <td>4.352</td>\n      <td>5,118.000</td>\n      <td>0.000</td>\n      <td>0.000</td>\n    </tr>\n    <tr>\n      <th>25%</th>\n      <td>0.000</td>\n      <td>101.000</td>\n      <td>94.500</td>\n      <td>0.802</td>\n      <td>0.890</td>\n      <td>0.870</td>\n      <td>2,169.000</td>\n      <td>98.000</td>\n      <td>3.150</td>\n      <td>3.110</td>\n      <td>8.600</td>\n      <td>70.000</td>\n      <td>4,800.000</td>\n      <td>7.833</td>\n      <td>6.912</td>\n      <td>7,775.000</td>\n      <td>0.000</td>\n      <td>1.000</td>\n    </tr>\n    <tr>\n      <th>50%</th>\n      <td>1.000</td>\n      <td>122.000</td>\n      <td>97.000</td>\n      <td>0.832</td>\n      <td>0.910</td>\n      <td>0.905</td>\n      <td>2,414.000</td>\n      <td>120.000</td>\n      <td>3.310</td>\n      <td>3.290</td>\n      <td>9.000</td>\n      <td>95.000</td>\n      <td>5,125.369</td>\n      <td>9.792</td>\n      <td>7.833</td>\n      <td>10,295.000</td>\n      <td>0.000</td>\n      <td>1.000</td>\n    </tr>\n    <tr>\n      <th>75%</th>\n      <td>2.000</td>\n      <td>137.000</td>\n      <td>102.400</td>\n      <td>0.882</td>\n      <td>0.925</td>\n      <td>0.928</td>\n      <td>2,926.000</td>\n      <td>141.000</td>\n      <td>3.580</td>\n      <td>3.410</td>\n      <td>9.400</td>\n      <td>116.000</td>\n      <td>5,500.000</td>\n      <td>12.368</td>\n      <td>9.400</td>\n      <td>16,500.000</td>\n      <td>0.000</td>\n      <td>1.000</td>\n    </tr>\n    <tr>\n      <th>max</th>\n      <td>3.000</td>\n      <td>256.000</td>\n      <td>120.900</td>\n      <td>1.000</td>\n      <td>1.000</td>\n      <td>1.000</td>\n      <td>4,066.000</td>\n      <td>326.000</td>\n      <td>3.940</td>\n      <td>4.170</td>\n      <td>23.000</td>\n      <td>262.000</td>\n      <td>6,600.000</td>\n      <td>18.077</td>\n      <td>14.688</td>\n      <td>45,400.000</td>\n      <td>1.000</td>\n      <td>1.000</td>\n    </tr>\n  </tbody>\n</table>\n</div>"
     },
     "metadata": {}
    }
   ]
  },
  {
   "cell_type": "code",
   "metadata": {
    "cell_id": "36693d70-fa8d-4319-b8e7-ed12f5f61142",
    "tags": [],
    "deepnote_to_be_reexecuted": false,
    "source_hash": "8b86cdbe",
    "execution_start": 1646234576965,
    "execution_millis": 47,
    "deepnote_cell_type": "code"
   },
   "source": "df_cars.describe(include = 'object')",
   "execution_count": 6,
   "outputs": [
    {
     "output_type": "execute_result",
     "execution_count": 6,
     "data": {
      "application/vnd.deepnote.dataframe.v3+json": {
       "column_count": 10,
       "row_count": 4,
       "columns": [
        {
         "name": "make",
         "dtype": "object",
         "stats": {
          "unique_count": 4,
          "nan_count": 0,
          "categories": [
           {
            "name": "201",
            "count": 1
           },
           {
            "name": "22",
            "count": 1
           },
           {
            "name": "2 others",
            "count": 2
           }
          ]
         }
        },
        {
         "name": "aspiration",
         "dtype": "object",
         "stats": {
          "unique_count": 4,
          "nan_count": 0,
          "categories": [
           {
            "name": "201",
            "count": 1
           },
           {
            "name": "2",
            "count": 1
           },
           {
            "name": "2 others",
            "count": 2
           }
          ]
         }
        },
        {
         "name": "num-of-doors",
         "dtype": "object",
         "stats": {
          "unique_count": 4,
          "nan_count": 0,
          "categories": [
           {
            "name": "201",
            "count": 1
           },
           {
            "name": "2",
            "count": 1
           },
           {
            "name": "2 others",
            "count": 2
           }
          ]
         }
        },
        {
         "name": "body-style",
         "dtype": "object",
         "stats": {
          "unique_count": 4,
          "nan_count": 0,
          "categories": [
           {
            "name": "201",
            "count": 1
           },
           {
            "name": "5",
            "count": 1
           },
           {
            "name": "2 others",
            "count": 2
           }
          ]
         }
        },
        {
         "name": "drive-wheels",
         "dtype": "object",
         "stats": {
          "unique_count": 4,
          "nan_count": 0,
          "categories": [
           {
            "name": "201",
            "count": 1
           },
           {
            "name": "3",
            "count": 1
           },
           {
            "name": "2 others",
            "count": 2
           }
          ]
         }
        },
        {
         "name": "engine-location",
         "dtype": "object",
         "stats": {
          "unique_count": 4,
          "nan_count": 0,
          "categories": [
           {
            "name": "201",
            "count": 1
           },
           {
            "name": "2",
            "count": 1
           },
           {
            "name": "2 others",
            "count": 2
           }
          ]
         }
        },
        {
         "name": "engine-type",
         "dtype": "object",
         "stats": {
          "unique_count": 4,
          "nan_count": 0,
          "categories": [
           {
            "name": "201",
            "count": 1
           },
           {
            "name": "6",
            "count": 1
           },
           {
            "name": "2 others",
            "count": 2
           }
          ]
         }
        },
        {
         "name": "num-of-cylinders",
         "dtype": "object",
         "stats": {
          "unique_count": 4,
          "nan_count": 0,
          "categories": [
           {
            "name": "201",
            "count": 1
           },
           {
            "name": "7",
            "count": 1
           },
           {
            "name": "2 others",
            "count": 2
           }
          ]
         }
        },
        {
         "name": "fuel-system",
         "dtype": "object",
         "stats": {
          "unique_count": 4,
          "nan_count": 0,
          "categories": [
           {
            "name": "201",
            "count": 1
           },
           {
            "name": "8",
            "count": 1
           },
           {
            "name": "2 others",
            "count": 2
           }
          ]
         }
        },
        {
         "name": "horsepower_binned",
         "dtype": "object",
         "stats": {
          "unique_count": 4,
          "nan_count": 0,
          "categories": [
           {
            "name": "201",
            "count": 1
           },
           {
            "name": "3",
            "count": 1
           },
           {
            "name": "2 others",
            "count": 2
           }
          ]
         }
        },
        {
         "name": "_deepnote_index_column",
         "dtype": "object"
        }
       ],
       "rows": [
        {
         "make": "201",
         "aspiration": "201",
         "num-of-doors": "201",
         "body-style": "201",
         "drive-wheels": "201",
         "engine-location": "201",
         "engine-type": "201",
         "num-of-cylinders": "201",
         "fuel-system": "201",
         "horsepower_binned": "201",
         "_deepnote_index_column": "count"
        },
        {
         "make": "22",
         "aspiration": "2",
         "num-of-doors": "2",
         "body-style": "5",
         "drive-wheels": "3",
         "engine-location": "2",
         "engine-type": "6",
         "num-of-cylinders": "7",
         "fuel-system": "8",
         "horsepower_binned": "3",
         "_deepnote_index_column": "unique"
        },
        {
         "make": "toyota",
         "aspiration": "std",
         "num-of-doors": "four",
         "body-style": "sedan",
         "drive-wheels": "fwd",
         "engine-location": "front",
         "engine-type": "ohc",
         "num-of-cylinders": "four",
         "fuel-system": "mpfi",
         "horsepower_binned": "Low",
         "_deepnote_index_column": "top"
        },
        {
         "make": "32",
         "aspiration": "165",
         "num-of-doors": "115",
         "body-style": "94",
         "drive-wheels": "118",
         "engine-location": "198",
         "engine-type": "145",
         "num-of-cylinders": "157",
         "fuel-system": "92",
         "horsepower_binned": "153",
         "_deepnote_index_column": "freq"
        }
       ]
      },
      "text/plain": "          make aspiration num-of-doors body-style drive-wheels  \\\ncount      201        201          201        201          201   \nunique      22          2            2          5            3   \ntop     toyota        std         four      sedan          fwd   \nfreq        32        165          115         94          118   \n\n       engine-location engine-type num-of-cylinders fuel-system  \\\ncount              201         201              201         201   \nunique               2           6                7           8   \ntop              front         ohc             four        mpfi   \nfreq               198         145              157          92   \n\n       horsepower_binned  \ncount                201  \nunique                 3  \ntop                  Low  \nfreq                 153  ",
      "text/html": "<div>\n<style scoped>\n    .dataframe tbody tr th:only-of-type {\n        vertical-align: middle;\n    }\n\n    .dataframe tbody tr th {\n        vertical-align: top;\n    }\n\n    .dataframe thead th {\n        text-align: right;\n    }\n</style>\n<table border=\"1\" class=\"dataframe\">\n  <thead>\n    <tr style=\"text-align: right;\">\n      <th></th>\n      <th>make</th>\n      <th>aspiration</th>\n      <th>num-of-doors</th>\n      <th>body-style</th>\n      <th>drive-wheels</th>\n      <th>engine-location</th>\n      <th>engine-type</th>\n      <th>num-of-cylinders</th>\n      <th>fuel-system</th>\n      <th>horsepower_binned</th>\n    </tr>\n  </thead>\n  <tbody>\n    <tr>\n      <th>count</th>\n      <td>201</td>\n      <td>201</td>\n      <td>201</td>\n      <td>201</td>\n      <td>201</td>\n      <td>201</td>\n      <td>201</td>\n      <td>201</td>\n      <td>201</td>\n      <td>201</td>\n    </tr>\n    <tr>\n      <th>unique</th>\n      <td>22</td>\n      <td>2</td>\n      <td>2</td>\n      <td>5</td>\n      <td>3</td>\n      <td>2</td>\n      <td>6</td>\n      <td>7</td>\n      <td>8</td>\n      <td>3</td>\n    </tr>\n    <tr>\n      <th>top</th>\n      <td>toyota</td>\n      <td>std</td>\n      <td>four</td>\n      <td>sedan</td>\n      <td>fwd</td>\n      <td>front</td>\n      <td>ohc</td>\n      <td>four</td>\n      <td>mpfi</td>\n      <td>Low</td>\n    </tr>\n    <tr>\n      <th>freq</th>\n      <td>32</td>\n      <td>165</td>\n      <td>115</td>\n      <td>94</td>\n      <td>118</td>\n      <td>198</td>\n      <td>145</td>\n      <td>157</td>\n      <td>92</td>\n      <td>153</td>\n    </tr>\n  </tbody>\n</table>\n</div>"
     },
     "metadata": {}
    }
   ]
  },
  {
   "cell_type": "markdown",
   "source": "# Search variables to make predictions",
   "metadata": {
    "cell_id": "4b8a4fc4-248d-4640-b9dc-8006f2672d72",
    "tags": [],
    "deepnote_cell_type": "markdown"
   }
  },
  {
   "cell_type": "code",
   "metadata": {
    "cell_id": "ce927dd6-1f6d-4aee-aa95-7cf7901c68e2",
    "tags": [],
    "deepnote_to_be_reexecuted": false,
    "source_hash": "62fef075",
    "execution_start": 1646234577020,
    "execution_millis": 50,
    "deepnote_cell_type": "code"
   },
   "source": "df_cars.corr()[['price']].sort_values(by = 'price', ascending=False).T",
   "execution_count": 7,
   "outputs": [
    {
     "output_type": "execute_result",
     "execution_count": 7,
     "data": {
      "application/vnd.deepnote.dataframe.v3+json": {
       "column_count": 18,
       "row_count": 1,
       "columns": [
        {
         "name": "price",
         "dtype": "float64",
         "stats": {
          "unique_count": 1,
          "nan_count": 0,
          "min": "1.0",
          "max": "1.0",
          "histogram": [
           {
            "bin_start": 0.5,
            "bin_end": 0.6,
            "count": 0
           },
           {
            "bin_start": 0.6,
            "bin_end": 0.7,
            "count": 0
           },
           {
            "bin_start": 0.7,
            "bin_end": 0.8,
            "count": 0
           },
           {
            "bin_start": 0.8,
            "bin_end": 0.9,
            "count": 0
           },
           {
            "bin_start": 0.9,
            "bin_end": 1,
            "count": 0
           },
           {
            "bin_start": 1,
            "bin_end": 1.1,
            "count": 1
           },
           {
            "bin_start": 1.1,
            "bin_end": 1.2000000000000002,
            "count": 0
           },
           {
            "bin_start": 1.2000000000000002,
            "bin_end": 1.3,
            "count": 0
           },
           {
            "bin_start": 1.3,
            "bin_end": 1.4,
            "count": 0
           },
           {
            "bin_start": 1.4,
            "bin_end": 1.5,
            "count": 0
           }
          ]
         }
        },
        {
         "name": "engine-size",
         "dtype": "float64",
         "stats": {
          "unique_count": 1,
          "nan_count": 0,
          "min": "0.8723351674455182",
          "max": "0.8723351674455182",
          "histogram": [
           {
            "bin_start": 0.3723351674455182,
            "bin_end": 0.4723351674455182,
            "count": 0
           },
           {
            "bin_start": 0.4723351674455182,
            "bin_end": 0.5723351674455182,
            "count": 0
           },
           {
            "bin_start": 0.5723351674455182,
            "bin_end": 0.6723351674455182,
            "count": 0
           },
           {
            "bin_start": 0.6723351674455182,
            "bin_end": 0.7723351674455182,
            "count": 0
           },
           {
            "bin_start": 0.7723351674455182,
            "bin_end": 0.8723351674455182,
            "count": 0
           },
           {
            "bin_start": 0.8723351674455182,
            "bin_end": 0.9723351674455183,
            "count": 1
           },
           {
            "bin_start": 0.9723351674455183,
            "bin_end": 1.0723351674455182,
            "count": 0
           },
           {
            "bin_start": 1.0723351674455182,
            "bin_end": 1.1723351674455182,
            "count": 0
           },
           {
            "bin_start": 1.1723351674455182,
            "bin_end": 1.2723351674455183,
            "count": 0
           },
           {
            "bin_start": 1.2723351674455183,
            "bin_end": 1.3723351674455182,
            "count": 0
           }
          ]
         }
        },
        {
         "name": "curb-weight",
         "dtype": "float64",
         "stats": {
          "unique_count": 1,
          "nan_count": 0,
          "min": "0.834414525770285",
          "max": "0.834414525770285",
          "histogram": [
           {
            "bin_start": 0.33441452577028496,
            "bin_end": 0.43441452577028494,
            "count": 0
           },
           {
            "bin_start": 0.43441452577028494,
            "bin_end": 0.5344145257702849,
            "count": 0
           },
           {
            "bin_start": 0.5344145257702849,
            "bin_end": 0.6344145257702849,
            "count": 0
           },
           {
            "bin_start": 0.6344145257702849,
            "bin_end": 0.734414525770285,
            "count": 0
           },
           {
            "bin_start": 0.734414525770285,
            "bin_end": 0.8344145257702849,
            "count": 0
           },
           {
            "bin_start": 0.8344145257702849,
            "bin_end": 0.9344145257702849,
            "count": 1
           },
           {
            "bin_start": 0.9344145257702849,
            "bin_end": 1.034414525770285,
            "count": 0
           },
           {
            "bin_start": 1.034414525770285,
            "bin_end": 1.134414525770285,
            "count": 0
           },
           {
            "bin_start": 1.134414525770285,
            "bin_end": 1.2344145257702848,
            "count": 0
           },
           {
            "bin_start": 1.2344145257702848,
            "bin_end": 1.3344145257702849,
            "count": 0
           }
          ]
         }
        },
        {
         "name": "horsepower",
         "dtype": "float64",
         "stats": {
          "unique_count": 1,
          "nan_count": 0,
          "min": "0.8096068016571054",
          "max": "0.8096068016571054",
          "histogram": [
           {
            "bin_start": 0.3096068016571054,
            "bin_end": 0.4096068016571054,
            "count": 0
           },
           {
            "bin_start": 0.4096068016571054,
            "bin_end": 0.5096068016571054,
            "count": 0
           },
           {
            "bin_start": 0.5096068016571054,
            "bin_end": 0.6096068016571055,
            "count": 0
           },
           {
            "bin_start": 0.6096068016571055,
            "bin_end": 0.7096068016571054,
            "count": 0
           },
           {
            "bin_start": 0.7096068016571054,
            "bin_end": 0.8096068016571054,
            "count": 0
           },
           {
            "bin_start": 0.8096068016571054,
            "bin_end": 0.9096068016571055,
            "count": 1
           },
           {
            "bin_start": 0.9096068016571055,
            "bin_end": 1.0096068016571054,
            "count": 0
           },
           {
            "bin_start": 1.0096068016571054,
            "bin_end": 1.1096068016571055,
            "count": 0
           },
           {
            "bin_start": 1.1096068016571055,
            "bin_end": 1.2096068016571055,
            "count": 0
           },
           {
            "bin_start": 1.2096068016571055,
            "bin_end": 1.3096068016571054,
            "count": 0
           }
          ]
         }
        },
        {
         "name": "highway-l/100km",
         "dtype": "float64",
         "stats": {
          "unique_count": 1,
          "nan_count": 0,
          "min": "0.8011176263981975",
          "max": "0.8011176263981975",
          "histogram": [
           {
            "bin_start": 0.3011176263981975,
            "bin_end": 0.4011176263981975,
            "count": 0
           },
           {
            "bin_start": 0.4011176263981975,
            "bin_end": 0.5011176263981975,
            "count": 0
           },
           {
            "bin_start": 0.5011176263981975,
            "bin_end": 0.6011176263981974,
            "count": 0
           },
           {
            "bin_start": 0.6011176263981974,
            "bin_end": 0.7011176263981975,
            "count": 0
           },
           {
            "bin_start": 0.7011176263981975,
            "bin_end": 0.8011176263981974,
            "count": 0
           },
           {
            "bin_start": 0.8011176263981974,
            "bin_end": 0.9011176263981975,
            "count": 1
           },
           {
            "bin_start": 0.9011176263981975,
            "bin_end": 1.0011176263981976,
            "count": 0
           },
           {
            "bin_start": 1.0011176263981976,
            "bin_end": 1.1011176263981974,
            "count": 0
           },
           {
            "bin_start": 1.1011176263981974,
            "bin_end": 1.2011176263981973,
            "count": 0
           },
           {
            "bin_start": 1.2011176263981973,
            "bin_end": 1.3011176263981974,
            "count": 0
           }
          ]
         }
        },
        {
         "name": "city-l/100km",
         "dtype": "float64",
         "stats": {
          "unique_count": 1,
          "nan_count": 0,
          "min": "0.7898975136626947",
          "max": "0.7898975136626947",
          "histogram": [
           {
            "bin_start": 0.2898975136626947,
            "bin_end": 0.38989751366269465,
            "count": 0
           },
           {
            "bin_start": 0.38989751366269465,
            "bin_end": 0.4898975136626947,
            "count": 0
           },
           {
            "bin_start": 0.4898975136626947,
            "bin_end": 0.5898975136626947,
            "count": 0
           },
           {
            "bin_start": 0.5898975136626947,
            "bin_end": 0.6898975136626947,
            "count": 0
           },
           {
            "bin_start": 0.6898975136626947,
            "bin_end": 0.7898975136626947,
            "count": 0
           },
           {
            "bin_start": 0.7898975136626947,
            "bin_end": 0.8898975136626948,
            "count": 1
           },
           {
            "bin_start": 0.8898975136626948,
            "bin_end": 0.9898975136626947,
            "count": 0
           },
           {
            "bin_start": 0.9898975136626947,
            "bin_end": 1.0898975136626947,
            "count": 0
           },
           {
            "bin_start": 1.0898975136626947,
            "bin_end": 1.1898975136626948,
            "count": 0
           },
           {
            "bin_start": 1.1898975136626948,
            "bin_end": 1.2898975136626947,
            "count": 0
           }
          ]
         }
        },
        {
         "name": "width",
         "dtype": "float64",
         "stats": {
          "unique_count": 1,
          "nan_count": 0,
          "min": "0.7512653440522676",
          "max": "0.7512653440522676",
          "histogram": [
           {
            "bin_start": 0.25126534405226764,
            "bin_end": 0.3512653440522676,
            "count": 0
           },
           {
            "bin_start": 0.3512653440522676,
            "bin_end": 0.45126534405226765,
            "count": 0
           },
           {
            "bin_start": 0.45126534405226765,
            "bin_end": 0.5512653440522677,
            "count": 0
           },
           {
            "bin_start": 0.5512653440522677,
            "bin_end": 0.6512653440522677,
            "count": 0
           },
           {
            "bin_start": 0.6512653440522677,
            "bin_end": 0.7512653440522676,
            "count": 0
           },
           {
            "bin_start": 0.7512653440522676,
            "bin_end": 0.8512653440522677,
            "count": 1
           },
           {
            "bin_start": 0.8512653440522677,
            "bin_end": 0.9512653440522677,
            "count": 0
           },
           {
            "bin_start": 0.9512653440522677,
            "bin_end": 1.0512653440522677,
            "count": 0
           },
           {
            "bin_start": 1.0512653440522677,
            "bin_end": 1.1512653440522675,
            "count": 0
           },
           {
            "bin_start": 1.1512653440522675,
            "bin_end": 1.2512653440522676,
            "count": 0
           }
          ]
         }
        },
        {
         "name": "length",
         "dtype": "float64",
         "stats": {
          "unique_count": 1,
          "nan_count": 0,
          "min": "0.6906283804483648",
          "max": "0.6906283804483648",
          "histogram": [
           {
            "bin_start": 0.19062838044836483,
            "bin_end": 0.2906283804483648,
            "count": 0
           },
           {
            "bin_start": 0.2906283804483648,
            "bin_end": 0.39062838044836484,
            "count": 0
           },
           {
            "bin_start": 0.39062838044836484,
            "bin_end": 0.4906283804483649,
            "count": 0
           },
           {
            "bin_start": 0.4906283804483649,
            "bin_end": 0.5906283804483649,
            "count": 0
           },
           {
            "bin_start": 0.5906283804483649,
            "bin_end": 0.6906283804483648,
            "count": 0
           },
           {
            "bin_start": 0.6906283804483648,
            "bin_end": 0.7906283804483649,
            "count": 1
           },
           {
            "bin_start": 0.7906283804483649,
            "bin_end": 0.8906283804483649,
            "count": 0
           },
           {
            "bin_start": 0.8906283804483649,
            "bin_end": 0.9906283804483649,
            "count": 0
           },
           {
            "bin_start": 0.9906283804483649,
            "bin_end": 1.090628380448365,
            "count": 0
           },
           {
            "bin_start": 1.090628380448365,
            "bin_end": 1.1906283804483648,
            "count": 0
           }
          ]
         }
        },
        {
         "name": "wheel-base",
         "dtype": "float64",
         "stats": {
          "unique_count": 1,
          "nan_count": 0,
          "min": "0.5846418222655075",
          "max": "0.5846418222655075",
          "histogram": [
           {
            "bin_start": 0.08464182226550754,
            "bin_end": 0.18464182226550754,
            "count": 0
           },
           {
            "bin_start": 0.18464182226550754,
            "bin_end": 0.28464182226550755,
            "count": 0
           },
           {
            "bin_start": 0.28464182226550755,
            "bin_end": 0.3846418222655076,
            "count": 0
           },
           {
            "bin_start": 0.3846418222655076,
            "bin_end": 0.48464182226550756,
            "count": 0
           },
           {
            "bin_start": 0.48464182226550756,
            "bin_end": 0.5846418222655075,
            "count": 0
           },
           {
            "bin_start": 0.5846418222655075,
            "bin_end": 0.6846418222655076,
            "count": 1
           },
           {
            "bin_start": 0.6846418222655076,
            "bin_end": 0.7846418222655076,
            "count": 0
           },
           {
            "bin_start": 0.7846418222655076,
            "bin_end": 0.8846418222655076,
            "count": 0
           },
           {
            "bin_start": 0.8846418222655076,
            "bin_end": 0.9846418222655076,
            "count": 0
           },
           {
            "bin_start": 0.9846418222655076,
            "bin_end": 1.0846418222655076,
            "count": 0
           }
          ]
         }
        },
        {
         "name": "bore",
         "dtype": "float64",
         "stats": {
          "unique_count": 1,
          "nan_count": 0,
          "min": "0.5431553832626604",
          "max": "0.5431553832626604",
          "histogram": [
           {
            "bin_start": 0.04315538326266044,
            "bin_end": 0.14315538326266042,
            "count": 0
           },
           {
            "bin_start": 0.14315538326266042,
            "bin_end": 0.24315538326266042,
            "count": 0
           },
           {
            "bin_start": 0.24315538326266042,
            "bin_end": 0.34315538326266043,
            "count": 0
           },
           {
            "bin_start": 0.34315538326266043,
            "bin_end": 0.4431553832626604,
            "count": 0
           },
           {
            "bin_start": 0.4431553832626604,
            "bin_end": 0.5431553832626603,
            "count": 0
           },
           {
            "bin_start": 0.5431553832626603,
            "bin_end": 0.6431553832626604,
            "count": 1
           },
           {
            "bin_start": 0.6431553832626604,
            "bin_end": 0.7431553832626604,
            "count": 0
           },
           {
            "bin_start": 0.7431553832626604,
            "bin_end": 0.8431553832626604,
            "count": 0
           },
           {
            "bin_start": 0.8431553832626604,
            "bin_end": 0.9431553832626604,
            "count": 0
           },
           {
            "bin_start": 0.9431553832626604,
            "bin_end": 1.0431553832626603,
            "count": 0
           }
          ]
         }
        },
        {
         "name": "height",
         "dtype": "float64",
         "stats": {
          "unique_count": 1,
          "nan_count": 0,
          "min": "0.13548630756805893",
          "max": "0.13548630756805893",
          "histogram": [
           {
            "bin_start": -0.3645136924319411,
            "bin_end": -0.2645136924319411,
            "count": 0
           },
           {
            "bin_start": -0.2645136924319411,
            "bin_end": -0.16451369243194108,
            "count": 0
           },
           {
            "bin_start": -0.16451369243194108,
            "bin_end": -0.06451369243194105,
            "count": 0
           },
           {
            "bin_start": -0.06451369243194105,
            "bin_end": 0.03548630756805893,
            "count": 0
           },
           {
            "bin_start": 0.03548630756805893,
            "bin_end": 0.1354863075680589,
            "count": 0
           },
           {
            "bin_start": 0.1354863075680589,
            "bin_end": 0.235486307568059,
            "count": 1
           },
           {
            "bin_start": 0.235486307568059,
            "bin_end": 0.335486307568059,
            "count": 0
           },
           {
            "bin_start": 0.335486307568059,
            "bin_end": 0.43548630756805895,
            "count": 0
           },
           {
            "bin_start": 0.43548630756805895,
            "bin_end": 0.5354863075680589,
            "count": 0
           },
           {
            "bin_start": 0.5354863075680589,
            "bin_end": 0.6354863075680589,
            "count": 0
           }
          ]
         }
        },
        {
         "name": "normalized-losses",
         "dtype": "float64",
         "stats": {
          "unique_count": 1,
          "nan_count": 0,
          "min": "0.13399873429274337",
          "max": "0.13399873429274337",
          "histogram": [
           {
            "bin_start": -0.36600126570725666,
            "bin_end": -0.2660012657072567,
            "count": 0
           },
           {
            "bin_start": -0.2660012657072567,
            "bin_end": -0.16600126570725665,
            "count": 0
           },
           {
            "bin_start": -0.16600126570725665,
            "bin_end": -0.06600126570725662,
            "count": 0
           },
           {
            "bin_start": -0.06600126570725662,
            "bin_end": 0.03399873429274336,
            "count": 0
           },
           {
            "bin_start": 0.03399873429274336,
            "bin_end": 0.13399873429274334,
            "count": 0
           },
           {
            "bin_start": 0.13399873429274334,
            "bin_end": 0.23399873429274343,
            "count": 1
           },
           {
            "bin_start": 0.23399873429274343,
            "bin_end": 0.3339987342927434,
            "count": 0
           },
           {
            "bin_start": 0.3339987342927434,
            "bin_end": 0.4339987342927434,
            "count": 0
           },
           {
            "bin_start": 0.4339987342927434,
            "bin_end": 0.5339987342927434,
            "count": 0
           },
           {
            "bin_start": 0.5339987342927434,
            "bin_end": 0.6339987342927433,
            "count": 0
           }
          ]
         }
        },
        {
         "name": "fuel_type_diesel",
         "dtype": "float64",
         "stats": {
          "unique_count": 1,
          "nan_count": 0,
          "min": "0.11032556467564872",
          "max": "0.11032556467564872",
          "histogram": [
           {
            "bin_start": -0.3896744353243513,
            "bin_end": -0.28967443532435133,
            "count": 0
           },
           {
            "bin_start": -0.28967443532435133,
            "bin_end": -0.1896744353243513,
            "count": 0
           },
           {
            "bin_start": -0.1896744353243513,
            "bin_end": -0.08967443532435126,
            "count": 0
           },
           {
            "bin_start": -0.08967443532435126,
            "bin_end": 0.010325564675648713,
            "count": 0
           },
           {
            "bin_start": 0.010325564675648713,
            "bin_end": 0.11032556467564869,
            "count": 0
           },
           {
            "bin_start": 0.11032556467564869,
            "bin_end": 0.21032556467564878,
            "count": 1
           },
           {
            "bin_start": 0.21032556467564878,
            "bin_end": 0.31032556467564876,
            "count": 0
           },
           {
            "bin_start": 0.31032556467564876,
            "bin_end": 0.41032556467564874,
            "count": 0
           },
           {
            "bin_start": 0.41032556467564874,
            "bin_end": 0.5103255646756487,
            "count": 0
           },
           {
            "bin_start": 0.5103255646756487,
            "bin_end": 0.6103255646756487,
            "count": 0
           }
          ]
         }
        },
        {
         "name": "stroke",
         "dtype": "float64",
         "stats": {
          "unique_count": 1,
          "nan_count": 0,
          "min": "0.08226928855325767",
          "max": "0.08226928855325767",
          "histogram": [
           {
            "bin_start": -0.41773071144674234,
            "bin_end": -0.31773071144674236,
            "count": 0
           },
           {
            "bin_start": -0.31773071144674236,
            "bin_end": -0.21773071144674233,
            "count": 0
           },
           {
            "bin_start": -0.21773071144674233,
            "bin_end": -0.1177307114467423,
            "count": 0
           },
           {
            "bin_start": -0.1177307114467423,
            "bin_end": -0.01773071144674232,
            "count": 0
           },
           {
            "bin_start": -0.01773071144674232,
            "bin_end": 0.08226928855325766,
            "count": 0
           },
           {
            "bin_start": 0.08226928855325766,
            "bin_end": 0.18226928855325775,
            "count": 1
           },
           {
            "bin_start": 0.18226928855325775,
            "bin_end": 0.2822692885532577,
            "count": 0
           },
           {
            "bin_start": 0.2822692885532577,
            "bin_end": 0.3822692885532577,
            "count": 0
           },
           {
            "bin_start": 0.3822692885532577,
            "bin_end": 0.4822692885532577,
            "count": 0
           },
           {
            "bin_start": 0.4822692885532577,
            "bin_end": 0.5822692885532577,
            "count": 0
           }
          ]
         }
        },
        {
         "name": "compression-ratio",
         "dtype": "float64",
         "stats": {
          "unique_count": 1,
          "nan_count": 0,
          "min": "0.07110732668194136",
          "max": "0.07110732668194136",
          "histogram": [
           {
            "bin_start": -0.42889267331805864,
            "bin_end": -0.3288926733180586,
            "count": 0
           },
           {
            "bin_start": -0.3288926733180586,
            "bin_end": -0.22889267331805863,
            "count": 0
           },
           {
            "bin_start": -0.22889267331805863,
            "bin_end": -0.1288926733180586,
            "count": 0
           },
           {
            "bin_start": -0.1288926733180586,
            "bin_end": -0.028892673318058615,
            "count": 0
           },
           {
            "bin_start": -0.028892673318058615,
            "bin_end": 0.07110732668194136,
            "count": 0
           },
           {
            "bin_start": 0.07110732668194136,
            "bin_end": 0.17110732668194145,
            "count": 1
           },
           {
            "bin_start": 0.17110732668194145,
            "bin_end": 0.27110732668194143,
            "count": 0
           },
           {
            "bin_start": 0.27110732668194143,
            "bin_end": 0.3711073266819414,
            "count": 0
           },
           {
            "bin_start": 0.3711073266819414,
            "bin_end": 0.4711073266819414,
            "count": 0
           },
           {
            "bin_start": 0.4711073266819414,
            "bin_end": 0.5711073266819413,
            "count": 0
           }
          ]
         }
        },
        {
         "name": "symboling",
         "dtype": "float64",
         "stats": {
          "unique_count": 1,
          "nan_count": 0,
          "min": "-0.08239118716962376",
          "max": "-0.08239118716962376",
          "histogram": [
           {
            "bin_start": -0.5823911871696238,
            "bin_end": -0.4823911871696238,
            "count": 0
           },
           {
            "bin_start": -0.4823911871696238,
            "bin_end": -0.3823911871696238,
            "count": 0
           },
           {
            "bin_start": -0.3823911871696238,
            "bin_end": -0.28239118716962375,
            "count": 0
           },
           {
            "bin_start": -0.28239118716962375,
            "bin_end": -0.18239118716962377,
            "count": 0
           },
           {
            "bin_start": -0.18239118716962377,
            "bin_end": -0.08239118716962379,
            "count": 0
           },
           {
            "bin_start": -0.08239118716962379,
            "bin_end": 0.017608812830376297,
            "count": 1
           },
           {
            "bin_start": 0.017608812830376297,
            "bin_end": 0.11760881283037627,
            "count": 0
           },
           {
            "bin_start": 0.11760881283037627,
            "bin_end": 0.21760881283037625,
            "count": 0
           },
           {
            "bin_start": 0.21760881283037625,
            "bin_end": 0.31760881283037623,
            "count": 0
           },
           {
            "bin_start": 0.31760881283037623,
            "bin_end": 0.4176088128303762,
            "count": 0
           }
          ]
         }
        },
        {
         "name": "peak-rpm",
         "dtype": "float64",
         "stats": {
          "unique_count": 1,
          "nan_count": 0,
          "min": "-0.10161587407588185",
          "max": "-0.10161587407588185",
          "histogram": [
           {
            "bin_start": -0.6016158740758819,
            "bin_end": -0.5016158740758819,
            "count": 0
           },
           {
            "bin_start": -0.5016158740758819,
            "bin_end": -0.4016158740758819,
            "count": 0
           },
           {
            "bin_start": -0.4016158740758819,
            "bin_end": -0.30161587407588186,
            "count": 0
           },
           {
            "bin_start": -0.30161587407588186,
            "bin_end": -0.20161587407588188,
            "count": 0
           },
           {
            "bin_start": -0.20161587407588188,
            "bin_end": -0.1016158740758819,
            "count": 0
           },
           {
            "bin_start": -0.1016158740758819,
            "bin_end": -0.001615874075881818,
            "count": 1
           },
           {
            "bin_start": -0.001615874075881818,
            "bin_end": 0.09838412592411816,
            "count": 0
           },
           {
            "bin_start": 0.09838412592411816,
            "bin_end": 0.19838412592411814,
            "count": 0
           },
           {
            "bin_start": 0.19838412592411814,
            "bin_end": 0.2983841259241181,
            "count": 0
           },
           {
            "bin_start": 0.2983841259241181,
            "bin_end": 0.39838412592411815,
            "count": 0
           }
          ]
         }
        },
        {
         "name": "fuel_type_gas",
         "dtype": "float64",
         "stats": {
          "unique_count": 1,
          "nan_count": 0,
          "min": "-0.1103255646756486",
          "max": "-0.1103255646756486",
          "histogram": [
           {
            "bin_start": -0.6103255646756486,
            "bin_end": -0.5103255646756486,
            "count": 0
           },
           {
            "bin_start": -0.5103255646756486,
            "bin_end": -0.41032556467564857,
            "count": 0
           },
           {
            "bin_start": -0.41032556467564857,
            "bin_end": -0.31032556467564854,
            "count": 0
           },
           {
            "bin_start": -0.31032556467564854,
            "bin_end": -0.21032556467564856,
            "count": 0
           },
           {
            "bin_start": -0.21032556467564856,
            "bin_end": -0.11032556467564858,
            "count": 1
           },
           {
            "bin_start": -0.11032556467564858,
            "bin_end": -0.010325564675648491,
            "count": 0
           },
           {
            "bin_start": -0.010325564675648491,
            "bin_end": 0.08967443532435149,
            "count": 0
           },
           {
            "bin_start": 0.08967443532435149,
            "bin_end": 0.18967443532435146,
            "count": 0
           },
           {
            "bin_start": 0.18967443532435146,
            "bin_end": 0.28967443532435144,
            "count": 0
           },
           {
            "bin_start": 0.28967443532435144,
            "bin_end": 0.3896744353243514,
            "count": 0
           }
          ]
         }
        },
        {
         "name": "_deepnote_index_column",
         "dtype": "object"
        }
       ],
       "rows": [
        {
         "price": 1,
         "engine-size": 0.8723351674455182,
         "curb-weight": 0.834414525770285,
         "horsepower": 0.8096068016571054,
         "highway-l/100km": 0.8011176263981975,
         "city-l/100km": 0.7898975136626947,
         "width": 0.7512653440522676,
         "length": 0.6906283804483648,
         "wheel-base": 0.5846418222655075,
         "bore": 0.5431553832626604,
         "height": 0.13548630756805893,
         "normalized-losses": 0.13399873429274337,
         "fuel_type_diesel": 0.11032556467564872,
         "stroke": 0.08226928855325767,
         "compression-ratio": 0.07110732668194136,
         "symboling": -0.08239118716962376,
         "peak-rpm": -0.10161587407588185,
         "fuel_type_gas": -0.1103255646756486,
         "_deepnote_index_column": "price"
        }
       ]
      },
      "text/plain": "       price  engine-size  curb-weight  horsepower  highway-l/100km  \\\nprice  1.000        0.872        0.834       0.810            0.801   \n\n       city-l/100km  width  length  wheel-base  bore  height  \\\nprice         0.790  0.751   0.691       0.585 0.543   0.135   \n\n       normalized-losses  fuel_type_diesel  stroke  compression-ratio  \\\nprice              0.134             0.110   0.082              0.071   \n\n       symboling  peak-rpm  fuel_type_gas  \nprice     -0.082    -0.102         -0.110  ",
      "text/html": "<div>\n<style scoped>\n    .dataframe tbody tr th:only-of-type {\n        vertical-align: middle;\n    }\n\n    .dataframe tbody tr th {\n        vertical-align: top;\n    }\n\n    .dataframe thead th {\n        text-align: right;\n    }\n</style>\n<table border=\"1\" class=\"dataframe\">\n  <thead>\n    <tr style=\"text-align: right;\">\n      <th></th>\n      <th>price</th>\n      <th>engine-size</th>\n      <th>curb-weight</th>\n      <th>horsepower</th>\n      <th>highway-l/100km</th>\n      <th>city-l/100km</th>\n      <th>width</th>\n      <th>length</th>\n      <th>wheel-base</th>\n      <th>bore</th>\n      <th>height</th>\n      <th>normalized-losses</th>\n      <th>fuel_type_diesel</th>\n      <th>stroke</th>\n      <th>compression-ratio</th>\n      <th>symboling</th>\n      <th>peak-rpm</th>\n      <th>fuel_type_gas</th>\n    </tr>\n  </thead>\n  <tbody>\n    <tr>\n      <th>price</th>\n      <td>1.000</td>\n      <td>0.872</td>\n      <td>0.834</td>\n      <td>0.810</td>\n      <td>0.801</td>\n      <td>0.790</td>\n      <td>0.751</td>\n      <td>0.691</td>\n      <td>0.585</td>\n      <td>0.543</td>\n      <td>0.135</td>\n      <td>0.134</td>\n      <td>0.110</td>\n      <td>0.082</td>\n      <td>0.071</td>\n      <td>-0.082</td>\n      <td>-0.102</td>\n      <td>-0.110</td>\n    </tr>\n  </tbody>\n</table>\n</div>"
     },
     "metadata": {}
    }
   ]
  },
  {
   "cell_type": "markdown",
   "source": "## Numerical variables",
   "metadata": {
    "cell_id": "c169663c-dadc-4f60-85fa-915fb666cafc",
    "tags": [],
    "deepnote_cell_type": "markdown"
   }
  },
  {
   "cell_type": "markdown",
   "source": "### engine-size",
   "metadata": {
    "cell_id": "1f36e924-a000-4ec9-8a38-4f49c8058763",
    "tags": [],
    "deepnote_cell_type": "markdown"
   }
  },
  {
   "cell_type": "code",
   "metadata": {
    "cell_id": "3a55cccd-d3a9-4ab4-8546-16968071585c",
    "tags": [],
    "deepnote_to_be_reexecuted": false,
    "source_hash": "59cec4dc",
    "execution_start": 1646234577128,
    "execution_millis": 347,
    "deepnote_cell_type": "code"
   },
   "source": "sns.regplot(x = 'engine-size', y = 'price', data = df_cars)\nplt.ylim(0,)\n\n# yes",
   "execution_count": 8,
   "outputs": [
    {
     "output_type": "execute_result",
     "execution_count": 8,
     "data": {
      "text/plain": "(0.0, 53764.00686706944)"
     },
     "metadata": {}
    },
    {
     "data": {
      "text/plain": "<Figure size 432x288 with 1 Axes>",
      "image/png": "[encoded data removed]"
     },
     "metadata": {
      "needs_background": "light",
      "image/png": {
       "width": 401,
       "height": 262
      }
     },
     "output_type": "display_data"
    }
   ]
  },
  {
   "cell_type": "markdown",
   "source": "### curb-weight",
   "metadata": {
    "cell_id": "be129555-ffb1-4fa0-a660-fe124cf83996",
    "tags": [],
    "deepnote_cell_type": "markdown"
   }
  },
  {
   "cell_type": "code",
   "metadata": {
    "cell_id": "6b1786ab-9530-4747-a3b8-e527a99c3b0c",
    "tags": [],
    "deepnote_to_be_reexecuted": false,
    "source_hash": "f86ac804",
    "execution_start": 1646234577532,
    "execution_millis": 289,
    "deepnote_cell_type": "code"
   },
   "source": "sns.regplot(x = 'curb-weight', y = 'price', data = df_cars)\nplt.ylim(0,)\n\n# yes",
   "execution_count": 9,
   "outputs": [
    {
     "output_type": "execute_result",
     "execution_count": 9,
     "data": {
      "text/plain": "(0.0, 47752.38851559151)"
     },
     "metadata": {}
    },
    {
     "data": {
      "text/plain": "<Figure size 432x288 with 1 Axes>",
      "image/png": "[encoded data removed]"
     },
     "metadata": {
      "needs_background": "light",
      "image/png": {
       "width": 401,
       "height": 262
      }
     },
     "output_type": "display_data"
    }
   ]
  },
  {
   "cell_type": "markdown",
   "source": "### horsepower",
   "metadata": {
    "cell_id": "f8cb8661-cbba-4a8d-9e89-a06d8cc727d6",
    "tags": [],
    "deepnote_cell_type": "markdown"
   }
  },
  {
   "cell_type": "code",
   "metadata": {
    "cell_id": "c30a2e9a-620b-4201-a4e8-5bc3024ecf25",
    "tags": [],
    "deepnote_to_be_reexecuted": false,
    "source_hash": "97efc67b",
    "execution_start": 1646234577828,
    "execution_millis": 612,
    "deepnote_cell_type": "code"
   },
   "source": "sns.regplot(x = 'horsepower', y = 'price', data = df_cars)\nplt.ylim(0,)\n\n# yes",
   "execution_count": 10,
   "outputs": [
    {
     "output_type": "execute_result",
     "execution_count": 10,
     "data": {
      "text/plain": "(0.0, 47535.515415863905)"
     },
     "metadata": {}
    },
    {
     "data": {
      "text/plain": "<Figure size 432x288 with 1 Axes>",
      "image/png": "[encoded data removed]"
     },
     "metadata": {
      "needs_background": "light",
      "image/png": {
       "width": 401,
       "height": 262
      }
     },
     "output_type": "display_data"
    }
   ]
  },
  {
   "cell_type": "markdown",
   "source": "### highway-l/100km",
   "metadata": {
    "cell_id": "b7c68315-f403-4efd-a5fb-f652c77a57ce",
    "tags": [],
    "deepnote_cell_type": "markdown"
   }
  },
  {
   "cell_type": "code",
   "metadata": {
    "cell_id": "ff1e5452-96a3-4faa-aaff-c6df7548fb74",
    "tags": [],
    "deepnote_to_be_reexecuted": false,
    "source_hash": "f182c361",
    "execution_start": 1646234578172,
    "execution_millis": 317,
    "deepnote_cell_type": "code"
   },
   "source": "sns.regplot(x = 'highway-l/100km', y = 'price', data = df_cars)\nplt.ylim(0,)\n\n# yes",
   "execution_count": 11,
   "outputs": [
    {
     "output_type": "execute_result",
     "execution_count": 11,
     "data": {
      "text/plain": "(0.0, 47715.39355545151)"
     },
     "metadata": {}
    },
    {
     "data": {
      "text/plain": "<Figure size 432x288 with 1 Axes>",
      "image/png": "[encoded data removed]"
     },
     "metadata": {
      "needs_background": "light",
      "image/png": {
       "width": 401,
       "height": 262
      }
     },
     "output_type": "display_data"
    }
   ]
  },
  {
   "cell_type": "markdown",
   "source": "### peak-rpm",
   "metadata": {
    "cell_id": "3cf0eec8-31e9-425a-963c-4f04a782aeb2",
    "tags": [],
    "deepnote_cell_type": "markdown"
   }
  },
  {
   "cell_type": "code",
   "metadata": {
    "cell_id": "9d56ca03-6814-496f-ab65-5b040c12b8d9",
    "tags": [],
    "deepnote_to_be_reexecuted": false,
    "source_hash": "46845f9d",
    "execution_start": 1646234578504,
    "execution_millis": 320,
    "deepnote_cell_type": "code"
   },
   "source": "sns.regplot(x = 'peak-rpm', y = 'price', data = df_cars)\nplt.ylim(0,)\n\n# no",
   "execution_count": 12,
   "outputs": [
    {
     "output_type": "execute_result",
     "execution_count": 12,
     "data": {
      "text/plain": "(0.0, 47414.1)"
     },
     "metadata": {}
    },
    {
     "data": {
      "text/plain": "<Figure size 432x288 with 1 Axes>",
      "image/png": "[encoded data removed]"
     },
     "metadata": {
      "needs_background": "light",
      "image/png": {
       "width": 401,
       "height": 262
      }
     },
     "output_type": "display_data"
    }
   ]
  },
  {
   "cell_type": "markdown",
   "source": "## Categorical Variables",
   "metadata": {
    "cell_id": "9b56508f-5230-40d2-b985-aecae2175c0f",
    "tags": [],
    "deepnote_to_be_reexecuted": false,
    "source_hash": "62e7c458",
    "execution_start": 1645815823630,
    "execution_millis": 2,
    "deepnote_cell_type": "markdown"
   }
  },
  {
   "cell_type": "code",
   "metadata": {
    "cell_id": "422f8214-74af-48e6-a847-cbf13c4ab084",
    "tags": [],
    "deepnote_to_be_reexecuted": false,
    "source_hash": "8b86cdbe",
    "execution_start": 1646234578839,
    "execution_millis": 38,
    "deepnote_cell_type": "code"
   },
   "source": "df_cars.describe(include = 'object')",
   "execution_count": 13,
   "outputs": [
    {
     "output_type": "execute_result",
     "execution_count": 13,
     "data": {
      "application/vnd.deepnote.dataframe.v3+json": {
       "column_count": 10,
       "row_count": 4,
       "columns": [
        {
         "name": "make",
         "dtype": "object",
         "stats": {
          "unique_count": 4,
          "nan_count": 0,
          "categories": [
           {
            "name": "201",
            "count": 1
           },
           {
            "name": "22",
            "count": 1
           },
           {
            "name": "2 others",
            "count": 2
           }
          ]
         }
        },
        {
         "name": "aspiration",
         "dtype": "object",
         "stats": {
          "unique_count": 4,
          "nan_count": 0,
          "categories": [
           {
            "name": "201",
            "count": 1
           },
           {
            "name": "2",
            "count": 1
           },
           {
            "name": "2 others",
            "count": 2
           }
          ]
         }
        },
        {
         "name": "num-of-doors",
         "dtype": "object",
         "stats": {
          "unique_count": 4,
          "nan_count": 0,
          "categories": [
           {
            "name": "201",
            "count": 1
           },
           {
            "name": "2",
            "count": 1
           },
           {
            "name": "2 others",
            "count": 2
           }
          ]
         }
        },
        {
         "name": "body-style",
         "dtype": "object",
         "stats": {
          "unique_count": 4,
          "nan_count": 0,
          "categories": [
           {
            "name": "201",
            "count": 1
           },
           {
            "name": "5",
            "count": 1
           },
           {
            "name": "2 others",
            "count": 2
           }
          ]
         }
        },
        {
         "name": "drive-wheels",
         "dtype": "object",
         "stats": {
          "unique_count": 4,
          "nan_count": 0,
          "categories": [
           {
            "name": "201",
            "count": 1
           },
           {
            "name": "3",
            "count": 1
           },
           {
            "name": "2 others",
            "count": 2
           }
          ]
         }
        },
        {
         "name": "engine-location",
         "dtype": "object",
         "stats": {
          "unique_count": 4,
          "nan_count": 0,
          "categories": [
           {
            "name": "201",
            "count": 1
           },
           {
            "name": "2",
            "count": 1
           },
           {
            "name": "2 others",
            "count": 2
           }
          ]
         }
        },
        {
         "name": "engine-type",
         "dtype": "object",
         "stats": {
          "unique_count": 4,
          "nan_count": 0,
          "categories": [
           {
            "name": "201",
            "count": 1
           },
           {
            "name": "6",
            "count": 1
           },
           {
            "name": "2 others",
            "count": 2
           }
          ]
         }
        },
        {
         "name": "num-of-cylinders",
         "dtype": "object",
         "stats": {
          "unique_count": 4,
          "nan_count": 0,
          "categories": [
           {
            "name": "201",
            "count": 1
           },
           {
            "name": "7",
            "count": 1
           },
           {
            "name": "2 others",
            "count": 2
           }
          ]
         }
        },
        {
         "name": "fuel-system",
         "dtype": "object",
         "stats": {
          "unique_count": 4,
          "nan_count": 0,
          "categories": [
           {
            "name": "201",
            "count": 1
           },
           {
            "name": "8",
            "count": 1
           },
           {
            "name": "2 others",
            "count": 2
           }
          ]
         }
        },
        {
         "name": "horsepower_binned",
         "dtype": "object",
         "stats": {
          "unique_count": 4,
          "nan_count": 0,
          "categories": [
           {
            "name": "201",
            "count": 1
           },
           {
            "name": "3",
            "count": 1
           },
           {
            "name": "2 others",
            "count": 2
           }
          ]
         }
        },
        {
         "name": "_deepnote_index_column",
         "dtype": "object"
        }
       ],
       "rows": [
        {
         "make": "201",
         "aspiration": "201",
         "num-of-doors": "201",
         "body-style": "201",
         "drive-wheels": "201",
         "engine-location": "201",
         "engine-type": "201",
         "num-of-cylinders": "201",
         "fuel-system": "201",
         "horsepower_binned": "201",
         "_deepnote_index_column": "count"
        },
        {
         "make": "22",
         "aspiration": "2",
         "num-of-doors": "2",
         "body-style": "5",
         "drive-wheels": "3",
         "engine-location": "2",
         "engine-type": "6",
         "num-of-cylinders": "7",
         "fuel-system": "8",
         "horsepower_binned": "3",
         "_deepnote_index_column": "unique"
        },
        {
         "make": "toyota",
         "aspiration": "std",
         "num-of-doors": "four",
         "body-style": "sedan",
         "drive-wheels": "fwd",
         "engine-location": "front",
         "engine-type": "ohc",
         "num-of-cylinders": "four",
         "fuel-system": "mpfi",
         "horsepower_binned": "Low",
         "_deepnote_index_column": "top"
        },
        {
         "make": "32",
         "aspiration": "165",
         "num-of-doors": "115",
         "body-style": "94",
         "drive-wheels": "118",
         "engine-location": "198",
         "engine-type": "145",
         "num-of-cylinders": "157",
         "fuel-system": "92",
         "horsepower_binned": "153",
         "_deepnote_index_column": "freq"
        }
       ]
      },
      "text/plain": "          make aspiration num-of-doors body-style drive-wheels  \\\ncount      201        201          201        201          201   \nunique      22          2            2          5            3   \ntop     toyota        std         four      sedan          fwd   \nfreq        32        165          115         94          118   \n\n       engine-location engine-type num-of-cylinders fuel-system  \\\ncount              201         201              201         201   \nunique               2           6                7           8   \ntop              front         ohc             four        mpfi   \nfreq               198         145              157          92   \n\n       horsepower_binned  \ncount                201  \nunique                 3  \ntop                  Low  \nfreq                 153  ",
      "text/html": "<div>\n<style scoped>\n    .dataframe tbody tr th:only-of-type {\n        vertical-align: middle;\n    }\n\n    .dataframe tbody tr th {\n        vertical-align: top;\n    }\n\n    .dataframe thead th {\n        text-align: right;\n    }\n</style>\n<table border=\"1\" class=\"dataframe\">\n  <thead>\n    <tr style=\"text-align: right;\">\n      <th></th>\n      <th>make</th>\n      <th>aspiration</th>\n      <th>num-of-doors</th>\n      <th>body-style</th>\n      <th>drive-wheels</th>\n      <th>engine-location</th>\n      <th>engine-type</th>\n      <th>num-of-cylinders</th>\n      <th>fuel-system</th>\n      <th>horsepower_binned</th>\n    </tr>\n  </thead>\n  <tbody>\n    <tr>\n      <th>count</th>\n      <td>201</td>\n      <td>201</td>\n      <td>201</td>\n      <td>201</td>\n      <td>201</td>\n      <td>201</td>\n      <td>201</td>\n      <td>201</td>\n      <td>201</td>\n      <td>201</td>\n    </tr>\n    <tr>\n      <th>unique</th>\n      <td>22</td>\n      <td>2</td>\n      <td>2</td>\n      <td>5</td>\n      <td>3</td>\n      <td>2</td>\n      <td>6</td>\n      <td>7</td>\n      <td>8</td>\n      <td>3</td>\n    </tr>\n    <tr>\n      <th>top</th>\n      <td>toyota</td>\n      <td>std</td>\n      <td>four</td>\n      <td>sedan</td>\n      <td>fwd</td>\n      <td>front</td>\n      <td>ohc</td>\n      <td>four</td>\n      <td>mpfi</td>\n      <td>Low</td>\n    </tr>\n    <tr>\n      <th>freq</th>\n      <td>32</td>\n      <td>165</td>\n      <td>115</td>\n      <td>94</td>\n      <td>118</td>\n      <td>198</td>\n      <td>145</td>\n      <td>157</td>\n      <td>92</td>\n      <td>153</td>\n    </tr>\n  </tbody>\n</table>\n</div>"
     },
     "metadata": {}
    }
   ]
  },
  {
   "cell_type": "markdown",
   "source": "### body-style",
   "metadata": {
    "cell_id": "2b94544d-1ec8-48e0-8cdc-6da11cc2230e",
    "tags": [],
    "deepnote_cell_type": "markdown"
   }
  },
  {
   "cell_type": "code",
   "metadata": {
    "cell_id": "498acec2-60fd-4979-95ed-be7e2e3eaba4",
    "tags": [],
    "deepnote_to_be_reexecuted": false,
    "source_hash": "7d4541ca",
    "execution_start": 1646234578881,
    "execution_millis": 234,
    "deepnote_cell_type": "code"
   },
   "source": "sns.boxplot(x = 'body-style', y = 'price', data = df_cars)\nplt.ylim(0,)\n\n# no",
   "execution_count": 14,
   "outputs": [
    {
     "output_type": "execute_result",
     "execution_count": 14,
     "data": {
      "text/plain": "(0.0, 47414.1)"
     },
     "metadata": {}
    },
    {
     "data": {
      "text/plain": "<Figure size 432x288 with 1 Axes>",
      "image/png": "[encoded data removed]"
     },
     "metadata": {
      "needs_background": "light",
      "image/png": {
       "width": 401,
       "height": 262
      }
     },
     "output_type": "display_data"
    }
   ]
  },
  {
   "cell_type": "markdown",
   "source": "### engine-location",
   "metadata": {
    "cell_id": "b9b1f78e-7400-4cdb-9a23-3d484c34358c",
    "tags": [],
    "deepnote_cell_type": "markdown"
   }
  },
  {
   "cell_type": "code",
   "metadata": {
    "cell_id": "81917fca-c077-4bed-b464-df9586a89901",
    "tags": [],
    "deepnote_to_be_reexecuted": false,
    "source_hash": "136bb77a",
    "execution_start": 1646234579151,
    "execution_millis": 152,
    "deepnote_cell_type": "code"
   },
   "source": "sns.boxplot(x = 'engine-location', y = 'price', data = df_cars)\nplt.ylim(0,)\n\n# yes",
   "execution_count": 15,
   "outputs": [
    {
     "output_type": "execute_result",
     "execution_count": 15,
     "data": {
      "text/plain": "(0.0, 47414.1)"
     },
     "metadata": {}
    },
    {
     "data": {
      "text/plain": "<Figure size 432x288 with 1 Axes>",
      "image/png": "[encoded data removed]"
     },
     "metadata": {
      "needs_background": "light",
      "image/png": {
       "width": 401,
       "height": 262
      }
     },
     "output_type": "display_data"
    }
   ]
  },
  {
   "cell_type": "markdown",
   "source": "### num-of-doors",
   "metadata": {
    "cell_id": "4bdb34af-2095-4314-90fe-ea79d622bf4e",
    "tags": [],
    "deepnote_cell_type": "markdown"
   }
  },
  {
   "cell_type": "code",
   "metadata": {
    "cell_id": "fdaa2a50-5bc5-49ef-8a67-fa43ef1db7e1",
    "tags": [],
    "deepnote_to_be_reexecuted": false,
    "source_hash": "30a0f419",
    "execution_start": 1646234579348,
    "execution_millis": 186,
    "deepnote_cell_type": "code"
   },
   "source": "sns.boxplot(x = 'num-of-doors', y = 'price', data = df_cars)\nplt.ylim(0,)\n\n# no",
   "execution_count": 16,
   "outputs": [
    {
     "output_type": "execute_result",
     "execution_count": 16,
     "data": {
      "text/plain": "(0.0, 47414.1)"
     },
     "metadata": {}
    },
    {
     "data": {
      "text/plain": "<Figure size 432x288 with 1 Axes>",
      "image/png": "[encoded data removed]"
     },
     "metadata": {
      "needs_background": "light",
      "image/png": {
       "width": 401,
       "height": 262
      }
     },
     "output_type": "display_data"
    }
   ]
  },
  {
   "cell_type": "markdown",
   "source": "### drive-wheels",
   "metadata": {
    "cell_id": "e8783c12-aae4-4bff-89a8-12f6cb9626f2",
    "tags": [],
    "deepnote_cell_type": "markdown"
   }
  },
  {
   "cell_type": "code",
   "metadata": {
    "cell_id": "81c7a764-0a9e-4dd4-b055-a35baf9e64ab",
    "tags": [],
    "deepnote_to_be_reexecuted": false,
    "source_hash": "9a9acce3",
    "execution_start": 1646234579533,
    "execution_millis": 179,
    "deepnote_cell_type": "code"
   },
   "source": "sns.boxplot(x = 'drive-wheels', y = 'price', data = df_cars)\nplt.ylim(0,)\n\n# no",
   "execution_count": 17,
   "outputs": [
    {
     "output_type": "execute_result",
     "execution_count": 17,
     "data": {
      "text/plain": "(0.0, 47414.1)"
     },
     "metadata": {}
    },
    {
     "data": {
      "text/plain": "<Figure size 432x288 with 1 Axes>",
      "image/png": "[encoded data removed]"
     },
     "metadata": {
      "needs_background": "light",
      "image/png": {
       "width": 401,
       "height": 262
      }
     },
     "output_type": "display_data"
    }
   ]
  },
  {
   "cell_type": "code",
   "metadata": {
    "cell_id": "6f034b85-825c-4fec-a486-aca7e59da2d9",
    "tags": [],
    "deepnote_to_be_reexecuted": false,
    "source_hash": "75acc502",
    "execution_start": 1646234579767,
    "execution_millis": 2,
    "deepnote_cell_type": "code"
   },
   "source": "# group - price by body-style\ndf_cars.groupby(['body-style'])[['price']].mean().reset_index().sort_values(by = 'price', ascending = False)",
   "execution_count": 18,
   "outputs": [
    {
     "output_type": "execute_result",
     "execution_count": 18,
     "data": {
      "application/vnd.deepnote.dataframe.v3+json": {
       "column_count": 2,
       "row_count": 5,
       "columns": [
        {
         "name": "body-style",
         "dtype": "object",
         "stats": {
          "unique_count": 5,
          "nan_count": 0,
          "categories": [
           {
            "name": "hardtop",
            "count": 1
           },
           {
            "name": "convertible",
            "count": 1
           },
           {
            "name": "3 others",
            "count": 3
           }
          ]
         }
        },
        {
         "name": "price",
         "dtype": "float64",
         "stats": {
          "unique_count": 5,
          "nan_count": 0,
          "min": "9957.441176470587",
          "max": "22208.5",
          "histogram": [
           {
            "bin_start": 9957.441176470587,
            "bin_end": 11182.54705882353,
            "count": 1
           },
           {
            "bin_start": 11182.54705882353,
            "bin_end": 12407.65294117647,
            "count": 1
           },
           {
            "bin_start": 12407.65294117647,
            "bin_end": 13632.758823529412,
            "count": 0
           },
           {
            "bin_start": 13632.758823529412,
            "bin_end": 14857.864705882352,
            "count": 1
           },
           {
            "bin_start": 14857.864705882352,
            "bin_end": 16082.970588235294,
            "count": 0
           },
           {
            "bin_start": 16082.970588235294,
            "bin_end": 17308.076470588236,
            "count": 0
           },
           {
            "bin_start": 17308.076470588236,
            "bin_end": 18533.182352941178,
            "count": 0
           },
           {
            "bin_start": 18533.182352941178,
            "bin_end": 19758.288235294116,
            "count": 0
           },
           {
            "bin_start": 19758.288235294116,
            "bin_end": 20983.39411764706,
            "count": 0
           },
           {
            "bin_start": 20983.39411764706,
            "bin_end": 22208.5,
            "count": 2
           }
          ]
         }
        },
        {
         "name": "_deepnote_index_column",
         "dtype": "int64"
        }
       ],
       "rows": [
        {
         "body-style": "hardtop",
         "price": 22208.5,
         "_deepnote_index_column": 1
        },
        {
         "body-style": "convertible",
         "price": 21890.5,
         "_deepnote_index_column": 0
        },
        {
         "body-style": "sedan",
         "price": 14459.755319148937,
         "_deepnote_index_column": 3
        },
        {
         "body-style": "wagon",
         "price": 12371.96,
         "_deepnote_index_column": 4
        },
        {
         "body-style": "hatchback",
         "price": 9957.441176470587,
         "_deepnote_index_column": 2
        }
       ]
      },
      "text/plain": "    body-style      price\n1      hardtop 22,208.500\n0  convertible 21,890.500\n3        sedan 14,459.755\n4        wagon 12,371.960\n2    hatchback  9,957.441",
      "text/html": "<div>\n<style scoped>\n    .dataframe tbody tr th:only-of-type {\n        vertical-align: middle;\n    }\n\n    .dataframe tbody tr th {\n        vertical-align: top;\n    }\n\n    .dataframe thead th {\n        text-align: right;\n    }\n</style>\n<table border=\"1\" class=\"dataframe\">\n  <thead>\n    <tr style=\"text-align: right;\">\n      <th></th>\n      <th>body-style</th>\n      <th>price</th>\n    </tr>\n  </thead>\n  <tbody>\n    <tr>\n      <th>1</th>\n      <td>hardtop</td>\n      <td>22,208.500</td>\n    </tr>\n    <tr>\n      <th>0</th>\n      <td>convertible</td>\n      <td>21,890.500</td>\n    </tr>\n    <tr>\n      <th>3</th>\n      <td>sedan</td>\n      <td>14,459.755</td>\n    </tr>\n    <tr>\n      <th>4</th>\n      <td>wagon</td>\n      <td>12,371.960</td>\n    </tr>\n    <tr>\n      <th>2</th>\n      <td>hatchback</td>\n      <td>9,957.441</td>\n    </tr>\n  </tbody>\n</table>\n</div>"
     },
     "metadata": {}
    }
   ]
  },
  {
   "cell_type": "code",
   "metadata": {
    "cell_id": "1e31f2e1-c078-4a92-b923-ed7db724f994",
    "tags": [],
    "deepnote_to_be_reexecuted": false,
    "source_hash": "90e8a717",
    "execution_start": 1646234579768,
    "execution_millis": 7,
    "deepnote_cell_type": "code"
   },
   "source": "# price by body-style and drive-wheels\ndf_group_pr_b_dr = df_cars[['price', 'body-style', 'drive-wheels']]\ndf_group_pr_b_dr.groupby(['drive-wheels', 'body-style'], as_index = False).mean()",
   "execution_count": 19,
   "outputs": [
    {
     "output_type": "execute_result",
     "execution_count": 19,
     "data": {
      "application/vnd.deepnote.dataframe.v3+json": {
       "column_count": 3,
       "row_count": 13,
       "columns": [
        {
         "name": "drive-wheels",
         "dtype": "object",
         "stats": {
          "unique_count": 3,
          "nan_count": 0,
          "categories": [
           {
            "name": "fwd",
            "count": 5
           },
           {
            "name": "rwd",
            "count": 5
           },
           {
            "name": "4wd",
            "count": 3
           }
          ]
         }
        },
        {
         "name": "body-style",
         "dtype": "object",
         "stats": {
          "unique_count": 5,
          "nan_count": 0,
          "categories": [
           {
            "name": "hatchback",
            "count": 3
           },
           {
            "name": "sedan",
            "count": 3
           },
           {
            "name": "3 others",
            "count": 7
           }
          ]
         }
        },
        {
         "name": "price",
         "dtype": "float64",
         "stats": {
          "unique_count": 13,
          "nan_count": 0,
          "min": "7603.0",
          "max": "24202.714285714286",
          "histogram": [
           {
            "bin_start": 7603,
            "bin_end": 9262.971428571429,
            "count": 4
           },
           {
            "bin_start": 9262.971428571429,
            "bin_end": 10922.942857142858,
            "count": 2
           },
           {
            "bin_start": 10922.942857142858,
            "bin_end": 12582.914285714285,
            "count": 1
           },
           {
            "bin_start": 12582.914285714285,
            "bin_end": 14242.885714285714,
            "count": 1
           },
           {
            "bin_start": 14242.885714285714,
            "bin_end": 15902.857142857143,
            "count": 1
           },
           {
            "bin_start": 15902.857142857143,
            "bin_end": 17562.82857142857,
            "count": 1
           },
           {
            "bin_start": 17562.82857142857,
            "bin_end": 19222.8,
            "count": 0
           },
           {
            "bin_start": 19222.8,
            "bin_end": 20882.77142857143,
            "count": 0
           },
           {
            "bin_start": 20882.77142857143,
            "bin_end": 22542.742857142857,
            "count": 1
           },
           {
            "bin_start": 22542.742857142857,
            "bin_end": 24202.714285714286,
            "count": 2
           }
          ]
         }
        },
        {
         "name": "_deepnote_index_column",
         "dtype": "int64"
        }
       ],
       "rows": [
        {
         "drive-wheels": "4wd",
         "body-style": "hatchback",
         "price": 7603,
         "_deepnote_index_column": 0
        },
        {
         "drive-wheels": "4wd",
         "body-style": "sedan",
         "price": 12647.333333333334,
         "_deepnote_index_column": 1
        },
        {
         "drive-wheels": "4wd",
         "body-style": "wagon",
         "price": 9095.75,
         "_deepnote_index_column": 2
        },
        {
         "drive-wheels": "fwd",
         "body-style": "convertible",
         "price": 11595,
         "_deepnote_index_column": 3
        },
        {
         "drive-wheels": "fwd",
         "body-style": "hardtop",
         "price": 8249,
         "_deepnote_index_column": 4
        },
        {
         "drive-wheels": "fwd",
         "body-style": "hatchback",
         "price": 8396.387755102041,
         "_deepnote_index_column": 5
        },
        {
         "drive-wheels": "fwd",
         "body-style": "sedan",
         "price": 9811.8,
         "_deepnote_index_column": 6
        },
        {
         "drive-wheels": "fwd",
         "body-style": "wagon",
         "price": 9997.333333333334,
         "_deepnote_index_column": 7
        },
        {
         "drive-wheels": "rwd",
         "body-style": "convertible",
         "price": 23949.6,
         "_deepnote_index_column": 8
        },
        {
         "drive-wheels": "rwd",
         "body-style": "hardtop",
         "price": 24202.714285714286,
         "_deepnote_index_column": 9
        }
       ]
      },
      "text/plain": "   drive-wheels   body-style      price\n0           4wd    hatchback  7,603.000\n1           4wd        sedan 12,647.333\n2           4wd        wagon  9,095.750\n3           fwd  convertible 11,595.000\n4           fwd      hardtop  8,249.000\n5           fwd    hatchback  8,396.388\n6           fwd        sedan  9,811.800\n7           fwd        wagon  9,997.333\n8           rwd  convertible 23,949.600\n9           rwd      hardtop 24,202.714\n10          rwd    hatchback 14,337.778\n11          rwd        sedan 21,711.833\n12          rwd        wagon 16,994.222",
      "text/html": "<div>\n<style scoped>\n    .dataframe tbody tr th:only-of-type {\n        vertical-align: middle;\n    }\n\n    .dataframe tbody tr th {\n        vertical-align: top;\n    }\n\n    .dataframe thead th {\n        text-align: right;\n    }\n</style>\n<table border=\"1\" class=\"dataframe\">\n  <thead>\n    <tr style=\"text-align: right;\">\n      <th></th>\n      <th>drive-wheels</th>\n      <th>body-style</th>\n      <th>price</th>\n    </tr>\n  </thead>\n  <tbody>\n    <tr>\n      <th>0</th>\n      <td>4wd</td>\n      <td>hatchback</td>\n      <td>7,603.000</td>\n    </tr>\n    <tr>\n      <th>1</th>\n      <td>4wd</td>\n      <td>sedan</td>\n      <td>12,647.333</td>\n    </tr>\n    <tr>\n      <th>2</th>\n      <td>4wd</td>\n      <td>wagon</td>\n      <td>9,095.750</td>\n    </tr>\n    <tr>\n      <th>3</th>\n      <td>fwd</td>\n      <td>convertible</td>\n      <td>11,595.000</td>\n    </tr>\n    <tr>\n      <th>4</th>\n      <td>fwd</td>\n      <td>hardtop</td>\n      <td>8,249.000</td>\n    </tr>\n    <tr>\n      <th>5</th>\n      <td>fwd</td>\n      <td>hatchback</td>\n      <td>8,396.388</td>\n    </tr>\n    <tr>\n      <th>6</th>\n      <td>fwd</td>\n      <td>sedan</td>\n      <td>9,811.800</td>\n    </tr>\n    <tr>\n      <th>7</th>\n      <td>fwd</td>\n      <td>wagon</td>\n      <td>9,997.333</td>\n    </tr>\n    <tr>\n      <th>8</th>\n      <td>rwd</td>\n      <td>convertible</td>\n      <td>23,949.600</td>\n    </tr>\n    <tr>\n      <th>9</th>\n      <td>rwd</td>\n      <td>hardtop</td>\n      <td>24,202.714</td>\n    </tr>\n    <tr>\n      <th>10</th>\n      <td>rwd</td>\n      <td>hatchback</td>\n      <td>14,337.778</td>\n    </tr>\n    <tr>\n      <th>11</th>\n      <td>rwd</td>\n      <td>sedan</td>\n      <td>21,711.833</td>\n    </tr>\n    <tr>\n      <th>12</th>\n      <td>rwd</td>\n      <td>wagon</td>\n      <td>16,994.222</td>\n    </tr>\n  </tbody>\n</table>\n</div>"
     },
     "metadata": {}
    }
   ]
  },
  {
   "cell_type": "code",
   "metadata": {
    "cell_id": "eddee74e-6655-4875-bd52-6a470775082a",
    "tags": [],
    "deepnote_to_be_reexecuted": false,
    "source_hash": "d59a03a5",
    "execution_start": 1646234579775,
    "execution_millis": 27,
    "deepnote_cell_type": "code"
   },
   "source": "# pivor this table to have a better knowledge\ndf_group = df_group_pr_b_dr.groupby(['drive-wheels', 'body-style'], as_index = False).mean()\ndf_group_pivot = pd.pivot(data = df_group, columns = 'body-style', index = 'drive-wheels', values = 'price')\ndf_group_pivot",
   "execution_count": 20,
   "outputs": [
    {
     "output_type": "execute_result",
     "execution_count": 20,
     "data": {
      "application/vnd.deepnote.dataframe.v3+json": {
       "column_count": 5,
       "row_count": 3,
       "columns": [
        {
         "name": "convertible",
         "dtype": "float64",
         "stats": {
          "unique_count": 2,
          "nan_count": 1,
          "min": "11595.0",
          "max": "23949.6",
          "histogram": [
           {
            "bin_start": 11595,
            "bin_end": 12830.46,
            "count": 1
           },
           {
            "bin_start": 12830.46,
            "bin_end": 14065.92,
            "count": 0
           },
           {
            "bin_start": 14065.92,
            "bin_end": 15301.38,
            "count": 0
           },
           {
            "bin_start": 15301.38,
            "bin_end": 16536.84,
            "count": 0
           },
           {
            "bin_start": 16536.84,
            "bin_end": 17772.3,
            "count": 0
           },
           {
            "bin_start": 17772.3,
            "bin_end": 19007.76,
            "count": 0
           },
           {
            "bin_start": 19007.76,
            "bin_end": 20243.22,
            "count": 0
           },
           {
            "bin_start": 20243.22,
            "bin_end": 21478.68,
            "count": 0
           },
           {
            "bin_start": 21478.68,
            "bin_end": 22714.14,
            "count": 0
           },
           {
            "bin_start": 22714.14,
            "bin_end": 23949.6,
            "count": 1
           }
          ]
         }
        },
        {
         "name": "hardtop",
         "dtype": "float64",
         "stats": {
          "unique_count": 2,
          "nan_count": 1,
          "min": "8249.0",
          "max": "24202.714285714286",
          "histogram": [
           {
            "bin_start": 8249,
            "bin_end": 9844.371428571429,
            "count": 1
           },
           {
            "bin_start": 9844.371428571429,
            "bin_end": 11439.742857142857,
            "count": 0
           },
           {
            "bin_start": 11439.742857142857,
            "bin_end": 13035.114285714286,
            "count": 0
           },
           {
            "bin_start": 13035.114285714286,
            "bin_end": 14630.485714285714,
            "count": 0
           },
           {
            "bin_start": 14630.485714285714,
            "bin_end": 16225.857142857143,
            "count": 0
           },
           {
            "bin_start": 16225.857142857143,
            "bin_end": 17821.22857142857,
            "count": 0
           },
           {
            "bin_start": 17821.22857142857,
            "bin_end": 19416.6,
            "count": 0
           },
           {
            "bin_start": 19416.6,
            "bin_end": 21011.97142857143,
            "count": 0
           },
           {
            "bin_start": 21011.97142857143,
            "bin_end": 22607.34285714286,
            "count": 0
           },
           {
            "bin_start": 22607.34285714286,
            "bin_end": 24202.714285714286,
            "count": 1
           }
          ]
         }
        },
        {
         "name": "hatchback",
         "dtype": "float64",
         "stats": {
          "unique_count": 3,
          "nan_count": 0,
          "min": "7603.0",
          "max": "14337.777777777777",
          "histogram": [
           {
            "bin_start": 7603,
            "bin_end": 8276.477777777778,
            "count": 1
           },
           {
            "bin_start": 8276.477777777778,
            "bin_end": 8949.955555555556,
            "count": 1
           },
           {
            "bin_start": 8949.955555555556,
            "bin_end": 9623.433333333334,
            "count": 0
           },
           {
            "bin_start": 9623.433333333334,
            "bin_end": 10296.91111111111,
            "count": 0
           },
           {
            "bin_start": 10296.91111111111,
            "bin_end": 10970.388888888889,
            "count": 0
           },
           {
            "bin_start": 10970.388888888889,
            "bin_end": 11643.866666666667,
            "count": 0
           },
           {
            "bin_start": 11643.866666666667,
            "bin_end": 12317.344444444443,
            "count": 0
           },
           {
            "bin_start": 12317.344444444443,
            "bin_end": 12990.822222222221,
            "count": 0
           },
           {
            "bin_start": 12990.822222222221,
            "bin_end": 13664.3,
            "count": 0
           },
           {
            "bin_start": 13664.3,
            "bin_end": 14337.777777777777,
            "count": 1
           }
          ]
         }
        },
        {
         "name": "sedan",
         "dtype": "float64",
         "stats": {
          "unique_count": 3,
          "nan_count": 0,
          "min": "9811.8",
          "max": "21711.833333333332",
          "histogram": [
           {
            "bin_start": 9811.8,
            "bin_end": 11001.803333333333,
            "count": 1
           },
           {
            "bin_start": 11001.803333333333,
            "bin_end": 12191.806666666665,
            "count": 0
           },
           {
            "bin_start": 12191.806666666665,
            "bin_end": 13381.81,
            "count": 1
           },
           {
            "bin_start": 13381.81,
            "bin_end": 14571.813333333332,
            "count": 0
           },
           {
            "bin_start": 14571.813333333332,
            "bin_end": 15761.816666666666,
            "count": 0
           },
           {
            "bin_start": 15761.816666666666,
            "bin_end": 16951.82,
            "count": 0
           },
           {
            "bin_start": 16951.82,
            "bin_end": 18141.823333333334,
            "count": 0
           },
           {
            "bin_start": 18141.823333333334,
            "bin_end": 19331.826666666668,
            "count": 0
           },
           {
            "bin_start": 19331.826666666668,
            "bin_end": 20521.83,
            "count": 0
           },
           {
            "bin_start": 20521.83,
            "bin_end": 21711.833333333332,
            "count": 1
           }
          ]
         }
        },
        {
         "name": "wagon",
         "dtype": "float64",
         "stats": {
          "unique_count": 3,
          "nan_count": 0,
          "min": "9095.75",
          "max": "16994.222222222223",
          "histogram": [
           {
            "bin_start": 9095.75,
            "bin_end": 9885.597222222223,
            "count": 1
           },
           {
            "bin_start": 9885.597222222223,
            "bin_end": 10675.444444444445,
            "count": 1
           },
           {
            "bin_start": 10675.444444444445,
            "bin_end": 11465.291666666668,
            "count": 0
           },
           {
            "bin_start": 11465.291666666668,
            "bin_end": 12255.138888888889,
            "count": 0
           },
           {
            "bin_start": 12255.138888888889,
            "bin_end": 13044.986111111111,
            "count": 0
           },
           {
            "bin_start": 13044.986111111111,
            "bin_end": 13834.833333333334,
            "count": 0
           },
           {
            "bin_start": 13834.833333333334,
            "bin_end": 14624.680555555555,
            "count": 0
           },
           {
            "bin_start": 14624.680555555555,
            "bin_end": 15414.527777777777,
            "count": 0
           },
           {
            "bin_start": 15414.527777777777,
            "bin_end": 16204.375,
            "count": 0
           },
           {
            "bin_start": 16204.375,
            "bin_end": 16994.222222222223,
            "count": 1
           }
          ]
         }
        },
        {
         "name": "_deepnote_index_column",
         "dtype": "object"
        }
       ],
       "rows": [
        {
         "convertible": "nan",
         "hardtop": "nan",
         "hatchback": 7603,
         "sedan": 12647.333333333334,
         "wagon": 9095.75,
         "_deepnote_index_column": "4wd"
        },
        {
         "convertible": 11595,
         "hardtop": 8249,
         "hatchback": 8396.387755102041,
         "sedan": 9811.8,
         "wagon": 9997.333333333334,
         "_deepnote_index_column": "fwd"
        },
        {
         "convertible": 23949.6,
         "hardtop": 24202.714285714286,
         "hatchback": 14337.777777777777,
         "sedan": 21711.833333333332,
         "wagon": 16994.222222222223,
         "_deepnote_index_column": "rwd"
        }
       ]
      },
      "text/plain": "body-style    convertible    hardtop  hatchback      sedan      wagon\ndrive-wheels                                                         \n4wd                   NaN        NaN  7,603.000 12,647.333  9,095.750\nfwd            11,595.000  8,249.000  8,396.388  9,811.800  9,997.333\nrwd            23,949.600 24,202.714 14,337.778 21,711.833 16,994.222",
      "text/html": "<div>\n<style scoped>\n    .dataframe tbody tr th:only-of-type {\n        vertical-align: middle;\n    }\n\n    .dataframe tbody tr th {\n        vertical-align: top;\n    }\n\n    .dataframe thead th {\n        text-align: right;\n    }\n</style>\n<table border=\"1\" class=\"dataframe\">\n  <thead>\n    <tr style=\"text-align: right;\">\n      <th>body-style</th>\n      <th>convertible</th>\n      <th>hardtop</th>\n      <th>hatchback</th>\n      <th>sedan</th>\n      <th>wagon</th>\n    </tr>\n    <tr>\n      <th>drive-wheels</th>\n      <th></th>\n      <th></th>\n      <th></th>\n      <th></th>\n      <th></th>\n    </tr>\n  </thead>\n  <tbody>\n    <tr>\n      <th>4wd</th>\n      <td>NaN</td>\n      <td>NaN</td>\n      <td>7,603.000</td>\n      <td>12,647.333</td>\n      <td>9,095.750</td>\n    </tr>\n    <tr>\n      <th>fwd</th>\n      <td>11,595.000</td>\n      <td>8,249.000</td>\n      <td>8,396.388</td>\n      <td>9,811.800</td>\n      <td>9,997.333</td>\n    </tr>\n    <tr>\n      <th>rwd</th>\n      <td>23,949.600</td>\n      <td>24,202.714</td>\n      <td>14,337.778</td>\n      <td>21,711.833</td>\n      <td>16,994.222</td>\n    </tr>\n  </tbody>\n</table>\n</div>"
     },
     "metadata": {}
    }
   ]
  },
  {
   "cell_type": "code",
   "metadata": {
    "cell_id": "2b2a4cf6-d4b7-4981-a8eb-504982613952",
    "tags": [],
    "deepnote_to_be_reexecuted": false,
    "source_hash": "700c5515",
    "execution_start": 1646234579809,
    "execution_millis": 18,
    "deepnote_cell_type": "code"
   },
   "source": "df_group_pivot.fillna(0, inplace = True)\ndf_group_pivot",
   "execution_count": 21,
   "outputs": [
    {
     "output_type": "execute_result",
     "execution_count": 21,
     "data": {
      "application/vnd.deepnote.dataframe.v3+json": {
       "column_count": 5,
       "row_count": 3,
       "columns": [
        {
         "name": "convertible",
         "dtype": "float64",
         "stats": {
          "unique_count": 3,
          "nan_count": 0,
          "min": "0.0",
          "max": "23949.6",
          "histogram": [
           {
            "bin_start": 0,
            "bin_end": 2394.96,
            "count": 1
           },
           {
            "bin_start": 2394.96,
            "bin_end": 4789.92,
            "count": 0
           },
           {
            "bin_start": 4789.92,
            "bin_end": 7184.88,
            "count": 0
           },
           {
            "bin_start": 7184.88,
            "bin_end": 9579.84,
            "count": 0
           },
           {
            "bin_start": 9579.84,
            "bin_end": 11974.8,
            "count": 1
           },
           {
            "bin_start": 11974.8,
            "bin_end": 14369.76,
            "count": 0
           },
           {
            "bin_start": 14369.76,
            "bin_end": 16764.72,
            "count": 0
           },
           {
            "bin_start": 16764.72,
            "bin_end": 19159.68,
            "count": 0
           },
           {
            "bin_start": 19159.68,
            "bin_end": 21554.64,
            "count": 0
           },
           {
            "bin_start": 21554.64,
            "bin_end": 23949.6,
            "count": 1
           }
          ]
         }
        },
        {
         "name": "hardtop",
         "dtype": "float64",
         "stats": {
          "unique_count": 3,
          "nan_count": 0,
          "min": "0.0",
          "max": "24202.714285714286",
          "histogram": [
           {
            "bin_start": 0,
            "bin_end": 2420.2714285714287,
            "count": 1
           },
           {
            "bin_start": 2420.2714285714287,
            "bin_end": 4840.542857142857,
            "count": 0
           },
           {
            "bin_start": 4840.542857142857,
            "bin_end": 7260.814285714287,
            "count": 0
           },
           {
            "bin_start": 7260.814285714287,
            "bin_end": 9681.085714285715,
            "count": 1
           },
           {
            "bin_start": 9681.085714285715,
            "bin_end": 12101.357142857143,
            "count": 0
           },
           {
            "bin_start": 12101.357142857143,
            "bin_end": 14521.628571428573,
            "count": 0
           },
           {
            "bin_start": 14521.628571428573,
            "bin_end": 16941.9,
            "count": 0
           },
           {
            "bin_start": 16941.9,
            "bin_end": 19362.17142857143,
            "count": 0
           },
           {
            "bin_start": 19362.17142857143,
            "bin_end": 21782.442857142858,
            "count": 0
           },
           {
            "bin_start": 21782.442857142858,
            "bin_end": 24202.714285714286,
            "count": 1
           }
          ]
         }
        },
        {
         "name": "hatchback",
         "dtype": "float64",
         "stats": {
          "unique_count": 3,
          "nan_count": 0,
          "min": "7603.0",
          "max": "14337.777777777777",
          "histogram": [
           {
            "bin_start": 7603,
            "bin_end": 8276.477777777778,
            "count": 1
           },
           {
            "bin_start": 8276.477777777778,
            "bin_end": 8949.955555555556,
            "count": 1
           },
           {
            "bin_start": 8949.955555555556,
            "bin_end": 9623.433333333334,
            "count": 0
           },
           {
            "bin_start": 9623.433333333334,
            "bin_end": 10296.91111111111,
            "count": 0
           },
           {
            "bin_start": 10296.91111111111,
            "bin_end": 10970.388888888889,
            "count": 0
           },
           {
            "bin_start": 10970.388888888889,
            "bin_end": 11643.866666666667,
            "count": 0
           },
           {
            "bin_start": 11643.866666666667,
            "bin_end": 12317.344444444443,
            "count": 0
           },
           {
            "bin_start": 12317.344444444443,
            "bin_end": 12990.822222222221,
            "count": 0
           },
           {
            "bin_start": 12990.822222222221,
            "bin_end": 13664.3,
            "count": 0
           },
           {
            "bin_start": 13664.3,
            "bin_end": 14337.777777777777,
            "count": 1
           }
          ]
         }
        },
        {
         "name": "sedan",
         "dtype": "float64",
         "stats": {
          "unique_count": 3,
          "nan_count": 0,
          "min": "9811.8",
          "max": "21711.833333333332",
          "histogram": [
           {
            "bin_start": 9811.8,
            "bin_end": 11001.803333333333,
            "count": 1
           },
           {
            "bin_start": 11001.803333333333,
            "bin_end": 12191.806666666665,
            "count": 0
           },
           {
            "bin_start": 12191.806666666665,
            "bin_end": 13381.81,
            "count": 1
           },
           {
            "bin_start": 13381.81,
            "bin_end": 14571.813333333332,
            "count": 0
           },
           {
            "bin_start": 14571.813333333332,
            "bin_end": 15761.816666666666,
            "count": 0
           },
           {
            "bin_start": 15761.816666666666,
            "bin_end": 16951.82,
            "count": 0
           },
           {
            "bin_start": 16951.82,
            "bin_end": 18141.823333333334,
            "count": 0
           },
           {
            "bin_start": 18141.823333333334,
            "bin_end": 19331.826666666668,
            "count": 0
           },
           {
            "bin_start": 19331.826666666668,
            "bin_end": 20521.83,
            "count": 0
           },
           {
            "bin_start": 20521.83,
            "bin_end": 21711.833333333332,
            "count": 1
           }
          ]
         }
        },
        {
         "name": "wagon",
         "dtype": "float64",
         "stats": {
          "unique_count": 3,
          "nan_count": 0,
          "min": "9095.75",
          "max": "16994.222222222223",
          "histogram": [
           {
            "bin_start": 9095.75,
            "bin_end": 9885.597222222223,
            "count": 1
           },
           {
            "bin_start": 9885.597222222223,
            "bin_end": 10675.444444444445,
            "count": 1
           },
           {
            "bin_start": 10675.444444444445,
            "bin_end": 11465.291666666668,
            "count": 0
           },
           {
            "bin_start": 11465.291666666668,
            "bin_end": 12255.138888888889,
            "count": 0
           },
           {
            "bin_start": 12255.138888888889,
            "bin_end": 13044.986111111111,
            "count": 0
           },
           {
            "bin_start": 13044.986111111111,
            "bin_end": 13834.833333333334,
            "count": 0
           },
           {
            "bin_start": 13834.833333333334,
            "bin_end": 14624.680555555555,
            "count": 0
           },
           {
            "bin_start": 14624.680555555555,
            "bin_end": 15414.527777777777,
            "count": 0
           },
           {
            "bin_start": 15414.527777777777,
            "bin_end": 16204.375,
            "count": 0
           },
           {
            "bin_start": 16204.375,
            "bin_end": 16994.222222222223,
            "count": 1
           }
          ]
         }
        },
        {
         "name": "_deepnote_index_column",
         "dtype": "object"
        }
       ],
       "rows": [
        {
         "convertible": 0,
         "hardtop": 0,
         "hatchback": 7603,
         "sedan": 12647.333333333334,
         "wagon": 9095.75,
         "_deepnote_index_column": "4wd"
        },
        {
         "convertible": 11595,
         "hardtop": 8249,
         "hatchback": 8396.387755102041,
         "sedan": 9811.8,
         "wagon": 9997.333333333334,
         "_deepnote_index_column": "fwd"
        },
        {
         "convertible": 23949.6,
         "hardtop": 24202.714285714286,
         "hatchback": 14337.777777777777,
         "sedan": 21711.833333333332,
         "wagon": 16994.222222222223,
         "_deepnote_index_column": "rwd"
        }
       ]
      },
      "text/plain": "body-style    convertible    hardtop  hatchback      sedan      wagon\ndrive-wheels                                                         \n4wd                 0.000      0.000  7,603.000 12,647.333  9,095.750\nfwd            11,595.000  8,249.000  8,396.388  9,811.800  9,997.333\nrwd            23,949.600 24,202.714 14,337.778 21,711.833 16,994.222",
      "text/html": "<div>\n<style scoped>\n    .dataframe tbody tr th:only-of-type {\n        vertical-align: middle;\n    }\n\n    .dataframe tbody tr th {\n        vertical-align: top;\n    }\n\n    .dataframe thead th {\n        text-align: right;\n    }\n</style>\n<table border=\"1\" class=\"dataframe\">\n  <thead>\n    <tr style=\"text-align: right;\">\n      <th>body-style</th>\n      <th>convertible</th>\n      <th>hardtop</th>\n      <th>hatchback</th>\n      <th>sedan</th>\n      <th>wagon</th>\n    </tr>\n    <tr>\n      <th>drive-wheels</th>\n      <th></th>\n      <th></th>\n      <th></th>\n      <th></th>\n      <th></th>\n    </tr>\n  </thead>\n  <tbody>\n    <tr>\n      <th>4wd</th>\n      <td>0.000</td>\n      <td>0.000</td>\n      <td>7,603.000</td>\n      <td>12,647.333</td>\n      <td>9,095.750</td>\n    </tr>\n    <tr>\n      <th>fwd</th>\n      <td>11,595.000</td>\n      <td>8,249.000</td>\n      <td>8,396.388</td>\n      <td>9,811.800</td>\n      <td>9,997.333</td>\n    </tr>\n    <tr>\n      <th>rwd</th>\n      <td>23,949.600</td>\n      <td>24,202.714</td>\n      <td>14,337.778</td>\n      <td>21,711.833</td>\n      <td>16,994.222</td>\n    </tr>\n  </tbody>\n</table>\n</div>"
     },
     "metadata": {}
    }
   ]
  },
  {
   "cell_type": "code",
   "metadata": {
    "cell_id": "127a9b21-faee-46a5-9e00-677e0716f440",
    "tags": [],
    "deepnote_to_be_reexecuted": false,
    "source_hash": "79d214c5",
    "execution_start": 1646234579831,
    "execution_millis": 2,
    "deepnote_cell_type": "code"
   },
   "source": "df_group_pivot.sort_values(by = 'drive-wheels', ascending = False, inplace = True)",
   "execution_count": 22,
   "outputs": []
  },
  {
   "cell_type": "code",
   "metadata": {
    "cell_id": "d04ada97-b2bf-4ddc-bb07-5fab4ac00d8c",
    "tags": [],
    "deepnote_to_be_reexecuted": false,
    "source_hash": "7bc48f0b",
    "execution_start": 1646234579843,
    "execution_millis": 308,
    "deepnote_cell_type": "code"
   },
   "source": "sns.heatmap(df_group_pivot)",
   "execution_count": 23,
   "outputs": [
    {
     "output_type": "execute_result",
     "execution_count": 23,
     "data": {
      "text/plain": "<AxesSubplot:xlabel='body-style', ylabel='drive-wheels'>"
     },
     "metadata": {}
    },
    {
     "data": {
      "text/plain": "<Figure size 432x288 with 2 Axes>",
      "image/png": "[encoded data removed]"
     },
     "metadata": {
      "needs_background": "light",
      "image/png": {
       "width": 379,
       "height": 262
      }
     },
     "output_type": "display_data"
    }
   ]
  },
  {
   "cell_type": "markdown",
   "source": "# Correlation - Coefficient value - P value",
   "metadata": {
    "cell_id": "cb1cc8fc-e3a5-4224-bacb-73022c992789",
    "tags": [],
    "deepnote_cell_type": "markdown"
   }
  },
  {
   "cell_type": "markdown",
   "source": "Para saber el significado de la correlación estimada debemos tener en consideración lo siguiente:\n\n**Valor P**\n\n¿Qué es el valor P? El valor P es el valor de la probabilidad de que la correlación entre estas dos variables sea estadísticamente significativa. Normalmente, elegimos un nivel de significación de 0,05, lo que significa que tenemos un 95% de confianza en que la correlación entre las variables es significativa.\n\nPor convención, cuando el\n\nvalor p es < 0,001: decimos que hay una fuerte evidencia de que la **correlación es significativa**.\nel valor p es < 0,05: hay una **evidencia moderada** de que la correlación es significativa.\nel valor p es < 0,1: hay **pruebas débiles** de que la correlación es significativa.\nel valor p es > 0,1: **no hay pruebas** de que la correlación sea significativa.",
   "metadata": {
    "cell_id": "65c83173-565f-4bd0-b157-a7f389aacb93",
    "tags": [],
    "deepnote_cell_type": "markdown"
   }
  },
  {
   "cell_type": "code",
   "source": "df_cars.sample(3)",
   "metadata": {
    "cell_id": "03ac00b6-2066-49dd-a925-3ae9515077f9",
    "tags": [],
    "deepnote_to_be_reexecuted": false,
    "source_hash": "ef0af083",
    "execution_start": 1646234699499,
    "execution_millis": 70,
    "deepnote_cell_type": "code"
   },
   "outputs": [
    {
     "output_type": "execute_result",
     "execution_count": 24,
     "data": {
      "application/vnd.deepnote.dataframe.v3+json": {
       "column_count": 28,
       "row_count": 3,
       "columns": [
        {
         "name": "symboling",
         "dtype": "int64",
         "stats": {
          "unique_count": 3,
          "nan_count": 0,
          "min": "-1",
          "max": "3",
          "histogram": [
           {
            "bin_start": -1,
            "bin_end": -0.6,
            "count": 1
           },
           {
            "bin_start": -0.6,
            "bin_end": -0.19999999999999996,
            "count": 0
           },
           {
            "bin_start": -0.19999999999999996,
            "bin_end": 0.20000000000000018,
            "count": 0
           },
           {
            "bin_start": 0.20000000000000018,
            "bin_end": 0.6000000000000001,
            "count": 0
           },
           {
            "bin_start": 0.6000000000000001,
            "bin_end": 1,
            "count": 0
           },
           {
            "bin_start": 1,
            "bin_end": 1.4000000000000004,
            "count": 1
           },
           {
            "bin_start": 1.4000000000000004,
            "bin_end": 1.8000000000000003,
            "count": 0
           },
           {
            "bin_start": 1.8000000000000003,
            "bin_end": 2.2,
            "count": 0
           },
           {
            "bin_start": 2.2,
            "bin_end": 2.6,
            "count": 0
           },
           {
            "bin_start": 2.6,
            "bin_end": 3,
            "count": 1
           }
          ]
         }
        },
        {
         "name": "normalized-losses",
         "dtype": "int64",
         "stats": {
          "unique_count": 3,
          "nan_count": 0,
          "min": "95",
          "max": "125",
          "histogram": [
           {
            "bin_start": 95,
            "bin_end": 98,
            "count": 1
           },
           {
            "bin_start": 98,
            "bin_end": 101,
            "count": 0
           },
           {
            "bin_start": 101,
            "bin_end": 104,
            "count": 0
           },
           {
            "bin_start": 104,
            "bin_end": 107,
            "count": 0
           },
           {
            "bin_start": 107,
            "bin_end": 110,
            "count": 0
           },
           {
            "bin_start": 110,
            "bin_end": 113,
            "count": 0
           },
           {
            "bin_start": 113,
            "bin_end": 116,
            "count": 0
           },
           {
            "bin_start": 116,
            "bin_end": 119,
            "count": 0
           },
           {
            "bin_start": 119,
            "bin_end": 122,
            "count": 0
           },
           {
            "bin_start": 122,
            "bin_end": 125,
            "count": 2
           }
          ]
         }
        },
        {
         "name": "make",
         "dtype": "object",
         "stats": {
          "unique_count": 3,
          "nan_count": 0,
          "categories": [
           {
            "name": "volvo",
            "count": 1
           },
           {
            "name": "mitsubishi",
            "count": 1
           },
           {
            "name": "alfa-romero",
            "count": 1
           }
          ]
         }
        },
        {
         "name": "aspiration",
         "dtype": "object",
         "stats": {
          "unique_count": 1,
          "nan_count": 0,
          "categories": [
           {
            "name": "std",
            "count": 3
           }
          ]
         }
        },
        {
         "name": "num-of-doors",
         "dtype": "object",
         "stats": {
          "unique_count": 2,
          "nan_count": 0,
          "categories": [
           {
            "name": "four",
            "count": 2
           },
           {
            "name": "two",
            "count": 1
           }
          ]
         }
        },
        {
         "name": "body-style",
         "dtype": "object",
         "stats": {
          "unique_count": 2,
          "nan_count": 0,
          "categories": [
           {
            "name": "sedan",
            "count": 2
           },
           {
            "name": "convertible",
            "count": 1
           }
          ]
         }
        },
        {
         "name": "drive-wheels",
         "dtype": "object",
         "stats": {
          "unique_count": 2,
          "nan_count": 0,
          "categories": [
           {
            "name": "rwd",
            "count": 2
           },
           {
            "name": "fwd",
            "count": 1
           }
          ]
         }
        },
        {
         "name": "engine-location",
         "dtype": "object",
         "stats": {
          "unique_count": 1,
          "nan_count": 0,
          "categories": [
           {
            "name": "front",
            "count": 3
           }
          ]
         }
        },
        {
         "name": "wheel-base",
         "dtype": "float64",
         "stats": {
          "unique_count": 3,
          "nan_count": 0,
          "min": "88.6",
          "max": "109.1",
          "histogram": [
           {
            "bin_start": 88.6,
            "bin_end": 90.64999999999999,
            "count": 1
           },
           {
            "bin_start": 90.64999999999999,
            "bin_end": 92.69999999999999,
            "count": 0
           },
           {
            "bin_start": 92.69999999999999,
            "bin_end": 94.75,
            "count": 0
           },
           {
            "bin_start": 94.75,
            "bin_end": 96.8,
            "count": 1
           },
           {
            "bin_start": 96.8,
            "bin_end": 98.85,
            "count": 0
           },
           {
            "bin_start": 98.85,
            "bin_end": 100.89999999999999,
            "count": 0
           },
           {
            "bin_start": 100.89999999999999,
            "bin_end": 102.94999999999999,
            "count": 0
           },
           {
            "bin_start": 102.94999999999999,
            "bin_end": 105,
            "count": 0
           },
           {
            "bin_start": 105,
            "bin_end": 107.05,
            "count": 0
           },
           {
            "bin_start": 107.05,
            "bin_end": 109.1,
            "count": 1
           }
          ]
         }
        },
        {
         "name": "length",
         "dtype": "float64",
         "stats": {
          "unique_count": 3,
          "nan_count": 0,
          "min": "0.8111484863046613",
          "max": "0.9072561268620856",
          "histogram": [
           {
            "bin_start": 0.8111484863046613,
            "bin_end": 0.8207592503604038,
            "count": 1
           },
           {
            "bin_start": 0.8207592503604038,
            "bin_end": 0.8303700144161461,
            "count": 1
           },
           {
            "bin_start": 0.8303700144161461,
            "bin_end": 0.8399807784718886,
            "count": 0
           },
           {
            "bin_start": 0.8399807784718886,
            "bin_end": 0.849591542527631,
            "count": 0
           },
           {
            "bin_start": 0.849591542527631,
            "bin_end": 0.8592023065833734,
            "count": 0
           },
           {
            "bin_start": 0.8592023065833734,
            "bin_end": 0.8688130706391158,
            "count": 0
           },
           {
            "bin_start": 0.8688130706391158,
            "bin_end": 0.8784238346948583,
            "count": 0
           },
           {
            "bin_start": 0.8784238346948583,
            "bin_end": 0.8880345987506008,
            "count": 0
           },
           {
            "bin_start": 0.8880345987506008,
            "bin_end": 0.8976453628063431,
            "count": 0
           },
           {
            "bin_start": 0.8976453628063431,
            "bin_end": 0.9072561268620856,
            "count": 1
           }
          ]
         }
        },
        {
         "name": "width",
         "dtype": "float64",
         "stats": {
          "unique_count": 3,
          "nan_count": 0,
          "min": "0.8902777777777777",
          "max": "0.9569444444444444",
          "histogram": [
           {
            "bin_start": 0.8902777777777777,
            "bin_end": 0.8969444444444444,
            "count": 1
           },
           {
            "bin_start": 0.8969444444444444,
            "bin_end": 0.903611111111111,
            "count": 0
           },
           {
            "bin_start": 0.903611111111111,
            "bin_end": 0.9102777777777777,
            "count": 1
           },
           {
            "bin_start": 0.9102777777777777,
            "bin_end": 0.9169444444444443,
            "count": 0
           },
           {
            "bin_start": 0.9169444444444443,
            "bin_end": 0.923611111111111,
            "count": 0
           },
           {
            "bin_start": 0.923611111111111,
            "bin_end": 0.9302777777777778,
            "count": 0
           },
           {
            "bin_start": 0.9302777777777778,
            "bin_end": 0.9369444444444444,
            "count": 0
           },
           {
            "bin_start": 0.9369444444444444,
            "bin_end": 0.9436111111111111,
            "count": 0
           },
           {
            "bin_start": 0.9436111111111111,
            "bin_end": 0.9502777777777777,
            "count": 0
           },
           {
            "bin_start": 0.9502777777777777,
            "bin_end": 0.9569444444444444,
            "count": 1
           }
          ]
         }
        },
        {
         "name": "height",
         "dtype": "float64",
         "stats": {
          "unique_count": 3,
          "nan_count": 0,
          "min": "0.8160535117056856",
          "max": "0.92809364548495",
          "histogram": [
           {
            "bin_start": 0.8160535117056856,
            "bin_end": 0.827257525083612,
            "count": 1
           },
           {
            "bin_start": 0.827257525083612,
            "bin_end": 0.8384615384615385,
            "count": 0
           },
           {
            "bin_start": 0.8384615384615385,
            "bin_end": 0.8496655518394649,
            "count": 0
           },
           {
            "bin_start": 0.8496655518394649,
            "bin_end": 0.8608695652173913,
            "count": 0
           },
           {
            "bin_start": 0.8608695652173913,
            "bin_end": 0.8720735785953178,
            "count": 1
           },
           {
            "bin_start": 0.8720735785953178,
            "bin_end": 0.8832775919732443,
            "count": 0
           },
           {
            "bin_start": 0.8832775919732443,
            "bin_end": 0.8944816053511707,
            "count": 0
           },
           {
            "bin_start": 0.8944816053511707,
            "bin_end": 0.9056856187290971,
            "count": 0
           },
           {
            "bin_start": 0.9056856187290971,
            "bin_end": 0.9168896321070236,
            "count": 0
           },
           {
            "bin_start": 0.9168896321070236,
            "bin_end": 0.92809364548495,
            "count": 1
           }
          ]
         }
        },
        {
         "name": "curb-weight",
         "dtype": "int64",
         "stats": {
          "unique_count": 3,
          "nan_count": 0,
          "min": "2405",
          "max": "2952",
          "histogram": [
           {
            "bin_start": 2405,
            "bin_end": 2459.7,
            "count": 1
           },
           {
            "bin_start": 2459.7,
            "bin_end": 2514.4,
            "count": 0
           },
           {
            "bin_start": 2514.4,
            "bin_end": 2569.1,
            "count": 1
           },
           {
            "bin_start": 2569.1,
            "bin_end": 2623.8,
            "count": 0
           },
           {
            "bin_start": 2623.8,
            "bin_end": 2678.5,
            "count": 0
           },
           {
            "bin_start": 2678.5,
            "bin_end": 2733.2,
            "count": 0
           },
           {
            "bin_start": 2733.2,
            "bin_end": 2787.9,
            "count": 0
           },
           {
            "bin_start": 2787.9,
            "bin_end": 2842.6,
            "count": 0
           },
           {
            "bin_start": 2842.6,
            "bin_end": 2897.3,
            "count": 0
           },
           {
            "bin_start": 2897.3,
            "bin_end": 2952,
            "count": 1
           }
          ]
         }
        },
        {
         "name": "engine-type",
         "dtype": "object",
         "stats": {
          "unique_count": 2,
          "nan_count": 0,
          "categories": [
           {
            "name": "ohc",
            "count": 2
           },
           {
            "name": "dohc",
            "count": 1
           }
          ]
         }
        },
        {
         "name": "num-of-cylinders",
         "dtype": "object",
         "stats": {
          "unique_count": 1,
          "nan_count": 0,
          "categories": [
           {
            "name": "four",
            "count": 3
           }
          ]
         }
        },
        {
         "name": "engine-size",
         "dtype": "int64",
         "stats": {
          "unique_count": 3,
          "nan_count": 0,
          "min": "122",
          "max": "141",
          "histogram": [
           {
            "bin_start": 122,
            "bin_end": 123.9,
            "count": 1
           },
           {
            "bin_start": 123.9,
            "bin_end": 125.8,
            "count": 0
           },
           {
            "bin_start": 125.8,
            "bin_end": 127.7,
            "count": 0
           },
           {
            "bin_start": 127.7,
            "bin_end": 129.6,
            "count": 0
           },
           {
            "bin_start": 129.6,
            "bin_end": 131.5,
            "count": 1
           },
           {
            "bin_start": 131.5,
            "bin_end": 133.4,
            "count": 0
           },
           {
            "bin_start": 133.4,
            "bin_end": 135.3,
            "count": 0
           },
           {
            "bin_start": 135.3,
            "bin_end": 137.2,
            "count": 0
           },
           {
            "bin_start": 137.2,
            "bin_end": 139.1,
            "count": 0
           },
           {
            "bin_start": 139.1,
            "bin_end": 141,
            "count": 1
           }
          ]
         }
        },
        {
         "name": "fuel-system",
         "dtype": "object",
         "stats": {
          "unique_count": 2,
          "nan_count": 0,
          "categories": [
           {
            "name": "mpfi",
            "count": 2
           },
           {
            "name": "2bbl",
            "count": 1
           }
          ]
         }
        },
        {
         "name": "bore",
         "dtype": "float64",
         "stats": {
          "unique_count": 3,
          "nan_count": 0,
          "min": "3.35",
          "max": "3.78",
          "histogram": [
           {
            "bin_start": 3.35,
            "bin_end": 3.3930000000000002,
            "count": 1
           },
           {
            "bin_start": 3.3930000000000002,
            "bin_end": 3.436,
            "count": 0
           },
           {
            "bin_start": 3.436,
            "bin_end": 3.479,
            "count": 1
           },
           {
            "bin_start": 3.479,
            "bin_end": 3.522,
            "count": 0
           },
           {
            "bin_start": 3.522,
            "bin_end": 3.565,
            "count": 0
           },
           {
            "bin_start": 3.565,
            "bin_end": 3.6079999999999997,
            "count": 0
           },
           {
            "bin_start": 3.6079999999999997,
            "bin_end": 3.651,
            "count": 0
           },
           {
            "bin_start": 3.651,
            "bin_end": 3.694,
            "count": 0
           },
           {
            "bin_start": 3.694,
            "bin_end": 3.7369999999999997,
            "count": 0
           },
           {
            "bin_start": 3.7369999999999997,
            "bin_end": 3.78,
            "count": 1
           }
          ]
         }
        },
        {
         "name": "stroke",
         "dtype": "float64",
         "stats": {
          "unique_count": 3,
          "nan_count": 0,
          "min": "2.68",
          "max": "3.46",
          "histogram": [
           {
            "bin_start": 2.68,
            "bin_end": 2.758,
            "count": 1
           },
           {
            "bin_start": 2.758,
            "bin_end": 2.8360000000000003,
            "count": 0
           },
           {
            "bin_start": 2.8360000000000003,
            "bin_end": 2.914,
            "count": 0
           },
           {
            "bin_start": 2.914,
            "bin_end": 2.992,
            "count": 0
           },
           {
            "bin_start": 2.992,
            "bin_end": 3.0700000000000003,
            "count": 0
           },
           {
            "bin_start": 3.0700000000000003,
            "bin_end": 3.148,
            "count": 0
           },
           {
            "bin_start": 3.148,
            "bin_end": 3.226,
            "count": 1
           },
           {
            "bin_start": 3.226,
            "bin_end": 3.3040000000000003,
            "count": 0
           },
           {
            "bin_start": 3.3040000000000003,
            "bin_end": 3.382,
            "count": 0
           },
           {
            "bin_start": 3.382,
            "bin_end": 3.46,
            "count": 1
           }
          ]
         }
        },
        {
         "name": "compression-ratio",
         "dtype": "float64",
         "stats": {
          "unique_count": 3,
          "nan_count": 0,
          "min": "8.5",
          "max": "9.5",
          "histogram": [
           {
            "bin_start": 8.5,
            "bin_end": 8.6,
            "count": 1
           },
           {
            "bin_start": 8.6,
            "bin_end": 8.7,
            "count": 0
           },
           {
            "bin_start": 8.7,
            "bin_end": 8.8,
            "count": 0
           },
           {
            "bin_start": 8.8,
            "bin_end": 8.9,
            "count": 0
           },
           {
            "bin_start": 8.9,
            "bin_end": 9,
            "count": 0
           },
           {
            "bin_start": 9,
            "bin_end": 9.1,
            "count": 1
           },
           {
            "bin_start": 9.1,
            "bin_end": 9.2,
            "count": 0
           },
           {
            "bin_start": 9.2,
            "bin_end": 9.3,
            "count": 0
           },
           {
            "bin_start": 9.3,
            "bin_end": 9.4,
            "count": 0
           },
           {
            "bin_start": 9.4,
            "bin_end": 9.5,
            "count": 1
           }
          ]
         }
        },
        {
         "name": "horsepower",
         "dtype": "int64",
         "stats": {
          "unique_count": 3,
          "nan_count": 0,
          "min": "88",
          "max": "114",
          "histogram": [
           {
            "bin_start": 88,
            "bin_end": 90.6,
            "count": 1
           },
           {
            "bin_start": 90.6,
            "bin_end": 93.2,
            "count": 0
           },
           {
            "bin_start": 93.2,
            "bin_end": 95.8,
            "count": 0
           },
           {
            "bin_start": 95.8,
            "bin_end": 98.4,
            "count": 0
           },
           {
            "bin_start": 98.4,
            "bin_end": 101,
            "count": 0
           },
           {
            "bin_start": 101,
            "bin_end": 103.6,
            "count": 0
           },
           {
            "bin_start": 103.6,
            "bin_end": 106.2,
            "count": 0
           },
           {
            "bin_start": 106.2,
            "bin_end": 108.8,
            "count": 0
           },
           {
            "bin_start": 108.8,
            "bin_end": 111.4,
            "count": 1
           },
           {
            "bin_start": 111.4,
            "bin_end": 114,
            "count": 1
           }
          ]
         }
        },
        {
         "name": "peak-rpm",
         "dtype": "float64",
         "stats": {
          "unique_count": 2,
          "nan_count": 0,
          "min": "5000.0",
          "max": "5400.0",
          "histogram": [
           {
            "bin_start": 5000,
            "bin_end": 5040,
            "count": 2
           },
           {
            "bin_start": 5040,
            "bin_end": 5080,
            "count": 0
           },
           {
            "bin_start": 5080,
            "bin_end": 5120,
            "count": 0
           },
           {
            "bin_start": 5120,
            "bin_end": 5160,
            "count": 0
           },
           {
            "bin_start": 5160,
            "bin_end": 5200,
            "count": 0
           },
           {
            "bin_start": 5200,
            "bin_end": 5240,
            "count": 0
           },
           {
            "bin_start": 5240,
            "bin_end": 5280,
            "count": 0
           },
           {
            "bin_start": 5280,
            "bin_end": 5320,
            "count": 0
           },
           {
            "bin_start": 5320,
            "bin_end": 5360,
            "count": 0
           },
           {
            "bin_start": 5360,
            "bin_end": 5400,
            "count": 1
           }
          ]
         }
        },
        {
         "name": "city-l/100km",
         "dtype": "float64",
         "stats": {
          "unique_count": 3,
          "nan_count": 0,
          "min": "9.4",
          "max": "11.19047619047619",
          "histogram": [
           {
            "bin_start": 9.4,
            "bin_end": 9.57904761904762,
            "count": 1
           },
           {
            "bin_start": 9.57904761904762,
            "bin_end": 9.758095238095239,
            "count": 0
           },
           {
            "bin_start": 9.758095238095239,
            "bin_end": 9.937142857142858,
            "count": 0
           },
           {
            "bin_start": 9.937142857142858,
            "bin_end": 10.116190476190477,
            "count": 0
           },
           {
            "bin_start": 10.116190476190477,
            "bin_end": 10.295238095238094,
            "count": 1
           },
           {
            "bin_start": 10.295238095238094,
            "bin_end": 10.474285714285713,
            "count": 0
           },
           {
            "bin_start": 10.474285714285713,
            "bin_end": 10.653333333333332,
            "count": 0
           },
           {
            "bin_start": 10.653333333333332,
            "bin_end": 10.832380952380952,
            "count": 0
           },
           {
            "bin_start": 10.832380952380952,
            "bin_end": 11.01142857142857,
            "count": 0
           },
           {
            "bin_start": 11.01142857142857,
            "bin_end": 11.19047619047619,
            "count": 1
           }
          ]
         }
        },
        {
         "name": "highway-l/100km",
         "dtype": "float64",
         "stats": {
          "unique_count": 3,
          "nan_count": 0,
          "min": "7.34375",
          "max": "8.703703703703704",
          "histogram": [
           {
            "bin_start": 7.34375,
            "bin_end": 7.47974537037037,
            "count": 1
           },
           {
            "bin_start": 7.47974537037037,
            "bin_end": 7.6157407407407405,
            "count": 0
           },
           {
            "bin_start": 7.6157407407407405,
            "bin_end": 7.751736111111112,
            "count": 0
           },
           {
            "bin_start": 7.751736111111112,
            "bin_end": 7.887731481481482,
            "count": 0
           },
           {
            "bin_start": 7.887731481481482,
            "bin_end": 8.023726851851851,
            "count": 0
           },
           {
            "bin_start": 8.023726851851851,
            "bin_end": 8.159722222222223,
            "count": 0
           },
           {
            "bin_start": 8.159722222222223,
            "bin_end": 8.295717592592593,
            "count": 0
           },
           {
            "bin_start": 8.295717592592593,
            "bin_end": 8.431712962962964,
            "count": 1
           },
           {
            "bin_start": 8.431712962962964,
            "bin_end": 8.567708333333334,
            "count": 0
           },
           {
            "bin_start": 8.567708333333334,
            "bin_end": 8.703703703703704,
            "count": 1
           }
          ]
         }
        },
        {
         "name": "price",
         "dtype": "float64",
         "stats": {
          "unique_count": 3,
          "nan_count": 0,
          "min": "8189.0",
          "max": "16845.0",
          "histogram": [
           {
            "bin_start": 8189,
            "bin_end": 9054.6,
            "count": 1
           },
           {
            "bin_start": 9054.6,
            "bin_end": 9920.2,
            "count": 0
           },
           {
            "bin_start": 9920.2,
            "bin_end": 10785.8,
            "count": 0
           },
           {
            "bin_start": 10785.8,
            "bin_end": 11651.4,
            "count": 0
           },
           {
            "bin_start": 11651.4,
            "bin_end": 12517,
            "count": 0
           },
           {
            "bin_start": 12517,
            "bin_end": 13382.6,
            "count": 0
           },
           {
            "bin_start": 13382.6,
            "bin_end": 14248.2,
            "count": 0
           },
           {
            "bin_start": 14248.2,
            "bin_end": 15113.8,
            "count": 0
           },
           {
            "bin_start": 15113.8,
            "bin_end": 15979.400000000001,
            "count": 0
           },
           {
            "bin_start": 15979.400000000001,
            "bin_end": 16845,
            "count": 2
           }
          ]
         }
        },
        {
         "name": "horsepower_binned",
         "dtype": "object",
         "stats": {
          "unique_count": 1,
          "nan_count": 0,
          "categories": [
           {
            "name": "Low",
            "count": 3
           }
          ]
         }
        },
        {
         "name": "fuel_type_diesel",
         "dtype": "int64",
         "stats": {
          "unique_count": 1,
          "nan_count": 0,
          "min": "0",
          "max": "0",
          "histogram": [
           {
            "bin_start": -0.5,
            "bin_end": -0.4,
            "count": 0
           },
           {
            "bin_start": -0.4,
            "bin_end": -0.3,
            "count": 0
           },
           {
            "bin_start": -0.3,
            "bin_end": -0.19999999999999996,
            "count": 0
           },
           {
            "bin_start": -0.19999999999999996,
            "bin_end": -0.09999999999999998,
            "count": 0
           },
           {
            "bin_start": -0.09999999999999998,
            "bin_end": 0,
            "count": 0
           },
           {
            "bin_start": 0,
            "bin_end": 0.10000000000000009,
            "count": 3
           },
           {
            "bin_start": 0.10000000000000009,
            "bin_end": 0.20000000000000007,
            "count": 0
           },
           {
            "bin_start": 0.20000000000000007,
            "bin_end": 0.30000000000000004,
            "count": 0
           },
           {
            "bin_start": 0.30000000000000004,
            "bin_end": 0.4,
            "count": 0
           },
           {
            "bin_start": 0.4,
            "bin_end": 0.5,
            "count": 0
           }
          ]
         }
        },
        {
         "name": "fuel_type_gas",
         "dtype": "int64",
         "stats": {
          "unique_count": 1,
          "nan_count": 0,
          "min": "1",
          "max": "1",
          "histogram": [
           {
            "bin_start": 0.5,
            "bin_end": 0.6,
            "count": 0
           },
           {
            "bin_start": 0.6,
            "bin_end": 0.7,
            "count": 0
           },
           {
            "bin_start": 0.7,
            "bin_end": 0.8,
            "count": 0
           },
           {
            "bin_start": 0.8,
            "bin_end": 0.9,
            "count": 0
           },
           {
            "bin_start": 0.9,
            "bin_end": 1,
            "count": 0
           },
           {
            "bin_start": 1,
            "bin_end": 1.1,
            "count": 3
           },
           {
            "bin_start": 1.1,
            "bin_end": 1.2000000000000002,
            "count": 0
           },
           {
            "bin_start": 1.2000000000000002,
            "bin_end": 1.3,
            "count": 0
           },
           {
            "bin_start": 1.3,
            "bin_end": 1.4,
            "count": 0
           },
           {
            "bin_start": 1.4,
            "bin_end": 1.5,
            "count": 0
           }
          ]
         }
        },
        {
         "name": "_deepnote_index_column",
         "dtype": "int64"
        }
       ],
       "rows": [
        {
         "symboling": -1,
         "normalized-losses": 95,
         "make": "volvo",
         "aspiration": "std",
         "num-of-doors": "four",
         "body-style": "sedan",
         "drive-wheels": "rwd",
         "engine-location": "front",
         "wheel-base": 109.1,
         "length": 0.9072561268620856,
         "width": 0.9569444444444444,
         "height": 0.92809364548495,
         "curb-weight": 2952,
         "engine-type": "ohc",
         "num-of-cylinders": "four",
         "engine-size": 141,
         "fuel-system": "mpfi",
         "bore": 3.78,
         "stroke": 3.15,
         "compression-ratio": 9.5,
         "horsepower": 114,
         "peak-rpm": 5400,
         "city-l/100km": 10.217391304347826,
         "highway-l/100km": 8.392857142857142,
         "price": 16845,
         "horsepower_binned": "Low",
         "fuel_type_diesel": 0,
         "fuel_type_gas": 1,
         "_deepnote_index_column": 196
        },
        {
         "symboling": 1,
         "normalized-losses": 125,
         "make": "mitsubishi",
         "aspiration": "std",
         "num-of-doors": "four",
         "body-style": "sedan",
         "drive-wheels": "fwd",
         "engine-location": "front",
         "wheel-base": 96.3,
         "length": 0.8284478616049976,
         "width": 0.9083333333333334,
         "height": 0.8628762541806021,
         "curb-weight": 2405,
         "engine-type": "ohc",
         "num-of-cylinders": "four",
         "engine-size": 122,
         "fuel-system": "2bbl",
         "bore": 3.35,
         "stroke": 3.46,
         "compression-ratio": 8.5,
         "horsepower": 88,
         "peak-rpm": 5000,
         "city-l/100km": 9.4,
         "highway-l/100km": 7.34375,
         "price": 8189,
         "horsepower_binned": "Low",
         "fuel_type_diesel": 0,
         "fuel_type_gas": 1,
         "_deepnote_index_column": 83
        },
        {
         "symboling": 3,
         "normalized-losses": 122,
         "make": "alfa-romero",
         "aspiration": "std",
         "num-of-doors": "two",
         "body-style": "convertible",
         "drive-wheels": "rwd",
         "engine-location": "front",
         "wheel-base": 88.6,
         "length": 0.8111484863046613,
         "width": 0.8902777777777777,
         "height": 0.8160535117056856,
         "curb-weight": 2548,
         "engine-type": "dohc",
         "num-of-cylinders": "four",
         "engine-size": 130,
         "fuel-system": "mpfi",
         "bore": 3.47,
         "stroke": 2.68,
         "compression-ratio": 9,
         "horsepower": 111,
         "peak-rpm": 5000,
         "city-l/100km": 11.19047619047619,
         "highway-l/100km": 8.703703703703704,
         "price": 16500,
         "horsepower_binned": "Low",
         "fuel_type_diesel": 0,
         "fuel_type_gas": 1,
         "_deepnote_index_column": 1
        }
       ]
      },
      "text/plain": "     symboling  normalized-losses         make aspiration num-of-doors  \\\n196         -1                 95        volvo        std         four   \n83           1                125   mitsubishi        std         four   \n1            3                122  alfa-romero        std          two   \n\n      body-style drive-wheels engine-location  wheel-base  length  ...  \\\n196        sedan          rwd           front     109.100   0.907  ...   \n83         sedan          fwd           front      96.300   0.828  ...   \n1    convertible          rwd           front      88.600   0.811  ...   \n\n     stroke  compression-ratio  horsepower  peak-rpm city-l/100km  \\\n196   3.150              9.500         114 5,400.000       10.217   \n83    3.460              8.500          88 5,000.000        9.400   \n1     2.680              9.000         111 5,000.000       11.190   \n\n     highway-l/100km      price  horsepower_binned  fuel_type_diesel  \\\n196            8.393 16,845.000                Low                 0   \n83             7.344  8,189.000                Low                 0   \n1              8.704 16,500.000                Low                 0   \n\n     fuel_type_gas  \n196              1  \n83               1  \n1                1  \n\n[3 rows x 28 columns]",
      "text/html": "<div>\n<style scoped>\n    .dataframe tbody tr th:only-of-type {\n        vertical-align: middle;\n    }\n\n    .dataframe tbody tr th {\n        vertical-align: top;\n    }\n\n    .dataframe thead th {\n        text-align: right;\n    }\n</style>\n<table border=\"1\" class=\"dataframe\">\n  <thead>\n    <tr style=\"text-align: right;\">\n      <th></th>\n      <th>symboling</th>\n      <th>normalized-losses</th>\n      <th>make</th>\n      <th>aspiration</th>\n      <th>num-of-doors</th>\n      <th>body-style</th>\n      <th>drive-wheels</th>\n      <th>engine-location</th>\n      <th>wheel-base</th>\n      <th>length</th>\n      <th>...</th>\n      <th>stroke</th>\n      <th>compression-ratio</th>\n      <th>horsepower</th>\n      <th>peak-rpm</th>\n      <th>city-l/100km</th>\n      <th>highway-l/100km</th>\n      <th>price</th>\n      <th>horsepower_binned</th>\n      <th>fuel_type_diesel</th>\n      <th>fuel_type_gas</th>\n    </tr>\n  </thead>\n  <tbody>\n    <tr>\n      <th>196</th>\n      <td>-1</td>\n      <td>95</td>\n      <td>volvo</td>\n      <td>std</td>\n      <td>four</td>\n      <td>sedan</td>\n      <td>rwd</td>\n      <td>front</td>\n      <td>109.100</td>\n      <td>0.907</td>\n      <td>...</td>\n      <td>3.150</td>\n      <td>9.500</td>\n      <td>114</td>\n      <td>5,400.000</td>\n      <td>10.217</td>\n      <td>8.393</td>\n      <td>16,845.000</td>\n      <td>Low</td>\n      <td>0</td>\n      <td>1</td>\n    </tr>\n    <tr>\n      <th>83</th>\n      <td>1</td>\n      <td>125</td>\n      <td>mitsubishi</td>\n      <td>std</td>\n      <td>four</td>\n      <td>sedan</td>\n      <td>fwd</td>\n      <td>front</td>\n      <td>96.300</td>\n      <td>0.828</td>\n      <td>...</td>\n      <td>3.460</td>\n      <td>8.500</td>\n      <td>88</td>\n      <td>5,000.000</td>\n      <td>9.400</td>\n      <td>7.344</td>\n      <td>8,189.000</td>\n      <td>Low</td>\n      <td>0</td>\n      <td>1</td>\n    </tr>\n    <tr>\n      <th>1</th>\n      <td>3</td>\n      <td>122</td>\n      <td>alfa-romero</td>\n      <td>std</td>\n      <td>two</td>\n      <td>convertible</td>\n      <td>rwd</td>\n      <td>front</td>\n      <td>88.600</td>\n      <td>0.811</td>\n      <td>...</td>\n      <td>2.680</td>\n      <td>9.000</td>\n      <td>111</td>\n      <td>5,000.000</td>\n      <td>11.190</td>\n      <td>8.704</td>\n      <td>16,500.000</td>\n      <td>Low</td>\n      <td>0</td>\n      <td>1</td>\n    </tr>\n  </tbody>\n</table>\n<p>3 rows × 28 columns</p>\n</div>"
     },
     "metadata": {}
    }
   ],
   "execution_count": 24
  },
  {
   "cell_type": "markdown",
   "source": "### engine-size: coefficient - p_value",
   "metadata": {
    "cell_id": "dc94e531-60fd-4ae0-87eb-4c5b624de1bb",
    "tags": [],
    "deepnote_cell_type": "markdown"
   }
  },
  {
   "cell_type": "code",
   "metadata": {
    "cell_id": "7679c3c3-42cb-493e-97e9-0807ef672449",
    "tags": [],
    "deepnote_to_be_reexecuted": false,
    "source_hash": "aefcc6cc",
    "execution_start": 1646235079094,
    "execution_millis": 4,
    "deepnote_cell_type": "code"
   },
   "source": "coeff, p_value = stats.pearsonr(x = df_cars['engine-size'], y = df_cars['price'])\nprint('Correlation Coefficient: {} and P-Value: {}'.format(coeff, p_value))",
   "execution_count": 27,
   "outputs": [
    {
     "name": "stdout",
     "text": "Correlation Coefficient: 0.8723351674455185 and P-Value: 9.265491622198389e-64\n",
     "output_type": "stream"
    }
   ]
  },
  {
   "cell_type": "markdown",
   "source": "### curb-weight: coefficient - p_value",
   "metadata": {
    "cell_id": "773ff5b9-9682-4d2f-b0f9-9d614ca1d75a",
    "tags": [],
    "deepnote_cell_type": "markdown"
   }
  },
  {
   "cell_type": "code",
   "source": "coeff, p_value = stats.pearsonr(df_cars['curb-weight'], df_cars['price'])\nprint('Correlation Coefficient: {} and P-Value: {}'.format(coeff, p_value))",
   "metadata": {
    "cell_id": "59f16b08-585e-4947-b781-48edd3efae24",
    "tags": [],
    "deepnote_to_be_reexecuted": false,
    "source_hash": "23bc9956",
    "execution_start": 1646235132573,
    "execution_millis": 5,
    "deepnote_cell_type": "code"
   },
   "outputs": [
    {
     "name": "stdout",
     "text": "Correlation Coefficient: 0.8344145257702843 and P-Value: 2.189577238894065e-53\n",
     "output_type": "stream"
    }
   ],
   "execution_count": 29
  },
  {
   "cell_type": "markdown",
   "source": "# ANOVA = Variance Analysis",
   "metadata": {
    "cell_id": "e138ad33-d414-4989-9e60-4800c96149bb",
    "tags": [],
    "deepnote_cell_type": "markdown"
   }
  },
  {
   "cell_type": "code",
   "source": "grouped_test2=df_cars[['drive-wheels', 'price']].groupby(['drive-wheels'])\ngrouped_test2.head(2)",
   "metadata": {
    "cell_id": "440110a6-4b85-48c5-9de5-3605f771562c",
    "tags": [],
    "deepnote_to_be_reexecuted": false,
    "source_hash": "bce37017",
    "execution_start": 1646235444602,
    "execution_millis": 254,
    "deepnote_cell_type": "code"
   },
   "outputs": [
    {
     "output_type": "execute_result",
     "execution_count": 30,
     "data": {
      "application/vnd.deepnote.dataframe.v3+json": {
       "column_count": 2,
       "row_count": 6,
       "columns": [
        {
         "name": "drive-wheels",
         "dtype": "object",
         "stats": {
          "unique_count": 3,
          "nan_count": 0,
          "categories": [
           {
            "name": "rwd",
            "count": 2
           },
           {
            "name": "fwd",
            "count": 2
           },
           {
            "name": "4wd",
            "count": 2
           }
          ]
         }
        },
        {
         "name": "price",
         "dtype": "float64",
         "stats": {
          "unique_count": 6,
          "nan_count": 0,
          "min": "7603.0",
          "max": "17450.0",
          "histogram": [
           {
            "bin_start": 7603,
            "bin_end": 8587.7,
            "count": 1
           },
           {
            "bin_start": 8587.7,
            "bin_end": 9572.4,
            "count": 0
           },
           {
            "bin_start": 9572.4,
            "bin_end": 10557.1,
            "count": 0
           },
           {
            "bin_start": 10557.1,
            "bin_end": 11541.8,
            "count": 0
           },
           {
            "bin_start": 11541.8,
            "bin_end": 12526.5,
            "count": 0
           },
           {
            "bin_start": 12526.5,
            "bin_end": 13511.2,
            "count": 1
           },
           {
            "bin_start": 13511.2,
            "bin_end": 14495.900000000001,
            "count": 1
           },
           {
            "bin_start": 14495.900000000001,
            "bin_end": 15480.6,
            "count": 1
           },
           {
            "bin_start": 15480.6,
            "bin_end": 16465.300000000003,
            "count": 0
           },
           {
            "bin_start": 16465.300000000003,
            "bin_end": 17450,
            "count": 2
           }
          ]
         }
        },
        {
         "name": "_deepnote_index_column",
         "dtype": "int64"
        }
       ],
       "rows": [
        {
         "drive-wheels": "rwd",
         "price": 13495,
         "_deepnote_index_column": 0
        },
        {
         "drive-wheels": "rwd",
         "price": 16500,
         "_deepnote_index_column": 1
        },
        {
         "drive-wheels": "fwd",
         "price": 13950,
         "_deepnote_index_column": 3
        },
        {
         "drive-wheels": "4wd",
         "price": 17450,
         "_deepnote_index_column": 4
        },
        {
         "drive-wheels": "fwd",
         "price": 15250,
         "_deepnote_index_column": 5
        },
        {
         "drive-wheels": "4wd",
         "price": 7603,
         "_deepnote_index_column": 136
        }
       ]
      },
      "text/plain": "    drive-wheels      price\n0            rwd 13,495.000\n1            rwd 16,500.000\n3            fwd 13,950.000\n4            4wd 17,450.000\n5            fwd 15,250.000\n136          4wd  7,603.000",
      "text/html": "<div>\n<style scoped>\n    .dataframe tbody tr th:only-of-type {\n        vertical-align: middle;\n    }\n\n    .dataframe tbody tr th {\n        vertical-align: top;\n    }\n\n    .dataframe thead th {\n        text-align: right;\n    }\n</style>\n<table border=\"1\" class=\"dataframe\">\n  <thead>\n    <tr style=\"text-align: right;\">\n      <th></th>\n      <th>drive-wheels</th>\n      <th>price</th>\n    </tr>\n  </thead>\n  <tbody>\n    <tr>\n      <th>0</th>\n      <td>rwd</td>\n      <td>13,495.000</td>\n    </tr>\n    <tr>\n      <th>1</th>\n      <td>rwd</td>\n      <td>16,500.000</td>\n    </tr>\n    <tr>\n      <th>3</th>\n      <td>fwd</td>\n      <td>13,950.000</td>\n    </tr>\n    <tr>\n      <th>4</th>\n      <td>4wd</td>\n      <td>17,450.000</td>\n    </tr>\n    <tr>\n      <th>5</th>\n      <td>fwd</td>\n      <td>15,250.000</td>\n    </tr>\n    <tr>\n      <th>136</th>\n      <td>4wd</td>\n      <td>7,603.000</td>\n    </tr>\n  </tbody>\n</table>\n</div>"
     },
     "metadata": {}
    }
   ],
   "execution_count": 30
  },
  {
   "cell_type": "code",
   "source": "grouped_test2.get_group('4wd')['price']",
   "metadata": {
    "cell_id": "ab79652c-1887-48c7-857f-759c703bc1df",
    "tags": [],
    "deepnote_to_be_reexecuted": false,
    "source_hash": "cd627bdb",
    "execution_start": 1646235453003,
    "execution_millis": 13,
    "deepnote_cell_type": "code"
   },
   "outputs": [
    {
     "output_type": "execute_result",
     "execution_count": 31,
     "data": {
      "text/plain": "4     17,450.000\n136    7,603.000\n140    9,233.000\n141   11,259.000\n144    8,013.000\n145   11,694.000\n150    7,898.000\n151    8,778.000\nName: price, dtype: float64"
     },
     "metadata": {}
    }
   ],
   "execution_count": 31
  },
  {
   "cell_type": "code",
   "source": "# ANOVA\nf_val, p_val = stats.f_oneway(grouped_test2.get_group('fwd')['price'], grouped_test2.get_group('rwd')['price'], grouped_test2.get_group('4wd')['price'])  \n \nprint( \"ANOVA results: F=\", f_val, \", P =\", p_val)",
   "metadata": {
    "cell_id": "63c4525b-4bcc-4e21-98d1-7785f1b40507",
    "tags": [],
    "deepnote_to_be_reexecuted": false,
    "source_hash": "5c43aa7f",
    "execution_start": 1646235461119,
    "execution_millis": 6,
    "deepnote_cell_type": "code"
   },
   "outputs": [
    {
     "name": "stdout",
     "text": "ANOVA results: F= 67.95406500780399 , P = 3.3945443577151245e-23\n",
     "output_type": "stream"
    }
   ],
   "execution_count": 32
  },
  {
   "cell_type": "markdown",
   "source": "### fwd and rwd",
   "metadata": {
    "cell_id": "cc128359-6e78-43ec-8a0e-4a6bb87d0ba5",
    "tags": [],
    "deepnote_cell_type": "markdown"
   }
  },
  {
   "cell_type": "code",
   "source": "f_val, p_val = stats.f_oneway(grouped_test2.get_group('fwd')['price'], grouped_test2.get_group('rwd')['price'])  \n \nprint( \"ANOVA results: F=\", f_val, \", P =\", p_val )",
   "metadata": {
    "cell_id": "39d9edc8-7ae8-465a-9dd3-0278dc00c68e",
    "tags": [],
    "deepnote_cell_type": "code"
   },
   "outputs": [],
   "execution_count": null
  },
  {
   "cell_type": "markdown",
   "source": "### 4wd and rwd",
   "metadata": {
    "cell_id": "bd1c8eb6-d950-4234-8e6e-5dc142df561b",
    "tags": [],
    "deepnote_cell_type": "markdown"
   }
  },
  {
   "cell_type": "code",
   "source": "f_val, p_val = stats.f_oneway(grouped_test2.get_group('4wd')['price'], grouped_test2.get_group('rwd')['price'])  \n   \nprint( \"ANOVA results: F=\", f_val, \", P =\", p_val)   ",
   "metadata": {
    "cell_id": "18becd90-2c69-46e8-a894-2ced97536228",
    "tags": [],
    "deepnote_to_be_reexecuted": false,
    "source_hash": "544532bc",
    "execution_start": 1646235524537,
    "execution_millis": 6,
    "deepnote_cell_type": "code"
   },
   "outputs": [
    {
     "name": "stdout",
     "text": "ANOVA results: F= 8.580681368924756 , P = 0.004411492211225333\n",
     "output_type": "stream"
    }
   ],
   "execution_count": 33
  },
  {
   "cell_type": "markdown",
   "source": "### 4wd and fwd",
   "metadata": {
    "cell_id": "5d2021f8-485c-4254-982c-c5732ba11901",
    "tags": [],
    "deepnote_cell_type": "markdown"
   }
  },
  {
   "cell_type": "code",
   "source": "f_val, p_val = stats.f_oneway(grouped_test2.get_group('4wd')['price'], grouped_test2.get_group('fwd')['price'])  \n \nprint(\"ANOVA results: F=\", f_val, \", P =\", p_val)   ",
   "metadata": {
    "cell_id": "69d66f72-1d9b-4868-80b3-c5f1425006bf",
    "tags": [],
    "deepnote_to_be_reexecuted": false,
    "source_hash": "4af2f746",
    "execution_start": 1646235542135,
    "execution_millis": 76,
    "deepnote_cell_type": "code"
   },
   "outputs": [
    {
     "name": "stdout",
     "text": "ANOVA results: F= 0.665465750252303 , P = 0.41620116697845666\n",
     "output_type": "stream"
    }
   ],
   "execution_count": 34
  },
  {
   "cell_type": "markdown",
   "source": "# Conclusions",
   "metadata": {
    "cell_id": "5e7b229b-baac-4163-8ceb-f8760d77cfb5",
    "tags": [],
    "deepnote_cell_type": "markdown"
   }
  },
  {
   "cell_type": "markdown",
   "source": "## Important variables to start the prediction\n\n**Variables numéricas continuas:**\n- Length\n- Width\n- Curb-weight\n- Engine-size\n- Horsepower\n- City-mpg\n- Highway-mpg\n- Wheel-base\n- Bore\n\n**Variables categóricas:**\n- Drive-wheels",
   "metadata": {
    "cell_id": "af884b87-8f4c-4039-a4d4-2a563fc03ce3",
    "tags": [],
    "deepnote_cell_type": "markdown"
   }
  },
  {
   "cell_type": "markdown",
   "source": "",
   "metadata": {
    "cell_id": "deb622f9-01c0-4652-917c-abdf668ccdf0",
    "tags": [],
    "deepnote_cell_type": "markdown"
   }
  },
  {
   "cell_type": "markdown",
   "source": "<a style='text-decoration:none;line-height:16px;display:flex;color:#5B5B62;padding:10px;justify-content:end;' href='https://deepnote.com?utm_source=created-in-deepnote-cell&projectId=fabb4e41-fcd2-4421-bbfb-772986975631' target=\"_blank\">\n<img alt='Created in deepnote.com' style='display:inline;max-height:16px;margin:0px;margin-right:7.5px;' src='data:image/svg+xml;base64,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' > </img>\nCreated in <span style='font-weight:600;margin-left:4px;'>Deepnote</span></a>",
   "metadata": {
    "tags": [],
    "created_in_deepnote_cell": true,
    "deepnote_cell_type": "markdown"
   }
  }
 ],
 "nbformat": 4,
 "nbformat_minor": 2,
 "metadata": {
  "orig_nbformat": 2,
  "deepnote": {
   "is_reactive": false
  },
  "deepnote_notebook_id": "caee9bcb-d004-439c-a553-892c2933eff5",
  "deepnote_execution_queue": []
 }
}