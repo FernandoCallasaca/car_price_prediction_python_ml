{
 "cells": [
  {
   "cell_type": "code",
   "metadata": {
    "tags": [],
    "cell_id": "278c5334-702c-493e-9e6f-969d50305d21",
    "deepnote_to_be_reexecuted": false,
    "source_hash": "cf4ba56c",
    "execution_start": 1645814724342,
    "execution_millis": 3305,
    "deepnote_cell_type": "code"
   },
   "source": "import pandas as pd\nimport numpy as np\nimport matplotlib.pyplot as plt\nimport seaborn as sns\nfrom scipy import stats\n%matplotlib inline\npd.__version__",
   "execution_count": 1,
   "outputs": [
    {
     "output_type": "execute_result",
     "execution_count": 1,
     "data": {
      "text/plain": "'1.2.5'"
     },
     "metadata": {}
    }
   ]
  },
  {
   "cell_type": "code",
   "source": "pd.options.display.float_format = '{:,.3f}'.format\nnp.set_printoptions(precision=3)",
   "metadata": {
    "cell_id": "3aa23ea4-4a72-4b32-b064-f2da7f49dda9",
    "tags": [],
    "deepnote_to_be_reexecuted": false,
    "source_hash": "f26deeaa",
    "execution_start": 1645814876021,
    "execution_millis": 1,
    "deepnote_cell_type": "code"
   },
   "outputs": [],
   "execution_count": 4
  },
  {
   "cell_type": "code",
   "source": "path_file = 'clean_data_car.csv'\npath_file",
   "metadata": {
    "cell_id": "a0a4b58d-f8e9-4cfc-a2d7-65ed7c1d26cc",
    "tags": [],
    "deepnote_to_be_reexecuted": false,
    "source_hash": "7df9a638",
    "execution_start": 1645814760230,
    "execution_millis": 5,
    "deepnote_cell_type": "code"
   },
   "outputs": [
    {
     "output_type": "execute_result",
     "execution_count": 2,
     "data": {
      "text/plain": "'clean_data_car.csv'"
     },
     "metadata": {}
    }
   ],
   "execution_count": 2
  },
  {
   "cell_type": "code",
   "source": "df_cars = pd.read_csv(path_file)\ndf_cars.head()",
   "metadata": {
    "cell_id": "84c09505-7371-409b-aedf-b2d9ccb6fcdf",
    "tags": [],
    "deepnote_to_be_reexecuted": false,
    "source_hash": "de9ddbad",
    "execution_start": 1645814880093,
    "execution_millis": 115,
    "deepnote_cell_type": "code"
   },
   "outputs": [
    {
     "output_type": "execute_result",
     "execution_count": 5,
     "data": {
      "application/vnd.deepnote.dataframe.v3+json": {
       "column_count": 28,
       "row_count": 5,
       "columns": [
        {
         "name": "symboling",
         "dtype": "int64",
         "stats": {
          "unique_count": 3,
          "nan_count": 0,
          "min": "1",
          "max": "3",
          "histogram": [
           {
            "bin_start": 1,
            "bin_end": 1.2,
            "count": 1
           },
           {
            "bin_start": 1.2,
            "bin_end": 1.4,
            "count": 0
           },
           {
            "bin_start": 1.4,
            "bin_end": 1.6,
            "count": 0
           },
           {
            "bin_start": 1.6,
            "bin_end": 1.8,
            "count": 0
           },
           {
            "bin_start": 1.8,
            "bin_end": 2,
            "count": 0
           },
           {
            "bin_start": 2,
            "bin_end": 2.2,
            "count": 2
           },
           {
            "bin_start": 2.2,
            "bin_end": 2.4000000000000004,
            "count": 0
           },
           {
            "bin_start": 2.4000000000000004,
            "bin_end": 2.6,
            "count": 0
           },
           {
            "bin_start": 2.6,
            "bin_end": 2.8,
            "count": 0
           },
           {
            "bin_start": 2.8,
            "bin_end": 3,
            "count": 2
           }
          ]
         }
        },
        {
         "name": "normalized-losses",
         "dtype": "int64",
         "stats": {
          "unique_count": 2,
          "nan_count": 0,
          "min": "122",
          "max": "164",
          "histogram": [
           {
            "bin_start": 122,
            "bin_end": 126.2,
            "count": 3
           },
           {
            "bin_start": 126.2,
            "bin_end": 130.4,
            "count": 0
           },
           {
            "bin_start": 130.4,
            "bin_end": 134.6,
            "count": 0
           },
           {
            "bin_start": 134.6,
            "bin_end": 138.8,
            "count": 0
           },
           {
            "bin_start": 138.8,
            "bin_end": 143,
            "count": 0
           },
           {
            "bin_start": 143,
            "bin_end": 147.2,
            "count": 0
           },
           {
            "bin_start": 147.2,
            "bin_end": 151.4,
            "count": 0
           },
           {
            "bin_start": 151.4,
            "bin_end": 155.6,
            "count": 0
           },
           {
            "bin_start": 155.6,
            "bin_end": 159.8,
            "count": 0
           },
           {
            "bin_start": 159.8,
            "bin_end": 164,
            "count": 2
           }
          ]
         }
        },
        {
         "name": "make",
         "dtype": "object",
         "stats": {
          "unique_count": 2,
          "nan_count": 0,
          "categories": [
           {
            "name": "alfa-romero",
            "count": 3
           },
           {
            "name": "audi",
            "count": 2
           }
          ]
         }
        },
        {
         "name": "aspiration",
         "dtype": "object",
         "stats": {
          "unique_count": 1,
          "nan_count": 0,
          "categories": [
           {
            "name": "std",
            "count": 5
           }
          ]
         }
        },
        {
         "name": "num-of-doors",
         "dtype": "object",
         "stats": {
          "unique_count": 2,
          "nan_count": 0,
          "categories": [
           {
            "name": "two",
            "count": 3
           },
           {
            "name": "four",
            "count": 2
           }
          ]
         }
        },
        {
         "name": "body-style",
         "dtype": "object",
         "stats": {
          "unique_count": 3,
          "nan_count": 0,
          "categories": [
           {
            "name": "convertible",
            "count": 2
           },
           {
            "name": "sedan",
            "count": 2
           },
           {
            "name": "hatchback",
            "count": 1
           }
          ]
         }
        },
        {
         "name": "drive-wheels",
         "dtype": "object",
         "stats": {
          "unique_count": 3,
          "nan_count": 0,
          "categories": [
           {
            "name": "rwd",
            "count": 3
           },
           {
            "name": "fwd",
            "count": 1
           },
           {
            "name": "4wd",
            "count": 1
           }
          ]
         }
        },
        {
         "name": "engine-location",
         "dtype": "object",
         "stats": {
          "unique_count": 1,
          "nan_count": 0,
          "categories": [
           {
            "name": "front",
            "count": 5
           }
          ]
         }
        },
        {
         "name": "wheel-base",
         "dtype": "float64",
         "stats": {
          "unique_count": 4,
          "nan_count": 0,
          "min": "88.6",
          "max": "99.8",
          "histogram": [
           {
            "bin_start": 88.6,
            "bin_end": 89.72,
            "count": 2
           },
           {
            "bin_start": 89.72,
            "bin_end": 90.83999999999999,
            "count": 0
           },
           {
            "bin_start": 90.83999999999999,
            "bin_end": 91.96,
            "count": 0
           },
           {
            "bin_start": 91.96,
            "bin_end": 93.08,
            "count": 0
           },
           {
            "bin_start": 93.08,
            "bin_end": 94.19999999999999,
            "count": 0
           },
           {
            "bin_start": 94.19999999999999,
            "bin_end": 95.32,
            "count": 1
           },
           {
            "bin_start": 95.32,
            "bin_end": 96.44,
            "count": 0
           },
           {
            "bin_start": 96.44,
            "bin_end": 97.56,
            "count": 0
           },
           {
            "bin_start": 97.56,
            "bin_end": 98.67999999999999,
            "count": 0
           },
           {
            "bin_start": 98.67999999999999,
            "bin_end": 99.8,
            "count": 2
           }
          ]
         }
        },
        {
         "name": "length",
         "dtype": "float64",
         "stats": {
          "unique_count": 3,
          "nan_count": 0,
          "min": "0.8111484863046613",
          "max": "0.8486304661220567",
          "histogram": [
           {
            "bin_start": 0.8111484863046613,
            "bin_end": 0.8148966842864008,
            "count": 2
           },
           {
            "bin_start": 0.8148966842864008,
            "bin_end": 0.8186448822681404,
            "count": 0
           },
           {
            "bin_start": 0.8186448822681404,
            "bin_end": 0.8223930802498799,
            "count": 0
           },
           {
            "bin_start": 0.8223930802498799,
            "bin_end": 0.8261412782316194,
            "count": 1
           },
           {
            "bin_start": 0.8261412782316194,
            "bin_end": 0.8298894762133591,
            "count": 0
           },
           {
            "bin_start": 0.8298894762133591,
            "bin_end": 0.8336376741950986,
            "count": 0
           },
           {
            "bin_start": 0.8336376741950986,
            "bin_end": 0.8373858721768381,
            "count": 0
           },
           {
            "bin_start": 0.8373858721768381,
            "bin_end": 0.8411340701585777,
            "count": 0
           },
           {
            "bin_start": 0.8411340701585777,
            "bin_end": 0.8448822681403172,
            "count": 0
           },
           {
            "bin_start": 0.8448822681403172,
            "bin_end": 0.8486304661220567,
            "count": 2
           }
          ]
         }
        },
        {
         "name": "width",
         "dtype": "float64",
         "stats": {
          "unique_count": 4,
          "nan_count": 0,
          "min": "0.8902777777777777",
          "max": "0.9222222222222224",
          "histogram": [
           {
            "bin_start": 0.8902777777777777,
            "bin_end": 0.8934722222222222,
            "count": 2
           },
           {
            "bin_start": 0.8934722222222222,
            "bin_end": 0.8966666666666666,
            "count": 0
           },
           {
            "bin_start": 0.8966666666666666,
            "bin_end": 0.8998611111111111,
            "count": 0
           },
           {
            "bin_start": 0.8998611111111111,
            "bin_end": 0.9030555555555556,
            "count": 0
           },
           {
            "bin_start": 0.9030555555555556,
            "bin_end": 0.90625,
            "count": 0
           },
           {
            "bin_start": 0.90625,
            "bin_end": 0.9094444444444445,
            "count": 0
           },
           {
            "bin_start": 0.9094444444444445,
            "bin_end": 0.912638888888889,
            "count": 1
           },
           {
            "bin_start": 0.912638888888889,
            "bin_end": 0.9158333333333335,
            "count": 0
           },
           {
            "bin_start": 0.9158333333333335,
            "bin_end": 0.9190277777777779,
            "count": 0
           },
           {
            "bin_start": 0.9190277777777779,
            "bin_end": 0.9222222222222224,
            "count": 2
           }
          ]
         }
        },
        {
         "name": "height",
         "dtype": "float64",
         "stats": {
          "unique_count": 3,
          "nan_count": 0,
          "min": "0.8160535117056856",
          "max": "0.9080267558528428",
          "histogram": [
           {
            "bin_start": 0.8160535117056856,
            "bin_end": 0.8252508361204014,
            "count": 2
           },
           {
            "bin_start": 0.8252508361204014,
            "bin_end": 0.8344481605351171,
            "count": 0
           },
           {
            "bin_start": 0.8344481605351171,
            "bin_end": 0.8436454849498327,
            "count": 0
           },
           {
            "bin_start": 0.8436454849498327,
            "bin_end": 0.8528428093645485,
            "count": 0
           },
           {
            "bin_start": 0.8528428093645485,
            "bin_end": 0.8620401337792643,
            "count": 0
           },
           {
            "bin_start": 0.8620401337792643,
            "bin_end": 0.8712374581939799,
            "count": 0
           },
           {
            "bin_start": 0.8712374581939799,
            "bin_end": 0.8804347826086956,
            "count": 1
           },
           {
            "bin_start": 0.8804347826086956,
            "bin_end": 0.8896321070234113,
            "count": 0
           },
           {
            "bin_start": 0.8896321070234113,
            "bin_end": 0.8988294314381271,
            "count": 0
           },
           {
            "bin_start": 0.8988294314381271,
            "bin_end": 0.9080267558528428,
            "count": 2
           }
          ]
         }
        },
        {
         "name": "curb-weight",
         "dtype": "int64",
         "stats": {
          "unique_count": 4,
          "nan_count": 0,
          "min": "2337",
          "max": "2824",
          "histogram": [
           {
            "bin_start": 2337,
            "bin_end": 2385.7,
            "count": 1
           },
           {
            "bin_start": 2385.7,
            "bin_end": 2434.4,
            "count": 0
           },
           {
            "bin_start": 2434.4,
            "bin_end": 2483.1,
            "count": 0
           },
           {
            "bin_start": 2483.1,
            "bin_end": 2531.8,
            "count": 0
           },
           {
            "bin_start": 2531.8,
            "bin_end": 2580.5,
            "count": 2
           },
           {
            "bin_start": 2580.5,
            "bin_end": 2629.2,
            "count": 0
           },
           {
            "bin_start": 2629.2,
            "bin_end": 2677.9,
            "count": 0
           },
           {
            "bin_start": 2677.9,
            "bin_end": 2726.6,
            "count": 0
           },
           {
            "bin_start": 2726.6,
            "bin_end": 2775.3,
            "count": 0
           },
           {
            "bin_start": 2775.3,
            "bin_end": 2824,
            "count": 2
           }
          ]
         }
        },
        {
         "name": "engine-type",
         "dtype": "object",
         "stats": {
          "unique_count": 3,
          "nan_count": 0,
          "categories": [
           {
            "name": "dohc",
            "count": 2
           },
           {
            "name": "ohc",
            "count": 2
           },
           {
            "name": "ohcv",
            "count": 1
           }
          ]
         }
        },
        {
         "name": "num-of-cylinders",
         "dtype": "object",
         "stats": {
          "unique_count": 3,
          "nan_count": 0,
          "categories": [
           {
            "name": "four",
            "count": 3
           },
           {
            "name": "six",
            "count": 1
           },
           {
            "name": "five",
            "count": 1
           }
          ]
         }
        },
        {
         "name": "engine-size",
         "dtype": "int64",
         "stats": {
          "unique_count": 4,
          "nan_count": 0,
          "min": "109",
          "max": "152",
          "histogram": [
           {
            "bin_start": 109,
            "bin_end": 113.3,
            "count": 1
           },
           {
            "bin_start": 113.3,
            "bin_end": 117.6,
            "count": 0
           },
           {
            "bin_start": 117.6,
            "bin_end": 121.9,
            "count": 0
           },
           {
            "bin_start": 121.9,
            "bin_end": 126.2,
            "count": 0
           },
           {
            "bin_start": 126.2,
            "bin_end": 130.5,
            "count": 2
           },
           {
            "bin_start": 130.5,
            "bin_end": 134.8,
            "count": 0
           },
           {
            "bin_start": 134.8,
            "bin_end": 139.1,
            "count": 1
           },
           {
            "bin_start": 139.1,
            "bin_end": 143.4,
            "count": 0
           },
           {
            "bin_start": 143.4,
            "bin_end": 147.7,
            "count": 0
           },
           {
            "bin_start": 147.7,
            "bin_end": 152,
            "count": 1
           }
          ]
         }
        },
        {
         "name": "fuel-system",
         "dtype": "object",
         "stats": {
          "unique_count": 1,
          "nan_count": 0,
          "categories": [
           {
            "name": "mpfi",
            "count": 5
           }
          ]
         }
        },
        {
         "name": "bore",
         "dtype": "float64",
         "stats": {
          "unique_count": 3,
          "nan_count": 0,
          "min": "2.68",
          "max": "3.47",
          "histogram": [
           {
            "bin_start": 2.68,
            "bin_end": 2.7590000000000003,
            "count": 1
           },
           {
            "bin_start": 2.7590000000000003,
            "bin_end": 2.838,
            "count": 0
           },
           {
            "bin_start": 2.838,
            "bin_end": 2.9170000000000003,
            "count": 0
           },
           {
            "bin_start": 2.9170000000000003,
            "bin_end": 2.996,
            "count": 0
           },
           {
            "bin_start": 2.996,
            "bin_end": 3.075,
            "count": 0
           },
           {
            "bin_start": 3.075,
            "bin_end": 3.154,
            "count": 0
           },
           {
            "bin_start": 3.154,
            "bin_end": 3.233,
            "count": 2
           },
           {
            "bin_start": 3.233,
            "bin_end": 3.3120000000000003,
            "count": 0
           },
           {
            "bin_start": 3.3120000000000003,
            "bin_end": 3.391,
            "count": 0
           },
           {
            "bin_start": 3.391,
            "bin_end": 3.47,
            "count": 2
           }
          ]
         }
        },
        {
         "name": "stroke",
         "dtype": "float64",
         "stats": {
          "unique_count": 3,
          "nan_count": 0,
          "min": "2.68",
          "max": "3.47",
          "histogram": [
           {
            "bin_start": 2.68,
            "bin_end": 2.7590000000000003,
            "count": 2
           },
           {
            "bin_start": 2.7590000000000003,
            "bin_end": 2.838,
            "count": 0
           },
           {
            "bin_start": 2.838,
            "bin_end": 2.9170000000000003,
            "count": 0
           },
           {
            "bin_start": 2.9170000000000003,
            "bin_end": 2.996,
            "count": 0
           },
           {
            "bin_start": 2.996,
            "bin_end": 3.075,
            "count": 0
           },
           {
            "bin_start": 3.075,
            "bin_end": 3.154,
            "count": 0
           },
           {
            "bin_start": 3.154,
            "bin_end": 3.233,
            "count": 0
           },
           {
            "bin_start": 3.233,
            "bin_end": 3.3120000000000003,
            "count": 0
           },
           {
            "bin_start": 3.3120000000000003,
            "bin_end": 3.391,
            "count": 0
           },
           {
            "bin_start": 3.391,
            "bin_end": 3.47,
            "count": 3
           }
          ]
         }
        },
        {
         "name": "compression-ratio",
         "dtype": "float64",
         "stats": {
          "unique_count": 3,
          "nan_count": 0,
          "min": "8.0",
          "max": "10.0",
          "histogram": [
           {
            "bin_start": 8,
            "bin_end": 8.2,
            "count": 1
           },
           {
            "bin_start": 8.2,
            "bin_end": 8.4,
            "count": 0
           },
           {
            "bin_start": 8.4,
            "bin_end": 8.6,
            "count": 0
           },
           {
            "bin_start": 8.6,
            "bin_end": 8.8,
            "count": 0
           },
           {
            "bin_start": 8.8,
            "bin_end": 9,
            "count": 0
           },
           {
            "bin_start": 9,
            "bin_end": 9.2,
            "count": 3
           },
           {
            "bin_start": 9.2,
            "bin_end": 9.4,
            "count": 0
           },
           {
            "bin_start": 9.4,
            "bin_end": 9.6,
            "count": 0
           },
           {
            "bin_start": 9.6,
            "bin_end": 9.8,
            "count": 0
           },
           {
            "bin_start": 9.8,
            "bin_end": 10,
            "count": 1
           }
          ]
         }
        },
        {
         "name": "horsepower",
         "dtype": "int64",
         "stats": {
          "unique_count": 4,
          "nan_count": 0,
          "min": "102",
          "max": "154",
          "histogram": [
           {
            "bin_start": 102,
            "bin_end": 107.2,
            "count": 1
           },
           {
            "bin_start": 107.2,
            "bin_end": 112.4,
            "count": 2
           },
           {
            "bin_start": 112.4,
            "bin_end": 117.6,
            "count": 1
           },
           {
            "bin_start": 117.6,
            "bin_end": 122.8,
            "count": 0
           },
           {
            "bin_start": 122.8,
            "bin_end": 128,
            "count": 0
           },
           {
            "bin_start": 128,
            "bin_end": 133.2,
            "count": 0
           },
           {
            "bin_start": 133.2,
            "bin_end": 138.4,
            "count": 0
           },
           {
            "bin_start": 138.4,
            "bin_end": 143.6,
            "count": 0
           },
           {
            "bin_start": 143.6,
            "bin_end": 148.8,
            "count": 0
           },
           {
            "bin_start": 148.8,
            "bin_end": 154,
            "count": 1
           }
          ]
         }
        },
        {
         "name": "peak-rpm",
         "dtype": "float64",
         "stats": {
          "unique_count": 2,
          "nan_count": 0,
          "min": "5000.0",
          "max": "5500.0",
          "histogram": [
           {
            "bin_start": 5000,
            "bin_end": 5050,
            "count": 3
           },
           {
            "bin_start": 5050,
            "bin_end": 5100,
            "count": 0
           },
           {
            "bin_start": 5100,
            "bin_end": 5150,
            "count": 0
           },
           {
            "bin_start": 5150,
            "bin_end": 5200,
            "count": 0
           },
           {
            "bin_start": 5200,
            "bin_end": 5250,
            "count": 0
           },
           {
            "bin_start": 5250,
            "bin_end": 5300,
            "count": 0
           },
           {
            "bin_start": 5300,
            "bin_end": 5350,
            "count": 0
           },
           {
            "bin_start": 5350,
            "bin_end": 5400,
            "count": 0
           },
           {
            "bin_start": 5400,
            "bin_end": 5450,
            "count": 0
           },
           {
            "bin_start": 5450,
            "bin_end": 5500,
            "count": 2
           }
          ]
         }
        },
        {
         "name": "city-l/100km",
         "dtype": "float64",
         "stats": {
          "unique_count": 4,
          "nan_count": 0,
          "min": "9.791666666666666",
          "max": "13.055555555555555",
          "histogram": [
           {
            "bin_start": 9.791666666666666,
            "bin_end": 10.118055555555555,
            "count": 1
           },
           {
            "bin_start": 10.118055555555555,
            "bin_end": 10.444444444444445,
            "count": 0
           },
           {
            "bin_start": 10.444444444444445,
            "bin_end": 10.770833333333332,
            "count": 0
           },
           {
            "bin_start": 10.770833333333332,
            "bin_end": 11.097222222222221,
            "count": 0
           },
           {
            "bin_start": 11.097222222222221,
            "bin_end": 11.42361111111111,
            "count": 2
           },
           {
            "bin_start": 11.42361111111111,
            "bin_end": 11.75,
            "count": 0
           },
           {
            "bin_start": 11.75,
            "bin_end": 12.07638888888889,
            "count": 0
           },
           {
            "bin_start": 12.07638888888889,
            "bin_end": 12.402777777777779,
            "count": 1
           },
           {
            "bin_start": 12.402777777777779,
            "bin_end": 12.729166666666666,
            "count": 0
           },
           {
            "bin_start": 12.729166666666666,
            "bin_end": 13.055555555555555,
            "count": 1
           }
          ]
         }
        },
        {
         "name": "highway-l/100km",
         "dtype": "float64",
         "stats": {
          "unique_count": 4,
          "nan_count": 0,
          "min": "7.833333333333333",
          "max": "10.681818181818182",
          "histogram": [
           {
            "bin_start": 7.833333333333333,
            "bin_end": 8.118181818181817,
            "count": 1
           },
           {
            "bin_start": 8.118181818181817,
            "bin_end": 8.403030303030302,
            "count": 0
           },
           {
            "bin_start": 8.403030303030302,
            "bin_end": 8.687878787878788,
            "count": 0
           },
           {
            "bin_start": 8.687878787878788,
            "bin_end": 8.972727272727273,
            "count": 2
           },
           {
            "bin_start": 8.972727272727273,
            "bin_end": 9.257575757575758,
            "count": 1
           },
           {
            "bin_start": 9.257575757575758,
            "bin_end": 9.542424242424243,
            "count": 0
           },
           {
            "bin_start": 9.542424242424243,
            "bin_end": 9.827272727272726,
            "count": 0
           },
           {
            "bin_start": 9.827272727272726,
            "bin_end": 10.112121212121211,
            "count": 0
           },
           {
            "bin_start": 10.112121212121211,
            "bin_end": 10.396969696969697,
            "count": 0
           },
           {
            "bin_start": 10.396969696969697,
            "bin_end": 10.681818181818182,
            "count": 1
           }
          ]
         }
        },
        {
         "name": "price",
         "dtype": "float64",
         "stats": {
          "unique_count": 4,
          "nan_count": 0,
          "min": "13495.0",
          "max": "17450.0",
          "histogram": [
           {
            "bin_start": 13495,
            "bin_end": 13890.5,
            "count": 1
           },
           {
            "bin_start": 13890.5,
            "bin_end": 14286,
            "count": 1
           },
           {
            "bin_start": 14286,
            "bin_end": 14681.5,
            "count": 0
           },
           {
            "bin_start": 14681.5,
            "bin_end": 15077,
            "count": 0
           },
           {
            "bin_start": 15077,
            "bin_end": 15472.5,
            "count": 0
           },
           {
            "bin_start": 15472.5,
            "bin_end": 15868,
            "count": 0
           },
           {
            "bin_start": 15868,
            "bin_end": 16263.5,
            "count": 0
           },
           {
            "bin_start": 16263.5,
            "bin_end": 16659,
            "count": 2
           },
           {
            "bin_start": 16659,
            "bin_end": 17054.5,
            "count": 0
           },
           {
            "bin_start": 17054.5,
            "bin_end": 17450,
            "count": 1
           }
          ]
         }
        },
        {
         "name": "horsepower_binned",
         "dtype": "object",
         "stats": {
          "unique_count": 2,
          "nan_count": 0,
          "categories": [
           {
            "name": "Low",
            "count": 4
           },
           {
            "name": "Medium",
            "count": 1
           }
          ]
         }
        },
        {
         "name": "fuel_type_diesel",
         "dtype": "int64",
         "stats": {
          "unique_count": 1,
          "nan_count": 0,
          "min": "0",
          "max": "0",
          "histogram": [
           {
            "bin_start": -0.5,
            "bin_end": -0.4,
            "count": 0
           },
           {
            "bin_start": -0.4,
            "bin_end": -0.3,
            "count": 0
           },
           {
            "bin_start": -0.3,
            "bin_end": -0.19999999999999996,
            "count": 0
           },
           {
            "bin_start": -0.19999999999999996,
            "bin_end": -0.09999999999999998,
            "count": 0
           },
           {
            "bin_start": -0.09999999999999998,
            "bin_end": 0,
            "count": 0
           },
           {
            "bin_start": 0,
            "bin_end": 0.10000000000000009,
            "count": 5
           },
           {
            "bin_start": 0.10000000000000009,
            "bin_end": 0.20000000000000007,
            "count": 0
           },
           {
            "bin_start": 0.20000000000000007,
            "bin_end": 0.30000000000000004,
            "count": 0
           },
           {
            "bin_start": 0.30000000000000004,
            "bin_end": 0.4,
            "count": 0
           },
           {
            "bin_start": 0.4,
            "bin_end": 0.5,
            "count": 0
           }
          ]
         }
        },
        {
         "name": "fuel_type_gas",
         "dtype": "int64",
         "stats": {
          "unique_count": 1,
          "nan_count": 0,
          "min": "1",
          "max": "1",
          "histogram": [
           {
            "bin_start": 0.5,
            "bin_end": 0.6,
            "count": 0
           },
           {
            "bin_start": 0.6,
            "bin_end": 0.7,
            "count": 0
           },
           {
            "bin_start": 0.7,
            "bin_end": 0.8,
            "count": 0
           },
           {
            "bin_start": 0.8,
            "bin_end": 0.9,
            "count": 0
           },
           {
            "bin_start": 0.9,
            "bin_end": 1,
            "count": 0
           },
           {
            "bin_start": 1,
            "bin_end": 1.1,
            "count": 5
           },
           {
            "bin_start": 1.1,
            "bin_end": 1.2000000000000002,
            "count": 0
           },
           {
            "bin_start": 1.2000000000000002,
            "bin_end": 1.3,
            "count": 0
           },
           {
            "bin_start": 1.3,
            "bin_end": 1.4,
            "count": 0
           },
           {
            "bin_start": 1.4,
            "bin_end": 1.5,
            "count": 0
           }
          ]
         }
        },
        {
         "name": "_deepnote_index_column",
         "dtype": "int64"
        }
       ],
       "rows": [
        {
         "symboling": 3,
         "normalized-losses": 122,
         "make": "alfa-romero",
         "aspiration": "std",
         "num-of-doors": "two",
         "body-style": "convertible",
         "drive-wheels": "rwd",
         "engine-location": "front",
         "wheel-base": 88.6,
         "length": 0.8111484863046613,
         "width": 0.8902777777777777,
         "height": 0.8160535117056856,
         "curb-weight": 2548,
         "engine-type": "dohc",
         "num-of-cylinders": "four",
         "engine-size": 130,
         "fuel-system": "mpfi",
         "bore": 3.47,
         "stroke": 2.68,
         "compression-ratio": 9,
         "horsepower": 111,
         "peak-rpm": 5000,
         "city-l/100km": 11.19047619047619,
         "highway-l/100km": 8.703703703703704,
         "price": 13495,
         "horsepower_binned": "Low",
         "fuel_type_diesel": 0,
         "fuel_type_gas": 1,
         "_deepnote_index_column": 0
        },
        {
         "symboling": 3,
         "normalized-losses": 122,
         "make": "alfa-romero",
         "aspiration": "std",
         "num-of-doors": "two",
         "body-style": "convertible",
         "drive-wheels": "rwd",
         "engine-location": "front",
         "wheel-base": 88.6,
         "length": 0.8111484863046613,
         "width": 0.8902777777777777,
         "height": 0.8160535117056856,
         "curb-weight": 2548,
         "engine-type": "dohc",
         "num-of-cylinders": "four",
         "engine-size": 130,
         "fuel-system": "mpfi",
         "bore": 3.47,
         "stroke": 2.68,
         "compression-ratio": 9,
         "horsepower": 111,
         "peak-rpm": 5000,
         "city-l/100km": 11.19047619047619,
         "highway-l/100km": 8.703703703703704,
         "price": 16500,
         "horsepower_binned": "Low",
         "fuel_type_diesel": 0,
         "fuel_type_gas": 1,
         "_deepnote_index_column": 1
        },
        {
         "symboling": 1,
         "normalized-losses": 122,
         "make": "alfa-romero",
         "aspiration": "std",
         "num-of-doors": "two",
         "body-style": "hatchback",
         "drive-wheels": "rwd",
         "engine-location": "front",
         "wheel-base": 94.5,
         "length": 0.8226814031715521,
         "width": 0.9097222222222222,
         "height": 0.8762541806020067,
         "curb-weight": 2823,
         "engine-type": "ohcv",
         "num-of-cylinders": "six",
         "engine-size": 152,
         "fuel-system": "mpfi",
         "bore": 2.68,
         "stroke": 3.47,
         "compression-ratio": 9,
         "horsepower": 154,
         "peak-rpm": 5000,
         "city-l/100km": 12.36842105263158,
         "highway-l/100km": 9.038461538461538,
         "price": 16500,
         "horsepower_binned": "Medium",
         "fuel_type_diesel": 0,
         "fuel_type_gas": 1,
         "_deepnote_index_column": 2
        },
        {
         "symboling": 2,
         "normalized-losses": 164,
         "make": "audi",
         "aspiration": "std",
         "num-of-doors": "four",
         "body-style": "sedan",
         "drive-wheels": "fwd",
         "engine-location": "front",
         "wheel-base": 99.8,
         "length": 0.8486304661220567,
         "width": 0.9194444444444444,
         "height": 0.9080267558528428,
         "curb-weight": 2337,
         "engine-type": "ohc",
         "num-of-cylinders": "four",
         "engine-size": 109,
         "fuel-system": "mpfi",
         "bore": 3.19,
         "stroke": 3.4,
         "compression-ratio": 10,
         "horsepower": 102,
         "peak-rpm": 5500,
         "city-l/100km": 9.791666666666666,
         "highway-l/100km": 7.833333333333333,
         "price": 13950,
         "horsepower_binned": "Low",
         "fuel_type_diesel": 0,
         "fuel_type_gas": 1,
         "_deepnote_index_column": 3
        },
        {
         "symboling": 2,
         "normalized-losses": 164,
         "make": "audi",
         "aspiration": "std",
         "num-of-doors": "four",
         "body-style": "sedan",
         "drive-wheels": "4wd",
         "engine-location": "front",
         "wheel-base": 99.4,
         "length": 0.8486304661220567,
         "width": 0.9222222222222224,
         "height": 0.9080267558528428,
         "curb-weight": 2824,
         "engine-type": "ohc",
         "num-of-cylinders": "five",
         "engine-size": 136,
         "fuel-system": "mpfi",
         "bore": 3.19,
         "stroke": 3.4,
         "compression-ratio": 8,
         "horsepower": 115,
         "peak-rpm": 5500,
         "city-l/100km": 13.055555555555555,
         "highway-l/100km": 10.681818181818182,
         "price": 17450,
         "horsepower_binned": "Low",
         "fuel_type_diesel": 0,
         "fuel_type_gas": 1,
         "_deepnote_index_column": 4
        }
       ]
      },
      "text/plain": "   symboling  normalized-losses         make aspiration num-of-doors  \\\n0          3                122  alfa-romero        std          two   \n1          3                122  alfa-romero        std          two   \n2          1                122  alfa-romero        std          two   \n3          2                164         audi        std         four   \n4          2                164         audi        std         four   \n\n    body-style drive-wheels engine-location  wheel-base  length  ...  stroke  \\\n0  convertible          rwd           front      88.600   0.811  ...   2.680   \n1  convertible          rwd           front      88.600   0.811  ...   2.680   \n2    hatchback          rwd           front      94.500   0.823  ...   3.470   \n3        sedan          fwd           front      99.800   0.849  ...   3.400   \n4        sedan          4wd           front      99.400   0.849  ...   3.400   \n\n   compression-ratio  horsepower  peak-rpm city-l/100km  highway-l/100km  \\\n0              9.000         111 5,000.000       11.190            8.704   \n1              9.000         111 5,000.000       11.190            8.704   \n2              9.000         154 5,000.000       12.368            9.038   \n3             10.000         102 5,500.000        9.792            7.833   \n4              8.000         115 5,500.000       13.056           10.682   \n\n       price  horsepower_binned  fuel_type_diesel  fuel_type_gas  \n0 13,495.000                Low                 0              1  \n1 16,500.000                Low                 0              1  \n2 16,500.000             Medium                 0              1  \n3 13,950.000                Low                 0              1  \n4 17,450.000                Low                 0              1  \n\n[5 rows x 28 columns]",
      "text/html": "<div>\n<style scoped>\n    .dataframe tbody tr th:only-of-type {\n        vertical-align: middle;\n    }\n\n    .dataframe tbody tr th {\n        vertical-align: top;\n    }\n\n    .dataframe thead th {\n        text-align: right;\n    }\n</style>\n<table border=\"1\" class=\"dataframe\">\n  <thead>\n    <tr style=\"text-align: right;\">\n      <th></th>\n      <th>symboling</th>\n      <th>normalized-losses</th>\n      <th>make</th>\n      <th>aspiration</th>\n      <th>num-of-doors</th>\n      <th>body-style</th>\n      <th>drive-wheels</th>\n      <th>engine-location</th>\n      <th>wheel-base</th>\n      <th>length</th>\n      <th>...</th>\n      <th>stroke</th>\n      <th>compression-ratio</th>\n      <th>horsepower</th>\n      <th>peak-rpm</th>\n      <th>city-l/100km</th>\n      <th>highway-l/100km</th>\n      <th>price</th>\n      <th>horsepower_binned</th>\n      <th>fuel_type_diesel</th>\n      <th>fuel_type_gas</th>\n    </tr>\n  </thead>\n  <tbody>\n    <tr>\n      <th>0</th>\n      <td>3</td>\n      <td>122</td>\n      <td>alfa-romero</td>\n      <td>std</td>\n      <td>two</td>\n      <td>convertible</td>\n      <td>rwd</td>\n      <td>front</td>\n      <td>88.600</td>\n      <td>0.811</td>\n      <td>...</td>\n      <td>2.680</td>\n      <td>9.000</td>\n      <td>111</td>\n      <td>5,000.000</td>\n      <td>11.190</td>\n      <td>8.704</td>\n      <td>13,495.000</td>\n      <td>Low</td>\n      <td>0</td>\n      <td>1</td>\n    </tr>\n    <tr>\n      <th>1</th>\n      <td>3</td>\n      <td>122</td>\n      <td>alfa-romero</td>\n      <td>std</td>\n      <td>two</td>\n      <td>convertible</td>\n      <td>rwd</td>\n      <td>front</td>\n      <td>88.600</td>\n      <td>0.811</td>\n      <td>...</td>\n      <td>2.680</td>\n      <td>9.000</td>\n      <td>111</td>\n      <td>5,000.000</td>\n      <td>11.190</td>\n      <td>8.704</td>\n      <td>16,500.000</td>\n      <td>Low</td>\n      <td>0</td>\n      <td>1</td>\n    </tr>\n    <tr>\n      <th>2</th>\n      <td>1</td>\n      <td>122</td>\n      <td>alfa-romero</td>\n      <td>std</td>\n      <td>two</td>\n      <td>hatchback</td>\n      <td>rwd</td>\n      <td>front</td>\n      <td>94.500</td>\n      <td>0.823</td>\n      <td>...</td>\n      <td>3.470</td>\n      <td>9.000</td>\n      <td>154</td>\n      <td>5,000.000</td>\n      <td>12.368</td>\n      <td>9.038</td>\n      <td>16,500.000</td>\n      <td>Medium</td>\n      <td>0</td>\n      <td>1</td>\n    </tr>\n    <tr>\n      <th>3</th>\n      <td>2</td>\n      <td>164</td>\n      <td>audi</td>\n      <td>std</td>\n      <td>four</td>\n      <td>sedan</td>\n      <td>fwd</td>\n      <td>front</td>\n      <td>99.800</td>\n      <td>0.849</td>\n      <td>...</td>\n      <td>3.400</td>\n      <td>10.000</td>\n      <td>102</td>\n      <td>5,500.000</td>\n      <td>9.792</td>\n      <td>7.833</td>\n      <td>13,950.000</td>\n      <td>Low</td>\n      <td>0</td>\n      <td>1</td>\n    </tr>\n    <tr>\n      <th>4</th>\n      <td>2</td>\n      <td>164</td>\n      <td>audi</td>\n      <td>std</td>\n      <td>four</td>\n      <td>sedan</td>\n      <td>4wd</td>\n      <td>front</td>\n      <td>99.400</td>\n      <td>0.849</td>\n      <td>...</td>\n      <td>3.400</td>\n      <td>8.000</td>\n      <td>115</td>\n      <td>5,500.000</td>\n      <td>13.056</td>\n      <td>10.682</td>\n      <td>17,450.000</td>\n      <td>Low</td>\n      <td>0</td>\n      <td>1</td>\n    </tr>\n  </tbody>\n</table>\n<p>5 rows × 28 columns</p>\n</div>"
     },
     "metadata": {}
    }
   ],
   "execution_count": 5
  },
  {
   "cell_type": "code",
   "source": "df_cars.describe()",
   "metadata": {
    "cell_id": "5bf6a3f2-176d-4d73-a8dc-4748b4ccab27",
    "tags": [],
    "deepnote_to_be_reexecuted": false,
    "source_hash": "2a0bc6d7",
    "execution_start": 1645814914850,
    "execution_millis": 160,
    "deepnote_cell_type": "code"
   },
   "outputs": [
    {
     "output_type": "execute_result",
     "execution_count": 6,
     "data": {
      "application/vnd.deepnote.dataframe.v3+json": {
       "column_count": 18,
       "row_count": 8,
       "columns": [
        {
         "name": "symboling",
         "dtype": "float64",
         "stats": {
          "unique_count": 8,
          "nan_count": 0,
          "min": "-2.0",
          "max": "201.0",
          "histogram": [
           {
            "bin_start": -2,
            "bin_end": 18.3,
            "count": 7
           },
           {
            "bin_start": 18.3,
            "bin_end": 38.6,
            "count": 0
           },
           {
            "bin_start": 38.6,
            "bin_end": 58.900000000000006,
            "count": 0
           },
           {
            "bin_start": 58.900000000000006,
            "bin_end": 79.2,
            "count": 0
           },
           {
            "bin_start": 79.2,
            "bin_end": 99.5,
            "count": 0
           },
           {
            "bin_start": 99.5,
            "bin_end": 119.80000000000001,
            "count": 0
           },
           {
            "bin_start": 119.80000000000001,
            "bin_end": 140.1,
            "count": 0
           },
           {
            "bin_start": 140.1,
            "bin_end": 160.4,
            "count": 0
           },
           {
            "bin_start": 160.4,
            "bin_end": 180.70000000000002,
            "count": 0
           },
           {
            "bin_start": 180.70000000000002,
            "bin_end": 201,
            "count": 1
           }
          ]
         }
        },
        {
         "name": "normalized-losses",
         "dtype": "float64",
         "stats": {
          "unique_count": 7,
          "nan_count": 0,
          "min": "31.996249780247684",
          "max": "256.0",
          "histogram": [
           {
            "bin_start": 31.996249780247684,
            "bin_end": 54.39662480222292,
            "count": 1
           },
           {
            "bin_start": 54.39662480222292,
            "bin_end": 76.79699982419814,
            "count": 1
           },
           {
            "bin_start": 76.79699982419814,
            "bin_end": 99.19737484617336,
            "count": 0
           },
           {
            "bin_start": 99.19737484617336,
            "bin_end": 121.5977498681486,
            "count": 1
           },
           {
            "bin_start": 121.5977498681486,
            "bin_end": 143.99812489012385,
            "count": 3
           },
           {
            "bin_start": 143.99812489012385,
            "bin_end": 166.39849991209906,
            "count": 0
           },
           {
            "bin_start": 166.39849991209906,
            "bin_end": 188.7988749340743,
            "count": 0
           },
           {
            "bin_start": 188.7988749340743,
            "bin_end": 211.19924995604953,
            "count": 1
           },
           {
            "bin_start": 211.19924995604953,
            "bin_end": 233.59962497802476,
            "count": 0
           },
           {
            "bin_start": 233.59962497802476,
            "bin_end": 256,
            "count": 1
           }
          ]
         }
        },
        {
         "name": "wheel-base",
         "dtype": "float64",
         "stats": {
          "unique_count": 8,
          "nan_count": 0,
          "min": "6.066365554825733",
          "max": "201.0",
          "histogram": [
           {
            "bin_start": 6.066365554825733,
            "bin_end": 25.55972899934316,
            "count": 1
           },
           {
            "bin_start": 25.55972899934316,
            "bin_end": 45.05309244386059,
            "count": 0
           },
           {
            "bin_start": 45.05309244386059,
            "bin_end": 64.54645588837802,
            "count": 0
           },
           {
            "bin_start": 64.54645588837802,
            "bin_end": 84.03981933289545,
            "count": 0
           },
           {
            "bin_start": 84.03981933289545,
            "bin_end": 103.53318277741288,
            "count": 5
           },
           {
            "bin_start": 103.53318277741288,
            "bin_end": 123.0265462219303,
            "count": 1
           },
           {
            "bin_start": 123.0265462219303,
            "bin_end": 142.51990966644772,
            "count": 0
           },
           {
            "bin_start": 142.51990966644772,
            "bin_end": 162.01327311096514,
            "count": 0
           },
           {
            "bin_start": 162.01327311096514,
            "bin_end": 181.50663655548257,
            "count": 0
           },
           {
            "bin_start": 181.50663655548257,
            "bin_end": 201,
            "count": 1
           }
          ]
         }
        },
        {
         "name": "length",
         "dtype": "float64",
         "stats": {
          "unique_count": 8,
          "nan_count": 0,
          "min": "0.059212758732757685",
          "max": "201.0",
          "histogram": [
           {
            "bin_start": 0.059212758732757685,
            "bin_end": 20.153291482859483,
            "count": 7
           },
           {
            "bin_start": 20.153291482859483,
            "bin_end": 40.247370206986204,
            "count": 0
           },
           {
            "bin_start": 40.247370206986204,
            "bin_end": 60.34144893111293,
            "count": 0
           },
           {
            "bin_start": 60.34144893111293,
            "bin_end": 80.43552765523965,
            "count": 0
           },
           {
            "bin_start": 80.43552765523965,
            "bin_end": 100.52960637936637,
            "count": 0
           },
           {
            "bin_start": 100.52960637936637,
            "bin_end": 120.6236851034931,
            "count": 0
           },
           {
            "bin_start": 120.6236851034931,
            "bin_end": 140.71776382761985,
            "count": 0
           },
           {
            "bin_start": 140.71776382761985,
            "bin_end": 160.81184255174657,
            "count": 0
           },
           {
            "bin_start": 160.81184255174657,
            "bin_end": 180.90592127587328,
            "count": 0
           },
           {
            "bin_start": 180.90592127587328,
            "bin_end": 201,
            "count": 1
           }
          ]
         }
        },
        {
         "name": "width",
         "dtype": "float64",
         "stats": {
          "unique_count": 8,
          "nan_count": 0,
          "min": "0.029187094704637245",
          "max": "201.0",
          "histogram": [
           {
            "bin_start": 0.029187094704637245,
            "bin_end": 20.126268385234173,
            "count": 7
           },
           {
            "bin_start": 20.126268385234173,
            "bin_end": 40.223349675763714,
            "count": 0
           },
           {
            "bin_start": 40.223349675763714,
            "bin_end": 60.32043096629325,
            "count": 0
           },
           {
            "bin_start": 60.32043096629325,
            "bin_end": 80.41751225682279,
            "count": 0
           },
           {
            "bin_start": 80.41751225682279,
            "bin_end": 100.51459354735232,
            "count": 0
           },
           {
            "bin_start": 100.51459354735232,
            "bin_end": 120.61167483788186,
            "count": 0
           },
           {
            "bin_start": 120.61167483788186,
            "bin_end": 140.7087561284114,
            "count": 0
           },
           {
            "bin_start": 140.7087561284114,
            "bin_end": 160.80583741894094,
            "count": 0
           },
           {
            "bin_start": 160.80583741894094,
            "bin_end": 180.90291870947047,
            "count": 0
           },
           {
            "bin_start": 180.90291870947047,
            "bin_end": 201,
            "count": 1
           }
          ]
         }
        },
        {
         "name": "height",
         "dtype": "float64",
         "stats": {
          "unique_count": 8,
          "nan_count": 0,
          "min": "0.04093348095813227",
          "max": "201.0",
          "histogram": [
           {
            "bin_start": 0.04093348095813227,
            "bin_end": 20.136840132862318,
            "count": 7
           },
           {
            "bin_start": 20.136840132862318,
            "bin_end": 40.232746784766505,
            "count": 0
           },
           {
            "bin_start": 40.232746784766505,
            "bin_end": 60.32865343667069,
            "count": 0
           },
           {
            "bin_start": 60.32865343667069,
            "bin_end": 80.42456008857488,
            "count": 0
           },
           {
            "bin_start": 80.42456008857488,
            "bin_end": 100.52046674047907,
            "count": 0
           },
           {
            "bin_start": 100.52046674047907,
            "bin_end": 120.61637339238325,
            "count": 0
           },
           {
            "bin_start": 120.61637339238325,
            "bin_end": 140.71228004428744,
            "count": 0
           },
           {
            "bin_start": 140.71228004428744,
            "bin_end": 160.80818669619163,
            "count": 0
           },
           {
            "bin_start": 160.80818669619163,
            "bin_end": 180.9040933480958,
            "count": 0
           },
           {
            "bin_start": 180.9040933480958,
            "bin_end": 201,
            "count": 1
           }
          ]
         }
        },
        {
         "name": "curb-weight",
         "dtype": "float64",
         "stats": {
          "unique_count": 8,
          "nan_count": 0,
          "min": "201.0",
          "max": "4066.0",
          "histogram": [
           {
            "bin_start": 201,
            "bin_end": 587.5,
            "count": 2
           },
           {
            "bin_start": 587.5,
            "bin_end": 974,
            "count": 0
           },
           {
            "bin_start": 974,
            "bin_end": 1360.5,
            "count": 0
           },
           {
            "bin_start": 1360.5,
            "bin_end": 1747,
            "count": 1
           },
           {
            "bin_start": 1747,
            "bin_end": 2133.5,
            "count": 0
           },
           {
            "bin_start": 2133.5,
            "bin_end": 2520,
            "count": 2
           },
           {
            "bin_start": 2520,
            "bin_end": 2906.5,
            "count": 1
           },
           {
            "bin_start": 2906.5,
            "bin_end": 3293,
            "count": 1
           },
           {
            "bin_start": 3293,
            "bin_end": 3679.5,
            "count": 0
           },
           {
            "bin_start": 3679.5,
            "bin_end": 4066,
            "count": 1
           }
          ]
         }
        },
        {
         "name": "engine-size",
         "dtype": "float64",
         "stats": {
          "unique_count": 8,
          "nan_count": 0,
          "min": "41.54683444904459",
          "max": "326.0",
          "histogram": [
           {
            "bin_start": 41.54683444904459,
            "bin_end": 69.99215100414013,
            "count": 2
           },
           {
            "bin_start": 69.99215100414013,
            "bin_end": 98.43746755923567,
            "count": 1
           },
           {
            "bin_start": 98.43746755923567,
            "bin_end": 126.8827841143312,
            "count": 2
           },
           {
            "bin_start": 126.8827841143312,
            "bin_end": 155.32810066942676,
            "count": 1
           },
           {
            "bin_start": 155.32810066942676,
            "bin_end": 183.7734172245223,
            "count": 0
           },
           {
            "bin_start": 183.7734172245223,
            "bin_end": 212.21873377961782,
            "count": 1
           },
           {
            "bin_start": 212.21873377961782,
            "bin_end": 240.66405033471338,
            "count": 0
           },
           {
            "bin_start": 240.66405033471338,
            "bin_end": 269.10936688980894,
            "count": 0
           },
           {
            "bin_start": 269.10936688980894,
            "bin_end": 297.55468344490447,
            "count": 0
           },
           {
            "bin_start": 297.55468344490447,
            "bin_end": 326,
            "count": 1
           }
          ]
         }
        },
        {
         "name": "bore",
         "dtype": "float64",
         "stats": {
          "unique_count": 8,
          "nan_count": 0,
          "min": "0.2680718571228559",
          "max": "201.0",
          "histogram": [
           {
            "bin_start": 0.2680718571228559,
            "bin_end": 20.34126467141057,
            "count": 7
           },
           {
            "bin_start": 20.34126467141057,
            "bin_end": 40.414457485698286,
            "count": 0
           },
           {
            "bin_start": 40.414457485698286,
            "bin_end": 60.487650299986,
            "count": 0
           },
           {
            "bin_start": 60.487650299986,
            "bin_end": 80.56084311427372,
            "count": 0
           },
           {
            "bin_start": 80.56084311427372,
            "bin_end": 100.63403592856145,
            "count": 0
           },
           {
            "bin_start": 100.63403592856145,
            "bin_end": 120.70722874284915,
            "count": 0
           },
           {
            "bin_start": 120.70722874284915,
            "bin_end": 140.78042155713686,
            "count": 0
           },
           {
            "bin_start": 140.78042155713686,
            "bin_end": 160.85361437142458,
            "count": 0
           },
           {
            "bin_start": 160.85361437142458,
            "bin_end": 180.9268071857123,
            "count": 0
           },
           {
            "bin_start": 180.9268071857123,
            "bin_end": 201,
            "count": 1
           }
          ]
         }
        },
        {
         "name": "stroke",
         "dtype": "float64",
         "stats": {
          "unique_count": 8,
          "nan_count": 0,
          "min": "0.3160476211151004",
          "max": "201.0",
          "histogram": [
           {
            "bin_start": 0.3160476211151004,
            "bin_end": 20.384442859003588,
            "count": 7
           },
           {
            "bin_start": 20.384442859003588,
            "bin_end": 40.45283809689208,
            "count": 0
           },
           {
            "bin_start": 40.45283809689208,
            "bin_end": 60.52123333478057,
            "count": 0
           },
           {
            "bin_start": 60.52123333478057,
            "bin_end": 80.58962857266906,
            "count": 0
           },
           {
            "bin_start": 80.58962857266906,
            "bin_end": 100.65802381055755,
            "count": 0
           },
           {
            "bin_start": 100.65802381055755,
            "bin_end": 120.72641904844603,
            "count": 0
           },
           {
            "bin_start": 120.72641904844603,
            "bin_end": 140.7948142863345,
            "count": 0
           },
           {
            "bin_start": 140.7948142863345,
            "bin_end": 160.863209524223,
            "count": 0
           },
           {
            "bin_start": 160.863209524223,
            "bin_end": 180.9316047621115,
            "count": 0
           },
           {
            "bin_start": 180.9316047621115,
            "bin_end": 201,
            "count": 1
           }
          ]
         }
        },
        {
         "name": "compression-ratio",
         "dtype": "float64",
         "stats": {
          "unique_count": 8,
          "nan_count": 0,
          "min": "4.0049654932333745",
          "max": "201.0",
          "histogram": [
           {
            "bin_start": 4.0049654932333745,
            "bin_end": 23.704468943910037,
            "count": 7
           },
           {
            "bin_start": 23.704468943910037,
            "bin_end": 43.4039723945867,
            "count": 0
           },
           {
            "bin_start": 43.4039723945867,
            "bin_end": 63.10347584526336,
            "count": 0
           },
           {
            "bin_start": 63.10347584526336,
            "bin_end": 82.80297929594002,
            "count": 0
           },
           {
            "bin_start": 82.80297929594002,
            "bin_end": 102.50248274661668,
            "count": 0
           },
           {
            "bin_start": 102.50248274661668,
            "bin_end": 122.20198619729335,
            "count": 0
           },
           {
            "bin_start": 122.20198619729335,
            "bin_end": 141.90148964797,
            "count": 0
           },
           {
            "bin_start": 141.90148964797,
            "bin_end": 161.60099309864668,
            "count": 0
           },
           {
            "bin_start": 161.60099309864668,
            "bin_end": 181.30049654932336,
            "count": 0
           },
           {
            "bin_start": 181.30049654932336,
            "bin_end": 201,
            "count": 1
           }
          ]
         }
        },
        {
         "name": "horsepower",
         "dtype": "float64",
         "stats": {
          "unique_count": 8,
          "nan_count": 0,
          "min": "37.365649881204746",
          "max": "262.0",
          "histogram": [
           {
            "bin_start": 37.365649881204746,
            "bin_end": 59.82908489308427,
            "count": 2
           },
           {
            "bin_start": 59.82908489308427,
            "bin_end": 82.2925199049638,
            "count": 1
           },
           {
            "bin_start": 82.2925199049638,
            "bin_end": 104.75595491684332,
            "count": 2
           },
           {
            "bin_start": 104.75595491684332,
            "bin_end": 127.21938992872285,
            "count": 1
           },
           {
            "bin_start": 127.21938992872285,
            "bin_end": 149.68282494060236,
            "count": 0
           },
           {
            "bin_start": 149.68282494060236,
            "bin_end": 172.1462599524819,
            "count": 0
           },
           {
            "bin_start": 172.1462599524819,
            "bin_end": 194.6096949643614,
            "count": 0
           },
           {
            "bin_start": 194.6096949643614,
            "bin_end": 217.07312997624095,
            "count": 1
           },
           {
            "bin_start": 217.07312997624095,
            "bin_end": 239.5365649881205,
            "count": 0
           },
           {
            "bin_start": 239.5365649881205,
            "bin_end": 262,
            "count": 1
           }
          ]
         }
        },
        {
         "name": "peak-rpm",
         "dtype": "float64",
         "stats": {
          "unique_count": 8,
          "nan_count": 0,
          "min": "201.0",
          "max": "6600.0",
          "histogram": [
           {
            "bin_start": 201,
            "bin_end": 840.9,
            "count": 2
           },
           {
            "bin_start": 840.9,
            "bin_end": 1480.8,
            "count": 0
           },
           {
            "bin_start": 1480.8,
            "bin_end": 2120.7,
            "count": 0
           },
           {
            "bin_start": 2120.7,
            "bin_end": 2760.6,
            "count": 0
           },
           {
            "bin_start": 2760.6,
            "bin_end": 3400.5,
            "count": 0
           },
           {
            "bin_start": 3400.5,
            "bin_end": 4040.3999999999996,
            "count": 0
           },
           {
            "bin_start": 4040.3999999999996,
            "bin_end": 4680.3,
            "count": 1
           },
           {
            "bin_start": 4680.3,
            "bin_end": 5320.2,
            "count": 3
           },
           {
            "bin_start": 5320.2,
            "bin_end": 5960.099999999999,
            "count": 1
           },
           {
            "bin_start": 5960.099999999999,
            "bin_end": 6600,
            "count": 1
           }
          ]
         }
        },
        {
         "name": "city-l/100km",
         "dtype": "float64",
         "stats": {
          "unique_count": 8,
          "nan_count": 0,
          "min": "2.5345992612400026",
          "max": "201.0",
          "histogram": [
           {
            "bin_start": 2.5345992612400026,
            "bin_end": 22.381139335116004,
            "count": 7
           },
           {
            "bin_start": 22.381139335116004,
            "bin_end": 42.227679408992,
            "count": 0
           },
           {
            "bin_start": 42.227679408992,
            "bin_end": 62.074219482868,
            "count": 0
           },
           {
            "bin_start": 62.074219482868,
            "bin_end": 81.920759556744,
            "count": 0
           },
           {
            "bin_start": 81.920759556744,
            "bin_end": 101.76729963062,
            "count": 0
           },
           {
            "bin_start": 101.76729963062,
            "bin_end": 121.613839704496,
            "count": 0
           },
           {
            "bin_start": 121.613839704496,
            "bin_end": 141.46037977837202,
            "count": 0
           },
           {
            "bin_start": 141.46037977837202,
            "bin_end": 161.306919852248,
            "count": 0
           },
           {
            "bin_start": 161.306919852248,
            "bin_end": 181.153459926124,
            "count": 0
           },
           {
            "bin_start": 181.153459926124,
            "bin_end": 201,
            "count": 1
           }
          ]
         }
        },
        {
         "name": "highway-l/100km",
         "dtype": "float64",
         "stats": {
          "unique_count": 8,
          "nan_count": 0,
          "min": "1.8407385224197115",
          "max": "201.0",
          "histogram": [
           {
            "bin_start": 1.8407385224197115,
            "bin_end": 21.75666467017774,
            "count": 7
           },
           {
            "bin_start": 21.75666467017774,
            "bin_end": 41.67259081793577,
            "count": 0
           },
           {
            "bin_start": 41.67259081793577,
            "bin_end": 61.5885169656938,
            "count": 0
           },
           {
            "bin_start": 61.5885169656938,
            "bin_end": 81.50444311345183,
            "count": 0
           },
           {
            "bin_start": 81.50444311345183,
            "bin_end": 101.42036926120986,
            "count": 0
           },
           {
            "bin_start": 101.42036926120986,
            "bin_end": 121.33629540896789,
            "count": 0
           },
           {
            "bin_start": 121.33629540896789,
            "bin_end": 141.2522215567259,
            "count": 0
           },
           {
            "bin_start": 141.2522215567259,
            "bin_end": 161.16814770448394,
            "count": 0
           },
           {
            "bin_start": 161.16814770448394,
            "bin_end": 181.08407385224197,
            "count": 0
           },
           {
            "bin_start": 181.08407385224197,
            "bin_end": 201,
            "count": 1
           }
          ]
         }
        },
        {
         "name": "price",
         "dtype": "float64",
         "stats": {
          "unique_count": 8,
          "nan_count": 0,
          "min": "201.0",
          "max": "45400.0",
          "histogram": [
           {
            "bin_start": 201,
            "bin_end": 4720.9,
            "count": 1
           },
           {
            "bin_start": 4720.9,
            "bin_end": 9240.8,
            "count": 3
           },
           {
            "bin_start": 9240.8,
            "bin_end": 13760.699999999999,
            "count": 2
           },
           {
            "bin_start": 13760.699999999999,
            "bin_end": 18280.6,
            "count": 1
           },
           {
            "bin_start": 18280.6,
            "bin_end": 22800.5,
            "count": 0
           },
           {
            "bin_start": 22800.5,
            "bin_end": 27320.399999999998,
            "count": 0
           },
           {
            "bin_start": 27320.399999999998,
            "bin_end": 31840.299999999996,
            "count": 0
           },
           {
            "bin_start": 31840.299999999996,
            "bin_end": 36360.2,
            "count": 0
           },
           {
            "bin_start": 36360.2,
            "bin_end": 40880.1,
            "count": 0
           },
           {
            "bin_start": 40880.1,
            "bin_end": 45400,
            "count": 1
           }
          ]
         }
        },
        {
         "name": "fuel_type_diesel",
         "dtype": "float64",
         "stats": {
          "unique_count": 5,
          "nan_count": 0,
          "min": "0.0",
          "max": "201.0",
          "histogram": [
           {
            "bin_start": 0,
            "bin_end": 20.1,
            "count": 7
           },
           {
            "bin_start": 20.1,
            "bin_end": 40.2,
            "count": 0
           },
           {
            "bin_start": 40.2,
            "bin_end": 60.300000000000004,
            "count": 0
           },
           {
            "bin_start": 60.300000000000004,
            "bin_end": 80.4,
            "count": 0
           },
           {
            "bin_start": 80.4,
            "bin_end": 100.5,
            "count": 0
           },
           {
            "bin_start": 100.5,
            "bin_end": 120.60000000000001,
            "count": 0
           },
           {
            "bin_start": 120.60000000000001,
            "bin_end": 140.70000000000002,
            "count": 0
           },
           {
            "bin_start": 140.70000000000002,
            "bin_end": 160.8,
            "count": 0
           },
           {
            "bin_start": 160.8,
            "bin_end": 180.9,
            "count": 0
           },
           {
            "bin_start": 180.9,
            "bin_end": 201,
            "count": 1
           }
          ]
         }
        },
        {
         "name": "fuel_type_gas",
         "dtype": "float64",
         "stats": {
          "unique_count": 5,
          "nan_count": 0,
          "min": "0.0",
          "max": "201.0",
          "histogram": [
           {
            "bin_start": 0,
            "bin_end": 20.1,
            "count": 7
           },
           {
            "bin_start": 20.1,
            "bin_end": 40.2,
            "count": 0
           },
           {
            "bin_start": 40.2,
            "bin_end": 60.300000000000004,
            "count": 0
           },
           {
            "bin_start": 60.300000000000004,
            "bin_end": 80.4,
            "count": 0
           },
           {
            "bin_start": 80.4,
            "bin_end": 100.5,
            "count": 0
           },
           {
            "bin_start": 100.5,
            "bin_end": 120.60000000000001,
            "count": 0
           },
           {
            "bin_start": 120.60000000000001,
            "bin_end": 140.70000000000002,
            "count": 0
           },
           {
            "bin_start": 140.70000000000002,
            "bin_end": 160.8,
            "count": 0
           },
           {
            "bin_start": 160.8,
            "bin_end": 180.9,
            "count": 0
           },
           {
            "bin_start": 180.9,
            "bin_end": 201,
            "count": 1
           }
          ]
         }
        },
        {
         "name": "_deepnote_index_column",
         "dtype": "object"
        }
       ],
       "rows": [
        {
         "symboling": 201,
         "normalized-losses": 201,
         "wheel-base": 201,
         "length": 201,
         "width": 201,
         "height": 201,
         "curb-weight": 201,
         "engine-size": 201,
         "bore": 201,
         "stroke": 201,
         "compression-ratio": 201,
         "horsepower": 201,
         "peak-rpm": 201,
         "city-l/100km": 201,
         "highway-l/100km": 201,
         "price": 201,
         "fuel_type_diesel": 201,
         "fuel_type_gas": 201,
         "_deepnote_index_column": "count"
        },
        {
         "symboling": 0.8407960199004975,
         "normalized-losses": 122,
         "wheel-base": 98.79701492537313,
         "length": 0.8371023307298204,
         "width": 0.9151257600884466,
         "height": 0.8991081382385732,
         "curb-weight": 2555.6666666666665,
         "engine-size": 126.87562189054727,
         "bore": 3.33069156704042,
         "stroke": 3.2568740872750674,
         "compression-ratio": 10.164278606965174,
         "horsepower": 103.40298507462687,
         "peak-rpm": 5117.665367742568,
         "city-l/100km": 9.944145483678392,
         "highway-l/100km": 8.044956825400792,
         "price": 13207.129353233831,
         "fuel_type_diesel": 0.09950248756218906,
         "fuel_type_gas": 0.900497512437811,
         "_deepnote_index_column": "mean"
        },
        {
         "symboling": 1.2548017226574404,
         "normalized-losses": 31.996249780247684,
         "wheel-base": 6.066365554825733,
         "length": 0.059212758732757685,
         "width": 0.029187094704637245,
         "height": 0.04093348095813227,
         "curb-weight": 517.2967265828513,
         "engine-size": 41.54683444904459,
         "bore": 0.2680718571228559,
         "stroke": 0.3160476211151004,
         "compression-ratio": 4.0049654932333745,
         "horsepower": 37.365649881204746,
         "peak-rpm": 478.11380501977726,
         "city-l/100km": 2.5345992612400026,
         "highway-l/100km": 1.8407385224197115,
         "price": 7947.066341939274,
         "fuel_type_diesel": 0.30008290728360576,
         "fuel_type_gas": 0.30008290728360576,
         "_deepnote_index_column": "std"
        },
        {
         "symboling": -2,
         "normalized-losses": 65,
         "wheel-base": 86.6,
         "length": 0.6780394041326285,
         "width": 0.8374999999999999,
         "height": 0.7993311036789298,
         "curb-weight": 1488,
         "engine-size": 61,
         "bore": 2.54,
         "stroke": 2.07,
         "compression-ratio": 7,
         "horsepower": 48,
         "peak-rpm": 4150,
         "city-l/100km": 4.795918367346939,
         "highway-l/100km": 4.351851851851852,
         "price": 5118,
         "fuel_type_diesel": 0,
         "fuel_type_gas": 0,
         "_deepnote_index_column": "min"
        },
        {
         "symboling": 0,
         "normalized-losses": 101,
         "wheel-base": 94.5,
         "length": 0.8015377222489188,
         "width": 0.8902777777777777,
         "height": 0.8695652173913044,
         "curb-weight": 2169,
         "engine-size": 98,
         "bore": 3.15,
         "stroke": 3.11,
         "compression-ratio": 8.6,
         "horsepower": 70,
         "peak-rpm": 4800,
         "city-l/100km": 7.833333333333333,
         "highway-l/100km": 6.911764705882353,
         "price": 7775,
         "fuel_type_diesel": 0,
         "fuel_type_gas": 1,
         "_deepnote_index_column": "25%"
        },
        {
         "symboling": 1,
         "normalized-losses": 122,
         "wheel-base": 97,
         "length": 0.8322921672272945,
         "width": 0.9097222222222222,
         "height": 0.9046822742474916,
         "curb-weight": 2414,
         "engine-size": 120,
         "bore": 3.31,
         "stroke": 3.29,
         "compression-ratio": 9,
         "horsepower": 95,
         "peak-rpm": 5125.369458128079,
         "city-l/100km": 9.791666666666666,
         "highway-l/100km": 7.833333333333333,
         "price": 10295,
         "fuel_type_diesel": 0,
         "fuel_type_gas": 1,
         "_deepnote_index_column": "50%"
        },
        {
         "symboling": 2,
         "normalized-losses": 137,
         "wheel-base": 102.4,
         "length": 0.8817876021143681,
         "width": 0.925,
         "height": 0.92809364548495,
         "curb-weight": 2926,
         "engine-size": 141,
         "bore": 3.58,
         "stroke": 3.41,
         "compression-ratio": 9.4,
         "horsepower": 116,
         "peak-rpm": 5500,
         "city-l/100km": 12.36842105263158,
         "highway-l/100km": 9.4,
         "price": 16500,
         "fuel_type_diesel": 0,
         "fuel_type_gas": 1,
         "_deepnote_index_column": "75%"
        },
        {
         "symboling": 3,
         "normalized-losses": 256,
         "wheel-base": 120.9,
         "length": 1,
         "width": 1,
         "height": 1,
         "curb-weight": 4066,
         "engine-size": 326,
         "bore": 3.94,
         "stroke": 4.17,
         "compression-ratio": 23,
         "horsepower": 262,
         "peak-rpm": 6600,
         "city-l/100km": 18.07692307692308,
         "highway-l/100km": 14.6875,
         "price": 45400,
         "fuel_type_diesel": 1,
         "fuel_type_gas": 1,
         "_deepnote_index_column": "max"
        }
       ]
      },
      "text/plain": "       symboling  normalized-losses  wheel-base  length   width  height  \\\ncount    201.000            201.000     201.000 201.000 201.000 201.000   \nmean       0.841            122.000      98.797   0.837   0.915   0.899   \nstd        1.255             31.996       6.066   0.059   0.029   0.041   \nmin       -2.000             65.000      86.600   0.678   0.837   0.799   \n25%        0.000            101.000      94.500   0.802   0.890   0.870   \n50%        1.000            122.000      97.000   0.832   0.910   0.905   \n75%        2.000            137.000     102.400   0.882   0.925   0.928   \nmax        3.000            256.000     120.900   1.000   1.000   1.000   \n\n       curb-weight  engine-size    bore  stroke  compression-ratio  \\\ncount      201.000      201.000 201.000 201.000            201.000   \nmean     2,555.667      126.876   3.331   3.257             10.164   \nstd        517.297       41.547   0.268   0.316              4.005   \nmin      1,488.000       61.000   2.540   2.070              7.000   \n25%      2,169.000       98.000   3.150   3.110              8.600   \n50%      2,414.000      120.000   3.310   3.290              9.000   \n75%      2,926.000      141.000   3.580   3.410              9.400   \nmax      4,066.000      326.000   3.940   4.170             23.000   \n\n       horsepower  peak-rpm  city-l/100km  highway-l/100km      price  \\\ncount     201.000   201.000       201.000          201.000    201.000   \nmean      103.403 5,117.665         9.944            8.045 13,207.129   \nstd        37.366   478.114         2.535            1.841  7,947.066   \nmin        48.000 4,150.000         4.796            4.352  5,118.000   \n25%        70.000 4,800.000         7.833            6.912  7,775.000   \n50%        95.000 5,125.369         9.792            7.833 10,295.000   \n75%       116.000 5,500.000        12.368            9.400 16,500.000   \nmax       262.000 6,600.000        18.077           14.688 45,400.000   \n\n       fuel_type_diesel  fuel_type_gas  \ncount           201.000        201.000  \nmean              0.100          0.900  \nstd               0.300          0.300  \nmin               0.000          0.000  \n25%               0.000          1.000  \n50%               0.000          1.000  \n75%               0.000          1.000  \nmax               1.000          1.000  ",
      "text/html": "<div>\n<style scoped>\n    .dataframe tbody tr th:only-of-type {\n        vertical-align: middle;\n    }\n\n    .dataframe tbody tr th {\n        vertical-align: top;\n    }\n\n    .dataframe thead th {\n        text-align: right;\n    }\n</style>\n<table border=\"1\" class=\"dataframe\">\n  <thead>\n    <tr style=\"text-align: right;\">\n      <th></th>\n      <th>symboling</th>\n      <th>normalized-losses</th>\n      <th>wheel-base</th>\n      <th>length</th>\n      <th>width</th>\n      <th>height</th>\n      <th>curb-weight</th>\n      <th>engine-size</th>\n      <th>bore</th>\n      <th>stroke</th>\n      <th>compression-ratio</th>\n      <th>horsepower</th>\n      <th>peak-rpm</th>\n      <th>city-l/100km</th>\n      <th>highway-l/100km</th>\n      <th>price</th>\n      <th>fuel_type_diesel</th>\n      <th>fuel_type_gas</th>\n    </tr>\n  </thead>\n  <tbody>\n    <tr>\n      <th>count</th>\n      <td>201.000</td>\n      <td>201.000</td>\n      <td>201.000</td>\n      <td>201.000</td>\n      <td>201.000</td>\n      <td>201.000</td>\n      <td>201.000</td>\n      <td>201.000</td>\n      <td>201.000</td>\n      <td>201.000</td>\n      <td>201.000</td>\n      <td>201.000</td>\n      <td>201.000</td>\n      <td>201.000</td>\n      <td>201.000</td>\n      <td>201.000</td>\n      <td>201.000</td>\n      <td>201.000</td>\n    </tr>\n    <tr>\n      <th>mean</th>\n      <td>0.841</td>\n      <td>122.000</td>\n      <td>98.797</td>\n      <td>0.837</td>\n      <td>0.915</td>\n      <td>0.899</td>\n      <td>2,555.667</td>\n      <td>126.876</td>\n      <td>3.331</td>\n      <td>3.257</td>\n      <td>10.164</td>\n      <td>103.403</td>\n      <td>5,117.665</td>\n      <td>9.944</td>\n      <td>8.045</td>\n      <td>13,207.129</td>\n      <td>0.100</td>\n      <td>0.900</td>\n    </tr>\n    <tr>\n      <th>std</th>\n      <td>1.255</td>\n      <td>31.996</td>\n      <td>6.066</td>\n      <td>0.059</td>\n      <td>0.029</td>\n      <td>0.041</td>\n      <td>517.297</td>\n      <td>41.547</td>\n      <td>0.268</td>\n      <td>0.316</td>\n      <td>4.005</td>\n      <td>37.366</td>\n      <td>478.114</td>\n      <td>2.535</td>\n      <td>1.841</td>\n      <td>7,947.066</td>\n      <td>0.300</td>\n      <td>0.300</td>\n    </tr>\n    <tr>\n      <th>min</th>\n      <td>-2.000</td>\n      <td>65.000</td>\n      <td>86.600</td>\n      <td>0.678</td>\n      <td>0.837</td>\n      <td>0.799</td>\n      <td>1,488.000</td>\n      <td>61.000</td>\n      <td>2.540</td>\n      <td>2.070</td>\n      <td>7.000</td>\n      <td>48.000</td>\n      <td>4,150.000</td>\n      <td>4.796</td>\n      <td>4.352</td>\n      <td>5,118.000</td>\n      <td>0.000</td>\n      <td>0.000</td>\n    </tr>\n    <tr>\n      <th>25%</th>\n      <td>0.000</td>\n      <td>101.000</td>\n      <td>94.500</td>\n      <td>0.802</td>\n      <td>0.890</td>\n      <td>0.870</td>\n      <td>2,169.000</td>\n      <td>98.000</td>\n      <td>3.150</td>\n      <td>3.110</td>\n      <td>8.600</td>\n      <td>70.000</td>\n      <td>4,800.000</td>\n      <td>7.833</td>\n      <td>6.912</td>\n      <td>7,775.000</td>\n      <td>0.000</td>\n      <td>1.000</td>\n    </tr>\n    <tr>\n      <th>50%</th>\n      <td>1.000</td>\n      <td>122.000</td>\n      <td>97.000</td>\n      <td>0.832</td>\n      <td>0.910</td>\n      <td>0.905</td>\n      <td>2,414.000</td>\n      <td>120.000</td>\n      <td>3.310</td>\n      <td>3.290</td>\n      <td>9.000</td>\n      <td>95.000</td>\n      <td>5,125.369</td>\n      <td>9.792</td>\n      <td>7.833</td>\n      <td>10,295.000</td>\n      <td>0.000</td>\n      <td>1.000</td>\n    </tr>\n    <tr>\n      <th>75%</th>\n      <td>2.000</td>\n      <td>137.000</td>\n      <td>102.400</td>\n      <td>0.882</td>\n      <td>0.925</td>\n      <td>0.928</td>\n      <td>2,926.000</td>\n      <td>141.000</td>\n      <td>3.580</td>\n      <td>3.410</td>\n      <td>9.400</td>\n      <td>116.000</td>\n      <td>5,500.000</td>\n      <td>12.368</td>\n      <td>9.400</td>\n      <td>16,500.000</td>\n      <td>0.000</td>\n      <td>1.000</td>\n    </tr>\n    <tr>\n      <th>max</th>\n      <td>3.000</td>\n      <td>256.000</td>\n      <td>120.900</td>\n      <td>1.000</td>\n      <td>1.000</td>\n      <td>1.000</td>\n      <td>4,066.000</td>\n      <td>326.000</td>\n      <td>3.940</td>\n      <td>4.170</td>\n      <td>23.000</td>\n      <td>262.000</td>\n      <td>6,600.000</td>\n      <td>18.077</td>\n      <td>14.688</td>\n      <td>45,400.000</td>\n      <td>1.000</td>\n      <td>1.000</td>\n    </tr>\n  </tbody>\n</table>\n</div>"
     },
     "metadata": {}
    }
   ],
   "execution_count": 6
  },
  {
   "cell_type": "code",
   "source": "",
   "metadata": {
    "cell_id": "36693d70-fa8d-4319-b8e7-ed12f5f61142",
    "tags": [],
    "deepnote_cell_type": "code"
   },
   "outputs": [],
   "execution_count": null
  },
  {
   "cell_type": "markdown",
   "source": "<a style='text-decoration:none;line-height:16px;display:flex;color:#5B5B62;padding:10px;justify-content:end;' href='https://deepnote.com?utm_source=created-in-deepnote-cell&projectId=fabb4e41-fcd2-4421-bbfb-772986975631' target=\"_blank\">\n<img alt='Created in deepnote.com' style='display:inline;max-height:16px;margin:0px;margin-right:7.5px;' src='data:image/svg+xml;base64,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' > </img>\nCreated in <span style='font-weight:600;margin-left:4px;'>Deepnote</span></a>",
   "metadata": {
    "tags": [],
    "created_in_deepnote_cell": true,
    "deepnote_cell_type": "markdown"
   }
  }
 ],
 "nbformat": 4,
 "nbformat_minor": 2,
 "metadata": {
  "orig_nbformat": 2,
  "deepnote": {
   "is_reactive": false
  },
  "deepnote_notebook_id": "caee9bcb-d004-439c-a553-892c2933eff5",
  "deepnote_execution_queue": []
 }
}