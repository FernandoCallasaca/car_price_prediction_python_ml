{
 "cells": [
  {
   "cell_type": "markdown",
   "source": "# Prepare out enviroments",
   "metadata": {
    "cell_id": "a5243322-804b-4ecd-a743-9bd9ca07700f",
    "tags": [],
    "deepnote_cell_type": "markdown"
   }
  },
  {
   "cell_type": "markdown",
   "source": "## For Manipulation",
   "metadata": {
    "cell_id": "6ad27e7d-74ce-4691-b304-3c25c3aaa998",
    "tags": [],
    "deepnote_cell_type": "markdown"
   }
  },
  {
   "cell_type": "code",
   "metadata": {
    "tags": [],
    "cell_id": "d9addc17-aadd-4c41-bf29-d3afbaddcb16",
    "deepnote_to_be_reexecuted": false,
    "source_hash": "77276ce0",
    "execution_start": 1646236349844,
    "execution_millis": 6,
    "deepnote_cell_type": "code"
   },
   "source": "import pandas as pd\nimport numpy as np\nimport seaborn as sns\nfrom scipy import stats\nimport matplotlib.pyplot as plt\n%matplotlib inline\npd.__version__",
   "execution_count": 2,
   "outputs": [
    {
     "output_type": "execute_result",
     "execution_count": 2,
     "data": {
      "text/plain": "'1.2.5'"
     },
     "metadata": {}
    }
   ]
  },
  {
   "cell_type": "markdown",
   "source": "## For Model",
   "metadata": {
    "cell_id": "05281f77-2583-4954-beb6-13ce962bee58",
    "tags": [],
    "deepnote_cell_type": "markdown"
   }
  },
  {
   "cell_type": "code",
   "source": "from sklearn.linear_model import LinearRegression\nfrom sklearn.metrics import mean_squared_error",
   "metadata": {
    "cell_id": "a9d9bbcf-1b30-476a-af74-e34d69482865",
    "tags": [],
    "deepnote_to_be_reexecuted": false,
    "source_hash": "86042c11",
    "execution_start": 1646237279356,
    "execution_millis": 4,
    "deepnote_cell_type": "code"
   },
   "outputs": [],
   "execution_count": 18
  },
  {
   "cell_type": "markdown",
   "source": "# Read our csv file",
   "metadata": {
    "cell_id": "5ecd91a6-d5d5-422d-9f3a-98689200fe99",
    "tags": [],
    "deepnote_cell_type": "markdown"
   }
  },
  {
   "cell_type": "code",
   "source": "path_file = 'cars_to_model_development.csv'\npath_file",
   "metadata": {
    "cell_id": "6a43982d-93d5-4329-8d29-945328112894",
    "tags": [],
    "deepnote_to_be_reexecuted": false,
    "source_hash": "fdf2af91",
    "execution_start": 1646236856992,
    "execution_millis": 2,
    "deepnote_cell_type": "code"
   },
   "outputs": [
    {
     "output_type": "execute_result",
     "execution_count": 8,
     "data": {
      "text/plain": "'cars_to_model_development.csv'"
     },
     "metadata": {}
    }
   ],
   "execution_count": 8
  },
  {
   "cell_type": "code",
   "source": "df_cars = pd.read_csv(path_file)\ndf_cars",
   "metadata": {
    "cell_id": "ed86039a-14dd-442d-a139-944f01d85c54",
    "tags": [],
    "deepnote_to_be_reexecuted": false,
    "source_hash": "3ba05530",
    "execution_start": 1646236860373,
    "execution_millis": 99,
    "deepnote_cell_type": "code"
   },
   "outputs": [
    {
     "output_type": "execute_result",
     "execution_count": 9,
     "data": {
      "application/vnd.deepnote.dataframe.v3+json": {
       "column_count": 29,
       "row_count": 201,
       "columns": [
        {
         "name": "symboling",
         "dtype": "int64",
         "stats": {
          "unique_count": 6,
          "nan_count": 0,
          "min": "-2",
          "max": "3",
          "histogram": [
           {
            "bin_start": -2,
            "bin_end": -1.5,
            "count": 3
           },
           {
            "bin_start": -1.5,
            "bin_end": -1,
            "count": 0
           },
           {
            "bin_start": -1,
            "bin_end": -0.5,
            "count": 22
           },
           {
            "bin_start": -0.5,
            "bin_end": 0,
            "count": 0
           },
           {
            "bin_start": 0,
            "bin_end": 0.5,
            "count": 65
           },
           {
            "bin_start": 0.5,
            "bin_end": 1,
            "count": 0
           },
           {
            "bin_start": 1,
            "bin_end": 1.5,
            "count": 52
           },
           {
            "bin_start": 1.5,
            "bin_end": 2,
            "count": 0
           },
           {
            "bin_start": 2,
            "bin_end": 2.5,
            "count": 32
           },
           {
            "bin_start": 2.5,
            "bin_end": 3,
            "count": 27
           }
          ]
         }
        },
        {
         "name": "normalized-losses",
         "dtype": "int64",
         "stats": {
          "unique_count": 51,
          "nan_count": 0,
          "min": "65",
          "max": "256",
          "histogram": [
           {
            "bin_start": 65,
            "bin_end": 84.1,
            "count": 17
           },
           {
            "bin_start": 84.1,
            "bin_end": 103.2,
            "count": 46
           },
           {
            "bin_start": 103.2,
            "bin_end": 122.30000000000001,
            "count": 68
           },
           {
            "bin_start": 122.30000000000001,
            "bin_end": 141.4,
            "count": 20
           },
           {
            "bin_start": 141.4,
            "bin_end": 160.5,
            "count": 21
           },
           {
            "bin_start": 160.5,
            "bin_end": 179.60000000000002,
            "count": 18
           },
           {
            "bin_start": 179.60000000000002,
            "bin_end": 198.70000000000002,
            "count": 9
           },
           {
            "bin_start": 198.70000000000002,
            "bin_end": 217.8,
            "count": 0
           },
           {
            "bin_start": 217.8,
            "bin_end": 236.9,
            "count": 1
           },
           {
            "bin_start": 236.9,
            "bin_end": 256,
            "count": 1
           }
          ]
         }
        },
        {
         "name": "make",
         "dtype": "object",
         "stats": {
          "unique_count": 22,
          "nan_count": 0,
          "categories": [
           {
            "name": "toyota",
            "count": 32
           },
           {
            "name": "nissan",
            "count": 18
           },
           {
            "name": "20 others",
            "count": 151
           }
          ]
         }
        },
        {
         "name": "aspiration",
         "dtype": "object",
         "stats": {
          "unique_count": 2,
          "nan_count": 0,
          "categories": [
           {
            "name": "std",
            "count": 165
           },
           {
            "name": "turbo",
            "count": 36
           }
          ]
         }
        },
        {
         "name": "num-of-doors",
         "dtype": "object",
         "stats": {
          "unique_count": 2,
          "nan_count": 0,
          "categories": [
           {
            "name": "four",
            "count": 115
           },
           {
            "name": "two",
            "count": 86
           }
          ]
         }
        },
        {
         "name": "body-style",
         "dtype": "object",
         "stats": {
          "unique_count": 5,
          "nan_count": 0,
          "categories": [
           {
            "name": "sedan",
            "count": 94
           },
           {
            "name": "hatchback",
            "count": 68
           },
           {
            "name": "3 others",
            "count": 39
           }
          ]
         }
        },
        {
         "name": "drive-wheels",
         "dtype": "object",
         "stats": {
          "unique_count": 3,
          "nan_count": 0,
          "categories": [
           {
            "name": "fwd",
            "count": 118
           },
           {
            "name": "rwd",
            "count": 75
           },
           {
            "name": "4wd",
            "count": 8
           }
          ]
         }
        },
        {
         "name": "engine-location",
         "dtype": "object",
         "stats": {
          "unique_count": 2,
          "nan_count": 0,
          "categories": [
           {
            "name": "front",
            "count": 198
           },
           {
            "name": "rear",
            "count": 3
           }
          ]
         }
        },
        {
         "name": "wheel-base",
         "dtype": "float64",
         "stats": {
          "unique_count": 52,
          "nan_count": 0,
          "min": "86.6",
          "max": "120.9",
          "histogram": [
           {
            "bin_start": 86.6,
            "bin_end": 90.03,
            "count": 8
           },
           {
            "bin_start": 90.03,
            "bin_end": 93.46,
            "count": 9
           },
           {
            "bin_start": 93.46,
            "bin_end": 96.89,
            "count": 81
           },
           {
            "bin_start": 96.89,
            "bin_end": 100.32,
            "count": 40
           },
           {
            "bin_start": 100.32,
            "bin_end": 103.75,
            "count": 24
           },
           {
            "bin_start": 103.75,
            "bin_end": 107.18,
            "count": 14
           },
           {
            "bin_start": 107.18,
            "bin_end": 110.61,
            "count": 15
           },
           {
            "bin_start": 110.61,
            "bin_end": 114.04,
            "count": 3
           },
           {
            "bin_start": 114.04,
            "bin_end": 117.47,
            "count": 6
           },
           {
            "bin_start": 117.47,
            "bin_end": 120.9,
            "count": 1
           }
          ]
         }
        },
        {
         "name": "length",
         "dtype": "float64",
         "stats": {
          "unique_count": 73,
          "nan_count": 0,
          "min": "0.6780394041326285",
          "max": "1.0",
          "histogram": [
           {
            "bin_start": 0.6780394041326285,
            "bin_end": 0.7102354637193656,
            "count": 3
           },
           {
            "bin_start": 0.7102354637193656,
            "bin_end": 0.7424315233061028,
            "count": 3
           },
           {
            "bin_start": 0.7424315233061028,
            "bin_end": 0.77462758289284,
            "count": 27
           },
           {
            "bin_start": 0.77462758289284,
            "bin_end": 0.8068236424795772,
            "count": 23
           },
           {
            "bin_start": 0.8068236424795772,
            "bin_end": 0.8390197020663143,
            "count": 54
           },
           {
            "bin_start": 0.8390197020663143,
            "bin_end": 0.8712157616530514,
            "count": 37
           },
           {
            "bin_start": 0.8712157616530514,
            "bin_end": 0.9034118212397886,
            "count": 23
           },
           {
            "bin_start": 0.9034118212397886,
            "bin_end": 0.9356078808265257,
            "count": 20
           },
           {
            "bin_start": 0.9356078808265257,
            "bin_end": 0.9678039404132628,
            "count": 8
           },
           {
            "bin_start": 0.9678039404132628,
            "bin_end": 1,
            "count": 3
           }
          ]
         }
        },
        {
         "name": "width",
         "dtype": "float64",
         "stats": {
          "unique_count": 43,
          "nan_count": 0,
          "min": "0.8374999999999999",
          "max": "1.0",
          "histogram": [
           {
            "bin_start": 0.8374999999999999,
            "bin_end": 0.8537499999999999,
            "count": 1
           },
           {
            "bin_start": 0.8537499999999999,
            "bin_end": 0.8699999999999999,
            "count": 2
           },
           {
            "bin_start": 0.8699999999999999,
            "bin_end": 0.88625,
            "count": 34
           },
           {
            "bin_start": 0.88625,
            "bin_end": 0.9025,
            "count": 36
           },
           {
            "bin_start": 0.9025,
            "bin_end": 0.91875,
            "count": 46
           },
           {
            "bin_start": 0.91875,
            "bin_end": 0.9349999999999999,
            "count": 43
           },
           {
            "bin_start": 0.9349999999999999,
            "bin_end": 0.9512499999999999,
            "count": 19
           },
           {
            "bin_start": 0.9512499999999999,
            "bin_end": 0.9675,
            "count": 7
           },
           {
            "bin_start": 0.9675,
            "bin_end": 0.98375,
            "count": 5
           },
           {
            "bin_start": 0.98375,
            "bin_end": 1,
            "count": 8
           }
          ]
         }
        },
        {
         "name": "height",
         "dtype": "float64",
         "stats": {
          "unique_count": 49,
          "nan_count": 0,
          "min": "47.8",
          "max": "59.8",
          "histogram": [
           {
            "bin_start": 47.8,
            "bin_end": 49,
            "count": 3
           },
           {
            "bin_start": 49,
            "bin_end": 50.199999999999996,
            "count": 9
           },
           {
            "bin_start": 50.199999999999996,
            "bin_end": 51.4,
            "count": 27
           },
           {
            "bin_start": 51.4,
            "bin_end": 52.599999999999994,
            "count": 22
           },
           {
            "bin_start": 52.599999999999994,
            "bin_end": 53.8,
            "count": 33
           },
           {
            "bin_start": 53.8,
            "bin_end": 55,
            "count": 41
           },
           {
            "bin_start": 55,
            "bin_end": 56.199999999999996,
            "count": 38
           },
           {
            "bin_start": 56.199999999999996,
            "bin_end": 57.4,
            "count": 15
           },
           {
            "bin_start": 57.4,
            "bin_end": 58.599999999999994,
            "count": 4
           },
           {
            "bin_start": 58.599999999999994,
            "bin_end": 59.8,
            "count": 9
           }
          ]
         }
        },
        {
         "name": "curb-weight",
         "dtype": "int64",
         "stats": {
          "unique_count": 169,
          "nan_count": 0,
          "min": "1488",
          "max": "4066",
          "histogram": [
           {
            "bin_start": 1488,
            "bin_end": 1745.8,
            "count": 2
           },
           {
            "bin_start": 1745.8,
            "bin_end": 2003.6,
            "count": 27
           },
           {
            "bin_start": 2003.6,
            "bin_end": 2261.4,
            "count": 33
           },
           {
            "bin_start": 2261.4,
            "bin_end": 2519.2,
            "count": 50
           },
           {
            "bin_start": 2519.2,
            "bin_end": 2777,
            "count": 25
           },
           {
            "bin_start": 2777,
            "bin_end": 3034.8,
            "count": 23
           },
           {
            "bin_start": 3034.8,
            "bin_end": 3292.6000000000004,
            "count": 25
           },
           {
            "bin_start": 3292.6000000000004,
            "bin_end": 3550.4,
            "count": 7
           },
           {
            "bin_start": 3550.4,
            "bin_end": 3808.2000000000003,
            "count": 5
           },
           {
            "bin_start": 3808.2000000000003,
            "bin_end": 4066,
            "count": 4
           }
          ]
         }
        },
        {
         "name": "engine-type",
         "dtype": "object",
         "stats": {
          "unique_count": 6,
          "nan_count": 0,
          "categories": [
           {
            "name": "ohc",
            "count": 145
           },
           {
            "name": "ohcf",
            "count": 15
           },
           {
            "name": "4 others",
            "count": 41
           }
          ]
         }
        },
        {
         "name": "num-of-cylinders",
         "dtype": "object",
         "stats": {
          "unique_count": 7,
          "nan_count": 0,
          "categories": [
           {
            "name": "four",
            "count": 157
           },
           {
            "name": "six",
            "count": 24
           },
           {
            "name": "5 others",
            "count": 20
           }
          ]
         }
        },
        {
         "name": "engine-size",
         "dtype": "int64",
         "stats": {
          "unique_count": 43,
          "nan_count": 0,
          "min": "61",
          "max": "326",
          "histogram": [
           {
            "bin_start": 61,
            "bin_end": 87.5,
            "count": 6
           },
           {
            "bin_start": 87.5,
            "bin_end": 114,
            "count": 93
           },
           {
            "bin_start": 114,
            "bin_end": 140.5,
            "count": 45
           },
           {
            "bin_start": 140.5,
            "bin_end": 167,
            "count": 30
           },
           {
            "bin_start": 167,
            "bin_end": 193.5,
            "count": 14
           },
           {
            "bin_start": 193.5,
            "bin_end": 220,
            "count": 6
           },
           {
            "bin_start": 220,
            "bin_end": 246.5,
            "count": 2
           },
           {
            "bin_start": 246.5,
            "bin_end": 273,
            "count": 2
           },
           {
            "bin_start": 273,
            "bin_end": 299.5,
            "count": 0
           },
           {
            "bin_start": 299.5,
            "bin_end": 326,
            "count": 3
           }
          ]
         }
        },
        {
         "name": "fuel-system",
         "dtype": "object",
         "stats": {
          "unique_count": 8,
          "nan_count": 0,
          "categories": [
           {
            "name": "mpfi",
            "count": 92
           },
           {
            "name": "2bbl",
            "count": 64
           },
           {
            "name": "6 others",
            "count": 45
           }
          ]
         }
        },
        {
         "name": "bore",
         "dtype": "float64",
         "stats": {
          "unique_count": 39,
          "nan_count": 0,
          "min": "2.54",
          "max": "3.94",
          "histogram": [
           {
            "bin_start": 2.54,
            "bin_end": 2.68,
            "count": 1
           },
           {
            "bin_start": 2.68,
            "bin_end": 2.82,
            "count": 1
           },
           {
            "bin_start": 2.82,
            "bin_end": 2.96,
            "count": 8
           },
           {
            "bin_start": 2.96,
            "bin_end": 3.1,
            "count": 35
           },
           {
            "bin_start": 3.1,
            "bin_end": 3.24,
            "count": 39
           },
           {
            "bin_start": 3.24,
            "bin_end": 3.38,
            "count": 28
           },
           {
            "bin_start": 3.38,
            "bin_end": 3.52,
            "count": 27
           },
           {
            "bin_start": 3.52,
            "bin_end": 3.66,
            "count": 42
           },
           {
            "bin_start": 3.66,
            "bin_end": 3.8,
            "count": 17
           },
           {
            "bin_start": 3.8,
            "bin_end": 3.94,
            "count": 3
           }
          ]
         }
        },
        {
         "name": "stroke",
         "dtype": "float64",
         "stats": {
          "unique_count": 36,
          "nan_count": 4,
          "min": "2.07",
          "max": "4.17",
          "histogram": [
           {
            "bin_start": 2.07,
            "bin_end": 2.28,
            "count": 3
           },
           {
            "bin_start": 2.28,
            "bin_end": 2.4899999999999998,
            "count": 1
           },
           {
            "bin_start": 2.4899999999999998,
            "bin_end": 2.7,
            "count": 13
           },
           {
            "bin_start": 2.7,
            "bin_end": 2.91,
            "count": 7
           },
           {
            "bin_start": 2.91,
            "bin_end": 3.12,
            "count": 27
           },
           {
            "bin_start": 3.12,
            "bin_end": 3.33,
            "count": 52
           },
           {
            "bin_start": 3.33,
            "bin_end": 3.54,
            "count": 70
           },
           {
            "bin_start": 3.54,
            "bin_end": 3.75,
            "count": 15
           },
           {
            "bin_start": 3.75,
            "bin_end": 3.96,
            "count": 7
           },
           {
            "bin_start": 3.96,
            "bin_end": 4.17,
            "count": 2
           }
          ]
         }
        },
        {
         "name": "compression-ratio",
         "dtype": "float64",
         "stats": {
          "unique_count": 32,
          "nan_count": 0,
          "min": "7.0",
          "max": "23.0",
          "histogram": [
           {
            "bin_start": 7,
            "bin_end": 8.6,
            "count": 50
           },
           {
            "bin_start": 8.6,
            "bin_end": 10.2,
            "count": 130
           },
           {
            "bin_start": 10.2,
            "bin_end": 11.8,
            "count": 1
           },
           {
            "bin_start": 11.8,
            "bin_end": 13.4,
            "count": 0
           },
           {
            "bin_start": 13.4,
            "bin_end": 15,
            "count": 0
           },
           {
            "bin_start": 15,
            "bin_end": 16.6,
            "count": 0
           },
           {
            "bin_start": 16.6,
            "bin_end": 18.200000000000003,
            "count": 0
           },
           {
            "bin_start": 18.200000000000003,
            "bin_end": 19.8,
            "count": 0
           },
           {
            "bin_start": 19.8,
            "bin_end": 21.4,
            "count": 5
           },
           {
            "bin_start": 21.4,
            "bin_end": 23,
            "count": 15
           }
          ]
         }
        },
        {
         "name": "horsepower",
         "dtype": "float64",
         "stats": {
          "unique_count": 59,
          "nan_count": 0,
          "min": "48.0",
          "max": "262.0",
          "histogram": [
           {
            "bin_start": 48,
            "bin_end": 69.4,
            "count": 44
           },
           {
            "bin_start": 69.4,
            "bin_end": 90.8,
            "count": 45
           },
           {
            "bin_start": 90.8,
            "bin_end": 112.19999999999999,
            "count": 48
           },
           {
            "bin_start": 112.19999999999999,
            "bin_end": 133.6,
            "count": 24
           },
           {
            "bin_start": 133.6,
            "bin_end": 155,
            "count": 14
           },
           {
            "bin_start": 155,
            "bin_end": 176.39999999999998,
            "count": 16
           },
           {
            "bin_start": 176.39999999999998,
            "bin_end": 197.79999999999998,
            "count": 5
           },
           {
            "bin_start": 197.79999999999998,
            "bin_end": 219.2,
            "count": 4
           },
           {
            "bin_start": 219.2,
            "bin_end": 240.6,
            "count": 0
           },
           {
            "bin_start": 240.6,
            "bin_end": 262,
            "count": 1
           }
          ]
         }
        },
        {
         "name": "peak-rpm",
         "dtype": "float64",
         "stats": {
          "unique_count": 23,
          "nan_count": 0,
          "min": "4150.0",
          "max": "6600.0",
          "histogram": [
           {
            "bin_start": 4150,
            "bin_end": 4395,
            "count": 17
           },
           {
            "bin_start": 4395,
            "bin_end": 4640,
            "count": 10
           },
           {
            "bin_start": 4640,
            "bin_end": 4885,
            "count": 41
           },
           {
            "bin_start": 4885,
            "bin_end": 5130,
            "count": 33
           },
           {
            "bin_start": 5130,
            "bin_end": 5375,
            "count": 31
           },
           {
            "bin_start": 5375,
            "bin_end": 5620,
            "count": 48
           },
           {
            "bin_start": 5620,
            "bin_end": 5865,
            "count": 7
           },
           {
            "bin_start": 5865,
            "bin_end": 6110,
            "count": 12
           },
           {
            "bin_start": 6110,
            "bin_end": 6355,
            "count": 0
           },
           {
            "bin_start": 6355,
            "bin_end": 6600,
            "count": 2
           }
          ]
         }
        },
        {
         "name": "city-mpg",
         "dtype": "int64",
         "stats": {
          "unique_count": 29,
          "nan_count": 0,
          "min": "13",
          "max": "49",
          "histogram": [
           {
            "bin_start": 13,
            "bin_end": 16.6,
            "count": 11
           },
           {
            "bin_start": 16.6,
            "bin_end": 20.2,
            "count": 45
           },
           {
            "bin_start": 20.2,
            "bin_end": 23.8,
            "count": 24
           },
           {
            "bin_start": 23.8,
            "bin_end": 27.4,
            "count": 56
           },
           {
            "bin_start": 27.4,
            "bin_end": 31,
            "count": 18
           },
           {
            "bin_start": 31,
            "bin_end": 34.6,
            "count": 31
           },
           {
            "bin_start": 34.6,
            "bin_end": 38.2,
            "count": 13
           },
           {
            "bin_start": 38.2,
            "bin_end": 41.8,
            "count": 0
           },
           {
            "bin_start": 41.8,
            "bin_end": 45.4,
            "count": 1
           },
           {
            "bin_start": 45.4,
            "bin_end": 49,
            "count": 2
           }
          ]
         }
        },
        {
         "name": "highway-mpg",
         "dtype": "int64",
         "stats": {
          "unique_count": 30,
          "nan_count": 0,
          "min": "16",
          "max": "54",
          "histogram": [
           {
            "bin_start": 16,
            "bin_end": 19.8,
            "count": 7
           },
           {
            "bin_start": 19.8,
            "bin_end": 23.6,
            "count": 16
           },
           {
            "bin_start": 23.6,
            "bin_end": 27.4,
            "count": 44
           },
           {
            "bin_start": 27.4,
            "bin_end": 31.2,
            "count": 46
           },
           {
            "bin_start": 31.2,
            "bin_end": 35,
            "count": 39
           },
           {
            "bin_start": 35,
            "bin_end": 38.8,
            "count": 32
           },
           {
            "bin_start": 38.8,
            "bin_end": 42.599999999999994,
            "count": 8
           },
           {
            "bin_start": 42.599999999999994,
            "bin_end": 46.4,
            "count": 4
           },
           {
            "bin_start": 46.4,
            "bin_end": 50.199999999999996,
            "count": 3
           },
           {
            "bin_start": 50.199999999999996,
            "bin_end": 54,
            "count": 2
           }
          ]
         }
        },
        {
         "name": "price",
         "dtype": "float64",
         "stats": {
          "unique_count": 186,
          "nan_count": 0,
          "min": "5118.0",
          "max": "45400.0",
          "histogram": [
           {
            "bin_start": 5118,
            "bin_end": 9146.2,
            "count": 81
           },
           {
            "bin_start": 9146.2,
            "bin_end": 13174.4,
            "count": 45
           },
           {
            "bin_start": 13174.4,
            "bin_end": 17202.6,
            "count": 35
           },
           {
            "bin_start": 17202.6,
            "bin_end": 21230.8,
            "count": 17
           },
           {
            "bin_start": 21230.8,
            "bin_end": 25259,
            "count": 6
           },
           {
            "bin_start": 25259,
            "bin_end": 29287.199999999997,
            "count": 3
           },
           {
            "bin_start": 29287.199999999997,
            "bin_end": 33315.399999999994,
            "count": 4
           },
           {
            "bin_start": 33315.399999999994,
            "bin_end": 37343.6,
            "count": 7
           },
           {
            "bin_start": 37343.6,
            "bin_end": 41371.799999999996,
            "count": 2
           },
           {
            "bin_start": 41371.799999999996,
            "bin_end": 45400,
            "count": 1
           }
          ]
         }
        },
        {
         "name": "city-L/100km",
         "dtype": "float64",
         "stats": {
          "unique_count": 29,
          "nan_count": 0,
          "min": "4.795918367346938",
          "max": "18.07692307692308",
          "histogram": [
           {
            "bin_start": 4.795918367346938,
            "bin_end": 6.124018838304552,
            "count": 3
           },
           {
            "bin_start": 6.124018838304552,
            "bin_end": 7.452119309262166,
            "count": 16
           },
           {
            "bin_start": 7.452119309262166,
            "bin_end": 8.780219780219781,
            "count": 60
           },
           {
            "bin_start": 8.780219780219781,
            "bin_end": 10.108320251177394,
            "count": 42
           },
           {
            "bin_start": 10.108320251177394,
            "bin_end": 11.436420722135008,
            "count": 24
           },
           {
            "bin_start": 11.436420722135008,
            "bin_end": 12.764521193092623,
            "count": 30
           },
           {
            "bin_start": 12.764521193092623,
            "bin_end": 14.092621664050238,
            "count": 15
           },
           {
            "bin_start": 14.092621664050238,
            "bin_end": 15.42072213500785,
            "count": 5
           },
           {
            "bin_start": 15.42072213500785,
            "bin_end": 16.748822605965465,
            "count": 3
           },
           {
            "bin_start": 16.748822605965465,
            "bin_end": 18.07692307692308,
            "count": 3
           }
          ]
         }
        },
        {
         "name": "horsepower-binned",
         "dtype": "object",
         "stats": {
          "unique_count": 3,
          "nan_count": 1,
          "categories": [
           {
            "name": "Low",
            "count": 115
           },
           {
            "name": "2 others",
            "count": 85
           },
           {
            "name": "Missing",
            "count": 1
           }
          ]
         }
        },
        {
         "name": "diesel",
         "dtype": "int64",
         "stats": {
          "unique_count": 2,
          "nan_count": 0,
          "min": "0",
          "max": "1",
          "histogram": [
           {
            "bin_start": 0,
            "bin_end": 0.1,
            "count": 181
           },
           {
            "bin_start": 0.1,
            "bin_end": 0.2,
            "count": 0
           },
           {
            "bin_start": 0.2,
            "bin_end": 0.30000000000000004,
            "count": 0
           },
           {
            "bin_start": 0.30000000000000004,
            "bin_end": 0.4,
            "count": 0
           },
           {
            "bin_start": 0.4,
            "bin_end": 0.5,
            "count": 0
           },
           {
            "bin_start": 0.5,
            "bin_end": 0.6000000000000001,
            "count": 0
           },
           {
            "bin_start": 0.6000000000000001,
            "bin_end": 0.7000000000000001,
            "count": 0
           },
           {
            "bin_start": 0.7000000000000001,
            "bin_end": 0.8,
            "count": 0
           },
           {
            "bin_start": 0.8,
            "bin_end": 0.9,
            "count": 0
           },
           {
            "bin_start": 0.9,
            "bin_end": 1,
            "count": 20
           }
          ]
         }
        },
        {
         "name": "gas",
         "dtype": "int64",
         "stats": {
          "unique_count": 2,
          "nan_count": 0,
          "min": "0",
          "max": "1",
          "histogram": [
           {
            "bin_start": 0,
            "bin_end": 0.1,
            "count": 20
           },
           {
            "bin_start": 0.1,
            "bin_end": 0.2,
            "count": 0
           },
           {
            "bin_start": 0.2,
            "bin_end": 0.30000000000000004,
            "count": 0
           },
           {
            "bin_start": 0.30000000000000004,
            "bin_end": 0.4,
            "count": 0
           },
           {
            "bin_start": 0.4,
            "bin_end": 0.5,
            "count": 0
           },
           {
            "bin_start": 0.5,
            "bin_end": 0.6000000000000001,
            "count": 0
           },
           {
            "bin_start": 0.6000000000000001,
            "bin_end": 0.7000000000000001,
            "count": 0
           },
           {
            "bin_start": 0.7000000000000001,
            "bin_end": 0.8,
            "count": 0
           },
           {
            "bin_start": 0.8,
            "bin_end": 0.9,
            "count": 0
           },
           {
            "bin_start": 0.9,
            "bin_end": 1,
            "count": 181
           }
          ]
         }
        },
        {
         "name": "_deepnote_index_column",
         "dtype": "int64"
        }
       ],
       "rows": [
        {
         "symboling": 3,
         "normalized-losses": 122,
         "make": "alfa-romero",
         "aspiration": "std",
         "num-of-doors": "two",
         "body-style": "convertible",
         "drive-wheels": "rwd",
         "engine-location": "front",
         "wheel-base": 88.6,
         "length": 0.8111484863046613,
         "width": 0.8902777777777777,
         "height": 48.8,
         "curb-weight": 2548,
         "engine-type": "dohc",
         "num-of-cylinders": "four",
         "engine-size": 130,
         "fuel-system": "mpfi",
         "bore": 3.47,
         "stroke": 2.68,
         "compression-ratio": 9,
         "horsepower": 111,
         "peak-rpm": 5000,
         "city-mpg": 21,
         "highway-mpg": 27,
         "price": 13495,
         "city-L/100km": 11.190476190476188,
         "horsepower-binned": "Medium",
         "diesel": 0,
         "gas": 1,
         "_deepnote_index_column": 0
        },
        {
         "symboling": 3,
         "normalized-losses": 122,
         "make": "alfa-romero",
         "aspiration": "std",
         "num-of-doors": "two",
         "body-style": "convertible",
         "drive-wheels": "rwd",
         "engine-location": "front",
         "wheel-base": 88.6,
         "length": 0.8111484863046613,
         "width": 0.8902777777777777,
         "height": 48.8,
         "curb-weight": 2548,
         "engine-type": "dohc",
         "num-of-cylinders": "four",
         "engine-size": 130,
         "fuel-system": "mpfi",
         "bore": 3.47,
         "stroke": 2.68,
         "compression-ratio": 9,
         "horsepower": 111,
         "peak-rpm": 5000,
         "city-mpg": 21,
         "highway-mpg": 27,
         "price": 16500,
         "city-L/100km": 11.190476190476188,
         "horsepower-binned": "Medium",
         "diesel": 0,
         "gas": 1,
         "_deepnote_index_column": 1
        },
        {
         "symboling": 1,
         "normalized-losses": 122,
         "make": "alfa-romero",
         "aspiration": "std",
         "num-of-doors": "two",
         "body-style": "hatchback",
         "drive-wheels": "rwd",
         "engine-location": "front",
         "wheel-base": 94.5,
         "length": 0.8226814031715521,
         "width": 0.9097222222222222,
         "height": 52.4,
         "curb-weight": 2823,
         "engine-type": "ohcv",
         "num-of-cylinders": "six",
         "engine-size": 152,
         "fuel-system": "mpfi",
         "bore": 2.68,
         "stroke": 3.47,
         "compression-ratio": 9,
         "horsepower": 154,
         "peak-rpm": 5000,
         "city-mpg": 19,
         "highway-mpg": 26,
         "price": 16500,
         "city-L/100km": 12.36842105263158,
         "horsepower-binned": "Medium",
         "diesel": 0,
         "gas": 1,
         "_deepnote_index_column": 2
        },
        {
         "symboling": 2,
         "normalized-losses": 164,
         "make": "audi",
         "aspiration": "std",
         "num-of-doors": "four",
         "body-style": "sedan",
         "drive-wheels": "fwd",
         "engine-location": "front",
         "wheel-base": 99.8,
         "length": 0.8486304661220567,
         "width": 0.9194444444444444,
         "height": 54.3,
         "curb-weight": 2337,
         "engine-type": "ohc",
         "num-of-cylinders": "four",
         "engine-size": 109,
         "fuel-system": "mpfi",
         "bore": 3.19,
         "stroke": 3.4,
         "compression-ratio": 10,
         "horsepower": 102,
         "peak-rpm": 5500,
         "city-mpg": 24,
         "highway-mpg": 30,
         "price": 13950,
         "city-L/100km": 9.791666666666666,
         "horsepower-binned": "Medium",
         "diesel": 0,
         "gas": 1,
         "_deepnote_index_column": 3
        },
        {
         "symboling": 2,
         "normalized-losses": 164,
         "make": "audi",
         "aspiration": "std",
         "num-of-doors": "four",
         "body-style": "sedan",
         "drive-wheels": "4wd",
         "engine-location": "front",
         "wheel-base": 99.4,
         "length": 0.8486304661220567,
         "width": 0.9222222222222224,
         "height": 54.3,
         "curb-weight": 2824,
         "engine-type": "ohc",
         "num-of-cylinders": "five",
         "engine-size": 136,
         "fuel-system": "mpfi",
         "bore": 3.19,
         "stroke": 3.4,
         "compression-ratio": 8,
         "horsepower": 115,
         "peak-rpm": 5500,
         "city-mpg": 18,
         "highway-mpg": 22,
         "price": 17450,
         "city-L/100km": 13.055555555555555,
         "horsepower-binned": "Medium",
         "diesel": 0,
         "gas": 1,
         "_deepnote_index_column": 4
        },
        {
         "symboling": 2,
         "normalized-losses": 122,
         "make": "audi",
         "aspiration": "std",
         "num-of-doors": "two",
         "body-style": "sedan",
         "drive-wheels": "fwd",
         "engine-location": "front",
         "wheel-base": 99.8,
         "length": 0.8519942335415667,
         "width": 0.9208333333333332,
         "height": 53.1,
         "curb-weight": 2507,
         "engine-type": "ohc",
         "num-of-cylinders": "five",
         "engine-size": 136,
         "fuel-system": "mpfi",
         "bore": 3.19,
         "stroke": 3.4,
         "compression-ratio": 8.5,
         "horsepower": 110,
         "peak-rpm": 5500,
         "city-mpg": 19,
         "highway-mpg": 25,
         "price": 15250,
         "city-L/100km": 12.36842105263158,
         "horsepower-binned": "Medium",
         "diesel": 0,
         "gas": 1,
         "_deepnote_index_column": 5
        },
        {
         "symboling": 1,
         "normalized-losses": 158,
         "make": "audi",
         "aspiration": "std",
         "num-of-doors": "four",
         "body-style": "sedan",
         "drive-wheels": "fwd",
         "engine-location": "front",
         "wheel-base": 105.8,
         "length": 0.9259971167707832,
         "width": 0.9916666666666668,
         "height": 55.7,
         "curb-weight": 2844,
         "engine-type": "ohc",
         "num-of-cylinders": "five",
         "engine-size": 136,
         "fuel-system": "mpfi",
         "bore": 3.19,
         "stroke": 3.4,
         "compression-ratio": 8.5,
         "horsepower": 110,
         "peak-rpm": 5500,
         "city-mpg": 19,
         "highway-mpg": 25,
         "price": 17710,
         "city-L/100km": 12.36842105263158,
         "horsepower-binned": "Medium",
         "diesel": 0,
         "gas": 1,
         "_deepnote_index_column": 6
        },
        {
         "symboling": 1,
         "normalized-losses": 122,
         "make": "audi",
         "aspiration": "std",
         "num-of-doors": "four",
         "body-style": "wagon",
         "drive-wheels": "fwd",
         "engine-location": "front",
         "wheel-base": 105.8,
         "length": 0.9259971167707832,
         "width": 0.9916666666666668,
         "height": 55.7,
         "curb-weight": 2954,
         "engine-type": "ohc",
         "num-of-cylinders": "five",
         "engine-size": 136,
         "fuel-system": "mpfi",
         "bore": 3.19,
         "stroke": 3.4,
         "compression-ratio": 8.5,
         "horsepower": 110,
         "peak-rpm": 5500,
         "city-mpg": 19,
         "highway-mpg": 25,
         "price": 18920,
         "city-L/100km": 12.36842105263158,
         "horsepower-binned": "Medium",
         "diesel": 0,
         "gas": 1,
         "_deepnote_index_column": 7
        },
        {
         "symboling": 1,
         "normalized-losses": 158,
         "make": "audi",
         "aspiration": "turbo",
         "num-of-doors": "four",
         "body-style": "sedan",
         "drive-wheels": "fwd",
         "engine-location": "front",
         "wheel-base": 105.8,
         "length": 0.9259971167707832,
         "width": 0.9916666666666668,
         "height": 55.9,
         "curb-weight": 3086,
         "engine-type": "ohc",
         "num-of-cylinders": "five",
         "engine-size": 131,
         "fuel-system": "mpfi",
         "bore": 3.13,
         "stroke": 3.4,
         "compression-ratio": 8.3,
         "horsepower": 140,
         "peak-rpm": 5500,
         "city-mpg": 17,
         "highway-mpg": 20,
         "price": 23875,
         "city-L/100km": 13.823529411764708,
         "horsepower-binned": "Medium",
         "diesel": 0,
         "gas": 1,
         "_deepnote_index_column": 8
        },
        {
         "symboling": 2,
         "normalized-losses": 192,
         "make": "bmw",
         "aspiration": "std",
         "num-of-doors": "two",
         "body-style": "sedan",
         "drive-wheels": "rwd",
         "engine-location": "front",
         "wheel-base": 101.2,
         "length": 0.8495915425276309,
         "width": 0.8999999999999999,
         "height": 54.3,
         "curb-weight": 2395,
         "engine-type": "ohc",
         "num-of-cylinders": "four",
         "engine-size": 108,
         "fuel-system": "mpfi",
         "bore": 3.5,
         "stroke": 2.8,
         "compression-ratio": 8.8,
         "horsepower": 101,
         "peak-rpm": 5800,
         "city-mpg": 23,
         "highway-mpg": 29,
         "price": 16430,
         "city-L/100km": 10.217391304347826,
         "horsepower-binned": "Low",
         "diesel": 0,
         "gas": 1,
         "_deepnote_index_column": 9
        }
       ]
      },
      "text/plain": "     symboling  normalized-losses         make aspiration num-of-doors  \\\n0            3                122  alfa-romero        std          two   \n1            3                122  alfa-romero        std          two   \n2            1                122  alfa-romero        std          two   \n3            2                164         audi        std         four   \n4            2                164         audi        std         four   \n..         ...                ...          ...        ...          ...   \n196         -1                 95        volvo        std         four   \n197         -1                 95        volvo      turbo         four   \n198         -1                 95        volvo        std         four   \n199         -1                 95        volvo      turbo         four   \n200         -1                 95        volvo      turbo         four   \n\n      body-style drive-wheels engine-location  wheel-base    length  ...  \\\n0    convertible          rwd           front        88.6  0.811148  ...   \n1    convertible          rwd           front        88.6  0.811148  ...   \n2      hatchback          rwd           front        94.5  0.822681  ...   \n3          sedan          fwd           front        99.8  0.848630  ...   \n4          sedan          4wd           front        99.4  0.848630  ...   \n..           ...          ...             ...         ...       ...  ...   \n196        sedan          rwd           front       109.1  0.907256  ...   \n197        sedan          rwd           front       109.1  0.907256  ...   \n198        sedan          rwd           front       109.1  0.907256  ...   \n199        sedan          rwd           front       109.1  0.907256  ...   \n200        sedan          rwd           front       109.1  0.907256  ...   \n\n     compression-ratio  horsepower  peak-rpm city-mpg highway-mpg    price  \\\n0                  9.0       111.0    5000.0       21          27  13495.0   \n1                  9.0       111.0    5000.0       21          27  16500.0   \n2                  9.0       154.0    5000.0       19          26  16500.0   \n3                 10.0       102.0    5500.0       24          30  13950.0   \n4                  8.0       115.0    5500.0       18          22  17450.0   \n..                 ...         ...       ...      ...         ...      ...   \n196                9.5       114.0    5400.0       23          28  16845.0   \n197                8.7       160.0    5300.0       19          25  19045.0   \n198                8.8       134.0    5500.0       18          23  21485.0   \n199               23.0       106.0    4800.0       26          27  22470.0   \n200                9.5       114.0    5400.0       19          25  22625.0   \n\n    city-L/100km  horsepower-binned  diesel  gas  \n0      11.190476             Medium       0    1  \n1      11.190476             Medium       0    1  \n2      12.368421             Medium       0    1  \n3       9.791667             Medium       0    1  \n4      13.055556             Medium       0    1  \n..           ...                ...     ...  ...  \n196    10.217391             Medium       0    1  \n197    12.368421               High       0    1  \n198    13.055556             Medium       0    1  \n199     9.038462             Medium       1    0  \n200    12.368421             Medium       0    1  \n\n[201 rows x 29 columns]",
      "text/html": "<div>\n<style scoped>\n    .dataframe tbody tr th:only-of-type {\n        vertical-align: middle;\n    }\n\n    .dataframe tbody tr th {\n        vertical-align: top;\n    }\n\n    .dataframe thead th {\n        text-align: right;\n    }\n</style>\n<table border=\"1\" class=\"dataframe\">\n  <thead>\n    <tr style=\"text-align: right;\">\n      <th></th>\n      <th>symboling</th>\n      <th>normalized-losses</th>\n      <th>make</th>\n      <th>aspiration</th>\n      <th>num-of-doors</th>\n      <th>body-style</th>\n      <th>drive-wheels</th>\n      <th>engine-location</th>\n      <th>wheel-base</th>\n      <th>length</th>\n      <th>...</th>\n      <th>compression-ratio</th>\n      <th>horsepower</th>\n      <th>peak-rpm</th>\n      <th>city-mpg</th>\n      <th>highway-mpg</th>\n      <th>price</th>\n      <th>city-L/100km</th>\n      <th>horsepower-binned</th>\n      <th>diesel</th>\n      <th>gas</th>\n    </tr>\n  </thead>\n  <tbody>\n    <tr>\n      <th>0</th>\n      <td>3</td>\n      <td>122</td>\n      <td>alfa-romero</td>\n      <td>std</td>\n      <td>two</td>\n      <td>convertible</td>\n      <td>rwd</td>\n      <td>front</td>\n      <td>88.6</td>\n      <td>0.811148</td>\n      <td>...</td>\n      <td>9.0</td>\n      <td>111.0</td>\n      <td>5000.0</td>\n      <td>21</td>\n      <td>27</td>\n      <td>13495.0</td>\n      <td>11.190476</td>\n      <td>Medium</td>\n      <td>0</td>\n      <td>1</td>\n    </tr>\n    <tr>\n      <th>1</th>\n      <td>3</td>\n      <td>122</td>\n      <td>alfa-romero</td>\n      <td>std</td>\n      <td>two</td>\n      <td>convertible</td>\n      <td>rwd</td>\n      <td>front</td>\n      <td>88.6</td>\n      <td>0.811148</td>\n      <td>...</td>\n      <td>9.0</td>\n      <td>111.0</td>\n      <td>5000.0</td>\n      <td>21</td>\n      <td>27</td>\n      <td>16500.0</td>\n      <td>11.190476</td>\n      <td>Medium</td>\n      <td>0</td>\n      <td>1</td>\n    </tr>\n    <tr>\n      <th>2</th>\n      <td>1</td>\n      <td>122</td>\n      <td>alfa-romero</td>\n      <td>std</td>\n      <td>two</td>\n      <td>hatchback</td>\n      <td>rwd</td>\n      <td>front</td>\n      <td>94.5</td>\n      <td>0.822681</td>\n      <td>...</td>\n      <td>9.0</td>\n      <td>154.0</td>\n      <td>5000.0</td>\n      <td>19</td>\n      <td>26</td>\n      <td>16500.0</td>\n      <td>12.368421</td>\n      <td>Medium</td>\n      <td>0</td>\n      <td>1</td>\n    </tr>\n    <tr>\n      <th>3</th>\n      <td>2</td>\n      <td>164</td>\n      <td>audi</td>\n      <td>std</td>\n      <td>four</td>\n      <td>sedan</td>\n      <td>fwd</td>\n      <td>front</td>\n      <td>99.8</td>\n      <td>0.848630</td>\n      <td>...</td>\n      <td>10.0</td>\n      <td>102.0</td>\n      <td>5500.0</td>\n      <td>24</td>\n      <td>30</td>\n      <td>13950.0</td>\n      <td>9.791667</td>\n      <td>Medium</td>\n      <td>0</td>\n      <td>1</td>\n    </tr>\n    <tr>\n      <th>4</th>\n      <td>2</td>\n      <td>164</td>\n      <td>audi</td>\n      <td>std</td>\n      <td>four</td>\n      <td>sedan</td>\n      <td>4wd</td>\n      <td>front</td>\n      <td>99.4</td>\n      <td>0.848630</td>\n      <td>...</td>\n      <td>8.0</td>\n      <td>115.0</td>\n      <td>5500.0</td>\n      <td>18</td>\n      <td>22</td>\n      <td>17450.0</td>\n      <td>13.055556</td>\n      <td>Medium</td>\n      <td>0</td>\n      <td>1</td>\n    </tr>\n    <tr>\n      <th>...</th>\n      <td>...</td>\n      <td>...</td>\n      <td>...</td>\n      <td>...</td>\n      <td>...</td>\n      <td>...</td>\n      <td>...</td>\n      <td>...</td>\n      <td>...</td>\n      <td>...</td>\n      <td>...</td>\n      <td>...</td>\n      <td>...</td>\n      <td>...</td>\n      <td>...</td>\n      <td>...</td>\n      <td>...</td>\n      <td>...</td>\n      <td>...</td>\n      <td>...</td>\n      <td>...</td>\n    </tr>\n    <tr>\n      <th>196</th>\n      <td>-1</td>\n      <td>95</td>\n      <td>volvo</td>\n      <td>std</td>\n      <td>four</td>\n      <td>sedan</td>\n      <td>rwd</td>\n      <td>front</td>\n      <td>109.1</td>\n      <td>0.907256</td>\n      <td>...</td>\n      <td>9.5</td>\n      <td>114.0</td>\n      <td>5400.0</td>\n      <td>23</td>\n      <td>28</td>\n      <td>16845.0</td>\n      <td>10.217391</td>\n      <td>Medium</td>\n      <td>0</td>\n      <td>1</td>\n    </tr>\n    <tr>\n      <th>197</th>\n      <td>-1</td>\n      <td>95</td>\n      <td>volvo</td>\n      <td>turbo</td>\n      <td>four</td>\n      <td>sedan</td>\n      <td>rwd</td>\n      <td>front</td>\n      <td>109.1</td>\n      <td>0.907256</td>\n      <td>...</td>\n      <td>8.7</td>\n      <td>160.0</td>\n      <td>5300.0</td>\n      <td>19</td>\n      <td>25</td>\n      <td>19045.0</td>\n      <td>12.368421</td>\n      <td>High</td>\n      <td>0</td>\n      <td>1</td>\n    </tr>\n    <tr>\n      <th>198</th>\n      <td>-1</td>\n      <td>95</td>\n      <td>volvo</td>\n      <td>std</td>\n      <td>four</td>\n      <td>sedan</td>\n      <td>rwd</td>\n      <td>front</td>\n      <td>109.1</td>\n      <td>0.907256</td>\n      <td>...</td>\n      <td>8.8</td>\n      <td>134.0</td>\n      <td>5500.0</td>\n      <td>18</td>\n      <td>23</td>\n      <td>21485.0</td>\n      <td>13.055556</td>\n      <td>Medium</td>\n      <td>0</td>\n      <td>1</td>\n    </tr>\n    <tr>\n      <th>199</th>\n      <td>-1</td>\n      <td>95</td>\n      <td>volvo</td>\n      <td>turbo</td>\n      <td>four</td>\n      <td>sedan</td>\n      <td>rwd</td>\n      <td>front</td>\n      <td>109.1</td>\n      <td>0.907256</td>\n      <td>...</td>\n      <td>23.0</td>\n      <td>106.0</td>\n      <td>4800.0</td>\n      <td>26</td>\n      <td>27</td>\n      <td>22470.0</td>\n      <td>9.038462</td>\n      <td>Medium</td>\n      <td>1</td>\n      <td>0</td>\n    </tr>\n    <tr>\n      <th>200</th>\n      <td>-1</td>\n      <td>95</td>\n      <td>volvo</td>\n      <td>turbo</td>\n      <td>four</td>\n      <td>sedan</td>\n      <td>rwd</td>\n      <td>front</td>\n      <td>109.1</td>\n      <td>0.907256</td>\n      <td>...</td>\n      <td>9.5</td>\n      <td>114.0</td>\n      <td>5400.0</td>\n      <td>19</td>\n      <td>25</td>\n      <td>22625.0</td>\n      <td>12.368421</td>\n      <td>Medium</td>\n      <td>0</td>\n      <td>1</td>\n    </tr>\n  </tbody>\n</table>\n<p>201 rows × 29 columns</p>\n</div>"
     },
     "metadata": {}
    }
   ],
   "execution_count": 9
  },
  {
   "cell_type": "code",
   "source": "plt.figure(figsize=(8,7))\nsns.regplot(x = 'highway-mpg', y = 'price', data = df_cars)\nplt.ylim(0,)",
   "metadata": {
    "cell_id": "645d5c41-8a14-4a04-bf98-d70935de6e33",
    "tags": [],
    "deepnote_to_be_reexecuted": false,
    "source_hash": "20180c2c",
    "execution_start": 1646236894128,
    "execution_millis": 321,
    "deepnote_cell_type": "code"
   },
   "outputs": [
    {
     "output_type": "execute_result",
     "execution_count": 10,
     "data": {
      "text/plain": "(0.0, 48160.0809376415)"
     },
     "metadata": {}
    },
    {
     "data": {
      "text/plain": "<Figure size 576x504 with 1 Axes>",
      "image/png": "[encoded data removed]"
     },
     "metadata": {
      "needs_background": "light",
      "image/png": {
       "width": 513,
       "height": 425
      }
     },
     "output_type": "display_data"
    }
   ],
   "execution_count": 10
  },
  {
   "cell_type": "code",
   "source": "coeff, p_value = stats.pearsonr(df_cars['highway-mpg'], df_cars['price'])\nprint('Correlation Coefficient: {}, P-Value: {}'.format(coeff, p_value))",
   "metadata": {
    "cell_id": "0b98730a-a28b-4236-8a41-a3f964c53cfc",
    "tags": [],
    "deepnote_to_be_reexecuted": false,
    "source_hash": "9aaecc9d",
    "execution_start": 1646236902578,
    "execution_millis": 5,
    "deepnote_cell_type": "code"
   },
   "outputs": [
    {
     "name": "stdout",
     "text": "Correlation Coefficient: -0.704692265058953, P-Value: 1.7495471144476358e-31\n",
     "output_type": "stream"
    }
   ],
   "execution_count": 12
  },
  {
   "cell_type": "markdown",
   "source": "# Linear Regression",
   "metadata": {
    "cell_id": "32d091ad-e495-4026-9d8e-70723c180933",
    "tags": [],
    "deepnote_cell_type": "markdown"
   }
  },
  {
   "cell_type": "code",
   "source": "# Create LinearRegression object\nlm = LinearRegression()\nx = df_cars[['highway-mpg']]\ny = df_cars['price']\nlm.fit(x,y)\nyhat = lm.predict(x)",
   "metadata": {
    "cell_id": "4b4f7859-669d-4fc7-9528-3b05ac57ea41",
    "tags": [],
    "deepnote_to_be_reexecuted": false,
    "source_hash": "7ff2d330",
    "execution_start": 1646238492447,
    "execution_millis": 3,
    "deepnote_cell_type": "code"
   },
   "outputs": [],
   "execution_count": 32
  },
  {
   "cell_type": "code",
   "source": "lm.coef_",
   "metadata": {
    "cell_id": "848dcabe-8a7d-4cd1-892f-bec410ff5506",
    "tags": [],
    "deepnote_to_be_reexecuted": false,
    "source_hash": "374d21d6",
    "execution_start": 1646237313905,
    "execution_millis": 4,
    "deepnote_cell_type": "code"
   },
   "outputs": [
    {
     "output_type": "execute_result",
     "execution_count": 20,
     "data": {
      "text/plain": "array([-821.73337832])"
     },
     "metadata": {}
    }
   ],
   "execution_count": 20
  },
  {
   "cell_type": "code",
   "source": "lm.intercept_",
   "metadata": {
    "cell_id": "6aae36bc-3f14-41a1-9652-4f390835574b",
    "tags": [],
    "deepnote_to_be_reexecuted": false,
    "source_hash": "1838becb",
    "execution_start": 1646237322868,
    "execution_millis": 12,
    "deepnote_cell_type": "code"
   },
   "outputs": [
    {
     "output_type": "execute_result",
     "execution_count": 21,
     "data": {
      "text/plain": "38423.3058581574"
     },
     "metadata": {}
    }
   ],
   "execution_count": 21
  },
  {
   "cell_type": "markdown",
   "source": "**Equation**\n\nprice = -821.73337 + 38423.305858*_**highway-mpg**_",
   "metadata": {
    "cell_id": "ae62d292-4043-4692-8263-8993adc0be0f",
    "tags": [],
    "deepnote_cell_type": "markdown"
   }
  },
  {
   "cell_type": "code",
   "source": "for i in range(5):\n    print('Value {} -> Real: {}, Predict: {}'.format(i, y[i], yhat[i]))",
   "metadata": {
    "cell_id": "dbb2eee9-979e-4034-8f64-da7e2e216194",
    "tags": [],
    "deepnote_to_be_reexecuted": false,
    "source_hash": "dc093c6",
    "execution_start": 1646238540947,
    "execution_millis": 20,
    "deepnote_cell_type": "code"
   },
   "outputs": [
    {
     "name": "stdout",
     "text": "Value 0 -> Real: 13495.0, Predict: 16236.504643465414\nValue 1 -> Real: 16500.0, Predict: 16236.504643465414\nValue 2 -> Real: 16500.0, Predict: 17058.23802178734\nValue 3 -> Real: 13950.0, Predict: 13771.304508499637\nValue 4 -> Real: 17450.0, Predict: 20345.171535075042\n",
     "output_type": "stream"
    }
   ],
   "execution_count": 35
  },
  {
   "cell_type": "code",
   "source": "# test with the fist element\nyhat_0 = 38423.3058581574 - 821.73337*x.iloc[0]\nprint('yhat_0: {}'.format(yhat_0[0]))",
   "metadata": {
    "cell_id": "560cc3e5-6204-4b21-9985-dac6d3138a1b",
    "tags": [],
    "deepnote_to_be_reexecuted": false,
    "source_hash": "a3972b75",
    "execution_start": 1646238709669,
    "execution_millis": 40,
    "deepnote_cell_type": "code"
   },
   "outputs": [
    {
     "name": "stdout",
     "text": "yhat_0: 16236.5048681574\n",
     "output_type": "stream"
    }
   ],
   "execution_count": 39
  },
  {
   "cell_type": "code",
   "source": "lm.score(x, y)",
   "metadata": {
    "cell_id": "5f7a0bed-aa0a-42f0-91e8-e51c6fcfe52c",
    "tags": [],
    "deepnote_to_be_reexecuted": false,
    "source_hash": "d9d0ccce",
    "execution_start": 1646237193122,
    "execution_millis": 11,
    "deepnote_cell_type": "code"
   },
   "outputs": [
    {
     "output_type": "execute_result",
     "execution_count": 17,
     "data": {
      "text/plain": "0.4965911884339176"
     },
     "metadata": {}
    }
   ],
   "execution_count": 17
  },
  {
   "cell_type": "code",
   "source": "mean_squared_error(y, yham)",
   "metadata": {
    "cell_id": "50753e40-8c2e-473e-8aae-af4ac9e6c7ce",
    "tags": [],
    "deepnote_to_be_reexecuted": false,
    "source_hash": "d39f658f",
    "execution_start": 1646237297361,
    "execution_millis": 6,
    "deepnote_cell_type": "code"
   },
   "outputs": [
    {
     "output_type": "execute_result",
     "execution_count": 19,
     "data": {
      "text/plain": "31635042.944639888"
     },
     "metadata": {}
    }
   ],
   "execution_count": 19
  },
  {
   "cell_type": "markdown",
   "source": "# Multiple Linear Regression\n\nWhat if we want to predict car price using more than one variable?",
   "metadata": {
    "cell_id": "3c2d262c-d9ae-4011-81bb-bbbbd51c107d",
    "tags": [],
    "deepnote_cell_type": "markdown"
   }
  },
  {
   "cell_type": "code",
   "source": "z = df_cars[['horsepower', 'curb-weight', 'engine-size', 'highway-mpg']]",
   "metadata": {
    "cell_id": "212b54de-7504-4588-8285-2bf44eb6b16f",
    "tags": [],
    "deepnote_to_be_reexecuted": false,
    "source_hash": "69a86262",
    "execution_start": 1646238858438,
    "execution_millis": 5,
    "deepnote_cell_type": "code"
   },
   "outputs": [],
   "execution_count": 40
  },
  {
   "cell_type": "code",
   "source": "lm2 = LinearRegression()\nlm2.fit(z, y)",
   "metadata": {
    "cell_id": "49501508-791d-44c0-874a-c83d943ff0d6",
    "tags": [],
    "deepnote_to_be_reexecuted": false,
    "source_hash": "a3752fab",
    "execution_start": 1646238880301,
    "execution_millis": 10,
    "deepnote_cell_type": "code"
   },
   "outputs": [
    {
     "output_type": "execute_result",
     "execution_count": 41,
     "data": {
      "text/plain": "LinearRegression()"
     },
     "metadata": {}
    }
   ],
   "execution_count": 41
  },
  {
   "cell_type": "code",
   "source": "lm2.coef_",
   "metadata": {
    "cell_id": "9eebfdaa-ef9a-4638-9eac-c9aac745bff0",
    "tags": [],
    "deepnote_to_be_reexecuted": false,
    "source_hash": "100a3376",
    "execution_start": 1646238890756,
    "execution_millis": 6,
    "deepnote_cell_type": "code"
   },
   "outputs": [
    {
     "output_type": "execute_result",
     "execution_count": 42,
     "data": {
      "text/plain": "array([53.49574423,  4.70770099, 81.53026382, 36.05748882])"
     },
     "metadata": {}
    }
   ],
   "execution_count": 42
  },
  {
   "cell_type": "code",
   "source": "lm2.intercept_",
   "metadata": {
    "cell_id": "948d0d7c-8bc4-4b00-a2e2-21de834cccea",
    "tags": [],
    "deepnote_to_be_reexecuted": false,
    "source_hash": "4931e442",
    "execution_start": 1646238897209,
    "execution_millis": 8,
    "deepnote_cell_type": "code"
   },
   "outputs": [
    {
     "output_type": "execute_result",
     "execution_count": 43,
     "data": {
      "text/plain": "-15806.624626329209"
     },
     "metadata": {}
    }
   ],
   "execution_count": 43
  },
  {
   "cell_type": "markdown",
   "source": "**Equation**\n\nprice = -15806.624626329209 53.49574423*_**horsepower**_ + 4.70770099*_**curb-weight**_ + 81.53026382*_**engine-size**_ + 36.05748882*_**highway-mpg**_",
   "metadata": {
    "cell_id": "28d21cb5-b4c4-4a6c-b486-685882a8fd32",
    "tags": [],
    "deepnote_cell_type": "markdown"
   }
  },
  {
   "cell_type": "markdown",
   "source": "# Model Evaluation using Visualization",
   "metadata": {
    "cell_id": "79a6b76d-5390-4443-af3d-1954eb0f3dd4",
    "tags": [],
    "deepnote_cell_type": "markdown"
   }
  },
  {
   "cell_type": "code",
   "source": "",
   "metadata": {
    "cell_id": "953d7bee-a853-40f8-9dca-38229f768aeb",
    "tags": [],
    "deepnote_cell_type": "code"
   },
   "outputs": [],
   "execution_count": null
  },
  {
   "cell_type": "markdown",
   "source": "<a style='text-decoration:none;line-height:16px;display:flex;color:#5B5B62;padding:10px;justify-content:end;' href='https://deepnote.com?utm_source=created-in-deepnote-cell&projectId=fabb4e41-fcd2-4421-bbfb-772986975631' target=\"_blank\">\n<img alt='Created in deepnote.com' style='display:inline;max-height:16px;margin:0px;margin-right:7.5px;' src='data:image/svg+xml;base64,PD94bWwgdmVyc2lvbj0iMS4wIiBlbmNvZGluZz0iVVRGLTgiPz4KPHN2ZyB3aWR0aD0iODBweCIgaGVpZ2h0PSI4MHB4IiB2aWV3Qm94PSIwIDAgODAgODAiIHZlcnNpb249IjEuMSIgeG1sbnM9Imh0dHA6Ly93d3cudzMub3JnLzIwMDAvc3ZnIiB4bWxuczp4bGluaz0iaHR0cDovL3d3dy53My5vcmcvMTk5OS94bGluayI+CiAgICA8IS0tIEdlbmVyYXRvcjogU2tldGNoIDU0LjEgKDc2NDkwKSAtIGh0dHBzOi8vc2tldGNoYXBwLmNvbSAtLT4KICAgIDx0aXRsZT5Hcm91cCAzPC90aXRsZT4KICAgIDxkZXNjPkNyZWF0ZWQgd2l0aCBTa2V0Y2guPC9kZXNjPgogICAgPGcgaWQ9IkxhbmRpbmciIHN0cm9rZT0ibm9uZSIgc3Ryb2tlLXdpZHRoPSIxIiBmaWxsPSJub25lIiBmaWxsLXJ1bGU9ImV2ZW5vZGQiPgogICAgICAgIDxnIGlkPSJBcnRib2FyZCIgdHJhbnNmb3JtPSJ0cmFuc2xhdGUoLTEyMzUuMDAwMDAwLCAtNzkuMDAwMDAwKSI+CiAgICAgICAgICAgIDxnIGlkPSJHcm91cC0zIiB0cmFuc2Zvcm09InRyYW5zbGF0ZSgxMjM1LjAwMDAwMCwgNzkuMDAwMDAwKSI+CiAgICAgICAgICAgICAgICA8cG9seWdvbiBpZD0iUGF0aC0yMCIgZmlsbD0iIzAyNjVCNCIgcG9pbnRzPSIyLjM3NjIzNzYyIDgwIDM4LjA0NzY2NjcgODAgNTcuODIxNzgyMiA3My44MDU3NTkyIDU3LjgyMTc4MjIgMzIuNzU5MjczOSAzOS4xNDAyMjc4IDMxLjY4MzE2ODMiPjwvcG9seWdvbj4KICAgICAgICAgICAgICAgIDxwYXRoIGQ9Ik0zNS4wMDc3MTgsODAgQzQyLjkwNjIwMDcsNzYuNDU0OTM1OCA0Ny41NjQ5MTY3LDcxLjU0MjI2NzEgNDguOTgzODY2LDY1LjI2MTk5MzkgQzUxLjExMjI4OTksNTUuODQxNTg0MiA0MS42NzcxNzk1LDQ5LjIxMjIyODQgMjUuNjIzOTg0Niw0OS4yMTIyMjg0IEMyNS40ODQ5Mjg5LDQ5LjEyNjg0NDggMjkuODI2MTI5Niw0My4yODM4MjQ4IDM4LjY0NzU4NjksMzEuNjgzMTY4MyBMNzIuODcxMjg3MSwzMi41NTQ0MjUgTDY1LjI4MDk3Myw2Ny42NzYzNDIxIEw1MS4xMTIyODk5LDc3LjM3NjE0NCBMMzUuMDA3NzE4LDgwIFoiIGlkPSJQYXRoLTIyIiBmaWxsPSIjMDAyODY4Ij48L3BhdGg+CiAgICAgICAgICAgICAgICA8cGF0aCBkPSJNMCwzNy43MzA0NDA1IEwyNy4xMTQ1MzcsMC4yNTcxMTE0MzYgQzYyLjM3MTUxMjMsLTEuOTkwNzE3MDEgODAsMTAuNTAwMzkyNyA4MCwzNy43MzA0NDA1IEM4MCw2NC45NjA0ODgyIDY0Ljc3NjUwMzgsNzkuMDUwMzQxNCAzNC4zMjk1MTEzLDgwIEM0Ny4wNTUzNDg5LDc3LjU2NzA4MDggNTMuNDE4MjY3Nyw3MC4zMTM2MTAzIDUzLjQxODI2NzcsNTguMjM5NTg4NSBDNTMuNDE4MjY3Nyw0MC4xMjg1NTU3IDM2LjMwMzk1NDQsMzcuNzMwNDQwNSAyNS4yMjc0MTcsMzcuNzMwNDQwNSBDMTcuODQzMDU4NiwzNy43MzA0NDA1IDkuNDMzOTE5NjYsMzcuNzMwNDQwNSAwLDM3LjczMDQ0MDUgWiIgaWQ9IlBhdGgtMTkiIGZpbGw9IiMzNzkzRUYiPjwvcGF0aD4KICAgICAgICAgICAgPC9nPgogICAgICAgIDwvZz4KICAgIDwvZz4KPC9zdmc+' > </img>\nCreated in <span style='font-weight:600;margin-left:4px;'>Deepnote</span></a>",
   "metadata": {
    "tags": [],
    "created_in_deepnote_cell": true,
    "deepnote_cell_type": "markdown"
   }
  }
 ],
 "nbformat": 4,
 "nbformat_minor": 2,
 "metadata": {
  "orig_nbformat": 2,
  "deepnote": {
   "is_reactive": false
  },
  "deepnote_notebook_id": "932b6e9b-c148-42b0-aed3-a9abec9c5da5",
  "deepnote_execution_queue": []
 }
}