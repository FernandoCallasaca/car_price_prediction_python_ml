{
 "cells": [
  {
   "cell_type": "markdown",
   "source": "# Prepare our enviroments",
   "metadata": {
    "cell_id": "a5243322-804b-4ecd-a743-9bd9ca07700f",
    "tags": [],
    "deepnote_cell_type": "markdown",
    "deepnote_cell_height": 82
   }
  },
  {
   "cell_type": "markdown",
   "source": "## For Manipulation",
   "metadata": {
    "cell_id": "6ad27e7d-74ce-4691-b304-3c25c3aaa998",
    "tags": [],
    "deepnote_cell_type": "markdown",
    "deepnote_cell_height": 70
   }
  },
  {
   "cell_type": "code",
   "metadata": {
    "tags": [],
    "cell_id": "d9addc17-aadd-4c41-bf29-d3afbaddcb16",
    "deepnote_to_be_reexecuted": false,
    "source_hash": "77276ce0",
    "execution_start": 1646831255142,
    "execution_millis": 10001,
    "deepnote_cell_type": "code",
    "deepnote_cell_height": 226.1875,
    "deepnote_output_heights": [
     21.1875
    ]
   },
   "source": "import pandas as pd\nimport numpy as np\nimport seaborn as sns\nfrom scipy import stats\nimport matplotlib.pyplot as plt\n%matplotlib inline\npd.__version__",
   "execution_count": null,
   "outputs": [
    {
     "output_type": "execute_result",
     "execution_count": 1,
     "data": {
      "text/plain": "'1.3.5'"
     },
     "metadata": {}
    }
   ]
  },
  {
   "cell_type": "markdown",
   "source": "## For Model",
   "metadata": {
    "cell_id": "05281f77-2583-4954-beb6-13ce962bee58",
    "tags": [],
    "deepnote_cell_type": "markdown",
    "deepnote_cell_height": 70
   }
  },
  {
   "cell_type": "code",
   "metadata": {
    "cell_id": "a9d9bbcf-1b30-476a-af74-e34d69482865",
    "tags": [],
    "deepnote_to_be_reexecuted": false,
    "source_hash": "6a0ffeb5",
    "execution_start": 1646831613997,
    "execution_millis": 10,
    "deepnote_cell_type": "code",
    "deepnote_cell_height": 297
   },
   "source": "# work with linear model\nfrom sklearn.linear_model import LinearRegression\n\n# to have the mean_squared_error\nfrom sklearn.metrics import mean_squared_error\n# to have PolynomialFeatures \nfrom sklearn.preprocessing import PolynomialFeatures\n# score for polynomial fit\nfrom sklearn.metrics import r2_score\n\n# to work with pipeline\nfrom sklearn.pipeline import Pipeline\nfrom sklearn.preprocessing import StandardScaler",
   "execution_count": null,
   "outputs": []
  },
  {
   "cell_type": "markdown",
   "source": "# Read our csv file",
   "metadata": {
    "cell_id": "5ecd91a6-d5d5-422d-9f3a-98689200fe99",
    "tags": [],
    "deepnote_cell_type": "markdown",
    "deepnote_cell_height": 82
   }
  },
  {
   "cell_type": "code",
   "metadata": {
    "cell_id": "6a43982d-93d5-4329-8d29-945328112894",
    "tags": [],
    "deepnote_to_be_reexecuted": false,
    "source_hash": "fdf2af91",
    "execution_start": 1646831265885,
    "execution_millis": 27,
    "deepnote_cell_type": "code",
    "deepnote_cell_height": 136.1875,
    "deepnote_output_heights": [
     21.1875
    ]
   },
   "source": "path_file = 'cars_to_model_development.csv'\npath_file",
   "execution_count": null,
   "outputs": [
    {
     "output_type": "execute_result",
     "execution_count": 3,
     "data": {
      "text/plain": "'cars_to_model_development.csv'"
     },
     "metadata": {}
    }
   ]
  },
  {
   "cell_type": "code",
   "metadata": {
    "cell_id": "ed86039a-14dd-442d-a139-944f01d85c54",
    "tags": [],
    "deepnote_to_be_reexecuted": false,
    "source_hash": "3ba05530",
    "execution_start": 1646831265929,
    "execution_millis": 555,
    "deepnote_cell_type": "code",
    "deepnote_cell_height": 629.59375
   },
   "source": "df_cars = pd.read_csv(path_file)\ndf_cars",
   "execution_count": null,
   "outputs": [
    {
     "output_type": "execute_result",
     "execution_count": 4,
     "data": {
      "application/vnd.deepnote.dataframe.v3+json": {
       "column_count": 29,
       "row_count": 201,
       "columns": [
        {
         "name": "symboling",
         "dtype": "int64",
         "stats": {
          "unique_count": 6,
          "nan_count": 0,
          "min": "-2",
          "max": "3",
          "histogram": [
           {
            "bin_start": -2,
            "bin_end": -1.5,
            "count": 3
           },
           {
            "bin_start": -1.5,
            "bin_end": -1,
            "count": 0
           },
           {
            "bin_start": -1,
            "bin_end": -0.5,
            "count": 22
           },
           {
            "bin_start": -0.5,
            "bin_end": 0,
            "count": 0
           },
           {
            "bin_start": 0,
            "bin_end": 0.5,
            "count": 65
           },
           {
            "bin_start": 0.5,
            "bin_end": 1,
            "count": 0
           },
           {
            "bin_start": 1,
            "bin_end": 1.5,
            "count": 52
           },
           {
            "bin_start": 1.5,
            "bin_end": 2,
            "count": 0
           },
           {
            "bin_start": 2,
            "bin_end": 2.5,
            "count": 32
           },
           {
            "bin_start": 2.5,
            "bin_end": 3,
            "count": 27
           }
          ]
         }
        },
        {
         "name": "normalized-losses",
         "dtype": "int64",
         "stats": {
          "unique_count": 51,
          "nan_count": 0,
          "min": "65",
          "max": "256",
          "histogram": [
           {
            "bin_start": 65,
            "bin_end": 84.1,
            "count": 17
           },
           {
            "bin_start": 84.1,
            "bin_end": 103.2,
            "count": 46
           },
           {
            "bin_start": 103.2,
            "bin_end": 122.30000000000001,
            "count": 68
           },
           {
            "bin_start": 122.30000000000001,
            "bin_end": 141.4,
            "count": 20
           },
           {
            "bin_start": 141.4,
            "bin_end": 160.5,
            "count": 21
           },
           {
            "bin_start": 160.5,
            "bin_end": 179.60000000000002,
            "count": 18
           },
           {
            "bin_start": 179.60000000000002,
            "bin_end": 198.70000000000002,
            "count": 9
           },
           {
            "bin_start": 198.70000000000002,
            "bin_end": 217.8,
            "count": 0
           },
           {
            "bin_start": 217.8,
            "bin_end": 236.9,
            "count": 1
           },
           {
            "bin_start": 236.9,
            "bin_end": 256,
            "count": 1
           }
          ]
         }
        },
        {
         "name": "make",
         "dtype": "object",
         "stats": {
          "unique_count": 22,
          "nan_count": 0,
          "categories": [
           {
            "name": "toyota",
            "count": 32
           },
           {
            "name": "nissan",
            "count": 18
           },
           {
            "name": "20 others",
            "count": 151
           }
          ]
         }
        },
        {
         "name": "aspiration",
         "dtype": "object",
         "stats": {
          "unique_count": 2,
          "nan_count": 0,
          "categories": [
           {
            "name": "std",
            "count": 165
           },
           {
            "name": "turbo",
            "count": 36
           }
          ]
         }
        },
        {
         "name": "num-of-doors",
         "dtype": "object",
         "stats": {
          "unique_count": 2,
          "nan_count": 0,
          "categories": [
           {
            "name": "four",
            "count": 115
           },
           {
            "name": "two",
            "count": 86
           }
          ]
         }
        },
        {
         "name": "body-style",
         "dtype": "object",
         "stats": {
          "unique_count": 5,
          "nan_count": 0,
          "categories": [
           {
            "name": "sedan",
            "count": 94
           },
           {
            "name": "hatchback",
            "count": 68
           },
           {
            "name": "3 others",
            "count": 39
           }
          ]
         }
        },
        {
         "name": "drive-wheels",
         "dtype": "object",
         "stats": {
          "unique_count": 3,
          "nan_count": 0,
          "categories": [
           {
            "name": "fwd",
            "count": 118
           },
           {
            "name": "rwd",
            "count": 75
           },
           {
            "name": "4wd",
            "count": 8
           }
          ]
         }
        },
        {
         "name": "engine-location",
         "dtype": "object",
         "stats": {
          "unique_count": 2,
          "nan_count": 0,
          "categories": [
           {
            "name": "front",
            "count": 198
           },
           {
            "name": "rear",
            "count": 3
           }
          ]
         }
        },
        {
         "name": "wheel-base",
         "dtype": "float64",
         "stats": {
          "unique_count": 52,
          "nan_count": 0,
          "min": "86.6",
          "max": "120.9",
          "histogram": [
           {
            "bin_start": 86.6,
            "bin_end": 90.03,
            "count": 8
           },
           {
            "bin_start": 90.03,
            "bin_end": 93.46,
            "count": 9
           },
           {
            "bin_start": 93.46,
            "bin_end": 96.89,
            "count": 81
           },
           {
            "bin_start": 96.89,
            "bin_end": 100.32,
            "count": 40
           },
           {
            "bin_start": 100.32,
            "bin_end": 103.75,
            "count": 24
           },
           {
            "bin_start": 103.75,
            "bin_end": 107.18,
            "count": 14
           },
           {
            "bin_start": 107.18,
            "bin_end": 110.61,
            "count": 15
           },
           {
            "bin_start": 110.61,
            "bin_end": 114.04,
            "count": 3
           },
           {
            "bin_start": 114.04,
            "bin_end": 117.47,
            "count": 6
           },
           {
            "bin_start": 117.47,
            "bin_end": 120.9,
            "count": 1
           }
          ]
         }
        },
        {
         "name": "length",
         "dtype": "float64",
         "stats": {
          "unique_count": 73,
          "nan_count": 0,
          "min": "0.6780394041326285",
          "max": "1.0",
          "histogram": [
           {
            "bin_start": 0.6780394041326285,
            "bin_end": 0.7102354637193656,
            "count": 3
           },
           {
            "bin_start": 0.7102354637193656,
            "bin_end": 0.7424315233061028,
            "count": 3
           },
           {
            "bin_start": 0.7424315233061028,
            "bin_end": 0.77462758289284,
            "count": 27
           },
           {
            "bin_start": 0.77462758289284,
            "bin_end": 0.8068236424795772,
            "count": 23
           },
           {
            "bin_start": 0.8068236424795772,
            "bin_end": 0.8390197020663143,
            "count": 54
           },
           {
            "bin_start": 0.8390197020663143,
            "bin_end": 0.8712157616530514,
            "count": 37
           },
           {
            "bin_start": 0.8712157616530514,
            "bin_end": 0.9034118212397886,
            "count": 23
           },
           {
            "bin_start": 0.9034118212397886,
            "bin_end": 0.9356078808265257,
            "count": 20
           },
           {
            "bin_start": 0.9356078808265257,
            "bin_end": 0.9678039404132628,
            "count": 8
           },
           {
            "bin_start": 0.9678039404132628,
            "bin_end": 1,
            "count": 3
           }
          ]
         }
        },
        {
         "name": "width",
         "dtype": "float64",
         "stats": {
          "unique_count": 43,
          "nan_count": 0,
          "min": "0.8374999999999999",
          "max": "1.0",
          "histogram": [
           {
            "bin_start": 0.8374999999999999,
            "bin_end": 0.8537499999999999,
            "count": 1
           },
           {
            "bin_start": 0.8537499999999999,
            "bin_end": 0.8699999999999999,
            "count": 2
           },
           {
            "bin_start": 0.8699999999999999,
            "bin_end": 0.88625,
            "count": 34
           },
           {
            "bin_start": 0.88625,
            "bin_end": 0.9025,
            "count": 36
           },
           {
            "bin_start": 0.9025,
            "bin_end": 0.91875,
            "count": 46
           },
           {
            "bin_start": 0.91875,
            "bin_end": 0.9349999999999999,
            "count": 43
           },
           {
            "bin_start": 0.9349999999999999,
            "bin_end": 0.9512499999999999,
            "count": 19
           },
           {
            "bin_start": 0.9512499999999999,
            "bin_end": 0.9675,
            "count": 7
           },
           {
            "bin_start": 0.9675,
            "bin_end": 0.98375,
            "count": 5
           },
           {
            "bin_start": 0.98375,
            "bin_end": 1,
            "count": 8
           }
          ]
         }
        },
        {
         "name": "height",
         "dtype": "float64",
         "stats": {
          "unique_count": 49,
          "nan_count": 0,
          "min": "47.8",
          "max": "59.8",
          "histogram": [
           {
            "bin_start": 47.8,
            "bin_end": 49,
            "count": 3
           },
           {
            "bin_start": 49,
            "bin_end": 50.199999999999996,
            "count": 9
           },
           {
            "bin_start": 50.199999999999996,
            "bin_end": 51.4,
            "count": 27
           },
           {
            "bin_start": 51.4,
            "bin_end": 52.599999999999994,
            "count": 22
           },
           {
            "bin_start": 52.599999999999994,
            "bin_end": 53.8,
            "count": 33
           },
           {
            "bin_start": 53.8,
            "bin_end": 55,
            "count": 41
           },
           {
            "bin_start": 55,
            "bin_end": 56.199999999999996,
            "count": 38
           },
           {
            "bin_start": 56.199999999999996,
            "bin_end": 57.4,
            "count": 15
           },
           {
            "bin_start": 57.4,
            "bin_end": 58.599999999999994,
            "count": 4
           },
           {
            "bin_start": 58.599999999999994,
            "bin_end": 59.8,
            "count": 9
           }
          ]
         }
        },
        {
         "name": "curb-weight",
         "dtype": "int64",
         "stats": {
          "unique_count": 169,
          "nan_count": 0,
          "min": "1488",
          "max": "4066",
          "histogram": [
           {
            "bin_start": 1488,
            "bin_end": 1745.8,
            "count": 2
           },
           {
            "bin_start": 1745.8,
            "bin_end": 2003.6,
            "count": 27
           },
           {
            "bin_start": 2003.6,
            "bin_end": 2261.4,
            "count": 33
           },
           {
            "bin_start": 2261.4,
            "bin_end": 2519.2,
            "count": 50
           },
           {
            "bin_start": 2519.2,
            "bin_end": 2777,
            "count": 25
           },
           {
            "bin_start": 2777,
            "bin_end": 3034.8,
            "count": 23
           },
           {
            "bin_start": 3034.8,
            "bin_end": 3292.6000000000004,
            "count": 25
           },
           {
            "bin_start": 3292.6000000000004,
            "bin_end": 3550.4,
            "count": 7
           },
           {
            "bin_start": 3550.4,
            "bin_end": 3808.2000000000003,
            "count": 5
           },
           {
            "bin_start": 3808.2000000000003,
            "bin_end": 4066,
            "count": 4
           }
          ]
         }
        },
        {
         "name": "engine-type",
         "dtype": "object",
         "stats": {
          "unique_count": 6,
          "nan_count": 0,
          "categories": [
           {
            "name": "ohc",
            "count": 145
           },
           {
            "name": "ohcf",
            "count": 15
           },
           {
            "name": "4 others",
            "count": 41
           }
          ]
         }
        },
        {
         "name": "num-of-cylinders",
         "dtype": "object",
         "stats": {
          "unique_count": 7,
          "nan_count": 0,
          "categories": [
           {
            "name": "four",
            "count": 157
           },
           {
            "name": "six",
            "count": 24
           },
           {
            "name": "5 others",
            "count": 20
           }
          ]
         }
        },
        {
         "name": "engine-size",
         "dtype": "int64",
         "stats": {
          "unique_count": 43,
          "nan_count": 0,
          "min": "61",
          "max": "326",
          "histogram": [
           {
            "bin_start": 61,
            "bin_end": 87.5,
            "count": 6
           },
           {
            "bin_start": 87.5,
            "bin_end": 114,
            "count": 93
           },
           {
            "bin_start": 114,
            "bin_end": 140.5,
            "count": 45
           },
           {
            "bin_start": 140.5,
            "bin_end": 167,
            "count": 30
           },
           {
            "bin_start": 167,
            "bin_end": 193.5,
            "count": 14
           },
           {
            "bin_start": 193.5,
            "bin_end": 220,
            "count": 6
           },
           {
            "bin_start": 220,
            "bin_end": 246.5,
            "count": 2
           },
           {
            "bin_start": 246.5,
            "bin_end": 273,
            "count": 2
           },
           {
            "bin_start": 273,
            "bin_end": 299.5,
            "count": 0
           },
           {
            "bin_start": 299.5,
            "bin_end": 326,
            "count": 3
           }
          ]
         }
        },
        {
         "name": "fuel-system",
         "dtype": "object",
         "stats": {
          "unique_count": 8,
          "nan_count": 0,
          "categories": [
           {
            "name": "mpfi",
            "count": 92
           },
           {
            "name": "2bbl",
            "count": 64
           },
           {
            "name": "6 others",
            "count": 45
           }
          ]
         }
        },
        {
         "name": "bore",
         "dtype": "float64",
         "stats": {
          "unique_count": 39,
          "nan_count": 0,
          "min": "2.54",
          "max": "3.94",
          "histogram": [
           {
            "bin_start": 2.54,
            "bin_end": 2.68,
            "count": 1
           },
           {
            "bin_start": 2.68,
            "bin_end": 2.82,
            "count": 1
           },
           {
            "bin_start": 2.82,
            "bin_end": 2.96,
            "count": 8
           },
           {
            "bin_start": 2.96,
            "bin_end": 3.1,
            "count": 35
           },
           {
            "bin_start": 3.1,
            "bin_end": 3.24,
            "count": 39
           },
           {
            "bin_start": 3.24,
            "bin_end": 3.38,
            "count": 28
           },
           {
            "bin_start": 3.38,
            "bin_end": 3.52,
            "count": 27
           },
           {
            "bin_start": 3.52,
            "bin_end": 3.66,
            "count": 42
           },
           {
            "bin_start": 3.66,
            "bin_end": 3.8,
            "count": 17
           },
           {
            "bin_start": 3.8,
            "bin_end": 3.94,
            "count": 3
           }
          ]
         }
        },
        {
         "name": "stroke",
         "dtype": "float64",
         "stats": {
          "unique_count": 36,
          "nan_count": 4,
          "min": "2.07",
          "max": "4.17",
          "histogram": [
           {
            "bin_start": 2.07,
            "bin_end": 2.28,
            "count": 3
           },
           {
            "bin_start": 2.28,
            "bin_end": 2.4899999999999998,
            "count": 1
           },
           {
            "bin_start": 2.4899999999999998,
            "bin_end": 2.7,
            "count": 13
           },
           {
            "bin_start": 2.7,
            "bin_end": 2.91,
            "count": 7
           },
           {
            "bin_start": 2.91,
            "bin_end": 3.12,
            "count": 27
           },
           {
            "bin_start": 3.12,
            "bin_end": 3.33,
            "count": 52
           },
           {
            "bin_start": 3.33,
            "bin_end": 3.54,
            "count": 70
           },
           {
            "bin_start": 3.54,
            "bin_end": 3.75,
            "count": 15
           },
           {
            "bin_start": 3.75,
            "bin_end": 3.96,
            "count": 7
           },
           {
            "bin_start": 3.96,
            "bin_end": 4.17,
            "count": 2
           }
          ]
         }
        },
        {
         "name": "compression-ratio",
         "dtype": "float64",
         "stats": {
          "unique_count": 32,
          "nan_count": 0,
          "min": "7.0",
          "max": "23.0",
          "histogram": [
           {
            "bin_start": 7,
            "bin_end": 8.6,
            "count": 50
           },
           {
            "bin_start": 8.6,
            "bin_end": 10.2,
            "count": 130
           },
           {
            "bin_start": 10.2,
            "bin_end": 11.8,
            "count": 1
           },
           {
            "bin_start": 11.8,
            "bin_end": 13.4,
            "count": 0
           },
           {
            "bin_start": 13.4,
            "bin_end": 15,
            "count": 0
           },
           {
            "bin_start": 15,
            "bin_end": 16.6,
            "count": 0
           },
           {
            "bin_start": 16.6,
            "bin_end": 18.200000000000003,
            "count": 0
           },
           {
            "bin_start": 18.200000000000003,
            "bin_end": 19.8,
            "count": 0
           },
           {
            "bin_start": 19.8,
            "bin_end": 21.4,
            "count": 5
           },
           {
            "bin_start": 21.4,
            "bin_end": 23,
            "count": 15
           }
          ]
         }
        },
        {
         "name": "horsepower",
         "dtype": "float64",
         "stats": {
          "unique_count": 59,
          "nan_count": 0,
          "min": "48.0",
          "max": "262.0",
          "histogram": [
           {
            "bin_start": 48,
            "bin_end": 69.4,
            "count": 44
           },
           {
            "bin_start": 69.4,
            "bin_end": 90.8,
            "count": 45
           },
           {
            "bin_start": 90.8,
            "bin_end": 112.19999999999999,
            "count": 48
           },
           {
            "bin_start": 112.19999999999999,
            "bin_end": 133.6,
            "count": 24
           },
           {
            "bin_start": 133.6,
            "bin_end": 155,
            "count": 14
           },
           {
            "bin_start": 155,
            "bin_end": 176.39999999999998,
            "count": 16
           },
           {
            "bin_start": 176.39999999999998,
            "bin_end": 197.79999999999998,
            "count": 5
           },
           {
            "bin_start": 197.79999999999998,
            "bin_end": 219.2,
            "count": 4
           },
           {
            "bin_start": 219.2,
            "bin_end": 240.6,
            "count": 0
           },
           {
            "bin_start": 240.6,
            "bin_end": 262,
            "count": 1
           }
          ]
         }
        },
        {
         "name": "peak-rpm",
         "dtype": "float64",
         "stats": {
          "unique_count": 23,
          "nan_count": 0,
          "min": "4150.0",
          "max": "6600.0",
          "histogram": [
           {
            "bin_start": 4150,
            "bin_end": 4395,
            "count": 17
           },
           {
            "bin_start": 4395,
            "bin_end": 4640,
            "count": 10
           },
           {
            "bin_start": 4640,
            "bin_end": 4885,
            "count": 41
           },
           {
            "bin_start": 4885,
            "bin_end": 5130,
            "count": 33
           },
           {
            "bin_start": 5130,
            "bin_end": 5375,
            "count": 31
           },
           {
            "bin_start": 5375,
            "bin_end": 5620,
            "count": 48
           },
           {
            "bin_start": 5620,
            "bin_end": 5865,
            "count": 7
           },
           {
            "bin_start": 5865,
            "bin_end": 6110,
            "count": 12
           },
           {
            "bin_start": 6110,
            "bin_end": 6355,
            "count": 0
           },
           {
            "bin_start": 6355,
            "bin_end": 6600,
            "count": 2
           }
          ]
         }
        },
        {
         "name": "city-mpg",
         "dtype": "int64",
         "stats": {
          "unique_count": 29,
          "nan_count": 0,
          "min": "13",
          "max": "49",
          "histogram": [
           {
            "bin_start": 13,
            "bin_end": 16.6,
            "count": 11
           },
           {
            "bin_start": 16.6,
            "bin_end": 20.2,
            "count": 45
           },
           {
            "bin_start": 20.2,
            "bin_end": 23.8,
            "count": 24
           },
           {
            "bin_start": 23.8,
            "bin_end": 27.4,
            "count": 56
           },
           {
            "bin_start": 27.4,
            "bin_end": 31,
            "count": 18
           },
           {
            "bin_start": 31,
            "bin_end": 34.6,
            "count": 31
           },
           {
            "bin_start": 34.6,
            "bin_end": 38.2,
            "count": 13
           },
           {
            "bin_start": 38.2,
            "bin_end": 41.8,
            "count": 0
           },
           {
            "bin_start": 41.8,
            "bin_end": 45.4,
            "count": 1
           },
           {
            "bin_start": 45.4,
            "bin_end": 49,
            "count": 2
           }
          ]
         }
        },
        {
         "name": "highway-mpg",
         "dtype": "int64",
         "stats": {
          "unique_count": 30,
          "nan_count": 0,
          "min": "16",
          "max": "54",
          "histogram": [
           {
            "bin_start": 16,
            "bin_end": 19.8,
            "count": 7
           },
           {
            "bin_start": 19.8,
            "bin_end": 23.6,
            "count": 16
           },
           {
            "bin_start": 23.6,
            "bin_end": 27.4,
            "count": 44
           },
           {
            "bin_start": 27.4,
            "bin_end": 31.2,
            "count": 46
           },
           {
            "bin_start": 31.2,
            "bin_end": 35,
            "count": 39
           },
           {
            "bin_start": 35,
            "bin_end": 38.8,
            "count": 32
           },
           {
            "bin_start": 38.8,
            "bin_end": 42.599999999999994,
            "count": 8
           },
           {
            "bin_start": 42.599999999999994,
            "bin_end": 46.4,
            "count": 4
           },
           {
            "bin_start": 46.4,
            "bin_end": 50.199999999999996,
            "count": 3
           },
           {
            "bin_start": 50.199999999999996,
            "bin_end": 54,
            "count": 2
           }
          ]
         }
        },
        {
         "name": "price",
         "dtype": "float64",
         "stats": {
          "unique_count": 186,
          "nan_count": 0,
          "min": "5118.0",
          "max": "45400.0",
          "histogram": [
           {
            "bin_start": 5118,
            "bin_end": 9146.2,
            "count": 81
           },
           {
            "bin_start": 9146.2,
            "bin_end": 13174.4,
            "count": 45
           },
           {
            "bin_start": 13174.4,
            "bin_end": 17202.6,
            "count": 35
           },
           {
            "bin_start": 17202.6,
            "bin_end": 21230.8,
            "count": 17
           },
           {
            "bin_start": 21230.8,
            "bin_end": 25259,
            "count": 6
           },
           {
            "bin_start": 25259,
            "bin_end": 29287.199999999997,
            "count": 3
           },
           {
            "bin_start": 29287.199999999997,
            "bin_end": 33315.399999999994,
            "count": 4
           },
           {
            "bin_start": 33315.399999999994,
            "bin_end": 37343.6,
            "count": 7
           },
           {
            "bin_start": 37343.6,
            "bin_end": 41371.799999999996,
            "count": 2
           },
           {
            "bin_start": 41371.799999999996,
            "bin_end": 45400,
            "count": 1
           }
          ]
         }
        },
        {
         "name": "city-L/100km",
         "dtype": "float64",
         "stats": {
          "unique_count": 29,
          "nan_count": 0,
          "min": "4.795918367346938",
          "max": "18.07692307692308",
          "histogram": [
           {
            "bin_start": 4.795918367346938,
            "bin_end": 6.124018838304552,
            "count": 3
           },
           {
            "bin_start": 6.124018838304552,
            "bin_end": 7.452119309262166,
            "count": 16
           },
           {
            "bin_start": 7.452119309262166,
            "bin_end": 8.780219780219781,
            "count": 60
           },
           {
            "bin_start": 8.780219780219781,
            "bin_end": 10.108320251177394,
            "count": 42
           },
           {
            "bin_start": 10.108320251177394,
            "bin_end": 11.436420722135008,
            "count": 24
           },
           {
            "bin_start": 11.436420722135008,
            "bin_end": 12.764521193092623,
            "count": 30
           },
           {
            "bin_start": 12.764521193092623,
            "bin_end": 14.092621664050238,
            "count": 15
           },
           {
            "bin_start": 14.092621664050238,
            "bin_end": 15.42072213500785,
            "count": 5
           },
           {
            "bin_start": 15.42072213500785,
            "bin_end": 16.748822605965465,
            "count": 3
           },
           {
            "bin_start": 16.748822605965465,
            "bin_end": 18.07692307692308,
            "count": 3
           }
          ]
         }
        },
        {
         "name": "horsepower-binned",
         "dtype": "object",
         "stats": {
          "unique_count": 3,
          "nan_count": 1,
          "categories": [
           {
            "name": "Low",
            "count": 115
           },
           {
            "name": "2 others",
            "count": 85
           },
           {
            "name": "Missing",
            "count": 1
           }
          ]
         }
        },
        {
         "name": "diesel",
         "dtype": "int64",
         "stats": {
          "unique_count": 2,
          "nan_count": 0,
          "min": "0",
          "max": "1",
          "histogram": [
           {
            "bin_start": 0,
            "bin_end": 0.1,
            "count": 181
           },
           {
            "bin_start": 0.1,
            "bin_end": 0.2,
            "count": 0
           },
           {
            "bin_start": 0.2,
            "bin_end": 0.30000000000000004,
            "count": 0
           },
           {
            "bin_start": 0.30000000000000004,
            "bin_end": 0.4,
            "count": 0
           },
           {
            "bin_start": 0.4,
            "bin_end": 0.5,
            "count": 0
           },
           {
            "bin_start": 0.5,
            "bin_end": 0.6000000000000001,
            "count": 0
           },
           {
            "bin_start": 0.6000000000000001,
            "bin_end": 0.7000000000000001,
            "count": 0
           },
           {
            "bin_start": 0.7000000000000001,
            "bin_end": 0.8,
            "count": 0
           },
           {
            "bin_start": 0.8,
            "bin_end": 0.9,
            "count": 0
           },
           {
            "bin_start": 0.9,
            "bin_end": 1,
            "count": 20
           }
          ]
         }
        },
        {
         "name": "gas",
         "dtype": "int64",
         "stats": {
          "unique_count": 2,
          "nan_count": 0,
          "min": "0",
          "max": "1",
          "histogram": [
           {
            "bin_start": 0,
            "bin_end": 0.1,
            "count": 20
           },
           {
            "bin_start": 0.1,
            "bin_end": 0.2,
            "count": 0
           },
           {
            "bin_start": 0.2,
            "bin_end": 0.30000000000000004,
            "count": 0
           },
           {
            "bin_start": 0.30000000000000004,
            "bin_end": 0.4,
            "count": 0
           },
           {
            "bin_start": 0.4,
            "bin_end": 0.5,
            "count": 0
           },
           {
            "bin_start": 0.5,
            "bin_end": 0.6000000000000001,
            "count": 0
           },
           {
            "bin_start": 0.6000000000000001,
            "bin_end": 0.7000000000000001,
            "count": 0
           },
           {
            "bin_start": 0.7000000000000001,
            "bin_end": 0.8,
            "count": 0
           },
           {
            "bin_start": 0.8,
            "bin_end": 0.9,
            "count": 0
           },
           {
            "bin_start": 0.9,
            "bin_end": 1,
            "count": 181
           }
          ]
         }
        },
        {
         "name": "_deepnote_index_column",
         "dtype": "int64"
        }
       ],
       "rows": [
        {
         "symboling": 3,
         "normalized-losses": 122,
         "make": "alfa-romero",
         "aspiration": "std",
         "num-of-doors": "two",
         "body-style": "convertible",
         "drive-wheels": "rwd",
         "engine-location": "front",
         "wheel-base": 88.6,
         "length": 0.8111484863046613,
         "width": 0.8902777777777777,
         "height": 48.8,
         "curb-weight": 2548,
         "engine-type": "dohc",
         "num-of-cylinders": "four",
         "engine-size": 130,
         "fuel-system": "mpfi",
         "bore": 3.47,
         "stroke": 2.68,
         "compression-ratio": 9,
         "horsepower": 111,
         "peak-rpm": 5000,
         "city-mpg": 21,
         "highway-mpg": 27,
         "price": 13495,
         "city-L/100km": 11.190476190476188,
         "horsepower-binned": "Medium",
         "diesel": 0,
         "gas": 1,
         "_deepnote_index_column": 0
        },
        {
         "symboling": 3,
         "normalized-losses": 122,
         "make": "alfa-romero",
         "aspiration": "std",
         "num-of-doors": "two",
         "body-style": "convertible",
         "drive-wheels": "rwd",
         "engine-location": "front",
         "wheel-base": 88.6,
         "length": 0.8111484863046613,
         "width": 0.8902777777777777,
         "height": 48.8,
         "curb-weight": 2548,
         "engine-type": "dohc",
         "num-of-cylinders": "four",
         "engine-size": 130,
         "fuel-system": "mpfi",
         "bore": 3.47,
         "stroke": 2.68,
         "compression-ratio": 9,
         "horsepower": 111,
         "peak-rpm": 5000,
         "city-mpg": 21,
         "highway-mpg": 27,
         "price": 16500,
         "city-L/100km": 11.190476190476188,
         "horsepower-binned": "Medium",
         "diesel": 0,
         "gas": 1,
         "_deepnote_index_column": 1
        },
        {
         "symboling": 1,
         "normalized-losses": 122,
         "make": "alfa-romero",
         "aspiration": "std",
         "num-of-doors": "two",
         "body-style": "hatchback",
         "drive-wheels": "rwd",
         "engine-location": "front",
         "wheel-base": 94.5,
         "length": 0.8226814031715521,
         "width": 0.9097222222222222,
         "height": 52.4,
         "curb-weight": 2823,
         "engine-type": "ohcv",
         "num-of-cylinders": "six",
         "engine-size": 152,
         "fuel-system": "mpfi",
         "bore": 2.68,
         "stroke": 3.47,
         "compression-ratio": 9,
         "horsepower": 154,
         "peak-rpm": 5000,
         "city-mpg": 19,
         "highway-mpg": 26,
         "price": 16500,
         "city-L/100km": 12.36842105263158,
         "horsepower-binned": "Medium",
         "diesel": 0,
         "gas": 1,
         "_deepnote_index_column": 2
        },
        {
         "symboling": 2,
         "normalized-losses": 164,
         "make": "audi",
         "aspiration": "std",
         "num-of-doors": "four",
         "body-style": "sedan",
         "drive-wheels": "fwd",
         "engine-location": "front",
         "wheel-base": 99.8,
         "length": 0.8486304661220567,
         "width": 0.9194444444444444,
         "height": 54.3,
         "curb-weight": 2337,
         "engine-type": "ohc",
         "num-of-cylinders": "four",
         "engine-size": 109,
         "fuel-system": "mpfi",
         "bore": 3.19,
         "stroke": 3.4,
         "compression-ratio": 10,
         "horsepower": 102,
         "peak-rpm": 5500,
         "city-mpg": 24,
         "highway-mpg": 30,
         "price": 13950,
         "city-L/100km": 9.791666666666666,
         "horsepower-binned": "Medium",
         "diesel": 0,
         "gas": 1,
         "_deepnote_index_column": 3
        },
        {
         "symboling": 2,
         "normalized-losses": 164,
         "make": "audi",
         "aspiration": "std",
         "num-of-doors": "four",
         "body-style": "sedan",
         "drive-wheels": "4wd",
         "engine-location": "front",
         "wheel-base": 99.4,
         "length": 0.8486304661220567,
         "width": 0.9222222222222224,
         "height": 54.3,
         "curb-weight": 2824,
         "engine-type": "ohc",
         "num-of-cylinders": "five",
         "engine-size": 136,
         "fuel-system": "mpfi",
         "bore": 3.19,
         "stroke": 3.4,
         "compression-ratio": 8,
         "horsepower": 115,
         "peak-rpm": 5500,
         "city-mpg": 18,
         "highway-mpg": 22,
         "price": 17450,
         "city-L/100km": 13.055555555555555,
         "horsepower-binned": "Medium",
         "diesel": 0,
         "gas": 1,
         "_deepnote_index_column": 4
        },
        {
         "symboling": 2,
         "normalized-losses": 122,
         "make": "audi",
         "aspiration": "std",
         "num-of-doors": "two",
         "body-style": "sedan",
         "drive-wheels": "fwd",
         "engine-location": "front",
         "wheel-base": 99.8,
         "length": 0.8519942335415667,
         "width": 0.9208333333333332,
         "height": 53.1,
         "curb-weight": 2507,
         "engine-type": "ohc",
         "num-of-cylinders": "five",
         "engine-size": 136,
         "fuel-system": "mpfi",
         "bore": 3.19,
         "stroke": 3.4,
         "compression-ratio": 8.5,
         "horsepower": 110,
         "peak-rpm": 5500,
         "city-mpg": 19,
         "highway-mpg": 25,
         "price": 15250,
         "city-L/100km": 12.36842105263158,
         "horsepower-binned": "Medium",
         "diesel": 0,
         "gas": 1,
         "_deepnote_index_column": 5
        },
        {
         "symboling": 1,
         "normalized-losses": 158,
         "make": "audi",
         "aspiration": "std",
         "num-of-doors": "four",
         "body-style": "sedan",
         "drive-wheels": "fwd",
         "engine-location": "front",
         "wheel-base": 105.8,
         "length": 0.9259971167707832,
         "width": 0.9916666666666668,
         "height": 55.7,
         "curb-weight": 2844,
         "engine-type": "ohc",
         "num-of-cylinders": "five",
         "engine-size": 136,
         "fuel-system": "mpfi",
         "bore": 3.19,
         "stroke": 3.4,
         "compression-ratio": 8.5,
         "horsepower": 110,
         "peak-rpm": 5500,
         "city-mpg": 19,
         "highway-mpg": 25,
         "price": 17710,
         "city-L/100km": 12.36842105263158,
         "horsepower-binned": "Medium",
         "diesel": 0,
         "gas": 1,
         "_deepnote_index_column": 6
        },
        {
         "symboling": 1,
         "normalized-losses": 122,
         "make": "audi",
         "aspiration": "std",
         "num-of-doors": "four",
         "body-style": "wagon",
         "drive-wheels": "fwd",
         "engine-location": "front",
         "wheel-base": 105.8,
         "length": 0.9259971167707832,
         "width": 0.9916666666666668,
         "height": 55.7,
         "curb-weight": 2954,
         "engine-type": "ohc",
         "num-of-cylinders": "five",
         "engine-size": 136,
         "fuel-system": "mpfi",
         "bore": 3.19,
         "stroke": 3.4,
         "compression-ratio": 8.5,
         "horsepower": 110,
         "peak-rpm": 5500,
         "city-mpg": 19,
         "highway-mpg": 25,
         "price": 18920,
         "city-L/100km": 12.36842105263158,
         "horsepower-binned": "Medium",
         "diesel": 0,
         "gas": 1,
         "_deepnote_index_column": 7
        },
        {
         "symboling": 1,
         "normalized-losses": 158,
         "make": "audi",
         "aspiration": "turbo",
         "num-of-doors": "four",
         "body-style": "sedan",
         "drive-wheels": "fwd",
         "engine-location": "front",
         "wheel-base": 105.8,
         "length": 0.9259971167707832,
         "width": 0.9916666666666668,
         "height": 55.9,
         "curb-weight": 3086,
         "engine-type": "ohc",
         "num-of-cylinders": "five",
         "engine-size": 131,
         "fuel-system": "mpfi",
         "bore": 3.13,
         "stroke": 3.4,
         "compression-ratio": 8.3,
         "horsepower": 140,
         "peak-rpm": 5500,
         "city-mpg": 17,
         "highway-mpg": 20,
         "price": 23875,
         "city-L/100km": 13.823529411764708,
         "horsepower-binned": "Medium",
         "diesel": 0,
         "gas": 1,
         "_deepnote_index_column": 8
        },
        {
         "symboling": 2,
         "normalized-losses": 192,
         "make": "bmw",
         "aspiration": "std",
         "num-of-doors": "two",
         "body-style": "sedan",
         "drive-wheels": "rwd",
         "engine-location": "front",
         "wheel-base": 101.2,
         "length": 0.8495915425276309,
         "width": 0.8999999999999999,
         "height": 54.3,
         "curb-weight": 2395,
         "engine-type": "ohc",
         "num-of-cylinders": "four",
         "engine-size": 108,
         "fuel-system": "mpfi",
         "bore": 3.5,
         "stroke": 2.8,
         "compression-ratio": 8.8,
         "horsepower": 101,
         "peak-rpm": 5800,
         "city-mpg": 23,
         "highway-mpg": 29,
         "price": 16430,
         "city-L/100km": 10.217391304347826,
         "horsepower-binned": "Low",
         "diesel": 0,
         "gas": 1,
         "_deepnote_index_column": 9
        }
       ]
      },
      "text/plain": "     symboling  normalized-losses         make aspiration num-of-doors  \\\n0            3                122  alfa-romero        std          two   \n1            3                122  alfa-romero        std          two   \n2            1                122  alfa-romero        std          two   \n3            2                164         audi        std         four   \n4            2                164         audi        std         four   \n..         ...                ...          ...        ...          ...   \n196         -1                 95        volvo        std         four   \n197         -1                 95        volvo      turbo         four   \n198         -1                 95        volvo        std         four   \n199         -1                 95        volvo      turbo         four   \n200         -1                 95        volvo      turbo         four   \n\n      body-style drive-wheels engine-location  wheel-base    length  ...  \\\n0    convertible          rwd           front        88.6  0.811148  ...   \n1    convertible          rwd           front        88.6  0.811148  ...   \n2      hatchback          rwd           front        94.5  0.822681  ...   \n3          sedan          fwd           front        99.8  0.848630  ...   \n4          sedan          4wd           front        99.4  0.848630  ...   \n..           ...          ...             ...         ...       ...  ...   \n196        sedan          rwd           front       109.1  0.907256  ...   \n197        sedan          rwd           front       109.1  0.907256  ...   \n198        sedan          rwd           front       109.1  0.907256  ...   \n199        sedan          rwd           front       109.1  0.907256  ...   \n200        sedan          rwd           front       109.1  0.907256  ...   \n\n     compression-ratio  horsepower  peak-rpm city-mpg highway-mpg    price  \\\n0                  9.0       111.0    5000.0       21          27  13495.0   \n1                  9.0       111.0    5000.0       21          27  16500.0   \n2                  9.0       154.0    5000.0       19          26  16500.0   \n3                 10.0       102.0    5500.0       24          30  13950.0   \n4                  8.0       115.0    5500.0       18          22  17450.0   \n..                 ...         ...       ...      ...         ...      ...   \n196                9.5       114.0    5400.0       23          28  16845.0   \n197                8.7       160.0    5300.0       19          25  19045.0   \n198                8.8       134.0    5500.0       18          23  21485.0   \n199               23.0       106.0    4800.0       26          27  22470.0   \n200                9.5       114.0    5400.0       19          25  22625.0   \n\n    city-L/100km  horsepower-binned  diesel  gas  \n0      11.190476             Medium       0    1  \n1      11.190476             Medium       0    1  \n2      12.368421             Medium       0    1  \n3       9.791667             Medium       0    1  \n4      13.055556             Medium       0    1  \n..           ...                ...     ...  ...  \n196    10.217391             Medium       0    1  \n197    12.368421               High       0    1  \n198    13.055556             Medium       0    1  \n199     9.038462             Medium       1    0  \n200    12.368421             Medium       0    1  \n\n[201 rows x 29 columns]",
      "text/html": "<div>\n<style scoped>\n    .dataframe tbody tr th:only-of-type {\n        vertical-align: middle;\n    }\n\n    .dataframe tbody tr th {\n        vertical-align: top;\n    }\n\n    .dataframe thead th {\n        text-align: right;\n    }\n</style>\n<table border=\"1\" class=\"dataframe\">\n  <thead>\n    <tr style=\"text-align: right;\">\n      <th></th>\n      <th>symboling</th>\n      <th>normalized-losses</th>\n      <th>make</th>\n      <th>aspiration</th>\n      <th>num-of-doors</th>\n      <th>body-style</th>\n      <th>drive-wheels</th>\n      <th>engine-location</th>\n      <th>wheel-base</th>\n      <th>length</th>\n      <th>...</th>\n      <th>compression-ratio</th>\n      <th>horsepower</th>\n      <th>peak-rpm</th>\n      <th>city-mpg</th>\n      <th>highway-mpg</th>\n      <th>price</th>\n      <th>city-L/100km</th>\n      <th>horsepower-binned</th>\n      <th>diesel</th>\n      <th>gas</th>\n    </tr>\n  </thead>\n  <tbody>\n    <tr>\n      <th>0</th>\n      <td>3</td>\n      <td>122</td>\n      <td>alfa-romero</td>\n      <td>std</td>\n      <td>two</td>\n      <td>convertible</td>\n      <td>rwd</td>\n      <td>front</td>\n      <td>88.6</td>\n      <td>0.811148</td>\n      <td>...</td>\n      <td>9.0</td>\n      <td>111.0</td>\n      <td>5000.0</td>\n      <td>21</td>\n      <td>27</td>\n      <td>13495.0</td>\n      <td>11.190476</td>\n      <td>Medium</td>\n      <td>0</td>\n      <td>1</td>\n    </tr>\n    <tr>\n      <th>1</th>\n      <td>3</td>\n      <td>122</td>\n      <td>alfa-romero</td>\n      <td>std</td>\n      <td>two</td>\n      <td>convertible</td>\n      <td>rwd</td>\n      <td>front</td>\n      <td>88.6</td>\n      <td>0.811148</td>\n      <td>...</td>\n      <td>9.0</td>\n      <td>111.0</td>\n      <td>5000.0</td>\n      <td>21</td>\n      <td>27</td>\n      <td>16500.0</td>\n      <td>11.190476</td>\n      <td>Medium</td>\n      <td>0</td>\n      <td>1</td>\n    </tr>\n    <tr>\n      <th>2</th>\n      <td>1</td>\n      <td>122</td>\n      <td>alfa-romero</td>\n      <td>std</td>\n      <td>two</td>\n      <td>hatchback</td>\n      <td>rwd</td>\n      <td>front</td>\n      <td>94.5</td>\n      <td>0.822681</td>\n      <td>...</td>\n      <td>9.0</td>\n      <td>154.0</td>\n      <td>5000.0</td>\n      <td>19</td>\n      <td>26</td>\n      <td>16500.0</td>\n      <td>12.368421</td>\n      <td>Medium</td>\n      <td>0</td>\n      <td>1</td>\n    </tr>\n    <tr>\n      <th>3</th>\n      <td>2</td>\n      <td>164</td>\n      <td>audi</td>\n      <td>std</td>\n      <td>four</td>\n      <td>sedan</td>\n      <td>fwd</td>\n      <td>front</td>\n      <td>99.8</td>\n      <td>0.848630</td>\n      <td>...</td>\n      <td>10.0</td>\n      <td>102.0</td>\n      <td>5500.0</td>\n      <td>24</td>\n      <td>30</td>\n      <td>13950.0</td>\n      <td>9.791667</td>\n      <td>Medium</td>\n      <td>0</td>\n      <td>1</td>\n    </tr>\n    <tr>\n      <th>4</th>\n      <td>2</td>\n      <td>164</td>\n      <td>audi</td>\n      <td>std</td>\n      <td>four</td>\n      <td>sedan</td>\n      <td>4wd</td>\n      <td>front</td>\n      <td>99.4</td>\n      <td>0.848630</td>\n      <td>...</td>\n      <td>8.0</td>\n      <td>115.0</td>\n      <td>5500.0</td>\n      <td>18</td>\n      <td>22</td>\n      <td>17450.0</td>\n      <td>13.055556</td>\n      <td>Medium</td>\n      <td>0</td>\n      <td>1</td>\n    </tr>\n    <tr>\n      <th>...</th>\n      <td>...</td>\n      <td>...</td>\n      <td>...</td>\n      <td>...</td>\n      <td>...</td>\n      <td>...</td>\n      <td>...</td>\n      <td>...</td>\n      <td>...</td>\n      <td>...</td>\n      <td>...</td>\n      <td>...</td>\n      <td>...</td>\n      <td>...</td>\n      <td>...</td>\n      <td>...</td>\n      <td>...</td>\n      <td>...</td>\n      <td>...</td>\n      <td>...</td>\n      <td>...</td>\n    </tr>\n    <tr>\n      <th>196</th>\n      <td>-1</td>\n      <td>95</td>\n      <td>volvo</td>\n      <td>std</td>\n      <td>four</td>\n      <td>sedan</td>\n      <td>rwd</td>\n      <td>front</td>\n      <td>109.1</td>\n      <td>0.907256</td>\n      <td>...</td>\n      <td>9.5</td>\n      <td>114.0</td>\n      <td>5400.0</td>\n      <td>23</td>\n      <td>28</td>\n      <td>16845.0</td>\n      <td>10.217391</td>\n      <td>Medium</td>\n      <td>0</td>\n      <td>1</td>\n    </tr>\n    <tr>\n      <th>197</th>\n      <td>-1</td>\n      <td>95</td>\n      <td>volvo</td>\n      <td>turbo</td>\n      <td>four</td>\n      <td>sedan</td>\n      <td>rwd</td>\n      <td>front</td>\n      <td>109.1</td>\n      <td>0.907256</td>\n      <td>...</td>\n      <td>8.7</td>\n      <td>160.0</td>\n      <td>5300.0</td>\n      <td>19</td>\n      <td>25</td>\n      <td>19045.0</td>\n      <td>12.368421</td>\n      <td>High</td>\n      <td>0</td>\n      <td>1</td>\n    </tr>\n    <tr>\n      <th>198</th>\n      <td>-1</td>\n      <td>95</td>\n      <td>volvo</td>\n      <td>std</td>\n      <td>four</td>\n      <td>sedan</td>\n      <td>rwd</td>\n      <td>front</td>\n      <td>109.1</td>\n      <td>0.907256</td>\n      <td>...</td>\n      <td>8.8</td>\n      <td>134.0</td>\n      <td>5500.0</td>\n      <td>18</td>\n      <td>23</td>\n      <td>21485.0</td>\n      <td>13.055556</td>\n      <td>Medium</td>\n      <td>0</td>\n      <td>1</td>\n    </tr>\n    <tr>\n      <th>199</th>\n      <td>-1</td>\n      <td>95</td>\n      <td>volvo</td>\n      <td>turbo</td>\n      <td>four</td>\n      <td>sedan</td>\n      <td>rwd</td>\n      <td>front</td>\n      <td>109.1</td>\n      <td>0.907256</td>\n      <td>...</td>\n      <td>23.0</td>\n      <td>106.0</td>\n      <td>4800.0</td>\n      <td>26</td>\n      <td>27</td>\n      <td>22470.0</td>\n      <td>9.038462</td>\n      <td>Medium</td>\n      <td>1</td>\n      <td>0</td>\n    </tr>\n    <tr>\n      <th>200</th>\n      <td>-1</td>\n      <td>95</td>\n      <td>volvo</td>\n      <td>turbo</td>\n      <td>four</td>\n      <td>sedan</td>\n      <td>rwd</td>\n      <td>front</td>\n      <td>109.1</td>\n      <td>0.907256</td>\n      <td>...</td>\n      <td>9.5</td>\n      <td>114.0</td>\n      <td>5400.0</td>\n      <td>19</td>\n      <td>25</td>\n      <td>22625.0</td>\n      <td>12.368421</td>\n      <td>Medium</td>\n      <td>0</td>\n      <td>1</td>\n    </tr>\n  </tbody>\n</table>\n<p>201 rows × 29 columns</p>\n</div>"
     },
     "metadata": {}
    }
   ]
  },
  {
   "cell_type": "code",
   "metadata": {
    "cell_id": "645d5c41-8a14-4a04-bf98-d70935de6e33",
    "tags": [],
    "deepnote_to_be_reexecuted": false,
    "source_hash": "20180c2c",
    "execution_start": 1646831266511,
    "execution_millis": 1891,
    "deepnote_cell_type": "code",
    "deepnote_cell_height": 612.1875,
    "deepnote_output_heights": [
     21.1875,
     427
    ]
   },
   "source": "plt.figure(figsize=(8,7))\nsns.regplot(x = 'highway-mpg', y = 'price', data = df_cars)\nplt.ylim(0,)",
   "execution_count": null,
   "outputs": [
    {
     "output_type": "execute_result",
     "execution_count": 5,
     "data": {
      "text/plain": "(0.0, 48177.6297960545)"
     },
     "metadata": {}
    },
    {
     "data": {
      "text/plain": "<Figure size 576x504 with 1 Axes>",
      "image/png": "[encoded data removed]"
     },
     "metadata": {
      "needs_background": "light",
      "image/png": {
       "width": 513,
       "height": 425
      }
     },
     "output_type": "display_data"
    }
   ]
  },
  {
   "cell_type": "code",
   "metadata": {
    "cell_id": "0b98730a-a28b-4236-8a41-a3f964c53cfc",
    "tags": [],
    "deepnote_to_be_reexecuted": false,
    "source_hash": "9aaecc9d",
    "execution_start": 1646831268480,
    "execution_millis": 46,
    "deepnote_cell_type": "code",
    "deepnote_cell_height": 130
   },
   "source": "coeff, p_value = stats.pearsonr(df_cars['highway-mpg'], df_cars['price'])\nprint('Correlation Coefficient: {}, P-Value: {}'.format(coeff, p_value))",
   "execution_count": null,
   "outputs": [
    {
     "name": "stdout",
     "text": "Correlation Coefficient: -0.704692265058953, P-Value: 1.7495471144476358e-31\n",
     "output_type": "stream"
    }
   ]
  },
  {
   "cell_type": "markdown",
   "source": "# Linear Regression",
   "metadata": {
    "cell_id": "32d091ad-e495-4026-9d8e-70723c180933",
    "tags": [],
    "deepnote_cell_type": "markdown",
    "deepnote_cell_height": 82
   }
  },
  {
   "cell_type": "code",
   "metadata": {
    "cell_id": "4b4f7859-669d-4fc7-9528-3b05ac57ea41",
    "tags": [],
    "deepnote_to_be_reexecuted": false,
    "source_hash": "7ff2d330",
    "execution_start": 1646831268525,
    "execution_millis": 44,
    "deepnote_cell_type": "code",
    "deepnote_cell_height": 171
   },
   "source": "# Create LinearRegression object\nlm = LinearRegression()\nx = df_cars[['highway-mpg']]\ny = df_cars['price']\nlm.fit(x,y)\nyhat = lm.predict(x)",
   "execution_count": null,
   "outputs": []
  },
  {
   "cell_type": "code",
   "metadata": {
    "cell_id": "848dcabe-8a7d-4cd1-892f-bec410ff5506",
    "tags": [],
    "deepnote_to_be_reexecuted": false,
    "source_hash": "374d21d6",
    "execution_start": 1646831268569,
    "execution_millis": 29,
    "deepnote_cell_type": "code",
    "deepnote_cell_height": 118.1875,
    "deepnote_output_heights": [
     21.1875
    ]
   },
   "source": "lm.coef_",
   "execution_count": null,
   "outputs": [
    {
     "output_type": "execute_result",
     "execution_count": 8,
     "data": {
      "text/plain": "array([-821.73337832])"
     },
     "metadata": {}
    }
   ]
  },
  {
   "cell_type": "code",
   "metadata": {
    "cell_id": "6aae36bc-3f14-41a1-9652-4f390835574b",
    "tags": [],
    "deepnote_to_be_reexecuted": false,
    "source_hash": "1838becb",
    "execution_start": 1646831268617,
    "execution_millis": 25,
    "deepnote_cell_type": "code",
    "deepnote_cell_height": 118.1875,
    "deepnote_output_heights": [
     21.1875
    ]
   },
   "source": "lm.intercept_",
   "execution_count": null,
   "outputs": [
    {
     "output_type": "execute_result",
     "execution_count": 9,
     "data": {
      "text/plain": "38423.3058581574"
     },
     "metadata": {}
    }
   ]
  },
  {
   "cell_type": "markdown",
   "source": "**Equation**\n\nPrice = 38423.31 - 821.73*_**highway-mpg**_",
   "metadata": {
    "cell_id": "ae62d292-4043-4692-8263-8993adc0be0f",
    "tags": [],
    "deepnote_cell_type": "markdown",
    "deepnote_cell_height": 88.796875
   }
  },
  {
   "cell_type": "code",
   "metadata": {
    "cell_id": "dbb2eee9-979e-4034-8f64-da7e2e216194",
    "tags": [],
    "deepnote_to_be_reexecuted": false,
    "source_hash": "dc093c6",
    "execution_start": 1646831268668,
    "execution_millis": 2,
    "deepnote_cell_type": "code",
    "deepnote_cell_height": 210
   },
   "source": "for i in range(5):\n    print('Value {} -> Real: {}, Predict: {}'.format(i, y[i], yhat[i]))",
   "execution_count": null,
   "outputs": [
    {
     "name": "stdout",
     "text": "Value 0 -> Real: 13495.0, Predict: 16236.504643465414\nValue 1 -> Real: 16500.0, Predict: 16236.504643465414\nValue 2 -> Real: 16500.0, Predict: 17058.23802178734\nValue 3 -> Real: 13950.0, Predict: 13771.304508499637\nValue 4 -> Real: 17450.0, Predict: 20345.171535075042\n",
     "output_type": "stream"
    }
   ]
  },
  {
   "cell_type": "code",
   "metadata": {
    "cell_id": "560cc3e5-6204-4b21-9985-dac6d3138a1b",
    "tags": [],
    "deepnote_to_be_reexecuted": false,
    "source_hash": "a3972b75",
    "execution_start": 1646831268740,
    "execution_millis": 49913144,
    "deepnote_cell_type": "code",
    "deepnote_cell_height": 148
   },
   "source": "# test with the fist element\nyhat_0 = 38423.3058581574 - 821.73337*x.iloc[0]\nprint('yhat_0: {}'.format(yhat_0[0]))",
   "execution_count": null,
   "outputs": [
    {
     "name": "stdout",
     "text": "yhat_0: 16236.5048681574\n",
     "output_type": "stream"
    }
   ]
  },
  {
   "cell_type": "code",
   "metadata": {
    "cell_id": "5f7a0bed-aa0a-42f0-91e8-e51c6fcfe52c",
    "tags": [],
    "deepnote_to_be_reexecuted": false,
    "source_hash": "d9d0ccce",
    "execution_start": 1646831268788,
    "execution_millis": 4,
    "deepnote_cell_type": "code",
    "deepnote_cell_height": 118.1875,
    "deepnote_output_heights": [
     21.1875
    ]
   },
   "source": "lm.score(x, y)",
   "execution_count": null,
   "outputs": [
    {
     "output_type": "execute_result",
     "execution_count": 12,
     "data": {
      "text/plain": "0.4965911884339176"
     },
     "metadata": {}
    }
   ]
  },
  {
   "cell_type": "code",
   "metadata": {
    "cell_id": "50753e40-8c2e-473e-8aae-af4ac9e6c7ce",
    "tags": [],
    "deepnote_to_be_reexecuted": false,
    "source_hash": "cdd31124",
    "execution_start": 1646831268833,
    "execution_millis": 3,
    "deepnote_cell_type": "code",
    "deepnote_cell_height": 118.1875,
    "deepnote_output_heights": [
     21.1875
    ]
   },
   "source": "mean_squared_error(y, yhat)",
   "execution_count": null,
   "outputs": [
    {
     "output_type": "execute_result",
     "execution_count": 13,
     "data": {
      "text/plain": "31635042.944639888"
     },
     "metadata": {}
    }
   ]
  },
  {
   "cell_type": "markdown",
   "source": "# Multiple Linear Regression\n\nWhat if we want to predict car price using more than one variable?",
   "metadata": {
    "cell_id": "3c2d262c-d9ae-4011-81bb-bbbbd51c107d",
    "tags": [],
    "deepnote_cell_type": "markdown",
    "deepnote_cell_height": 120.390625
   }
  },
  {
   "cell_type": "code",
   "metadata": {
    "cell_id": "212b54de-7504-4588-8285-2bf44eb6b16f",
    "tags": [],
    "deepnote_to_be_reexecuted": false,
    "source_hash": "69a86262",
    "execution_start": 1646831268833,
    "execution_millis": 49865706,
    "deepnote_cell_type": "code",
    "deepnote_cell_height": 81
   },
   "source": "z = df_cars[['horsepower', 'curb-weight', 'engine-size', 'highway-mpg']]",
   "execution_count": null,
   "outputs": []
  },
  {
   "cell_type": "code",
   "metadata": {
    "cell_id": "49501508-791d-44c0-874a-c83d943ff0d6",
    "tags": [],
    "deepnote_to_be_reexecuted": false,
    "source_hash": "a3752fab",
    "execution_start": 1646831268877,
    "execution_millis": 14,
    "deepnote_cell_type": "code",
    "deepnote_cell_height": 136.1875,
    "deepnote_output_heights": [
     21.1875
    ]
   },
   "source": "lm2 = LinearRegression()\nlm2.fit(z, y)",
   "execution_count": null,
   "outputs": [
    {
     "output_type": "execute_result",
     "execution_count": 15,
     "data": {
      "text/plain": "LinearRegression()"
     },
     "metadata": {}
    }
   ]
  },
  {
   "cell_type": "code",
   "metadata": {
    "cell_id": "9eebfdaa-ef9a-4638-9eac-c9aac745bff0",
    "tags": [],
    "deepnote_to_be_reexecuted": false,
    "source_hash": "100a3376",
    "execution_start": 1646831268916,
    "execution_millis": 2,
    "deepnote_cell_type": "code",
    "deepnote_cell_height": 118.1875,
    "deepnote_output_heights": [
     21.1875
    ]
   },
   "source": "lm2.coef_",
   "execution_count": null,
   "outputs": [
    {
     "output_type": "execute_result",
     "execution_count": 16,
     "data": {
      "text/plain": "array([53.49574423,  4.70770099, 81.53026382, 36.05748882])"
     },
     "metadata": {}
    }
   ]
  },
  {
   "cell_type": "code",
   "metadata": {
    "cell_id": "948d0d7c-8bc4-4b00-a2e2-21de834cccea",
    "tags": [],
    "deepnote_to_be_reexecuted": false,
    "source_hash": "4931e442",
    "execution_start": 1646831269004,
    "execution_millis": 354,
    "deepnote_cell_type": "code",
    "deepnote_cell_height": 118.1875,
    "deepnote_output_heights": [
     21.1875
    ]
   },
   "source": "lm2.intercept_",
   "execution_count": null,
   "outputs": [
    {
     "output_type": "execute_result",
     "execution_count": 17,
     "data": {
      "text/plain": "-15806.62462632922"
     },
     "metadata": {}
    }
   ]
  },
  {
   "cell_type": "markdown",
   "source": "**Equation**\n\nprice = -15806.624626329209 + 53.49574423*_**horsepower**_ + 4.70770099*_**curb-weight**_ + 81.53026382*_**engine-size**_ + 36.05748882*_**highway-mpg**_",
   "metadata": {
    "cell_id": "28d21cb5-b4c4-4a6c-b486-685882a8fd32",
    "tags": [],
    "deepnote_cell_type": "markdown",
    "deepnote_cell_height": 111.1875
   }
  },
  {
   "cell_type": "markdown",
   "source": "# Model Evaluation using Visualization",
   "metadata": {
    "cell_id": "79a6b76d-5390-4443-af3d-1954eb0f3dd4",
    "tags": [],
    "deepnote_cell_type": "markdown",
    "deepnote_cell_height": 82
   }
  },
  {
   "cell_type": "markdown",
   "source": "## Linear Regression",
   "metadata": {
    "cell_id": "4a8da138-2b62-4fd2-acaf-64bad30e7981",
    "tags": [],
    "deepnote_cell_type": "markdown",
    "deepnote_cell_height": 70
   }
  },
  {
   "cell_type": "markdown",
   "source": "### regression plot",
   "metadata": {
    "cell_id": "086b7312-8001-49b5-91f8-6b0898de2954",
    "tags": [],
    "deepnote_cell_type": "markdown",
    "deepnote_cell_height": 62
   }
  },
  {
   "cell_type": "code",
   "metadata": {
    "cell_id": "953d7bee-a853-40f8-9dca-38229f768aeb",
    "tags": [],
    "deepnote_to_be_reexecuted": false,
    "source_hash": "20180c2c",
    "execution_start": 1646831269092,
    "execution_millis": 1382,
    "deepnote_cell_type": "code",
    "deepnote_cell_height": 612.1875,
    "deepnote_output_heights": [
     21.1875,
     427
    ]
   },
   "source": "plt.figure(figsize=(8,7))\nsns.regplot(x = 'highway-mpg', y = 'price', data = df_cars)\nplt.ylim(0,)",
   "execution_count": null,
   "outputs": [
    {
     "output_type": "execute_result",
     "execution_count": 18,
     "data": {
      "text/plain": "(0.0, 48151.76837311903)"
     },
     "metadata": {}
    },
    {
     "data": {
      "text/plain": "<Figure size 576x504 with 1 Axes>",
      "image/png": "[encoded data removed]"
     },
     "metadata": {
      "needs_background": "light",
      "image/png": {
       "width": 513,
       "height": 425
      }
     },
     "output_type": "display_data"
    }
   ]
  },
  {
   "cell_type": "markdown",
   "source": "### residual plot",
   "metadata": {
    "cell_id": "7980fa90-a84c-4fd4-a8fb-b8a14c1f9b11",
    "tags": [],
    "deepnote_cell_type": "markdown",
    "deepnote_cell_height": 62
   }
  },
  {
   "cell_type": "code",
   "metadata": {
    "cell_id": "7e236b5b-82f8-4b8e-955f-811ee1ebb4e3",
    "tags": [],
    "deepnote_to_be_reexecuted": false,
    "source_hash": "6ef6036f",
    "execution_start": 1646831270489,
    "execution_millis": 723,
    "deepnote_cell_type": "code",
    "deepnote_cell_height": 560,
    "deepnote_output_heights": [
     427
    ]
   },
   "source": "plt.figure(figsize=(8,7))\nsns.residplot(x = 'highway-mpg', y = 'price', data = df_cars)\nplt.show()",
   "execution_count": null,
   "outputs": [
    {
     "data": {
      "text/plain": "<Figure size 576x504 with 1 Axes>",
      "image/png": "[encoded data removed]"
     },
     "metadata": {
      "needs_background": "light",
      "image/png": {
       "width": 521,
       "height": 425
      }
     },
     "output_type": "display_data"
    }
   ]
  },
  {
   "cell_type": "markdown",
   "source": "## Multiple Linear Regression",
   "metadata": {
    "cell_id": "84904ae4-83ab-45f9-b50f-9745e70f9197",
    "tags": [],
    "deepnote_cell_type": "markdown",
    "deepnote_cell_height": 70
   }
  },
  {
   "cell_type": "code",
   "metadata": {
    "cell_id": "54a90037-7214-40c9-aebd-0e861988a3d0",
    "tags": [],
    "deepnote_to_be_reexecuted": false,
    "source_hash": "7e91fa35",
    "execution_start": 1646831271239,
    "execution_millis": 49772691,
    "deepnote_cell_type": "code",
    "deepnote_cell_height": 99
   },
   "source": "# predict the multiple linear regression\nyhat_z = lm2.predict(z)",
   "execution_count": null,
   "outputs": []
  },
  {
   "cell_type": "code",
   "metadata": {
    "cell_id": "468dfc85-8251-463c-b2db-3e0d919cb92e",
    "tags": [],
    "deepnote_to_be_reexecuted": false,
    "source_hash": "1bcb512e",
    "execution_start": 1646831271257,
    "execution_millis": 49767543,
    "deepnote_cell_type": "code",
    "deepnote_cell_height": 118.1875,
    "deepnote_output_heights": [
     21.1875
    ]
   },
   "source": "yhat_z[:4]",
   "execution_count": null,
   "outputs": [
    {
     "output_type": "execute_result",
     "execution_count": 21,
     "data": {
      "text/plain": "array([13699.11161184, 13699.11161184, 19051.65470233, 10620.36193015])"
     },
     "metadata": {}
    }
   ]
  },
  {
   "cell_type": "code",
   "metadata": {
    "cell_id": "147cfe2b-78f1-42ec-a03d-abe9f35e7e8d",
    "tags": [],
    "deepnote_to_be_reexecuted": false,
    "source_hash": "f487d07f",
    "execution_start": 1646831271324,
    "execution_millis": 1176,
    "deepnote_cell_type": "code",
    "deepnote_cell_height": 720,
    "deepnote_output_heights": [
     443
    ]
   },
   "source": "plt.figure(figsize=(12,7))\n\nax1 = sns.kdeplot(df_cars['price'], color = 'r', label = 'Actual Price')\nsns.kdeplot(yhat_z, color = 'b', label  = 'Fitted Price', ax =  ax1)\n\nplt.title('Actual vs FittedValues for Price')\nplt.xlabel('Proportion of Cars')\nplt.ylabel('Price in dollars')\nplt.legend()\n\nplt.show()",
   "execution_count": null,
   "outputs": [
    {
     "data": {
      "text/plain": "<Figure size 864x504 with 1 Axes>",
      "image/png": "[encoded data removed]"
     },
     "metadata": {
      "needs_background": "light",
      "image/png": {
       "width": 711,
       "height": 441
      }
     },
     "output_type": "display_data"
    }
   ]
  },
  {
   "cell_type": "markdown",
   "source": "# Polinomial Regression",
   "metadata": {
    "cell_id": "d1afaa4d-6751-41f7-97db-5f293e33530a",
    "tags": [],
    "deepnote_cell_type": "markdown",
    "deepnote_cell_height": 82
   }
  },
  {
   "cell_type": "code",
   "metadata": {
    "cell_id": "53780309-f096-40db-9837-950dc35706eb",
    "tags": [],
    "deepnote_to_be_reexecuted": false,
    "source_hash": "e78c9e08",
    "execution_start": 1646831272518,
    "execution_millis": 48753188,
    "deepnote_cell_type": "code",
    "deepnote_cell_height": 315
   },
   "source": "def PlotPolly(model, independent_variable, dependent_variable, Name):\n    x_new = np.linspace(15, 55, 100)\n    y_new = model(x_new)\n\n    plt.plot(independent_variable, dependent_variable, '.', x_new, y_new, '-')\n    plt.title('Polynomial Fit with Matplotlib for Price ~ Length')\n    ax = plt.gca()\n    ax.set_facecolor((0.898, 0.898, 0.898))\n    fig = plt.gcf()\n    plt.xlabel(Name)\n    plt.ylabel('Price of Cars')\n\n    plt.show()\n    plt.close()",
   "execution_count": null,
   "outputs": []
  },
  {
   "cell_type": "code",
   "metadata": {
    "cell_id": "7052f0dd-4b88-439e-b1df-8db4bd4cab6d",
    "tags": [],
    "deepnote_to_be_reexecuted": false,
    "source_hash": "c83eaa12",
    "execution_start": 1646831272604,
    "execution_millis": 48728749,
    "deepnote_cell_type": "code",
    "deepnote_cell_height": 99
   },
   "source": "x = df_cars['highway-mpg']\ny = df_cars['price']",
   "execution_count": null,
   "outputs": []
  },
  {
   "cell_type": "code",
   "metadata": {
    "cell_id": "4a7c314e-a09d-4eb9-a26e-d20dcb9b41e0",
    "tags": [],
    "deepnote_to_be_reexecuted": false,
    "source_hash": "517dcfe5",
    "execution_start": 1646831304692,
    "execution_millis": 36,
    "deepnote_cell_type": "code",
    "deepnote_cell_height": 204
   },
   "source": "# create \nf = np.polyfit(x, y, 3)\n# \np = np.poly1d(f)\nprint(p)",
   "execution_count": null,
   "outputs": [
    {
     "name": "stdout",
     "text": "        3         2\n-1.557 x + 204.8 x - 8965 x + 1.379e+05\n",
     "output_type": "stream"
    }
   ]
  },
  {
   "cell_type": "code",
   "metadata": {
    "cell_id": "df60df95-5e14-4125-be20-388757432e7e",
    "tags": [],
    "deepnote_to_be_reexecuted": false,
    "source_hash": "4c0b6167",
    "execution_start": 1646831307924,
    "execution_millis": 634,
    "deepnote_cell_type": "code",
    "deepnote_cell_height": 377,
    "deepnote_output_heights": [
     280
    ]
   },
   "source": "PlotPolly(p, x, y, 'highway-mpg')",
   "execution_count": null,
   "outputs": [
    {
     "data": {
      "text/plain": "<Figure size 432x288 with 1 Axes>",
      "image/png": "[encoded data removed]"
     },
     "metadata": {
      "needs_background": "light",
      "image/png": {
       "width": 401,
       "height": 278
      }
     },
     "output_type": "display_data"
    }
   ]
  },
  {
   "cell_type": "code",
   "metadata": {
    "cell_id": "99b4641d-73ba-4349-b580-48f796fcf9cb",
    "tags": [],
    "deepnote_to_be_reexecuted": false,
    "source_hash": "8bfe5d93",
    "execution_start": 1646831313656,
    "execution_millis": 3,
    "deepnote_cell_type": "code",
    "deepnote_cell_height": 206
   },
   "source": "# now we are going to create polynomial with degree 11\nf2 = np.polyfit(x, y, deg = 11)\np2 = np.poly1d(f2)\nprint(f2)",
   "execution_count": null,
   "outputs": [
    {
     "name": "stdout",
     "text": "[-1.24263391e-08  4.72184893e-06 -8.02843483e-04  8.05640304e-02\n -5.29740982e+00  2.39470329e+02 -7.58845740e+03  1.68447254e+05\n -2.56531153e+06  2.55140622e+07 -1.49106965e+08  3.87930088e+08]\n",
     "output_type": "stream"
    }
   ]
  },
  {
   "cell_type": "code",
   "metadata": {
    "cell_id": "339c20bb-5aa2-4344-aa66-7030891c6f5f",
    "tags": [],
    "deepnote_to_be_reexecuted": false,
    "source_hash": "fba6b1b1",
    "execution_start": 1646831315991,
    "execution_millis": 294,
    "deepnote_cell_type": "code",
    "deepnote_cell_height": 377,
    "deepnote_output_heights": [
     280
    ]
   },
   "source": "PlotPolly(p2, x, y, 'highway-mpg - degree 11')",
   "execution_count": null,
   "outputs": [
    {
     "data": {
      "text/plain": "<Figure size 432x288 with 1 Axes>",
      "image/png": "[encoded data removed]"
     },
     "metadata": {
      "needs_background": "light",
      "image/png": {
       "width": 409,
       "height": 278
      }
     },
     "output_type": "display_data"
    }
   ]
  },
  {
   "cell_type": "code",
   "metadata": {
    "cell_id": "8558a083-314b-4969-a25c-b6fc636cc7df",
    "tags": [],
    "deepnote_to_be_reexecuted": false,
    "source_hash": "749e35ee",
    "execution_start": 1646831322709,
    "execution_millis": 16,
    "deepnote_cell_type": "code",
    "deepnote_cell_height": 154.1875,
    "deepnote_output_heights": [
     21.1875
    ]
   },
   "source": "# We are going to use PolynomialFeatures from sklearn.preprocessing\npr = PolynomialFeatures(degree = 2)\npr",
   "execution_count": null,
   "outputs": [
    {
     "output_type": "execute_result",
     "execution_count": 30,
     "data": {
      "text/plain": "PolynomialFeatures()"
     },
     "metadata": {}
    }
   ]
  },
  {
   "cell_type": "code",
   "metadata": {
    "cell_id": "c2216d34-60a1-4712-beec-194d131adf5d",
    "tags": [],
    "deepnote_to_be_reexecuted": false,
    "source_hash": "411b89c5",
    "execution_start": 1646831323948,
    "execution_millis": 4,
    "deepnote_cell_type": "code",
    "deepnote_cell_height": 81
   },
   "source": "z_pr = pr.fit_transform(z)",
   "execution_count": null,
   "outputs": []
  },
  {
   "cell_type": "code",
   "metadata": {
    "cell_id": "c7b2de61-30c4-47b0-ac80-6b33ee5ba36d",
    "tags": [],
    "deepnote_to_be_reexecuted": false,
    "source_hash": "f628ab29",
    "execution_start": 1646831325088,
    "execution_millis": 60,
    "deepnote_cell_type": "code",
    "deepnote_cell_height": 136.1875,
    "deepnote_output_heights": [
     21.1875
    ]
   },
   "source": "# we have 4 features\nz.shape",
   "execution_count": null,
   "outputs": [
    {
     "output_type": "execute_result",
     "execution_count": 32,
     "data": {
      "text/plain": "(201, 4)"
     },
     "metadata": {}
    }
   ]
  },
  {
   "cell_type": "code",
   "metadata": {
    "cell_id": "3994360a-1d39-41e6-aec0-44f1a0ad9fec",
    "tags": [],
    "deepnote_to_be_reexecuted": false,
    "source_hash": "cd11548c",
    "execution_start": 1646831332640,
    "execution_millis": 163,
    "deepnote_cell_type": "code",
    "deepnote_cell_height": 136.1875,
    "deepnote_output_heights": [
     21.1875
    ]
   },
   "source": "# now we have 15 features\nz_pr.shape",
   "execution_count": null,
   "outputs": [
    {
     "output_type": "execute_result",
     "execution_count": 33,
     "data": {
      "text/plain": "(201, 15)"
     },
     "metadata": {}
    }
   ]
  },
  {
   "cell_type": "markdown",
   "source": "# Pipelines",
   "metadata": {
    "cell_id": "7b220944-90de-4567-b6f0-6fd20d8e274c",
    "tags": [],
    "deepnote_cell_type": "markdown",
    "deepnote_cell_height": 82
   }
  },
  {
   "cell_type": "code",
   "metadata": {
    "cell_id": "3a904b29-677f-40f5-85f1-77af91ebac95",
    "tags": [],
    "deepnote_to_be_reexecuted": false,
    "source_hash": "a0a78ed6",
    "execution_start": 1646831335064,
    "execution_millis": 5,
    "deepnote_cell_type": "code",
    "deepnote_cell_height": 99
   },
   "source": "# create the list of tuples\nInput=[('scale',StandardScaler()), ('polynomial', PolynomialFeatures(include_bias=False)), ('model',LinearRegression())]",
   "execution_count": null,
   "outputs": []
  },
  {
   "cell_type": "code",
   "metadata": {
    "cell_id": "26d9d073-cf5e-42ac-a00f-850ac6917d70",
    "tags": [],
    "deepnote_to_be_reexecuted": false,
    "source_hash": "67746774",
    "execution_start": 1646831336547,
    "execution_millis": 10,
    "deepnote_cell_type": "code",
    "deepnote_cell_height": 174.578125,
    "deepnote_output_heights": [
     59.59375
    ]
   },
   "source": "pipe = Pipeline(Input)\npipe",
   "execution_count": null,
   "outputs": [
    {
     "output_type": "execute_result",
     "execution_count": 35,
     "data": {
      "text/plain": "Pipeline(steps=[('scale', StandardScaler()),\n                ('polynomial', PolynomialFeatures(include_bias=False)),\n                ('model', LinearRegression())])"
     },
     "metadata": {}
    }
   ]
  },
  {
   "cell_type": "code",
   "metadata": {
    "cell_id": "623324e2-ee0e-4c3e-9cf0-4555e19fe4e3",
    "tags": [],
    "deepnote_to_be_reexecuted": false,
    "source_hash": "bd51c47c",
    "execution_start": 1646831339106,
    "execution_millis": 16,
    "deepnote_cell_type": "code",
    "deepnote_cell_height": 174.578125,
    "deepnote_output_heights": [
     59.59375
    ]
   },
   "source": "z = z.astype(float)\npipe.fit(z,y)",
   "execution_count": null,
   "outputs": [
    {
     "output_type": "execute_result",
     "execution_count": 36,
     "data": {
      "text/plain": "Pipeline(steps=[('scale', StandardScaler()),\n                ('polynomial', PolynomialFeatures(include_bias=False)),\n                ('model', LinearRegression())])"
     },
     "metadata": {}
    }
   ]
  },
  {
   "cell_type": "code",
   "metadata": {
    "cell_id": "e75b006e-73ab-47ee-a54a-b829fa794448",
    "tags": [],
    "deepnote_to_be_reexecuted": false,
    "source_hash": "ca9dd44e",
    "execution_start": 1646831342274,
    "execution_millis": 3,
    "deepnote_cell_type": "code",
    "deepnote_cell_height": 136.1875,
    "deepnote_output_heights": [
     21.1875
    ]
   },
   "source": "ypipe = pipe.predict(z)\nypipe[0:4]",
   "execution_count": null,
   "outputs": [
    {
     "output_type": "execute_result",
     "execution_count": 37,
     "data": {
      "text/plain": "array([13102.74784201, 13102.74784201, 18225.54572197, 10390.29636555])"
     },
     "metadata": {}
    }
   ]
  },
  {
   "cell_type": "code",
   "metadata": {
    "cell_id": "c44772ff-2311-47a9-a1bf-a78c31ace972",
    "tags": [],
    "deepnote_to_be_reexecuted": false,
    "source_hash": "2f53edac",
    "execution_start": 1646831344291,
    "execution_millis": 8,
    "deepnote_cell_type": "code",
    "deepnote_cell_height": 462.578125,
    "deepnote_output_heights": [
     59.59375
    ]
   },
   "source": "# Create a pipeline that standardizes the data, then produce a prediction using a linear regression model\n# using the features 'z' and target 'y'\n\n# create the input\nInput2 = [('scale',StandardScaler()), ('model', LinearRegression())]\n\n# create out pipeline\npipe2 = Pipeline(Input2)\n\n# fit our pipeline\nz2 = z.astype(float)\npipe.fit(z2, y)\n\n# predict with our pipeline\nypipe2 = pipe.predict(z2)\n\n# print the first 10 values\nypipe2[:10]",
   "execution_count": null,
   "outputs": [
    {
     "output_type": "execute_result",
     "execution_count": 38,
     "data": {
      "text/plain": "array([13102.74784201, 13102.74784201, 18225.54572197, 10390.29636555,\n       16136.29619164, 13880.09787302, 15041.58694037, 15457.93465485,\n       17974.49032347, 10510.56542385])"
     },
     "metadata": {}
    }
   ]
  },
  {
   "cell_type": "markdown",
   "source": "# Measures for In-Sample Evaluation",
   "metadata": {
    "cell_id": "fe937a20-e914-4a89-b40b-b9a4970046a3",
    "tags": [],
    "deepnote_cell_type": "markdown",
    "deepnote_cell_height": 82
   }
  },
  {
   "cell_type": "markdown",
   "source": "## Linear Regression",
   "metadata": {
    "cell_id": "fea75037-1fb7-4b15-9017-4bc884dbfecd",
    "tags": [],
    "deepnote_cell_type": "markdown",
    "deepnote_cell_height": 70
   }
  },
  {
   "cell_type": "code",
   "metadata": {
    "cell_id": "296c203d-78b1-48e7-b5e7-45c56a0b2d40",
    "tags": [],
    "deepnote_to_be_reexecuted": false,
    "source_hash": "2680a4b",
    "execution_start": 1646831350719,
    "execution_millis": 30,
    "deepnote_cell_type": "code",
    "deepnote_cell_height": 207
   },
   "source": "x = df_cars[['highway-mpg']]\ny = df_cars['price']\n\nlm = LinearRegression()\n\nlm.fit(x, y)\n\ny_hat = lm.predict(x)",
   "execution_count": null,
   "outputs": []
  },
  {
   "cell_type": "code",
   "metadata": {
    "cell_id": "bdcbd8ea-00db-4750-a32a-0ab411c9669a",
    "tags": [],
    "deepnote_to_be_reexecuted": false,
    "source_hash": "1fb3b457",
    "execution_start": 1646831352575,
    "execution_millis": 249,
    "deepnote_cell_type": "code",
    "deepnote_cell_height": 136.1875,
    "deepnote_output_heights": [
     21.1875
    ]
   },
   "source": "# the more the better\nlm.score(x, y)",
   "execution_count": null,
   "outputs": [
    {
     "output_type": "execute_result",
     "execution_count": 40,
     "data": {
      "text/plain": "0.4965911884339176"
     },
     "metadata": {}
    }
   ]
  },
  {
   "cell_type": "code",
   "metadata": {
    "cell_id": "cda0ab9b-9514-4a7e-a11d-f5d9f911076a",
    "tags": [],
    "deepnote_to_be_reexecuted": false,
    "source_hash": "b5cb1491",
    "execution_start": 1646831361722,
    "execution_millis": 31,
    "deepnote_cell_type": "code",
    "deepnote_cell_height": 136.1875,
    "deepnote_output_heights": [
     21.1875
    ]
   },
   "source": "# the least the better\nmean_squared_error(y, y_hat)",
   "execution_count": null,
   "outputs": [
    {
     "output_type": "execute_result",
     "execution_count": 41,
     "data": {
      "text/plain": "31635042.944639888"
     },
     "metadata": {}
    }
   ]
  },
  {
   "cell_type": "markdown",
   "source": "## Multiple Linear Regression",
   "metadata": {
    "cell_id": "34199d89-cdd5-485f-bf4a-77a175b1d9af",
    "tags": [],
    "deepnote_cell_type": "markdown",
    "deepnote_cell_height": 70
   }
  },
  {
   "cell_type": "code",
   "metadata": {
    "cell_id": "a580cc90-b221-4e8e-b45d-f1e1c9586964",
    "tags": [],
    "deepnote_to_be_reexecuted": false,
    "source_hash": "1581421f",
    "execution_start": 1646831370409,
    "execution_millis": 4,
    "deepnote_cell_type": "code",
    "deepnote_cell_height": 207
   },
   "source": "# work with 4 features\nz = df_cars[['horsepower', 'curb-weight', 'engine-size', 'highway-mpg']]\ny = df_cars['price']\n\nlm2 = LinearRegression()\nlm2.fit(z, y)\n\ny_hat_z = lm2.predict(z)",
   "execution_count": null,
   "outputs": []
  },
  {
   "cell_type": "code",
   "metadata": {
    "cell_id": "b684c005-12e8-4ff1-b7bf-609b9dfd1e3a",
    "tags": [],
    "deepnote_to_be_reexecuted": false,
    "source_hash": "16415e25",
    "execution_start": 1646831372124,
    "execution_millis": 5,
    "deepnote_cell_type": "code",
    "deepnote_cell_height": 118.1875,
    "deepnote_output_heights": [
     21.1875
    ]
   },
   "source": "lm2.score(z, y)",
   "execution_count": null,
   "outputs": [
    {
     "output_type": "execute_result",
     "execution_count": 43,
     "data": {
      "text/plain": "0.8093562806577457"
     },
     "metadata": {}
    }
   ]
  },
  {
   "cell_type": "code",
   "metadata": {
    "cell_id": "ac266385-3c95-4cb4-9933-c495d548fc6a",
    "tags": [],
    "deepnote_to_be_reexecuted": false,
    "source_hash": "6cbbb71f",
    "execution_start": 1646831374875,
    "execution_millis": 304,
    "deepnote_cell_type": "code",
    "deepnote_cell_height": 118.1875,
    "deepnote_output_heights": [
     21.1875
    ]
   },
   "source": "mean_squared_error(y, y_hat_z)",
   "execution_count": null,
   "outputs": [
    {
     "output_type": "execute_result",
     "execution_count": 44,
     "data": {
      "text/plain": "11980366.87072649"
     },
     "metadata": {}
    }
   ]
  },
  {
   "cell_type": "markdown",
   "source": "## Polynomial Fit",
   "metadata": {
    "cell_id": "75468f89-1e1e-42f7-8200-d6c8c57acb14",
    "tags": [],
    "deepnote_cell_type": "markdown",
    "deepnote_cell_height": 70
   }
  },
  {
   "cell_type": "code",
   "metadata": {
    "cell_id": "01791927-3253-4c46-9785-6f5cfef85012",
    "tags": [],
    "deepnote_to_be_reexecuted": false,
    "source_hash": "f1b9556e",
    "execution_start": 1646831543451,
    "execution_millis": 118,
    "deepnote_cell_type": "code",
    "deepnote_cell_height": 222
   },
   "source": "x = df_cars['highway-mpg']\ny = df_cars['price']\n\nf = np.polyfit(x, y, 3)\np = np.poly1d(f)\nprint(p)",
   "execution_count": null,
   "outputs": [
    {
     "name": "stdout",
     "text": "        3         2\n-1.557 x + 204.8 x - 8965 x + 1.379e+05\n",
     "output_type": "stream"
    }
   ]
  },
  {
   "cell_type": "code",
   "metadata": {
    "cell_id": "5c9a047a-747c-42fc-afb6-0c34e951a1b6",
    "tags": [],
    "deepnote_to_be_reexecuted": false,
    "source_hash": "38d02d98",
    "execution_start": 1646831678643,
    "execution_millis": 22,
    "deepnote_cell_type": "code",
    "deepnote_cell_height": 154.1875,
    "deepnote_output_heights": [
     21.1875
    ]
   },
   "source": "# score\nscore_poly_fit = r2_score(y, p(x))\nscore_poly_fit",
   "execution_count": null,
   "outputs": [
    {
     "output_type": "execute_result",
     "execution_count": 49,
     "data": {
      "text/plain": "0.674194666390652"
     },
     "metadata": {}
    }
   ]
  },
  {
   "cell_type": "code",
   "metadata": {
    "cell_id": "bde1396f-183e-450d-80cb-0e251ed293db",
    "tags": [],
    "deepnote_to_be_reexecuted": false,
    "source_hash": "6f2a0feb",
    "execution_start": 1646831713056,
    "execution_millis": 12,
    "deepnote_cell_type": "code",
    "deepnote_cell_height": 136.1875,
    "deepnote_output_heights": [
     21.1875
    ]
   },
   "source": "# mean squared error\nmean_squared_error(y, p(x))",
   "execution_count": null,
   "outputs": [
    {
     "output_type": "execute_result",
     "execution_count": 50,
     "data": {
      "text/plain": "20474146.426361218"
     },
     "metadata": {}
    }
   ]
  },
  {
   "cell_type": "markdown",
   "source": "# Precision and Decision Making",
   "metadata": {
    "cell_id": "03db3abb-a447-4c3b-918f-2aee6062334c",
    "tags": [],
    "deepnote_cell_type": "markdown",
    "deepnote_cell_height": 82
   }
  },
  {
   "cell_type": "markdown",
   "source": "## Prediction",
   "metadata": {
    "cell_id": "c3519b1d-2859-4e94-bf8f-3bf86a378ace",
    "tags": [],
    "deepnote_cell_type": "markdown",
    "deepnote_cell_height": 70
   }
  },
  {
   "cell_type": "code",
   "metadata": {
    "cell_id": "358a3703-1224-4ce6-b424-c8bc7879de37",
    "tags": [],
    "deepnote_to_be_reexecuted": false,
    "source_hash": "ff618125",
    "execution_start": 1646832074199,
    "execution_millis": 4,
    "deepnote_cell_type": "code",
    "deepnote_cell_height": 744,
    "deepnote_output_heights": [
     611
    ]
   },
   "source": "# create a new input\nnew_input = np.arange(1, 1000, 1).reshape(-1,1)\nnew_input",
   "execution_count": null,
   "outputs": [
    {
     "output_type": "execute_result",
     "execution_count": 51,
     "data": {
      "text/plain": "array([[  1],\n       [  2],\n       [  3],\n       [  4],\n       [  5],\n       [  6],\n       [  7],\n       [  8],\n       [  9],\n       [ 10],\n       [ 11],\n       [ 12],\n       [ 13],\n       [ 14],\n       [ 15],\n       [ 16],\n       [ 17],\n       [ 18],\n       [ 19],\n       [ 20],\n       [ 21],\n       [ 22],\n       [ 23],\n       [ 24],\n       [ 25],\n       [ 26],\n       [ 27],\n       [ 28],\n       [ 29],\n       [ 30],\n       [ 31],\n       [ 32],\n       [ 33],\n       [ 34],\n       [ 35],\n       [ 36],\n       [ 37],\n       [ 38],\n       [ 39],\n       [ 40],\n       [ 41],\n       [ 42],\n       [ 43],\n       [ 44],\n       [ 45],\n       [ 46],\n       [ 47],\n       [ 48],\n       [ 49],\n       [ 50],\n       [ 51],\n       [ 52],\n       [ 53],\n       [ 54],\n       [ 55],\n       [ 56],\n       [ 57],\n       [ 58],\n       [ 59],\n       [ 60],\n       [ 61],\n       [ 62],\n       [ 63],\n       [ 64],\n       [ 65],\n       [ 66],\n       [ 67],\n       [ 68],\n       [ 69],\n       [ 70],\n       [ 71],\n       [ 72],\n       [ 73],\n       [ 74],\n       [ 75],\n       [ 76],\n       [ 77],\n       [ 78],\n       [ 79],\n       [ 80],\n       [ 81],\n       [ 82],\n       [ 83],\n       [ 84],\n       [ 85],\n       [ 86],\n       [ 87],\n       [ 88],\n       [ 89],\n       [ 90],\n       [ 91],\n       [ 92],\n       [ 93],\n       [ 94],\n       [ 95],\n       [ 96],\n       [ 97],\n       [ 98],\n       [ 99],\n       [100],\n       [101],\n       [102],\n       [103],\n       [104],\n       [105],\n       [106],\n       [107],\n       [108],\n       [109],\n       [110],\n       [111],\n       [112],\n       [113],\n       [114],\n       [115],\n       [116],\n       [117],\n       [118],\n       [119],\n       [120],\n       [121],\n       [122],\n       [123],\n       [124],\n       [125],\n       [126],\n       [127],\n       [128],\n       [129],\n       [130],\n       [131],\n       [132],\n       [133],\n       [134],\n       [135],\n       [136],\n       [137],\n       [138],\n       [139],\n       [140],\n       [141],\n       [142],\n       [143],\n       [144],\n       [145],\n       [146],\n       [147],\n       [148],\n       [149],\n       [150],\n       [151],\n       [152],\n       [153],\n       [154],\n       [155],\n       [156],\n       [157],\n       [158],\n       [159],\n       [160],\n       [161],\n       [162],\n       [163],\n       [164],\n       [165],\n       [166],\n       [167],\n       [168],\n       [169],\n       [170],\n       [171],\n       [172],\n       [173],\n       [174],\n       [175],\n       [176],\n       [177],\n       [178],\n       [179],\n       [180],\n       [181],\n       [182],\n       [183],\n       [184],\n       [185],\n       [186],\n       [187],\n       [188],\n       [189],\n       [190],\n       [191],\n       [192],\n       [193],\n       [194],\n       [195],\n       [196],\n       [197],\n       [198],\n       [199],\n       [200],\n       [201],\n       [202],\n       [203],\n       [204],\n       [205],\n       [206],\n       [207],\n       [208],\n       [209],\n       [210],\n       [211],\n       [212],\n       [213],\n       [214],\n       [215],\n       [216],\n       [217],\n       [218],\n       [219],\n       [220],\n       [221],\n       [222],\n       [223],\n       [224],\n       [225],\n       [226],\n       [227],\n       [228],\n       [229],\n       [230],\n       [231],\n       [232],\n       [233],\n       [234],\n       [235],\n       [236],\n       [237],\n       [238],\n       [239],\n       [240],\n       [241],\n       [242],\n       [243],\n       [244],\n       [245],\n       [246],\n       [247],\n       [248],\n       [249],\n       [250],\n       [251],\n       [252],\n       [253],\n       [254],\n       [255],\n       [256],\n       [257],\n       [258],\n       [259],\n       [260],\n       [261],\n       [262],\n       [263],\n       [264],\n       [265],\n       [266],\n       [267],\n       [268],\n       [269],\n       [270],\n       [271],\n       [272],\n       [273],\n       [274],\n       [275],\n       [276],\n       [277],\n       [278],\n       [279],\n       [280],\n       [281],\n       [282],\n       [283],\n       [284],\n       [285],\n       [286],\n       [287],\n       [288],\n       [289],\n       [290],\n       [291],\n       [292],\n       [293],\n       [294],\n       [295],\n       [296],\n       [297],\n       [298],\n       [299],\n       [300],\n       [301],\n       [302],\n       [303],\n       [304],\n       [305],\n       [306],\n       [307],\n       [308],\n       [309],\n       [310],\n       [311],\n       [312],\n       [313],\n       [314],\n       [315],\n       [316],\n       [317],\n       [318],\n       [319],\n       [320],\n       [321],\n       [322],\n       [323],\n       [324],\n       [325],\n       [326],\n       [327],\n       [328],\n       [329],\n       [330],\n       [331],\n       [332],\n       [333],\n       [334],\n       [335],\n       [336],\n       [337],\n       [338],\n       [339],\n       [340],\n       [341],\n       [342],\n       [343],\n       [344],\n       [345],\n       [346],\n       [347],\n       [348],\n       [349],\n       [350],\n       [351],\n       [352],\n       [353],\n       [354],\n       [355],\n       [356],\n       [357],\n       [358],\n       [359],\n       [360],\n       [361],\n       [362],\n       [363],\n       [364],\n       [365],\n       [366],\n       [367],\n       [368],\n       [369],\n       [370],\n       [371],\n       [372],\n       [373],\n       [374],\n       [375],\n       [376],\n       [377],\n       [378],\n       [379],\n       [380],\n       [381],\n       [382],\n       [383],\n       [384],\n       [385],\n       [386],\n       [387],\n       [388],\n       [389],\n       [390],\n       [391],\n       [392],\n       [393],\n       [394],\n       [395],\n       [396],\n       [397],\n       [398],\n       [399],\n       [400],\n       [401],\n       [402],\n       [403],\n       [404],\n       [405],\n       [406],\n       [407],\n       [408],\n       [409],\n       [410],\n       [411],\n       [412],\n       [413],\n       [414],\n       [415],\n       [416],\n       [417],\n       [418],\n       [419],\n       [420],\n       [421],\n       [422],\n       [423],\n       [424],\n       [425],\n       [426],\n       [427],\n       [428],\n       [429],\n       [430],\n       [431],\n       [432],\n       [433],\n       [434],\n       [435],\n       [436],\n       [437],\n       [438],\n       [439],\n       [440],\n       [441],\n       [442],\n       [443],\n       [444],\n       [445],\n       [446],\n       [447],\n       [448],\n       [449],\n       [450],\n       [451],\n       [452],\n       [453],\n       [454],\n       [455],\n       [456],\n       [457],\n       [458],\n       [459],\n       [460],\n       [461],\n       [462],\n       [463],\n       [464],\n       [465],\n       [466],\n       [467],\n       [468],\n       [469],\n       [470],\n       [471],\n       [472],\n       [473],\n       [474],\n       [475],\n       [476],\n       [477],\n       [478],\n       [479],\n       [480],\n       [481],\n       [482],\n       [483],\n       [484],\n       [485],\n       [486],\n       [487],\n       [488],\n       [489],\n       [490],\n       [491],\n       [492],\n       [493],\n       [494],\n       [495],\n       [496],\n       [497],\n       [498],\n       [499],\n       [500],\n       [501],\n       [502],\n       [503],\n       [504],\n       [505],\n       [506],\n       [507],\n       [508],\n       [509],\n       [510],\n       [511],\n       [512],\n       [513],\n       [514],\n       [515],\n       [516],\n       [517],\n       [518],\n       [519],\n       [520],\n       [521],\n       [522],\n       [523],\n       [524],\n       [525],\n       [526],\n       [527],\n       [528],\n       [529],\n       [530],\n       [531],\n       [532],\n       [533],\n       [534],\n       [535],\n       [536],\n       [537],\n       [538],\n       [539],\n       [540],\n       [541],\n       [542],\n       [543],\n       [544],\n       [545],\n       [546],\n       [547],\n       [548],\n       [549],\n       [550],\n       [551],\n       [552],\n       [553],\n       [554],\n       [555],\n       [556],\n       [557],\n       [558],\n       [559],\n       [560],\n       [561],\n       [562],\n       [563],\n       [564],\n       [565],\n       [566],\n       [567],\n       [568],\n       [569],\n       [570],\n       [571],\n       [572],\n       [573],\n       [574],\n       [575],\n       [576],\n       [577],\n       [578],\n       [579],\n       [580],\n       [581],\n       [582],\n       [583],\n       [584],\n       [585],\n       [586],\n       [587],\n       [588],\n       [589],\n       [590],\n       [591],\n       [592],\n       [593],\n       [594],\n       [595],\n       [596],\n       [597],\n       [598],\n       [599],\n       [600],\n       [601],\n       [602],\n       [603],\n       [604],\n       [605],\n       [606],\n       [607],\n       [608],\n       [609],\n       [610],\n       [611],\n       [612],\n       [613],\n       [614],\n       [615],\n       [616],\n       [617],\n       [618],\n       [619],\n       [620],\n       [621],\n       [622],\n       [623],\n       [624],\n       [625],\n       [626],\n       [627],\n       [628],\n       [629],\n       [630],\n       [631],\n       [632],\n       [633],\n       [634],\n       [635],\n       [636],\n       [637],\n       [638],\n       [639],\n       [640],\n       [641],\n       [642],\n       [643],\n       [644],\n       [645],\n       [646],\n       [647],\n       [648],\n       [649],\n       [650],\n       [651],\n       [652],\n       [653],\n       [654],\n       [655],\n       [656],\n       [657],\n       [658],\n       [659],\n       [660],\n       [661],\n       [662],\n       [663],\n       [664],\n       [665],\n       [666],\n       [667],\n       [668],\n       [669],\n       [670],\n       [671],\n       [672],\n       [673],\n       [674],\n       [675],\n       [676],\n       [677],\n       [678],\n       [679],\n       [680],\n       [681],\n       [682],\n       [683],\n       [684],\n       [685],\n       [686],\n       [687],\n       [688],\n       [689],\n       [690],\n       [691],\n       [692],\n       [693],\n       [694],\n       [695],\n       [696],\n       [697],\n       [698],\n       [699],\n       [700],\n       [701],\n       [702],\n       [703],\n       [704],\n       [705],\n       [706],\n       [707],\n       [708],\n       [709],\n       [710],\n       [711],\n       [712],\n       [713],\n       [714],\n       [715],\n       [716],\n       [717],\n       [718],\n       [719],\n       [720],\n       [721],\n       [722],\n       [723],\n       [724],\n       [725],\n       [726],\n       [727],\n       [728],\n       [729],\n       [730],\n       [731],\n       [732],\n       [733],\n       [734],\n       [735],\n       [736],\n       [737],\n       [738],\n       [739],\n       [740],\n       [741],\n       [742],\n       [743],\n       [744],\n       [745],\n       [746],\n       [747],\n       [748],\n       [749],\n       [750],\n       [751],\n       [752],\n       [753],\n       [754],\n       [755],\n       [756],\n       [757],\n       [758],\n       [759],\n       [760],\n       [761],\n       [762],\n       [763],\n       [764],\n       [765],\n       [766],\n       [767],\n       [768],\n       [769],\n       [770],\n       [771],\n       [772],\n       [773],\n       [774],\n       [775],\n       [776],\n       [777],\n       [778],\n       [779],\n       [780],\n       [781],\n       [782],\n       [783],\n       [784],\n       [785],\n       [786],\n       [787],\n       [788],\n       [789],\n       [790],\n       [791],\n       [792],\n       [793],\n       [794],\n       [795],\n       [796],\n       [797],\n       [798],\n       [799],\n       [800],\n       [801],\n       [802],\n       [803],\n       [804],\n       [805],\n       [806],\n       [807],\n       [808],\n       [809],\n       [810],\n       [811],\n       [812],\n       [813],\n       [814],\n       [815],\n       [816],\n       [817],\n       [818],\n       [819],\n       [820],\n       [821],\n       [822],\n       [823],\n       [824],\n       [825],\n       [826],\n       [827],\n       [828],\n       [829],\n       [830],\n       [831],\n       [832],\n       [833],\n       [834],\n       [835],\n       [836],\n       [837],\n       [838],\n       [839],\n       [840],\n       [841],\n       [842],\n       [843],\n       [844],\n       [845],\n       [846],\n       [847],\n       [848],\n       [849],\n       [850],\n       [851],\n       [852],\n       [853],\n       [854],\n       [855],\n       [856],\n       [857],\n       [858],\n       [859],\n       [860],\n       [861],\n       [862],\n       [863],\n       [864],\n       [865],\n       [866],\n       [867],\n       [868],\n       [869],\n       [870],\n       [871],\n       [872],\n       [873],\n       [874],\n       [875],\n       [876],\n       [877],\n       [878],\n       [879],\n       [880],\n       [881],\n       [882],\n       [883],\n       [884],\n       [885],\n       [886],\n       [887],\n       [888],\n       [889],\n       [890],\n       [891],\n       [892],\n       [893],\n       [894],\n       [895],\n       [896],\n       [897],\n       [898],\n       [899],\n       [900],\n       [901],\n       [902],\n       [903],\n       [904],\n       [905],\n       [906],\n       [907],\n       [908],\n       [909],\n       [910],\n       [911],\n       [912],\n       [913],\n       [914],\n       [915],\n       [916],\n       [917],\n       [918],\n       [919],\n       [920],\n       [921],\n       [922],\n       [923],\n       [924],\n       [925],\n       [926],\n       [927],\n       [928],\n       [929],\n       [930],\n       [931],\n       [932],\n       [933],\n       [934],\n       [935],\n       [936],\n       [937],\n       [938],\n       [939],\n       [940],\n       [941],\n       [942],\n       [943],\n       [944],\n       [945],\n       [946],\n       [947],\n       [948],\n       [949],\n       [950],\n       [951],\n       [952],\n       [953],\n       [954],\n       [955],\n       [956],\n       [957],\n       [958],\n       [959],\n       [960],\n       [961],\n       [962],\n       [963],\n       [964],\n       [965],\n       [966],\n       [967],\n       [968],\n       [969],\n       [970],\n       [971],\n       [972],\n       [973],\n       [974],\n       [975],\n       [976],\n       [977],\n       [978],\n       [979],\n       [980],\n       [981],\n       [982],\n       [983],\n       [984],\n       [985],\n       [986],\n       [987],\n       [988],\n       [989],\n       [990],\n       [991],\n       [992],\n       [993],\n       [994],\n       [995],\n       [996],\n       [997],\n       [998],\n       [999]])"
     },
     "metadata": {}
    }
   ]
  },
  {
   "cell_type": "code",
   "metadata": {
    "cell_id": "98896c15-a0ea-452f-ab16-0aa55199c9e5",
    "tags": [],
    "deepnote_to_be_reexecuted": false,
    "source_hash": "9bc28a8e",
    "execution_start": 1646832282312,
    "execution_millis": 4,
    "deepnote_cell_type": "code",
    "deepnote_cell_height": 334.1875,
    "deepnote_output_heights": [
     null,
     40.390625
    ]
   },
   "source": "x = df_cars[['highway-mpg']]\ny = df_cars['price']\n\nlm = LinearRegression()\nlm.fit(x, y)\n\ny_hat_new_data = lm.predict(new_input)\ny_hat_new_data[:5]",
   "execution_count": null,
   "outputs": [
    {
     "name": "stderr",
     "text": "/shared-libs/python3.7/py/lib/python3.7/site-packages/sklearn/base.py:451: UserWarning: X does not have valid feature names, but LinearRegression was fitted with feature names\n  \"X does not have valid feature names, but\"\n",
     "output_type": "stream"
    },
    {
     "output_type": "execute_result",
     "execution_count": 56,
     "data": {
      "text/plain": "array([37601.57247984, 36779.83910151, 35958.10572319, 35136.37234487,\n       34314.63896655])"
     },
     "metadata": {}
    }
   ]
  },
  {
   "cell_type": "code",
   "metadata": {
    "cell_id": "c32a464a-f95d-4ab1-8282-47a9aa38df88",
    "tags": [],
    "deepnote_to_be_reexecuted": false,
    "source_hash": "918cfd53",
    "execution_start": 1646832266933,
    "execution_millis": 6,
    "deepnote_cell_type": "code",
    "deepnote_cell_height": 132
   },
   "source": "print('new_data_predicte:', y_hat_new_data[:5])",
   "execution_count": null,
   "outputs": [
    {
     "name": "stdout",
     "text": "new_data_predicte: [37601.57247984 36779.83910151 35958.10572319 35136.37234487\n 34314.63896655]\n",
     "output_type": "stream"
    }
   ]
  },
  {
   "cell_type": "code",
   "metadata": {
    "cell_id": "4d35db83-588e-4f2e-a510-c29edc0b2e2c",
    "tags": [],
    "deepnote_to_be_reexecuted": false,
    "source_hash": "867281ba",
    "execution_start": 1646832453590,
    "execution_millis": 208,
    "deepnote_cell_type": "code",
    "deepnote_cell_height": 383,
    "deepnote_output_heights": [
     250
    ]
   },
   "source": "# plot the new data\nplt.plot(new_input, y_hat_new_data)\nplt.show()",
   "execution_count": null,
   "outputs": [
    {
     "data": {
      "text/plain": "<Figure size 432x288 with 1 Axes>",
      "image/png": "[encoded data removed]"
     },
     "metadata": {
      "needs_background": "light",
      "image/png": {
       "width": 402,
       "height": 248
      }
     },
     "output_type": "display_data"
    }
   ]
  },
  {
   "cell_type": "markdown",
   "source": "# Decision Making: Determining a Good Model Fit",
   "metadata": {
    "cell_id": "72f8adf6-4504-4326-97b0-0d779990a2dd",
    "tags": [],
    "deepnote_cell_type": "markdown",
    "deepnote_cell_height": 82
   }
  },
  {
   "cell_type": "markdown",
   "source": "<p>Now that we have visualized the different models, and generated the R-squared and MSE values for the fits, how do we determine a good model fit?\n<ul>\n    <li><i>What is a good R-squared value?</i></li>\n</ul>\n</p>\n\n<p>When comparing models, <b>the model with the higher R-squared value is a better fit</b> for the data.\n<ul>\n    <li><i>What is a good MSE?</i></li>\n</ul>\n</p>\n\n<p>When comparing models, <b>the model with the smallest MSE value is a better fit</b> for the data.</p>\n<br>\n<h4>Let's take a look at the values for the different models.</h4>\n<p>Simple Linear Regression: Using Highway-mpg as a Predictor Variable of Price.\n<ul>\n    <li>R-squared: 0.49659118843391759</li>\n    <li>MSE: 3.16 x10^7</li>\n</ul>\n</p>\n\n<p>Multiple Linear Regression: Using Horsepower, Curb-weight, Engine-size, and Highway-mpg as Predictor Variables of Price.\n<ul>\n    <li>R-squared: 0.80896354913783497</li>\n    <li>MSE: 1.2 x10^7</li>\n</ul>\n</p>\n\n<p>Polynomial Fit: Using Highway-mpg as a Predictor Variable of Price.\n<ul>\n    <li>R-squared: 0.6741946663906514</li>\n    <li>MSE: 2.05 x 10^7</li>\n</ul>\n</p>\n",
   "metadata": {
    "cell_id": "3bc6897d-ae8a-4770-b6f9-b56e69d20375",
    "tags": [],
    "deepnote_cell_type": "markdown",
    "deepnote_cell_height": 1269
   }
  },
  {
   "cell_type": "markdown",
   "source": "# Conclusion",
   "metadata": {
    "cell_id": "53c0e5cd-4ed4-4001-9bb0-847adca1dcb2",
    "tags": [],
    "deepnote_cell_type": "markdown",
    "deepnote_cell_height": 82
   }
  },
  {
   "cell_type": "markdown",
   "source": "<p>Comparing these three models, we conclude that <b>the MLR model is the best model</b> to be able to predict price from our dataset. This result makes sense that more than one of those variables are potential predictors of the final car price.</p>\n",
   "metadata": {
    "cell_id": "fd7955c1-b1cb-41ea-be91-5338a7cca18b",
    "tags": [],
    "deepnote_cell_type": "markdown",
    "deepnote_cell_height": 74.796875
   }
  },
  {
   "cell_type": "markdown",
   "source": "<a style='text-decoration:none;line-height:16px;display:flex;color:#5B5B62;padding:10px;justify-content:end;' href='https://deepnote.com?utm_source=created-in-deepnote-cell&projectId=fabb4e41-fcd2-4421-bbfb-772986975631' target=\"_blank\">\n<img alt='Created in deepnote.com' style='display:inline;max-height:16px;margin:0px;margin-right:7.5px;' src='data:image/svg+xml;base64,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' > </img>\nCreated in <span style='font-weight:600;margin-left:4px;'>Deepnote</span></a>",
   "metadata": {
    "tags": [],
    "created_in_deepnote_cell": true,
    "deepnote_cell_type": "markdown"
   }
  }
 ],
 "nbformat": 4,
 "nbformat_minor": 2,
 "metadata": {
  "orig_nbformat": 2,
  "deepnote": {
   "is_reactive": false
  },
  "deepnote_notebook_id": "932b6e9b-c148-42b0-aed3-a9abec9c5da5",
  "deepnote_execution_queue": []
 }
}