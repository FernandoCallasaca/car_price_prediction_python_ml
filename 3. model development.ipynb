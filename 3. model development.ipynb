{
 "cells": [
  {
   "cell_type": "markdown",
   "source": "# Prepare out enviroments",
   "metadata": {
    "cell_id": "a5243322-804b-4ecd-a743-9bd9ca07700f",
    "tags": [],
    "deepnote_cell_type": "markdown"
   }
  },
  {
   "cell_type": "markdown",
   "source": "## For Manipulation",
   "metadata": {
    "cell_id": "6ad27e7d-74ce-4691-b304-3c25c3aaa998",
    "tags": [],
    "deepnote_cell_type": "markdown"
   }
  },
  {
   "cell_type": "code",
   "metadata": {
    "tags": [],
    "cell_id": "d9addc17-aadd-4c41-bf29-d3afbaddcb16",
    "deepnote_to_be_reexecuted": false,
    "source_hash": "77276ce0",
    "execution_start": 1646236349844,
    "execution_millis": 6,
    "deepnote_cell_type": "code"
   },
   "source": "import pandas as pd\nimport numpy as np\nimport seaborn as sns\nfrom scipy import stats\nimport matplotlib.pyplot as plt\n%matplotlib inline\npd.__version__",
   "execution_count": 2,
   "outputs": [
    {
     "output_type": "execute_result",
     "execution_count": 2,
     "data": {
      "text/plain": "'1.2.5'"
     },
     "metadata": {}
    }
   ]
  },
  {
   "cell_type": "markdown",
   "source": "## For Model",
   "metadata": {
    "cell_id": "05281f77-2583-4954-beb6-13ce962bee58",
    "tags": [],
    "deepnote_cell_type": "markdown"
   }
  },
  {
   "cell_type": "code",
   "source": "",
   "metadata": {
    "cell_id": "a9d9bbcf-1b30-476a-af74-e34d69482865",
    "tags": [],
    "deepnote_cell_type": "code"
   },
   "outputs": [],
   "execution_count": null
  },
  {
   "cell_type": "markdown",
   "source": "# Read our csv file",
   "metadata": {
    "cell_id": "5ecd91a6-d5d5-422d-9f3a-98689200fe99",
    "tags": [],
    "deepnote_cell_type": "markdown"
   }
  },
  {
   "cell_type": "code",
   "source": "path_file = 'clean_data_car.csv'\npath_file",
   "metadata": {
    "cell_id": "6a43982d-93d5-4329-8d29-945328112894",
    "tags": [],
    "deepnote_to_be_reexecuted": false,
    "source_hash": "7df9a638",
    "execution_start": 1646236485165,
    "execution_millis": 5,
    "deepnote_cell_type": "code"
   },
   "outputs": [
    {
     "output_type": "execute_result",
     "execution_count": 3,
     "data": {
      "text/plain": "'clean_data_car.csv'"
     },
     "metadata": {}
    }
   ],
   "execution_count": 3
  },
  {
   "cell_type": "code",
   "source": "df_cars = pd.read_csv(path_file)\ndf_cars",
   "metadata": {
    "cell_id": "ed86039a-14dd-442d-a139-944f01d85c54",
    "tags": [],
    "deepnote_to_be_reexecuted": false,
    "source_hash": "3ba05530",
    "execution_start": 1646236510008,
    "execution_millis": 125,
    "deepnote_cell_type": "code"
   },
   "outputs": [
    {
     "output_type": "execute_result",
     "execution_count": 4,
     "data": {
      "application/vnd.deepnote.dataframe.v3+json": {
       "column_count": 28,
       "row_count": 201,
       "columns": [
        {
         "name": "symboling",
         "dtype": "int64",
         "stats": {
          "unique_count": 6,
          "nan_count": 0,
          "min": "-2",
          "max": "3",
          "histogram": [
           {
            "bin_start": -2,
            "bin_end": -1.5,
            "count": 3
           },
           {
            "bin_start": -1.5,
            "bin_end": -1,
            "count": 0
           },
           {
            "bin_start": -1,
            "bin_end": -0.5,
            "count": 22
           },
           {
            "bin_start": -0.5,
            "bin_end": 0,
            "count": 0
           },
           {
            "bin_start": 0,
            "bin_end": 0.5,
            "count": 65
           },
           {
            "bin_start": 0.5,
            "bin_end": 1,
            "count": 0
           },
           {
            "bin_start": 1,
            "bin_end": 1.5,
            "count": 52
           },
           {
            "bin_start": 1.5,
            "bin_end": 2,
            "count": 0
           },
           {
            "bin_start": 2,
            "bin_end": 2.5,
            "count": 32
           },
           {
            "bin_start": 2.5,
            "bin_end": 3,
            "count": 27
           }
          ]
         }
        },
        {
         "name": "normalized-losses",
         "dtype": "int64",
         "stats": {
          "unique_count": 51,
          "nan_count": 0,
          "min": "65",
          "max": "256",
          "histogram": [
           {
            "bin_start": 65,
            "bin_end": 84.1,
            "count": 17
           },
           {
            "bin_start": 84.1,
            "bin_end": 103.2,
            "count": 46
           },
           {
            "bin_start": 103.2,
            "bin_end": 122.30000000000001,
            "count": 68
           },
           {
            "bin_start": 122.30000000000001,
            "bin_end": 141.4,
            "count": 20
           },
           {
            "bin_start": 141.4,
            "bin_end": 160.5,
            "count": 21
           },
           {
            "bin_start": 160.5,
            "bin_end": 179.60000000000002,
            "count": 18
           },
           {
            "bin_start": 179.60000000000002,
            "bin_end": 198.70000000000002,
            "count": 9
           },
           {
            "bin_start": 198.70000000000002,
            "bin_end": 217.8,
            "count": 0
           },
           {
            "bin_start": 217.8,
            "bin_end": 236.9,
            "count": 1
           },
           {
            "bin_start": 236.9,
            "bin_end": 256,
            "count": 1
           }
          ]
         }
        },
        {
         "name": "make",
         "dtype": "object",
         "stats": {
          "unique_count": 22,
          "nan_count": 0,
          "categories": [
           {
            "name": "toyota",
            "count": 32
           },
           {
            "name": "nissan",
            "count": 18
           },
           {
            "name": "20 others",
            "count": 151
           }
          ]
         }
        },
        {
         "name": "aspiration",
         "dtype": "object",
         "stats": {
          "unique_count": 2,
          "nan_count": 0,
          "categories": [
           {
            "name": "std",
            "count": 165
           },
           {
            "name": "turbo",
            "count": 36
           }
          ]
         }
        },
        {
         "name": "num-of-doors",
         "dtype": "object",
         "stats": {
          "unique_count": 2,
          "nan_count": 0,
          "categories": [
           {
            "name": "four",
            "count": 115
           },
           {
            "name": "two",
            "count": 86
           }
          ]
         }
        },
        {
         "name": "body-style",
         "dtype": "object",
         "stats": {
          "unique_count": 5,
          "nan_count": 0,
          "categories": [
           {
            "name": "sedan",
            "count": 94
           },
           {
            "name": "hatchback",
            "count": 68
           },
           {
            "name": "3 others",
            "count": 39
           }
          ]
         }
        },
        {
         "name": "drive-wheels",
         "dtype": "object",
         "stats": {
          "unique_count": 3,
          "nan_count": 0,
          "categories": [
           {
            "name": "fwd",
            "count": 118
           },
           {
            "name": "rwd",
            "count": 75
           },
           {
            "name": "4wd",
            "count": 8
           }
          ]
         }
        },
        {
         "name": "engine-location",
         "dtype": "object",
         "stats": {
          "unique_count": 2,
          "nan_count": 0,
          "categories": [
           {
            "name": "front",
            "count": 198
           },
           {
            "name": "rear",
            "count": 3
           }
          ]
         }
        },
        {
         "name": "wheel-base",
         "dtype": "float64",
         "stats": {
          "unique_count": 52,
          "nan_count": 0,
          "min": "86.6",
          "max": "120.9",
          "histogram": [
           {
            "bin_start": 86.6,
            "bin_end": 90.03,
            "count": 8
           },
           {
            "bin_start": 90.03,
            "bin_end": 93.46,
            "count": 9
           },
           {
            "bin_start": 93.46,
            "bin_end": 96.89,
            "count": 81
           },
           {
            "bin_start": 96.89,
            "bin_end": 100.32,
            "count": 40
           },
           {
            "bin_start": 100.32,
            "bin_end": 103.75,
            "count": 24
           },
           {
            "bin_start": 103.75,
            "bin_end": 107.18,
            "count": 14
           },
           {
            "bin_start": 107.18,
            "bin_end": 110.61,
            "count": 15
           },
           {
            "bin_start": 110.61,
            "bin_end": 114.04,
            "count": 3
           },
           {
            "bin_start": 114.04,
            "bin_end": 117.47,
            "count": 6
           },
           {
            "bin_start": 117.47,
            "bin_end": 120.9,
            "count": 1
           }
          ]
         }
        },
        {
         "name": "length",
         "dtype": "float64",
         "stats": {
          "unique_count": 73,
          "nan_count": 0,
          "min": "0.6780394041326285",
          "max": "1.0",
          "histogram": [
           {
            "bin_start": 0.6780394041326285,
            "bin_end": 0.7102354637193656,
            "count": 3
           },
           {
            "bin_start": 0.7102354637193656,
            "bin_end": 0.7424315233061028,
            "count": 3
           },
           {
            "bin_start": 0.7424315233061028,
            "bin_end": 0.77462758289284,
            "count": 27
           },
           {
            "bin_start": 0.77462758289284,
            "bin_end": 0.8068236424795772,
            "count": 23
           },
           {
            "bin_start": 0.8068236424795772,
            "bin_end": 0.8390197020663143,
            "count": 54
           },
           {
            "bin_start": 0.8390197020663143,
            "bin_end": 0.8712157616530514,
            "count": 37
           },
           {
            "bin_start": 0.8712157616530514,
            "bin_end": 0.9034118212397886,
            "count": 23
           },
           {
            "bin_start": 0.9034118212397886,
            "bin_end": 0.9356078808265257,
            "count": 20
           },
           {
            "bin_start": 0.9356078808265257,
            "bin_end": 0.9678039404132628,
            "count": 8
           },
           {
            "bin_start": 0.9678039404132628,
            "bin_end": 1,
            "count": 3
           }
          ]
         }
        },
        {
         "name": "width",
         "dtype": "float64",
         "stats": {
          "unique_count": 43,
          "nan_count": 0,
          "min": "0.8374999999999999",
          "max": "1.0",
          "histogram": [
           {
            "bin_start": 0.8374999999999999,
            "bin_end": 0.8537499999999999,
            "count": 1
           },
           {
            "bin_start": 0.8537499999999999,
            "bin_end": 0.8699999999999999,
            "count": 2
           },
           {
            "bin_start": 0.8699999999999999,
            "bin_end": 0.88625,
            "count": 34
           },
           {
            "bin_start": 0.88625,
            "bin_end": 0.9025,
            "count": 36
           },
           {
            "bin_start": 0.9025,
            "bin_end": 0.91875,
            "count": 46
           },
           {
            "bin_start": 0.91875,
            "bin_end": 0.9349999999999999,
            "count": 43
           },
           {
            "bin_start": 0.9349999999999999,
            "bin_end": 0.9512499999999999,
            "count": 19
           },
           {
            "bin_start": 0.9512499999999999,
            "bin_end": 0.9675,
            "count": 7
           },
           {
            "bin_start": 0.9675,
            "bin_end": 0.98375,
            "count": 5
           },
           {
            "bin_start": 0.98375,
            "bin_end": 1,
            "count": 8
           }
          ]
         }
        },
        {
         "name": "height",
         "dtype": "float64",
         "stats": {
          "unique_count": 49,
          "nan_count": 0,
          "min": "0.7993311036789298",
          "max": "1.0",
          "histogram": [
           {
            "bin_start": 0.7993311036789298,
            "bin_end": 0.8193979933110368,
            "count": 3
           },
           {
            "bin_start": 0.8193979933110368,
            "bin_end": 0.8394648829431438,
            "count": 9
           },
           {
            "bin_start": 0.8394648829431438,
            "bin_end": 0.8595317725752508,
            "count": 27
           },
           {
            "bin_start": 0.8595317725752508,
            "bin_end": 0.8795986622073578,
            "count": 22
           },
           {
            "bin_start": 0.8795986622073578,
            "bin_end": 0.899665551839465,
            "count": 33
           },
           {
            "bin_start": 0.899665551839465,
            "bin_end": 0.919732441471572,
            "count": 41
           },
           {
            "bin_start": 0.919732441471572,
            "bin_end": 0.939799331103679,
            "count": 38
           },
           {
            "bin_start": 0.939799331103679,
            "bin_end": 0.959866220735786,
            "count": 15
           },
           {
            "bin_start": 0.959866220735786,
            "bin_end": 0.979933110367893,
            "count": 4
           },
           {
            "bin_start": 0.979933110367893,
            "bin_end": 1,
            "count": 9
           }
          ]
         }
        },
        {
         "name": "curb-weight",
         "dtype": "int64",
         "stats": {
          "unique_count": 169,
          "nan_count": 0,
          "min": "1488",
          "max": "4066",
          "histogram": [
           {
            "bin_start": 1488,
            "bin_end": 1745.8,
            "count": 2
           },
           {
            "bin_start": 1745.8,
            "bin_end": 2003.6,
            "count": 27
           },
           {
            "bin_start": 2003.6,
            "bin_end": 2261.4,
            "count": 33
           },
           {
            "bin_start": 2261.4,
            "bin_end": 2519.2,
            "count": 50
           },
           {
            "bin_start": 2519.2,
            "bin_end": 2777,
            "count": 25
           },
           {
            "bin_start": 2777,
            "bin_end": 3034.8,
            "count": 23
           },
           {
            "bin_start": 3034.8,
            "bin_end": 3292.6000000000004,
            "count": 25
           },
           {
            "bin_start": 3292.6000000000004,
            "bin_end": 3550.4,
            "count": 7
           },
           {
            "bin_start": 3550.4,
            "bin_end": 3808.2000000000003,
            "count": 5
           },
           {
            "bin_start": 3808.2000000000003,
            "bin_end": 4066,
            "count": 4
           }
          ]
         }
        },
        {
         "name": "engine-type",
         "dtype": "object",
         "stats": {
          "unique_count": 6,
          "nan_count": 0,
          "categories": [
           {
            "name": "ohc",
            "count": 145
           },
           {
            "name": "ohcf",
            "count": 15
           },
           {
            "name": "4 others",
            "count": 41
           }
          ]
         }
        },
        {
         "name": "num-of-cylinders",
         "dtype": "object",
         "stats": {
          "unique_count": 7,
          "nan_count": 0,
          "categories": [
           {
            "name": "four",
            "count": 157
           },
           {
            "name": "six",
            "count": 24
           },
           {
            "name": "5 others",
            "count": 20
           }
          ]
         }
        },
        {
         "name": "engine-size",
         "dtype": "int64",
         "stats": {
          "unique_count": 43,
          "nan_count": 0,
          "min": "61",
          "max": "326",
          "histogram": [
           {
            "bin_start": 61,
            "bin_end": 87.5,
            "count": 6
           },
           {
            "bin_start": 87.5,
            "bin_end": 114,
            "count": 93
           },
           {
            "bin_start": 114,
            "bin_end": 140.5,
            "count": 45
           },
           {
            "bin_start": 140.5,
            "bin_end": 167,
            "count": 30
           },
           {
            "bin_start": 167,
            "bin_end": 193.5,
            "count": 14
           },
           {
            "bin_start": 193.5,
            "bin_end": 220,
            "count": 6
           },
           {
            "bin_start": 220,
            "bin_end": 246.5,
            "count": 2
           },
           {
            "bin_start": 246.5,
            "bin_end": 273,
            "count": 2
           },
           {
            "bin_start": 273,
            "bin_end": 299.5,
            "count": 0
           },
           {
            "bin_start": 299.5,
            "bin_end": 326,
            "count": 3
           }
          ]
         }
        },
        {
         "name": "fuel-system",
         "dtype": "object",
         "stats": {
          "unique_count": 8,
          "nan_count": 0,
          "categories": [
           {
            "name": "mpfi",
            "count": 92
           },
           {
            "name": "2bbl",
            "count": 64
           },
           {
            "name": "6 others",
            "count": 45
           }
          ]
         }
        },
        {
         "name": "bore",
         "dtype": "float64",
         "stats": {
          "unique_count": 39,
          "nan_count": 0,
          "min": "2.54",
          "max": "3.94",
          "histogram": [
           {
            "bin_start": 2.54,
            "bin_end": 2.68,
            "count": 1
           },
           {
            "bin_start": 2.68,
            "bin_end": 2.82,
            "count": 1
           },
           {
            "bin_start": 2.82,
            "bin_end": 2.96,
            "count": 8
           },
           {
            "bin_start": 2.96,
            "bin_end": 3.1,
            "count": 35
           },
           {
            "bin_start": 3.1,
            "bin_end": 3.24,
            "count": 39
           },
           {
            "bin_start": 3.24,
            "bin_end": 3.38,
            "count": 28
           },
           {
            "bin_start": 3.38,
            "bin_end": 3.52,
            "count": 27
           },
           {
            "bin_start": 3.52,
            "bin_end": 3.66,
            "count": 42
           },
           {
            "bin_start": 3.66,
            "bin_end": 3.8,
            "count": 17
           },
           {
            "bin_start": 3.8,
            "bin_end": 3.94,
            "count": 3
           }
          ]
         }
        },
        {
         "name": "stroke",
         "dtype": "float64",
         "stats": {
          "unique_count": 37,
          "nan_count": 0,
          "min": "2.07",
          "max": "4.17",
          "histogram": [
           {
            "bin_start": 2.07,
            "bin_end": 2.28,
            "count": 3
           },
           {
            "bin_start": 2.28,
            "bin_end": 2.4899999999999998,
            "count": 1
           },
           {
            "bin_start": 2.4899999999999998,
            "bin_end": 2.7,
            "count": 13
           },
           {
            "bin_start": 2.7,
            "bin_end": 2.91,
            "count": 7
           },
           {
            "bin_start": 2.91,
            "bin_end": 3.12,
            "count": 27
           },
           {
            "bin_start": 3.12,
            "bin_end": 3.33,
            "count": 56
           },
           {
            "bin_start": 3.33,
            "bin_end": 3.54,
            "count": 70
           },
           {
            "bin_start": 3.54,
            "bin_end": 3.75,
            "count": 15
           },
           {
            "bin_start": 3.75,
            "bin_end": 3.96,
            "count": 7
           },
           {
            "bin_start": 3.96,
            "bin_end": 4.17,
            "count": 2
           }
          ]
         }
        },
        {
         "name": "compression-ratio",
         "dtype": "float64",
         "stats": {
          "unique_count": 32,
          "nan_count": 0,
          "min": "7.0",
          "max": "23.0",
          "histogram": [
           {
            "bin_start": 7,
            "bin_end": 8.6,
            "count": 50
           },
           {
            "bin_start": 8.6,
            "bin_end": 10.2,
            "count": 130
           },
           {
            "bin_start": 10.2,
            "bin_end": 11.8,
            "count": 1
           },
           {
            "bin_start": 11.8,
            "bin_end": 13.4,
            "count": 0
           },
           {
            "bin_start": 13.4,
            "bin_end": 15,
            "count": 0
           },
           {
            "bin_start": 15,
            "bin_end": 16.6,
            "count": 0
           },
           {
            "bin_start": 16.6,
            "bin_end": 18.200000000000003,
            "count": 0
           },
           {
            "bin_start": 18.200000000000003,
            "bin_end": 19.8,
            "count": 0
           },
           {
            "bin_start": 19.8,
            "bin_end": 21.4,
            "count": 5
           },
           {
            "bin_start": 21.4,
            "bin_end": 23,
            "count": 15
           }
          ]
         }
        },
        {
         "name": "horsepower",
         "dtype": "int64",
         "stats": {
          "unique_count": 59,
          "nan_count": 0,
          "min": "48",
          "max": "262",
          "histogram": [
           {
            "bin_start": 48,
            "bin_end": 69.4,
            "count": 44
           },
           {
            "bin_start": 69.4,
            "bin_end": 90.8,
            "count": 45
           },
           {
            "bin_start": 90.8,
            "bin_end": 112.19999999999999,
            "count": 48
           },
           {
            "bin_start": 112.19999999999999,
            "bin_end": 133.6,
            "count": 24
           },
           {
            "bin_start": 133.6,
            "bin_end": 155,
            "count": 14
           },
           {
            "bin_start": 155,
            "bin_end": 176.39999999999998,
            "count": 16
           },
           {
            "bin_start": 176.39999999999998,
            "bin_end": 197.79999999999998,
            "count": 5
           },
           {
            "bin_start": 197.79999999999998,
            "bin_end": 219.2,
            "count": 4
           },
           {
            "bin_start": 219.2,
            "bin_end": 240.6,
            "count": 0
           },
           {
            "bin_start": 240.6,
            "bin_end": 262,
            "count": 1
           }
          ]
         }
        },
        {
         "name": "peak-rpm",
         "dtype": "float64",
         "stats": {
          "unique_count": 23,
          "nan_count": 0,
          "min": "4150.0",
          "max": "6600.0",
          "histogram": [
           {
            "bin_start": 4150,
            "bin_end": 4395,
            "count": 17
           },
           {
            "bin_start": 4395,
            "bin_end": 4640,
            "count": 10
           },
           {
            "bin_start": 4640,
            "bin_end": 4885,
            "count": 41
           },
           {
            "bin_start": 4885,
            "bin_end": 5130,
            "count": 33
           },
           {
            "bin_start": 5130,
            "bin_end": 5375,
            "count": 31
           },
           {
            "bin_start": 5375,
            "bin_end": 5620,
            "count": 48
           },
           {
            "bin_start": 5620,
            "bin_end": 5865,
            "count": 7
           },
           {
            "bin_start": 5865,
            "bin_end": 6110,
            "count": 12
           },
           {
            "bin_start": 6110,
            "bin_end": 6355,
            "count": 0
           },
           {
            "bin_start": 6355,
            "bin_end": 6600,
            "count": 2
           }
          ]
         }
        },
        {
         "name": "city-l/100km",
         "dtype": "float64",
         "stats": {
          "unique_count": 29,
          "nan_count": 0,
          "min": "4.795918367346939",
          "max": "18.07692307692308",
          "histogram": [
           {
            "bin_start": 4.795918367346939,
            "bin_end": 6.124018838304553,
            "count": 3
           },
           {
            "bin_start": 6.124018838304553,
            "bin_end": 7.452119309262168,
            "count": 16
           },
           {
            "bin_start": 7.452119309262168,
            "bin_end": 8.780219780219781,
            "count": 60
           },
           {
            "bin_start": 8.780219780219781,
            "bin_end": 10.108320251177396,
            "count": 42
           },
           {
            "bin_start": 10.108320251177396,
            "bin_end": 11.43642072213501,
            "count": 24
           },
           {
            "bin_start": 11.43642072213501,
            "bin_end": 12.764521193092623,
            "count": 30
           },
           {
            "bin_start": 12.764521193092623,
            "bin_end": 14.092621664050238,
            "count": 15
           },
           {
            "bin_start": 14.092621664050238,
            "bin_end": 15.420722135007852,
            "count": 5
           },
           {
            "bin_start": 15.420722135007852,
            "bin_end": 16.748822605965465,
            "count": 3
           },
           {
            "bin_start": 16.748822605965465,
            "bin_end": 18.07692307692308,
            "count": 3
           }
          ]
         }
        },
        {
         "name": "highway-l/100km",
         "dtype": "float64",
         "stats": {
          "unique_count": 30,
          "nan_count": 0,
          "min": "4.351851851851852",
          "max": "14.6875",
          "histogram": [
           {
            "bin_start": 4.351851851851852,
            "bin_end": 5.385416666666667,
            "count": 7
           },
           {
            "bin_start": 5.385416666666667,
            "bin_end": 6.418981481481482,
            "count": 40
           },
           {
            "bin_start": 6.418981481481482,
            "bin_end": 7.452546296296297,
            "count": 41
           },
           {
            "bin_start": 7.452546296296297,
            "bin_end": 8.48611111111111,
            "count": 46
           },
           {
            "bin_start": 8.48611111111111,
            "bin_end": 9.519675925925927,
            "count": 27
           },
           {
            "bin_start": 9.519675925925927,
            "bin_end": 10.55324074074074,
            "count": 24
           },
           {
            "bin_start": 10.55324074074074,
            "bin_end": 11.586805555555557,
            "count": 7
           },
           {
            "bin_start": 11.586805555555557,
            "bin_end": 12.62037037037037,
            "count": 4
           },
           {
            "bin_start": 12.62037037037037,
            "bin_end": 13.653935185185187,
            "count": 2
           },
           {
            "bin_start": 13.653935185185187,
            "bin_end": 14.6875,
            "count": 3
           }
          ]
         }
        },
        {
         "name": "price",
         "dtype": "float64",
         "stats": {
          "unique_count": 186,
          "nan_count": 0,
          "min": "5118.0",
          "max": "45400.0",
          "histogram": [
           {
            "bin_start": 5118,
            "bin_end": 9146.2,
            "count": 81
           },
           {
            "bin_start": 9146.2,
            "bin_end": 13174.4,
            "count": 45
           },
           {
            "bin_start": 13174.4,
            "bin_end": 17202.6,
            "count": 35
           },
           {
            "bin_start": 17202.6,
            "bin_end": 21230.8,
            "count": 17
           },
           {
            "bin_start": 21230.8,
            "bin_end": 25259,
            "count": 6
           },
           {
            "bin_start": 25259,
            "bin_end": 29287.199999999997,
            "count": 3
           },
           {
            "bin_start": 29287.199999999997,
            "bin_end": 33315.399999999994,
            "count": 4
           },
           {
            "bin_start": 33315.399999999994,
            "bin_end": 37343.6,
            "count": 7
           },
           {
            "bin_start": 37343.6,
            "bin_end": 41371.799999999996,
            "count": 2
           },
           {
            "bin_start": 41371.799999999996,
            "bin_end": 45400,
            "count": 1
           }
          ]
         }
        },
        {
         "name": "horsepower_binned",
         "dtype": "object",
         "stats": {
          "unique_count": 3,
          "nan_count": 0,
          "categories": [
           {
            "name": "Low",
            "count": 153
           },
           {
            "name": "Medium",
            "count": 43
           },
           {
            "name": "High",
            "count": 5
           }
          ]
         }
        },
        {
         "name": "fuel_type_diesel",
         "dtype": "int64",
         "stats": {
          "unique_count": 2,
          "nan_count": 0,
          "min": "0",
          "max": "1",
          "histogram": [
           {
            "bin_start": 0,
            "bin_end": 0.1,
            "count": 181
           },
           {
            "bin_start": 0.1,
            "bin_end": 0.2,
            "count": 0
           },
           {
            "bin_start": 0.2,
            "bin_end": 0.30000000000000004,
            "count": 0
           },
           {
            "bin_start": 0.30000000000000004,
            "bin_end": 0.4,
            "count": 0
           },
           {
            "bin_start": 0.4,
            "bin_end": 0.5,
            "count": 0
           },
           {
            "bin_start": 0.5,
            "bin_end": 0.6000000000000001,
            "count": 0
           },
           {
            "bin_start": 0.6000000000000001,
            "bin_end": 0.7000000000000001,
            "count": 0
           },
           {
            "bin_start": 0.7000000000000001,
            "bin_end": 0.8,
            "count": 0
           },
           {
            "bin_start": 0.8,
            "bin_end": 0.9,
            "count": 0
           },
           {
            "bin_start": 0.9,
            "bin_end": 1,
            "count": 20
           }
          ]
         }
        },
        {
         "name": "fuel_type_gas",
         "dtype": "int64",
         "stats": {
          "unique_count": 2,
          "nan_count": 0,
          "min": "0",
          "max": "1",
          "histogram": [
           {
            "bin_start": 0,
            "bin_end": 0.1,
            "count": 20
           },
           {
            "bin_start": 0.1,
            "bin_end": 0.2,
            "count": 0
           },
           {
            "bin_start": 0.2,
            "bin_end": 0.30000000000000004,
            "count": 0
           },
           {
            "bin_start": 0.30000000000000004,
            "bin_end": 0.4,
            "count": 0
           },
           {
            "bin_start": 0.4,
            "bin_end": 0.5,
            "count": 0
           },
           {
            "bin_start": 0.5,
            "bin_end": 0.6000000000000001,
            "count": 0
           },
           {
            "bin_start": 0.6000000000000001,
            "bin_end": 0.7000000000000001,
            "count": 0
           },
           {
            "bin_start": 0.7000000000000001,
            "bin_end": 0.8,
            "count": 0
           },
           {
            "bin_start": 0.8,
            "bin_end": 0.9,
            "count": 0
           },
           {
            "bin_start": 0.9,
            "bin_end": 1,
            "count": 181
           }
          ]
         }
        },
        {
         "name": "_deepnote_index_column",
         "dtype": "int64"
        }
       ],
       "rows": [
        {
         "symboling": 3,
         "normalized-losses": 122,
         "make": "alfa-romero",
         "aspiration": "std",
         "num-of-doors": "two",
         "body-style": "convertible",
         "drive-wheels": "rwd",
         "engine-location": "front",
         "wheel-base": 88.6,
         "length": 0.8111484863046613,
         "width": 0.8902777777777777,
         "height": 0.8160535117056856,
         "curb-weight": 2548,
         "engine-type": "dohc",
         "num-of-cylinders": "four",
         "engine-size": 130,
         "fuel-system": "mpfi",
         "bore": 3.47,
         "stroke": 2.68,
         "compression-ratio": 9,
         "horsepower": 111,
         "peak-rpm": 5000,
         "city-l/100km": 11.19047619047619,
         "highway-l/100km": 8.703703703703704,
         "price": 13495,
         "horsepower_binned": "Low",
         "fuel_type_diesel": 0,
         "fuel_type_gas": 1,
         "_deepnote_index_column": 0
        },
        {
         "symboling": 3,
         "normalized-losses": 122,
         "make": "alfa-romero",
         "aspiration": "std",
         "num-of-doors": "two",
         "body-style": "convertible",
         "drive-wheels": "rwd",
         "engine-location": "front",
         "wheel-base": 88.6,
         "length": 0.8111484863046613,
         "width": 0.8902777777777777,
         "height": 0.8160535117056856,
         "curb-weight": 2548,
         "engine-type": "dohc",
         "num-of-cylinders": "four",
         "engine-size": 130,
         "fuel-system": "mpfi",
         "bore": 3.47,
         "stroke": 2.68,
         "compression-ratio": 9,
         "horsepower": 111,
         "peak-rpm": 5000,
         "city-l/100km": 11.19047619047619,
         "highway-l/100km": 8.703703703703704,
         "price": 16500,
         "horsepower_binned": "Low",
         "fuel_type_diesel": 0,
         "fuel_type_gas": 1,
         "_deepnote_index_column": 1
        },
        {
         "symboling": 1,
         "normalized-losses": 122,
         "make": "alfa-romero",
         "aspiration": "std",
         "num-of-doors": "two",
         "body-style": "hatchback",
         "drive-wheels": "rwd",
         "engine-location": "front",
         "wheel-base": 94.5,
         "length": 0.8226814031715521,
         "width": 0.9097222222222222,
         "height": 0.8762541806020067,
         "curb-weight": 2823,
         "engine-type": "ohcv",
         "num-of-cylinders": "six",
         "engine-size": 152,
         "fuel-system": "mpfi",
         "bore": 2.68,
         "stroke": 3.47,
         "compression-ratio": 9,
         "horsepower": 154,
         "peak-rpm": 5000,
         "city-l/100km": 12.36842105263158,
         "highway-l/100km": 9.038461538461538,
         "price": 16500,
         "horsepower_binned": "Medium",
         "fuel_type_diesel": 0,
         "fuel_type_gas": 1,
         "_deepnote_index_column": 2
        },
        {
         "symboling": 2,
         "normalized-losses": 164,
         "make": "audi",
         "aspiration": "std",
         "num-of-doors": "four",
         "body-style": "sedan",
         "drive-wheels": "fwd",
         "engine-location": "front",
         "wheel-base": 99.8,
         "length": 0.8486304661220567,
         "width": 0.9194444444444444,
         "height": 0.9080267558528428,
         "curb-weight": 2337,
         "engine-type": "ohc",
         "num-of-cylinders": "four",
         "engine-size": 109,
         "fuel-system": "mpfi",
         "bore": 3.19,
         "stroke": 3.4,
         "compression-ratio": 10,
         "horsepower": 102,
         "peak-rpm": 5500,
         "city-l/100km": 9.791666666666666,
         "highway-l/100km": 7.833333333333333,
         "price": 13950,
         "horsepower_binned": "Low",
         "fuel_type_diesel": 0,
         "fuel_type_gas": 1,
         "_deepnote_index_column": 3
        },
        {
         "symboling": 2,
         "normalized-losses": 164,
         "make": "audi",
         "aspiration": "std",
         "num-of-doors": "four",
         "body-style": "sedan",
         "drive-wheels": "4wd",
         "engine-location": "front",
         "wheel-base": 99.4,
         "length": 0.8486304661220567,
         "width": 0.9222222222222224,
         "height": 0.9080267558528428,
         "curb-weight": 2824,
         "engine-type": "ohc",
         "num-of-cylinders": "five",
         "engine-size": 136,
         "fuel-system": "mpfi",
         "bore": 3.19,
         "stroke": 3.4,
         "compression-ratio": 8,
         "horsepower": 115,
         "peak-rpm": 5500,
         "city-l/100km": 13.055555555555555,
         "highway-l/100km": 10.681818181818182,
         "price": 17450,
         "horsepower_binned": "Low",
         "fuel_type_diesel": 0,
         "fuel_type_gas": 1,
         "_deepnote_index_column": 4
        },
        {
         "symboling": 2,
         "normalized-losses": 122,
         "make": "audi",
         "aspiration": "std",
         "num-of-doors": "two",
         "body-style": "sedan",
         "drive-wheels": "fwd",
         "engine-location": "front",
         "wheel-base": 99.8,
         "length": 0.8519942335415667,
         "width": 0.9208333333333332,
         "height": 0.8879598662207359,
         "curb-weight": 2507,
         "engine-type": "ohc",
         "num-of-cylinders": "five",
         "engine-size": 136,
         "fuel-system": "mpfi",
         "bore": 3.19,
         "stroke": 3.4,
         "compression-ratio": 8.5,
         "horsepower": 110,
         "peak-rpm": 5500,
         "city-l/100km": 12.36842105263158,
         "highway-l/100km": 9.4,
         "price": 15250,
         "horsepower_binned": "Low",
         "fuel_type_diesel": 0,
         "fuel_type_gas": 1,
         "_deepnote_index_column": 5
        },
        {
         "symboling": 1,
         "normalized-losses": 158,
         "make": "audi",
         "aspiration": "std",
         "num-of-doors": "four",
         "body-style": "sedan",
         "drive-wheels": "fwd",
         "engine-location": "front",
         "wheel-base": 105.8,
         "length": 0.9259971167707832,
         "width": 0.9916666666666668,
         "height": 0.931438127090301,
         "curb-weight": 2844,
         "engine-type": "ohc",
         "num-of-cylinders": "five",
         "engine-size": 136,
         "fuel-system": "mpfi",
         "bore": 3.19,
         "stroke": 3.4,
         "compression-ratio": 8.5,
         "horsepower": 110,
         "peak-rpm": 5500,
         "city-l/100km": 12.36842105263158,
         "highway-l/100km": 9.4,
         "price": 17710,
         "horsepower_binned": "Low",
         "fuel_type_diesel": 0,
         "fuel_type_gas": 1,
         "_deepnote_index_column": 6
        },
        {
         "symboling": 1,
         "normalized-losses": 122,
         "make": "audi",
         "aspiration": "std",
         "num-of-doors": "four",
         "body-style": "wagon",
         "drive-wheels": "fwd",
         "engine-location": "front",
         "wheel-base": 105.8,
         "length": 0.9259971167707832,
         "width": 0.9916666666666668,
         "height": 0.931438127090301,
         "curb-weight": 2954,
         "engine-type": "ohc",
         "num-of-cylinders": "five",
         "engine-size": 136,
         "fuel-system": "mpfi",
         "bore": 3.19,
         "stroke": 3.4,
         "compression-ratio": 8.5,
         "horsepower": 110,
         "peak-rpm": 5500,
         "city-l/100km": 12.36842105263158,
         "highway-l/100km": 9.4,
         "price": 18920,
         "horsepower_binned": "Low",
         "fuel_type_diesel": 0,
         "fuel_type_gas": 1,
         "_deepnote_index_column": 7
        },
        {
         "symboling": 1,
         "normalized-losses": 158,
         "make": "audi",
         "aspiration": "turbo",
         "num-of-doors": "four",
         "body-style": "sedan",
         "drive-wheels": "fwd",
         "engine-location": "front",
         "wheel-base": 105.8,
         "length": 0.9259971167707832,
         "width": 0.9916666666666668,
         "height": 0.9347826086956522,
         "curb-weight": 3086,
         "engine-type": "ohc",
         "num-of-cylinders": "five",
         "engine-size": 131,
         "fuel-system": "mpfi",
         "bore": 3.13,
         "stroke": 3.4,
         "compression-ratio": 8.3,
         "horsepower": 140,
         "peak-rpm": 5500,
         "city-l/100km": 13.823529411764708,
         "highway-l/100km": 11.75,
         "price": 23875,
         "horsepower_binned": "Medium",
         "fuel_type_diesel": 0,
         "fuel_type_gas": 1,
         "_deepnote_index_column": 8
        },
        {
         "symboling": 2,
         "normalized-losses": 192,
         "make": "bmw",
         "aspiration": "std",
         "num-of-doors": "two",
         "body-style": "sedan",
         "drive-wheels": "rwd",
         "engine-location": "front",
         "wheel-base": 101.2,
         "length": 0.849591542527631,
         "width": 0.8999999999999999,
         "height": 0.9080267558528428,
         "curb-weight": 2395,
         "engine-type": "ohc",
         "num-of-cylinders": "four",
         "engine-size": 108,
         "fuel-system": "mpfi",
         "bore": 3.5,
         "stroke": 2.8,
         "compression-ratio": 8.8,
         "horsepower": 101,
         "peak-rpm": 5800,
         "city-l/100km": 10.217391304347826,
         "highway-l/100km": 8.10344827586207,
         "price": 16430,
         "horsepower_binned": "Low",
         "fuel_type_diesel": 0,
         "fuel_type_gas": 1,
         "_deepnote_index_column": 9
        }
       ]
      },
      "text/plain": "     symboling  normalized-losses         make aspiration num-of-doors  \\\n0            3                122  alfa-romero        std          two   \n1            3                122  alfa-romero        std          two   \n2            1                122  alfa-romero        std          two   \n3            2                164         audi        std         four   \n4            2                164         audi        std         four   \n..         ...                ...          ...        ...          ...   \n196         -1                 95        volvo        std         four   \n197         -1                 95        volvo      turbo         four   \n198         -1                 95        volvo        std         four   \n199         -1                 95        volvo      turbo         four   \n200         -1                 95        volvo      turbo         four   \n\n      body-style drive-wheels engine-location  wheel-base    length  ...  \\\n0    convertible          rwd           front        88.6  0.811148  ...   \n1    convertible          rwd           front        88.6  0.811148  ...   \n2      hatchback          rwd           front        94.5  0.822681  ...   \n3          sedan          fwd           front        99.8  0.848630  ...   \n4          sedan          4wd           front        99.4  0.848630  ...   \n..           ...          ...             ...         ...       ...  ...   \n196        sedan          rwd           front       109.1  0.907256  ...   \n197        sedan          rwd           front       109.1  0.907256  ...   \n198        sedan          rwd           front       109.1  0.907256  ...   \n199        sedan          rwd           front       109.1  0.907256  ...   \n200        sedan          rwd           front       109.1  0.907256  ...   \n\n     stroke  compression-ratio  horsepower peak-rpm city-l/100km  \\\n0      2.68                9.0         111   5000.0    11.190476   \n1      2.68                9.0         111   5000.0    11.190476   \n2      3.47                9.0         154   5000.0    12.368421   \n3      3.40               10.0         102   5500.0     9.791667   \n4      3.40                8.0         115   5500.0    13.055556   \n..      ...                ...         ...      ...          ...   \n196    3.15                9.5         114   5400.0    10.217391   \n197    3.15                8.7         160   5300.0    12.368421   \n198    2.87                8.8         134   5500.0    13.055556   \n199    3.40               23.0         106   4800.0     9.038462   \n200    3.15                9.5         114   5400.0    12.368421   \n\n     highway-l/100km    price  horsepower_binned  fuel_type_diesel  \\\n0           8.703704  13495.0                Low                 0   \n1           8.703704  16500.0                Low                 0   \n2           9.038462  16500.0             Medium                 0   \n3           7.833333  13950.0                Low                 0   \n4          10.681818  17450.0                Low                 0   \n..               ...      ...                ...               ...   \n196         8.392857  16845.0                Low                 0   \n197         9.400000  19045.0             Medium                 0   \n198        10.217391  21485.0             Medium                 0   \n199         8.703704  22470.0                Low                 1   \n200         9.400000  22625.0                Low                 0   \n\n     fuel_type_gas  \n0                1  \n1                1  \n2                1  \n3                1  \n4                1  \n..             ...  \n196              1  \n197              1  \n198              1  \n199              0  \n200              1  \n\n[201 rows x 28 columns]",
      "text/html": "<div>\n<style scoped>\n    .dataframe tbody tr th:only-of-type {\n        vertical-align: middle;\n    }\n\n    .dataframe tbody tr th {\n        vertical-align: top;\n    }\n\n    .dataframe thead th {\n        text-align: right;\n    }\n</style>\n<table border=\"1\" class=\"dataframe\">\n  <thead>\n    <tr style=\"text-align: right;\">\n      <th></th>\n      <th>symboling</th>\n      <th>normalized-losses</th>\n      <th>make</th>\n      <th>aspiration</th>\n      <th>num-of-doors</th>\n      <th>body-style</th>\n      <th>drive-wheels</th>\n      <th>engine-location</th>\n      <th>wheel-base</th>\n      <th>length</th>\n      <th>...</th>\n      <th>stroke</th>\n      <th>compression-ratio</th>\n      <th>horsepower</th>\n      <th>peak-rpm</th>\n      <th>city-l/100km</th>\n      <th>highway-l/100km</th>\n      <th>price</th>\n      <th>horsepower_binned</th>\n      <th>fuel_type_diesel</th>\n      <th>fuel_type_gas</th>\n    </tr>\n  </thead>\n  <tbody>\n    <tr>\n      <th>0</th>\n      <td>3</td>\n      <td>122</td>\n      <td>alfa-romero</td>\n      <td>std</td>\n      <td>two</td>\n      <td>convertible</td>\n      <td>rwd</td>\n      <td>front</td>\n      <td>88.6</td>\n      <td>0.811148</td>\n      <td>...</td>\n      <td>2.68</td>\n      <td>9.0</td>\n      <td>111</td>\n      <td>5000.0</td>\n      <td>11.190476</td>\n      <td>8.703704</td>\n      <td>13495.0</td>\n      <td>Low</td>\n      <td>0</td>\n      <td>1</td>\n    </tr>\n    <tr>\n      <th>1</th>\n      <td>3</td>\n      <td>122</td>\n      <td>alfa-romero</td>\n      <td>std</td>\n      <td>two</td>\n      <td>convertible</td>\n      <td>rwd</td>\n      <td>front</td>\n      <td>88.6</td>\n      <td>0.811148</td>\n      <td>...</td>\n      <td>2.68</td>\n      <td>9.0</td>\n      <td>111</td>\n      <td>5000.0</td>\n      <td>11.190476</td>\n      <td>8.703704</td>\n      <td>16500.0</td>\n      <td>Low</td>\n      <td>0</td>\n      <td>1</td>\n    </tr>\n    <tr>\n      <th>2</th>\n      <td>1</td>\n      <td>122</td>\n      <td>alfa-romero</td>\n      <td>std</td>\n      <td>two</td>\n      <td>hatchback</td>\n      <td>rwd</td>\n      <td>front</td>\n      <td>94.5</td>\n      <td>0.822681</td>\n      <td>...</td>\n      <td>3.47</td>\n      <td>9.0</td>\n      <td>154</td>\n      <td>5000.0</td>\n      <td>12.368421</td>\n      <td>9.038462</td>\n      <td>16500.0</td>\n      <td>Medium</td>\n      <td>0</td>\n      <td>1</td>\n    </tr>\n    <tr>\n      <th>3</th>\n      <td>2</td>\n      <td>164</td>\n      <td>audi</td>\n      <td>std</td>\n      <td>four</td>\n      <td>sedan</td>\n      <td>fwd</td>\n      <td>front</td>\n      <td>99.8</td>\n      <td>0.848630</td>\n      <td>...</td>\n      <td>3.40</td>\n      <td>10.0</td>\n      <td>102</td>\n      <td>5500.0</td>\n      <td>9.791667</td>\n      <td>7.833333</td>\n      <td>13950.0</td>\n      <td>Low</td>\n      <td>0</td>\n      <td>1</td>\n    </tr>\n    <tr>\n      <th>4</th>\n      <td>2</td>\n      <td>164</td>\n      <td>audi</td>\n      <td>std</td>\n      <td>four</td>\n      <td>sedan</td>\n      <td>4wd</td>\n      <td>front</td>\n      <td>99.4</td>\n      <td>0.848630</td>\n      <td>...</td>\n      <td>3.40</td>\n      <td>8.0</td>\n      <td>115</td>\n      <td>5500.0</td>\n      <td>13.055556</td>\n      <td>10.681818</td>\n      <td>17450.0</td>\n      <td>Low</td>\n      <td>0</td>\n      <td>1</td>\n    </tr>\n    <tr>\n      <th>...</th>\n      <td>...</td>\n      <td>...</td>\n      <td>...</td>\n      <td>...</td>\n      <td>...</td>\n      <td>...</td>\n      <td>...</td>\n      <td>...</td>\n      <td>...</td>\n      <td>...</td>\n      <td>...</td>\n      <td>...</td>\n      <td>...</td>\n      <td>...</td>\n      <td>...</td>\n      <td>...</td>\n      <td>...</td>\n      <td>...</td>\n      <td>...</td>\n      <td>...</td>\n      <td>...</td>\n    </tr>\n    <tr>\n      <th>196</th>\n      <td>-1</td>\n      <td>95</td>\n      <td>volvo</td>\n      <td>std</td>\n      <td>four</td>\n      <td>sedan</td>\n      <td>rwd</td>\n      <td>front</td>\n      <td>109.1</td>\n      <td>0.907256</td>\n      <td>...</td>\n      <td>3.15</td>\n      <td>9.5</td>\n      <td>114</td>\n      <td>5400.0</td>\n      <td>10.217391</td>\n      <td>8.392857</td>\n      <td>16845.0</td>\n      <td>Low</td>\n      <td>0</td>\n      <td>1</td>\n    </tr>\n    <tr>\n      <th>197</th>\n      <td>-1</td>\n      <td>95</td>\n      <td>volvo</td>\n      <td>turbo</td>\n      <td>four</td>\n      <td>sedan</td>\n      <td>rwd</td>\n      <td>front</td>\n      <td>109.1</td>\n      <td>0.907256</td>\n      <td>...</td>\n      <td>3.15</td>\n      <td>8.7</td>\n      <td>160</td>\n      <td>5300.0</td>\n      <td>12.368421</td>\n      <td>9.400000</td>\n      <td>19045.0</td>\n      <td>Medium</td>\n      <td>0</td>\n      <td>1</td>\n    </tr>\n    <tr>\n      <th>198</th>\n      <td>-1</td>\n      <td>95</td>\n      <td>volvo</td>\n      <td>std</td>\n      <td>four</td>\n      <td>sedan</td>\n      <td>rwd</td>\n      <td>front</td>\n      <td>109.1</td>\n      <td>0.907256</td>\n      <td>...</td>\n      <td>2.87</td>\n      <td>8.8</td>\n      <td>134</td>\n      <td>5500.0</td>\n      <td>13.055556</td>\n      <td>10.217391</td>\n      <td>21485.0</td>\n      <td>Medium</td>\n      <td>0</td>\n      <td>1</td>\n    </tr>\n    <tr>\n      <th>199</th>\n      <td>-1</td>\n      <td>95</td>\n      <td>volvo</td>\n      <td>turbo</td>\n      <td>four</td>\n      <td>sedan</td>\n      <td>rwd</td>\n      <td>front</td>\n      <td>109.1</td>\n      <td>0.907256</td>\n      <td>...</td>\n      <td>3.40</td>\n      <td>23.0</td>\n      <td>106</td>\n      <td>4800.0</td>\n      <td>9.038462</td>\n      <td>8.703704</td>\n      <td>22470.0</td>\n      <td>Low</td>\n      <td>1</td>\n      <td>0</td>\n    </tr>\n    <tr>\n      <th>200</th>\n      <td>-1</td>\n      <td>95</td>\n      <td>volvo</td>\n      <td>turbo</td>\n      <td>four</td>\n      <td>sedan</td>\n      <td>rwd</td>\n      <td>front</td>\n      <td>109.1</td>\n      <td>0.907256</td>\n      <td>...</td>\n      <td>3.15</td>\n      <td>9.5</td>\n      <td>114</td>\n      <td>5400.0</td>\n      <td>12.368421</td>\n      <td>9.400000</td>\n      <td>22625.0</td>\n      <td>Low</td>\n      <td>0</td>\n      <td>1</td>\n    </tr>\n  </tbody>\n</table>\n<p>201 rows × 28 columns</p>\n</div>"
     },
     "metadata": {}
    }
   ],
   "execution_count": 4
  },
  {
   "cell_type": "code",
   "source": "",
   "metadata": {
    "cell_id": "645d5c41-8a14-4a04-bf98-d70935de6e33",
    "tags": [],
    "deepnote_cell_type": "code"
   },
   "outputs": [],
   "execution_count": null
  },
  {
   "cell_type": "markdown",
   "source": "<a style='text-decoration:none;line-height:16px;display:flex;color:#5B5B62;padding:10px;justify-content:end;' href='https://deepnote.com?utm_source=created-in-deepnote-cell&projectId=fabb4e41-fcd2-4421-bbfb-772986975631' target=\"_blank\">\n<img alt='Created in deepnote.com' style='display:inline;max-height:16px;margin:0px;margin-right:7.5px;' src='data:image/svg+xml;base64,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' > </img>\nCreated in <span style='font-weight:600;margin-left:4px;'>Deepnote</span></a>",
   "metadata": {
    "tags": [],
    "created_in_deepnote_cell": true,
    "deepnote_cell_type": "markdown"
   }
  }
 ],
 "nbformat": 4,
 "nbformat_minor": 2,
 "metadata": {
  "orig_nbformat": 2,
  "deepnote": {
   "is_reactive": false
  },
  "deepnote_notebook_id": "932b6e9b-c148-42b0-aed3-a9abec9c5da5",
  "deepnote_execution_queue": []
 }
}