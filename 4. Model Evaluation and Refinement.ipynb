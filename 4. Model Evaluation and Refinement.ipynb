{
 "cells": [
  {
   "cell_type": "markdown",
   "source": "# Prepare the environment",
   "metadata": {
    "tags": [],
    "cell_id": "f7af36b6-b7aa-4598-b1af-2bc929d0fe3d",
    "deepnote_cell_type": "markdown",
    "deepnote_cell_height": 82
   }
  },
  {
   "cell_type": "markdown",
   "source": "## For Manipulation",
   "metadata": {
    "cell_id": "1abd0c1b-ada9-468d-8255-0913f87d71f8",
    "tags": [],
    "deepnote_to_be_reexecuted": false,
    "source_hash": "36208d52",
    "execution_start": 1646833160834,
    "execution_millis": 6,
    "deepnote_cell_type": "markdown",
    "deepnote_cell_height": 70
   }
  },
  {
   "cell_type": "code",
   "metadata": {
    "cell_id": "47d70a3f-133e-4fa5-a924-3dc60484e416",
    "tags": [],
    "deepnote_to_be_reexecuted": false,
    "source_hash": "f302453b",
    "execution_start": 1648045724498,
    "execution_millis": 2114,
    "deepnote_cell_type": "code",
    "deepnote_cell_height": 226.1875,
    "deepnote_output_heights": [
     21.1875
    ]
   },
   "source": "import pandas as pd\nimport numpy as np\nimport seaborn as sns\nimport matplotlib.pyplot as plt\nfrom scipy import stats\n%matplotlib inline\npd.__version__",
   "execution_count": 2,
   "outputs": [
    {
     "output_type": "execute_result",
     "execution_count": 2,
     "data": {
      "text/plain": "'1.2.5'"
     },
     "metadata": {}
    }
   ]
  },
  {
   "cell_type": "code",
   "metadata": {
    "cell_id": "772d74d85fc446e5825998ff9281810b",
    "tags": [],
    "deepnote_to_be_reexecuted": false,
    "source_hash": "2297785c",
    "execution_start": 1648045728209,
    "execution_millis": 6561,
    "deepnote_cell_type": "code",
    "deepnote_cell_height": 746
   },
   "source": "!pip install ipywidgets==7.7.0",
   "execution_count": 3,
   "outputs": [
    {
     "name": "stdout",
     "text": "Collecting ipywidgets==7.7.0\n  Downloading ipywidgets-7.7.0-py2.py3-none-any.whl (123 kB)\n\u001b[K     |████████████████████████████████| 123 kB 10.9 MB/s \n\u001b[?25hCollecting widgetsnbextension~=3.6.0\n  Downloading widgetsnbextension-3.6.0-py2.py3-none-any.whl (1.6 MB)\n\u001b[K     |████████████████████████████████| 1.6 MB 35.9 MB/s \n\u001b[?25hRequirement already satisfied: ipykernel>=4.5.1 in /shared-libs/python3.7/py-core/lib/python3.7/site-packages (from ipywidgets==7.7.0) (5.5.5)\nRequirement already satisfied: ipython>=4.0.0; python_version >= \"3.3\" in /shared-libs/python3.7/py-core/lib/python3.7/site-packages (from ipywidgets==7.7.0) (7.32.0)\nRequirement already satisfied: traitlets>=4.3.1 in /shared-libs/python3.7/py-core/lib/python3.7/site-packages (from ipywidgets==7.7.0) (4.3.3)\nRequirement already satisfied: ipython-genutils~=0.2.0 in /shared-libs/python3.7/py-core/lib/python3.7/site-packages (from ipywidgets==7.7.0) (0.2.0)\nCollecting jupyterlab-widgets>=1.0.0; python_version >= \"3.6\"\n  Downloading jupyterlab_widgets-1.1.0-py3-none-any.whl (245 kB)\n\u001b[K     |████████████████████████████████| 245 kB 41.7 MB/s \n\u001b[?25hRequirement already satisfied: nbformat>=4.2.0 in /shared-libs/python3.7/py-core/lib/python3.7/site-packages (from ipywidgets==7.7.0) (5.1.3)\nRequirement already satisfied: notebook>=4.4.1 in /shared-libs/python3.7/py-core/lib/python3.7/site-packages (from widgetsnbextension~=3.6.0->ipywidgets==7.7.0) (6.3.0)\nRequirement already satisfied: jupyter-client in /shared-libs/python3.7/py-core/lib/python3.7/site-packages (from ipykernel>=4.5.1->ipywidgets==7.7.0) (6.1.12)\nRequirement already satisfied: tornado>=4.2 in /shared-libs/python3.7/py-core/lib/python3.7/site-packages (from ipykernel>=4.5.1->ipywidgets==7.7.0) (6.1)\nRequirement already satisfied: pickleshare in /shared-libs/python3.7/py-core/lib/python3.7/site-packages (from ipython>=4.0.0; python_version >= \"3.3\"->ipywidgets==7.7.0) (0.7.5)\nRequirement already satisfied: pygments in /shared-libs/python3.7/py-core/lib/python3.7/site-packages (from ipython>=4.0.0; python_version >= \"3.3\"->ipywidgets==7.7.0) (2.11.2)\nRequirement already satisfied: backcall in /shared-libs/python3.7/py-core/lib/python3.7/site-packages (from ipython>=4.0.0; python_version >= \"3.3\"->ipywidgets==7.7.0) (0.2.0)\nRequirement already satisfied: prompt-toolkit!=3.0.0,!=3.0.1,<3.1.0,>=2.0.0 in /shared-libs/python3.7/py-core/lib/python3.7/site-packages (from ipython>=4.0.0; python_version >= \"3.3\"->ipywidgets==7.7.0) (3.0.28)\nRequirement already satisfied: setuptools>=18.5 in /root/venv/lib/python3.7/site-packages (from ipython>=4.0.0; python_version >= \"3.3\"->ipywidgets==7.7.0) (47.1.0)\nRequirement already satisfied: decorator in /shared-libs/python3.7/py-core/lib/python3.7/site-packages (from ipython>=4.0.0; python_version >= \"3.3\"->ipywidgets==7.7.0) (5.1.1)\nRequirement already satisfied: pexpect>4.3; sys_platform != \"win32\" in /shared-libs/python3.7/py-core/lib/python3.7/site-packages (from ipython>=4.0.0; python_version >= \"3.3\"->ipywidgets==7.7.0) (4.8.0)\nRequirement already satisfied: jedi>=0.16 in /shared-libs/python3.7/py-core/lib/python3.7/site-packages (from ipython>=4.0.0; python_version >= \"3.3\"->ipywidgets==7.7.0) (0.17.2)\nRequirement already satisfied: matplotlib-inline in /shared-libs/python3.7/py-core/lib/python3.7/site-packages (from ipython>=4.0.0; python_version >= \"3.3\"->ipywidgets==7.7.0) (0.1.3)\nRequirement already satisfied: six in /shared-libs/python3.7/py-core/lib/python3.7/site-packages (from traitlets>=4.3.1->ipywidgets==7.7.0) (1.16.0)\nRequirement already satisfied: jsonschema!=2.5.0,>=2.4 in /shared-libs/python3.7/py-core/lib/python3.7/site-packages (from nbformat>=4.2.0->ipywidgets==7.7.0) (3.2.0)\nRequirement already satisfied: jupyter-core in /shared-libs/python3.7/py-core/lib/python3.7/site-packages (from nbformat>=4.2.0->ipywidgets==7.7.0) (4.7.1)\nRequirement already satisfied: jinja2 in /shared-libs/python3.7/py-core/lib/python3.7/site-packages (from notebook>=4.4.1->widgetsnbextension~=3.6.0->ipywidgets==7.7.0) (3.0.3)\nRequirement already satisfied: nbconvert==6.0.7 in /shared-libs/python3.7/py-core/lib/python3.7/site-packages (from notebook>=4.4.1->widgetsnbextension~=3.6.0->ipywidgets==7.7.0) (6.0.7)\nRequirement already satisfied: Send2Trash>=1.5.0 in /shared-libs/python3.7/py-core/lib/python3.7/site-packages (from notebook>=4.4.1->widgetsnbextension~=3.6.0->ipywidgets==7.7.0) (1.8.0)\nRequirement already satisfied: argon2-cffi in /shared-libs/python3.7/py-core/lib/python3.7/site-packages (from notebook>=4.4.1->widgetsnbextension~=3.6.0->ipywidgets==7.7.0) (21.3.0)\nRequirement already satisfied: prometheus-client in /shared-libs/python3.7/py-core/lib/python3.7/site-packages (from notebook>=4.4.1->widgetsnbextension~=3.6.0->ipywidgets==7.7.0) (0.13.1)\nRequirement already satisfied: pyzmq>=17 in /shared-libs/python3.7/py-core/lib/python3.7/site-packages (from notebook>=4.4.1->widgetsnbextension~=3.6.0->ipywidgets==7.7.0) (22.3.0)\nRequirement already satisfied: terminado>=0.8.3 in /shared-libs/python3.7/py-core/lib/python3.7/site-packages (from notebook>=4.4.1->widgetsnbextension~=3.6.0->ipywidgets==7.7.0) (0.13.3)\nRequirement already satisfied: python-dateutil>=2.1 in /shared-libs/python3.7/py-core/lib/python3.7/site-packages (from jupyter-client->ipykernel>=4.5.1->ipywidgets==7.7.0) (2.8.2)\nRequirement already satisfied: wcwidth in /shared-libs/python3.7/py-core/lib/python3.7/site-packages (from prompt-toolkit!=3.0.0,!=3.0.1,<3.1.0,>=2.0.0->ipython>=4.0.0; python_version >= \"3.3\"->ipywidgets==7.7.0) (0.2.5)\nRequirement already satisfied: ptyprocess>=0.5 in /shared-libs/python3.7/py-core/lib/python3.7/site-packages (from pexpect>4.3; sys_platform != \"win32\"->ipython>=4.0.0; python_version >= \"3.3\"->ipywidgets==7.7.0) (0.7.0)\nRequirement already satisfied: parso<0.8.0,>=0.7.0 in /shared-libs/python3.7/py-core/lib/python3.7/site-packages (from jedi>=0.16->ipython>=4.0.0; python_version >= \"3.3\"->ipywidgets==7.7.0) (0.7.1)\nRequirement already satisfied: importlib-metadata; python_version < \"3.8\" in /shared-libs/python3.7/py-core/lib/python3.7/site-packages (from jsonschema!=2.5.0,>=2.4->nbformat>=4.2.0->ipywidgets==7.7.0) (4.11.2)\nRequirement already satisfied: pyrsistent>=0.14.0 in /shared-libs/python3.7/py-core/lib/python3.7/site-packages (from jsonschema!=2.5.0,>=2.4->nbformat>=4.2.0->ipywidgets==7.7.0) (0.18.1)\nRequirement already satisfied: attrs>=17.4.0 in /shared-libs/python3.7/py-core/lib/python3.7/site-packages (from jsonschema!=2.5.0,>=2.4->nbformat>=4.2.0->ipywidgets==7.7.0) (21.4.0)\nRequirement already satisfied: MarkupSafe>=2.0 in /shared-libs/python3.7/py-core/lib/python3.7/site-packages (from jinja2->notebook>=4.4.1->widgetsnbextension~=3.6.0->ipywidgets==7.7.0) (2.1.0)\nRequirement already satisfied: nbclient<0.6.0,>=0.5.0 in /shared-libs/python3.7/py-core/lib/python3.7/site-packages (from nbconvert==6.0.7->notebook>=4.4.1->widgetsnbextension~=3.6.0->ipywidgets==7.7.0) (0.5.9)\nRequirement already satisfied: jupyterlab-pygments in /shared-libs/python3.7/py-core/lib/python3.7/site-packages (from nbconvert==6.0.7->notebook>=4.4.1->widgetsnbextension~=3.6.0->ipywidgets==7.7.0) (0.1.2)\nRequirement already satisfied: entrypoints>=0.2.2 in /shared-libs/python3.7/py-core/lib/python3.7/site-packages (from nbconvert==6.0.7->notebook>=4.4.1->widgetsnbextension~=3.6.0->ipywidgets==7.7.0) (0.4)\nRequirement already satisfied: testpath in /shared-libs/python3.7/py-core/lib/python3.7/site-packages (from nbconvert==6.0.7->notebook>=4.4.1->widgetsnbextension~=3.6.0->ipywidgets==7.7.0) (0.6.0)\nRequirement already satisfied: defusedxml in /shared-libs/python3.7/py-core/lib/python3.7/site-packages (from nbconvert==6.0.7->notebook>=4.4.1->widgetsnbextension~=3.6.0->ipywidgets==7.7.0) (0.7.1)\nRequirement already satisfied: pandocfilters>=1.4.1 in /shared-libs/python3.7/py-core/lib/python3.7/site-packages (from nbconvert==6.0.7->notebook>=4.4.1->widgetsnbextension~=3.6.0->ipywidgets==7.7.0) (1.5.0)\nRequirement already satisfied: bleach in /shared-libs/python3.7/py-core/lib/python3.7/site-packages (from nbconvert==6.0.7->notebook>=4.4.1->widgetsnbextension~=3.6.0->ipywidgets==7.7.0) (4.1.0)\nRequirement already satisfied: mistune<2,>=0.8.1 in /shared-libs/python3.7/py-core/lib/python3.7/site-packages (from nbconvert==6.0.7->notebook>=4.4.1->widgetsnbextension~=3.6.0->ipywidgets==7.7.0) (0.8.4)\nRequirement already satisfied: typing-extensions; python_version < \"3.8\" in /shared-libs/python3.7/py-core/lib/python3.7/site-packages (from argon2-cffi->notebook>=4.4.1->widgetsnbextension~=3.6.0->ipywidgets==7.7.0) (4.1.1)\nRequirement already satisfied: argon2-cffi-bindings in /shared-libs/python3.7/py-core/lib/python3.7/site-packages (from argon2-cffi->notebook>=4.4.1->widgetsnbextension~=3.6.0->ipywidgets==7.7.0) (21.2.0)\nRequirement already satisfied: zipp>=0.5 in /shared-libs/python3.7/py-core/lib/python3.7/site-packages (from importlib-metadata; python_version < \"3.8\"->jsonschema!=2.5.0,>=2.4->nbformat>=4.2.0->ipywidgets==7.7.0) (3.7.0)\nRequirement already satisfied: nest-asyncio in /shared-libs/python3.7/py-core/lib/python3.7/site-packages (from nbclient<0.6.0,>=0.5.0->nbconvert==6.0.7->notebook>=4.4.1->widgetsnbextension~=3.6.0->ipywidgets==7.7.0) (1.5.4)\nRequirement already satisfied: webencodings in /shared-libs/python3.7/py-core/lib/python3.7/site-packages (from bleach->nbconvert==6.0.7->notebook>=4.4.1->widgetsnbextension~=3.6.0->ipywidgets==7.7.0) (0.5.1)\nRequirement already satisfied: packaging in /shared-libs/python3.7/py-core/lib/python3.7/site-packages (from bleach->nbconvert==6.0.7->notebook>=4.4.1->widgetsnbextension~=3.6.0->ipywidgets==7.7.0) (21.3)\nRequirement already satisfied: cffi>=1.0.1 in /shared-libs/python3.7/py-core/lib/python3.7/site-packages (from argon2-cffi-bindings->argon2-cffi->notebook>=4.4.1->widgetsnbextension~=3.6.0->ipywidgets==7.7.0) (1.15.0)\nRequirement already satisfied: pyparsing!=3.0.5,>=2.0.2 in /shared-libs/python3.7/py-core/lib/python3.7/site-packages (from packaging->bleach->nbconvert==6.0.7->notebook>=4.4.1->widgetsnbextension~=3.6.0->ipywidgets==7.7.0) (3.0.7)\nRequirement already satisfied: pycparser in /shared-libs/python3.7/py-core/lib/python3.7/site-packages (from cffi>=1.0.1->argon2-cffi-bindings->argon2-cffi->notebook>=4.4.1->widgetsnbextension~=3.6.0->ipywidgets==7.7.0) (2.21)\nInstalling collected packages: widgetsnbextension, jupyterlab-widgets, ipywidgets\nSuccessfully installed ipywidgets-7.7.0 jupyterlab-widgets-1.1.0 widgetsnbextension-3.6.0\n\u001b[33mWARNING: You are using pip version 20.1.1; however, version 22.0.4 is available.\nYou should consider upgrading via the '/root/venv/bin/python -m pip install --upgrade pip' command.\u001b[0m\n",
     "output_type": "stream"
    }
   ]
  },
  {
   "cell_type": "code",
   "metadata": {
    "cell_id": "903a2e9844504cb38366e9910f06a8b8",
    "tags": [],
    "deepnote_to_be_reexecuted": false,
    "source_hash": "1e5a67b0",
    "execution_start": 1648045734818,
    "execution_millis": 0,
    "deepnote_cell_type": "code",
    "deepnote_cell_height": 99
   },
   "source": "# others libraries for plotting\nfrom ipywidgets import interact, interactive, fixed, interact_manual",
   "execution_count": 4,
   "outputs": []
  },
  {
   "cell_type": "markdown",
   "source": "## For Model",
   "metadata": {
    "cell_id": "df7b2658-7534-4a85-8e98-fbafe3aa5aca",
    "tags": [],
    "deepnote_to_be_reexecuted": false,
    "source_hash": "fe5d336d",
    "execution_start": 1646833172181,
    "execution_millis": 3,
    "deepnote_cell_type": "markdown",
    "deepnote_cell_height": 70
   }
  },
  {
   "cell_type": "code",
   "metadata": {
    "cell_id": "378f256d-17fc-4d7d-957c-349b615bd9eb",
    "tags": [],
    "deepnote_to_be_reexecuted": false,
    "source_hash": "d49bc74e",
    "execution_start": 1648049217318,
    "execution_millis": 1,
    "deepnote_cell_type": "code",
    "deepnote_cell_height": 405
   },
   "source": "# for randomly split our data into training and testing data\nfrom sklearn.model_selection import train_test_split\n\n# for using linear models\nfrom sklearn.linear_model import LinearRegression\n\n# for perform cross-validation\nfrom sklearn.model_selection import cross_val_score\n# You can also use the function 'cross_val_predict' to predict the output\nfrom sklearn.model_selection import cross_val_predict\n\n# to use polynomial regression\nfrom sklearn.preprocessing import PolynomialFeatures\n\n# to use Ridge regression\nfrom sklearn.linear_model import Ridge\n\n# to use GrisSearchCV and find the best hyperparameter\nfrom sklearn.model_selection import GridSearchCV",
   "execution_count": 69,
   "outputs": []
  },
  {
   "cell_type": "markdown",
   "source": "## Read our dataframe",
   "metadata": {
    "cell_id": "91811c058dfa4666881714986fc3f7c2",
    "tags": [],
    "deepnote_cell_type": "markdown",
    "deepnote_cell_height": 70
   }
  },
  {
   "cell_type": "code",
   "metadata": {
    "cell_id": "63bfa260f50042e395d7cfc81287f767",
    "tags": [],
    "deepnote_to_be_reexecuted": false,
    "source_hash": "3ddaae7",
    "execution_start": 1648045737996,
    "execution_millis": 0,
    "deepnote_cell_type": "code",
    "deepnote_cell_height": 136.1875,
    "deepnote_output_heights": [
     21.1875
    ]
   },
   "source": "path_file = 'cars_to_model_evaluation_and_refine.csv'\npath_file",
   "execution_count": 5,
   "outputs": [
    {
     "output_type": "execute_result",
     "execution_count": 5,
     "data": {
      "text/plain": "'cars_to_model_evaluation_and_refine.csv'"
     },
     "metadata": {}
    }
   ]
  },
  {
   "cell_type": "code",
   "metadata": {
    "cell_id": "d04f10528e73423d9e055a57699706c2",
    "tags": [],
    "deepnote_to_be_reexecuted": false,
    "source_hash": "921bfe7",
    "execution_start": 1648045738420,
    "execution_millis": 170,
    "deepnote_cell_type": "code",
    "deepnote_cell_height": 647.59375
   },
   "source": "# read our data frame\ndf_cars = pd.read_csv(path_file)\ndf_cars",
   "execution_count": 6,
   "outputs": [
    {
     "output_type": "execute_result",
     "execution_count": 6,
     "data": {
      "application/vnd.deepnote.dataframe.v3+json": {
       "column_count": 31,
       "row_count": 201,
       "columns": [
        {
         "name": "Unnamed: 0",
         "dtype": "int64",
         "stats": {
          "unique_count": 201,
          "nan_count": 0,
          "min": "0",
          "max": "200",
          "histogram": [
           {
            "bin_start": 0,
            "bin_end": 20,
            "count": 20
           },
           {
            "bin_start": 20,
            "bin_end": 40,
            "count": 20
           },
           {
            "bin_start": 40,
            "bin_end": 60,
            "count": 20
           },
           {
            "bin_start": 60,
            "bin_end": 80,
            "count": 20
           },
           {
            "bin_start": 80,
            "bin_end": 100,
            "count": 20
           },
           {
            "bin_start": 100,
            "bin_end": 120,
            "count": 20
           },
           {
            "bin_start": 120,
            "bin_end": 140,
            "count": 20
           },
           {
            "bin_start": 140,
            "bin_end": 160,
            "count": 20
           },
           {
            "bin_start": 160,
            "bin_end": 180,
            "count": 20
           },
           {
            "bin_start": 180,
            "bin_end": 200,
            "count": 21
           }
          ]
         }
        },
        {
         "name": "Unnamed: 0.1",
         "dtype": "int64",
         "stats": {
          "unique_count": 201,
          "nan_count": 0,
          "min": "0",
          "max": "200",
          "histogram": [
           {
            "bin_start": 0,
            "bin_end": 20,
            "count": 20
           },
           {
            "bin_start": 20,
            "bin_end": 40,
            "count": 20
           },
           {
            "bin_start": 40,
            "bin_end": 60,
            "count": 20
           },
           {
            "bin_start": 60,
            "bin_end": 80,
            "count": 20
           },
           {
            "bin_start": 80,
            "bin_end": 100,
            "count": 20
           },
           {
            "bin_start": 100,
            "bin_end": 120,
            "count": 20
           },
           {
            "bin_start": 120,
            "bin_end": 140,
            "count": 20
           },
           {
            "bin_start": 140,
            "bin_end": 160,
            "count": 20
           },
           {
            "bin_start": 160,
            "bin_end": 180,
            "count": 20
           },
           {
            "bin_start": 180,
            "bin_end": 200,
            "count": 21
           }
          ]
         }
        },
        {
         "name": "symboling",
         "dtype": "int64",
         "stats": {
          "unique_count": 6,
          "nan_count": 0,
          "min": "-2",
          "max": "3",
          "histogram": [
           {
            "bin_start": -2,
            "bin_end": -1.5,
            "count": 3
           },
           {
            "bin_start": -1.5,
            "bin_end": -1,
            "count": 0
           },
           {
            "bin_start": -1,
            "bin_end": -0.5,
            "count": 22
           },
           {
            "bin_start": -0.5,
            "bin_end": 0,
            "count": 0
           },
           {
            "bin_start": 0,
            "bin_end": 0.5,
            "count": 65
           },
           {
            "bin_start": 0.5,
            "bin_end": 1,
            "count": 0
           },
           {
            "bin_start": 1,
            "bin_end": 1.5,
            "count": 52
           },
           {
            "bin_start": 1.5,
            "bin_end": 2,
            "count": 0
           },
           {
            "bin_start": 2,
            "bin_end": 2.5,
            "count": 32
           },
           {
            "bin_start": 2.5,
            "bin_end": 3,
            "count": 27
           }
          ]
         }
        },
        {
         "name": "normalized-losses",
         "dtype": "int64",
         "stats": {
          "unique_count": 51,
          "nan_count": 0,
          "min": "65",
          "max": "256",
          "histogram": [
           {
            "bin_start": 65,
            "bin_end": 84.1,
            "count": 17
           },
           {
            "bin_start": 84.1,
            "bin_end": 103.2,
            "count": 46
           },
           {
            "bin_start": 103.2,
            "bin_end": 122.30000000000001,
            "count": 68
           },
           {
            "bin_start": 122.30000000000001,
            "bin_end": 141.4,
            "count": 20
           },
           {
            "bin_start": 141.4,
            "bin_end": 160.5,
            "count": 21
           },
           {
            "bin_start": 160.5,
            "bin_end": 179.60000000000002,
            "count": 18
           },
           {
            "bin_start": 179.60000000000002,
            "bin_end": 198.70000000000002,
            "count": 9
           },
           {
            "bin_start": 198.70000000000002,
            "bin_end": 217.8,
            "count": 0
           },
           {
            "bin_start": 217.8,
            "bin_end": 236.9,
            "count": 1
           },
           {
            "bin_start": 236.9,
            "bin_end": 256,
            "count": 1
           }
          ]
         }
        },
        {
         "name": "make",
         "dtype": "object",
         "stats": {
          "unique_count": 22,
          "nan_count": 0,
          "categories": [
           {
            "name": "toyota",
            "count": 32
           },
           {
            "name": "nissan",
            "count": 18
           },
           {
            "name": "20 others",
            "count": 151
           }
          ]
         }
        },
        {
         "name": "aspiration",
         "dtype": "object",
         "stats": {
          "unique_count": 2,
          "nan_count": 0,
          "categories": [
           {
            "name": "std",
            "count": 165
           },
           {
            "name": "turbo",
            "count": 36
           }
          ]
         }
        },
        {
         "name": "num-of-doors",
         "dtype": "object",
         "stats": {
          "unique_count": 2,
          "nan_count": 0,
          "categories": [
           {
            "name": "four",
            "count": 115
           },
           {
            "name": "two",
            "count": 86
           }
          ]
         }
        },
        {
         "name": "body-style",
         "dtype": "object",
         "stats": {
          "unique_count": 5,
          "nan_count": 0,
          "categories": [
           {
            "name": "sedan",
            "count": 94
           },
           {
            "name": "hatchback",
            "count": 68
           },
           {
            "name": "3 others",
            "count": 39
           }
          ]
         }
        },
        {
         "name": "drive-wheels",
         "dtype": "object",
         "stats": {
          "unique_count": 3,
          "nan_count": 0,
          "categories": [
           {
            "name": "fwd",
            "count": 118
           },
           {
            "name": "rwd",
            "count": 75
           },
           {
            "name": "4wd",
            "count": 8
           }
          ]
         }
        },
        {
         "name": "engine-location",
         "dtype": "object",
         "stats": {
          "unique_count": 2,
          "nan_count": 0,
          "categories": [
           {
            "name": "front",
            "count": 198
           },
           {
            "name": "rear",
            "count": 3
           }
          ]
         }
        },
        {
         "name": "wheel-base",
         "dtype": "float64",
         "stats": {
          "unique_count": 52,
          "nan_count": 0,
          "min": "86.6",
          "max": "120.9",
          "histogram": [
           {
            "bin_start": 86.6,
            "bin_end": 90.03,
            "count": 8
           },
           {
            "bin_start": 90.03,
            "bin_end": 93.46,
            "count": 9
           },
           {
            "bin_start": 93.46,
            "bin_end": 96.89,
            "count": 81
           },
           {
            "bin_start": 96.89,
            "bin_end": 100.32,
            "count": 40
           },
           {
            "bin_start": 100.32,
            "bin_end": 103.75,
            "count": 24
           },
           {
            "bin_start": 103.75,
            "bin_end": 107.18,
            "count": 14
           },
           {
            "bin_start": 107.18,
            "bin_end": 110.61,
            "count": 15
           },
           {
            "bin_start": 110.61,
            "bin_end": 114.04,
            "count": 3
           },
           {
            "bin_start": 114.04,
            "bin_end": 117.47,
            "count": 6
           },
           {
            "bin_start": 117.47,
            "bin_end": 120.9,
            "count": 1
           }
          ]
         }
        },
        {
         "name": "length",
         "dtype": "float64",
         "stats": {
          "unique_count": 73,
          "nan_count": 0,
          "min": "0.6780394041326285",
          "max": "1.0",
          "histogram": [
           {
            "bin_start": 0.6780394041326285,
            "bin_end": 0.7102354637193656,
            "count": 3
           },
           {
            "bin_start": 0.7102354637193656,
            "bin_end": 0.7424315233061028,
            "count": 3
           },
           {
            "bin_start": 0.7424315233061028,
            "bin_end": 0.77462758289284,
            "count": 27
           },
           {
            "bin_start": 0.77462758289284,
            "bin_end": 0.8068236424795772,
            "count": 23
           },
           {
            "bin_start": 0.8068236424795772,
            "bin_end": 0.8390197020663143,
            "count": 54
           },
           {
            "bin_start": 0.8390197020663143,
            "bin_end": 0.8712157616530514,
            "count": 37
           },
           {
            "bin_start": 0.8712157616530514,
            "bin_end": 0.9034118212397886,
            "count": 23
           },
           {
            "bin_start": 0.9034118212397886,
            "bin_end": 0.9356078808265257,
            "count": 20
           },
           {
            "bin_start": 0.9356078808265257,
            "bin_end": 0.9678039404132628,
            "count": 8
           },
           {
            "bin_start": 0.9678039404132628,
            "bin_end": 1,
            "count": 3
           }
          ]
         }
        },
        {
         "name": "width",
         "dtype": "float64",
         "stats": {
          "unique_count": 43,
          "nan_count": 0,
          "min": "0.8374999999999999",
          "max": "1.0",
          "histogram": [
           {
            "bin_start": 0.8374999999999999,
            "bin_end": 0.8537499999999999,
            "count": 1
           },
           {
            "bin_start": 0.8537499999999999,
            "bin_end": 0.8699999999999999,
            "count": 2
           },
           {
            "bin_start": 0.8699999999999999,
            "bin_end": 0.88625,
            "count": 34
           },
           {
            "bin_start": 0.88625,
            "bin_end": 0.9025,
            "count": 36
           },
           {
            "bin_start": 0.9025,
            "bin_end": 0.91875,
            "count": 46
           },
           {
            "bin_start": 0.91875,
            "bin_end": 0.9349999999999999,
            "count": 43
           },
           {
            "bin_start": 0.9349999999999999,
            "bin_end": 0.9512499999999999,
            "count": 19
           },
           {
            "bin_start": 0.9512499999999999,
            "bin_end": 0.9675,
            "count": 7
           },
           {
            "bin_start": 0.9675,
            "bin_end": 0.98375,
            "count": 5
           },
           {
            "bin_start": 0.98375,
            "bin_end": 1,
            "count": 8
           }
          ]
         }
        },
        {
         "name": "height",
         "dtype": "float64",
         "stats": {
          "unique_count": 49,
          "nan_count": 0,
          "min": "47.8",
          "max": "59.8",
          "histogram": [
           {
            "bin_start": 47.8,
            "bin_end": 49,
            "count": 3
           },
           {
            "bin_start": 49,
            "bin_end": 50.199999999999996,
            "count": 9
           },
           {
            "bin_start": 50.199999999999996,
            "bin_end": 51.4,
            "count": 27
           },
           {
            "bin_start": 51.4,
            "bin_end": 52.599999999999994,
            "count": 22
           },
           {
            "bin_start": 52.599999999999994,
            "bin_end": 53.8,
            "count": 33
           },
           {
            "bin_start": 53.8,
            "bin_end": 55,
            "count": 41
           },
           {
            "bin_start": 55,
            "bin_end": 56.199999999999996,
            "count": 38
           },
           {
            "bin_start": 56.199999999999996,
            "bin_end": 57.4,
            "count": 15
           },
           {
            "bin_start": 57.4,
            "bin_end": 58.599999999999994,
            "count": 4
           },
           {
            "bin_start": 58.599999999999994,
            "bin_end": 59.8,
            "count": 9
           }
          ]
         }
        },
        {
         "name": "curb-weight",
         "dtype": "int64",
         "stats": {
          "unique_count": 169,
          "nan_count": 0,
          "min": "1488",
          "max": "4066",
          "histogram": [
           {
            "bin_start": 1488,
            "bin_end": 1745.8,
            "count": 2
           },
           {
            "bin_start": 1745.8,
            "bin_end": 2003.6,
            "count": 27
           },
           {
            "bin_start": 2003.6,
            "bin_end": 2261.4,
            "count": 33
           },
           {
            "bin_start": 2261.4,
            "bin_end": 2519.2,
            "count": 50
           },
           {
            "bin_start": 2519.2,
            "bin_end": 2777,
            "count": 25
           },
           {
            "bin_start": 2777,
            "bin_end": 3034.8,
            "count": 23
           },
           {
            "bin_start": 3034.8,
            "bin_end": 3292.6000000000004,
            "count": 25
           },
           {
            "bin_start": 3292.6000000000004,
            "bin_end": 3550.4,
            "count": 7
           },
           {
            "bin_start": 3550.4,
            "bin_end": 3808.2000000000003,
            "count": 5
           },
           {
            "bin_start": 3808.2000000000003,
            "bin_end": 4066,
            "count": 4
           }
          ]
         }
        },
        {
         "name": "engine-type",
         "dtype": "object",
         "stats": {
          "unique_count": 6,
          "nan_count": 0,
          "categories": [
           {
            "name": "ohc",
            "count": 145
           },
           {
            "name": "ohcf",
            "count": 15
           },
           {
            "name": "4 others",
            "count": 41
           }
          ]
         }
        },
        {
         "name": "num-of-cylinders",
         "dtype": "object",
         "stats": {
          "unique_count": 7,
          "nan_count": 0,
          "categories": [
           {
            "name": "four",
            "count": 157
           },
           {
            "name": "six",
            "count": 24
           },
           {
            "name": "5 others",
            "count": 20
           }
          ]
         }
        },
        {
         "name": "engine-size",
         "dtype": "int64",
         "stats": {
          "unique_count": 43,
          "nan_count": 0,
          "min": "61",
          "max": "326",
          "histogram": [
           {
            "bin_start": 61,
            "bin_end": 87.5,
            "count": 6
           },
           {
            "bin_start": 87.5,
            "bin_end": 114,
            "count": 93
           },
           {
            "bin_start": 114,
            "bin_end": 140.5,
            "count": 45
           },
           {
            "bin_start": 140.5,
            "bin_end": 167,
            "count": 30
           },
           {
            "bin_start": 167,
            "bin_end": 193.5,
            "count": 14
           },
           {
            "bin_start": 193.5,
            "bin_end": 220,
            "count": 6
           },
           {
            "bin_start": 220,
            "bin_end": 246.5,
            "count": 2
           },
           {
            "bin_start": 246.5,
            "bin_end": 273,
            "count": 2
           },
           {
            "bin_start": 273,
            "bin_end": 299.5,
            "count": 0
           },
           {
            "bin_start": 299.5,
            "bin_end": 326,
            "count": 3
           }
          ]
         }
        },
        {
         "name": "fuel-system",
         "dtype": "object",
         "stats": {
          "unique_count": 8,
          "nan_count": 0,
          "categories": [
           {
            "name": "mpfi",
            "count": 92
           },
           {
            "name": "2bbl",
            "count": 64
           },
           {
            "name": "6 others",
            "count": 45
           }
          ]
         }
        },
        {
         "name": "bore",
         "dtype": "float64",
         "stats": {
          "unique_count": 39,
          "nan_count": 0,
          "min": "2.54",
          "max": "3.94",
          "histogram": [
           {
            "bin_start": 2.54,
            "bin_end": 2.68,
            "count": 1
           },
           {
            "bin_start": 2.68,
            "bin_end": 2.82,
            "count": 1
           },
           {
            "bin_start": 2.82,
            "bin_end": 2.96,
            "count": 8
           },
           {
            "bin_start": 2.96,
            "bin_end": 3.1,
            "count": 35
           },
           {
            "bin_start": 3.1,
            "bin_end": 3.24,
            "count": 39
           },
           {
            "bin_start": 3.24,
            "bin_end": 3.38,
            "count": 28
           },
           {
            "bin_start": 3.38,
            "bin_end": 3.52,
            "count": 27
           },
           {
            "bin_start": 3.52,
            "bin_end": 3.66,
            "count": 42
           },
           {
            "bin_start": 3.66,
            "bin_end": 3.8,
            "count": 17
           },
           {
            "bin_start": 3.8,
            "bin_end": 3.94,
            "count": 3
           }
          ]
         }
        },
        {
         "name": "stroke",
         "dtype": "float64",
         "stats": {
          "unique_count": 36,
          "nan_count": 4,
          "min": "2.07",
          "max": "4.17",
          "histogram": [
           {
            "bin_start": 2.07,
            "bin_end": 2.28,
            "count": 3
           },
           {
            "bin_start": 2.28,
            "bin_end": 2.4899999999999998,
            "count": 1
           },
           {
            "bin_start": 2.4899999999999998,
            "bin_end": 2.7,
            "count": 13
           },
           {
            "bin_start": 2.7,
            "bin_end": 2.91,
            "count": 7
           },
           {
            "bin_start": 2.91,
            "bin_end": 3.12,
            "count": 27
           },
           {
            "bin_start": 3.12,
            "bin_end": 3.33,
            "count": 52
           },
           {
            "bin_start": 3.33,
            "bin_end": 3.54,
            "count": 70
           },
           {
            "bin_start": 3.54,
            "bin_end": 3.75,
            "count": 15
           },
           {
            "bin_start": 3.75,
            "bin_end": 3.96,
            "count": 7
           },
           {
            "bin_start": 3.96,
            "bin_end": 4.17,
            "count": 2
           }
          ]
         }
        },
        {
         "name": "compression-ratio",
         "dtype": "float64",
         "stats": {
          "unique_count": 32,
          "nan_count": 0,
          "min": "7.0",
          "max": "23.0",
          "histogram": [
           {
            "bin_start": 7,
            "bin_end": 8.6,
            "count": 50
           },
           {
            "bin_start": 8.6,
            "bin_end": 10.2,
            "count": 130
           },
           {
            "bin_start": 10.2,
            "bin_end": 11.8,
            "count": 1
           },
           {
            "bin_start": 11.8,
            "bin_end": 13.4,
            "count": 0
           },
           {
            "bin_start": 13.4,
            "bin_end": 15,
            "count": 0
           },
           {
            "bin_start": 15,
            "bin_end": 16.6,
            "count": 0
           },
           {
            "bin_start": 16.6,
            "bin_end": 18.200000000000003,
            "count": 0
           },
           {
            "bin_start": 18.200000000000003,
            "bin_end": 19.8,
            "count": 0
           },
           {
            "bin_start": 19.8,
            "bin_end": 21.4,
            "count": 5
           },
           {
            "bin_start": 21.4,
            "bin_end": 23,
            "count": 15
           }
          ]
         }
        },
        {
         "name": "horsepower",
         "dtype": "float64",
         "stats": {
          "unique_count": 59,
          "nan_count": 0,
          "min": "48.0",
          "max": "262.0",
          "histogram": [
           {
            "bin_start": 48,
            "bin_end": 69.4,
            "count": 44
           },
           {
            "bin_start": 69.4,
            "bin_end": 90.8,
            "count": 45
           },
           {
            "bin_start": 90.8,
            "bin_end": 112.19999999999999,
            "count": 48
           },
           {
            "bin_start": 112.19999999999999,
            "bin_end": 133.6,
            "count": 24
           },
           {
            "bin_start": 133.6,
            "bin_end": 155,
            "count": 14
           },
           {
            "bin_start": 155,
            "bin_end": 176.39999999999998,
            "count": 16
           },
           {
            "bin_start": 176.39999999999998,
            "bin_end": 197.79999999999998,
            "count": 5
           },
           {
            "bin_start": 197.79999999999998,
            "bin_end": 219.2,
            "count": 4
           },
           {
            "bin_start": 219.2,
            "bin_end": 240.6,
            "count": 0
           },
           {
            "bin_start": 240.6,
            "bin_end": 262,
            "count": 1
           }
          ]
         }
        },
        {
         "name": "peak-rpm",
         "dtype": "float64",
         "stats": {
          "unique_count": 23,
          "nan_count": 0,
          "min": "4150.0",
          "max": "6600.0",
          "histogram": [
           {
            "bin_start": 4150,
            "bin_end": 4395,
            "count": 17
           },
           {
            "bin_start": 4395,
            "bin_end": 4640,
            "count": 10
           },
           {
            "bin_start": 4640,
            "bin_end": 4885,
            "count": 41
           },
           {
            "bin_start": 4885,
            "bin_end": 5130,
            "count": 33
           },
           {
            "bin_start": 5130,
            "bin_end": 5375,
            "count": 31
           },
           {
            "bin_start": 5375,
            "bin_end": 5620,
            "count": 48
           },
           {
            "bin_start": 5620,
            "bin_end": 5865,
            "count": 7
           },
           {
            "bin_start": 5865,
            "bin_end": 6110,
            "count": 12
           },
           {
            "bin_start": 6110,
            "bin_end": 6355,
            "count": 0
           },
           {
            "bin_start": 6355,
            "bin_end": 6600,
            "count": 2
           }
          ]
         }
        },
        {
         "name": "city-mpg",
         "dtype": "int64",
         "stats": {
          "unique_count": 29,
          "nan_count": 0,
          "min": "13",
          "max": "49",
          "histogram": [
           {
            "bin_start": 13,
            "bin_end": 16.6,
            "count": 11
           },
           {
            "bin_start": 16.6,
            "bin_end": 20.2,
            "count": 45
           },
           {
            "bin_start": 20.2,
            "bin_end": 23.8,
            "count": 24
           },
           {
            "bin_start": 23.8,
            "bin_end": 27.4,
            "count": 56
           },
           {
            "bin_start": 27.4,
            "bin_end": 31,
            "count": 18
           },
           {
            "bin_start": 31,
            "bin_end": 34.6,
            "count": 31
           },
           {
            "bin_start": 34.6,
            "bin_end": 38.2,
            "count": 13
           },
           {
            "bin_start": 38.2,
            "bin_end": 41.8,
            "count": 0
           },
           {
            "bin_start": 41.8,
            "bin_end": 45.4,
            "count": 1
           },
           {
            "bin_start": 45.4,
            "bin_end": 49,
            "count": 2
           }
          ]
         }
        },
        {
         "name": "highway-mpg",
         "dtype": "int64",
         "stats": {
          "unique_count": 30,
          "nan_count": 0,
          "min": "16",
          "max": "54",
          "histogram": [
           {
            "bin_start": 16,
            "bin_end": 19.8,
            "count": 7
           },
           {
            "bin_start": 19.8,
            "bin_end": 23.6,
            "count": 16
           },
           {
            "bin_start": 23.6,
            "bin_end": 27.4,
            "count": 44
           },
           {
            "bin_start": 27.4,
            "bin_end": 31.2,
            "count": 46
           },
           {
            "bin_start": 31.2,
            "bin_end": 35,
            "count": 39
           },
           {
            "bin_start": 35,
            "bin_end": 38.8,
            "count": 32
           },
           {
            "bin_start": 38.8,
            "bin_end": 42.599999999999994,
            "count": 8
           },
           {
            "bin_start": 42.599999999999994,
            "bin_end": 46.4,
            "count": 4
           },
           {
            "bin_start": 46.4,
            "bin_end": 50.199999999999996,
            "count": 3
           },
           {
            "bin_start": 50.199999999999996,
            "bin_end": 54,
            "count": 2
           }
          ]
         }
        },
        {
         "name": "price",
         "dtype": "float64",
         "stats": {
          "unique_count": 186,
          "nan_count": 0,
          "min": "5118.0",
          "max": "45400.0",
          "histogram": [
           {
            "bin_start": 5118,
            "bin_end": 9146.2,
            "count": 81
           },
           {
            "bin_start": 9146.2,
            "bin_end": 13174.4,
            "count": 45
           },
           {
            "bin_start": 13174.4,
            "bin_end": 17202.6,
            "count": 35
           },
           {
            "bin_start": 17202.6,
            "bin_end": 21230.8,
            "count": 17
           },
           {
            "bin_start": 21230.8,
            "bin_end": 25259,
            "count": 6
           },
           {
            "bin_start": 25259,
            "bin_end": 29287.199999999997,
            "count": 3
           },
           {
            "bin_start": 29287.199999999997,
            "bin_end": 33315.399999999994,
            "count": 4
           },
           {
            "bin_start": 33315.399999999994,
            "bin_end": 37343.6,
            "count": 7
           },
           {
            "bin_start": 37343.6,
            "bin_end": 41371.799999999996,
            "count": 2
           },
           {
            "bin_start": 41371.799999999996,
            "bin_end": 45400,
            "count": 1
           }
          ]
         }
        },
        {
         "name": "city-L/100km",
         "dtype": "float64",
         "stats": {
          "unique_count": 29,
          "nan_count": 0,
          "min": "4.795918367346938",
          "max": "18.07692307692308",
          "histogram": [
           {
            "bin_start": 4.795918367346938,
            "bin_end": 6.124018838304552,
            "count": 3
           },
           {
            "bin_start": 6.124018838304552,
            "bin_end": 7.452119309262166,
            "count": 16
           },
           {
            "bin_start": 7.452119309262166,
            "bin_end": 8.780219780219781,
            "count": 60
           },
           {
            "bin_start": 8.780219780219781,
            "bin_end": 10.108320251177394,
            "count": 42
           },
           {
            "bin_start": 10.108320251177394,
            "bin_end": 11.436420722135008,
            "count": 24
           },
           {
            "bin_start": 11.436420722135008,
            "bin_end": 12.764521193092623,
            "count": 30
           },
           {
            "bin_start": 12.764521193092623,
            "bin_end": 14.092621664050238,
            "count": 15
           },
           {
            "bin_start": 14.092621664050238,
            "bin_end": 15.42072213500785,
            "count": 5
           },
           {
            "bin_start": 15.42072213500785,
            "bin_end": 16.748822605965465,
            "count": 3
           },
           {
            "bin_start": 16.748822605965465,
            "bin_end": 18.07692307692308,
            "count": 3
           }
          ]
         }
        },
        {
         "name": "horsepower-binned",
         "dtype": "object",
         "stats": {
          "unique_count": 3,
          "nan_count": 1,
          "categories": [
           {
            "name": "Low",
            "count": 115
           },
           {
            "name": "2 others",
            "count": 85
           },
           {
            "name": "Missing",
            "count": 1
           }
          ]
         }
        },
        {
         "name": "diesel",
         "dtype": "int64",
         "stats": {
          "unique_count": 2,
          "nan_count": 0,
          "min": "0",
          "max": "1",
          "histogram": [
           {
            "bin_start": 0,
            "bin_end": 0.1,
            "count": 181
           },
           {
            "bin_start": 0.1,
            "bin_end": 0.2,
            "count": 0
           },
           {
            "bin_start": 0.2,
            "bin_end": 0.30000000000000004,
            "count": 0
           },
           {
            "bin_start": 0.30000000000000004,
            "bin_end": 0.4,
            "count": 0
           },
           {
            "bin_start": 0.4,
            "bin_end": 0.5,
            "count": 0
           },
           {
            "bin_start": 0.5,
            "bin_end": 0.6000000000000001,
            "count": 0
           },
           {
            "bin_start": 0.6000000000000001,
            "bin_end": 0.7000000000000001,
            "count": 0
           },
           {
            "bin_start": 0.7000000000000001,
            "bin_end": 0.8,
            "count": 0
           },
           {
            "bin_start": 0.8,
            "bin_end": 0.9,
            "count": 0
           },
           {
            "bin_start": 0.9,
            "bin_end": 1,
            "count": 20
           }
          ]
         }
        },
        {
         "name": "gas",
         "dtype": "int64",
         "stats": {
          "unique_count": 2,
          "nan_count": 0,
          "min": "0",
          "max": "1",
          "histogram": [
           {
            "bin_start": 0,
            "bin_end": 0.1,
            "count": 20
           },
           {
            "bin_start": 0.1,
            "bin_end": 0.2,
            "count": 0
           },
           {
            "bin_start": 0.2,
            "bin_end": 0.30000000000000004,
            "count": 0
           },
           {
            "bin_start": 0.30000000000000004,
            "bin_end": 0.4,
            "count": 0
           },
           {
            "bin_start": 0.4,
            "bin_end": 0.5,
            "count": 0
           },
           {
            "bin_start": 0.5,
            "bin_end": 0.6000000000000001,
            "count": 0
           },
           {
            "bin_start": 0.6000000000000001,
            "bin_end": 0.7000000000000001,
            "count": 0
           },
           {
            "bin_start": 0.7000000000000001,
            "bin_end": 0.8,
            "count": 0
           },
           {
            "bin_start": 0.8,
            "bin_end": 0.9,
            "count": 0
           },
           {
            "bin_start": 0.9,
            "bin_end": 1,
            "count": 181
           }
          ]
         }
        },
        {
         "name": "_deepnote_index_column",
         "dtype": "int64"
        }
       ],
       "rows": [
        {
         "Unnamed: 0": 0,
         "Unnamed: 0.1": 0,
         "symboling": 3,
         "normalized-losses": 122,
         "make": "alfa-romero",
         "aspiration": "std",
         "num-of-doors": "two",
         "body-style": "convertible",
         "drive-wheels": "rwd",
         "engine-location": "front",
         "wheel-base": 88.6,
         "length": 0.8111484863046613,
         "width": 0.8902777777777777,
         "height": 48.8,
         "curb-weight": 2548,
         "engine-type": "dohc",
         "num-of-cylinders": "four",
         "engine-size": 130,
         "fuel-system": "mpfi",
         "bore": 3.47,
         "stroke": 2.68,
         "compression-ratio": 9,
         "horsepower": 111,
         "peak-rpm": 5000,
         "city-mpg": 21,
         "highway-mpg": 27,
         "price": 13495,
         "city-L/100km": 11.190476190476188,
         "horsepower-binned": "Medium",
         "diesel": 0,
         "gas": 1,
         "_deepnote_index_column": 0
        },
        {
         "Unnamed: 0": 1,
         "Unnamed: 0.1": 1,
         "symboling": 3,
         "normalized-losses": 122,
         "make": "alfa-romero",
         "aspiration": "std",
         "num-of-doors": "two",
         "body-style": "convertible",
         "drive-wheels": "rwd",
         "engine-location": "front",
         "wheel-base": 88.6,
         "length": 0.8111484863046613,
         "width": 0.8902777777777777,
         "height": 48.8,
         "curb-weight": 2548,
         "engine-type": "dohc",
         "num-of-cylinders": "four",
         "engine-size": 130,
         "fuel-system": "mpfi",
         "bore": 3.47,
         "stroke": 2.68,
         "compression-ratio": 9,
         "horsepower": 111,
         "peak-rpm": 5000,
         "city-mpg": 21,
         "highway-mpg": 27,
         "price": 16500,
         "city-L/100km": 11.190476190476188,
         "horsepower-binned": "Medium",
         "diesel": 0,
         "gas": 1,
         "_deepnote_index_column": 1
        },
        {
         "Unnamed: 0": 2,
         "Unnamed: 0.1": 2,
         "symboling": 1,
         "normalized-losses": 122,
         "make": "alfa-romero",
         "aspiration": "std",
         "num-of-doors": "two",
         "body-style": "hatchback",
         "drive-wheels": "rwd",
         "engine-location": "front",
         "wheel-base": 94.5,
         "length": 0.8226814031715521,
         "width": 0.9097222222222222,
         "height": 52.4,
         "curb-weight": 2823,
         "engine-type": "ohcv",
         "num-of-cylinders": "six",
         "engine-size": 152,
         "fuel-system": "mpfi",
         "bore": 2.68,
         "stroke": 3.47,
         "compression-ratio": 9,
         "horsepower": 154,
         "peak-rpm": 5000,
         "city-mpg": 19,
         "highway-mpg": 26,
         "price": 16500,
         "city-L/100km": 12.36842105263158,
         "horsepower-binned": "Medium",
         "diesel": 0,
         "gas": 1,
         "_deepnote_index_column": 2
        },
        {
         "Unnamed: 0": 3,
         "Unnamed: 0.1": 3,
         "symboling": 2,
         "normalized-losses": 164,
         "make": "audi",
         "aspiration": "std",
         "num-of-doors": "four",
         "body-style": "sedan",
         "drive-wheels": "fwd",
         "engine-location": "front",
         "wheel-base": 99.8,
         "length": 0.8486304661220567,
         "width": 0.9194444444444444,
         "height": 54.3,
         "curb-weight": 2337,
         "engine-type": "ohc",
         "num-of-cylinders": "four",
         "engine-size": 109,
         "fuel-system": "mpfi",
         "bore": 3.19,
         "stroke": 3.4,
         "compression-ratio": 10,
         "horsepower": 102,
         "peak-rpm": 5500,
         "city-mpg": 24,
         "highway-mpg": 30,
         "price": 13950,
         "city-L/100km": 9.791666666666666,
         "horsepower-binned": "Medium",
         "diesel": 0,
         "gas": 1,
         "_deepnote_index_column": 3
        },
        {
         "Unnamed: 0": 4,
         "Unnamed: 0.1": 4,
         "symboling": 2,
         "normalized-losses": 164,
         "make": "audi",
         "aspiration": "std",
         "num-of-doors": "four",
         "body-style": "sedan",
         "drive-wheels": "4wd",
         "engine-location": "front",
         "wheel-base": 99.4,
         "length": 0.8486304661220567,
         "width": 0.9222222222222224,
         "height": 54.3,
         "curb-weight": 2824,
         "engine-type": "ohc",
         "num-of-cylinders": "five",
         "engine-size": 136,
         "fuel-system": "mpfi",
         "bore": 3.19,
         "stroke": 3.4,
         "compression-ratio": 8,
         "horsepower": 115,
         "peak-rpm": 5500,
         "city-mpg": 18,
         "highway-mpg": 22,
         "price": 17450,
         "city-L/100km": 13.055555555555555,
         "horsepower-binned": "Medium",
         "diesel": 0,
         "gas": 1,
         "_deepnote_index_column": 4
        },
        {
         "Unnamed: 0": 5,
         "Unnamed: 0.1": 5,
         "symboling": 2,
         "normalized-losses": 122,
         "make": "audi",
         "aspiration": "std",
         "num-of-doors": "two",
         "body-style": "sedan",
         "drive-wheels": "fwd",
         "engine-location": "front",
         "wheel-base": 99.8,
         "length": 0.8519942335415667,
         "width": 0.9208333333333332,
         "height": 53.1,
         "curb-weight": 2507,
         "engine-type": "ohc",
         "num-of-cylinders": "five",
         "engine-size": 136,
         "fuel-system": "mpfi",
         "bore": 3.19,
         "stroke": 3.4,
         "compression-ratio": 8.5,
         "horsepower": 110,
         "peak-rpm": 5500,
         "city-mpg": 19,
         "highway-mpg": 25,
         "price": 15250,
         "city-L/100km": 12.36842105263158,
         "horsepower-binned": "Medium",
         "diesel": 0,
         "gas": 1,
         "_deepnote_index_column": 5
        },
        {
         "Unnamed: 0": 6,
         "Unnamed: 0.1": 6,
         "symboling": 1,
         "normalized-losses": 158,
         "make": "audi",
         "aspiration": "std",
         "num-of-doors": "four",
         "body-style": "sedan",
         "drive-wheels": "fwd",
         "engine-location": "front",
         "wheel-base": 105.8,
         "length": 0.9259971167707832,
         "width": 0.9916666666666668,
         "height": 55.7,
         "curb-weight": 2844,
         "engine-type": "ohc",
         "num-of-cylinders": "five",
         "engine-size": 136,
         "fuel-system": "mpfi",
         "bore": 3.19,
         "stroke": 3.4,
         "compression-ratio": 8.5,
         "horsepower": 110,
         "peak-rpm": 5500,
         "city-mpg": 19,
         "highway-mpg": 25,
         "price": 17710,
         "city-L/100km": 12.36842105263158,
         "horsepower-binned": "Medium",
         "diesel": 0,
         "gas": 1,
         "_deepnote_index_column": 6
        },
        {
         "Unnamed: 0": 7,
         "Unnamed: 0.1": 7,
         "symboling": 1,
         "normalized-losses": 122,
         "make": "audi",
         "aspiration": "std",
         "num-of-doors": "four",
         "body-style": "wagon",
         "drive-wheels": "fwd",
         "engine-location": "front",
         "wheel-base": 105.8,
         "length": 0.9259971167707832,
         "width": 0.9916666666666668,
         "height": 55.7,
         "curb-weight": 2954,
         "engine-type": "ohc",
         "num-of-cylinders": "five",
         "engine-size": 136,
         "fuel-system": "mpfi",
         "bore": 3.19,
         "stroke": 3.4,
         "compression-ratio": 8.5,
         "horsepower": 110,
         "peak-rpm": 5500,
         "city-mpg": 19,
         "highway-mpg": 25,
         "price": 18920,
         "city-L/100km": 12.36842105263158,
         "horsepower-binned": "Medium",
         "diesel": 0,
         "gas": 1,
         "_deepnote_index_column": 7
        },
        {
         "Unnamed: 0": 8,
         "Unnamed: 0.1": 8,
         "symboling": 1,
         "normalized-losses": 158,
         "make": "audi",
         "aspiration": "turbo",
         "num-of-doors": "four",
         "body-style": "sedan",
         "drive-wheels": "fwd",
         "engine-location": "front",
         "wheel-base": 105.8,
         "length": 0.9259971167707832,
         "width": 0.9916666666666668,
         "height": 55.9,
         "curb-weight": 3086,
         "engine-type": "ohc",
         "num-of-cylinders": "five",
         "engine-size": 131,
         "fuel-system": "mpfi",
         "bore": 3.13,
         "stroke": 3.4,
         "compression-ratio": 8.3,
         "horsepower": 140,
         "peak-rpm": 5500,
         "city-mpg": 17,
         "highway-mpg": 20,
         "price": 23875,
         "city-L/100km": 13.823529411764708,
         "horsepower-binned": "Medium",
         "diesel": 0,
         "gas": 1,
         "_deepnote_index_column": 8
        },
        {
         "Unnamed: 0": 9,
         "Unnamed: 0.1": 9,
         "symboling": 2,
         "normalized-losses": 192,
         "make": "bmw",
         "aspiration": "std",
         "num-of-doors": "two",
         "body-style": "sedan",
         "drive-wheels": "rwd",
         "engine-location": "front",
         "wheel-base": 101.2,
         "length": 0.8495915425276309,
         "width": 0.8999999999999999,
         "height": 54.3,
         "curb-weight": 2395,
         "engine-type": "ohc",
         "num-of-cylinders": "four",
         "engine-size": 108,
         "fuel-system": "mpfi",
         "bore": 3.5,
         "stroke": 2.8,
         "compression-ratio": 8.8,
         "horsepower": 101,
         "peak-rpm": 5800,
         "city-mpg": 23,
         "highway-mpg": 29,
         "price": 16430,
         "city-L/100km": 10.217391304347826,
         "horsepower-binned": "Low",
         "diesel": 0,
         "gas": 1,
         "_deepnote_index_column": 9
        }
       ]
      },
      "text/plain": "     Unnamed: 0  Unnamed: 0.1  symboling  normalized-losses         make  \\\n0             0             0          3                122  alfa-romero   \n1             1             1          3                122  alfa-romero   \n2             2             2          1                122  alfa-romero   \n3             3             3          2                164         audi   \n4             4             4          2                164         audi   \n..          ...           ...        ...                ...          ...   \n196         196           196         -1                 95        volvo   \n197         197           197         -1                 95        volvo   \n198         198           198         -1                 95        volvo   \n199         199           199         -1                 95        volvo   \n200         200           200         -1                 95        volvo   \n\n    aspiration num-of-doors   body-style drive-wheels engine-location  ...  \\\n0          std          two  convertible          rwd           front  ...   \n1          std          two  convertible          rwd           front  ...   \n2          std          two    hatchback          rwd           front  ...   \n3          std         four        sedan          fwd           front  ...   \n4          std         four        sedan          4wd           front  ...   \n..         ...          ...          ...          ...             ...  ...   \n196        std         four        sedan          rwd           front  ...   \n197      turbo         four        sedan          rwd           front  ...   \n198        std         four        sedan          rwd           front  ...   \n199      turbo         four        sedan          rwd           front  ...   \n200      turbo         four        sedan          rwd           front  ...   \n\n     compression-ratio  horsepower  peak-rpm  city-mpg  highway-mpg    price  \\\n0                  9.0       111.0    5000.0        21           27  13495.0   \n1                  9.0       111.0    5000.0        21           27  16500.0   \n2                  9.0       154.0    5000.0        19           26  16500.0   \n3                 10.0       102.0    5500.0        24           30  13950.0   \n4                  8.0       115.0    5500.0        18           22  17450.0   \n..                 ...         ...       ...       ...          ...      ...   \n196                9.5       114.0    5400.0        23           28  16845.0   \n197                8.7       160.0    5300.0        19           25  19045.0   \n198                8.8       134.0    5500.0        18           23  21485.0   \n199               23.0       106.0    4800.0        26           27  22470.0   \n200                9.5       114.0    5400.0        19           25  22625.0   \n\n    city-L/100km  horsepower-binned diesel  gas  \n0      11.190476             Medium      0    1  \n1      11.190476             Medium      0    1  \n2      12.368421             Medium      0    1  \n3       9.791667             Medium      0    1  \n4      13.055556             Medium      0    1  \n..           ...                ...    ...  ...  \n196    10.217391             Medium      0    1  \n197    12.368421               High      0    1  \n198    13.055556             Medium      0    1  \n199     9.038462             Medium      1    0  \n200    12.368421             Medium      0    1  \n\n[201 rows x 31 columns]",
      "text/html": "<div>\n<style scoped>\n    .dataframe tbody tr th:only-of-type {\n        vertical-align: middle;\n    }\n\n    .dataframe tbody tr th {\n        vertical-align: top;\n    }\n\n    .dataframe thead th {\n        text-align: right;\n    }\n</style>\n<table border=\"1\" class=\"dataframe\">\n  <thead>\n    <tr style=\"text-align: right;\">\n      <th></th>\n      <th>Unnamed: 0</th>\n      <th>Unnamed: 0.1</th>\n      <th>symboling</th>\n      <th>normalized-losses</th>\n      <th>make</th>\n      <th>aspiration</th>\n      <th>num-of-doors</th>\n      <th>body-style</th>\n      <th>drive-wheels</th>\n      <th>engine-location</th>\n      <th>...</th>\n      <th>compression-ratio</th>\n      <th>horsepower</th>\n      <th>peak-rpm</th>\n      <th>city-mpg</th>\n      <th>highway-mpg</th>\n      <th>price</th>\n      <th>city-L/100km</th>\n      <th>horsepower-binned</th>\n      <th>diesel</th>\n      <th>gas</th>\n    </tr>\n  </thead>\n  <tbody>\n    <tr>\n      <th>0</th>\n      <td>0</td>\n      <td>0</td>\n      <td>3</td>\n      <td>122</td>\n      <td>alfa-romero</td>\n      <td>std</td>\n      <td>two</td>\n      <td>convertible</td>\n      <td>rwd</td>\n      <td>front</td>\n      <td>...</td>\n      <td>9.0</td>\n      <td>111.0</td>\n      <td>5000.0</td>\n      <td>21</td>\n      <td>27</td>\n      <td>13495.0</td>\n      <td>11.190476</td>\n      <td>Medium</td>\n      <td>0</td>\n      <td>1</td>\n    </tr>\n    <tr>\n      <th>1</th>\n      <td>1</td>\n      <td>1</td>\n      <td>3</td>\n      <td>122</td>\n      <td>alfa-romero</td>\n      <td>std</td>\n      <td>two</td>\n      <td>convertible</td>\n      <td>rwd</td>\n      <td>front</td>\n      <td>...</td>\n      <td>9.0</td>\n      <td>111.0</td>\n      <td>5000.0</td>\n      <td>21</td>\n      <td>27</td>\n      <td>16500.0</td>\n      <td>11.190476</td>\n      <td>Medium</td>\n      <td>0</td>\n      <td>1</td>\n    </tr>\n    <tr>\n      <th>2</th>\n      <td>2</td>\n      <td>2</td>\n      <td>1</td>\n      <td>122</td>\n      <td>alfa-romero</td>\n      <td>std</td>\n      <td>two</td>\n      <td>hatchback</td>\n      <td>rwd</td>\n      <td>front</td>\n      <td>...</td>\n      <td>9.0</td>\n      <td>154.0</td>\n      <td>5000.0</td>\n      <td>19</td>\n      <td>26</td>\n      <td>16500.0</td>\n      <td>12.368421</td>\n      <td>Medium</td>\n      <td>0</td>\n      <td>1</td>\n    </tr>\n    <tr>\n      <th>3</th>\n      <td>3</td>\n      <td>3</td>\n      <td>2</td>\n      <td>164</td>\n      <td>audi</td>\n      <td>std</td>\n      <td>four</td>\n      <td>sedan</td>\n      <td>fwd</td>\n      <td>front</td>\n      <td>...</td>\n      <td>10.0</td>\n      <td>102.0</td>\n      <td>5500.0</td>\n      <td>24</td>\n      <td>30</td>\n      <td>13950.0</td>\n      <td>9.791667</td>\n      <td>Medium</td>\n      <td>0</td>\n      <td>1</td>\n    </tr>\n    <tr>\n      <th>4</th>\n      <td>4</td>\n      <td>4</td>\n      <td>2</td>\n      <td>164</td>\n      <td>audi</td>\n      <td>std</td>\n      <td>four</td>\n      <td>sedan</td>\n      <td>4wd</td>\n      <td>front</td>\n      <td>...</td>\n      <td>8.0</td>\n      <td>115.0</td>\n      <td>5500.0</td>\n      <td>18</td>\n      <td>22</td>\n      <td>17450.0</td>\n      <td>13.055556</td>\n      <td>Medium</td>\n      <td>0</td>\n      <td>1</td>\n    </tr>\n    <tr>\n      <th>...</th>\n      <td>...</td>\n      <td>...</td>\n      <td>...</td>\n      <td>...</td>\n      <td>...</td>\n      <td>...</td>\n      <td>...</td>\n      <td>...</td>\n      <td>...</td>\n      <td>...</td>\n      <td>...</td>\n      <td>...</td>\n      <td>...</td>\n      <td>...</td>\n      <td>...</td>\n      <td>...</td>\n      <td>...</td>\n      <td>...</td>\n      <td>...</td>\n      <td>...</td>\n      <td>...</td>\n    </tr>\n    <tr>\n      <th>196</th>\n      <td>196</td>\n      <td>196</td>\n      <td>-1</td>\n      <td>95</td>\n      <td>volvo</td>\n      <td>std</td>\n      <td>four</td>\n      <td>sedan</td>\n      <td>rwd</td>\n      <td>front</td>\n      <td>...</td>\n      <td>9.5</td>\n      <td>114.0</td>\n      <td>5400.0</td>\n      <td>23</td>\n      <td>28</td>\n      <td>16845.0</td>\n      <td>10.217391</td>\n      <td>Medium</td>\n      <td>0</td>\n      <td>1</td>\n    </tr>\n    <tr>\n      <th>197</th>\n      <td>197</td>\n      <td>197</td>\n      <td>-1</td>\n      <td>95</td>\n      <td>volvo</td>\n      <td>turbo</td>\n      <td>four</td>\n      <td>sedan</td>\n      <td>rwd</td>\n      <td>front</td>\n      <td>...</td>\n      <td>8.7</td>\n      <td>160.0</td>\n      <td>5300.0</td>\n      <td>19</td>\n      <td>25</td>\n      <td>19045.0</td>\n      <td>12.368421</td>\n      <td>High</td>\n      <td>0</td>\n      <td>1</td>\n    </tr>\n    <tr>\n      <th>198</th>\n      <td>198</td>\n      <td>198</td>\n      <td>-1</td>\n      <td>95</td>\n      <td>volvo</td>\n      <td>std</td>\n      <td>four</td>\n      <td>sedan</td>\n      <td>rwd</td>\n      <td>front</td>\n      <td>...</td>\n      <td>8.8</td>\n      <td>134.0</td>\n      <td>5500.0</td>\n      <td>18</td>\n      <td>23</td>\n      <td>21485.0</td>\n      <td>13.055556</td>\n      <td>Medium</td>\n      <td>0</td>\n      <td>1</td>\n    </tr>\n    <tr>\n      <th>199</th>\n      <td>199</td>\n      <td>199</td>\n      <td>-1</td>\n      <td>95</td>\n      <td>volvo</td>\n      <td>turbo</td>\n      <td>four</td>\n      <td>sedan</td>\n      <td>rwd</td>\n      <td>front</td>\n      <td>...</td>\n      <td>23.0</td>\n      <td>106.0</td>\n      <td>4800.0</td>\n      <td>26</td>\n      <td>27</td>\n      <td>22470.0</td>\n      <td>9.038462</td>\n      <td>Medium</td>\n      <td>1</td>\n      <td>0</td>\n    </tr>\n    <tr>\n      <th>200</th>\n      <td>200</td>\n      <td>200</td>\n      <td>-1</td>\n      <td>95</td>\n      <td>volvo</td>\n      <td>turbo</td>\n      <td>four</td>\n      <td>sedan</td>\n      <td>rwd</td>\n      <td>front</td>\n      <td>...</td>\n      <td>9.5</td>\n      <td>114.0</td>\n      <td>5400.0</td>\n      <td>19</td>\n      <td>25</td>\n      <td>22625.0</td>\n      <td>12.368421</td>\n      <td>Medium</td>\n      <td>0</td>\n      <td>1</td>\n    </tr>\n  </tbody>\n</table>\n<p>201 rows × 31 columns</p>\n</div>"
     },
     "metadata": {}
    }
   ]
  },
  {
   "cell_type": "code",
   "metadata": {
    "cell_id": "d2ec4ae7dddb4425b3192f8bf75197b6",
    "tags": [],
    "deepnote_to_be_reexecuted": false,
    "source_hash": "192fa655",
    "execution_start": 1648045739959,
    "execution_millis": 46,
    "deepnote_cell_type": "code",
    "deepnote_cell_height": 442.59375
   },
   "source": "# get only the numerical columns\ndf_cars = df_cars._get_numeric_data()\ndf_cars.head()",
   "execution_count": 7,
   "outputs": [
    {
     "output_type": "execute_result",
     "execution_count": 7,
     "data": {
      "application/vnd.deepnote.dataframe.v3+json": {
       "column_count": 21,
       "row_count": 5,
       "columns": [
        {
         "name": "Unnamed: 0",
         "dtype": "int64",
         "stats": {
          "unique_count": 5,
          "nan_count": 0,
          "min": "0",
          "max": "4",
          "histogram": [
           {
            "bin_start": 0,
            "bin_end": 0.4,
            "count": 1
           },
           {
            "bin_start": 0.4,
            "bin_end": 0.8,
            "count": 0
           },
           {
            "bin_start": 0.8,
            "bin_end": 1.2000000000000002,
            "count": 1
           },
           {
            "bin_start": 1.2000000000000002,
            "bin_end": 1.6,
            "count": 0
           },
           {
            "bin_start": 1.6,
            "bin_end": 2,
            "count": 0
           },
           {
            "bin_start": 2,
            "bin_end": 2.4000000000000004,
            "count": 1
           },
           {
            "bin_start": 2.4000000000000004,
            "bin_end": 2.8000000000000003,
            "count": 0
           },
           {
            "bin_start": 2.8000000000000003,
            "bin_end": 3.2,
            "count": 1
           },
           {
            "bin_start": 3.2,
            "bin_end": 3.6,
            "count": 0
           },
           {
            "bin_start": 3.6,
            "bin_end": 4,
            "count": 1
           }
          ]
         }
        },
        {
         "name": "Unnamed: 0.1",
         "dtype": "int64",
         "stats": {
          "unique_count": 5,
          "nan_count": 0,
          "min": "0",
          "max": "4",
          "histogram": [
           {
            "bin_start": 0,
            "bin_end": 0.4,
            "count": 1
           },
           {
            "bin_start": 0.4,
            "bin_end": 0.8,
            "count": 0
           },
           {
            "bin_start": 0.8,
            "bin_end": 1.2000000000000002,
            "count": 1
           },
           {
            "bin_start": 1.2000000000000002,
            "bin_end": 1.6,
            "count": 0
           },
           {
            "bin_start": 1.6,
            "bin_end": 2,
            "count": 0
           },
           {
            "bin_start": 2,
            "bin_end": 2.4000000000000004,
            "count": 1
           },
           {
            "bin_start": 2.4000000000000004,
            "bin_end": 2.8000000000000003,
            "count": 0
           },
           {
            "bin_start": 2.8000000000000003,
            "bin_end": 3.2,
            "count": 1
           },
           {
            "bin_start": 3.2,
            "bin_end": 3.6,
            "count": 0
           },
           {
            "bin_start": 3.6,
            "bin_end": 4,
            "count": 1
           }
          ]
         }
        },
        {
         "name": "symboling",
         "dtype": "int64",
         "stats": {
          "unique_count": 3,
          "nan_count": 0,
          "min": "1",
          "max": "3",
          "histogram": [
           {
            "bin_start": 1,
            "bin_end": 1.2,
            "count": 1
           },
           {
            "bin_start": 1.2,
            "bin_end": 1.4,
            "count": 0
           },
           {
            "bin_start": 1.4,
            "bin_end": 1.6,
            "count": 0
           },
           {
            "bin_start": 1.6,
            "bin_end": 1.8,
            "count": 0
           },
           {
            "bin_start": 1.8,
            "bin_end": 2,
            "count": 0
           },
           {
            "bin_start": 2,
            "bin_end": 2.2,
            "count": 2
           },
           {
            "bin_start": 2.2,
            "bin_end": 2.4000000000000004,
            "count": 0
           },
           {
            "bin_start": 2.4000000000000004,
            "bin_end": 2.6,
            "count": 0
           },
           {
            "bin_start": 2.6,
            "bin_end": 2.8,
            "count": 0
           },
           {
            "bin_start": 2.8,
            "bin_end": 3,
            "count": 2
           }
          ]
         }
        },
        {
         "name": "normalized-losses",
         "dtype": "int64",
         "stats": {
          "unique_count": 2,
          "nan_count": 0,
          "min": "122",
          "max": "164",
          "histogram": [
           {
            "bin_start": 122,
            "bin_end": 126.2,
            "count": 3
           },
           {
            "bin_start": 126.2,
            "bin_end": 130.4,
            "count": 0
           },
           {
            "bin_start": 130.4,
            "bin_end": 134.6,
            "count": 0
           },
           {
            "bin_start": 134.6,
            "bin_end": 138.8,
            "count": 0
           },
           {
            "bin_start": 138.8,
            "bin_end": 143,
            "count": 0
           },
           {
            "bin_start": 143,
            "bin_end": 147.2,
            "count": 0
           },
           {
            "bin_start": 147.2,
            "bin_end": 151.4,
            "count": 0
           },
           {
            "bin_start": 151.4,
            "bin_end": 155.6,
            "count": 0
           },
           {
            "bin_start": 155.6,
            "bin_end": 159.8,
            "count": 0
           },
           {
            "bin_start": 159.8,
            "bin_end": 164,
            "count": 2
           }
          ]
         }
        },
        {
         "name": "wheel-base",
         "dtype": "float64",
         "stats": {
          "unique_count": 4,
          "nan_count": 0,
          "min": "88.6",
          "max": "99.8",
          "histogram": [
           {
            "bin_start": 88.6,
            "bin_end": 89.72,
            "count": 2
           },
           {
            "bin_start": 89.72,
            "bin_end": 90.83999999999999,
            "count": 0
           },
           {
            "bin_start": 90.83999999999999,
            "bin_end": 91.96,
            "count": 0
           },
           {
            "bin_start": 91.96,
            "bin_end": 93.08,
            "count": 0
           },
           {
            "bin_start": 93.08,
            "bin_end": 94.19999999999999,
            "count": 0
           },
           {
            "bin_start": 94.19999999999999,
            "bin_end": 95.32,
            "count": 1
           },
           {
            "bin_start": 95.32,
            "bin_end": 96.44,
            "count": 0
           },
           {
            "bin_start": 96.44,
            "bin_end": 97.56,
            "count": 0
           },
           {
            "bin_start": 97.56,
            "bin_end": 98.67999999999999,
            "count": 0
           },
           {
            "bin_start": 98.67999999999999,
            "bin_end": 99.8,
            "count": 2
           }
          ]
         }
        },
        {
         "name": "length",
         "dtype": "float64",
         "stats": {
          "unique_count": 3,
          "nan_count": 0,
          "min": "0.8111484863046613",
          "max": "0.8486304661220567",
          "histogram": [
           {
            "bin_start": 0.8111484863046613,
            "bin_end": 0.8148966842864008,
            "count": 2
           },
           {
            "bin_start": 0.8148966842864008,
            "bin_end": 0.8186448822681404,
            "count": 0
           },
           {
            "bin_start": 0.8186448822681404,
            "bin_end": 0.8223930802498799,
            "count": 0
           },
           {
            "bin_start": 0.8223930802498799,
            "bin_end": 0.8261412782316194,
            "count": 1
           },
           {
            "bin_start": 0.8261412782316194,
            "bin_end": 0.8298894762133591,
            "count": 0
           },
           {
            "bin_start": 0.8298894762133591,
            "bin_end": 0.8336376741950986,
            "count": 0
           },
           {
            "bin_start": 0.8336376741950986,
            "bin_end": 0.8373858721768381,
            "count": 0
           },
           {
            "bin_start": 0.8373858721768381,
            "bin_end": 0.8411340701585777,
            "count": 0
           },
           {
            "bin_start": 0.8411340701585777,
            "bin_end": 0.8448822681403172,
            "count": 0
           },
           {
            "bin_start": 0.8448822681403172,
            "bin_end": 0.8486304661220567,
            "count": 2
           }
          ]
         }
        },
        {
         "name": "width",
         "dtype": "float64",
         "stats": {
          "unique_count": 4,
          "nan_count": 0,
          "min": "0.8902777777777777",
          "max": "0.9222222222222224",
          "histogram": [
           {
            "bin_start": 0.8902777777777777,
            "bin_end": 0.8934722222222222,
            "count": 2
           },
           {
            "bin_start": 0.8934722222222222,
            "bin_end": 0.8966666666666666,
            "count": 0
           },
           {
            "bin_start": 0.8966666666666666,
            "bin_end": 0.8998611111111111,
            "count": 0
           },
           {
            "bin_start": 0.8998611111111111,
            "bin_end": 0.9030555555555556,
            "count": 0
           },
           {
            "bin_start": 0.9030555555555556,
            "bin_end": 0.90625,
            "count": 0
           },
           {
            "bin_start": 0.90625,
            "bin_end": 0.9094444444444445,
            "count": 0
           },
           {
            "bin_start": 0.9094444444444445,
            "bin_end": 0.912638888888889,
            "count": 1
           },
           {
            "bin_start": 0.912638888888889,
            "bin_end": 0.9158333333333335,
            "count": 0
           },
           {
            "bin_start": 0.9158333333333335,
            "bin_end": 0.9190277777777779,
            "count": 0
           },
           {
            "bin_start": 0.9190277777777779,
            "bin_end": 0.9222222222222224,
            "count": 2
           }
          ]
         }
        },
        {
         "name": "height",
         "dtype": "float64",
         "stats": {
          "unique_count": 3,
          "nan_count": 0,
          "min": "48.8",
          "max": "54.3",
          "histogram": [
           {
            "bin_start": 48.8,
            "bin_end": 49.349999999999994,
            "count": 2
           },
           {
            "bin_start": 49.349999999999994,
            "bin_end": 49.9,
            "count": 0
           },
           {
            "bin_start": 49.9,
            "bin_end": 50.449999999999996,
            "count": 0
           },
           {
            "bin_start": 50.449999999999996,
            "bin_end": 51,
            "count": 0
           },
           {
            "bin_start": 51,
            "bin_end": 51.55,
            "count": 0
           },
           {
            "bin_start": 51.55,
            "bin_end": 52.099999999999994,
            "count": 0
           },
           {
            "bin_start": 52.099999999999994,
            "bin_end": 52.65,
            "count": 1
           },
           {
            "bin_start": 52.65,
            "bin_end": 53.199999999999996,
            "count": 0
           },
           {
            "bin_start": 53.199999999999996,
            "bin_end": 53.75,
            "count": 0
           },
           {
            "bin_start": 53.75,
            "bin_end": 54.3,
            "count": 2
           }
          ]
         }
        },
        {
         "name": "curb-weight",
         "dtype": "int64",
         "stats": {
          "unique_count": 4,
          "nan_count": 0,
          "min": "2337",
          "max": "2824",
          "histogram": [
           {
            "bin_start": 2337,
            "bin_end": 2385.7,
            "count": 1
           },
           {
            "bin_start": 2385.7,
            "bin_end": 2434.4,
            "count": 0
           },
           {
            "bin_start": 2434.4,
            "bin_end": 2483.1,
            "count": 0
           },
           {
            "bin_start": 2483.1,
            "bin_end": 2531.8,
            "count": 0
           },
           {
            "bin_start": 2531.8,
            "bin_end": 2580.5,
            "count": 2
           },
           {
            "bin_start": 2580.5,
            "bin_end": 2629.2,
            "count": 0
           },
           {
            "bin_start": 2629.2,
            "bin_end": 2677.9,
            "count": 0
           },
           {
            "bin_start": 2677.9,
            "bin_end": 2726.6,
            "count": 0
           },
           {
            "bin_start": 2726.6,
            "bin_end": 2775.3,
            "count": 0
           },
           {
            "bin_start": 2775.3,
            "bin_end": 2824,
            "count": 2
           }
          ]
         }
        },
        {
         "name": "engine-size",
         "dtype": "int64",
         "stats": {
          "unique_count": 4,
          "nan_count": 0,
          "min": "109",
          "max": "152",
          "histogram": [
           {
            "bin_start": 109,
            "bin_end": 113.3,
            "count": 1
           },
           {
            "bin_start": 113.3,
            "bin_end": 117.6,
            "count": 0
           },
           {
            "bin_start": 117.6,
            "bin_end": 121.9,
            "count": 0
           },
           {
            "bin_start": 121.9,
            "bin_end": 126.2,
            "count": 0
           },
           {
            "bin_start": 126.2,
            "bin_end": 130.5,
            "count": 2
           },
           {
            "bin_start": 130.5,
            "bin_end": 134.8,
            "count": 0
           },
           {
            "bin_start": 134.8,
            "bin_end": 139.1,
            "count": 1
           },
           {
            "bin_start": 139.1,
            "bin_end": 143.4,
            "count": 0
           },
           {
            "bin_start": 143.4,
            "bin_end": 147.7,
            "count": 0
           },
           {
            "bin_start": 147.7,
            "bin_end": 152,
            "count": 1
           }
          ]
         }
        },
        {
         "name": "bore",
         "dtype": "float64",
         "stats": {
          "unique_count": 3,
          "nan_count": 0,
          "min": "2.68",
          "max": "3.47",
          "histogram": [
           {
            "bin_start": 2.68,
            "bin_end": 2.7590000000000003,
            "count": 1
           },
           {
            "bin_start": 2.7590000000000003,
            "bin_end": 2.838,
            "count": 0
           },
           {
            "bin_start": 2.838,
            "bin_end": 2.9170000000000003,
            "count": 0
           },
           {
            "bin_start": 2.9170000000000003,
            "bin_end": 2.996,
            "count": 0
           },
           {
            "bin_start": 2.996,
            "bin_end": 3.075,
            "count": 0
           },
           {
            "bin_start": 3.075,
            "bin_end": 3.154,
            "count": 0
           },
           {
            "bin_start": 3.154,
            "bin_end": 3.233,
            "count": 2
           },
           {
            "bin_start": 3.233,
            "bin_end": 3.3120000000000003,
            "count": 0
           },
           {
            "bin_start": 3.3120000000000003,
            "bin_end": 3.391,
            "count": 0
           },
           {
            "bin_start": 3.391,
            "bin_end": 3.47,
            "count": 2
           }
          ]
         }
        },
        {
         "name": "stroke",
         "dtype": "float64",
         "stats": {
          "unique_count": 3,
          "nan_count": 0,
          "min": "2.68",
          "max": "3.47",
          "histogram": [
           {
            "bin_start": 2.68,
            "bin_end": 2.7590000000000003,
            "count": 2
           },
           {
            "bin_start": 2.7590000000000003,
            "bin_end": 2.838,
            "count": 0
           },
           {
            "bin_start": 2.838,
            "bin_end": 2.9170000000000003,
            "count": 0
           },
           {
            "bin_start": 2.9170000000000003,
            "bin_end": 2.996,
            "count": 0
           },
           {
            "bin_start": 2.996,
            "bin_end": 3.075,
            "count": 0
           },
           {
            "bin_start": 3.075,
            "bin_end": 3.154,
            "count": 0
           },
           {
            "bin_start": 3.154,
            "bin_end": 3.233,
            "count": 0
           },
           {
            "bin_start": 3.233,
            "bin_end": 3.3120000000000003,
            "count": 0
           },
           {
            "bin_start": 3.3120000000000003,
            "bin_end": 3.391,
            "count": 0
           },
           {
            "bin_start": 3.391,
            "bin_end": 3.47,
            "count": 3
           }
          ]
         }
        },
        {
         "name": "compression-ratio",
         "dtype": "float64",
         "stats": {
          "unique_count": 3,
          "nan_count": 0,
          "min": "8.0",
          "max": "10.0",
          "histogram": [
           {
            "bin_start": 8,
            "bin_end": 8.2,
            "count": 1
           },
           {
            "bin_start": 8.2,
            "bin_end": 8.4,
            "count": 0
           },
           {
            "bin_start": 8.4,
            "bin_end": 8.6,
            "count": 0
           },
           {
            "bin_start": 8.6,
            "bin_end": 8.8,
            "count": 0
           },
           {
            "bin_start": 8.8,
            "bin_end": 9,
            "count": 0
           },
           {
            "bin_start": 9,
            "bin_end": 9.2,
            "count": 3
           },
           {
            "bin_start": 9.2,
            "bin_end": 9.4,
            "count": 0
           },
           {
            "bin_start": 9.4,
            "bin_end": 9.6,
            "count": 0
           },
           {
            "bin_start": 9.6,
            "bin_end": 9.8,
            "count": 0
           },
           {
            "bin_start": 9.8,
            "bin_end": 10,
            "count": 1
           }
          ]
         }
        },
        {
         "name": "horsepower",
         "dtype": "float64",
         "stats": {
          "unique_count": 4,
          "nan_count": 0,
          "min": "102.0",
          "max": "154.0",
          "histogram": [
           {
            "bin_start": 102,
            "bin_end": 107.2,
            "count": 1
           },
           {
            "bin_start": 107.2,
            "bin_end": 112.4,
            "count": 2
           },
           {
            "bin_start": 112.4,
            "bin_end": 117.6,
            "count": 1
           },
           {
            "bin_start": 117.6,
            "bin_end": 122.8,
            "count": 0
           },
           {
            "bin_start": 122.8,
            "bin_end": 128,
            "count": 0
           },
           {
            "bin_start": 128,
            "bin_end": 133.2,
            "count": 0
           },
           {
            "bin_start": 133.2,
            "bin_end": 138.4,
            "count": 0
           },
           {
            "bin_start": 138.4,
            "bin_end": 143.6,
            "count": 0
           },
           {
            "bin_start": 143.6,
            "bin_end": 148.8,
            "count": 0
           },
           {
            "bin_start": 148.8,
            "bin_end": 154,
            "count": 1
           }
          ]
         }
        },
        {
         "name": "peak-rpm",
         "dtype": "float64",
         "stats": {
          "unique_count": 2,
          "nan_count": 0,
          "min": "5000.0",
          "max": "5500.0",
          "histogram": [
           {
            "bin_start": 5000,
            "bin_end": 5050,
            "count": 3
           },
           {
            "bin_start": 5050,
            "bin_end": 5100,
            "count": 0
           },
           {
            "bin_start": 5100,
            "bin_end": 5150,
            "count": 0
           },
           {
            "bin_start": 5150,
            "bin_end": 5200,
            "count": 0
           },
           {
            "bin_start": 5200,
            "bin_end": 5250,
            "count": 0
           },
           {
            "bin_start": 5250,
            "bin_end": 5300,
            "count": 0
           },
           {
            "bin_start": 5300,
            "bin_end": 5350,
            "count": 0
           },
           {
            "bin_start": 5350,
            "bin_end": 5400,
            "count": 0
           },
           {
            "bin_start": 5400,
            "bin_end": 5450,
            "count": 0
           },
           {
            "bin_start": 5450,
            "bin_end": 5500,
            "count": 2
           }
          ]
         }
        },
        {
         "name": "city-mpg",
         "dtype": "int64",
         "stats": {
          "unique_count": 4,
          "nan_count": 0,
          "min": "18",
          "max": "24",
          "histogram": [
           {
            "bin_start": 18,
            "bin_end": 18.6,
            "count": 1
           },
           {
            "bin_start": 18.6,
            "bin_end": 19.2,
            "count": 1
           },
           {
            "bin_start": 19.2,
            "bin_end": 19.8,
            "count": 0
           },
           {
            "bin_start": 19.8,
            "bin_end": 20.4,
            "count": 0
           },
           {
            "bin_start": 20.4,
            "bin_end": 21,
            "count": 0
           },
           {
            "bin_start": 21,
            "bin_end": 21.6,
            "count": 2
           },
           {
            "bin_start": 21.6,
            "bin_end": 22.2,
            "count": 0
           },
           {
            "bin_start": 22.2,
            "bin_end": 22.8,
            "count": 0
           },
           {
            "bin_start": 22.8,
            "bin_end": 23.4,
            "count": 0
           },
           {
            "bin_start": 23.4,
            "bin_end": 24,
            "count": 1
           }
          ]
         }
        },
        {
         "name": "highway-mpg",
         "dtype": "int64",
         "stats": {
          "unique_count": 4,
          "nan_count": 0,
          "min": "22",
          "max": "30",
          "histogram": [
           {
            "bin_start": 22,
            "bin_end": 22.8,
            "count": 1
           },
           {
            "bin_start": 22.8,
            "bin_end": 23.6,
            "count": 0
           },
           {
            "bin_start": 23.6,
            "bin_end": 24.4,
            "count": 0
           },
           {
            "bin_start": 24.4,
            "bin_end": 25.2,
            "count": 0
           },
           {
            "bin_start": 25.2,
            "bin_end": 26,
            "count": 0
           },
           {
            "bin_start": 26,
            "bin_end": 26.8,
            "count": 1
           },
           {
            "bin_start": 26.8,
            "bin_end": 27.6,
            "count": 2
           },
           {
            "bin_start": 27.6,
            "bin_end": 28.4,
            "count": 0
           },
           {
            "bin_start": 28.4,
            "bin_end": 29.2,
            "count": 0
           },
           {
            "bin_start": 29.2,
            "bin_end": 30,
            "count": 1
           }
          ]
         }
        },
        {
         "name": "price",
         "dtype": "float64",
         "stats": {
          "unique_count": 4,
          "nan_count": 0,
          "min": "13495.0",
          "max": "17450.0",
          "histogram": [
           {
            "bin_start": 13495,
            "bin_end": 13890.5,
            "count": 1
           },
           {
            "bin_start": 13890.5,
            "bin_end": 14286,
            "count": 1
           },
           {
            "bin_start": 14286,
            "bin_end": 14681.5,
            "count": 0
           },
           {
            "bin_start": 14681.5,
            "bin_end": 15077,
            "count": 0
           },
           {
            "bin_start": 15077,
            "bin_end": 15472.5,
            "count": 0
           },
           {
            "bin_start": 15472.5,
            "bin_end": 15868,
            "count": 0
           },
           {
            "bin_start": 15868,
            "bin_end": 16263.5,
            "count": 0
           },
           {
            "bin_start": 16263.5,
            "bin_end": 16659,
            "count": 2
           },
           {
            "bin_start": 16659,
            "bin_end": 17054.5,
            "count": 0
           },
           {
            "bin_start": 17054.5,
            "bin_end": 17450,
            "count": 1
           }
          ]
         }
        },
        {
         "name": "city-L/100km",
         "dtype": "float64",
         "stats": {
          "unique_count": 4,
          "nan_count": 0,
          "min": "9.791666666666666",
          "max": "13.055555555555555",
          "histogram": [
           {
            "bin_start": 9.791666666666666,
            "bin_end": 10.118055555555555,
            "count": 1
           },
           {
            "bin_start": 10.118055555555555,
            "bin_end": 10.444444444444445,
            "count": 0
           },
           {
            "bin_start": 10.444444444444445,
            "bin_end": 10.770833333333332,
            "count": 0
           },
           {
            "bin_start": 10.770833333333332,
            "bin_end": 11.097222222222221,
            "count": 0
           },
           {
            "bin_start": 11.097222222222221,
            "bin_end": 11.42361111111111,
            "count": 2
           },
           {
            "bin_start": 11.42361111111111,
            "bin_end": 11.75,
            "count": 0
           },
           {
            "bin_start": 11.75,
            "bin_end": 12.07638888888889,
            "count": 0
           },
           {
            "bin_start": 12.07638888888889,
            "bin_end": 12.402777777777779,
            "count": 1
           },
           {
            "bin_start": 12.402777777777779,
            "bin_end": 12.729166666666666,
            "count": 0
           },
           {
            "bin_start": 12.729166666666666,
            "bin_end": 13.055555555555555,
            "count": 1
           }
          ]
         }
        },
        {
         "name": "diesel",
         "dtype": "int64",
         "stats": {
          "unique_count": 1,
          "nan_count": 0,
          "min": "0",
          "max": "0",
          "histogram": [
           {
            "bin_start": -0.5,
            "bin_end": -0.4,
            "count": 0
           },
           {
            "bin_start": -0.4,
            "bin_end": -0.3,
            "count": 0
           },
           {
            "bin_start": -0.3,
            "bin_end": -0.19999999999999996,
            "count": 0
           },
           {
            "bin_start": -0.19999999999999996,
            "bin_end": -0.09999999999999998,
            "count": 0
           },
           {
            "bin_start": -0.09999999999999998,
            "bin_end": 0,
            "count": 0
           },
           {
            "bin_start": 0,
            "bin_end": 0.10000000000000009,
            "count": 5
           },
           {
            "bin_start": 0.10000000000000009,
            "bin_end": 0.20000000000000007,
            "count": 0
           },
           {
            "bin_start": 0.20000000000000007,
            "bin_end": 0.30000000000000004,
            "count": 0
           },
           {
            "bin_start": 0.30000000000000004,
            "bin_end": 0.4,
            "count": 0
           },
           {
            "bin_start": 0.4,
            "bin_end": 0.5,
            "count": 0
           }
          ]
         }
        },
        {
         "name": "gas",
         "dtype": "int64",
         "stats": {
          "unique_count": 1,
          "nan_count": 0,
          "min": "1",
          "max": "1",
          "histogram": [
           {
            "bin_start": 0.5,
            "bin_end": 0.6,
            "count": 0
           },
           {
            "bin_start": 0.6,
            "bin_end": 0.7,
            "count": 0
           },
           {
            "bin_start": 0.7,
            "bin_end": 0.8,
            "count": 0
           },
           {
            "bin_start": 0.8,
            "bin_end": 0.9,
            "count": 0
           },
           {
            "bin_start": 0.9,
            "bin_end": 1,
            "count": 0
           },
           {
            "bin_start": 1,
            "bin_end": 1.1,
            "count": 5
           },
           {
            "bin_start": 1.1,
            "bin_end": 1.2000000000000002,
            "count": 0
           },
           {
            "bin_start": 1.2000000000000002,
            "bin_end": 1.3,
            "count": 0
           },
           {
            "bin_start": 1.3,
            "bin_end": 1.4,
            "count": 0
           },
           {
            "bin_start": 1.4,
            "bin_end": 1.5,
            "count": 0
           }
          ]
         }
        },
        {
         "name": "_deepnote_index_column",
         "dtype": "int64"
        }
       ],
       "rows": [
        {
         "Unnamed: 0": 0,
         "Unnamed: 0.1": 0,
         "symboling": 3,
         "normalized-losses": 122,
         "wheel-base": 88.6,
         "length": 0.8111484863046613,
         "width": 0.8902777777777777,
         "height": 48.8,
         "curb-weight": 2548,
         "engine-size": 130,
         "bore": 3.47,
         "stroke": 2.68,
         "compression-ratio": 9,
         "horsepower": 111,
         "peak-rpm": 5000,
         "city-mpg": 21,
         "highway-mpg": 27,
         "price": 13495,
         "city-L/100km": 11.190476190476188,
         "diesel": 0,
         "gas": 1,
         "_deepnote_index_column": 0
        },
        {
         "Unnamed: 0": 1,
         "Unnamed: 0.1": 1,
         "symboling": 3,
         "normalized-losses": 122,
         "wheel-base": 88.6,
         "length": 0.8111484863046613,
         "width": 0.8902777777777777,
         "height": 48.8,
         "curb-weight": 2548,
         "engine-size": 130,
         "bore": 3.47,
         "stroke": 2.68,
         "compression-ratio": 9,
         "horsepower": 111,
         "peak-rpm": 5000,
         "city-mpg": 21,
         "highway-mpg": 27,
         "price": 16500,
         "city-L/100km": 11.190476190476188,
         "diesel": 0,
         "gas": 1,
         "_deepnote_index_column": 1
        },
        {
         "Unnamed: 0": 2,
         "Unnamed: 0.1": 2,
         "symboling": 1,
         "normalized-losses": 122,
         "wheel-base": 94.5,
         "length": 0.8226814031715521,
         "width": 0.9097222222222222,
         "height": 52.4,
         "curb-weight": 2823,
         "engine-size": 152,
         "bore": 2.68,
         "stroke": 3.47,
         "compression-ratio": 9,
         "horsepower": 154,
         "peak-rpm": 5000,
         "city-mpg": 19,
         "highway-mpg": 26,
         "price": 16500,
         "city-L/100km": 12.36842105263158,
         "diesel": 0,
         "gas": 1,
         "_deepnote_index_column": 2
        },
        {
         "Unnamed: 0": 3,
         "Unnamed: 0.1": 3,
         "symboling": 2,
         "normalized-losses": 164,
         "wheel-base": 99.8,
         "length": 0.8486304661220567,
         "width": 0.9194444444444444,
         "height": 54.3,
         "curb-weight": 2337,
         "engine-size": 109,
         "bore": 3.19,
         "stroke": 3.4,
         "compression-ratio": 10,
         "horsepower": 102,
         "peak-rpm": 5500,
         "city-mpg": 24,
         "highway-mpg": 30,
         "price": 13950,
         "city-L/100km": 9.791666666666666,
         "diesel": 0,
         "gas": 1,
         "_deepnote_index_column": 3
        },
        {
         "Unnamed: 0": 4,
         "Unnamed: 0.1": 4,
         "symboling": 2,
         "normalized-losses": 164,
         "wheel-base": 99.4,
         "length": 0.8486304661220567,
         "width": 0.9222222222222224,
         "height": 54.3,
         "curb-weight": 2824,
         "engine-size": 136,
         "bore": 3.19,
         "stroke": 3.4,
         "compression-ratio": 8,
         "horsepower": 115,
         "peak-rpm": 5500,
         "city-mpg": 18,
         "highway-mpg": 22,
         "price": 17450,
         "city-L/100km": 13.055555555555555,
         "diesel": 0,
         "gas": 1,
         "_deepnote_index_column": 4
        }
       ]
      },
      "text/plain": "   Unnamed: 0  Unnamed: 0.1  symboling  normalized-losses  wheel-base  \\\n0           0             0          3                122        88.6   \n1           1             1          3                122        88.6   \n2           2             2          1                122        94.5   \n3           3             3          2                164        99.8   \n4           4             4          2                164        99.4   \n\n     length     width  height  curb-weight  engine-size  ...  stroke  \\\n0  0.811148  0.890278    48.8         2548          130  ...    2.68   \n1  0.811148  0.890278    48.8         2548          130  ...    2.68   \n2  0.822681  0.909722    52.4         2823          152  ...    3.47   \n3  0.848630  0.919444    54.3         2337          109  ...    3.40   \n4  0.848630  0.922222    54.3         2824          136  ...    3.40   \n\n   compression-ratio  horsepower  peak-rpm  city-mpg  highway-mpg    price  \\\n0                9.0       111.0    5000.0        21           27  13495.0   \n1                9.0       111.0    5000.0        21           27  16500.0   \n2                9.0       154.0    5000.0        19           26  16500.0   \n3               10.0       102.0    5500.0        24           30  13950.0   \n4                8.0       115.0    5500.0        18           22  17450.0   \n\n   city-L/100km  diesel  gas  \n0     11.190476       0    1  \n1     11.190476       0    1  \n2     12.368421       0    1  \n3      9.791667       0    1  \n4     13.055556       0    1  \n\n[5 rows x 21 columns]",
      "text/html": "<div>\n<style scoped>\n    .dataframe tbody tr th:only-of-type {\n        vertical-align: middle;\n    }\n\n    .dataframe tbody tr th {\n        vertical-align: top;\n    }\n\n    .dataframe thead th {\n        text-align: right;\n    }\n</style>\n<table border=\"1\" class=\"dataframe\">\n  <thead>\n    <tr style=\"text-align: right;\">\n      <th></th>\n      <th>Unnamed: 0</th>\n      <th>Unnamed: 0.1</th>\n      <th>symboling</th>\n      <th>normalized-losses</th>\n      <th>wheel-base</th>\n      <th>length</th>\n      <th>width</th>\n      <th>height</th>\n      <th>curb-weight</th>\n      <th>engine-size</th>\n      <th>...</th>\n      <th>stroke</th>\n      <th>compression-ratio</th>\n      <th>horsepower</th>\n      <th>peak-rpm</th>\n      <th>city-mpg</th>\n      <th>highway-mpg</th>\n      <th>price</th>\n      <th>city-L/100km</th>\n      <th>diesel</th>\n      <th>gas</th>\n    </tr>\n  </thead>\n  <tbody>\n    <tr>\n      <th>0</th>\n      <td>0</td>\n      <td>0</td>\n      <td>3</td>\n      <td>122</td>\n      <td>88.6</td>\n      <td>0.811148</td>\n      <td>0.890278</td>\n      <td>48.8</td>\n      <td>2548</td>\n      <td>130</td>\n      <td>...</td>\n      <td>2.68</td>\n      <td>9.0</td>\n      <td>111.0</td>\n      <td>5000.0</td>\n      <td>21</td>\n      <td>27</td>\n      <td>13495.0</td>\n      <td>11.190476</td>\n      <td>0</td>\n      <td>1</td>\n    </tr>\n    <tr>\n      <th>1</th>\n      <td>1</td>\n      <td>1</td>\n      <td>3</td>\n      <td>122</td>\n      <td>88.6</td>\n      <td>0.811148</td>\n      <td>0.890278</td>\n      <td>48.8</td>\n      <td>2548</td>\n      <td>130</td>\n      <td>...</td>\n      <td>2.68</td>\n      <td>9.0</td>\n      <td>111.0</td>\n      <td>5000.0</td>\n      <td>21</td>\n      <td>27</td>\n      <td>16500.0</td>\n      <td>11.190476</td>\n      <td>0</td>\n      <td>1</td>\n    </tr>\n    <tr>\n      <th>2</th>\n      <td>2</td>\n      <td>2</td>\n      <td>1</td>\n      <td>122</td>\n      <td>94.5</td>\n      <td>0.822681</td>\n      <td>0.909722</td>\n      <td>52.4</td>\n      <td>2823</td>\n      <td>152</td>\n      <td>...</td>\n      <td>3.47</td>\n      <td>9.0</td>\n      <td>154.0</td>\n      <td>5000.0</td>\n      <td>19</td>\n      <td>26</td>\n      <td>16500.0</td>\n      <td>12.368421</td>\n      <td>0</td>\n      <td>1</td>\n    </tr>\n    <tr>\n      <th>3</th>\n      <td>3</td>\n      <td>3</td>\n      <td>2</td>\n      <td>164</td>\n      <td>99.8</td>\n      <td>0.848630</td>\n      <td>0.919444</td>\n      <td>54.3</td>\n      <td>2337</td>\n      <td>109</td>\n      <td>...</td>\n      <td>3.40</td>\n      <td>10.0</td>\n      <td>102.0</td>\n      <td>5500.0</td>\n      <td>24</td>\n      <td>30</td>\n      <td>13950.0</td>\n      <td>9.791667</td>\n      <td>0</td>\n      <td>1</td>\n    </tr>\n    <tr>\n      <th>4</th>\n      <td>4</td>\n      <td>4</td>\n      <td>2</td>\n      <td>164</td>\n      <td>99.4</td>\n      <td>0.848630</td>\n      <td>0.922222</td>\n      <td>54.3</td>\n      <td>2824</td>\n      <td>136</td>\n      <td>...</td>\n      <td>3.40</td>\n      <td>8.0</td>\n      <td>115.0</td>\n      <td>5500.0</td>\n      <td>18</td>\n      <td>22</td>\n      <td>17450.0</td>\n      <td>13.055556</td>\n      <td>0</td>\n      <td>1</td>\n    </tr>\n  </tbody>\n</table>\n<p>5 rows × 21 columns</p>\n</div>"
     },
     "metadata": {}
    }
   ]
  },
  {
   "cell_type": "code",
   "metadata": {
    "cell_id": "355c52582e7f4484959ac5fbe396707c",
    "tags": [],
    "deepnote_to_be_reexecuted": false,
    "source_hash": "eae5f8a5",
    "execution_start": 1648045740644,
    "execution_millis": 4,
    "deepnote_cell_type": "code",
    "deepnote_cell_height": 652
   },
   "source": "df_cars.info()",
   "execution_count": 8,
   "outputs": [
    {
     "name": "stdout",
     "text": "<class 'pandas.core.frame.DataFrame'>\nRangeIndex: 201 entries, 0 to 200\nData columns (total 21 columns):\n #   Column             Non-Null Count  Dtype  \n---  ------             --------------  -----  \n 0   Unnamed: 0         201 non-null    int64  \n 1   Unnamed: 0.1       201 non-null    int64  \n 2   symboling          201 non-null    int64  \n 3   normalized-losses  201 non-null    int64  \n 4   wheel-base         201 non-null    float64\n 5   length             201 non-null    float64\n 6   width              201 non-null    float64\n 7   height             201 non-null    float64\n 8   curb-weight        201 non-null    int64  \n 9   engine-size        201 non-null    int64  \n 10  bore               201 non-null    float64\n 11  stroke             197 non-null    float64\n 12  compression-ratio  201 non-null    float64\n 13  horsepower         201 non-null    float64\n 14  peak-rpm           201 non-null    float64\n 15  city-mpg           201 non-null    int64  \n 16  highway-mpg        201 non-null    int64  \n 17  price              201 non-null    float64\n 18  city-L/100km       201 non-null    float64\n 19  diesel             201 non-null    int64  \n 20  gas                201 non-null    int64  \ndtypes: float64(11), int64(10)\nmemory usage: 33.1 KB\n",
     "output_type": "stream"
    }
   ]
  },
  {
   "cell_type": "markdown",
   "source": "## Functions for plotting",
   "metadata": {
    "cell_id": "1c835858077a4f37963bab2b0ae8ed85",
    "tags": [],
    "deepnote_cell_type": "markdown",
    "deepnote_cell_height": 70
   }
  },
  {
   "cell_type": "code",
   "metadata": {
    "cell_id": "34413b5b616547b7ab927a937f0d5441",
    "tags": [],
    "deepnote_to_be_reexecuted": false,
    "source_hash": "61a1f88b",
    "execution_start": 1648045742157,
    "execution_millis": 9,
    "deepnote_cell_type": "code",
    "deepnote_cell_height": 333
   },
   "source": "def DistributionPlot(RedFunction, BlueFunction, RedName, BlueName, Title):\n    width = 12\n    height = 10\n    plt.figure(figsize=(width, height))\n\n    ax1 = sns.kdeplot(RedFunction, color=\"r\", label=RedName)\n    ax2 = sns.kdeplot(BlueFunction, color=\"b\", label=BlueName, ax=ax1)\n\n    plt.title(Title)\n    plt.xlabel('Price (in dollars)')\n    plt.ylabel('Proportion of Cars')\n    plt.legend()\n\n    plt.show()\n    plt.close()",
   "execution_count": 9,
   "outputs": []
  },
  {
   "cell_type": "code",
   "metadata": {
    "cell_id": "d132c312e50c47c58af88207b580d656",
    "tags": [],
    "deepnote_to_be_reexecuted": false,
    "source_hash": "e666b6db",
    "execution_start": 1648045743964,
    "execution_millis": 4,
    "deepnote_cell_type": "code",
    "deepnote_cell_height": 477
   },
   "source": "def PollyPlot(xtrain, xtest, y_train, y_test, lr, poly_transform):\n    width = 12\n    height = 10\n    plt.figure(figsize=(width, height))\n        \n    # x_train, y_train: training data \n    # x_test, y_test: testing data \n    # lr: linear regression object \n    # poly_transform: polynomial transformation object\n \n    xmax = max([xtrain.values.max(), xtest.values.max()])\n\n    xmin = min([xtrain.values.min(), xtest.values.min()])\n\n    x = np.arange(xmin, xmax, 0.1)\n\n    plt.plot(xtrain, y_train, 'ro', label='Training Data')\n    plt.plot(xtest, y_test, 'go', label='Test Data')\n    plt.plot(x, lr.predict(poly_transform.fit_transform(x.reshape(-1, 1))), label='Predicted Function')\n    \n    plt.ylim([-10000, 60000])\n    plt.ylabel('Price')\n    plt.legend()",
   "execution_count": 10,
   "outputs": []
  },
  {
   "cell_type": "markdown",
   "source": "# Training and Testing\n\nAn important step to testing your model is split your data",
   "metadata": {
    "cell_id": "0dd390b62ca24ce6819490d5dc9fc319",
    "tags": [],
    "deepnote_to_be_reexecuted": false,
    "source_hash": "234afcc6",
    "execution_start": 1647958289485,
    "execution_millis": 1,
    "deepnote_cell_type": "markdown",
    "deepnote_cell_height": 120.390625
   }
  },
  {
   "cell_type": "code",
   "metadata": {
    "cell_id": "f7a68d1dbe264489b89664e7f3977f29",
    "tags": [],
    "deepnote_to_be_reexecuted": false,
    "source_hash": "ec78b101",
    "execution_start": 1648045747856,
    "execution_millis": 4,
    "deepnote_cell_type": "code",
    "deepnote_cell_height": 153
   },
   "source": "# first we create dataframes to our price data and the others\n\ny_data = df_cars['price']\n\nx_data = df_cars.drop(['price'], axis = 1)",
   "execution_count": 11,
   "outputs": []
  },
  {
   "cell_type": "code",
   "metadata": {
    "cell_id": "0bcc9eb2bd104e63af2a10014b74b624",
    "tags": [],
    "deepnote_to_be_reexecuted": false,
    "source_hash": "f0f1255f",
    "execution_start": 1648045748697,
    "execution_millis": 1,
    "deepnote_cell_type": "code",
    "deepnote_cell_height": 258
   },
   "source": "# we randomly split our data into training and testing data\n\n# test_size = proportion of data to split for example 0.10 = 10%\nx_train, x_test, y_train, y_test = train_test_split(x_data, y_data, test_size=0.1, random_state=1)\n\n# to compare our testing and training data\nprint('Number of training data: ', x_train.shape[0])\nprint('Number of test data: ', x_test.shape[0])",
   "execution_count": 12,
   "outputs": [
    {
     "name": "stdout",
     "text": "Number of training data:  180\nNumber of test data:  21\n",
     "output_type": "stream"
    }
   ]
  },
  {
   "cell_type": "code",
   "metadata": {
    "cell_id": "ad5d3ebd4e294a63b8ad68c954d9b6bd",
    "tags": [],
    "deepnote_to_be_reexecuted": false,
    "source_hash": "913df933",
    "execution_start": 1648045749506,
    "execution_millis": 1,
    "deepnote_cell_type": "code",
    "deepnote_cell_height": 222
   },
   "source": "# we need to prove to 40% test data and random_state = 0\n\nx_train_1, x_test_1, y_train_1, y_test_1 = train_test_split(x_data, y_data, test_size=0.40, random_state=0)\n\nprint('Number of training data: {}'.format(x_train_1.shape[0]))\nprint('Number of test data: {}'.format(x_test_1.shape[0]))",
   "execution_count": 13,
   "outputs": [
    {
     "name": "stdout",
     "text": "Number of training data: 120\nNumber of test data: 81\n",
     "output_type": "stream"
    }
   ]
  },
  {
   "cell_type": "markdown",
   "source": "## Linear Regression Model",
   "metadata": {
    "cell_id": "257282cf49c946c587bd0ea3501a6c70",
    "tags": [],
    "deepnote_cell_type": "markdown",
    "deepnote_cell_height": 70
   }
  },
  {
   "cell_type": "code",
   "metadata": {
    "cell_id": "7aa84166956b4ba086ff607c29226f52",
    "tags": [],
    "deepnote_to_be_reexecuted": false,
    "source_hash": "fc90c53e",
    "execution_start": 1648045750994,
    "execution_millis": 33,
    "deepnote_cell_type": "code",
    "deepnote_cell_height": 190.1875,
    "deepnote_output_heights": [
     21.1875
    ]
   },
   "source": "# create the linear regression object\nlm = LinearRegression()\n\n# fit the model using the train feature 'horsepower'\nlm.fit(x_train[['horsepower']], y_train)",
   "execution_count": 14,
   "outputs": [
    {
     "output_type": "execute_result",
     "execution_count": 14,
     "data": {
      "text/plain": "LinearRegression()"
     },
     "metadata": {}
    }
   ]
  },
  {
   "cell_type": "code",
   "metadata": {
    "cell_id": "eb42723795154a03957758a997ddf381",
    "tags": [],
    "deepnote_to_be_reexecuted": false,
    "source_hash": "1a50a881",
    "execution_start": 1648045751581,
    "execution_millis": 5,
    "deepnote_cell_type": "code",
    "deepnote_cell_height": 136.1875,
    "deepnote_output_heights": [
     21.1875
    ]
   },
   "source": "# calculate the r^2 using the test data\nlm.score(x_test[['horsepower']], y_test)",
   "execution_count": 15,
   "outputs": [
    {
     "output_type": "execute_result",
     "execution_count": 15,
     "data": {
      "text/plain": "0.36358755750788263"
     },
     "metadata": {}
    }
   ]
  },
  {
   "cell_type": "code",
   "metadata": {
    "cell_id": "ef08cb7056dd403b8c8cd355736b7f9d",
    "tags": [],
    "deepnote_to_be_reexecuted": false,
    "source_hash": "c8d2910a",
    "execution_start": 1648045753030,
    "execution_millis": 4,
    "deepnote_cell_type": "code",
    "deepnote_cell_height": 136.1875,
    "deepnote_output_heights": [
     21.1875
    ]
   },
   "source": "# calculate the r^2(r_score) using the training data\nlm.score(x_train[['horsepower']], y_train)",
   "execution_count": 16,
   "outputs": [
    {
     "output_type": "execute_result",
     "execution_count": 16,
     "data": {
      "text/plain": "0.6619724197515104"
     },
     "metadata": {}
    }
   ]
  },
  {
   "cell_type": "markdown",
   "source": "> We can appreciate the score of test data is much smaller compared to the training data",
   "metadata": {
    "cell_id": "e8d930565df24de9aec7701b2f369ec6",
    "tags": [],
    "deepnote_to_be_reexecuted": false,
    "source_hash": "ed857f47",
    "execution_start": 1647959549999,
    "execution_millis": 25,
    "deepnote_cell_type": "markdown",
    "deepnote_cell_height": 66.390625
   }
  },
  {
   "cell_type": "code",
   "metadata": {
    "cell_id": "d0aa02aad338464db9461e005d8c1d6a",
    "tags": [],
    "deepnote_to_be_reexecuted": false,
    "source_hash": "982249df",
    "execution_start": 1648045754760,
    "execution_millis": 27,
    "deepnote_cell_type": "code",
    "deepnote_cell_height": 280.1875,
    "deepnote_output_heights": [
     21.1875
    ]
   },
   "source": "# Other compare: Find the R^2 on the test data using 40% of the dataset for testing\n\n# create the linear regression object\nlm1 = LinearRegression()\n\n# fit out model using the training data of 40%\nlm1.fit(x_train_1[['horsepower']], y_train_1)\n\n# calculate R^2 using the test data of 40%\nlm1.score(x_test_1[['horsepower']], y_test_1)",
   "execution_count": 17,
   "outputs": [
    {
     "output_type": "execute_result",
     "execution_count": 17,
     "data": {
      "text/plain": "0.7139364665406973"
     },
     "metadata": {}
    }
   ]
  },
  {
   "cell_type": "markdown",
   "source": "> Sometimes you do not have sufficient testing data; as a result, you may want to perform cross-validation.",
   "metadata": {
    "cell_id": "20079d94b8e740dab26b3b519f8fc533",
    "tags": [],
    "deepnote_cell_type": "markdown",
    "deepnote_cell_height": 66.390625
   }
  },
  {
   "cell_type": "markdown",
   "source": "## Cross-Validation Score\n\nTo evaluate a score by cross-validation",
   "metadata": {
    "cell_id": "ef1ee7888b4f4fc3b9eec507b3f1a3e8",
    "tags": [],
    "deepnote_cell_type": "markdown",
    "deepnote_cell_height": 108.390625
   }
  },
  {
   "cell_type": "code",
   "metadata": {
    "cell_id": "654a12bfd1bb435d924f92a0eea5a97d",
    "tags": [],
    "deepnote_to_be_reexecuted": false,
    "source_hash": "63089f43",
    "execution_start": 1648045756673,
    "execution_millis": 9,
    "deepnote_cell_type": "code",
    "deepnote_cell_height": 244.1875,
    "deepnote_output_heights": [
     21.1875
    ]
   },
   "source": "# create the cross validation score\n\n# lm = The object to use to fit the data.\n# x_data[['horsepower']] = The data to fit\n# y_data = The target variable to try to predict\n# cv = Splitting strategy - An iterable that generates (train, test) splits as arrays of indices = folds\nRcross = cross_val_score(lm, x_data[['horsepower']], y_data, cv = 4)\nRcross",
   "execution_count": 18,
   "outputs": [
    {
     "output_type": "execute_result",
     "execution_count": 18,
     "data": {
      "text/plain": "array([0.7746232 , 0.51716687, 0.74785353, 0.04839605])"
     },
     "metadata": {}
    }
   ]
  },
  {
   "cell_type": "code",
   "metadata": {
    "cell_id": "ef136557545f4bb1bcd0b4f755bcd43a",
    "tags": [],
    "deepnote_to_be_reexecuted": false,
    "source_hash": "4b8d5c6b",
    "execution_start": 1648045757904,
    "execution_millis": 6,
    "deepnote_cell_type": "code",
    "deepnote_cell_height": 168
   },
   "source": "# We can calculate the average and standard deviation of our estimate\nprint('The mean of the fods are: ', Rcross.mean())\nprint('The standar desviation of the fods are: ', Rcross.std())",
   "execution_count": 19,
   "outputs": [
    {
     "name": "stdout",
     "text": "The mean of the fods are:  0.522009915042119\nThe standar desviation of the fods are:  0.291183944475603\n",
     "output_type": "stream"
    }
   ]
  },
  {
   "cell_type": "markdown",
   "source": "### You can also predict\n\nUse the function 'cross_val_predict' to predict the output",
   "metadata": {
    "cell_id": "a8fadfb6b4e44ac3b24415a6cb97deb6",
    "tags": [],
    "deepnote_cell_type": "markdown",
    "deepnote_cell_height": 100.390625
   }
  },
  {
   "cell_type": "code",
   "metadata": {
    "cell_id": "be1e71ae4a7a4c25a92aa5c51ffdd8d2",
    "tags": [],
    "deepnote_to_be_reexecuted": false,
    "source_hash": "b519b31d",
    "execution_start": 1648045759644,
    "execution_millis": 41,
    "deepnote_cell_type": "code",
    "deepnote_cell_height": 136.1875,
    "deepnote_output_heights": [
     21.1875
    ]
   },
   "source": "yhat = cross_val_predict(lm, x_data[['horsepower']], y_data, cv = 4)\nyhat[:4]",
   "execution_count": 20,
   "outputs": [
    {
     "output_type": "execute_result",
     "execution_count": 20,
     "data": {
      "text/plain": "array([14141.63807508, 14141.63807508, 20814.29423473, 12745.03562306])"
     },
     "metadata": {}
    }
   ]
  },
  {
   "cell_type": "markdown",
   "source": "## Overfitting, Underfitting and Model Selection\n\nIs a much better measure of how well your model performs in the real world\n\nIt turns out these differences are more apparent in Multiple Linear Regression and Polynomial Regression so we will explore overfitting in that context.",
   "metadata": {
    "cell_id": "2f5c280db5454c9f8ca0f5b146d54726",
    "tags": [],
    "deepnote_cell_type": "markdown",
    "deepnote_cell_height": 167.1875
   }
  },
  {
   "cell_type": "code",
   "metadata": {
    "cell_id": "cebe80c2a8e04383b5c69e2c2b2f36c7",
    "tags": [],
    "deepnote_to_be_reexecuted": false,
    "source_hash": "2c3c9be4",
    "execution_start": 1648045761274,
    "execution_millis": 7,
    "deepnote_cell_type": "code",
    "deepnote_cell_height": 190.1875,
    "deepnote_output_heights": [
     21.1875
    ]
   },
   "source": "# create the LinearRegression object\nlr = LinearRegression()\n# fit our model using 'horsepower', 'curb-weight', 'engine-size' and 'highway-mpg' as features\n# of our training data\nlr.fit(x_train[['horsepower', 'curb-weight', 'engine-size', 'highway-mpg']], y_train)",
   "execution_count": 21,
   "outputs": [
    {
     "output_type": "execute_result",
     "execution_count": 21,
     "data": {
      "text/plain": "LinearRegression()"
     },
     "metadata": {}
    }
   ]
  },
  {
   "cell_type": "code",
   "source": "# prediction using training data\nyhat_train = lr.predict(x_train[['horsepower', 'curb-weight', 'engine-size', 'highway-mpg']])\nyhat_train[:5]",
   "metadata": {
    "cell_id": "ad2fb62557a34c1882b4f992d1085eaf",
    "tags": [],
    "deepnote_to_be_reexecuted": false,
    "source_hash": "5238cacc",
    "execution_start": 1648045761875,
    "execution_millis": 5,
    "deepnote_cell_type": "code",
    "deepnote_cell_height": 173.375,
    "deepnote_output_heights": [
     40.390625
    ]
   },
   "outputs": [
    {
     "output_type": "execute_result",
     "execution_count": 22,
     "data": {
      "text/plain": "array([ 7426.6731551 , 28323.75090803, 14213.38819709,  4052.34146983,\n       34500.19124244])"
     },
     "metadata": {}
    }
   ],
   "execution_count": 22
  },
  {
   "cell_type": "code",
   "source": "# prediction using test data\nyhat_test = lr.predict(x_test[['horsepower', 'curb-weight', 'engine-size', 'highway-mpg']])\nyhat_test[:5]",
   "metadata": {
    "cell_id": "42d7975500a04316b0a896bdb0e8cb8c",
    "tags": [],
    "deepnote_to_be_reexecuted": false,
    "source_hash": "68a222b7",
    "execution_start": 1648045766529,
    "execution_millis": 5,
    "deepnote_cell_type": "code",
    "deepnote_cell_height": 173.375,
    "deepnote_output_heights": [
     40.390625
    ]
   },
   "outputs": [
    {
     "output_type": "execute_result",
     "execution_count": 23,
     "data": {
      "text/plain": "array([11349.35089149,  5884.11059106, 11208.6928275 ,  6641.07786278,\n       15565.79920282])"
     },
     "metadata": {}
    }
   ],
   "execution_count": 23
  },
  {
   "cell_type": "markdown",
   "source": "> Let's perform some model evaluation using our training and testing data separately",
   "metadata": {
    "cell_id": "38608b8a2e4543acacc679f6bc2183a6",
    "tags": [],
    "deepnote_cell_type": "markdown",
    "deepnote_cell_height": 66.390625
   }
  },
  {
   "cell_type": "code",
   "source": "Title = 'Distribution  Plot of  Predicted Value Using Training Data vs Training Data Distribution'\nDistributionPlot(y_train, yhat_train, \"Actual Values (Train)\", \"Predicted Values (Train)\", Title)",
   "metadata": {
    "cell_id": "dcc19cecf51c42faba9ccd93b9a9cf50",
    "tags": [],
    "deepnote_to_be_reexecuted": false,
    "source_hash": "6cd1c0e1",
    "execution_start": 1648045767191,
    "execution_millis": 555,
    "deepnote_cell_type": "code",
    "deepnote_cell_height": 721,
    "deepnote_output_heights": [
     606,
     606
    ]
   },
   "outputs": [
    {
     "data": {
      "text/plain": "<Figure size 864x720 with 1 Axes>",
      "image/png": "[encoded data removed]"
     },
     "metadata": {
      "needs_background": "light",
      "image/png": {
       "width": 711,
       "height": 604
      }
     },
     "output_type": "display_data"
    }
   ],
   "execution_count": 24
  },
  {
   "cell_type": "markdown",
   "source": "So far, the model seems to be doing well in learning from the training dataset. But what happens when the model encounters new data from the testing dataset? When the model generates new values from the test data, we see the distribution of the predicted values is much different from the actual target values",
   "metadata": {
    "cell_id": "2b7fb348b4f1484d80dbbab1de606ebc",
    "tags": [],
    "deepnote_cell_type": "markdown",
    "deepnote_cell_height": 97.1875
   },
   "outputs": [],
   "execution_count": null
  },
  {
   "outputs": [
    {
     "data": {
      "text/plain": "<Figure size 864x720 with 1 Axes>",
      "image/png": "[encoded data removed]"
     },
     "metadata": {
      "needs_background": "light",
      "image/png": {
       "width": 745,
       "height": 604
      }
     },
     "output_type": "display_data"
    }
   ],
   "cell_type": "code",
   "source": "Title = 'Distribution  Plot of  Predicted Value Using Testing Data vs Data Distribution of Test Data'\nDistributionPlot(y_test, yhat_test, \"Actual Values (Train)\", \"Predicted Values (Train)\", Title)",
   "metadata": {
    "cell_id": "7c03d649bde845acba6f11c7db125050",
    "tags": [],
    "deepnote_to_be_reexecuted": false,
    "source_hash": "82d4309d",
    "execution_start": 1648045770188,
    "execution_millis": 349,
    "deepnote_cell_type": "code",
    "deepnote_cell_height": 721,
    "deepnote_output_heights": [
     606
    ]
   },
   "execution_count": 25
  },
  {
   "cell_type": "markdown",
   "source": "> Let's see if polynomial regression also exhibits a drop in the prediction accuracy when analysing the test dataset.",
   "metadata": {
    "cell_id": "ef55d4e9621e4421bb0bac2fd8c3809a",
    "tags": [],
    "deepnote_cell_type": "markdown",
    "deepnote_cell_height": 66.390625
   },
   "outputs": [],
   "execution_count": null
  },
  {
   "cell_type": "markdown",
   "source": "### Overfitting\n\nOverfitting occurs when the model fits the noise, but not the underlying process.",
   "metadata": {
    "cell_id": "c7674e200b28467cbc8fa2c2babffe12",
    "tags": [],
    "deepnote_cell_type": "markdown",
    "deepnote_cell_height": 100.390625
   },
   "outputs": [],
   "execution_count": null
  },
  {
   "cell_type": "code",
   "source": "# split our data using 55% to training\nx_train, x_test, y_train, y_test = train_test_split(x_data, y_data, test_size=0.45, random_state=0)\nprint('Numero of training data: {}'.format(x_train.shape[0]))\nprint('Numero of test data: {}'.format(x_test.shape[0]))",
   "metadata": {
    "cell_id": "f655ad0ada894bbc9505bd95fe5092e9",
    "tags": [],
    "deepnote_to_be_reexecuted": false,
    "source_hash": "87dd9d02",
    "execution_start": 1648046011137,
    "execution_millis": 16,
    "deepnote_cell_type": "code",
    "deepnote_cell_height": 186
   },
   "outputs": [
    {
     "name": "stdout",
     "text": "Numero of training data: 110\nNumero of test data: 91\n",
     "output_type": "stream"
    }
   ],
   "execution_count": 27
  },
  {
   "cell_type": "code",
   "source": "# perform a polynomial features degree 5 to 'horsepower'\n\n# create a polynomialfeatures object\npr = PolynomialFeatures(degree=5)\n# transform 'horsepower' in a polynomial degree 5 in array \nx_train_pr = pr.fit_transform(x_train[['horsepower']])\nx_test_pr = pr.fit_transform(x_test[['horsepower']])\npr",
   "metadata": {
    "cell_id": "9d46e21bf563483dbc8a85ae184565f1",
    "tags": [],
    "deepnote_to_be_reexecuted": false,
    "source_hash": "128319ea",
    "execution_start": 1648046454938,
    "execution_millis": 2,
    "deepnote_cell_type": "code",
    "deepnote_cell_height": 244.1875,
    "deepnote_output_heights": [
     21.1875
    ]
   },
   "outputs": [
    {
     "output_type": "execute_result",
     "execution_count": 35,
     "data": {
      "text/plain": "PolynomialFeatures(degree=5)"
     },
     "metadata": {}
    }
   ],
   "execution_count": 35
  },
  {
   "cell_type": "code",
   "source": "print(\"Shape x_train['horsepower']: 1\")\nprint(\"Shape x_train_pr: {}\".format(x_train_pr.shape[1]))",
   "metadata": {
    "cell_id": "a04462f7dee64476a8b45446efbfcb9d",
    "tags": [],
    "deepnote_to_be_reexecuted": false,
    "source_hash": "4e3061e4",
    "execution_start": 1648046532358,
    "execution_millis": 10,
    "deepnote_cell_type": "code",
    "deepnote_cell_height": 150,
    "deepnote_output_heights": [
     21.1875
    ]
   },
   "outputs": [
    {
     "name": "stdout",
     "text": "Shape x_train['horsepower']: 1\nShape x_train_pr: 6\n",
     "output_type": "stream"
    }
   ],
   "execution_count": 37
  },
  {
   "cell_type": "code",
   "source": "# we can see the first 5 rows\nx_train_pr[:5]",
   "metadata": {
    "cell_id": "ddd037528caf40c58e3eb746cea80a1e",
    "tags": [],
    "deepnote_to_be_reexecuted": false,
    "source_hash": "f0d1c9dd",
    "execution_start": 1648046563810,
    "execution_millis": 17,
    "deepnote_cell_type": "code",
    "deepnote_cell_height": 309,
    "deepnote_output_heights": [
     194
    ]
   },
   "outputs": [
    {
     "output_type": "execute_result",
     "execution_count": 38,
     "data": {
      "text/plain": "array([[1.00000000e+00, 1.01000000e+02, 1.02010000e+04, 1.03030100e+06,\n        1.04060401e+08, 1.05101005e+10],\n       [1.00000000e+00, 1.62000000e+02, 2.62440000e+04, 4.25152800e+06,\n        6.88747536e+08, 1.11577101e+11],\n       [1.00000000e+00, 6.80000000e+01, 4.62400000e+03, 3.14432000e+05,\n        2.13813760e+07, 1.45393357e+09],\n       [1.00000000e+00, 1.60000000e+02, 2.56000000e+04, 4.09600000e+06,\n        6.55360000e+08, 1.04857600e+11],\n       [1.00000000e+00, 5.20000000e+01, 2.70400000e+03, 1.40608000e+05,\n        7.31161600e+06, 3.80204032e+08]])"
     },
     "metadata": {}
    }
   ],
   "execution_count": 38
  },
  {
   "cell_type": "markdown",
   "source": "Now we are goint to create a LinearRegression model and train it",
   "metadata": {
    "cell_id": "fa764faeed9444c2a399debb3db70777",
    "tags": [],
    "deepnote_cell_type": "markdown",
    "deepnote_cell_height": 52.390625
   },
   "outputs": [],
   "execution_count": null
  },
  {
   "cell_type": "code",
   "source": "# create our LinearRegression object\npoly = LinearRegression()\n# fit with our fitted transform of the training data: x_train_pr\npoly.fit(x_train_pr,y_train)",
   "metadata": {
    "cell_id": "15d035e1997249d29546554b6b8b9f65",
    "tags": [],
    "deepnote_to_be_reexecuted": false,
    "source_hash": "7314319a",
    "execution_start": 1648046748854,
    "execution_millis": 17,
    "deepnote_cell_type": "code",
    "deepnote_cell_height": 172.1875,
    "deepnote_output_heights": [
     21.1875
    ]
   },
   "outputs": [
    {
     "output_type": "execute_result",
     "execution_count": 39,
     "data": {
      "text/plain": "LinearRegression()"
     },
     "metadata": {}
    }
   ],
   "execution_count": 39
  },
  {
   "cell_type": "code",
   "source": "# now we predict our model using test data\nyhat = poly.predict(x_test_pr)\nyhat[:5]",
   "metadata": {
    "cell_id": "974ab2ca1c3347079299e27f5187cebf",
    "tags": [],
    "deepnote_to_be_reexecuted": false,
    "source_hash": "8d2e362c",
    "execution_start": 1648046804364,
    "execution_millis": 20,
    "deepnote_cell_type": "code",
    "deepnote_cell_height": 173.375,
    "deepnote_output_heights": [
     40.390625
    ]
   },
   "outputs": [
    {
     "output_type": "execute_result",
     "execution_count": 41,
     "data": {
      "text/plain": "array([ 6728.65561887,  7307.98782321, 12213.78770965, 18893.24804015,\n       19995.95195136])"
     },
     "metadata": {}
    }
   ],
   "execution_count": 41
  },
  {
   "cell_type": "code",
   "source": "# we can compare the first predict values\nprint('Test data:', y_test[:5].values)\nprint('Predicted test data:', yhat[:5])",
   "metadata": {
    "cell_id": "ffff20dbc911448dba1dc6601718c342",
    "tags": [],
    "deepnote_to_be_reexecuted": false,
    "source_hash": "8a35706",
    "execution_start": 1648046927814,
    "execution_millis": 3,
    "deepnote_cell_type": "code",
    "deepnote_cell_height": 188
   },
   "outputs": [
    {
     "name": "stdout",
     "text": "Test data: [ 6295. 10698. 13860. 13499. 15750.]\nPredicted test data: [ 6728.65561887  7307.98782321 12213.78770965 18893.24804015\n 19995.95195136]\n",
     "output_type": "stream"
    }
   ],
   "execution_count": 45
  },
  {
   "cell_type": "markdown",
   "source": "> A polynomial regression model where red dots represent training data, green dots represent test data, and the blue line represents the model prediction.",
   "metadata": {
    "cell_id": "b8233f943df1453ab65570112555535b",
    "tags": [],
    "deepnote_cell_type": "markdown",
    "deepnote_cell_height": 88.796875
   }
  },
  {
   "cell_type": "code",
   "source": "# we display our result to appreciate training data, testing data and predicted function\n\n# x_train, y_train: training data \n# x_test, y_test: testing data \n# lr: linear regression object \n# poly_transform: polynomial transformation object\nPollyPlot(x_train[['horsepower']], x_test[['horsepower']], y_train, y_test, poly, pr)",
   "metadata": {
    "cell_id": "b4993c870e4640f686a351602ccf9b8a",
    "tags": [],
    "deepnote_to_be_reexecuted": false,
    "source_hash": "badbe1bb",
    "execution_start": 1648047096106,
    "execution_millis": 643,
    "deepnote_cell_type": "code",
    "deepnote_cell_height": 785,
    "deepnote_output_heights": [
     580
    ]
   },
   "outputs": [
    {
     "data": {
      "text/plain": "<Figure size 864x720 with 1 Axes>",
      "image/png": "[encoded data removed]"
     },
     "metadata": {
      "needs_background": "light",
      "image/png": {
       "width": 744,
       "height": 578
      }
     },
     "output_type": "display_data"
    }
   ],
   "execution_count": 47
  },
  {
   "cell_type": "markdown",
   "source": "The lower the R^2, the worse the model. A negative R^2 is a sign of **overfitting**.",
   "metadata": {
    "cell_id": "3583fb53ce25497f82d052cb5b51aaa7",
    "tags": [],
    "deepnote_cell_type": "markdown",
    "deepnote_cell_height": 52.390625
   }
  },
  {
   "cell_type": "code",
   "source": "# now r^2 of the training data\npoly.score(x_train_pr, y_train)",
   "metadata": {
    "cell_id": "83c80dbd22484b2fa1d5328c58128a93",
    "tags": [],
    "deepnote_to_be_reexecuted": false,
    "source_hash": "38e4ba03",
    "execution_start": 1648047370511,
    "execution_millis": 16,
    "deepnote_cell_type": "code",
    "deepnote_cell_height": 136.1875,
    "deepnote_output_heights": [
     21.1875
    ]
   },
   "outputs": [
    {
     "output_type": "execute_result",
     "execution_count": 48,
     "data": {
      "text/plain": "0.556771690212023"
     },
     "metadata": {}
    }
   ],
   "execution_count": 48
  },
  {
   "cell_type": "code",
   "source": "# r^2 of the test data\npoly.score(x_test_pr, y_test)",
   "metadata": {
    "cell_id": "476e4b6740a042dba20e15266ef66489",
    "tags": [],
    "deepnote_to_be_reexecuted": false,
    "source_hash": "34a1a478",
    "execution_start": 1648047395885,
    "execution_millis": 83,
    "deepnote_cell_type": "code",
    "deepnote_cell_height": 136.1875,
    "deepnote_output_heights": [
     21.1875
    ]
   },
   "outputs": [
    {
     "output_type": "execute_result",
     "execution_count": 49,
     "data": {
      "text/plain": "-29.87134030204415"
     },
     "metadata": {}
    }
   ],
   "execution_count": 49
  },
  {
   "cell_type": "markdown",
   "source": "Let's see how the R^2 changes on the test data for different order polynomials and then plot the results",
   "metadata": {
    "cell_id": "f33975c93325436babfca7baf2dfd50f",
    "tags": [],
    "deepnote_cell_type": "markdown",
    "deepnote_cell_height": 52.390625
   },
   "outputs": [],
   "execution_count": null
  },
  {
   "cell_type": "code",
   "source": "# to save or r^2\nRsqu_test = []\n\n# craete an array of orders\norder = [1, 2, 3, 4]\n\nfor n in order:\n    pr = PolynomialFeatures(degree=n)\n    x_train_pr = pr.fit_transform(x_train[['horsepower']])\n    x_test_pr = pr.fit_transform(x_test[['horsepower']])\n\n    lr = LinearRegression()\n    lr.fit(x_train_pr, y_train)\n\n    r_score = lr.score(x_test_pr, y_test)\n    Rsqu_test.append(r_score)\n\n# now plot our result\nplt.plot(order, Rsqu_test)\n\nplt.xlabel('order')\nplt.ylabel('R^2')\nplt.title('R^2 Using Test Data')\nplt.text(3, 0.74, 'Maximum R^2 ')\nplt.show()",
   "metadata": {
    "cell_id": "0d83cbdde0ef42369cc8fb8203ca193a",
    "tags": [],
    "deepnote_to_be_reexecuted": false,
    "source_hash": "9dd27cab",
    "execution_start": 1648048231636,
    "execution_millis": 473,
    "deepnote_cell_type": "code",
    "deepnote_cell_height": 809,
    "deepnote_output_heights": [
     280
    ]
   },
   "outputs": [
    {
     "data": {
      "text/plain": "<Figure size 432x288 with 1 Axes>",
      "image/png": "[encoded data removed]"
     },
     "metadata": {
      "needs_background": "light",
      "image/png": {
       "width": 392,
       "height": 278
      }
     },
     "output_type": "display_data"
    }
   ],
   "execution_count": 60
  },
  {
   "cell_type": "markdown",
   "source": "> We see the R^2 gradually increases until an order three polynomial is used. Then, the R^2 dramatically decreases at an order four polynomial.",
   "metadata": {
    "cell_id": "73409715758a42018dc0428b35631e46",
    "tags": [],
    "deepnote_cell_type": "markdown",
    "deepnote_cell_height": 88.796875
   },
   "outputs": [],
   "execution_count": null
  },
  {
   "outputs": [],
   "execution_count": null,
   "cell_type": "markdown",
   "source": "### Ridge Regression\n\nRidge Regression see how the parameter alpha changes the model. Just a note, here our test data will be used as validation data.",
   "metadata": {
    "cell_id": "7a88256823ff4d349e611392f85565cd",
    "tags": [],
    "deepnote_cell_type": "markdown",
    "deepnote_cell_height": 100.390625
   }
  },
  {
   "outputs": [],
   "execution_count": 62,
   "cell_type": "code",
   "source": "# Let's perform a degree two polynomial transformation on our data\n\npr = PolynomialFeatures(degree=2)\n\nx_train_pr = pr.fit_transform(x_train[['horsepower', 'curb-weight', 'engine-size', 'highway-mpg','normalized-losses','symboling']])\nx_test_pr = pr.fit_transform(x_test[['horsepower', 'curb-weight', 'engine-size', 'highway-mpg','normalized-losses','symboling']])",
   "metadata": {
    "cell_id": "564500b08bc640feaec1659822b11593",
    "tags": [],
    "deepnote_to_be_reexecuted": false,
    "source_hash": "1ba4c3ad",
    "execution_start": 1648048838254,
    "execution_millis": 0,
    "deepnote_cell_type": "code",
    "deepnote_cell_height": 171
   }
  },
  {
   "cell_type": "code",
   "source": "# create a Ridge regression object setting our regularization parameter alpha = 0.1\nRidgeModel = Ridge(alpha=0.1)\nRidgeModel",
   "metadata": {
    "cell_id": "d713aa3ee5a2472ebc025cbbe0903bbe",
    "tags": [],
    "deepnote_to_be_reexecuted": false,
    "source_hash": "fdae4bb7",
    "execution_start": 1648048966199,
    "execution_millis": 11,
    "deepnote_cell_type": "code",
    "deepnote_cell_height": 154.1875,
    "deepnote_output_heights": [
     21.1875
    ]
   },
   "outputs": [
    {
     "output_type": "execute_result",
     "execution_count": 64,
     "data": {
      "text/plain": "Ridge(alpha=0.1)"
     },
     "metadata": {}
    }
   ],
   "execution_count": 64
  },
  {
   "cell_type": "code",
   "source": "# we can fit\nRidgeModel.fit(x_train_pr, y_train)",
   "metadata": {
    "cell_id": "ba08796fcd2a475e82d1a98d50555dc4",
    "tags": [],
    "deepnote_to_be_reexecuted": false,
    "source_hash": "9633196f",
    "execution_start": 1648048988192,
    "execution_millis": 10,
    "deepnote_cell_type": "code",
    "deepnote_cell_height": 206.984375,
    "deepnote_output_heights": [
     null,
     21.1875
    ]
   },
   "outputs": [
    {
     "name": "stderr",
     "text": "/shared-libs/python3.7/py/lib/python3.7/site-packages/sklearn/linear_model/_ridge.py:157: LinAlgWarning: Ill-conditioned matrix (rcond=1.02972e-16): result may not be accurate.\n  return linalg.solve(A, Xy, sym_pos=True, overwrite_a=True).T\n",
     "output_type": "stream"
    },
    {
     "output_type": "execute_result",
     "execution_count": 65,
     "data": {
      "text/plain": "Ridge(alpha=0.1)"
     },
     "metadata": {}
    }
   ],
   "execution_count": 65
  },
  {
   "cell_type": "code",
   "source": "# we can obtein a prediction\nyhat = RidgeModel.predict(x_test_pr)",
   "metadata": {
    "cell_id": "bae65beacbd4485381ea6afee30bce8c",
    "tags": [],
    "deepnote_to_be_reexecuted": false,
    "source_hash": "9861911f",
    "execution_start": 1648049029671,
    "execution_millis": 1,
    "deepnote_cell_type": "code",
    "deepnote_cell_height": 99
   },
   "outputs": [],
   "execution_count": 66
  },
  {
   "cell_type": "code",
   "source": "# compare our fist 5 values of our test data\nprint('Test data:', y_test[:4].values)\nprint('Predicted Test data:', yhat[:4])",
   "metadata": {
    "cell_id": "279de1cc581f4a15b1b861f9d2ba0591",
    "tags": [],
    "deepnote_to_be_reexecuted": false,
    "source_hash": "e4258ee5",
    "execution_start": 1648049083537,
    "execution_millis": 21,
    "deepnote_cell_type": "code",
    "deepnote_cell_height": 168
   },
   "outputs": [
    {
     "name": "stdout",
     "text": "Test data: [ 6295. 10698. 13860. 13499.]\nPredicted Test data: [ 6567.83081933  9597.97151399 20836.22326843 19347.69543463]\n",
     "output_type": "stream"
    }
   ],
   "execution_count": 67
  },
  {
   "cell_type": "code",
   "source": "# we can get the score\nRidgeModel.score(x_test_pr, y_test)",
   "metadata": {
    "cell_id": "49dc20019c2640f79968e5e2fe03731c",
    "tags": [],
    "deepnote_to_be_reexecuted": false,
    "source_hash": "5d35ee6d",
    "execution_start": 1648049132271,
    "execution_millis": 15,
    "deepnote_cell_type": "code",
    "deepnote_cell_height": 136.1875,
    "deepnote_output_heights": [
     21.1875
    ]
   },
   "outputs": [
    {
     "output_type": "execute_result",
     "execution_count": 68,
     "data": {
      "text/plain": "0.5267273867505697"
     },
     "metadata": {}
    }
   ],
   "execution_count": 68
  },
  {
   "cell_type": "markdown",
   "source": "### Grid Search\n\nThe term alpha is a hyperparameter. Sklearn has the class GridSearchCV to make the process of finding the best hyperparameter simpler.",
   "metadata": {
    "cell_id": "bd456fbc5ac34b65af07d13d5ff05040",
    "tags": [],
    "deepnote_cell_type": "markdown",
    "deepnote_cell_height": 100.390625
   },
   "outputs": [],
   "execution_count": null
  },
  {
   "cell_type": "code",
   "source": "# first we create an array of a dictionary of parameter values\nparameters = [{'alpha': [0.001, 0.1, 1, 10, 100, 1000, 10000, 100000, 100000]}]\nparameters",
   "metadata": {
    "cell_id": "647779a122154da796ff654c92f701a6",
    "tags": [],
    "deepnote_to_be_reexecuted": false,
    "source_hash": "eee97f4a",
    "execution_start": 1648049282049,
    "execution_millis": 20,
    "deepnote_cell_type": "code",
    "deepnote_cell_height": 154.1875,
    "deepnote_output_heights": [
     21.1875
    ]
   },
   "outputs": [
    {
     "output_type": "execute_result",
     "execution_count": 71,
     "data": {
      "text/plain": "[{'alpha': [0.001, 0.1, 1, 10, 100, 1000, 10000, 100000, 100000]}]"
     },
     "metadata": {}
    }
   ],
   "execution_count": 71
  },
  {
   "cell_type": "code",
   "source": "# create a ridge regression model\nRR = Ridge()",
   "metadata": {
    "cell_id": "e366bdb941ad4d9ab092b4a70aefc0ed",
    "tags": [],
    "deepnote_to_be_reexecuted": false,
    "source_hash": "8e2a1634",
    "execution_start": 1648049301505,
    "execution_millis": 1,
    "deepnote_cell_type": "code",
    "deepnote_cell_height": 99
   },
   "outputs": [],
   "execution_count": 72
  },
  {
   "cell_type": "code",
   "source": "# create a grid search object\nGrid = GridSearchCV(RR, parameters, cv = 4)",
   "metadata": {
    "cell_id": "9021d20c007c425b81c1fae8144cb74b",
    "tags": [],
    "deepnote_to_be_reexecuted": false,
    "source_hash": "d256ef0f",
    "execution_start": 1648049372332,
    "execution_millis": 4,
    "deepnote_cell_type": "code",
    "deepnote_cell_height": 99
   },
   "outputs": [],
   "execution_count": 74
  },
  {
   "cell_type": "code",
   "source": "# fit our model\nGrid.fit(x_data[['horsepower', 'curb-weight', 'engine-size', 'highway-mpg']], y_data)",
   "metadata": {
    "cell_id": "34722a07896f459c945109da46ce762b",
    "tags": [],
    "deepnote_to_be_reexecuted": false,
    "source_hash": "e18fbd00",
    "execution_start": 1648049392310,
    "execution_millis": 465,
    "deepnote_cell_type": "code",
    "deepnote_cell_height": 174.578125,
    "deepnote_output_heights": [
     59.59375
    ]
   },
   "outputs": [
    {
     "output_type": "execute_result",
     "execution_count": 76,
     "data": {
      "text/plain": "GridSearchCV(cv=4, estimator=Ridge(),\n             param_grid=[{'alpha': [0.001, 0.1, 1, 10, 100, 1000, 10000, 100000,\n                                    100000]}])"
     },
     "metadata": {}
    }
   ],
   "execution_count": 76
  },
  {
   "cell_type": "markdown",
   "source": "The object finds the best parameter values on the validation data. We can obtain the estimator with the best parameters and assign it to the variable",
   "metadata": {
    "cell_id": "4e7f53594de24b2d904a57f08113ef04",
    "tags": [],
    "deepnote_cell_type": "markdown",
    "deepnote_cell_height": 74.796875
   },
   "outputs": [],
   "execution_count": null
  },
  {
   "cell_type": "code",
   "source": "BestRR = Grid.best_estimator_\nBestRR",
   "metadata": {
    "cell_id": "2f0ad4db55fe498d8c2ebb007a7ab59e",
    "tags": [],
    "deepnote_to_be_reexecuted": false,
    "source_hash": "a22387c7",
    "execution_start": 1648049435174,
    "execution_millis": 25,
    "deepnote_cell_type": "code",
    "deepnote_cell_height": 136.1875,
    "deepnote_output_heights": [
     21.1875
    ]
   },
   "outputs": [
    {
     "output_type": "execute_result",
     "execution_count": 78,
     "data": {
      "text/plain": "Ridge(alpha=10000)"
     },
     "metadata": {}
    }
   ],
   "execution_count": 78
  },
  {
   "cell_type": "code",
   "source": "BestRR.score(x_test[['horsepower', 'curb-weight', 'engine-size', 'highway-mpg']], y_test)",
   "metadata": {
    "cell_id": "19aa58b98eeb46679b10ad8e687810db",
    "tags": [],
    "deepnote_to_be_reexecuted": false,
    "source_hash": "ddc2d5b0",
    "execution_start": 1648049443466,
    "execution_millis": 12,
    "deepnote_cell_type": "code",
    "deepnote_cell_height": 118.1875,
    "deepnote_output_heights": [
     21.1875
    ]
   },
   "outputs": [
    {
     "output_type": "execute_result",
     "execution_count": 79,
     "data": {
      "text/plain": "0.8411649831036151"
     },
     "metadata": {}
    }
   ],
   "execution_count": 79
  },
  {
   "cell_type": "markdown",
   "source": "<a style='text-decoration:none;line-height:16px;display:flex;color:#5B5B62;padding:10px;justify-content:end;' href='https://deepnote.com?utm_source=created-in-deepnote-cell&projectId=fabb4e41-fcd2-4421-bbfb-772986975631' target=\"_blank\">\n<img alt='Created in deepnote.com' style='display:inline;max-height:16px;margin:0px;margin-right:7.5px;' src='data:image/svg+xml;base64,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' > </img>\nCreated in <span style='font-weight:600;margin-left:4px;'>Deepnote</span></a>",
   "metadata": {
    "tags": [],
    "created_in_deepnote_cell": true,
    "deepnote_cell_type": "markdown"
   }
  }
 ],
 "nbformat": 4,
 "nbformat_minor": 2,
 "metadata": {
  "orig_nbformat": 2,
  "deepnote": {
   "is_reactive": false
  },
  "deepnote_notebook_id": "e7330fb9-ccde-442a-b754-ee82428ded05",
  "deepnote_execution_queue": []
 }
}